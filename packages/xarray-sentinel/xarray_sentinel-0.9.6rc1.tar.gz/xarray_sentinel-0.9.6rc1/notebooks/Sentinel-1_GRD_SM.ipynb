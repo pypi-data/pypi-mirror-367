{
 "cells": [
  {
   "cell_type": "code",
   "execution_count": null,
   "id": "62bc62b4",
   "metadata": {},
   "outputs": [],
   "source": [
    "%load_ext autoreload\n",
    "%autoreload 2\n",
    "\n",
    "%matplotlib inline\n",
    "%config InlineBackend.figure_format = 'retina'\n",
    "\n",
    "import matplotlib.pyplot as plt\n",
    "\n",
    "plt.rcParams[\"figure.figsize\"] = (12, 8)\n",
    "plt.rcParams[\"font.size\"] = 12"
   ]
  },
  {
   "cell_type": "code",
   "execution_count": null,
   "id": "1e5120fa",
   "metadata": {},
   "outputs": [],
   "source": [
    "import xarray as xr\n",
    "\n",
    "import xarray_sentinel"
   ]
  },
  {
   "cell_type": "code",
   "execution_count": null,
   "id": "7776d0c7",
   "metadata": {},
   "outputs": [],
   "source": [
    "# uncomment download the data\n",
    "#! DHUS_USER=<user> DHUS_PASSWORD=<password> ./download_data.sh"
   ]
  },
  {
   "cell_type": "code",
   "execution_count": null,
   "id": "3b066268",
   "metadata": {},
   "outputs": [],
   "source": [
    "product_path = (\n",
    "    \"data/S1B_S6_GRDH_1SDV_20211216T115438_20211216T115501_030050_03968A_0F8A.SAFE\"\n",
    ")\n",
    "swath_group = \"S6\"\n",
    "swath_polarisation_group = \"S6/VV\"\n",
    "measurement_group = \"S6/VV\"\n",
    "measurement_block_slices = (slice(4096, 6144), slice(None, 2048))\n",
    "digital_number_max = 150\n",
    "\n",
    "!ls -d {product_path}"
   ]
  },
  {
   "cell_type": "code",
   "execution_count": null,
   "id": "f42e4c16",
   "metadata": {},
   "outputs": [],
   "source": [
    "xr.open_dataset(product_path, engine=\"sentinel-1\")"
   ]
  },
  {
   "cell_type": "code",
   "execution_count": null,
   "id": "8e8511e2",
   "metadata": {},
   "outputs": [],
   "source": [
    "xr.open_dataset(product_path, engine=\"sentinel-1\", group=swath_group)"
   ]
  },
  {
   "cell_type": "code",
   "execution_count": null,
   "id": "d5774952",
   "metadata": {},
   "outputs": [],
   "source": [
    "xr.open_dataset(product_path, engine=\"sentinel-1\", group=swath_polarisation_group)"
   ]
  },
  {
   "cell_type": "code",
   "execution_count": null,
   "id": "2c39574d",
   "metadata": {},
   "outputs": [],
   "source": [
    "measurement = xr.open_dataset(\n",
    "    product_path, engine=\"sentinel-1\", group=measurement_group, chunks=2048\n",
    ")\n",
    "measurement"
   ]
  },
  {
   "cell_type": "code",
   "execution_count": null,
   "id": "ca1eea3a",
   "metadata": {},
   "outputs": [],
   "source": [
    "measurement_block = measurement.measurement[measurement_block_slices]\n",
    "measurement_block"
   ]
  },
  {
   "cell_type": "code",
   "execution_count": null,
   "id": "afae99bf",
   "metadata": {
    "scrolled": false
   },
   "outputs": [],
   "source": [
    "_ = abs(measurement_block).plot(y=\"azimuth_time\", vmax=digital_number_max)"
   ]
  },
  {
   "cell_type": "code",
   "execution_count": null,
   "id": "3d231b4a",
   "metadata": {},
   "outputs": [],
   "source": [
    "gcp = xr.open_dataset(\n",
    "    product_path, engine=\"sentinel-1\", group=f\"{swath_polarisation_group}/gcp\"\n",
    ")\n",
    "gcp"
   ]
  },
  {
   "cell_type": "code",
   "execution_count": null,
   "id": "b500c2c3",
   "metadata": {},
   "outputs": [],
   "source": [
    "_ = gcp.height.plot(y=\"azimuth_time\")"
   ]
  },
  {
   "cell_type": "code",
   "execution_count": null,
   "id": "ce6541ea",
   "metadata": {},
   "outputs": [],
   "source": [
    "_ = gcp.plot.scatter(x=\"longitude\", y=\"latitude\", hue=\"height\")"
   ]
  },
  {
   "cell_type": "code",
   "execution_count": null,
   "id": "f27e0e78",
   "metadata": {},
   "outputs": [],
   "source": [
    "orbit = xr.open_dataset(\n",
    "    product_path, engine=\"sentinel-1\", group=f\"{swath_polarisation_group}/orbit\"\n",
    ")\n",
    "orbit"
   ]
  },
  {
   "cell_type": "code",
   "execution_count": null,
   "id": "38904b43",
   "metadata": {},
   "outputs": [],
   "source": [
    "orbit.plot.scatter(y=\"azimuth_time\", x=\"position\", hue=\"velocity\")"
   ]
  },
  {
   "cell_type": "code",
   "execution_count": null,
   "id": "97430f6a",
   "metadata": {},
   "outputs": [],
   "source": [
    "calibration = xr.open_dataset(\n",
    "    product_path, engine=\"sentinel-1\", group=f\"{swath_polarisation_group}/calibration\"\n",
    ")\n",
    "calibration"
   ]
  },
  {
   "cell_type": "code",
   "execution_count": null,
   "id": "79e6022b",
   "metadata": {},
   "outputs": [],
   "source": [
    "# betaNought and dn calibration are typically constat\n",
    "print(calibration.betaNought.mean().item(), \"+-\", calibration.betaNought.std().item())\n",
    "print(calibration.dn.mean().item(), \"+-\", calibration.dn.std().item())"
   ]
  },
  {
   "cell_type": "code",
   "execution_count": null,
   "id": "1337f73a",
   "metadata": {},
   "outputs": [],
   "source": [
    "_ = calibration.sigmaNought.plot(x=\"pixel\")"
   ]
  },
  {
   "cell_type": "code",
   "execution_count": null,
   "id": "2e056095",
   "metadata": {},
   "outputs": [],
   "source": [
    "_ = calibration.gamma.plot(x=\"pixel\")"
   ]
  },
  {
   "cell_type": "code",
   "execution_count": null,
   "id": "c9e54759",
   "metadata": {},
   "outputs": [],
   "source": [
    "betaNought_block = xarray_sentinel.calibrate_amplitude(\n",
    "    measurement_block, calibration.betaNought\n",
    ")\n",
    "betaNought_block"
   ]
  },
  {
   "cell_type": "code",
   "execution_count": null,
   "id": "27f3b95c",
   "metadata": {},
   "outputs": [],
   "source": [
    "_ = abs(betaNought_block).plot(y=\"azimuth_time\", vmax=1)"
   ]
  },
  {
   "cell_type": "code",
   "execution_count": null,
   "id": "41087cca",
   "metadata": {},
   "outputs": [],
   "source": [
    "betaNought_block_db = xarray_sentinel.calibrate_intensity(\n",
    "    measurement_block,\n",
    "    calibration.betaNought,\n",
    "    as_db=True,\n",
    ")\n",
    "betaNought_block_db"
   ]
  },
  {
   "cell_type": "code",
   "execution_count": null,
   "id": "271e3908",
   "metadata": {},
   "outputs": [],
   "source": [
    "_ = betaNought_block_db.plot(y=\"azimuth_time\", vmin=-20, vmax=5)"
   ]
  },
  {
   "cell_type": "code",
   "execution_count": null,
   "id": "2aae5912",
   "metadata": {},
   "outputs": [],
   "source": [
    "noise_range = xr.open_dataset(\n",
    "    product_path, engine=\"sentinel-1\", group=f\"{swath_polarisation_group}/noise_range\"\n",
    ")\n",
    "noise_range"
   ]
  },
  {
   "cell_type": "code",
   "execution_count": null,
   "id": "c357a9de",
   "metadata": {},
   "outputs": [],
   "source": [
    "_ = noise_range.noiseRangeLut.plot(x=\"pixel\")"
   ]
  },
  {
   "cell_type": "code",
   "execution_count": null,
   "id": "5ebe2a71",
   "metadata": {},
   "outputs": [],
   "source": [
    "noise_azimuth = xr.open_dataset(\n",
    "    product_path, engine=\"sentinel-1\", group=f\"{swath_polarisation_group}/noise_azimuth\"\n",
    ")\n",
    "noise_azimuth"
   ]
  },
  {
   "cell_type": "code",
   "execution_count": null,
   "id": "75c40bce",
   "metadata": {},
   "outputs": [],
   "source": [
    "# _ = noise_azimuth.plot.scatter(x=\"line\", y=\"noiseAzimuthLut\")"
   ]
  },
  {
   "cell_type": "code",
   "execution_count": null,
   "id": "93333920",
   "metadata": {},
   "outputs": [],
   "source": [
    "coordinate_conversion = xr.open_dataset(\n",
    "    product_path,\n",
    "    engine=\"sentinel-1\",\n",
    "    group=f\"{swath_polarisation_group}/coordinate_conversion\",\n",
    ")\n",
    "coordinate_conversion"
   ]
  },
  {
   "cell_type": "code",
   "execution_count": null,
   "id": "77578300",
   "metadata": {},
   "outputs": [],
   "source": [
    "xr.open_dataset(\n",
    "    product_path, engine=\"sentinel-1\", group=f\"{swath_polarisation_group}/attitude\"\n",
    ")"
   ]
  },
  {
   "cell_type": "code",
   "execution_count": null,
   "id": "f98e156a",
   "metadata": {},
   "outputs": [],
   "source": [
    "xr.open_dataset(\n",
    "    product_path, engine=\"sentinel-1\", group=f\"{swath_polarisation_group}/dc_estimate\"\n",
    ")"
   ]
  },
  {
   "cell_type": "code",
   "execution_count": null,
   "id": "910c5ab9",
   "metadata": {},
   "outputs": [],
   "source": [
    "xr.open_dataset(\n",
    "    product_path,\n",
    "    engine=\"sentinel-1\",\n",
    "    group=f\"{swath_polarisation_group}/azimuth_fm_rate\",\n",
    ")"
   ]
  },
  {
   "cell_type": "code",
   "execution_count": null,
   "id": "900a6d9c",
   "metadata": {},
   "outputs": [],
   "source": []
  }
 ],
 "metadata": {
  "kernelspec": {
   "display_name": "Python 3",
   "language": "python",
   "name": "python3"
  },
  "language_info": {
   "codemirror_mode": {
    "name": "ipython",
    "version": 3
   },
   "file_extension": ".py",
   "mimetype": "text/x-python",
   "name": "python",
   "nbconvert_exporter": "python",
   "pygments_lexer": "ipython3",
   "version": "3.9.10"
  }
 },
 "nbformat": 4,
 "nbformat_minor": 5
}
