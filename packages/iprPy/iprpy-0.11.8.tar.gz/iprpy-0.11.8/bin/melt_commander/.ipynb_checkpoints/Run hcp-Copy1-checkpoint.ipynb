{
 "cells": [
  {
   "cell_type": "markdown",
   "id": "03fb6613-22cc-47d6-b61c-16475621b1c3",
   "metadata": {},
   "source": [
    "# Run all hcp"
   ]
  },
  {
   "cell_type": "code",
   "execution_count": 1,
   "id": "be2c722b-e434-4085-bbcf-554620d56c1a",
   "metadata": {},
   "outputs": [],
   "source": [
    "import iprPy\n",
    "import atomman as am\n",
    "\n",
    "from MeltCommander import MeltCommander\n",
    "\n",
    "import pandas as pd"
   ]
  },
  {
   "cell_type": "markdown",
   "id": "4c7c4ca9-ed2b-4cd1-8db9-b264887aac48",
   "metadata": {},
   "source": [
    "Load hcp structure info"
   ]
  },
  {
   "cell_type": "code",
   "execution_count": 2,
   "id": "3eb1e772-dc98-46a9-aca6-eb8584145a64",
   "metadata": {},
   "outputs": [],
   "source": [
    "hcp_props = pd.read_csv('Melting_temperatures_hcp.csv')"
   ]
  },
  {
   "cell_type": "markdown",
   "id": "85ad437b-5480-46a1-a9f0-d8fec322ea13",
   "metadata": {},
   "source": [
    "Check for duplicate entries"
   ]
  },
  {
   "cell_type": "code",
   "execution_count": 3,
   "id": "f30c129b-b980-4ef0-80d4-208c4b173321",
   "metadata": {},
   "outputs": [],
   "source": [
    "for i in hcp_props.index[:-1]:\n",
    "    series0 = hcp_props.loc[i]\n",
    "    series1 = hcp_props.loc[i+1]\n",
    "    if ((series0.potential_LAMMPS_id == series1.potential_LAMMPS_id) &\n",
    "        (series0.composition == series1.composition)):\n",
    "        print(series0.to_dict())\n",
    "        print(series1.to_dict())\n",
    "        print()"
   ]
  },
  {
   "cell_type": "markdown",
   "id": "04404545-8259-4d98-9408-669f0cd4cab9",
   "metadata": {},
   "source": [
    "## Simulation settings"
   ]
  },
  {
   "cell_type": "code",
   "execution_count": 4,
   "id": "6d283cf6-eada-446d-bd92-3f80c783dae9",
   "metadata": {},
   "outputs": [],
   "source": [
    "database = 'master'\n",
    "lammps_command = '/home/lmh1/LAMMPS/2022-06-23/src/lmp_serial'\n",
    "run_directory = 'master_4'\n",
    "\n",
    "min_temperature = 50\n",
    "max_temperature = 9000\n",
    "alat_mult = 1.03\n",
    "max_melts = 10\n",
    "max_runs = 35"
   ]
  },
  {
   "cell_type": "code",
   "execution_count": 5,
   "id": "bd776daa-1059-4012-a87e-d2b509256887",
   "metadata": {},
   "outputs": [
    {
     "data": {
      "text/html": [
       "<div>\n",
       "<style scoped>\n",
       "    .dataframe tbody tr th:only-of-type {\n",
       "        vertical-align: middle;\n",
       "    }\n",
       "\n",
       "    .dataframe tbody tr th {\n",
       "        vertical-align: top;\n",
       "    }\n",
       "\n",
       "    .dataframe thead th {\n",
       "        text-align: right;\n",
       "    }\n",
       "</style>\n",
       "<table border=\"1\" class=\"dataframe\">\n",
       "  <thead>\n",
       "    <tr style=\"text-align: right;\">\n",
       "      <th></th>\n",
       "      <th>potential_LAMMPS_id</th>\n",
       "      <th>composition</th>\n",
       "      <th>a</th>\n",
       "      <th>Epot (eV/atom)</th>\n",
       "    </tr>\n",
       "  </thead>\n",
       "  <tbody>\n",
       "    <tr>\n",
       "      <th>0</th>\n",
       "      <td>1986--Foiles-S-M--Ag--LAMMPS--ipr1</td>\n",
       "      <td>Ag</td>\n",
       "      <td>2.892481</td>\n",
       "      <td>-2.849670</td>\n",
       "    </tr>\n",
       "    <tr>\n",
       "      <th>1</th>\n",
       "      <td>1986--Foiles-S-M--Ag-Au-Cu-Ni-Pd-Pt--LAMMPS--ipr1</td>\n",
       "      <td>Ag</td>\n",
       "      <td>2.892481</td>\n",
       "      <td>-2.849670</td>\n",
       "    </tr>\n",
       "    <tr>\n",
       "      <th>2</th>\n",
       "      <td>1986--Foiles-S-M--Ag-Au-Cu-Ni-Pd-Pt--LAMMPS--ipr1</td>\n",
       "      <td>Au</td>\n",
       "      <td>2.886388</td>\n",
       "      <td>-3.928946</td>\n",
       "    </tr>\n",
       "    <tr>\n",
       "      <th>3</th>\n",
       "      <td>1986--Foiles-S-M--Ag-Au-Cu-Ni-Pd-Pt--LAMMPS--ipr1</td>\n",
       "      <td>Cu</td>\n",
       "      <td>2.556979</td>\n",
       "      <td>-3.536928</td>\n",
       "    </tr>\n",
       "    <tr>\n",
       "      <th>4</th>\n",
       "      <td>1986--Foiles-S-M--Ag-Au-Cu-Ni-Pd-Pt--LAMMPS--ipr1</td>\n",
       "      <td>Ni</td>\n",
       "      <td>2.489294</td>\n",
       "      <td>-4.447602</td>\n",
       "    </tr>\n",
       "    <tr>\n",
       "      <th>5</th>\n",
       "      <td>1986--Foiles-S-M--Ag-Au-Cu-Ni-Pd-Pt--LAMMPS--ipr1</td>\n",
       "      <td>Pd</td>\n",
       "      <td>2.752135</td>\n",
       "      <td>-3.906982</td>\n",
       "    </tr>\n",
       "    <tr>\n",
       "      <th>6</th>\n",
       "      <td>1986--Foiles-S-M--Ag-Au-Cu-Ni-Pd-Pt--LAMMPS--ipr1</td>\n",
       "      <td>Pt</td>\n",
       "      <td>2.769028</td>\n",
       "      <td>-5.767002</td>\n",
       "    </tr>\n",
       "    <tr>\n",
       "      <th>7</th>\n",
       "      <td>1986--Foiles-S-M--Au--LAMMPS--ipr1</td>\n",
       "      <td>Au</td>\n",
       "      <td>2.886388</td>\n",
       "      <td>-3.928946</td>\n",
       "    </tr>\n",
       "    <tr>\n",
       "      <th>8</th>\n",
       "      <td>1986--Foiles-S-M--Cu--LAMMPS--ipr1</td>\n",
       "      <td>Cu</td>\n",
       "      <td>2.556979</td>\n",
       "      <td>-3.536928</td>\n",
       "    </tr>\n",
       "    <tr>\n",
       "      <th>9</th>\n",
       "      <td>1986--Foiles-S-M--Ni--LAMMPS--ipr1</td>\n",
       "      <td>Ni</td>\n",
       "      <td>2.489294</td>\n",
       "      <td>-4.447602</td>\n",
       "    </tr>\n",
       "    <tr>\n",
       "      <th>10</th>\n",
       "      <td>1986--Foiles-S-M--Pd--LAMMPS--ipr1</td>\n",
       "      <td>Pd</td>\n",
       "      <td>2.752135</td>\n",
       "      <td>-3.906982</td>\n",
       "    </tr>\n",
       "    <tr>\n",
       "      <th>11</th>\n",
       "      <td>1986--Foiles-S-M--Pt--LAMMPS--ipr1</td>\n",
       "      <td>Pt</td>\n",
       "      <td>2.769028</td>\n",
       "      <td>-5.767002</td>\n",
       "    </tr>\n",
       "    <tr>\n",
       "      <th>12</th>\n",
       "      <td>1987--Ackland-G-J--Au--LAMMPS--ipr1</td>\n",
       "      <td>Au</td>\n",
       "      <td>2.865460</td>\n",
       "      <td>-3.783518</td>\n",
       "    </tr>\n",
       "    <tr>\n",
       "      <th>13</th>\n",
       "      <td>1987--Ackland-G-J--Au--LAMMPS--ipr2</td>\n",
       "      <td>Au</td>\n",
       "      <td>2.865460</td>\n",
       "      <td>-3.783518</td>\n",
       "    </tr>\n",
       "    <tr>\n",
       "      <th>14</th>\n",
       "      <td>1987--Ackland-G-J--Mo--LAMMPS--ipr1</td>\n",
       "      <td>Mo</td>\n",
       "      <td>3.036581</td>\n",
       "      <td>-6.401780</td>\n",
       "    </tr>\n",
       "    <tr>\n",
       "      <th>15</th>\n",
       "      <td>1987--Ackland-G-J--Ni--LAMMPS--ipr1</td>\n",
       "      <td>Ni</td>\n",
       "      <td>2.489636</td>\n",
       "      <td>-4.454829</td>\n",
       "    </tr>\n",
       "  </tbody>\n",
       "</table>\n",
       "</div>"
      ],
      "text/plain": [
       "                                  potential_LAMMPS_id composition         a  \\\n",
       "0                  1986--Foiles-S-M--Ag--LAMMPS--ipr1          Ag  2.892481   \n",
       "1   1986--Foiles-S-M--Ag-Au-Cu-Ni-Pd-Pt--LAMMPS--ipr1          Ag  2.892481   \n",
       "2   1986--Foiles-S-M--Ag-Au-Cu-Ni-Pd-Pt--LAMMPS--ipr1          Au  2.886388   \n",
       "3   1986--Foiles-S-M--Ag-Au-Cu-Ni-Pd-Pt--LAMMPS--ipr1          Cu  2.556979   \n",
       "4   1986--Foiles-S-M--Ag-Au-Cu-Ni-Pd-Pt--LAMMPS--ipr1          Ni  2.489294   \n",
       "5   1986--Foiles-S-M--Ag-Au-Cu-Ni-Pd-Pt--LAMMPS--ipr1          Pd  2.752135   \n",
       "6   1986--Foiles-S-M--Ag-Au-Cu-Ni-Pd-Pt--LAMMPS--ipr1          Pt  2.769028   \n",
       "7                  1986--Foiles-S-M--Au--LAMMPS--ipr1          Au  2.886388   \n",
       "8                  1986--Foiles-S-M--Cu--LAMMPS--ipr1          Cu  2.556979   \n",
       "9                  1986--Foiles-S-M--Ni--LAMMPS--ipr1          Ni  2.489294   \n",
       "10                 1986--Foiles-S-M--Pd--LAMMPS--ipr1          Pd  2.752135   \n",
       "11                 1986--Foiles-S-M--Pt--LAMMPS--ipr1          Pt  2.769028   \n",
       "12                1987--Ackland-G-J--Au--LAMMPS--ipr1          Au  2.865460   \n",
       "13                1987--Ackland-G-J--Au--LAMMPS--ipr2          Au  2.865460   \n",
       "14                1987--Ackland-G-J--Mo--LAMMPS--ipr1          Mo  3.036581   \n",
       "15                1987--Ackland-G-J--Ni--LAMMPS--ipr1          Ni  2.489636   \n",
       "\n",
       "    Epot (eV/atom)  \n",
       "0        -2.849670  \n",
       "1        -2.849670  \n",
       "2        -3.928946  \n",
       "3        -3.536928  \n",
       "4        -4.447602  \n",
       "5        -3.906982  \n",
       "6        -5.767002  \n",
       "7        -3.928946  \n",
       "8        -3.536928  \n",
       "9        -4.447602  \n",
       "10       -3.906982  \n",
       "11       -5.767002  \n",
       "12       -3.783518  \n",
       "13       -3.783518  \n",
       "14       -6.401780  \n",
       "15       -4.454829  "
      ]
     },
     "execution_count": 5,
     "metadata": {},
     "output_type": "execute_result"
    }
   ],
   "source": [
    "hcp_props.loc[:15]"
   ]
  },
  {
   "cell_type": "markdown",
   "id": "bd9ac4da-2fc5-4248-ad5e-2fab8684bae6",
   "metadata": {},
   "source": [
    "## Run loop"
   ]
  },
  {
   "cell_type": "code",
   "execution_count": null,
   "id": "3b9591ae-5b71-4e66-a096-c7fb19d175b3",
   "metadata": {},
   "outputs": [
    {
     "name": "stdout",
     "output_type": "stream",
     "text": [
      "35 2002--Mishin-Y--Ni-Al--LAMMPS--ipr1\n",
      "36 2003--Han-S--V--LAMMPS--ipr1\n",
      "4 existing calculation records provided\n"
     ]
    },
    {
     "name": "stderr",
     "output_type": "stream",
     "text": [
      "100%|█████████████████████████████████████████████████████████████████████████████████████| 1/1 [00:00<00:00,  5.12it/s]"
     ]
    },
    {
     "name": "stdout",
     "output_type": "stream",
     "text": [
      "1 calculation combinations to check\n"
     ]
    },
    {
     "name": "stderr",
     "output_type": "stream",
     "text": [
      "\n"
     ]
    },
    {
     "name": "stdout",
     "output_type": "stream",
     "text": [
      "1 new records to prepare\n"
     ]
    },
    {
     "name": "stderr",
     "output_type": "stream",
     "text": [
      "/home/lmh1/Python-packages/atomman/atomman/tools/duplicates_allclose.py:217: FutureWarning: Downcasting object dtype arrays on .fillna, .ffill, .bfill is deprecated and will change in a future version. Call result.infer_objects(copy=False) instead. To opt-in to the future behavior, set `pd.set_option('future.no_silent_downcasting', True)`\n",
      "  dataframe.assign(duplicates=func(dataframe)).duplicates.fillna(False).rename()\n",
      "preparing: 100%|##########################################################################| 1/1 [00:00<00:00, 89.81it/s]\n"
     ]
    },
    {
     "name": "stdout",
     "output_type": "stream",
     "text": [
      "6337f212-d21f-4100-a564-6da8a79a7d11\n",
      "sim calculated successfully\n",
      "\n",
      "1168.750 0.334 1177.918\n",
      "4 existing calculation records provided\n"
     ]
    },
    {
     "name": "stderr",
     "output_type": "stream",
     "text": [
      "100%|█████████████████████████████████████████████████████████████████████████████████████| 1/1 [00:00<00:00,  5.36it/s]"
     ]
    },
    {
     "name": "stdout",
     "output_type": "stream",
     "text": [
      "1 calculation combinations to check\n",
      "1 new records to prepare\n"
     ]
    },
    {
     "name": "stderr",
     "output_type": "stream",
     "text": [
      "\n",
      "/home/lmh1/Python-packages/atomman/atomman/tools/duplicates_allclose.py:217: FutureWarning: Downcasting object dtype arrays on .fillna, .ffill, .bfill is deprecated and will change in a future version. Call result.infer_objects(copy=False) instead. To opt-in to the future behavior, set `pd.set_option('future.no_silent_downcasting', True)`\n",
      "  dataframe.assign(duplicates=func(dataframe)).duplicates.fillna(False).rename()\n",
      "preparing: 100%|##########################################################################| 1/1 [00:00<00:00, 46.42it/s]\n"
     ]
    },
    {
     "name": "stdout",
     "output_type": "stream",
     "text": [
      "d4995fd5-2a22-4b38-9162-09dae4c2299a\n",
      "sim calculated successfully\n",
      "\n",
      "609.375 0.4052 611.477\n",
      "4 existing calculation records provided\n"
     ]
    },
    {
     "name": "stderr",
     "output_type": "stream",
     "text": [
      "100%|█████████████████████████████████████████████████████████████████████████████████████| 1/1 [00:00<00:00,  5.01it/s]\n"
     ]
    },
    {
     "name": "stdout",
     "output_type": "stream",
     "text": [
      "1 calculation combinations to check\n",
      "1 new records to prepare\n"
     ]
    },
    {
     "name": "stderr",
     "output_type": "stream",
     "text": [
      "/home/lmh1/Python-packages/atomman/atomman/tools/duplicates_allclose.py:217: FutureWarning: Downcasting object dtype arrays on .fillna, .ffill, .bfill is deprecated and will change in a future version. Call result.infer_objects(copy=False) instead. To opt-in to the future behavior, set `pd.set_option('future.no_silent_downcasting', True)`\n",
      "  dataframe.assign(duplicates=func(dataframe)).duplicates.fillna(False).rename()\n",
      "preparing: 100%|##########################################################################| 1/1 [00:00<00:00, 62.54it/s]\n"
     ]
    },
    {
     "name": "stdout",
     "output_type": "stream",
     "text": [
      "f84c64ab-aa8a-4ebf-9566-e341ba664008\n",
      "sim calculated successfully\n",
      "\n",
      "609.375 0.4092 607.654\n",
      "4 existing calculation records provided\n"
     ]
    },
    {
     "name": "stderr",
     "output_type": "stream",
     "text": [
      "100%|█████████████████████████████████████████████████████████████████████████████████████| 1/1 [00:00<00:00,  5.18it/s]"
     ]
    },
    {
     "name": "stdout",
     "output_type": "stream",
     "text": [
      "1 calculation combinations to check\n",
      "1 new records to prepare\n"
     ]
    },
    {
     "name": "stderr",
     "output_type": "stream",
     "text": [
      "\n",
      "/home/lmh1/Python-packages/atomman/atomman/tools/duplicates_allclose.py:217: FutureWarning: Downcasting object dtype arrays on .fillna, .ffill, .bfill is deprecated and will change in a future version. Call result.infer_objects(copy=False) instead. To opt-in to the future behavior, set `pd.set_option('future.no_silent_downcasting', True)`\n",
      "  dataframe.assign(duplicates=func(dataframe)).duplicates.fillna(False).rename()\n",
      "preparing: 100%|##########################################################################| 1/1 [00:00<00:00, 82.50it/s]\n"
     ]
    },
    {
     "name": "stdout",
     "output_type": "stream",
     "text": [
      "314393db-d0de-42c6-b873-2063a38b7aeb\n",
      "sim calculated successfully\n"
     ]
    }
   ],
   "source": [
    "for i in hcp_props.index[35:]:\n",
    "    series = hcp_props.loc[i]\n",
    "\n",
    "    commander = MeltCommander(database,\n",
    "                              lammps_command, \n",
    "                              series.potential_LAMMPS_id,\n",
    "                              series.composition,\n",
    "                              'A3--Mg--hcp',\n",
    "                              min_temperature=min_temperature,\n",
    "                              max_temperature=max_temperature,\n",
    "                              verbose=False,\n",
    "                             )\n",
    "    alat = alat_mult * series.a\n",
    "    print(i, series.potential_LAMMPS_id)\n",
    "    commander.run(run_directory, alat, max_melts, max_runs)"
   ]
  },
  {
   "cell_type": "code",
   "execution_count": null,
   "id": "d4b07f35-1b9a-4a65-9287-7aa2dd7ec22f",
   "metadata": {},
   "outputs": [],
   "source": []
  }
 ],
 "metadata": {
  "kernelspec": {
   "display_name": "ipr",
   "language": "python",
   "name": "ipr"
  },
  "language_info": {
   "codemirror_mode": {
    "name": "ipython",
    "version": 3
   },
   "file_extension": ".py",
   "mimetype": "text/x-python",
   "name": "python",
   "nbconvert_exporter": "python",
   "pygments_lexer": "ipython3",
   "version": "3.11.11"
  }
 },
 "nbformat": 4,
 "nbformat_minor": 5
}
