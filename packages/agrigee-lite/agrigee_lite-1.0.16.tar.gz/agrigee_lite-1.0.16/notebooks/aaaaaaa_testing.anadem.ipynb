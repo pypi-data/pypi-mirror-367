{
 "cells": [
  {
   "cell_type": "code",
   "execution_count": 1,
   "id": "a9416407",
   "metadata": {},
   "outputs": [
    {
     "name": "stdout",
     "output_type": "stream",
     "text": [
      "Earth Engine initialized successfully using AgriGEE.lite for academic usage (project=ee-mateuspsilva).\n"
     ]
    }
   ],
   "source": [
    "import geopandas as gpd\n",
    "\n",
    "import agrigee_lite as agl"
   ]
  },
  {
   "cell_type": "code",
   "execution_count": 2,
   "id": "3c0a85dd",
   "metadata": {},
   "outputs": [],
   "source": [
    "%load_ext autoreload\n",
    "%autoreload 2"
   ]
  },
  {
   "cell_type": "code",
   "execution_count": null,
   "id": "6883fcfd",
   "metadata": {},
   "outputs": [],
   "source": []
  },
  {
   "cell_type": "code",
   "execution_count": 4,
   "id": "88c70a41",
   "metadata": {},
   "outputs": [],
   "source": [
    "gdf = gpd.read_parquet(\"data/mt_crops.parquet\")"
   ]
  },
  {
   "cell_type": "code",
   "execution_count": 5,
   "id": "c5340836",
   "metadata": {},
   "outputs": [],
   "source": [
    "gdf = gdf.groupby(\"geometry\").first().reset_index().sample(250).reset_index(drop=True)"
   ]
  },
  {
   "cell_type": "code",
   "execution_count": 6,
   "id": "36b23b46",
   "metadata": {},
   "outputs": [],
   "source": [
    "import pandas as pd"
   ]
  },
  {
   "cell_type": "code",
   "execution_count": 7,
   "id": "0826100b",
   "metadata": {},
   "outputs": [],
   "source": [
    "gdf[\"start_date\"] = pd.to_datetime(gdf.year.apply(lambda x: f\"{x-1}-10-01\"))\n",
    "gdf[\"end_date\"] = pd.to_datetime(gdf.year.apply(lambda x: f\"{x}-10-01\"))"
   ]
  },
  {
   "cell_type": "code",
   "execution_count": 12,
   "id": "ae05ac0f",
   "metadata": {},
   "outputs": [],
   "source": [
    "gdf = gpd.GeoDataFrame(gdf)"
   ]
  },
  {
   "cell_type": "code",
   "execution_count": 17,
   "id": "bcaa39d9",
   "metadata": {},
   "outputs": [
    {
     "name": "stderr",
     "output_type": "stream",
     "text": [
      "Simplifying clusters: 100%|██████████| 1/1 [00:15<00:00, 15.63s/it]\n",
      "Downloading multiple sits: 100%|██████████| 250/250 [00:10<00:00, 24.28it/s]\n"
     ]
    }
   ],
   "source": [
    "dem = agl.sat.ANADEM()\n",
    "\n",
    "dem_gdf = agl.get.multiple_sits(gdf, dem)"
   ]
  },
  {
   "cell_type": "code",
   "execution_count": 22,
   "id": "16299dc3",
   "metadata": {},
   "outputs": [
    {
     "name": "stderr",
     "output_type": "stream",
     "text": [
      "/home/mateus/git/AgriGEE.lite/.venv/lib/python3.11/site-packages/pandas/io/formats/format.py:1458: RuntimeWarning: overflow encountered in cast\n",
      "  has_large_values = (abs_vals > 1e6).any()\n"
     ]
    },
    {
     "data": {
      "text/html": [
       "<div>\n",
       "<style scoped>\n",
       "    .dataframe tbody tr th:only-of-type {\n",
       "        vertical-align: middle;\n",
       "    }\n",
       "\n",
       "    .dataframe tbody tr th {\n",
       "        vertical-align: top;\n",
       "    }\n",
       "\n",
       "    .dataframe thead th {\n",
       "        text-align: right;\n",
       "    }\n",
       "</style>\n",
       "<table border=\"1\" class=\"dataframe\">\n",
       "  <thead>\n",
       "    <tr style=\"text-align: right;\">\n",
       "      <th></th>\n",
       "      <th>indexnum</th>\n",
       "      <th>elevation_mean</th>\n",
       "      <th>slope_flat</th>\n",
       "      <th>slope_gentle</th>\n",
       "      <th>slope_undulating</th>\n",
       "      <th>slope_strong</th>\n",
       "      <th>slope_mountainous</th>\n",
       "      <th>slope_steep</th>\n",
       "      <th>cardinal_n</th>\n",
       "      <th>cardinal_ne</th>\n",
       "      <th>cardinal_e</th>\n",
       "      <th>cardinal_se</th>\n",
       "      <th>cardinal_s</th>\n",
       "      <th>cardinal_sw</th>\n",
       "      <th>cardinal_w</th>\n",
       "      <th>cardinal_nw</th>\n",
       "    </tr>\n",
       "  </thead>\n",
       "  <tbody>\n",
       "    <tr>\n",
       "      <th>0</th>\n",
       "      <td>0</td>\n",
       "      <td>329.50</td>\n",
       "      <td>1.000000</td>\n",
       "      <td>0.000000</td>\n",
       "      <td>0.0</td>\n",
       "      <td>0.0</td>\n",
       "      <td>0.0</td>\n",
       "      <td>0.0</td>\n",
       "      <td>0.145508</td>\n",
       "      <td>0.823242</td>\n",
       "      <td>0.008888</td>\n",
       "      <td>0.000000</td>\n",
       "      <td>0.000000</td>\n",
       "      <td>0.000000</td>\n",
       "      <td>0.000000</td>\n",
       "      <td>0.022217</td>\n",
       "    </tr>\n",
       "    <tr>\n",
       "      <th>1</th>\n",
       "      <td>1</td>\n",
       "      <td>579.50</td>\n",
       "      <td>1.000000</td>\n",
       "      <td>0.000000</td>\n",
       "      <td>0.0</td>\n",
       "      <td>0.0</td>\n",
       "      <td>0.0</td>\n",
       "      <td>0.0</td>\n",
       "      <td>0.000999</td>\n",
       "      <td>0.060944</td>\n",
       "      <td>0.739258</td>\n",
       "      <td>0.092896</td>\n",
       "      <td>0.015991</td>\n",
       "      <td>0.057953</td>\n",
       "      <td>0.028976</td>\n",
       "      <td>0.002996</td>\n",
       "    </tr>\n",
       "    <tr>\n",
       "      <th>2</th>\n",
       "      <td>2</td>\n",
       "      <td>297.00</td>\n",
       "      <td>1.000000</td>\n",
       "      <td>0.000000</td>\n",
       "      <td>0.0</td>\n",
       "      <td>0.0</td>\n",
       "      <td>0.0</td>\n",
       "      <td>0.0</td>\n",
       "      <td>0.000000</td>\n",
       "      <td>0.000000</td>\n",
       "      <td>0.283447</td>\n",
       "      <td>0.500000</td>\n",
       "      <td>0.216675</td>\n",
       "      <td>0.000000</td>\n",
       "      <td>0.000000</td>\n",
       "      <td>0.000000</td>\n",
       "    </tr>\n",
       "    <tr>\n",
       "      <th>3</th>\n",
       "      <td>3</td>\n",
       "      <td>513.50</td>\n",
       "      <td>1.000000</td>\n",
       "      <td>0.000000</td>\n",
       "      <td>0.0</td>\n",
       "      <td>0.0</td>\n",
       "      <td>0.0</td>\n",
       "      <td>0.0</td>\n",
       "      <td>0.026031</td>\n",
       "      <td>0.055054</td>\n",
       "      <td>0.589355</td>\n",
       "      <td>0.044037</td>\n",
       "      <td>0.035034</td>\n",
       "      <td>0.105103</td>\n",
       "      <td>0.127075</td>\n",
       "      <td>0.018021</td>\n",
       "    </tr>\n",
       "    <tr>\n",
       "      <th>4</th>\n",
       "      <td>4</td>\n",
       "      <td>301.00</td>\n",
       "      <td>0.872070</td>\n",
       "      <td>0.128052</td>\n",
       "      <td>0.0</td>\n",
       "      <td>0.0</td>\n",
       "      <td>0.0</td>\n",
       "      <td>0.0</td>\n",
       "      <td>0.000000</td>\n",
       "      <td>0.000000</td>\n",
       "      <td>0.000000</td>\n",
       "      <td>0.000000</td>\n",
       "      <td>0.000000</td>\n",
       "      <td>0.014778</td>\n",
       "      <td>0.492676</td>\n",
       "      <td>0.492676</td>\n",
       "    </tr>\n",
       "    <tr>\n",
       "      <th>...</th>\n",
       "      <td>...</td>\n",
       "      <td>...</td>\n",
       "      <td>...</td>\n",
       "      <td>...</td>\n",
       "      <td>...</td>\n",
       "      <td>...</td>\n",
       "      <td>...</td>\n",
       "      <td>...</td>\n",
       "      <td>...</td>\n",
       "      <td>...</td>\n",
       "      <td>...</td>\n",
       "      <td>...</td>\n",
       "      <td>...</td>\n",
       "      <td>...</td>\n",
       "      <td>...</td>\n",
       "      <td>...</td>\n",
       "    </tr>\n",
       "    <tr>\n",
       "      <th>245</th>\n",
       "      <td>245</td>\n",
       "      <td>308.75</td>\n",
       "      <td>0.950195</td>\n",
       "      <td>0.049896</td>\n",
       "      <td>0.0</td>\n",
       "      <td>0.0</td>\n",
       "      <td>0.0</td>\n",
       "      <td>0.0</td>\n",
       "      <td>0.000000</td>\n",
       "      <td>0.000000</td>\n",
       "      <td>0.000000</td>\n",
       "      <td>0.000000</td>\n",
       "      <td>0.029480</td>\n",
       "      <td>0.548828</td>\n",
       "      <td>0.415039</td>\n",
       "      <td>0.006802</td>\n",
       "    </tr>\n",
       "    <tr>\n",
       "      <th>246</th>\n",
       "      <td>246</td>\n",
       "      <td>619.00</td>\n",
       "      <td>1.000000</td>\n",
       "      <td>0.000000</td>\n",
       "      <td>0.0</td>\n",
       "      <td>0.0</td>\n",
       "      <td>0.0</td>\n",
       "      <td>0.0</td>\n",
       "      <td>0.045013</td>\n",
       "      <td>0.014000</td>\n",
       "      <td>0.061005</td>\n",
       "      <td>0.109009</td>\n",
       "      <td>0.048004</td>\n",
       "      <td>0.053009</td>\n",
       "      <td>0.313965</td>\n",
       "      <td>0.355957</td>\n",
       "    </tr>\n",
       "    <tr>\n",
       "      <th>247</th>\n",
       "      <td>247</td>\n",
       "      <td>265.75</td>\n",
       "      <td>0.915527</td>\n",
       "      <td>0.084290</td>\n",
       "      <td>0.0</td>\n",
       "      <td>0.0</td>\n",
       "      <td>0.0</td>\n",
       "      <td>0.0</td>\n",
       "      <td>0.717773</td>\n",
       "      <td>0.038727</td>\n",
       "      <td>0.004555</td>\n",
       "      <td>0.043274</td>\n",
       "      <td>0.036438</td>\n",
       "      <td>0.020508</td>\n",
       "      <td>0.027328</td>\n",
       "      <td>0.111633</td>\n",
       "    </tr>\n",
       "    <tr>\n",
       "      <th>248</th>\n",
       "      <td>248</td>\n",
       "      <td>499.00</td>\n",
       "      <td>1.000000</td>\n",
       "      <td>0.000000</td>\n",
       "      <td>0.0</td>\n",
       "      <td>0.0</td>\n",
       "      <td>0.0</td>\n",
       "      <td>0.0</td>\n",
       "      <td>0.000000</td>\n",
       "      <td>0.000000</td>\n",
       "      <td>0.000000</td>\n",
       "      <td>0.001003</td>\n",
       "      <td>0.724121</td>\n",
       "      <td>0.255859</td>\n",
       "      <td>0.019058</td>\n",
       "      <td>0.000000</td>\n",
       "    </tr>\n",
       "    <tr>\n",
       "      <th>249</th>\n",
       "      <td>249</td>\n",
       "      <td>348.75</td>\n",
       "      <td>1.000000</td>\n",
       "      <td>0.000000</td>\n",
       "      <td>0.0</td>\n",
       "      <td>0.0</td>\n",
       "      <td>0.0</td>\n",
       "      <td>0.0</td>\n",
       "      <td>0.000000</td>\n",
       "      <td>0.000000</td>\n",
       "      <td>0.796387</td>\n",
       "      <td>0.186768</td>\n",
       "      <td>0.016983</td>\n",
       "      <td>0.000000</td>\n",
       "      <td>0.000000</td>\n",
       "      <td>0.000000</td>\n",
       "    </tr>\n",
       "  </tbody>\n",
       "</table>\n",
       "<p>250 rows × 16 columns</p>\n",
       "</div>"
      ],
      "text/plain": [
       "     indexnum  elevation_mean  slope_flat  slope_gentle  slope_undulating  \\\n",
       "0           0          329.50    1.000000      0.000000               0.0   \n",
       "1           1          579.50    1.000000      0.000000               0.0   \n",
       "2           2          297.00    1.000000      0.000000               0.0   \n",
       "3           3          513.50    1.000000      0.000000               0.0   \n",
       "4           4          301.00    0.872070      0.128052               0.0   \n",
       "..        ...             ...         ...           ...               ...   \n",
       "245       245          308.75    0.950195      0.049896               0.0   \n",
       "246       246          619.00    1.000000      0.000000               0.0   \n",
       "247       247          265.75    0.915527      0.084290               0.0   \n",
       "248       248          499.00    1.000000      0.000000               0.0   \n",
       "249       249          348.75    1.000000      0.000000               0.0   \n",
       "\n",
       "     slope_strong  slope_mountainous  slope_steep  cardinal_n  cardinal_ne  \\\n",
       "0             0.0                0.0          0.0    0.145508     0.823242   \n",
       "1             0.0                0.0          0.0    0.000999     0.060944   \n",
       "2             0.0                0.0          0.0    0.000000     0.000000   \n",
       "3             0.0                0.0          0.0    0.026031     0.055054   \n",
       "4             0.0                0.0          0.0    0.000000     0.000000   \n",
       "..            ...                ...          ...         ...          ...   \n",
       "245           0.0                0.0          0.0    0.000000     0.000000   \n",
       "246           0.0                0.0          0.0    0.045013     0.014000   \n",
       "247           0.0                0.0          0.0    0.717773     0.038727   \n",
       "248           0.0                0.0          0.0    0.000000     0.000000   \n",
       "249           0.0                0.0          0.0    0.000000     0.000000   \n",
       "\n",
       "     cardinal_e  cardinal_se  cardinal_s  cardinal_sw  cardinal_w  cardinal_nw  \n",
       "0      0.008888     0.000000    0.000000     0.000000    0.000000     0.022217  \n",
       "1      0.739258     0.092896    0.015991     0.057953    0.028976     0.002996  \n",
       "2      0.283447     0.500000    0.216675     0.000000    0.000000     0.000000  \n",
       "3      0.589355     0.044037    0.035034     0.105103    0.127075     0.018021  \n",
       "4      0.000000     0.000000    0.000000     0.014778    0.492676     0.492676  \n",
       "..          ...          ...         ...          ...         ...          ...  \n",
       "245    0.000000     0.000000    0.029480     0.548828    0.415039     0.006802  \n",
       "246    0.061005     0.109009    0.048004     0.053009    0.313965     0.355957  \n",
       "247    0.004555     0.043274    0.036438     0.020508    0.027328     0.111633  \n",
       "248    0.000000     0.001003    0.724121     0.255859    0.019058     0.000000  \n",
       "249    0.796387     0.186768    0.016983     0.000000    0.000000     0.000000  \n",
       "\n",
       "[250 rows x 16 columns]"
      ]
     },
     "execution_count": 22,
     "metadata": {},
     "output_type": "execute_result"
    }
   ],
   "source": [
    "dem_gdf"
   ]
  },
  {
   "cell_type": "code",
   "execution_count": 14,
   "id": "c227b001",
   "metadata": {},
   "outputs": [
    {
     "name": "stdout",
     "output_type": "stream",
     "text": [
      "geometry      POLYGON ((-56.608689407378805 -12.731884085052...\n",
      "varda_id                   01911f51-b255-7374-b9cb-bd2b8155bc8b\n",
      "ha                                                    92.012896\n",
      "crops                                                        39\n",
      "percentage                                             0.986636\n",
      "year                                                       2018\n",
      "crop_name                                               Soybean\n",
      "start_date                                  2017-10-01 00:00:00\n",
      "end_date                                    2018-10-01 00:00:00\n",
      "Name: 0, dtype: object\n"
     ]
    },
    {
     "data": {
      "text/html": [
       "<div>\n",
       "<style scoped>\n",
       "    .dataframe tbody tr th:only-of-type {\n",
       "        vertical-align: middle;\n",
       "    }\n",
       "\n",
       "    .dataframe tbody tr th {\n",
       "        vertical-align: top;\n",
       "    }\n",
       "\n",
       "    .dataframe thead th {\n",
       "        text-align: right;\n",
       "    }\n",
       "</style>\n",
       "<table border=\"1\" class=\"dataframe\">\n",
       "  <thead>\n",
       "    <tr style=\"text-align: right;\">\n",
       "      <th></th>\n",
       "      <th>indexnum</th>\n",
       "      <th>elevation_mean</th>\n",
       "      <th>slope_flat</th>\n",
       "      <th>slope_gentle</th>\n",
       "      <th>slope_undulating</th>\n",
       "      <th>slope_strong</th>\n",
       "      <th>slope_mountainous</th>\n",
       "      <th>slope_steep</th>\n",
       "      <th>cardinal_n</th>\n",
       "      <th>cardinal_ne</th>\n",
       "      <th>cardinal_e</th>\n",
       "      <th>cardinal_se</th>\n",
       "      <th>cardinal_s</th>\n",
       "      <th>cardinal_sw</th>\n",
       "      <th>cardinal_w</th>\n",
       "      <th>cardinal_nw</th>\n",
       "    </tr>\n",
       "  </thead>\n",
       "  <tbody>\n",
       "    <tr>\n",
       "      <th>0</th>\n",
       "      <td>0</td>\n",
       "      <td>329.287495</td>\n",
       "      <td>1</td>\n",
       "      <td>0</td>\n",
       "      <td>0</td>\n",
       "      <td>0</td>\n",
       "      <td>0</td>\n",
       "      <td>0</td>\n",
       "      <td>0.143629</td>\n",
       "      <td>0.817495</td>\n",
       "      <td>0.014039</td>\n",
       "      <td>0</td>\n",
       "      <td>0</td>\n",
       "      <td>0</td>\n",
       "      <td>0</td>\n",
       "      <td>0.024838</td>\n",
       "    </tr>\n",
       "  </tbody>\n",
       "</table>\n",
       "</div>"
      ],
      "text/plain": [
       "   indexnum  elevation_mean  slope_flat  slope_gentle  slope_undulating  \\\n",
       "0         0      329.287495           1             0                 0   \n",
       "\n",
       "   slope_strong  slope_mountainous  slope_steep  cardinal_n  cardinal_ne  \\\n",
       "0             0                  0            0    0.143629     0.817495   \n",
       "\n",
       "   cardinal_e  cardinal_se  cardinal_s  cardinal_sw  cardinal_w  cardinal_nw  \n",
       "0    0.014039            0           0            0           0     0.024838  "
      ]
     },
     "execution_count": 14,
     "metadata": {},
     "output_type": "execute_result"
    }
   ],
   "source": [
    "row = gdf.iloc[0]\n",
    "print(row)\n",
    "\n",
    "dem = agl.sat.ANADEM()\n",
    "\n",
    "agl.get.sits(row.geometry, row.start_date, row.end_date, dem)"
   ]
  },
  {
   "cell_type": "code",
   "execution_count": null,
   "id": "1fd6b922",
   "metadata": {},
   "outputs": [],
   "source": [
    "agl.get.sits(row.geometry, row.start_date, row.end_date, dem)"
   ]
  },
  {
   "cell_type": "code",
   "execution_count": null,
   "id": "b0e0d552",
   "metadata": {},
   "outputs": [],
   "source": [
    "dem_sits = agl.get.multiple_sits(gdf, dem, reducers=[\"median\", \"mean\", \"std\", \"min\", \"max\"], force_redownload=True)"
   ]
  },
  {
   "cell_type": "code",
   "execution_count": null,
   "id": "b65c6212",
   "metadata": {},
   "outputs": [],
   "source": [
    "dem_sits.slope_min.min(), dem_sits.slope_max.max()"
   ]
  },
  {
   "cell_type": "code",
   "execution_count": null,
   "id": "14e03a03",
   "metadata": {},
   "outputs": [],
   "source": [
    "dem_sits.sort_values(\"slope_stdDev\", ascending=False)"
   ]
  },
  {
   "cell_type": "code",
   "execution_count": null,
   "id": "d0b65ea5",
   "metadata": {},
   "outputs": [],
   "source": []
  },
  {
   "cell_type": "code",
   "execution_count": null,
   "id": "9d88f46e",
   "metadata": {},
   "outputs": [],
   "source": []
  },
  {
   "cell_type": "code",
   "execution_count": null,
   "id": "1054066b",
   "metadata": {},
   "outputs": [],
   "source": [
    "import matplotlib.pyplot as plt"
   ]
  },
  {
   "cell_type": "code",
   "execution_count": null,
   "id": "5bf7dcc2",
   "metadata": {},
   "outputs": [],
   "source": [
    "import plotly.express as px"
   ]
  },
  {
   "cell_type": "code",
   "execution_count": null,
   "id": "8e85ea74",
   "metadata": {},
   "outputs": [],
   "source": [
    "!uv pip list | grep plotly"
   ]
  },
  {
   "cell_type": "code",
   "execution_count": null,
   "id": "8830f38b",
   "metadata": {},
   "outputs": [],
   "source": [
    "row.geometry"
   ]
  },
  {
   "cell_type": "code",
   "execution_count": null,
   "id": "2aa7d3e9",
   "metadata": {},
   "outputs": [],
   "source": [
    "dem = agl.sat.ANADEM(bands=[\"slope\"])\n",
    "\n",
    "row = gdf.iloc[32]\n",
    "\n",
    "np_img = agl.get.image(row.geometry, dem)\n",
    "\n",
    "fig = px.imshow(np_img[:, :, 0], color_continuous_scale='viridis')\n",
    "\n",
    "fig.update_layout(\n",
    "    title='Slope',\n",
    "    # coloraxis_colorbar={\"title\": 'm'},\n",
    "    width=600,   # Largura menor\n",
    "    height=500   # Altura opcional, ajuste conforme desejar\n",
    ")\n",
    "\n",
    "fig.show()"
   ]
  },
  {
   "cell_type": "code",
   "execution_count": null,
   "id": "a58fa22e",
   "metadata": {},
   "outputs": [],
   "source": []
  },
  {
   "cell_type": "code",
   "execution_count": null,
   "id": "8d205e43",
   "metadata": {},
   "outputs": [],
   "source": [
    "import numpy as np"
   ]
  },
  {
   "cell_type": "code",
   "execution_count": null,
   "id": "0bac3e46",
   "metadata": {},
   "outputs": [],
   "source": [
    "np_img[np_img == 0] = np.nan"
   ]
  },
  {
   "cell_type": "code",
   "execution_count": null,
   "id": "7dd86460",
   "metadata": {},
   "outputs": [],
   "source": [
    "plt.imshow(np_img[:,:,2])"
   ]
  },
  {
   "cell_type": "code",
   "execution_count": null,
   "id": "3d67e262",
   "metadata": {},
   "outputs": [],
   "source": [
    "len(gdf)"
   ]
  },
  {
   "cell_type": "code",
   "execution_count": null,
   "id": "e38a8121",
   "metadata": {},
   "outputs": [],
   "source": [
    "row = gdf.iloc[0]"
   ]
  },
  {
   "cell_type": "code",
   "execution_count": null,
   "id": "bb5b6f75",
   "metadata": {},
   "outputs": [],
   "source": [
    "agl.get.sits(row.geometry, row.start_date, row.end_date, dem)"
   ]
  },
  {
   "cell_type": "code",
   "execution_count": null,
   "id": "8de53ff4",
   "metadata": {},
   "outputs": [],
   "source": [
    "agl.get.sits(row.geometry, row.start_date, row.end_date, dem).dtypes"
   ]
  }
 ],
 "metadata": {
  "kernelspec": {
   "display_name": ".venv",
   "language": "python",
   "name": "python3"
  },
  "language_info": {
   "codemirror_mode": {
    "name": "ipython",
    "version": 3
   },
   "file_extension": ".py",
   "mimetype": "text/x-python",
   "name": "python",
   "nbconvert_exporter": "python",
   "pygments_lexer": "ipython3",
   "version": "3.11.10"
  }
 },
 "nbformat": 4,
 "nbformat_minor": 5
}
