{
 "cells": [
  {
   "cell_type": "markdown",
   "metadata": {},
   "source": [
    "# Training a picasso predictor\n",
    "\n",
    "This notebook shows how one can train a `picasso` model to make predictions of gas thermodynamics from halo properties.\n",
    "For a full documentation of the predictor objects and their methods, see {doc}`../api/predictors`."
   ]
  },
  {
   "cell_type": "code",
   "execution_count": 1,
   "metadata": {},
   "outputs": [
    {
     "name": "stderr",
     "output_type": "stream",
     "text": [
      "An NVIDIA GPU may be present on this machine, but a CUDA-enabled jaxlib is not installed. Falling back to cpu.\n"
     ]
    }
   ],
   "source": [
    "import jax\n",
    "import jax.numpy as jnp\n",
    "import optax\n",
    "import matplotlib.pyplot as plt\n",
    "from tqdm.notebook import trange\n",
    "\n",
    "from picasso import predictors\n",
    "from picasso.test_data import halos, profs\n",
    "\n",
    "import seaborn as sns\n",
    "sns.set_style(\"darkgrid\")\n",
    "sns.set_theme(\"notebook\")\n",
    "\n",
    "benchmark = True"
   ]
  },
  {
   "cell_type": "markdown",
   "metadata": {},
   "source": [
    "## Differentiating predictions\n",
    "\n",
    "Since the model prediction functions described above are entirely implemented in JAX, they are fully differentiable.\n",
    "Let's start by defining an untrained predictor, such that the prediction functions take as input a dict of neural network parameters $\\vartheta_{\\rm net}$.\n",
    "We'll mimic the \"minimal\" model of Kéruzoré et al. (2024), i.e. a model that takes as inputs halo mass and concentration.\n",
    "This means the input layer will have 2 features, and the output layer will have 8 (corresponding to the 8 parameters of the gas model).\n",
    "For demonstration purposes, we use an MLP with one hidden layer with 8 features."
   ]
  },
  {
   "cell_type": "code",
   "execution_count": 2,
   "metadata": {},
   "outputs": [],
   "source": [
    "model = predictors.PicassoPredictor(\n",
    "    predictors.FlaxRegMLP(2, 8, [8,], [\"selu\", \"selu\", \"sigmoid\"]),\n",
    "    \"minmax\",  # minmax trasformation, [min, max] -> [0, 1]\n",
    "    \"inv_minmax\",   # inverse minmax trasformation, [0, 1] -> [min, max]\n",
    "    predictors.minimal_576.args_transform_x,  # minimal_576 input mins & maxs\n",
    "    predictors.minimal_576.args_transform_y,  # minimal_576 output mins & maxs\n",
    "    input_names=predictors.minimal_576.input_names\n",
    ")"
   ]
  },
  {
   "cell_type": "markdown",
   "metadata": {},
   "source": [
    "`flax` allows us to initialize $\\vartheta_{\\rm net}$ easily:"
   ]
  },
  {
   "cell_type": "code",
   "execution_count": 3,
   "metadata": {},
   "outputs": [
    {
     "name": "stdout",
     "output_type": "stream",
     "text": [
      "theta_nn={'params': {'input': {'kernel': Array([[ 0.03842447, -0.06375846],\n",
      "       [ 1.4234861 , -0.33939242]], dtype=float32), 'bias': Array([0., 0.], dtype=float32)}, 'dense1': {'kernel': Array([[-0.042185  , -0.7779425 ,  1.1562326 , -0.2546578 , -0.5690918 ,\n",
      "         0.56547344,  0.03781918, -0.47313142],\n",
      "       [ 1.0343004 ,  0.09225573,  0.04856016, -0.36422998, -0.2005813 ,\n",
      "        -1.1775992 ,  0.5434312 ,  1.2453555 ]], dtype=float32), 'bias': Array([0., 0., 0., 0., 0., 0., 0., 0.], dtype=float32)}, 'output': {'kernel': Array([[ 7.8989536e-02,  7.0438385e-01,  1.0798373e-01, -3.7004817e-01,\n",
      "        -7.8189468e-01,  3.6114028e-01,  7.4631339e-01,  8.4025212e-02],\n",
      "       [-2.6573351e-04,  3.7197936e-01, -6.9597310e-01, -1.7070572e-01,\n",
      "        -6.5567094e-01,  1.4083256e-01, -6.4938289e-01, -5.2993375e-01],\n",
      "       [-6.3911790e-01,  8.5570492e-02, -2.9292062e-01, -7.5498748e-01,\n",
      "         8.8445395e-02,  8.0396719e-02,  1.2768888e-01,  2.5018033e-01],\n",
      "       [-1.9778068e-01,  5.1007611e-01,  5.9675574e-01, -4.7253093e-01,\n",
      "         1.9520928e-01,  5.7592619e-02, -8.0524437e-02, -2.7744612e-01],\n",
      "       [-1.5618019e-01,  2.4103884e-01, -5.6260284e-02,  1.4608471e-02,\n",
      "         3.0849382e-01, -4.8495537e-01, -7.0060837e-01,  2.7153450e-01],\n",
      "       [ 3.9369041e-01,  6.4290190e-01, -1.5023410e-01, -3.0567136e-01,\n",
      "         6.6145092e-01, -2.0600930e-01,  1.0309051e-01,  4.7914842e-01],\n",
      "       [ 5.4775792e-01, -1.3708287e-01,  2.3802257e-01, -6.9439328e-01,\n",
      "        -2.7095252e-01,  4.1744873e-02, -9.0726621e-02,  5.4637486e-01],\n",
      "       [-3.5675672e-01, -5.7854915e-01,  3.7428567e-01,  3.4006098e-01,\n",
      "         4.1651636e-02, -3.5362524e-01, -1.4708665e-01, -1.8629548e-01]],      dtype=float32), 'bias': Array([0., 0., 0., 0., 0., 0., 0., 0.], dtype=float32)}}}\n"
     ]
    }
   ],
   "source": [
    "theta_nn = model.mlp.init(jax.random.PRNGKey(44), jnp.ones(model.mlp.X_DIM))\n",
    "print(f\"{theta_nn=}\")"
   ]
  },
  {
   "cell_type": "markdown",
   "metadata": {},
   "source": [
    "Now, we can write a loss function.\n",
    "For example, let's write a mean square error function that compares the predictions of the gas thermodynamics with the halo properties found in the hydrodynamic simulations.\n",
    "For illustration purposes, we use a very small set of 7 halos for which we have all inputs and true thermodynamic profiles:"
   ]
  },
  {
   "cell_type": "code",
   "execution_count": 4,
   "metadata": {},
   "outputs": [],
   "source": [
    "phi = profs[\"phi\"]\n",
    "r_R500c = profs[\"r_R500\"]\n",
    "\n",
    "logM200c = halos[\"log M200\"]\n",
    "c200c = jnp.array(halos[\"c200\"])\n",
    "theta_halo = jnp.array([logM200c, c200c]).T\n",
    "\n",
    "target = jnp.array(\n",
    "    [\n",
    "        profs[\"rho_g\"],\n",
    "        profs[\"P_tot\"],\n",
    "        profs[\"P_tot\"] * (1 - profs[\"f_nt\"]),\n",
    "        profs[\"f_nt\"]\n",
    "    ]\n",
    ")\n",
    "\n",
    "def loss_fn_predict_parameters(theta_nn):\n",
    "    preds = jnp.array(model.predict_gas_model(theta_halo, phi, r_R500c, r_R500c / 2, theta_nn))\n",
    "    loss = jnp.mean((preds - target) ** 2)\n",
    "    return loss\n"
   ]
  },
  {
   "cell_type": "markdown",
   "metadata": {},
   "source": [
    "We can use `jax.value_and_grad` to compute, for an input $\\vartheta_{\\rm net}$, the value of the loss function and its gradients with respect to the components of $\\vartheta_{\\rm net}$:"
   ]
  },
  {
   "cell_type": "code",
   "execution_count": 5,
   "metadata": {},
   "outputs": [
    {
     "name": "stdout",
     "output_type": "stream",
     "text": [
      "loss=Array(38074.707, dtype=float32)\n",
      "grads={'params': {'dense1': {'bias': Array([ 58270.965 ,   1270.4299, -92806.11  , -12145.347 , -43320.98  ,\n",
      "        56307.63  , 173724.16  , -70639.39  ], dtype=float32), 'kernel': Array([[ 1.8392357e+04, -1.6453630e+02, -3.2486111e+04, -5.0701055e+03,\n",
      "        -1.4178481e+04,  1.8726604e+04,  5.6533211e+04, -2.2461031e+04],\n",
      "       [-7.8077700e+03,  1.2164474e+01,  1.3166547e+04,  1.8302389e+03,\n",
      "         5.9026392e+03, -7.6519834e+03, -2.3517016e+04,  9.3116113e+03]],      dtype=float32)}, 'input': {'bias': Array([-11739.604,  14578.093], dtype=float32), 'kernel': Array([[ -247.70816,  6898.422  ],\n",
      "       [-3853.504  ,  2785.027  ]], dtype=float32)}, 'output': {'bias': Array([ 1.4956984e+05,  5.1873672e+03,  2.2795432e+04, -1.9880947e+04,\n",
      "       -1.7064436e+04, -2.9367277e+01, -1.7362104e-01,  4.6830207e-01],      dtype=float32), 'kernel': Array([[-3.80387500e+04, -1.36697473e+03, -5.99984619e+03,\n",
      "         4.37259326e+03,  4.34060010e+03,  7.84999752e+00,\n",
      "         4.08214554e-02, -1.10736914e-01],\n",
      "       [-6.24872461e+04, -2.26172241e+03, -9.59820801e+03,\n",
      "         6.65628857e+03,  6.87957812e+03,  1.30283813e+01,\n",
      "         7.03168809e-02, -1.89780310e-01],\n",
      "       [ 6.02547031e+04,  2.19481128e+03,  9.26519434e+03,\n",
      "        -6.22332568e+03, -6.59921240e+03, -1.26720428e+01,\n",
      "        -6.72711357e-02,  1.81704745e-01],\n",
      "       [-9.15835254e+03, -3.38646088e+02, -1.34613513e+03,\n",
      "         8.04960205e+02,  9.39291687e+02,  1.96704817e+00,\n",
      "         1.09621044e-02, -2.94041857e-02],\n",
      "       [-3.94963555e+04, -1.43623022e+03, -6.03455957e+03,\n",
      "         4.07169116e+03,  4.30284229e+03,  8.28805447e+00,\n",
      "         4.47241105e-02, -1.20624945e-01],\n",
      "       [ 5.55639727e+04,  2.01307861e+03,  8.67196484e+03,\n",
      "        -6.03424951e+03, -6.21812451e+03, -1.15975189e+01,\n",
      "        -6.05350100e-02,  1.63924262e-01],\n",
      "       [-1.58600898e+04, -5.69119629e+02, -2.52834741e+03,\n",
      "         1.86166833e+03,  1.83299060e+03,  3.26602888e+00,\n",
      "         1.66752078e-02, -4.53307964e-02],\n",
      "       [-7.33646484e+04, -2.63882324e+03, -1.14125469e+04,\n",
      "         8.23434766e+03,  8.24088184e+03,  1.51616974e+01,\n",
      "         8.08998272e-02, -2.18838751e-01]], dtype=float32)}}}\n"
     ]
    }
   ],
   "source": [
    "loss_fn_and_grads = jax.jit(jax.value_and_grad(loss_fn_predict_parameters))\n",
    "loss, grads = loss_fn_and_grads(theta_nn)\n",
    "print(f\"{loss=}\")\n",
    "print(f\"{grads=}\")"
   ]
  },
  {
   "cell_type": "markdown",
   "metadata": {},
   "source": [
    "This loss function can then be optimized using, *e.g.*, `optax` (See the `optax` docs [here](https://optax.readthedocs.io/en/latest/index.html), in particular the tutorial to optimize the parameters of a `flax` model [here](https://optax.readthedocs.io/en/latest/_collections/examples/flax_example.html)):\n"
   ]
  },
  {
   "cell_type": "code",
   "execution_count": 6,
   "metadata": {},
   "outputs": [
    {
     "data": {
      "application/vnd.jupyter.widget-view+json": {
       "model_id": "ddd9f3b51a2340b0bb160fa6aa686830",
       "version_major": 2,
       "version_minor": 0
      },
      "text/plain": [
       "  0%|          | 0/100 [00:00<?, ?it/s]"
      ]
     },
     "metadata": {},
     "output_type": "display_data"
    }
   ],
   "source": [
    "optimizer = optax.adam(1e-2)\n",
    "opt_state = optimizer.init(theta_nn)\n",
    "\n",
    "@jax.jit\n",
    "def train_step(theta_nn, opt_state):\n",
    "    lt, grads = loss_fn_and_grads(theta_nn)\n",
    "\n",
    "    updates, opt_state = optimizer.update(grads, opt_state, theta_nn)\n",
    "    theta_nn = optax.apply_updates(theta_nn, updates)\n",
    "    \n",
    "    return theta_nn, opt_state, lt\n",
    "\n",
    "all_lt, all_lv = [], []\n",
    "for i in trange(100):\n",
    "    theta_nn, opt_state, lt = train_step(theta_nn, opt_state)\n",
    "    all_lt.append(lt)\n",
    "all_lt = jnp.array(all_lt)"
   ]
  },
  {
   "cell_type": "markdown",
   "metadata": {},
   "source": [
    "(note that you can accelerate this training loop using, e.g., `jax.lax.scan`)"
   ]
  },
  {
   "cell_type": "code",
   "execution_count": 7,
   "metadata": {},
   "outputs": [
    {
     "data": {
      "text/plain": [
       "Text(0, 0.5, 'Training loss')"
      ]
     },
     "execution_count": 7,
     "metadata": {},
     "output_type": "execute_result"
    },
    {
     "data": {
      "image/png": "[encoded data removed]",
      "text/plain": [
       "<Figure size 640x480 with 1 Axes>"
      ]
     },
     "metadata": {},
     "output_type": "display_data"
    }
   ],
   "source": [
    "fig, ax = plt.subplots()\n",
    "ax.plot(all_lt)\n",
    "ax.set_yscale(\"log\")\n",
    "ax.set_xlabel(\"Training epoch\")\n",
    "ax.set_ylabel(\"Training loss\")"
   ]
  }
 ],
 "metadata": {
  "kernelspec": {
   "display_name": "test_picasso",
   "language": "python",
   "name": "python3"
  },
  "language_info": {
   "codemirror_mode": {
    "name": "ipython",
    "version": 3
   },
   "file_extension": ".py",
   "mimetype": "text/x-python",
   "name": "python",
   "nbconvert_exporter": "python",
   "pygments_lexer": "ipython3",
   "version": "3.9.21"
  }
 },
 "nbformat": 4,
 "nbformat_minor": 2
}
