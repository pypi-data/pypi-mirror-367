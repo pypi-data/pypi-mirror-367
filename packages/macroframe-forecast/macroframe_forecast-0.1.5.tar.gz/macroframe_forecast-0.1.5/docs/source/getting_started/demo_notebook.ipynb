{
 "cells": [
  {
   "cell_type": "markdown",
   "id": "119ce457-3be7-4347-b670-cee5c7dc311e",
   "metadata": {},
   "source": [
    "# Introduction\n",
    "\n",
    "mff is a Python package developed for generating smooth forecasts for macroeconomic variables subject to pre-defined constraints. The purpose of the notebook is to walk through an example of using the main class from the package, called MFF, and taking a look at the main parts of the output which may be of interest to the user. This class is used for generated reconciled forecasts for single frequency data, i.e., all data is provided at one frequency (monthly/ quarterly/ yearly, etc.). MFF undertakes the following steps in order to genertate the final forecasts:\n",
    "\n",
    "1. Parsing constraints\n",
    "2. Estimating forecasts and residual covariance function\n",
    "3. Reconciliation and smoothening\n",
    "\n",
    "In this notebook, we will cover how to use the MFF class, and the output generated."
   ]
  },
  {
   "cell_type": "code",
   "execution_count": 1,
   "id": "8b8a4bd2-805f-4ee0-a458-20e6c9ca160a",
   "metadata": {},
   "outputs": [],
   "source": [
    "%load_ext autoreload\n",
    "%autoreload 2\n",
    "\n",
    "from sktime.datasets import load_macroeconomic\n",
    "import numpy as np\n",
    "import pandas as pd\n",
    "import matplotlib.pyplot as plt\n",
    "\n",
    "from mff import utils\n",
    "from mff import MFF"
   ]
  },
  {
   "cell_type": "markdown",
   "id": "6ee805b7-c379-4f5e-8783-cf6cb100d900",
   "metadata": {},
   "source": [
    "# Data and input formatting"
   ]
  },
  {
   "cell_type": "markdown",
   "id": "d6f8e1b1-1ca4-4731-9a5f-288997c3c9b0",
   "metadata": {},
   "source": [
    "We load in some synthetic data for this example. The data has to be provided as a Pandas DataFrame in a wide format: each row has one period's data, and each column has data for one variable. The row index must be of the type int or pd.PeriodIndex. All NaN values are treated as unknown points which have to be predicted. The dataframe must contain NaN for all periods which are to be forecasted for all variables."
   ]
  },
  {
   "cell_type": "code",
   "execution_count": 2,
   "id": "86e45ddb-931a-4e40-9dda-6c3a9dacd8d0",
   "metadata": {},
   "outputs": [
    {
     "name": "stdout",
     "output_type": "stream",
     "text": [
      "Historical data sample: \n",
      "\n",
      "          realgdp  realcons  realinv  realgovt  residual\n",
      "Period                                                 \n",
      "1959Q1  2710.349    1707.4  286.898   470.045   246.006\n",
      "1959Q2  2778.801    1733.7  310.859   481.301   252.941\n",
      "1959Q3  2775.488    1751.8  289.226   491.260   243.202\n",
      "1959Q4  2785.204    1753.7  299.356   484.052   248.096\n",
      "1960Q1  2847.699    1770.5  331.722   462.199   283.278\n",
      "\n",
      "\n",
      " Existing data for the forecast period: \n",
      "\n",
      "           realgdp  realcons   realinv  realgovt  residual\n",
      "Period                                                   \n",
      "2008Q3  13324.600       NaN       NaN   991.551       NaN\n",
      "2008Q4  13141.920       NaN       NaN  1007.273       NaN\n",
      "2009Q1  12925.410       NaN       NaN   996.287       NaN\n",
      "2009Q2  12901.504       NaN       NaN  1023.528       NaN\n",
      "2009Q3  12990.341       NaN  1486.398  1044.088       NaN\n"
     ]
    }
   ],
   "source": [
    "df_example = load_macroeconomic()[['realgdp', 'realcons', 'realinv', 'realgovt']]\n",
    "island_value = df_example.copy().iloc[-1,2]\n",
    "df_example.iloc[-5:,1:3] = np.nan\n",
    "df_example['residual'] = df_example['realgdp']-df_example['realcons']-df_example['realinv']-df_example['realgovt']\n",
    "df_example.iloc[-1,2] = island_value\n",
    "print('Historical data sample: \\n\\n', df_example.head())\n",
    "print('\\n\\n Existing data for the forecast period: \\n\\n', df_example.tail(5))"
   ]
  },
  {
   "cell_type": "markdown",
   "id": "8aeed55f-879c-4c6e-90a8-86d065782ea3",
   "metadata": {},
   "source": [
    "The example data frame has five variables: `realgdp`, `realcons`, `realinv`, `realgovt` and `residual`. The `residual` variable is constructed as the difference of the sum of consumption, investment and government spending variables from the GDP, and can be though of as including the net exports of the country and other residual differences. `realcons`, `realinv` and `residual` have missing data from 2008Q3 onwards, while `realgovt` and `realgdp` have data for the entire forecast horizon. This is a situation where the forecaster has an idea of the GDP and Government spending for the forecast horizon, with no priors on the Consumption. `realinv` has one value in 2009Q3 after four NaN values, which we call an island from here on. This means that the forecaster believes that  `realinv` will reach a certain value at the end of the forecast period, while the forecasts for the previous four periods are not known a priori."
   ]
  },
  {
   "cell_type": "markdown",
   "id": "ba847427-d041-4ecc-af91-a91cfe5f79d2",
   "metadata": {},
   "source": [
    "Once the data has been prepared in the required format, the next step is to define constraints. Constraints can be of two types: equality and inequality constrainsts. Constraints can be defined for one time period, or across all time periods using a wildcard. In this example, we assume that for all time periods, the following accounting identity holds:\n",
    "`realgdp` = `realcons` + `realinv` + `realgovt` + `residual`.\n",
    "This can be defined as follows:"
   ]
  },
  {
   "cell_type": "code",
   "execution_count": 3,
   "id": "3a0fcf56-7050-4d1f-bb8a-93bfae44189d",
   "metadata": {},
   "outputs": [],
   "source": [
    "equality_constraint = ['realgdp? - realcons? - realinv? - realgovt? - residual?']"
   ]
  },
  {
   "cell_type": "markdown",
   "id": "7173c8eb-a13f-411b-af95-5bb2341f8d43",
   "metadata": {},
   "source": [
    "The '?' in the above constraints act as the wildcard symbol,signifying that the identity holds over all periods of time. If instead one expects the constraint to only be binding in one period of time, say 2009Q1, the ? should be replaced by '2009Q1' for all variables in the constraint. Note that the constraint has to be input as a list, even when only one constraint is used."
   ]
  },
  {
   "cell_type": "markdown",
   "id": "8a0bc6c7-9e27-49e3-9905-f7272d45cf3d",
   "metadata": {},
   "source": [
    "With the data and constraints, we can proceed to estimating the models. The estimation happens in two steps: the first step involves generating unconstrained forecasts for all unknown variables at all forecast horizons. These unconstrained forecasts are then recolciled in the next step to make sure all constraints are satisfied and all island values are incorporated, with these forecasts smoothened over the entire horizon. Note that all forecasts are carried out using independent models, and different models may be used for estimating the same variable over multiple time horizons."
   ]
  },
  {
   "cell_type": "markdown",
   "id": "f5faf0ca-a9e5-4e26-a551-97ee2a52cd8f",
   "metadata": {},
   "source": [
    "By default, a GridSearch method is used to find the best model for each variable and for each horizon. This GridSearch considers the following models:\n",
    "- Naive Forecaster with drift strategy\n",
    "- Naive forecaster with last strategy\n",
    "- Naive forecaster with mean strategy\n",
    "- Elastic Net Model\n",
    "This can be initialised as follows:"
   ]
  },
  {
   "cell_type": "code",
   "execution_count": 4,
   "id": "dd7fd2c5-93b0-4200-9e5b-a8150dd40a59",
   "metadata": {},
   "outputs": [],
   "source": [
    "BaseForecaster = utils.DefaultForecaster()"
   ]
  },
  {
   "cell_type": "markdown",
   "id": "07626139-68db-4d75-bb0c-0d5e84c3834e",
   "metadata": {},
   "source": [
    "The user also has an option to define a different forecasting pipeline, with the models to be fit. This has to be derived from sktime's BaseForecaster class."
   ]
  },
  {
   "cell_type": "markdown",
   "id": "498cae78-06c1-4d02-86fe-dd24b216b498",
   "metadata": {},
   "source": [
    "Now we have all the inputs required to be able to estimate the model. We assume there are no inequality constraints for this example; if there are any, these can be input in a similar way as the equality constraints using the `ineq_constraints_with_wildcard` argument as well."
   ]
  },
  {
   "cell_type": "markdown",
   "id": "c6a86883-b930-4b17-81bd-e435b2077c34",
   "metadata": {},
   "source": [
    "# Model fitting- Single frequency data"
   ]
  },
  {
   "cell_type": "code",
   "execution_count": 5,
   "id": "12e45fc3-d51e-403d-86e6-5293162eeeab",
   "metadata": {},
   "outputs": [
    {
     "name": "stdout",
     "output_type": "stream",
     "text": [
      "Dask filled 15 out-of-sample cells: 12.642 seconds\n",
      "Dask filled 75 in-sample cells: 15.322 seconds\n"
     ]
    },
    {
     "data": {
      "text/html": [
       "<div>\n",
       "<style scoped>\n",
       "    .dataframe tbody tr th:only-of-type {\n",
       "        vertical-align: middle;\n",
       "    }\n",
       "\n",
       "    .dataframe tbody tr th {\n",
       "        vertical-align: top;\n",
       "    }\n",
       "\n",
       "    .dataframe thead th {\n",
       "        text-align: right;\n",
       "    }\n",
       "</style>\n",
       "<table border=\"1\" class=\"dataframe\">\n",
       "  <thead>\n",
       "    <tr style=\"text-align: right;\">\n",
       "      <th></th>\n",
       "      <th>realgdp</th>\n",
       "      <th>realcons</th>\n",
       "      <th>realinv</th>\n",
       "      <th>realgovt</th>\n",
       "      <th>residual</th>\n",
       "    </tr>\n",
       "    <tr>\n",
       "      <th>Period</th>\n",
       "      <th></th>\n",
       "      <th></th>\n",
       "      <th></th>\n",
       "      <th></th>\n",
       "      <th></th>\n",
       "    </tr>\n",
       "  </thead>\n",
       "  <tbody>\n",
       "    <tr>\n",
       "      <th>1959Q1</th>\n",
       "      <td>2710.349</td>\n",
       "      <td>1707.400000</td>\n",
       "      <td>286.898000</td>\n",
       "      <td>470.045</td>\n",
       "      <td>246.006000</td>\n",
       "    </tr>\n",
       "    <tr>\n",
       "      <th>1959Q2</th>\n",
       "      <td>2778.801</td>\n",
       "      <td>1733.700000</td>\n",
       "      <td>310.859000</td>\n",
       "      <td>481.301</td>\n",
       "      <td>252.941000</td>\n",
       "    </tr>\n",
       "    <tr>\n",
       "      <th>1959Q3</th>\n",
       "      <td>2775.488</td>\n",
       "      <td>1751.800000</td>\n",
       "      <td>289.226000</td>\n",
       "      <td>491.260</td>\n",
       "      <td>243.202000</td>\n",
       "    </tr>\n",
       "    <tr>\n",
       "      <th>1959Q4</th>\n",
       "      <td>2785.204</td>\n",
       "      <td>1753.700000</td>\n",
       "      <td>299.356000</td>\n",
       "      <td>484.052</td>\n",
       "      <td>248.096000</td>\n",
       "    </tr>\n",
       "    <tr>\n",
       "      <th>1960Q1</th>\n",
       "      <td>2847.699</td>\n",
       "      <td>1770.500000</td>\n",
       "      <td>331.722000</td>\n",
       "      <td>462.199</td>\n",
       "      <td>283.278000</td>\n",
       "    </tr>\n",
       "    <tr>\n",
       "      <th>...</th>\n",
       "      <td>...</td>\n",
       "      <td>...</td>\n",
       "      <td>...</td>\n",
       "      <td>...</td>\n",
       "      <td>...</td>\n",
       "    </tr>\n",
       "    <tr>\n",
       "      <th>2008Q3</th>\n",
       "      <td>13324.600</td>\n",
       "      <td>9333.081496</td>\n",
       "      <td>2050.047440</td>\n",
       "      <td>991.551</td>\n",
       "      <td>949.920064</td>\n",
       "    </tr>\n",
       "    <tr>\n",
       "      <th>2008Q4</th>\n",
       "      <td>13141.920</td>\n",
       "      <td>9420.409014</td>\n",
       "      <td>1900.771423</td>\n",
       "      <td>1007.273</td>\n",
       "      <td>813.466563</td>\n",
       "    </tr>\n",
       "    <tr>\n",
       "      <th>2009Q1</th>\n",
       "      <td>12925.410</td>\n",
       "      <td>9509.252236</td>\n",
       "      <td>1757.776801</td>\n",
       "      <td>996.287</td>\n",
       "      <td>662.093963</td>\n",
       "    </tr>\n",
       "    <tr>\n",
       "      <th>2009Q2</th>\n",
       "      <td>12901.504</td>\n",
       "      <td>9600.582565</td>\n",
       "      <td>1621.776245</td>\n",
       "      <td>1023.528</td>\n",
       "      <td>655.617190</td>\n",
       "    </tr>\n",
       "    <tr>\n",
       "      <th>2009Q3</th>\n",
       "      <td>12990.341</td>\n",
       "      <td>9693.660428</td>\n",
       "      <td>1486.398000</td>\n",
       "      <td>1044.088</td>\n",
       "      <td>766.194572</td>\n",
       "    </tr>\n",
       "  </tbody>\n",
       "</table>\n",
       "<p>203 rows × 5 columns</p>\n",
       "</div>"
      ],
      "text/plain": [
       "          realgdp     realcons      realinv  realgovt    residual\n",
       "Period                                                           \n",
       "1959Q1   2710.349  1707.400000   286.898000   470.045  246.006000\n",
       "1959Q2   2778.801  1733.700000   310.859000   481.301  252.941000\n",
       "1959Q3   2775.488  1751.800000   289.226000   491.260  243.202000\n",
       "1959Q4   2785.204  1753.700000   299.356000   484.052  248.096000\n",
       "1960Q1   2847.699  1770.500000   331.722000   462.199  283.278000\n",
       "...           ...          ...          ...       ...         ...\n",
       "2008Q3  13324.600  9333.081496  2050.047440   991.551  949.920064\n",
       "2008Q4  13141.920  9420.409014  1900.771423  1007.273  813.466563\n",
       "2009Q1  12925.410  9509.252236  1757.776801   996.287  662.093963\n",
       "2009Q2  12901.504  9600.582565  1621.776245  1023.528  655.617190\n",
       "2009Q3  12990.341  9693.660428  1486.398000  1044.088  766.194572\n",
       "\n",
       "[203 rows x 5 columns]"
      ]
     },
     "execution_count": 5,
     "metadata": {},
     "output_type": "execute_result"
    }
   ],
   "source": [
    "mff_model = MFF(df = df_example, \n",
    "            forecaster = BaseForecaster, \n",
    "            constraints_with_wildcard = equality_constraint, \n",
    "            ineq_constraints_with_wildcard = [], \n",
    "            parallelize = True)\n",
    "\n",
    "mff_model.fit()"
   ]
  },
  {
   "cell_type": "markdown",
   "id": "9b38f495-9649-4900-a74b-011718fd63f8",
   "metadata": {},
   "source": [
    "The `fit()` method carries out the following steps\n",
    "- Parse through constraints and convert them into matrix form.\n",
    "- Generate first step forecasts using the model defined in BaseForecaster.\n",
    "- Calculate the smoothing parameters to be used.\n",
    "- Reconcile first step forecasts to all constraints, and ensure the forecasts are smooth."
   ]
  },
  {
   "cell_type": "markdown",
   "id": "f2f997b2-aeee-415f-bdec-66adc2e48d38",
   "metadata": {},
   "source": [
    "The full dataframe with first step forecasts fill in are stored as df1 in the mff object, and the models used for each forecast are stored in a dataframe named df1_models. These can be accessed as follows: "
   ]
  },
  {
   "cell_type": "code",
   "execution_count": 6,
   "id": "bc8fc7eb-3ae1-4d97-a1ae-1bfca470d209",
   "metadata": {},
   "outputs": [
    {
     "name": "stdout",
     "output_type": "stream",
     "text": [
      "First step forecasts: \n",
      "\n",
      "         realcons   realinv    residual\n",
      "Period                                \n",
      "2008Q3  9370.725  2082.886  1033.90225\n",
      "2008Q4  9391.850  2082.886  1076.79750\n",
      "2009Q1  9412.975  2082.886  1119.69275\n",
      "2009Q2  9434.100  2082.886  1162.58800\n",
      "2009Q3  9455.225  2082.886  1205.48325\n",
      "First step models: \n",
      "\n",
      "                                                  realcons  \\\n",
      "Period                                                      \n",
      "2008Q3  ForecastingGridSearchCV(backend='dask', cv=Exp...   \n",
      "2008Q4  ForecastingGridSearchCV(backend='dask', cv=Exp...   \n",
      "2009Q1  ForecastingGridSearchCV(backend='dask', cv=Exp...   \n",
      "2009Q2  ForecastingGridSearchCV(backend='dask', cv=Exp...   \n",
      "2009Q3  ForecastingGridSearchCV(backend='dask', cv=Exp...   \n",
      "\n",
      "                                                  realinv  \\\n",
      "Period                                                      \n",
      "2008Q3  ForecastingGridSearchCV(backend='dask', cv=Exp...   \n",
      "2008Q4  ForecastingGridSearchCV(backend='dask', cv=Exp...   \n",
      "2009Q1  ForecastingGridSearchCV(backend='dask', cv=Exp...   \n",
      "2009Q2  ForecastingGridSearchCV(backend='dask', cv=Exp...   \n",
      "2009Q3  ForecastingGridSearchCV(backend='dask', cv=Exp...   \n",
      "\n",
      "                                                 residual  \n",
      "Period                                                     \n",
      "2008Q3  ForecastingGridSearchCV(backend='dask', cv=Exp...  \n",
      "2008Q4  ForecastingGridSearchCV(backend='dask', cv=Exp...  \n",
      "2009Q1  ForecastingGridSearchCV(backend='dask', cv=Exp...  \n",
      "2009Q2  ForecastingGridSearchCV(backend='dask', cv=Exp...  \n",
      "2009Q3  ForecastingGridSearchCV(backend='dask', cv=Exp...  \n"
     ]
    }
   ],
   "source": [
    "df_first_step = mff_model.df1\n",
    "print( 'First step forecasts: \\n\\n',  df_first_step[['realcons', 'realinv', 'residual']].tail(5))\n",
    "\n",
    "df_first_step_models = mff_model.df1_model\n",
    "print('First step models: \\n\\n', df_first_step_models[['realcons', 'realinv', 'residual']].tail(5))"
   ]
  },
  {
   "cell_type": "markdown",
   "id": "f2c132be-080a-4dc9-9f04-718e45675725",
   "metadata": {},
   "source": [
    "Note that there was an island value for `realinv` at time 2009Q3. The first step forecast for `realinv` for that period is not the same, since reconciliation has not taken place yet. Similarly, the accounting identity also does not hold for any time period here. These will be taken care of in the reconciliation step."
   ]
  },
  {
   "cell_type": "markdown",
   "id": "1493d032-2918-4884-9b86-a70a6c84a332",
   "metadata": {},
   "source": [
    "It is useful to look at the matrix of constraints used. These are converted to matrix form, and are in the form \n",
    "$C Y = d$, where $C$ and $d$ are matrices of constraints, as in equation (1) of Ando (2024)."
   ]
  },
  {
   "cell_type": "code",
   "execution_count": 7,
   "id": "dce4af0c-a6c3-4f6e-bfd1-86c0c93804b4",
   "metadata": {},
   "outputs": [
    {
     "name": "stdout",
     "output_type": "stream",
     "text": [
      "C matrix is: \n",
      " \n",
      "                                                    realcons                \\\n",
      "Period                                               2008Q3 2008Q4 2009Q1   \n",
      "(realinv, 2009Q3)                                       0.0    0.0    0.0   \n",
      "realgdp_2008Q3 - realcons_2008Q3 - realinv_2008...     -1.0    0.0    0.0   \n",
      "realgdp_2008Q4 - realcons_2008Q4 - realinv_2008...      0.0   -1.0    0.0   \n",
      "realgdp_2009Q1 - realcons_2009Q1 - realinv_2009...      0.0    0.0   -1.0   \n",
      "realgdp_2009Q2 - realcons_2009Q2 - realinv_2009...      0.0    0.0    0.0   \n",
      "realgdp_2009Q3 - realcons_2009Q3 - realinv_2009...      0.0    0.0    0.0   \n",
      "\n",
      "                                                                 realinv  \\\n",
      "Period                                             2009Q2 2009Q3  2008Q3   \n",
      "(realinv, 2009Q3)                                     0.0    0.0     0.0   \n",
      "realgdp_2008Q3 - realcons_2008Q3 - realinv_2008...    0.0    0.0    -1.0   \n",
      "realgdp_2008Q4 - realcons_2008Q4 - realinv_2008...    0.0    0.0     0.0   \n",
      "realgdp_2009Q1 - realcons_2009Q1 - realinv_2009...    0.0    0.0     0.0   \n",
      "realgdp_2009Q2 - realcons_2009Q2 - realinv_2009...   -1.0    0.0     0.0   \n",
      "realgdp_2009Q3 - realcons_2009Q3 - realinv_2009...    0.0   -1.0     0.0   \n",
      "\n",
      "                                                                         \\\n",
      "Period                                             2008Q4 2009Q1 2009Q2   \n",
      "(realinv, 2009Q3)                                     0.0    0.0    0.0   \n",
      "realgdp_2008Q3 - realcons_2008Q3 - realinv_2008...    0.0    0.0    0.0   \n",
      "realgdp_2008Q4 - realcons_2008Q4 - realinv_2008...   -1.0    0.0    0.0   \n",
      "realgdp_2009Q1 - realcons_2009Q1 - realinv_2009...    0.0   -1.0    0.0   \n",
      "realgdp_2009Q2 - realcons_2009Q2 - realinv_2009...    0.0    0.0   -1.0   \n",
      "realgdp_2009Q3 - realcons_2009Q3 - realinv_2009...    0.0    0.0    0.0   \n",
      "\n",
      "                                                          residual         \\\n",
      "Period                                             2009Q3   2008Q3 2008Q4   \n",
      "(realinv, 2009Q3)                                     1.0      0.0    0.0   \n",
      "realgdp_2008Q3 - realcons_2008Q3 - realinv_2008...    0.0     -1.0    0.0   \n",
      "realgdp_2008Q4 - realcons_2008Q4 - realinv_2008...    0.0      0.0   -1.0   \n",
      "realgdp_2009Q1 - realcons_2009Q1 - realinv_2009...    0.0      0.0    0.0   \n",
      "realgdp_2009Q2 - realcons_2009Q2 - realinv_2009...    0.0      0.0    0.0   \n",
      "realgdp_2009Q3 - realcons_2009Q3 - realinv_2009...   -1.0      0.0    0.0   \n",
      "\n",
      "                                                                         \n",
      "Period                                             2009Q1 2009Q2 2009Q3  \n",
      "(realinv, 2009Q3)                                     0.0    0.0    0.0  \n",
      "realgdp_2008Q3 - realcons_2008Q3 - realinv_2008...    0.0    0.0    0.0  \n",
      "realgdp_2008Q4 - realcons_2008Q4 - realinv_2008...    0.0    0.0    0.0  \n",
      "realgdp_2009Q1 - realcons_2009Q1 - realinv_2009...   -1.0    0.0    0.0  \n",
      "realgdp_2009Q2 - realcons_2009Q2 - realinv_2009...    0.0   -1.0    0.0  \n",
      "realgdp_2009Q3 - realcons_2009Q3 - realinv_2009...    0.0    0.0   -1.0  \n",
      "\n",
      " \n",
      " d matrix is: \n",
      " \n",
      "                                                             0\n",
      "(realinv, 2009Q3)                                    1486.398\n",
      "realgdp_2008Q3 - realcons_2008Q3 - realinv_2008... -12333.049\n",
      "realgdp_2008Q4 - realcons_2008Q4 - realinv_2008... -12134.647\n",
      "realgdp_2009Q1 - realcons_2009Q1 - realinv_2009... -11929.123\n",
      "realgdp_2009Q2 - realcons_2009Q2 - realinv_2009... -11877.976\n",
      "realgdp_2009Q3 - realcons_2009Q3 - realinv_2009... -11946.253\n"
     ]
    }
   ],
   "source": [
    "C_matrix = mff_model.C\n",
    "d_matrix = mff_model.d\n",
    "\n",
    "print('C matrix is: \\n \\n', C_matrix)\n",
    "print('\\n \\n d matrix is: \\n \\n', d_matrix)"
   ]
  },
  {
   "cell_type": "markdown",
   "id": "f2b7d69f-cf8f-4627-9af1-fdce8dd19c14",
   "metadata": {},
   "source": [
    "The parameters which are used for the reconciliation step are also stored in mff. These are stored as `W`, `Phi` and `smoothness`. W is the weight matrix which is derived from the errors of in-sample forecasting, and `Phi` is a symmetric block-diagonal smoothness matrix, as defined in Ando (2024). `smoothness` contains the smoothness parameters ($\\lambda$) used in the `Phi` matrix, which are empirically estimated by default.   "
   ]
  },
  {
   "cell_type": "code",
   "execution_count": 8,
   "id": "55312fdd-30f4-4fc0-801c-9fc804de6dd9",
   "metadata": {},
   "outputs": [
    {
     "name": "stdout",
     "output_type": "stream",
     "text": [
      "Wrighting matrix (W) is: \n",
      "\n",
      "                     realcons                                         \\\n",
      "Period                2008Q3       2008Q4       2009Q1       2009Q2   \n",
      "         Period                                                       \n",
      "realcons 2008Q3  1502.675228    57.228541   -59.671415   -34.643382   \n",
      "         2008Q4    57.228541  1534.123697   198.733682   305.288098   \n",
      "         2009Q1   -59.671415   198.733682  1880.727408   956.215021   \n",
      "         2009Q2   -34.643382   305.288098   956.215021  3167.958422   \n",
      "         2009Q3  -174.274054   404.553571  1225.604956  2265.364772   \n",
      "realinv  2008Q3  -392.054974  -422.997493  -107.449457   -88.384187   \n",
      "         2008Q4  -190.409262  -636.030627  -649.278670  -943.368512   \n",
      "         2009Q1     6.842762  -431.552492  -821.477580 -1312.420165   \n",
      "         2009Q2  -145.120799  -256.856544  -624.719535 -1211.478060   \n",
      "         2009Q3  -322.736350  -294.794203  -299.302082  -614.367661   \n",
      "residual 2008Q3   126.526296  -135.967261  -480.180419  -717.990583   \n",
      "         2008Q4    51.460159  -188.419273  -587.228952 -1214.143082   \n",
      "         2009Q1    79.873151  -403.705316  -915.156124 -1588.294255   \n",
      "         2009Q2   304.328883  -257.258936  -918.667886 -1654.200498   \n",
      "         2009Q3   177.566514  -249.262099 -1121.433991 -2066.597708   \n",
      "\n",
      "                                  realinv                            \\\n",
      "Period                2009Q3       2008Q3       2008Q4       2009Q1   \n",
      "         Period                                                       \n",
      "realcons 2008Q3  -174.274054  -392.054974  -190.409262     6.842762   \n",
      "         2008Q4   404.553571  -422.997493  -636.030627  -431.552492   \n",
      "         2009Q1  1225.604956  -107.449457  -649.278670  -821.477580   \n",
      "         2009Q2  2265.364772   -88.384187  -943.368512 -1312.420165   \n",
      "         2009Q3  4213.678752    28.078749 -1215.495326 -1697.413876   \n",
      "realinv  2008Q3    28.078749  2708.090459  1305.962912   565.119687   \n",
      "         2008Q4 -1215.495326  1305.962912  3233.662001  1357.879744   \n",
      "         2009Q1 -1697.413876   565.119687  1357.879744  2654.731051   \n",
      "         2009Q2 -1362.864950   450.835549   852.851952   934.662865   \n",
      "         2009Q3  -557.386269   909.968217   942.656784   624.352935   \n",
      "residual 2008Q3  -984.558078   -30.716675   476.515194   679.856031   \n",
      "         2008Q4 -1503.359632   -53.888402   523.020197   781.616015   \n",
      "         2009Q1 -2056.883370   293.809224  1225.338200  1385.358569   \n",
      "         2009Q2 -2252.625855  -377.450072   719.618060  1214.432799   \n",
      "         2009Q3 -2599.930271  -231.461714   827.698283  1453.890977   \n",
      "\n",
      "                                              residual               \\\n",
      "Period                2009Q2       2009Q3       2008Q3       2008Q4   \n",
      "         Period                                                       \n",
      "realcons 2008Q3  -145.120799  -322.736350   126.526296    51.460159   \n",
      "         2008Q4  -256.856544  -294.794203  -135.967261  -188.419273   \n",
      "         2009Q1  -624.719535  -299.302082  -480.180419  -587.228952   \n",
      "         2009Q2 -1211.478060  -614.367661  -717.990583 -1214.143082   \n",
      "         2009Q3 -1362.864950  -557.386269  -984.558078 -1503.359632   \n",
      "realinv  2008Q3   450.835549   909.968217   -30.716675   -53.888402   \n",
      "         2008Q4   852.851952   942.656784   476.515194   523.020197   \n",
      "         2009Q1   934.662865   624.352935   679.856031   781.616015   \n",
      "         2009Q2  2286.703857   722.871419   422.674044   729.965240   \n",
      "         2009Q3   722.871419  2173.245556   106.133847   322.993222   \n",
      "residual 2008Q3   422.674044   106.133847  1775.295296   421.030604   \n",
      "         2008Q4   729.965240   322.993222   421.030604  2159.828909   \n",
      "         2009Q1  1016.005690   539.980339   742.548930  1019.565097   \n",
      "         2009Q2   817.331526    89.327230   798.807944  1148.860203   \n",
      "         2009Q3  1260.831338   438.188619   927.866853  1333.077163   \n",
      "\n",
      "                                                        \n",
      "Period                2009Q1       2009Q2       2009Q3  \n",
      "         Period                                         \n",
      "realcons 2008Q3    79.873151   304.328883   177.566514  \n",
      "         2008Q4  -403.705316  -257.258936  -249.262099  \n",
      "         2009Q1  -915.156124  -918.667886 -1121.433991  \n",
      "         2009Q2 -1588.294255 -1654.200498 -2066.597708  \n",
      "         2009Q3 -2056.883370 -2252.625855 -2599.930271  \n",
      "realinv  2008Q3   293.809224  -377.450072  -231.461714  \n",
      "         2008Q4  1225.338200   719.618060   827.698283  \n",
      "         2009Q1  1385.358569  1214.432799  1453.890977  \n",
      "         2009Q2  1016.005690   817.331526  1260.831338  \n",
      "         2009Q3   539.980339    89.327230   438.188619  \n",
      "residual 2008Q3   742.548930   798.807944   927.866853  \n",
      "         2008Q4  1019.565097  1148.860203  1333.077163  \n",
      "         2009Q1  2873.494604  1558.037786  1784.315863  \n",
      "         2009Q2  1558.037786  3240.572269  2000.862178  \n",
      "         2009Q3  1784.315863  2000.862178  3772.929759  \n",
      "Smoothing matrix (Phi) is: \n",
      "\n",
      "                  realcons                                           realinv  \\\n",
      "Period             2008Q3    2008Q4    2009Q1    2009Q2    2009Q3    2008Q3   \n",
      "         Period                                                               \n",
      "realcons 2008Q3  0.037549 -0.075099  0.037549  0.000000  0.000000  0.000000   \n",
      "         2008Q4 -0.075099  0.187747 -0.150198  0.037549  0.000000  0.000000   \n",
      "         2009Q1  0.037549 -0.150198  0.225297 -0.150198  0.037549  0.000000   \n",
      "         2009Q2  0.000000  0.037549 -0.150198  0.187747 -0.075099  0.000000   \n",
      "         2009Q3  0.000000  0.000000  0.037549 -0.075099  0.037549  0.000000   \n",
      "realinv  2008Q3  0.000000  0.000000  0.000000  0.000000  0.000000  0.009665   \n",
      "         2008Q4  0.000000  0.000000  0.000000  0.000000  0.000000 -0.019330   \n",
      "         2009Q1  0.000000  0.000000  0.000000  0.000000  0.000000  0.009665   \n",
      "         2009Q2  0.000000  0.000000  0.000000  0.000000  0.000000  0.000000   \n",
      "         2009Q3  0.000000  0.000000  0.000000  0.000000  0.000000  0.000000   \n",
      "residual 2008Q3  0.000000  0.000000  0.000000  0.000000  0.000000  0.000000   \n",
      "         2008Q4  0.000000  0.000000  0.000000  0.000000  0.000000  0.000000   \n",
      "         2009Q1  0.000000  0.000000  0.000000  0.000000  0.000000  0.000000   \n",
      "         2009Q2  0.000000  0.000000  0.000000  0.000000  0.000000  0.000000   \n",
      "         2009Q3  0.000000  0.000000  0.000000  0.000000  0.000000  0.000000   \n",
      "\n",
      "                                                        residual         \\\n",
      "Period             2008Q4    2009Q1    2009Q2    2009Q3   2008Q3 2008Q4   \n",
      "         Period                                                           \n",
      "realcons 2008Q3  0.000000  0.000000  0.000000  0.000000      0.0    0.0   \n",
      "         2008Q4  0.000000  0.000000  0.000000  0.000000      0.0    0.0   \n",
      "         2009Q1  0.000000  0.000000  0.000000  0.000000      0.0    0.0   \n",
      "         2009Q2  0.000000  0.000000  0.000000  0.000000      0.0    0.0   \n",
      "         2009Q3  0.000000  0.000000  0.000000  0.000000      0.0    0.0   \n",
      "realinv  2008Q3 -0.019330  0.009665  0.000000  0.000000      0.0    0.0   \n",
      "         2008Q4  0.048324 -0.038659  0.009665  0.000000      0.0    0.0   \n",
      "         2009Q1 -0.038659  0.057989 -0.038659  0.009665      0.0    0.0   \n",
      "         2009Q2  0.009665 -0.038659  0.048324 -0.019330      0.0    0.0   \n",
      "         2009Q3  0.000000  0.009665 -0.019330  0.009665      0.0    0.0   \n",
      "residual 2008Q3  0.000000  0.000000  0.000000  0.000000      0.0   -0.0   \n",
      "         2008Q4  0.000000  0.000000  0.000000  0.000000     -0.0    0.0   \n",
      "         2009Q1  0.000000  0.000000  0.000000  0.000000      0.0   -0.0   \n",
      "         2009Q2  0.000000  0.000000  0.000000  0.000000      0.0    0.0   \n",
      "         2009Q3  0.000000  0.000000  0.000000  0.000000      0.0    0.0   \n",
      "\n",
      "                                      \n",
      "Period          2009Q1 2009Q2 2009Q3  \n",
      "         Period                       \n",
      "realcons 2008Q3    0.0    0.0    0.0  \n",
      "         2008Q4    0.0    0.0    0.0  \n",
      "         2009Q1    0.0    0.0    0.0  \n",
      "         2009Q2    0.0    0.0    0.0  \n",
      "         2009Q3    0.0    0.0    0.0  \n",
      "realinv  2008Q3    0.0    0.0    0.0  \n",
      "         2008Q4    0.0    0.0    0.0  \n",
      "         2009Q1    0.0    0.0    0.0  \n",
      "         2009Q2    0.0    0.0    0.0  \n",
      "         2009Q3    0.0    0.0    0.0  \n",
      "residual 2008Q3    0.0    0.0    0.0  \n",
      "         2008Q4   -0.0    0.0    0.0  \n",
      "         2009Q1    0.0   -0.0    0.0  \n",
      "         2009Q2   -0.0    0.0   -0.0  \n",
      "         2009Q3    0.0   -0.0    0.0  \n",
      "smoothness parameters are: \n",
      "\n",
      " MultiIndex([('realcons', '2008Q3'),\n",
      "            ('realcons', '2008Q4'),\n",
      "            ('realcons', '2009Q1'),\n",
      "            ('realcons', '2009Q2'),\n",
      "            ('realcons', '2009Q3')],\n",
      "           names=[None, 'Period'])    56.424668\n",
      "MultiIndex([('realinv', '2008Q3'),\n",
      "            ('realinv', '2008Q4'),\n",
      "            ('realinv', '2009Q1'),\n",
      "            ('realinv', '2009Q2'),\n",
      "            ('realinv', '2009Q3')],\n",
      "           names=[None, 'Period'])         21.004029\n",
      "MultiIndex([('residual', '2008Q3'),\n",
      "            ('residual', '2008Q4'),\n",
      "            ('residual', '2009Q1'),\n",
      "            ('residual', '2009Q2'),\n",
      "            ('residual', '2009Q3')],\n",
      "           names=[None, 'Period'])     0.000000\n",
      "dtype: float64\n"
     ]
    }
   ],
   "source": [
    "W = mff_model.W\n",
    "Phi = mff_model.Phi\n",
    "smoothness = mff_model.smoothness\n",
    "\n",
    "print('Wrighting matrix (W) is: \\n\\n', W)\n",
    "print('Smoothing matrix (Phi) is: \\n\\n', Phi)\n",
    "print('smoothness parameters are: \\n\\n', smoothness)"
   ]
  },
  {
   "cell_type": "markdown",
   "id": "f09bce13-42f4-4cee-9145-bb05ada173a2",
   "metadata": {},
   "source": [
    "Finally, the input dataframe with reconciled and smooth forecasts filled in can be retreived as the dataframe `df2` from the mff object."
   ]
  },
  {
   "cell_type": "code",
   "execution_count": 9,
   "id": "89d4b213",
   "metadata": {},
   "outputs": [
    {
     "name": "stdout",
     "output_type": "stream",
     "text": [
      "Values over the forecast horizon are: \n",
      " \n",
      "           realgdp     realcons      realinv  realgovt    residual\n",
      "Period                                                           \n",
      "2008Q3  13324.600  9333.081496  2050.047440   991.551  949.920064\n",
      "2008Q4  13141.920  9420.409014  1900.771423  1007.273  813.466563\n",
      "2009Q1  12925.410  9509.252236  1757.776801   996.287  662.093963\n",
      "2009Q2  12901.504  9600.582565  1621.776245  1023.528  655.617190\n",
      "2009Q3  12990.341  9693.660428  1486.398000  1044.088  766.194572\n"
     ]
    }
   ],
   "source": [
    "df_reconciled = mff_model.df2\n",
    "\n",
    "print('Values over the forecast horizon are: \\n \\n', df_reconciled[-5:])"
   ]
  },
  {
   "cell_type": "markdown",
   "id": "b0e626f0-1088-4188-8fad-6c16d7b83c36",
   "metadata": {},
   "source": [
    "Looking at the forecasts for `realinv` in the first and final steps, it becomes clear that after the reconciliation step, the final forecasts match the island value provided, and the intermediate horizon forecasts are also adjusted in a way to keep the forecast path smooth."
   ]
  },
  {
   "cell_type": "code",
   "execution_count": 10,
   "id": "883cf629-f01f-4d16-a602-21f592de8137",
   "metadata": {},
   "outputs": [
    {
     "data": {
      "image/png": "[encoded data removed]",
      "text/plain": [
       "<Figure size 1000x600 with 1 Axes>"
      ]
     },
     "metadata": {},
     "output_type": "display_data"
    }
   ],
   "source": [
    "fig, ax = plt.subplots(figsize=(10, 6)) \n",
    "\n",
    "df_first_step['realinv'].plot(ax=ax, label='First step forecasts', linestyle = '--')\n",
    "df_reconciled['realinv'].plot(ax=ax, label='Final forecasts')\n",
    "\n",
    "ax.plot(df_example.index[-1], df_example['realinv'].iloc[-1], 'o', markersize=10, color='red')\n",
    "ax.text(df_example.index[-1] - 1, df_example['realinv'].iloc[-1]-100, 'Island Value', fontsize = 12, verticalalignment = 'top')\n",
    "\n",
    "ax.set_xlabel('Time period')  \n",
    "ax.set_ylabel('realinv')  \n",
    "ax.set_title('Forecast Comparison')  \n",
    "ax.legend(loc = 'lower left')\n",
    "\n",
    "ax_xlastvalue = df_reconciled.index.max() + 1\n",
    "ax.set_xlim(['2007-Q3', '2009-Q4'])\n",
    "\n",
    "df_reconciled['slack'] = round(df_reconciled['realgdp'] - df_reconciled[['realcons', 'realinv', 'realgovt', 'residual']].sum(axis = 1),2)\n",
    "plt.show()"
   ]
  },
  {
   "cell_type": "markdown",
   "id": "a1e4e338-6c96-4c23-83de-213ffaad750c",
   "metadata": {},
   "source": [
    "Recall that the constraint has been defined as \n",
    "`realgdp` = `realcons` + `realinv` + `realgovt` + `resid`\n",
    "In the case of unconstrained first step forecasts, the difference between the left and right hand sides of the equation is not necessarily zero, while it must be zero by construction for the reconciled forecasts. This can also be empiriically seen in the following graph."
   ]
  },
  {
   "cell_type": "code",
   "execution_count": 11,
   "id": "de7a44e5-d0e5-43f5-b7da-574a063d93e9",
   "metadata": {},
   "outputs": [
    {
     "data": {
      "image/png": "[encoded data removed]",
      "text/plain": [
       "<Figure size 1000x600 with 1 Axes>"
      ]
     },
     "metadata": {},
     "output_type": "display_data"
    }
   ],
   "source": [
    "\n",
    "df_first_step['slack'] = round(df_first_step['realgdp'] - df_first_step[['realcons', 'realinv', 'realgovt', 'residual']].sum(axis = 1),2)\n",
    "df_reconciled['slack'] = round(df_reconciled['realgdp'] - df_reconciled[['realcons', 'realinv', 'realgovt', 'residual']].sum(axis = 1),2)\n",
    "\n",
    "fig, ax = plt.subplots(figsize=(10, 6)) \n",
    "\n",
    "df_first_step['slack'].plot(ax=ax, label='First step forecasts', linestyle = '--')\n",
    "df_reconciled['slack'].plot(ax=ax, label='Final forecasts')\n",
    "\n",
    "\n",
    "ax.set_xlabel('Time period')  \n",
    "ax.set_ylabel('Difference between LHS and RHS of accounting identity')  \n",
    "ax.set_title('Deviation from constraints')  \n",
    "ax.legend(loc = 'lower left')\n",
    "\n",
    "ax_xlastvalue = df_reconciled.index.max() + 1\n",
    "ax.set_xlim(['2008-Q2', '2009-Q3'])\n",
    "\n",
    "plt.show()"
   ]
  }
 ],
 "metadata": {
  "kernelspec": {
   "display_name": "Python 3",
   "language": "python",
   "name": "python3"
  },
  "language_info": {
   "codemirror_mode": {
    "name": "ipython",
    "version": 3
   },
   "file_extension": ".py",
   "mimetype": "text/x-python",
   "name": "python",
   "nbconvert_exporter": "python",
   "pygments_lexer": "ipython3",
   "version": "3.12.5"
  }
 },
 "nbformat": 4,
 "nbformat_minor": 5
}
