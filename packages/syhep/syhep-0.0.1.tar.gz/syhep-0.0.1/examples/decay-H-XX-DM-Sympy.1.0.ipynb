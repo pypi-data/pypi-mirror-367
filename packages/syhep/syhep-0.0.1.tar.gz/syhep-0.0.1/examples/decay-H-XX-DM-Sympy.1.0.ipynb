{
 "cells": [
  {
   "cell_type": "code",
   "execution_count": 1,
   "metadata": {},
   "outputs": [],
   "source": [
    "# SYMPY code for ee-Z-WW (s-channel) amplitude and total cross-section"
   ]
  },
  {
   "cell_type": "code",
   "execution_count": 2,
   "metadata": {},
   "outputs": [],
   "source": [
    "#!python -m pip install sympy"
   ]
  },
  {
   "cell_type": "code",
   "execution_count": 1,
   "metadata": {},
   "outputs": [
    {
     "name": "stdout",
     "output_type": "stream",
     "text": [
      "Reading heppackv0.py (March 2023)\n",
      "\n",
      "Done\n"
     ]
    }
   ],
   "source": [
    "from sympy import *\n",
    "import prof_berger.heppackv0 as hep \n",
    "import numpy as np\n"
   ]
  },
  {
   "attachments": {},
   "cell_type": "markdown",
   "metadata": {},
   "source": [
    "### Auxiliary Functions"
   ]
  },
  {
   "cell_type": "code",
   "execution_count": 2,
   "metadata": {},
   "outputs": [],
   "source": [
    "from sympy import symbols, sqrt, assuming, Q\n",
    "\n",
    "def find_symbol(expr, target: str):\n",
    "    symb_lst = list(expr.free_symbols)\n",
    "    names_lst = []\n",
    "    if len(symb_lst) > 0: \n",
    "        for symbol in expr.free_symbols:\n",
    "            \n",
    "            names_lst.append(symbol.name)\n",
    "\n",
    "            if symbol.name in target:\n",
    "                return symbol\n",
    "            \n",
    "            else:\n",
    "                pass\n",
    "        \n",
    "        # print(f\"Symbol {target} not found. \\n The symbols in the expression are {expr.free_symbols}\")\n",
    "                #pass\n",
    "        # print(f\"Symbol {target} not found. \\n The symbols in the expression are {expr.free_symbols}\")\n",
    "        # return None\n",
    "        return symbols(target, real=True, positive=True)\n",
    "    # symbol not found, create the same\n",
    "    else:\n",
    "        return symbols(target, real=True, positive=True)\n",
    "\n",
    "# Unify the symbols of different expressions\n",
    "def unify_symbols(expr1, expr2):\n",
    "    symbols_expr1 = set([x.name for x in expr1.free_symbols])\n",
    "    symbols_expr2 = set([x.name for x in expr2.free_symbols])\n",
    "\n",
    "    common_symbols = symbols_expr1.intersection(symbols_expr2)\n",
    "    #print(common_symbols)\n",
    "\n",
    "    symbol_mapping = {}\n",
    "    for symbol in common_symbols:\n",
    "        new_symbol = Symbol(symbol)\n",
    "        symbol_mapping[symbol] = new_symbol\n",
    "\n",
    "    #print(symbol_mapping)\n",
    "    expr1 = expr1.subs(symbol_mapping)\n",
    "    expr2 = expr2.subs(symbol_mapping)\n",
    "\n",
    "    return expr1, expr2\n",
    "\n",
    "# Define LaTeX expressions\n",
    "# Parse the LaTeX expressions - EXAMPLE\n",
    "# Unify symbols with the same text names\n",
    "#unified_expr1, unified_expr2 = unify_symbols(expr1, expr2)\n",
    "#dl.replace(dl.args[1].args[0], n)\n",
    "#print(\"Unified Expression 1:\", unified_expr1)\n",
    "#print(\"Unified Expression 2:\", unified_expr2)"
   ]
  },
  {
   "attachments": {},
   "cell_type": "markdown",
   "metadata": {},
   "source": [
    "# Steps for SYMPY calculation"
   ]
  },
  {
   "attachments": {},
   "cell_type": "markdown",
   "metadata": {},
   "source": [
    "--> The following calculations were based on Prof. Christoph Berger work and functions for HEP calculation on Sympy."
   ]
  },
  {
   "attachments": {},
   "cell_type": "markdown",
   "metadata": {},
   "source": [
    "-> Modifications by me, for the original, see his notebooks. https://profchristophberger.com/lehrbuch-elementarteilchenphysik/python/"
   ]
  },
  {
   "attachments": {},
   "cell_type": "markdown",
   "metadata": {},
   "source": [
    "---\n",
    "---\n",
    "---\n",
    "\n",
    "## Process: $ H(q) \\to W^-_0(k_1)+W^+_0(k_2)$"
   ]
  },
  {
   "attachments": {},
   "cell_type": "markdown",
   "metadata": {},
   "source": [
    "### Symbols, vectors and constants\n"
   ]
  },
  {
   "cell_type": "code",
   "execution_count": 3,
   "metadata": {},
   "outputs": [],
   "source": [
    "## latex symbols doesn't need \"$\" \n",
    "theta, phi = symbols('theta phi')\n",
    "\n",
    "s, t, u, p, s0, t0, u0, Gamma = symbols('s t u p s_0 t_0 u_0 Gamma', real=True, positive=True)\n",
    "\n",
    "Mmed, mf= symbols(r'M_{med} m_f', real=True, positive=True)\n",
    "\n",
    "## Extra terms\n",
    "\n",
    "Etot, E1, E2, m1, m2 = symbols(r'E_tot E_1 E_2 m_1 m_2', real=True, positive=True)\n",
    "\n",
    "# Electroweak constants\n",
    "#cv, ca, gz, gw, thetaw, gz_theta, gw_theta = symbols(r'c_v c_a g_Z g_W theta_W g_Z_theta g_W_theta', real=True, positive=True )\n",
    "\n",
    "\n",
    "#E1, E2, E3, E4, theta2, theta3, Mi, Mf, gx = symbols(r'E_1  E_2 E_3 E_4 theta_2 theta_3 M_i M_f g_{\\chi}', real=True, positive=True)\n"
   ]
  },
  {
   "attachments": {},
   "cell_type": "markdown",
   "metadata": {},
   "source": [
    "---\n",
    "# Decay width Z -> WW"
   ]
  },
  {
   "cell_type": "code",
   "execution_count": 4,
   "metadata": {},
   "outputs": [
    {
     "data": {
      "image/png": "[encoded data removed]",
      "text/latex": [
       "$\\displaystyle \\pi$"
      ],
      "text/plain": [
       "π"
      ]
     },
     "execution_count": 4,
     "metadata": {},
     "output_type": "execute_result"
    }
   ],
   "source": [
    "pi"
   ]
  },
  {
   "cell_type": "code",
   "execution_count": 5,
   "metadata": {},
   "outputs": [],
   "source": [
    "# 2 -> 2 process, p1, p2 -> q -> k1, k2\n",
    "#p1 = Matrix([sqrt(s)/2, 0, 0, 0])\n",
    "#p2 = Matrix([sqrt(s)/2, 0, pi, pi])\n",
    "\n",
    "# vectors defined  as E, m, theta, phi\n",
    "\n",
    "#k = Matrix([sqrt(s), Mmed, 0, 0])\n",
    "#p3 = Matrix([(Mmed**2)/2, mf, theta, 0])\n",
    "#p4 = Matrix([(Mmed**2)/2, mf, -theta, phi])\n",
    "\n",
    "k = Matrix([0, Mmed, 0, 0])\n",
    "\n",
    "p3 = Matrix([sqrt(s)/2, mf,  0,  0])\n",
    "p4 = Matrix([sqrt(s)/2, mf, pi,  pi])\n",
    "\n",
    "# ki=[Mi,Mi,0,0]\n",
    "# pout=[E1,Mf,0,0]\n",
    "# kf=[E3,0,theta3,0]\n",
    "# pf=[E2,0,theta2,0]\n"
   ]
  },
  {
   "cell_type": "code",
   "execution_count": 8,
   "metadata": {},
   "outputs": [],
   "source": [
    "# def Vvertex(ki, p3, p4, h3, h4, hk, gx, conjugate = False):\n",
    "\n",
    "\n",
    "\n",
    "#     ## Vertex(mu, nu, lamb) * eps(ki, mu) * eps(p3, nu) * eps(p4, lamb)\n",
    "#     # k - incoming\n",
    "#     # p3 - out\n",
    "#     # p4 - out\n",
    "#     ## Followin Quigg book (Gauge Theories of Strong, Weak and Electromagnetic Interactions, 2ed 2013), page 131\n",
    "#     p = hep.fourvec(ki)   # mu, GeV \n",
    "#     q = hep.fourvec(- p3) # nu, GeV\n",
    "#     k = hep.fourvec(- p4) # gamma,  GeV\n",
    "\n",
    "#     t1 =  p - q # GeV\n",
    "#     t2 =  k - p # GeV\n",
    "#     t3 =  q - k # GeV\n",
    "\n",
    "\n",
    "#     if conjugate:\n",
    "#         eps3 = hep.pol(- p3, h3) # 0\n",
    "#         eps4 = hep.pol(- p4, h4) # 0\n",
    "#         epsk = hep.polbar(ki, hk) # 0\n",
    "#         Im = - I\n",
    "\n",
    "#     else: \n",
    "#         eps3 = hep.polbar(- p3, h3) # 0\n",
    "#         eps4 = hep.polbar(- p4, h4) # 0\n",
    "#         epsk = hep.pol(ki, hk) # 0\n",
    "#         Im =  I\n",
    "\n",
    "#     #gµν  (p – q)λ + gλµ  (k – p)ν + gνλ  (q – k)µ    e(k, µ) e(3, ν) e(4, λ)\n",
    "#     epst1 =  hep.dotprod4(t1, eps4)   * hep.dotprod4(eps3, epsk)  # GeV\n",
    "#     epst2 =  hep.dotprod4(t2, eps3)   * hep.dotprod4(eps4, epsk)  # GeV\n",
    "#     epst3 =  hep.dotprod4(eps3, eps4) * hep.dotprod4(t3, epsk)    # GeV\n",
    "\n",
    "#     res = epst1 + epst2 + epst3 # GeV\n",
    "        \n",
    "\n",
    "#     return Im * gx * simplify(res) # Matrix(elms)\n"
   ]
  },
  {
   "cell_type": "code",
   "execution_count": 6,
   "metadata": {},
   "outputs": [],
   "source": [
    "def get_amp_squared_Gamma(prop, u3, p3, u4, p4):\n",
    "    Tems_func = hep.decaimento_Gamma(prop, u3, p3, u4, p4) \n",
    "    # Summing over outgoing and averaging over incoming helicities we thus get for the average of squared amplitudes\n",
    "    # Some auxiliar variables\n",
    "    beta, xi = symbols(r'beta xi', real=True, positive=True)\n",
    "    \n",
    "    sum_terms = 0\n",
    "    for T in Tems_func:\n",
    "        s = find_symbol(T, r's')\n",
    "        mf = find_symbol(T, r'm_f')\n",
    "\n",
    "        res = T\n",
    "        res = T.subs(sqrt(s - 4*mf**2), xi).subs(sqrt(-sqrt(s) + 2*mf), beta)\n",
    "        sum_terms +=  res * conjugate(res) ## Summing Squared\n",
    "\n",
    "    # Summing over outgoing and averaging over incoming helicities we thus get for the average of squared amplitudes\n",
    "    squared_result = sum_terms #/ 4 # Averaging over the incoming helicities\n",
    "    \n",
    "    # # Summing over outgoing and averaging over incoming helicities we thus get for the average of squared amplitudes\n",
    "    # Tres_DM = Tres / 4 # Averaging over the incoming helicities\n",
    "\n",
    "    # get back to the original form\n",
    "    squared_result = nsimplify(expand(squared_result)).subs(xi, sqrt(s - 4*mf**2)).subs(beta, sqrt(-sqrt(s) + 2*mf))  ## simplify\n",
    "\n",
    "    # last simplification\n",
    "    #amp_squared = simplify(squared_result)\n",
    "    #amp_squared = collect(collect(amp_squared, s), mf)\n",
    "\n",
    "    return simplify(squared_result)"
   ]
  },
  {
   "cell_type": "code",
   "execution_count": 7,
   "metadata": {},
   "outputs": [],
   "source": [
    "def Gamma_decay(amp_squared):\n",
    "    # O prefator cinemático para gama é \n",
    "    prefact_decay = (1/(16*pi*Mmed))*sqrt(1 - (mf + mf)**2/Mmed**2)*sqrt(1 - (mf - mf)**2/Mmed**2)\n",
    "    # Portanto, teremos que \n",
    "\n",
    "    Gamma_expr = prefact_decay  * amp_squared #/4#/ (12) # averagin over the initial states\n",
    "\n",
    "    return Gamma_expr"
   ]
  },
  {
   "cell_type": "code",
   "execution_count": 8,
   "metadata": {},
   "outputs": [],
   "source": [
    "MW, v, MH, MZ, lamb, GF, gw, e, thetaw= symbols(r'M_W \\nu M_H M_Z \\lambda G_F g_W e theta_W', real=True, positive=True)"
   ]
  },
  {
   "cell_type": "markdown",
   "metadata": {},
   "source": [
    "# H -> ff"
   ]
  },
  {
   "cell_type": "code",
   "execution_count": 9,
   "metadata": {},
   "outputs": [
    {
     "data": {
      "image/png": "[encoded data removed]",
      "text/latex": [
       "$\\displaystyle \\left[ 0, \\  0, \\  0, \\  - i g_{s\\psi} \\sqrt{2 m_{f} - \\sqrt{s}} \\sqrt{2 m_{f} + \\sqrt{s}}\\right]$"
      ],
      "text/plain": [
       "⎡                      ____________   ____________⎤\n",
       "⎣0, 0, 0, -ⅈ⋅g_s\\psi⋅╲╱ 2⋅m_f - √s ⋅╲╱ 2⋅m_f + √s ⎦"
      ]
     },
     "execution_count": 9,
     "metadata": {},
     "output_type": "execute_result"
    }
   ],
   "source": [
    "hep.decaimento_Gamma('scalar', 'ubar', -p3, 'v', -p4) "
   ]
  },
  {
   "cell_type": "code",
   "execution_count": 10,
   "metadata": {},
   "outputs": [
    {
     "data": {
      "image/png": "[encoded data removed]",
      "text/latex": [
       "$\\displaystyle g_{s\\psi}^{2} \\left(4 m_{f}^{2} - s\\right)$"
      ],
      "text/plain": [
       "       2 ⎛     2    ⎞\n",
       "g_s\\psi ⋅⎝4⋅m_f  - s⎠"
      ]
     },
     "execution_count": 10,
     "metadata": {},
     "output_type": "execute_result"
    }
   ],
   "source": [
    "amp_sqr = get_amp_squared_Gamma('scalar', 'ubar', -p3, 'v', -p4) \n",
    "amp_sqr"
   ]
  },
  {
   "cell_type": "code",
   "execution_count": 11,
   "metadata": {},
   "outputs": [
    {
     "data": {
      "text/plain": [
       "'- pol Matrix([[0], [sqrt(2)/2], [sqrt(2)*I/2], [0]])'"
      ]
     },
     "metadata": {},
     "output_type": "display_data"
    },
    {
     "data": {
      "text/plain": [
       "'- pol Matrix([[0], [sqrt(2)/2], [sqrt(2)*I/2], [0]])'"
      ]
     },
     "metadata": {},
     "output_type": "display_data"
    },
    {
     "data": {
      "text/plain": [
       "'- pol Matrix([[0], [sqrt(2)/2], [sqrt(2)*I/2], [0]])'"
      ]
     },
     "metadata": {},
     "output_type": "display_data"
    },
    {
     "data": {
      "text/plain": [
       "'- pol Matrix([[0], [sqrt(2)/2], [sqrt(2)*I/2], [0]])'"
      ]
     },
     "metadata": {},
     "output_type": "display_data"
    },
    {
     "data": {
      "text/plain": [
       "'0 pol Matrix([[-sqrt(-m_f**2 + s/4)/m_f], [0], [0], [sqrt(s)/(2*m_f)]])'"
      ]
     },
     "metadata": {},
     "output_type": "display_data"
    },
    {
     "data": {
      "text/plain": [
       "'0 pol Matrix([[-sqrt(-m_f**2 + s/4)/m_f], [0], [0], [sqrt(s)/(2*m_f)]])'"
      ]
     },
     "metadata": {},
     "output_type": "display_data"
    },
    {
     "data": {
      "text/plain": [
       "'0 pol Matrix([[-sqrt(-m_f**2 + s/4)/m_f], [0], [0], [sqrt(s)/(2*m_f)]])'"
      ]
     },
     "metadata": {},
     "output_type": "display_data"
    },
    {
     "data": {
      "text/plain": [
       "'0 pol Matrix([[-sqrt(-m_f**2 + s/4)/m_f], [0], [0], [sqrt(s)/(2*m_f)]])'"
      ]
     },
     "metadata": {},
     "output_type": "display_data"
    },
    {
     "data": {
      "text/plain": [
       "'+ pol Matrix([[0], [sqrt(2)/2], [-sqrt(2)*I/2], [0]])'"
      ]
     },
     "metadata": {},
     "output_type": "display_data"
    },
    {
     "data": {
      "text/plain": [
       "'+ pol Matrix([[0], [sqrt(2)/2], [-sqrt(2)*I/2], [0]])'"
      ]
     },
     "metadata": {},
     "output_type": "display_data"
    },
    {
     "data": {
      "text/plain": [
       "'+ pol Matrix([[0], [sqrt(2)/2], [-sqrt(2)*I/2], [0]])'"
      ]
     },
     "metadata": {},
     "output_type": "display_data"
    },
    {
     "data": {
      "text/plain": [
       "'+ pol Matrix([[0], [sqrt(2)/2], [-sqrt(2)*I/2], [0]])'"
      ]
     },
     "metadata": {},
     "output_type": "display_data"
    },
    {
     "data": {
      "image/png": "[encoded data removed]",
      "text/latex": [
       "$\\displaystyle \\frac{g_{s\\psi}^{2} \\left(16 m_{f}^{4} - 8 m_{f}^{2} s + s^{2}\\right)}{4 m_{f}^{4}}$"
      ],
      "text/plain": [
       "       2 ⎛      4        2      2⎞\n",
       "g_s\\psi ⋅⎝16⋅m_f  - 8⋅m_f ⋅s + s ⎠\n",
       "──────────────────────────────────\n",
       "                   4              \n",
       "              4⋅m_f               "
      ]
     },
     "execution_count": 11,
     "metadata": {},
     "output_type": "execute_result"
    }
   ],
   "source": [
    "amp_sqr = get_amp_squared_Gamma('scalar', 'polbar', -p3, 'pol', -p4) \n",
    "amp_sqr"
   ]
  },
  {
   "cell_type": "code",
   "execution_count": null,
   "metadata": {},
   "outputs": [],
   "source": []
  },
  {
   "cell_type": "code",
   "execution_count": null,
   "metadata": {},
   "outputs": [],
   "source": []
  },
  {
   "cell_type": "code",
   "execution_count": 14,
   "metadata": {},
   "outputs": [],
   "source": [
    "#hep.decaimento_Gamma('scalar', 'polbar', p3, 'polbar', p4) "
   ]
  },
  {
   "cell_type": "code",
   "execution_count": 12,
   "metadata": {},
   "outputs": [
    {
     "data": {
      "image/png": "[encoded data removed]",
      "text/latex": [
       "$\\displaystyle \\frac{g_{s\\psi}^{2} \\left(M_{H}^{2} M_{W}^{2} \\sin^{2}{\\left(\\theta_{W} \\right)} - 8 M_{W}^{2} m_{f}^{2} \\sin^{2}{\\left(\\theta_{W} \\right)} + 2 e^{2} m_{f}^{2}\\right)^{2}}{e^{4} m_{f}^{4}}$"
      ],
      "text/plain": [
       "                                                                  2\n",
       "       2 ⎛   2    2    2             2    2    2           2    2⎞ \n",
       "g_s\\psi ⋅⎝M_H ⋅M_W ⋅sin (θ_W) - 8⋅M_W ⋅m_f ⋅sin (θ_W) + 2⋅e ⋅m_f ⎠ \n",
       "───────────────────────────────────────────────────────────────────\n",
       "                               4    4                              \n",
       "                              e ⋅m_f                               "
      ]
     },
     "execution_count": 12,
     "metadata": {},
     "output_type": "execute_result"
    }
   ],
   "source": [
    "gw = ( e * mf )/ ( sqrt(2)*  MW * sin(thetaw))\n",
    "mhiggs = -MH**2 + 8*mf**2\n",
    "list(amp_sqr.free_symbols)[0]\n",
    "# gHps = (2*MW**2)/(MH/ sqrt(2*lamb))\n",
    "# gHps\n",
    "\n",
    "simplify(expand(amp_sqr.subs(list(amp_sqr.free_symbols)[0], gw).subs(s, mhiggs)))"
   ]
  },
  {
   "attachments": {
    "image.png": {
     "image/png": "[encoded data removed]"
    }
   },
   "cell_type": "markdown",
   "metadata": {},
   "source": [
    "![image.png](attachment:image.png)"
   ]
  },
  {
   "cell_type": "code",
   "execution_count": 13,
   "metadata": {},
   "outputs": [
    {
     "data": {
      "image/png": "[encoded data removed]",
      "text/latex": [
       "$\\displaystyle s$"
      ],
      "text/plain": [
       "s"
      ]
     },
     "execution_count": 13,
     "metadata": {},
     "output_type": "execute_result"
    }
   ],
   "source": [
    "list(amp_sqr.free_symbols)[1]"
   ]
  },
  {
   "cell_type": "code",
   "execution_count": 14,
   "metadata": {},
   "outputs": [
    {
     "data": {
      "image/png": "[encoded data removed]",
      "text/latex": [
       "$\\displaystyle m_{f}$"
      ],
      "text/plain": [
       "m_f"
      ]
     },
     "execution_count": 14,
     "metadata": {},
     "output_type": "execute_result"
    }
   ],
   "source": [
    "list(amp_sqr.free_symbols)[0]"
   ]
  },
  {
   "cell_type": "code",
   "execution_count": 15,
   "metadata": {},
   "outputs": [
    {
     "data": {
      "image/png": "[encoded data removed]",
      "text/latex": [
       "$\\displaystyle \\frac{g_{s\\psi}^{2} \\left(16 m_{f}^{4} - 8 m_{f}^{2} s + s^{2}\\right)}{4 m_{f}^{4}}$"
      ],
      "text/plain": [
       "       2 ⎛      4        2      2⎞\n",
       "g_s\\psi ⋅⎝16⋅m_f  - 8⋅m_f ⋅s + s ⎠\n",
       "──────────────────────────────────\n",
       "                   4              \n",
       "              4⋅m_f               "
      ]
     },
     "execution_count": 15,
     "metadata": {},
     "output_type": "execute_result"
    }
   ],
   "source": [
    "amp_sqr"
   ]
  },
  {
   "cell_type": "code",
   "execution_count": 16,
   "metadata": {},
   "outputs": [],
   "source": [
    "gw = 1 #( e *  MW  )/ (  sin(thetaw))\n",
    "mhiggs = - (-3)*MH**2 + 2*mf**2\n",
    "\n",
    "# gHps = (2*MW**2)/(MH/ sqrt(2*lamb))\n",
    "# gHps\n",
    "\n",
    "expre = simplify(expand(amp_sqr.subs(mf, MW)))"
   ]
  },
  {
   "cell_type": "code",
   "execution_count": 17,
   "metadata": {},
   "outputs": [
    {
     "data": {
      "image/png": "[encoded data removed]",
      "text/latex": [
       "$\\displaystyle \\frac{g_{s\\psi}^{2} \\left(16 M_{W}^{4} - 8 M_{W}^{2} s + s^{2}\\right)}{4 M_{W}^{4}}$"
      ],
      "text/plain": [
       "       2 ⎛      4        2      2⎞\n",
       "g_s\\psi ⋅⎝16⋅M_W  - 8⋅M_W ⋅s + s ⎠\n",
       "──────────────────────────────────\n",
       "                   4              \n",
       "              4⋅M_W               "
      ]
     },
     "execution_count": 17,
     "metadata": {},
     "output_type": "execute_result"
    }
   ],
   "source": [
    "expre"
   ]
  },
  {
   "cell_type": "code",
   "execution_count": 18,
   "metadata": {},
   "outputs": [
    {
     "data": {
      "image/png": "[encoded data removed]",
      "text/latex": [
       "$\\displaystyle - m_{f}^{2} \\left(M_{H}^{4} + 4 M_{H}^{2} M_{W}^{2} + 12 M_{W}^{4}\\right) + \\frac{g_{s\\psi}^{2} \\left(16 M_{W}^{4} - 8 M_{W}^{2} s + s^{2}\\right)}{4 M_{W}^{4}}$"
      ],
      "text/plain": [
       "                                               2 ⎛      4        2      2⎞\n",
       "     2 ⎛   4        2    2         4⎞   g_s\\psi ⋅⎝16⋅M_W  - 8⋅M_W ⋅s + s ⎠\n",
       "- m_f ⋅⎝M_H  + 4⋅M_H ⋅M_W  + 12⋅M_W ⎠ + ──────────────────────────────────\n",
       "                                                           4              \n",
       "                                                      4⋅M_W               "
      ]
     },
     "execution_count": 18,
     "metadata": {},
     "output_type": "execute_result"
    }
   ],
   "source": [
    "expre - (4*MH**2 *MW**2 + MH**4 + 12*MW**4) * list(amp_sqr.free_symbols)[0]**2"
   ]
  },
  {
   "cell_type": "code",
   "execution_count": 19,
   "metadata": {},
   "outputs": [
    {
     "data": {
      "image/png": "[encoded data removed]",
      "text/latex": [
       "$\\displaystyle \\left[ \\frac{2 M_{W}^{2} \\left(2 g_{s\\psi} - m_{f} \\sqrt{M_{H}^{4} + 4 M_{H}^{2} M_{W}^{2} + 12 M_{W}^{4}}\\right)}{g_{s\\psi}}, \\  \\frac{2 M_{W}^{2} \\left(2 g_{s\\psi} + m_{f} \\sqrt{M_{H}^{4} + 4 M_{H}^{2} M_{W}^{2} + 12 M_{W}^{4}}\\right)}{g_{s\\psi}}\\right]$"
      ],
      "text/plain": [
       "⎡       ⎛                   ______________________________⎞         ⎛          ↪\n",
       "⎢     2 ⎜                  ╱    4        2    2         4 ⎟       2 ⎜          ↪\n",
       "⎢2⋅M_W ⋅⎝2⋅g_s\\psi - m_f⋅╲╱  M_H  + 4⋅M_H ⋅M_W  + 12⋅M_W  ⎠  2⋅M_W ⋅⎝2⋅g_s\\psi ↪\n",
       "⎢──────────────────────────────────────────────────────────, ───────────────── ↪\n",
       "⎣                         g_s\\psi                                              ↪\n",
       "\n",
       "↪           ______________________________⎞⎤\n",
       "↪          ╱    4        2    2         4 ⎟⎥\n",
       "↪  + m_f⋅╲╱  M_H  + 4⋅M_H ⋅M_W  + 12⋅M_W  ⎠⎥\n",
       "↪ ─────────────────────────────────────────⎥\n",
       "↪         g_s\\psi                          ⎦"
      ]
     },
     "execution_count": 19,
     "metadata": {},
     "output_type": "execute_result"
    }
   ],
   "source": [
    "solve(expre - (4*MH**2 *MW**2 + MH**4 + 12*MW**4) * list(amp_sqr.free_symbols)[0]**2, s)"
   ]
  },
  {
   "attachments": {
    "image.png": {
     "image/png": "[encoded data removed]"
    }
   },
   "cell_type": "markdown",
   "metadata": {},
   "source": [
    "![image.png](attachment:image.png)"
   ]
  },
  {
   "cell_type": "code",
   "execution_count": null,
   "metadata": {},
   "outputs": [],
   "source": []
  },
  {
   "cell_type": "code",
   "execution_count": 19,
   "metadata": {},
   "outputs": [
    {
     "data": {
      "image/png": "[encoded data removed]",
      "text/latex": [
       "$\\displaystyle \\frac{g_{s\\psi}^{2} \\left(M_{H}^{4} - 20 M_{H}^{2} M_{W}^{2} + 100 M_{W}^{4}\\right)}{48 M_{W}^{4}}$"
      ],
      "text/plain": [
       "       2 ⎛   4         2    2          4⎞\n",
       "g_s\\psi ⋅⎝M_H  - 20⋅M_H ⋅M_W  + 100⋅M_W ⎠\n",
       "─────────────────────────────────────────\n",
       "                       4                 \n",
       "                 48⋅M_W                  "
      ]
     },
     "execution_count": 19,
     "metadata": {},
     "output_type": "execute_result"
    }
   ],
   "source": []
  },
  {
   "cell_type": "code",
   "execution_count": 16,
   "metadata": {},
   "outputs": [
    {
     "data": {
      "image/png": "[encoded data removed]",
      "text/latex": [
       "$\\displaystyle \\frac{M_{W} e}{\\sin{\\left(\\theta_{W} \\right)}}$"
      ],
      "text/plain": [
       "    M_W⋅e    \n",
       "─────────────\n",
       "sin(\\theta_W)"
      ]
     },
     "execution_count": 16,
     "metadata": {},
     "output_type": "execute_result"
    }
   ],
   "source": [
    "gw"
   ]
  },
  {
   "cell_type": "code",
   "execution_count": 55,
   "metadata": {},
   "outputs": [],
   "source": [
    "GM = Gamma_decay(amp_sqr)"
   ]
  },
  {
   "cell_type": "code",
   "execution_count": 43,
   "metadata": {},
   "outputs": [
    {
     "data": {
      "image/png": "[encoded data removed]",
      "text/latex": [
       "$\\displaystyle g_{s\\chi}$"
      ],
      "text/plain": [
       "g_s\\chi"
      ]
     },
     "execution_count": 43,
     "metadata": {},
     "output_type": "execute_result"
    }
   ],
   "source": [
    "list(GM.free_symbols)[2]"
   ]
  },
  {
   "cell_type": "code",
   "execution_count": 75,
   "metadata": {},
   "outputs": [
    {
     "data": {
      "image/png": "[encoded data removed]",
      "text/latex": [
       "$\\displaystyle \\frac{4 \\pi^{3} e^{4} \\sqrt{M_{H}^{2} - 4 M_{W}^{2}} \\left(M_{H}^{8} - 8 M_{H}^{6} M_{W}^{2} + 40 M_{H}^{4} M_{W}^{4} - 96 M_{H}^{2} M_{W}^{6} + 144 M_{W}^{8}\\right)}{M_{H}^{2} M_{W}^{8} \\sin^{4}{\\left(\\theta_{W} \\right)}}$"
      ],
      "text/plain": [
       "           _______________                                                    \n",
       "   3  4   ╱    2        2  ⎛   8        6    2         4    4         2    6  \n",
       "4⋅π ⋅e ⋅╲╱  M_H  - 4⋅M_W  ⋅⎝M_H  - 8⋅M_H ⋅M_W  + 40⋅M_H ⋅M_W  - 96⋅M_H ⋅M_W  +\n",
       "──────────────────────────────────────────────────────────────────────────────\n",
       "                                   2    8    4                                \n",
       "                                M_H ⋅M_W ⋅sin (\\theta_W)                      \n",
       "\n",
       "          \n",
       "        8⎞\n",
       " 144⋅M_W ⎠\n",
       "──────────\n",
       "          \n",
       "          "
      ]
     },
     "execution_count": 75,
     "metadata": {},
     "output_type": "execute_result"
    }
   ],
   "source": [
    "simplify(Gamma_decay(amp_sqr).subs(s, Mmed**2).subs(Mmed, MH).subs(mf, MW).subs(list(GM.free_symbols)[2], gw)) #.subs(MH**2, MW**2*(sin(theta)**2)/GF))"
   ]
  },
  {
   "cell_type": "code",
   "execution_count": null,
   "metadata": {},
   "outputs": [],
   "source": []
  },
  {
   "cell_type": "code",
   "execution_count": 6,
   "metadata": {},
   "outputs": [
    {
     "name": "stdout",
     "output_type": "stream",
     "text": [
      "primeira pol está em -1\n",
      "primeira pol está em 0\n",
      "primeira pol está em 1\n"
     ]
    }
   ],
   "source": [
    "Terms = []\n",
    "for pol3 in [-1, 0 , 1]:\n",
    "    print(f'primeira pol está em {pol3}')\n",
    "    for pol4 in [-1, 0, 1]:\n",
    "        for polk in [-1, 0, 1]:\n",
    "            res = Vvertex(k, p3, p4, pol3, pol4, polk, gx, conjugate = False ) * Vvertex(k, p3, p4, pol3, pol4, polk, gx, conjugate = True)\n",
    "            Terms.append(simplify(res))"
   ]
  },
  {
   "cell_type": "code",
   "execution_count": 7,
   "metadata": {},
   "outputs": [],
   "source": [
    "sum_T = 0\n",
    "\n",
    "for term in Terms:\n",
    "        sum_T += term"
   ]
  },
  {
   "cell_type": "code",
   "execution_count": 14,
   "metadata": {},
   "outputs": [],
   "source": [
    "beta, xi = symbols(\"beta xi\", positive = True, real = True)"
   ]
  },
  {
   "cell_type": "code",
   "execution_count": 18,
   "metadata": {},
   "outputs": [
    {
     "data": {
      "image/png": "[encoded data removed]",
      "text/latex": [
       "$\\displaystyle \\frac{g_{\\chi}^{2} \\left(M_{med}^{2} - 4 m_{f}^{2}\\right)^{\\frac{3}{2}}}{192 \\pi m_{f}^{2}}$"
      ],
      "text/plain": [
       "                               3/2\n",
       "        2 ⎛       2          2⎞   \n",
       "g_{\\chi} ⋅⎝M_{med}  - 4⋅m_{f} ⎠   \n",
       "──────────────────────────────────\n",
       "                      2           \n",
       "           192⋅π⋅m_{f}            "
      ]
     },
     "execution_count": 18,
     "metadata": {},
     "output_type": "execute_result"
    }
   ],
   "source": [
    "new  = simplify(expand(Gamma_vec.subs(s, Mmed**2)))\n",
    "new "
   ]
  },
  {
   "cell_type": "code",
   "execution_count": 15,
   "metadata": {},
   "outputs": [
    {
     "data": {
      "image/png": "[encoded data removed]",
      "text/latex": [
       "$\\displaystyle \\frac{g_{\\chi}^{2} s \\sqrt{1 - \\frac{4 m_{f}^{2}}{M_{med}^{2}}} \\left(\\sqrt{- M_{med}^{2} + s} - \\sqrt{- 4 m_{f}^{2} + s}\\right)^{2}}{192 \\pi M_{med} m_{f}^{2}}$"
      ],
      "text/plain": [
       "                  ______________                                            2\n",
       "                 ╱            2  ⎛   ________________      ________________⎞ \n",
       "        2       ╱      4⋅m_{f}   ⎜  ╱          2          ╱          2     ⎟ \n",
       "g_{\\chi} ⋅s⋅   ╱   1 - ──────── ⋅⎝╲╱  - M_{med}  + s  - ╲╱  - 4⋅m_{f}  + s ⎠ \n",
       "              ╱               2                                              \n",
       "            ╲╱         M_{med}                                               \n",
       "─────────────────────────────────────────────────────────────────────────────\n",
       "                                                2                            \n",
       "                             192⋅π⋅M_{med}⋅m_{f}                             "
      ]
     },
     "execution_count": 15,
     "metadata": {},
     "output_type": "execute_result"
    }
   ],
   "source": [
    "Gamma_vec.subs(sqrt(- lst[0]**2 + lst[3]), xi).subs(sqrt(- 4*lst[2]**2 + lst[3] ), beta)"
   ]
  },
  {
   "cell_type": "code",
   "execution_count": 19,
   "metadata": {},
   "outputs": [
    {
     "data": {
      "text/plain": [
       "'\\\\frac{g_{\\\\chi}^{2} \\\\left(M_{med}^{2} - 4 m_{f}^{2}\\\\right)^{\\\\frac{3}{2}}}{192 \\\\pi m_{f}^{2}}'"
      ]
     },
     "execution_count": 19,
     "metadata": {},
     "output_type": "execute_result"
    }
   ],
   "source": [
    "latex(new )"
   ]
  },
  {
   "cell_type": "code",
   "execution_count": 18,
   "metadata": {},
   "outputs": [
    {
     "data": {
      "image/png": "[encoded data removed]",
      "text/latex": [
       "$\\displaystyle \\frac{g_{\\chi}^{4} s^{2} \\cdot \\left(20 M_{med}^{4} m_{f}^{2} + M_{med}^{4} \\left(M_{med}^{2} - 8 s + 4 \\sqrt{- M_{med}^{2} + s} \\sqrt{- 4 m_{f}^{2} + s}\\right) - 80 M_{med}^{2} m_{f}^{4} + 8 M_{med}^{2} s \\left(s - \\sqrt{- M_{med}^{2} + s} \\sqrt{- 4 m_{f}^{2} + s}\\right) + 64 m_{f}^{4} \\left(- m_{f}^{2} + 2 s - \\sqrt{- M_{med}^{2} + s} \\sqrt{- 4 m_{f}^{2} + s}\\right) + 32 m_{f}^{2} s \\left(- s + \\sqrt{- M_{med}^{2} + s} \\sqrt{- 4 m_{f}^{2} + s}\\right)\\right)}{36864 \\pi^{2} M_{med}^{4} m_{f}^{4}}$"
      ],
      "text/plain": [
       "             ⎛                              ⎛                      ___________\n",
       "        4  2 ⎜          4      2          4 ⎜       2             ╱          2\n",
       "g_{\\chi} ⋅s ⋅⎝20⋅M_{med} ⋅m_{f}  + M_{med} ⋅⎝M_{med}  - 8⋅s + 4⋅╲╱  - M_{med} \n",
       "──────────────────────────────────────────────────────────────────────────────\n",
       "                                                                              \n",
       "                                                                              \n",
       "\n",
       "_____    ________________⎞                                     ⎛       _______\n",
       "        ╱          2     ⎟             2      4            2   ⎜      ╱       \n",
       " + s ⋅╲╱  - 4⋅m_{f}  + s ⎠ - 80⋅M_{med} ⋅m_{f}  + 8⋅M_{med} ⋅s⋅⎝s - ╲╱  - M_{m\n",
       "──────────────────────────────────────────────────────────────────────────────\n",
       "                                                                             2\n",
       "                                                                      36864⋅π \n",
       "\n",
       "_________    ________________⎞             ⎛                    ______________\n",
       "   2        ╱          2     ⎟           4 ⎜       2           ╱          2   \n",
       "ed}  + s ⋅╲╱  - 4⋅m_{f}  + s ⎠ + 64⋅m_{f} ⋅⎝- m_{f}  + 2⋅s - ╲╱  - M_{med}  + \n",
       "──────────────────────────────────────────────────────────────────────────────\n",
       "        4      4                                                              \n",
       "⋅M_{med} ⋅m_{f}                                                               \n",
       "\n",
       "__    ________________⎞               ⎛        ________________    ___________\n",
       "     ╱          2     ⎟           2   ⎜       ╱          2        ╱          2\n",
       "s ⋅╲╱  - 4⋅m_{f}  + s ⎠ + 32⋅m_{f} ⋅s⋅⎝-s + ╲╱  - M_{med}  + s ⋅╲╱  - 4⋅m_{f} \n",
       "──────────────────────────────────────────────────────────────────────────────\n",
       "                                                                              \n",
       "                                                                              \n",
       "\n",
       "_____⎞⎞\n",
       "     ⎟⎟\n",
       " + s ⎠⎠\n",
       "───────\n",
       "       \n",
       "       "
      ]
     },
     "execution_count": 18,
     "metadata": {},
     "output_type": "execute_result"
    }
   ],
   "source": [
    "simplify(expand(Gamma_vec.subs(xi, sqrt(s - Mmed**2)).subs(beta, sqrt(s - 4*mf**2))**2))"
   ]
  },
  {
   "cell_type": "code",
   "execution_count": 19,
   "metadata": {},
   "outputs": [],
   "source": [
    "Gamma_func = lambdify((s, Mmed, mf, gx), new , 'numpy')"
   ]
  },
  {
   "cell_type": "code",
   "execution_count": 20,
   "metadata": {},
   "outputs": [
    {
     "name": "stdout",
     "output_type": "stream",
     "text": [
      "def _lambdifygenerated(s, M_med, m_f, Dummy_22):\n",
      "    return (1/192)*Dummy_22**2*(M_med**2 - 4*m_f**2)**(3/2)/(pi*m_f**2)\n",
      "\n"
     ]
    }
   ],
   "source": [
    "# Obtendo o código fonte da função\n",
    "codigo_fonte = {}\n",
    "\n",
    "\n",
    "#codigo_fonte['SM'] = sigma_SM_func\n",
    "codigo_fonte['DM'] = Gamma_func\n",
    "#codigo_fonte['DM_noqq'] = sigma_DM_noqq_func\n",
    "\n",
    "import inspect\n",
    "for name, func in codigo_fonte.items():\n",
    "\n",
    "    print(inspect.getsource(func))"
   ]
  },
  {
   "cell_type": "code",
   "execution_count": 121,
   "metadata": {},
   "outputs": [],
   "source": [
    "#Gamma_vec = nsimplify(expand(Gamma_vec))\n",
    "\n",
    "## Some functions to give a pretier expression\n",
    "Gamma_vec =  together((nsimplify(expand(Gamma_vec))))"
   ]
  },
  {
   "cell_type": "code",
   "execution_count": null,
   "metadata": {},
   "outputs": [],
   "source": [
    "xi, beta = symbols(r'xi beta')"
   ]
  },
  {
   "cell_type": "code",
   "execution_count": 128,
   "metadata": {},
   "outputs": [
    {
     "data": {
      "image/png": "[encoded data removed]",
      "text/latex": [
       "$\\displaystyle \\frac{g_{\\chi}^{2} s \\sqrt{\\left(M_{Z^\\prime}\\right)^{2} - 4 m_{f}^{2}} \\left(- \\left(M_{Z^\\prime}\\right)^{2} - 4 m_{f}^{2} + 2 s - 2 \\sqrt{- \\left(M_{Z^\\prime}\\right)^{2} + s} \\sqrt{- 4 m_{f}^{2} + s}\\right)}{16 \\pi \\left(M_{Z^\\prime}\\right)^{2} m_{f}^{2}}$"
      ],
      "text/plain": [
       "               ___________________________ ⎛                                  \n",
       "        2     ╱              2          2  ⎜               2          2       \n",
       "g_{\\chi} ⋅s⋅╲╱  M_{Z__\\prime}  - 4⋅m_{f}  ⋅⎝- M_{Z__\\prime}  - 4⋅m_{f}  + 2⋅s \n",
       "──────────────────────────────────────────────────────────────────────────────\n",
       "                                                                     2      2 \n",
       "                                                   16⋅π⋅M_{Z__\\prime} ⋅m_{f}  \n",
       "\n",
       "       ______________________    ________________⎞\n",
       "      ╱                2        ╱          2     ⎟\n",
       "- 2⋅╲╱  - M_{Z__\\prime}  + s ⋅╲╱  - 4⋅m_{f}  + s ⎠\n",
       "──────────────────────────────────────────────────\n",
       "                                                  \n",
       "                                                  "
      ]
     },
     "execution_count": 128,
     "metadata": {},
     "output_type": "execute_result"
    }
   ],
   "source": [
    "together(collect(expand(Gamma_vec), s )).subs(xi, sqrt(MZp **2 - 4))"
   ]
  },
  {
   "attachments": {},
   "cell_type": "markdown",
   "metadata": {},
   "source": [
    "###  "
   ]
  }
 ],
 "metadata": {
  "kernelspec": {
   "display_name": "py_phenoenv",
   "language": "python",
   "name": "python3"
  },
  "language_info": {
   "codemirror_mode": {
    "name": "ipython",
    "version": 3
   },
   "file_extension": ".py",
   "mimetype": "text/x-python",
   "name": "python",
   "nbconvert_exporter": "python",
   "pygments_lexer": "ipython3",
   "version": "3.10.17"
  },
  "orig_nbformat": 4
 },
 "nbformat": 4,
 "nbformat_minor": 2
}
