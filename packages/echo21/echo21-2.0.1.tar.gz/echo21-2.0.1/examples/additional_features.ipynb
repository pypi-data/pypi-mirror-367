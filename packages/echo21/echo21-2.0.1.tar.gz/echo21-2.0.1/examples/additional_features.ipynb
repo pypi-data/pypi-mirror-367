{
 "cells": [
  {
   "cell_type": "markdown",
   "id": "69a13655-f08c-4fa1-bfdf-fee00392a8cb",
   "metadata": {},
   "source": [
    "# ECHO21\n",
    "# &copy; 2025 Shikhar Mittal.\n",
    "\n",
    "## Here are some additional capabilities of ECHO21."
   ]
  },
  {
   "cell_type": "code",
   "execution_count": null,
   "id": "e2c3c21d-a301-4c54-a876-7afb1e9bfe8f",
   "metadata": {},
   "outputs": [],
   "source": [
    "import numpy as np\n",
    "import matplotlib.pyplot as plt"
   ]
  },
  {
   "cell_type": "code",
   "execution_count": null,
   "id": "1df75a04-cb37-4a44-9ce1-244085b9ef84",
   "metadata": {},
   "outputs": [],
   "source": [
    "np.seterr(all='ignore')\n",
    "\n",
    "def Z2nu(Z):\n",
    "    return 1420/Z\n",
    "\n",
    "def nu2Z(nu):\n",
    "    return 1420/nu\n",
    "\n",
    "def plotter(x,y,xlog=True,ylog=False,Z=None):\n",
    "    '''\n",
    "    This function will plots the quantity y w.r.t. x. \n",
    "    \n",
    "    Arguments\n",
    "    ---------\n",
    "    \n",
    "    x : dictionary\n",
    "        1+z ('z') or M_UV magnitude ('mag').\n",
    "    \n",
    "    y : dictionary\n",
    "        Can be collisional coupling ('xk'), Lya coupling ('xa'), SFRD ('sfrd'), CMB optical depth ('tau'), or UV LF ('uvlf').\n",
    "        \n",
    "    xlog : bool, optional\n",
    "        Set True if you want x axis to be in log scale otherwise false. Default is True.\n",
    "        \n",
    "    ylog : bool, optional\n",
    "        Set True if you want x axis to be in log scale otherwise false. Default is False.\n",
    "\n",
    "    z: float (array or list)\n",
    "        Redshift values at which the UV LFs are calculated. Meaningful only when x is 'mag'.\n",
    "    '''\n",
    "    \n",
    "    plt.rc('text', usetex=True)\n",
    "    plt.rc('font', family='serif')\n",
    "\n",
    "    fig,ax=plt.subplots(figsize=(8.3,7.2),dpi=300)\n",
    "    fig.subplots_adjust(left=0.14, bottom=0.07, right=0.86, top=0.97)\n",
    "    clr=['b','r','limegreen']\n",
    "    linsty=['-','--',':']\n",
    "\n",
    "    xkey = list(x.keys())\n",
    "    leng = len(y)\n",
    "    ykeys = list(y.keys())\n",
    "\n",
    "    if xkey[0]=='z':\n",
    "        if leng>1:\n",
    "            for i in range(leng):\n",
    "                if ykeys[i]=='xk':\n",
    "                    lbl = r'$x_{\\mathrm{k}}$'\n",
    "                elif ykeys[i]=='xa':\n",
    "                    lbl = r'$x_{\\alpha}$'\n",
    "                else:\n",
    "                    print('Warning: unknown quantity given in the dictionary!')\n",
    "                ax.plot(x[xkey[0]],y[ykeys[i]],color=clr[i],ls=linsty[i],label=lbl)\n",
    "                \n",
    "            if ykeys[0]=='xk' or ykeys[0]=='xa':\n",
    "                ax.set_ylabel('Couplings',fontsize=20)\n",
    "            else:\n",
    "                print('Warning: unknown quantity given in the dictionary!')\n",
    "            ax.legend(fontsize=18,frameon=False)\n",
    "        else:\n",
    "            key=ykeys[0]\n",
    "            ax.plot(x[xkey[0]],y[key],'b')\n",
    "            if key=='xk':\n",
    "                ax.set_ylabel(r'$x_{\\mathrm{k}}$',fontsize=20)\n",
    "            elif key=='xa':\n",
    "                ax.set_ylabel(r'$x_{\\alpha}$',fontsize=20)\n",
    "            elif key=='sfrd' or key=='SFRD':\n",
    "                ax.set_ylabel(r'$\\dot{\\rho}_{\\star}\\,(\\mathrm{M_{\\odot}\\,cMpc^{-3}yr^{-1}})$',fontsize=20)\n",
    "            elif key=='tau':\n",
    "                ax.set_ylabel(r'$\\tau_{\\mathrm{e}}\\,$',fontsize=20)\n",
    "            else:\n",
    "                print(\"Error: unknown quantity.\")\n",
    "                sys.exit()\n",
    "    \n",
    "            \n",
    "        if xlog==True:\n",
    "            ax.set_xscale('log')\n",
    "        if ylog==True:\n",
    "            ax.set_yscale('log')\n",
    "    \n",
    "        ax.set_xlabel(r'$1+z$',fontsize=20)\n",
    "        ax.invert_xaxis()\n",
    "    elif xkey[0] == 'mag':\n",
    "        len_z=len(Z)\n",
    "        if len_z>1:\n",
    "            for i in range(len_z):\n",
    "                ax.semilogy(x[xkey[0]],y[ykeys[0]][i,:],color=clr[i],ls=linsty[i],label='$z = {}$'.format(Z[i]-1))\n",
    "            ax.legend(fontsize=18,frameon=False)\n",
    "        else:\n",
    "            ax.semilogy(x[xkey[0]],y[ykeys[0]],color='b')\n",
    "        ax.set_xlabel(r'$M_{\\mathrm{UV}}$',fontsize=20)    \n",
    "        ax.set_ylabel(r'$\\phi\\,\\Bigg(\\mathrm{cMpc^{-3}mag^{-1}}\\Bigg)$',fontsize=20)\n",
    "    ax.tick_params(axis='both', which='major', length=5, width=1, labelsize=20,direction='in',pad=10)\n",
    "    ax.tick_params(axis='both', which='minor', length=3, width=1, direction='in')\n",
    "    ax.minorticks_on()\n",
    "    ax.yaxis.set_ticks_position('both')\n",
    "    ax.xaxis.set_ticks_position('both')\n",
    "    ax.set_aspect(1.0/ax.get_data_ratio(), adjustable='box')\n",
    "    plt.show()\n",
    "    return None"
   ]
  },
  {
   "cell_type": "markdown",
   "id": "0774d981-e858-495d-baca-9b55c55d51d0",
   "metadata": {},
   "source": [
    "First load the package. Then set your cosmological and astrophysical parameters. If you already ran the pipeline and want to get the couplings, SFRD, etc. for the same set of parameters then the following should be the same ones you gave for running the pipeline. In case you forgot what you gave either see the text file in you output folder or load the `echopipeline.echo` object file."
   ]
  },
  {
   "cell_type": "code",
   "execution_count": null,
   "id": "14ceb471-eca5-4a70-9a7c-bbd920415fce",
   "metadata": {},
   "outputs": [],
   "source": [
    "from echo21 import echofuncs\n",
    "from echo21 import echopipeline\n",
    "\n",
    "#myechoobj = echopipeline.load_pipeline('/give/full/path/to/your/pipeline/object')\n",
    "#myechoobj.print_input()\n",
    "\n",
    "cosmo = {'Ho':67.4,'Om_m':0.315,'Om_b':0.049,'sig8':0.811,'ns':0.965,'Tcmbo':2.725,'Yp':0.245}\n",
    "astro = {'fLy':1,'sLy':2.64,'fX':1,'wX':1.5,'fesc':0.0106}\n",
    "\n",
    "#Now initialise object.\n",
    "myobj = echofuncs.funcs(cosmo=cosmo, astro=astro, type='phy', mdef = 'fof', hmf ='press74', Tmin_vir=1e4)\n"
   ]
  },
  {
   "cell_type": "markdown",
   "id": "45dff1e3-2ce1-4653-947a-d1217333c7fc",
   "metadata": {},
   "source": [
    "Now set the path to output folder."
   ]
  },
  {
   "cell_type": "code",
   "execution_count": null,
   "id": "4be68d3c-8b43-484f-873a-68b67fa152a3",
   "metadata": {},
   "outputs": [],
   "source": [
    "output = '/path/to/echo21/outputs/'"
   ]
  },
  {
   "cell_type": "markdown",
   "id": "aa6c0df1-80c5-4553-b634-bd6afaee864d",
   "metadata": {},
   "source": [
    "### You can produce collisional and Ly$\\alpha$ coupling trends"
   ]
  },
  {
   "cell_type": "markdown",
   "id": "5fc0aaed-3720-4561-8f9e-96c31a6364f7",
   "metadata": {},
   "source": [
    "Before generate the couplings, load the redshifts, temperature and electron fraction."
   ]
  },
  {
   "cell_type": "code",
   "execution_count": null,
   "id": "7d328b7b-81f7-41d6-b150-44aa3599ecd5",
   "metadata": {},
   "outputs": [],
   "source": [
    "one_plus_z = np.load(output+'one_plus_z.npy')\n",
    "xe = np.load(output+'xe.npy')\n",
    "Tk = np.load(output+'Tk.npy')"
   ]
  },
  {
   "cell_type": "code",
   "execution_count": null,
   "id": "ba35eb27-308c-43b0-9989-f588e058961d",
   "metadata": {},
   "outputs": [],
   "source": [
    "xk=myobj.hyfi_col_coup(Z=one_plus_z,xe=xe,Tk=Tk)\n",
    "xa=myobj.hyfi_lya_coup(Z=one_plus_z,xe=xe,Tk=Tk)"
   ]
  },
  {
   "cell_type": "markdown",
   "id": "78a7bcae-6f9c-4a30-84e9-3cfaa0618f09",
   "metadata": {},
   "source": [
    "### Now plot them."
   ]
  },
  {
   "cell_type": "code",
   "execution_count": null,
   "id": "5faecab4-e70b-4240-a2ff-3ca91f145de9",
   "metadata": {},
   "outputs": [],
   "source": [
    "plotter(x={'z':one_plus_z},y={'xk':xk,'xa':xa},xlog=True,ylog=True)"
   ]
  },
  {
   "cell_type": "markdown",
   "id": "edebd9eb-6f09-4668-bf75-ed2b83fd07e2",
   "metadata": {},
   "source": [
    "### Let us look at the SFRD plot."
   ]
  },
  {
   "cell_type": "code",
   "execution_count": null,
   "id": "4572fefe-3107-4f3e-aade-52dc97687d89",
   "metadata": {},
   "outputs": [],
   "source": [
    "from echo21 import const\n",
    "\n",
    "Z=np.linspace(60,1,200)\n",
    "sfrd = myobj.sfrd(Z)\n",
    "sfrd = sfrd/const.Msolar_by_Mpc3_year_to_kg_by_m3_sec\n",
    "\n",
    "plotter({'z':Z},{'sfrd':sfrd},xlog=False, ylog=True)"
   ]
  },
  {
   "cell_type": "markdown",
   "id": "440a80eb-c6c0-411f-9acf-3faee3492b27",
   "metadata": {},
   "source": [
    "### Let us look at the CMB optical depth"
   ]
  },
  {
   "cell_type": "code",
   "execution_count": null,
   "id": "d7932520-a9d6-4549-b996-ed675160620a",
   "metadata": {},
   "outputs": [],
   "source": [
    "# First generate a redshift range\n",
    "Z = np.linspace(20,1,200)\n",
    "\n",
    "# Now generate the CMB optical depth\n",
    "tau = myobj.reion_tau(Z)"
   ]
  },
  {
   "cell_type": "markdown",
   "id": "e3f9fdf9-6e8e-4d37-91b3-f64622e5860b",
   "metadata": {},
   "source": [
    "### Now plot it."
   ]
  },
  {
   "cell_type": "code",
   "execution_count": null,
   "id": "e7fd98d8-e819-43c7-89de-76b47df63643",
   "metadata": {},
   "outputs": [],
   "source": [
    "plotter({'z':Z},{'tau':tau},xlog=False, ylog=False)"
   ]
  }
 ],
 "metadata": {
  "kernelspec": {
   "display_name": "Python 3 (ipykernel)",
   "language": "python",
   "name": "python3"
  },
  "language_info": {
   "codemirror_mode": {
    "name": "ipython",
    "version": 3
   },
   "file_extension": ".py",
   "mimetype": "text/x-python",
   "name": "python",
   "nbconvert_exporter": "python",
   "pygments_lexer": "ipython3",
   "version": "3.12.3"
  }
 },
 "nbformat": 4,
 "nbformat_minor": 5
}
