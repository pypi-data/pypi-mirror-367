{
 "cells": [
  {
   "cell_type": "markdown",
   "id": "86dff771",
   "metadata": {},
   "source": [
    "# ECHO21\n",
    "# &copy; 2025 Shikhar Mittal.\n",
    "\n",
    "## Use this notebook to create figure for some standard quantities such as electron fraction, gas temperature, and 21-cm signal. For the computation of quantities such as SFRD please look at the notebook titled `additional_features`."
   ]
  },
  {
   "cell_type": "code",
   "execution_count": null,
   "id": "ffac1a94",
   "metadata": {},
   "outputs": [],
   "source": [
    "import matplotlib.pyplot as plt\n",
    "import numpy as np\n",
    "import math"
   ]
  },
  {
   "cell_type": "code",
   "execution_count": null,
   "id": "d19d8fc3",
   "metadata": {},
   "outputs": [],
   "source": [
    "np.seterr(all='ignore')\n",
    "\n",
    "def Z2nu(Z):\n",
    "    return 1420/Z\n",
    "\n",
    "def nu2Z(nu):\n",
    "    return 1420/nu\n",
    "\n",
    "def plotter(x=None,y=None,xlog=True,ylog=False):\n",
    "    '''\n",
    "    This function will plots the quantity y w.r.t. x. \n",
    "    \n",
    "    Arguments\n",
    "    ---------\n",
    "    \n",
    "    x : float\n",
    "        1+z\n",
    "    \n",
    "    y : dictionary\n",
    "        Can be electron fraction ('xe'), volume-filling factor ('Q'), spin temperature ('Ts'), gas temperature ('Tk'), CMB temperature ('Tcmb'), or 21-cm signal ('T21').\n",
    "\n",
    "    xlog : bool\n",
    "        Set True if you want x axis to be in log scale otherwise false. Default is True.\n",
    "        \n",
    "    ylog : bool\n",
    "        Set True if you want x axis to be in log scale otherwise false. Default is False.\n",
    "    '''\n",
    "    plt.rc('text', usetex=True)\n",
    "    plt.rc('font', family='serif')\n",
    "\n",
    "    fig,ax=plt.subplots(figsize=(8.3,7.2),dpi=300)\n",
    "    fig.subplots_adjust(left=0.14, bottom=0.07, right=0.86, top=0.97)\n",
    "    clr=['b','r','limegreen']\n",
    "    linsty=['-','--',':']\n",
    "\n",
    "    leng = len(y)\n",
    "    keys = list(y.keys())\n",
    "    \n",
    "    if leng>1:\n",
    "        for i in range(leng):\n",
    "            if keys[i]=='Tk':\n",
    "                lbl = r'$T_{\\mathrm{k}}$'\n",
    "            elif keys[i]=='Ts':\n",
    "                lbl = r'$T_{\\mathrm{s}}$'\n",
    "            elif keys[i]=='Tcmb':\n",
    "                lbl = r'$T_{\\gamma}$'\n",
    "            else:\n",
    "                print('Error: provide only similar quantities in the dictionary.')\n",
    "                sys.exit()\n",
    "            ax.plot(x,y[keys[i]],color=clr[i],ls=linsty[i],label=lbl)\n",
    "            \n",
    "        if keys[0]=='Tk' or keys[0]=='Ts' or keys[0]=='Tcmb':\n",
    "            ax.set_ylabel(r'$T\\,$(K)',fontsize=20)\n",
    "        elif keys[0]=='xk' or keys[0]=='xa':\n",
    "            ax.set_ylabel('Couplings',fontsize=20)\n",
    "        ax.legend(fontsize=18,frameon=False)\n",
    "    else:\n",
    "        key = keys[0]\n",
    "        ax.plot(x,y[key],'b')\n",
    "        if key=='Tk':\n",
    "            ax.set_ylabel(r'$T_{\\mathrm{k}}\\,$(K)',fontsize=20)\n",
    "        elif key=='Tcmb':\n",
    "            ax.set_ylabel(r'$T_{\\mathrm{cmb}}\\,$(K)',fontsize=20)\n",
    "        elif key=='Ts':\n",
    "            ax.set_ylabel(r'$T_{\\mathrm{s}}\\,$(K)',fontsize=20)\n",
    "        elif key=='xk':\n",
    "            ax.set_ylabel(r'$x_{\\mathrm{k}}$',fontsize=20)\n",
    "        elif key=='xa':\n",
    "            ax.set_ylabel(r'$x_{\\alpha}$',fontsize=20)\n",
    "        elif key=='xe':\n",
    "            ax.set_ylabel(r'$x_{\\mathrm{e}}$',fontsize=20)\n",
    "        elif key=='Q':\n",
    "            ax.axhline(y=0.5,ls='--',color='r',label=r'50\\% reionization')\n",
    "            ax.axhline(y=1,ls=':',color='limegreen',label=r'100\\% reionization')\n",
    "            ax.set_ylabel(r'$Q$',fontsize=20)\n",
    "            ax.legend(fontsize=16,frameon=False,loc=0)\n",
    "        elif key=='T21':\n",
    "            secax = ax.secondary_xaxis('top', functions=(Z2nu,nu2Z))\n",
    "            secax.set_xlabel(r'$\\nu\\,(\\mathrm{MHz})$',fontsize=20, labelpad=12)\n",
    "            secax.minorticks_on()\n",
    "            secax.tick_params(axis='x',which='major', length=5, width=1, labelsize=20,direction='in')\n",
    "            secax.tick_params(axis='x',which='minor', length=3, width=1, direction='in')\n",
    "            ax.axhline(y=0,ls=':',color='k')\n",
    "            ax.set_ylabel(r'$T_{21}\\,$(mK)',fontsize=20)\n",
    "        else:\n",
    "            print('Error: unknown quantity provided.')\n",
    "            sys.exit()\n",
    "\n",
    "    if xlog==True:\n",
    "        ax.set_xscale('log')\n",
    "    if ylog==True:\n",
    "        ax.set_yscale('log')\n",
    "    \n",
    "    ax.set_xlabel(r'$1+z$',fontsize=20)    \n",
    "    ax.tick_params(axis='both', which='major', length=5, width=1, labelsize=20,direction='in',pad=10)\n",
    "    ax.tick_params(axis='both', which='minor', length=3, width=1, direction='in')\n",
    "    ax.minorticks_on()\n",
    "    \n",
    "    xhigh = math.ceil(x[0] / 10.0) * 10\n",
    "    if x[-1]<10:\n",
    "        xlow = math.floor(x[-1])\n",
    "    else:\n",
    "        xlow = math.floor(x[-1] / 10.0) * 10\n",
    "    \n",
    "    ax.set_xlim([xlow,xhigh])\n",
    "    ax.invert_xaxis()\n",
    "    ax.yaxis.set_ticks_position('both')\n",
    "    if keys[0]!='T21':\n",
    "        ax.xaxis.set_ticks_position('both')\n",
    "    ax.set_aspect(1.0/ax.get_data_ratio(), adjustable='box')\n",
    "    plt.show()\n",
    "    return"
   ]
  },
  {
   "cell_type": "markdown",
   "id": "1b499cdc",
   "metadata": {},
   "source": [
    "## Enter the path to output folder"
   ]
  },
  {
   "cell_type": "code",
   "execution_count": null,
   "id": "8e8a0ec2",
   "metadata": {},
   "outputs": [],
   "source": [
    "#output = '/path/to/your/echo21/outputs/'\n",
    "output = '/mnt/d/test_echo21/output_20250501-184520/'"
   ]
  },
  {
   "cell_type": "markdown",
   "id": "016046ba",
   "metadata": {},
   "source": [
    "## Load the redshifts"
   ]
  },
  {
   "cell_type": "code",
   "execution_count": null,
   "id": "b4e0b44c",
   "metadata": {},
   "outputs": [],
   "source": [
    "one_plus_z = np.load(output+'one_plus_z.npy')\n",
    "idx=np.size(one_plus_z)\n",
    "print('Total number of z values ',idx)"
   ]
  },
  {
   "cell_type": "markdown",
   "id": "f28f47fd",
   "metadata": {},
   "source": [
    "## Plot volume-filling factor, $Q$ (signature of reionisation)"
   ]
  },
  {
   "cell_type": "code",
   "execution_count": null,
   "id": "c1d52881",
   "metadata": {},
   "outputs": [],
   "source": [
    "Q = np.load(output+'Q.npy')\n",
    "plotter(x=one_plus_z,y={'Q':Q},xlog=True,ylog=False)"
   ]
  },
  {
   "cell_type": "markdown",
   "id": "6b8d1eb7-4483-40b1-9a75-82d121faab17",
   "metadata": {},
   "source": [
    "Find the redshift of completion of reionization."
   ]
  },
  {
   "cell_type": "code",
   "execution_count": null,
   "id": "27dd9547-46f2-4504-83d0-fca8544729e8",
   "metadata": {},
   "outputs": [],
   "source": [
    "try:\n",
    "    idx = np.where(Q>=0.98)[0][0]\n",
    "    z100 = one_plus_z[idx]-1\n",
    "    print('End of reionization at z100 =',z100)\n",
    "    print('Index of z100 =',idx)\n",
    "except:\n",
    "    print('\\n{:.1f} % universe reionised'.format(100*Q[-1]))"
   ]
  },
  {
   "cell_type": "markdown",
   "id": "72a0fb5f",
   "metadata": {},
   "source": [
    "## Plot bulk electron fraction, $x_{\\mathrm{e}}$"
   ]
  },
  {
   "cell_type": "code",
   "execution_count": null,
   "id": "a9bce38e",
   "metadata": {},
   "outputs": [],
   "source": [
    "xe = np.load(output+'xe.npy')\n",
    "plotter(x=one_plus_z[0:idx+1],y={'xe':xe[0:idx+1]},xlog=True,ylog=True)"
   ]
  },
  {
   "cell_type": "markdown",
   "id": "6a8140b1",
   "metadata": {},
   "source": [
    "## Plot gas, spin and CMB temperature"
   ]
  },
  {
   "cell_type": "markdown",
   "id": "f7e44956",
   "metadata": {},
   "source": [
    "Load the temperatures"
   ]
  },
  {
   "cell_type": "code",
   "execution_count": null,
   "id": "28b68e27",
   "metadata": {},
   "outputs": [],
   "source": [
    "Tk = np.load(output+'Tk.npy')\n",
    "Ts = np.load(output+'Ts.npy')\n",
    "Tcmb = np.load(output+'Tcmb.npy')"
   ]
  },
  {
   "cell_type": "markdown",
   "id": "c7e2a996",
   "metadata": {},
   "source": [
    "Now plot them"
   ]
  },
  {
   "cell_type": "code",
   "execution_count": null,
   "id": "93449b99",
   "metadata": {},
   "outputs": [],
   "source": [
    "plotter(x=one_plus_z[0:idx+1],y={'Tk':Tk[0:idx+1],'Ts':Ts[0:idx+1],'Tcmb':Tcmb[0:idx+1]},xlog=True,ylog=True)"
   ]
  },
  {
   "cell_type": "markdown",
   "id": "fd42ab81",
   "metadata": {},
   "source": [
    "## Finally, we plot the global 21-cm signal, $T_{21}$"
   ]
  },
  {
   "cell_type": "code",
   "execution_count": null,
   "id": "c5588751",
   "metadata": {},
   "outputs": [],
   "source": [
    "T21 = np.load(output+'T21.npy')\n",
    "plotter(x=one_plus_z,y={'T21':T21})"
   ]
  },
  {
   "cell_type": "code",
   "execution_count": null,
   "id": "8902d21a-0079-4192-9dfa-7c53e422842a",
   "metadata": {},
   "outputs": [],
   "source": []
  }
 ],
 "metadata": {
  "kernelspec": {
   "display_name": "Python 3 (ipykernel)",
   "language": "python",
   "name": "python3"
  },
  "language_info": {
   "codemirror_mode": {
    "name": "ipython",
    "version": 3
   },
   "file_extension": ".py",
   "mimetype": "text/x-python",
   "name": "python",
   "nbconvert_exporter": "python",
   "pygments_lexer": "ipython3",
   "version": "3.12.3"
  }
 },
 "nbformat": 4,
 "nbformat_minor": 5
}
