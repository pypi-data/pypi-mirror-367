{
 "cells": [
  {
   "cell_type": "markdown",
   "id": "c281768e-dd3d-4406-909a-b7ce7b90c947",
   "metadata": {},
   "source": [
    "# ECHO21\n",
    "# &copy; 2025 Shikhar Mittal.\n",
    "\n",
    "## If you generated several models, you may plot them as follows."
   ]
  },
  {
   "cell_type": "code",
   "execution_count": null,
   "id": "a9e36a9a-db3d-49aa-a7e5-28b9e1d8d5ba",
   "metadata": {},
   "outputs": [],
   "source": [
    "import matplotlib.pyplot as plt\n",
    "import numpy as np"
   ]
  },
  {
   "cell_type": "code",
   "execution_count": null,
   "id": "ee317ce4-f95e-4ec1-ab5e-8cc84a33f6b6",
   "metadata": {},
   "outputs": [],
   "source": [
    "#Set the output directory, where you saved your signals\n",
    "output = '/path/to/your/echo21/outputs/'"
   ]
  },
  {
   "cell_type": "code",
   "execution_count": null,
   "id": "307aba02-5a90-4468-8272-139fd7b77c02",
   "metadata": {},
   "outputs": [],
   "source": [
    "#First load redshifts\n",
    "one_plus_z = np.load(output+'one_plus_z.npy')\n",
    "\n",
    "#First load the signals\n",
    "T21 = np.load(output+'T21.npy')\n",
    "\n",
    "#Check it's shape\n",
    "print(np.shape(T21))"
   ]
  },
  {
   "cell_type": "code",
   "execution_count": null,
   "id": "c32552bf-b61a-449d-ac2f-992e5e543f89",
   "metadata": {},
   "outputs": [],
   "source": [
    "plt.rc('text', usetex=True)\n",
    "plt.rc('font', family='serif')\n",
    "\n",
    "fig,ax=plt.subplots(figsize=(8.3,7.2),dpi=300)\n",
    "fig.subplots_adjust(left=0.14, bottom=0.07, right=0.86, top=0.97)\n",
    "\n",
    "T21_new = T21.reshape(-1, T21.shape[-1])\n",
    "n_mod = T21_new.shape[0]\n",
    "\n",
    "for i in range(n_mod):\n",
    "    plt.semilogx(one_plus_z,T21_new[i,:],color='b',alpha=0.1)\n",
    "ax.axhline(y=0,ls=':',color='k')\n",
    "ax.set_xlabel(r'$1+z$',fontsize=20)\n",
    "ax.set_ylabel(r'$T_{21}\\,$(mK)',fontsize=20)\n",
    "ax.set_xlim([1501,1])\n",
    "ax.yaxis.set_ticks_position('both')\n",
    "ax.xaxis.set_ticks_position('both')\n",
    "ax.tick_params(axis='both', which='major', length=5, width=1, labelsize=20,direction='in',pad=10)\n",
    "ax.tick_params(axis='both', which='minor', length=3, width=1, direction='in')\n",
    "ax.minorticks_on()\n",
    "ax.set_aspect(1.0/ax.get_data_ratio(), adjustable='box')\n",
    "plt.show()"
   ]
  }
 ],
 "metadata": {
  "kernelspec": {
   "display_name": "Python 3 (ipykernel)",
   "language": "python",
   "name": "python3"
  },
  "language_info": {
   "codemirror_mode": {
    "name": "ipython",
    "version": 3
   },
   "file_extension": ".py",
   "mimetype": "text/x-python",
   "name": "python",
   "nbconvert_exporter": "python",
   "pygments_lexer": "ipython3",
   "version": "3.12.3"
  }
 },
 "nbformat": 4,
 "nbformat_minor": 5
}
