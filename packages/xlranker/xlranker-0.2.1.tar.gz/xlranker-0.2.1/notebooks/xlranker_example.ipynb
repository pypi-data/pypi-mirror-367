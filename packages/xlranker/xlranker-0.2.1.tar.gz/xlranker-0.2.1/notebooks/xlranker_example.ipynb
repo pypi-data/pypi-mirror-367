{
 "cells": [
  {
   "cell_type": "markdown",
   "id": "c8a3292e",
   "metadata": {},
   "source": [
    "# XLRanker Jupyter Notebook\n",
    "\n",
    "This Jupyter Notebook provides an example of how to start from a peptide network to the final protein network that can be used for functional analysis.\n",
    "\n",
    "## Example Dataset\n",
    "\n",
    "The example data used in this notebook is from HEK293 cell lines. The PPI-XL data was taken from https://pubs.acs.org/doi/10.1021/acs.analchem.1c04485, and the protein data was from https://www.ebi.ac.uk/pride/archive/projects/PXD052801. The notebook handles downloading the data to this instance.\n",
    "\n",
    "### Data Citations\n",
    "\n",
    "```txt\n",
    "Combining Quantitative Proteomics and Interactomics for a Deeper Insight into Molecular Differences between Human Cell Lines Anna A. Bakhtina, Helisa H. Wippel, Juan D. Chavez, and James E. Bruce Journal of Proteome Research 2024 23 (12), 5360-5371 DOI: 10.1021/acs.jproteome.4c00503 \n",
    "Jiao F, Yu C, Wheat A, Wang X, Rychnovsky SD, Huang L. Two-Dimensional Fractionation Method for Proteome-Wide Cross-Linking Mass Spectrometry Analysis. Anal Chem. 2022 Mar 15;94(10):4236-4242. doi: 10.1021/acs.analchem.1c04485. Epub 2022 Mar 2. PMID: 35235311; PMCID: PMC9056026.\n",
    "```\n",
    "\n",
    "## Install xlranker\n",
    "\n",
    "If `xlranker` is not already installed, run the below command"
   ]
  },
  {
   "cell_type": "code",
   "execution_count": null,
   "id": "1ac8d717",
   "metadata": {},
   "outputs": [
    {
     "name": "stdout",
     "output_type": "stream",
     "text": [
      "^C\n"
     ]
    }
   ],
   "source": [
    "%pip install xlranker # install xlranker"
   ]
  },
  {
   "cell_type": "markdown",
   "id": "e5500eb9",
   "metadata": {},
   "source": [
    "## Data Download"
   ]
  },
  {
   "cell_type": "code",
   "execution_count": null,
   "id": "86bfa1ef",
   "metadata": {},
   "outputs": [],
   "source": [
    "import tarfile\n",
    "from io import BytesIO\n",
    "\n",
    "import requests\n",
    "\n",
    "# Download the example data\n",
    "url = \"https://github.com/bzhanglab/xlranker/raw/refs/heads/master/notebooks/downloads/example_data.tar.gz\"\n",
    "response = requests.get(url)\n",
    "response.raise_for_status()\n",
    "\n",
    "# Open the tar.gz file and save to /content/\n",
    "with tarfile.open(fileobj=BytesIO(response.content), mode=\"r:gz\") as tar:\n",
    "    tar.extractall(path=\"/content/\")\n",
    "    print(\"Files extracted to /content/\")"
   ]
  },
  {
   "cell_type": "markdown",
   "id": "21dfdb92",
   "metadata": {},
   "source": [
    "## Getting Started"
   ]
  },
  {
   "cell_type": "code",
   "execution_count": null,
   "id": "a2f3d091",
   "metadata": {},
   "outputs": [],
   "source": [
    "import xlranker\n",
    "from xlranker.config import config as xlranker_config\n",
    "from xlranker.util.mapping import FastaType, PeptideMapper\n",
    "\n",
    "xlranker_config.reduce_fasta = False  # Only accept the longest sequence\n",
    "xlranker_config.output = \"xlranker_output/\"  # output folder\n",
    "\n",
    "\n",
    "xlranker.lib.setup_logging()  # enable logging\n",
    "\n",
    "xlranker.util.set_seed(10)  # set seed for reproducibility (optional)\n",
    "\n",
    "mapper = PeptideMapper(\n",
    "    mapping_table_path=\"human_2019_04.fasta\",\n",
    "    is_fasta=True,\n",
    "    fasta_type=FastaType.UNIPROT,\n",
    ")  # Use custom mapping table from UNIPROT\n",
    "\n",
    "data_set = xlranker.lib.XLDataSet.load_from_network(\n",
    "    \"init_network.tsv\", \"omic_data/\", custom_mapper=mapper\n",
    ")\n",
    "\n",
    "xlranker.run_full_pipeline(data_set)"
   ]
  },
  {
   "cell_type": "markdown",
   "id": "c3ebefe2",
   "metadata": {},
   "source": [
    "## Analysis\n",
    "\n",
    "One key point to evaluate the performance of xlranker's model is by looking at the separation between the prioritized and unprioritized pairs.\n",
    "\n",
    "To create a chart, install `pandas` and `seaborn`"
   ]
  },
  {
   "cell_type": "code",
   "execution_count": null,
   "id": "6f471eb4",
   "metadata": {},
   "outputs": [],
   "source": [
    "%pip install pandas seaborn scipy # Install if not done already"
   ]
  },
  {
   "cell_type": "code",
   "execution_count": null,
   "id": "567dec90",
   "metadata": {},
   "outputs": [],
   "source": [
    "import matplotlib.pyplot as plt\n",
    "import pandas as pd\n",
    "import seaborn as sns\n",
    "\n",
    "from xlranker.status import PrioritizationStatus\n",
    "\n",
    "df_dict = {\"type\": [], \"score\": []}\n",
    "\n",
    "for pair in data_set.protein_pairs.values():\n",
    "    if pair.prioritization_status == PrioritizationStatus.ML_PRIMARY_SELECTED:\n",
    "        df_dict[\"type\"].append(\"ML Primary Selected\")\n",
    "        df_dict[\"score\"].append(pair.score)\n",
    "    elif pair.prioritization_status == PrioritizationStatus.ML_SECONDARY_SELECTED:\n",
    "        df_dict[\"type\"].append(\"ML Secondary Selected\")\n",
    "        df_dict[\"score\"].append(pair.score)\n",
    "    elif pair.prioritization_status == PrioritizationStatus.ML_NOT_SELECTED:\n",
    "        df_dict[\"type\"].append(\"ML Not Selected\")\n",
    "        df_dict[\"score\"].append(pair.score)\n",
    "\n",
    "df = pd.DataFrame(df_dict)\n",
    "sns.set_theme(context=\"talk\", style=\"white\")\n",
    "sns.kdeplot(df, hue=\"type\", x=\"score\", fill=True, common_norm=False)\n",
    "plt.tight_layout()\n",
    "plt.show()"
   ]
  }
 ],
 "metadata": {
  "kernelspec": {
   "display_name": "xlranker",
   "language": "python",
   "name": "python3"
  },
  "language_info": {
   "codemirror_mode": {
    "name": "ipython",
    "version": 3
   },
   "file_extension": ".py",
   "mimetype": "text/x-python",
   "name": "python",
   "nbconvert_exporter": "python",
   "pygments_lexer": "ipython3",
   "version": "3.10.15"
  }
 },
 "nbformat": 4,
 "nbformat_minor": 5
}
