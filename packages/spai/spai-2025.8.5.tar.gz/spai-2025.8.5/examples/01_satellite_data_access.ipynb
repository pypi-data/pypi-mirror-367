{
 "cells": [
  {
   "cell_type": "code",
   "execution_count": 1,
   "metadata": {},
   "outputs": [],
   "source": [
    "%load_ext autoreload\n",
    "%autoreload 2\n"
   ]
  },
  {
   "attachments": {},
   "cell_type": "markdown",
   "metadata": {},
   "source": [
    "# Explore, load and download satellite imagery\n"
   ]
  },
  {
   "cell_type": "markdown",
   "metadata": {},
   "source": [
    "SPAI has numerous collections of satellite data, from Sentinel to Landsat, through DEMs or climate data. All of this is in the `spai.data.satellite` module.\n",
    "\n",
    "First, we can check for available collections.\n"
   ]
  },
  {
   "cell_type": "code",
   "execution_count": null,
   "metadata": {},
   "outputs": [],
   "source": [
    "from spai.data.satellite import AVAILABLE_COLLECTIONS\n",
    "\n",
    "AVAILABLE_COLLECTIONS"
   ]
  },
  {
   "cell_type": "markdown",
   "metadata": {},
   "source": [
    "## Explore\n"
   ]
  },
  {
   "cell_type": "markdown",
   "metadata": {},
   "source": [
    "The first thing we can do with SPAI is explore and search if there are images available using the `explore_satellite_imagery` function. The parameters are the following:\n",
    "\n",
    "- aoi: can be anything related to a geometry or a place: the name of a place, a bounding box, a geometry or a GeoDataFrame.\n",
    "- datetime: str, List or datetime objects. Can be a single date, such as 2020-01-01, or a time interval, such as (2020-01-01, 2020-01-10) or 2020-01-01/2020-01-10. If not provided, searchs the images available in the last month.\n",
    "- collection: str. One of the AVAILABLE_COLLECTIONS. If not provided, by default is sentinel-2-l2a.\n"
   ]
  },
  {
   "cell_type": "code",
   "execution_count": null,
   "metadata": {},
   "outputs": [],
   "source": [
    "from spai.data.satellite import explore_satellite_imagery\n",
    "\n",
    "search = explore_satellite_imagery(\"Manresa\")\n",
    "search[:3]"
   ]
  },
  {
   "cell_type": "markdown",
   "metadata": {},
   "source": [
    "Other args can be given.\n",
    "\n",
    "- crs: the crs of the data to retrieve.\n",
    "- resolution: the resolution of the data to retrieve. Must be in the crs units. ex. EPSG4326 is in degrees, EPSG3857 in meters.\n",
    "- bands: bands to retrieve. By default, each collection has default bands. e.g. Sentinel-2-l2a has 1 to 12 (coastal, blue, green ...), or Sentinel-1-grd has vv and vh.\n",
    "- Other parameters such as cloud_cover, vegetation_percentage, polarization, etc. Each collection has its own filter parameters.\n"
   ]
  },
  {
   "cell_type": "code",
   "execution_count": null,
   "metadata": {},
   "outputs": [],
   "source": [
    "cloud_cover = 50\n",
    "search = explore_satellite_imagery(\n",
    "    \"Barcelona\", (\"2020-01-01\", \"2020-01-10\"), \"sentinel-2-l2a\", cloud_cover=cloud_cover\n",
    ")\n",
    "search[:3]"
   ]
  },
  {
   "cell_type": "markdown",
   "metadata": {},
   "source": [
    "## Load\n"
   ]
  },
  {
   "cell_type": "markdown",
   "metadata": {},
   "source": [
    "Data can be loaded directly into memory as a `xr.Dataset` using the `load_satellite_imagery` function. What this function does is load satellite imagery into memory, from a given area of ​​interest (aoi) and date. So what it returns is a Dataset of xarray. This function is very interesting for performing operations and applying mathematics on the data without having to download it.\n"
   ]
  },
  {
   "cell_type": "code",
   "execution_count": null,
   "metadata": {},
   "outputs": [],
   "source": [
    "from spai.data.satellite import load_satellite_imagery\n",
    "\n",
    "bands = [\"red\", \"green\", \"blue\"]\n",
    "data = load_satellite_imagery(\"Barcelona\", bands=bands)\n",
    "data"
   ]
  },
  {
   "cell_type": "markdown",
   "metadata": {},
   "source": [
    "We can try other collections, like `sentinel-1-grd`.\n"
   ]
  },
  {
   "cell_type": "code",
   "execution_count": null,
   "metadata": {},
   "outputs": [],
   "source": [
    "from spai.data.satellite import load_satellite_imagery\n",
    "import geopandas as gpd\n",
    "\n",
    "# Example with no query and crs\n",
    "data = load_satellite_imagery(\n",
    "    \"Barcelona\",\n",
    "    (\"2020-01-01\", \"2020-01-10\"),\n",
    "    \"sentinel-1-grd\",\n",
    ")\n",
    "data"
   ]
  },
  {
   "cell_type": "markdown",
   "metadata": {},
   "source": [
    "## Download\n"
   ]
  },
  {
   "cell_type": "markdown",
   "metadata": {},
   "source": [
    "Last, data can be downloaded to a SPAI `Storage`. The parameters are:\n",
    "\n",
    "- storage: the storage to download the data.\n",
    "- name: the name of the image or images. If it is a single image, it is the entire name of the image. By default is `<collection>_<date>`.\n",
    "- clip: if the user wants to clip the data to a geometry.\n",
    "- other parameters already seen as aoi, datetetime, resolution, query, etc.\n",
    "\n",
    "> In coming sections we will see how to interact with a storage.\n"
   ]
  },
  {
   "cell_type": "markdown",
   "metadata": {},
   "source": [
    "We can use the search we done before to download the images for every date.\n"
   ]
  },
  {
   "cell_type": "code",
   "execution_count": null,
   "metadata": {},
   "outputs": [],
   "source": [
    "from spai.data.satellite import download_satellite_imagery\n",
    "from spai.storage.LocalStorage import LocalStorage\n",
    "\n",
    "storage = LocalStorage(\"data\")  # Local storage in the `data` folder\n",
    "\n",
    "# This will download to the storage several images with the name given\n",
    "# We can control the full name of the imagegdf = gpd.read_file(\"map.geojson\")\n",
    "for date in (\"2020-01-03\", \"2020-01-08\"):\n",
    "    download_satellite_imagery(\n",
    "        storage, \"Barcelona\", date=date, name=f\"image_{date}.tif\"\n",
    "    )"
   ]
  },
  {
   "cell_type": "markdown",
   "metadata": {},
   "source": [
    "Or we can pass a single date to download.\n"
   ]
  },
  {
   "cell_type": "code",
   "execution_count": null,
   "metadata": {},
   "outputs": [],
   "source": [
    "# This will download a single image for the date, if exists\n",
    "date = \"2020-01-03\"\n",
    "download_satellite_imagery(storage, \"Madrid\", date)"
   ]
  }
 ],
 "metadata": {
  "kernelspec": {
   "display_name": "spai-new",
   "language": "python",
   "name": "python3"
  },
  "language_info": {
   "codemirror_mode": {
    "name": "ipython",
    "version": 3
   },
   "file_extension": ".py",
   "mimetype": "text/x-python",
   "name": "python",
   "nbconvert_exporter": "python",
   "pygments_lexer": "ipython3",
   "version": "3.12.9"
  },
  "orig_nbformat": 4
 },
 "nbformat": 4,
 "nbformat_minor": 2
}
