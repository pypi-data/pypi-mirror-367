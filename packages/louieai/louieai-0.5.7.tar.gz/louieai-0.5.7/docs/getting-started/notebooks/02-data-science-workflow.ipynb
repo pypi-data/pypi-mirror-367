{
 "cells": [
  {
   "cell_type": "markdown",
   "metadata": {},
   "source": "# Data Science with LouieAI Agents\n\nQuick data science workflow showcasing specialized agents for analysis and visualization."
  },
  {
   "cell_type": "code",
   "execution_count": null,
   "metadata": {},
   "outputs": [],
   "source": "from louieai.notebook import lui\n\n# Generate sample data with TableAIAgent\nlui(\n    \"Create sample sales data with 100 rows: date, product, region, revenue\",\n    agent=\"TableAIAgent\",\n)"
  },
  {
   "cell_type": "markdown",
   "metadata": {},
   "source": "## Analysis with CodeAgent\n\nLet's analyze the data patterns:"
  },
  {
   "cell_type": "code",
   "execution_count": null,
   "metadata": {},
   "outputs": [],
   "source": "# Statistical analysis with CodeAgent\nlui(\n    \"Calculate revenue statistics by region and create summary table\",\n    agent=\"CodeAgent\",\n)"
  },
  {
   "cell_type": "markdown",
   "metadata": {},
   "source": "## Visualization with PerspectiveAgent"
  },
  {
   "cell_type": "code",
   "execution_count": null,
   "metadata": {},
   "outputs": [],
   "source": "# Interactive visualization\nlui(\n    \"Create an interactive bar chart showing revenue by region\",\n    agent=\"PerspectiveAgent\",\n)"
  },
  {
   "cell_type": "markdown",
   "metadata": {},
   "source": "## Graph Analysis\n\nBuild relationships for deeper insights:"
  },
  {
   "cell_type": "code",
   "execution_count": null,
   "metadata": {},
   "outputs": [],
   "source": "# Network analysis with GraphAgent\nlui(\n    \"Create a product-region relationship graph showing sales connections\",\n    agent=\"GraphAgent\",\n)"
  },
  {
   "cell_type": "markdown",
   "metadata": {},
   "source": "## Agent Composition\n\nCombine multiple agents for complex workflows:"
  },
  {
   "cell_type": "code",
   "execution_count": null,
   "metadata": {},
   "outputs": [],
   "source": "# Multi-agent workflow\nlui(\n    \"Find top products, then create a forecast visualization\",\n    agent=\"TableAIAgent\",\n)\n\n# Chain to visualization\nlui(\n    \"Turn the previous analysis into an interactive dashboard\",\n    agent=\"PerspectiveAgent\",\n)\n\nprint(\"✅ Complete data science workflow using 4 specialized agents!\")"
  }
 ],
 "metadata": {
  "kernelspec": {
   "display_name": "Python 3",
   "language": "python",
   "name": "python3"
  },
  "language_info": {
   "codemirror_mode": {
    "name": "ipython",
    "version": 3
   },
   "file_extension": ".py",
   "mimetype": "text/x-python",
   "name": "python",
   "nbconvert_exporter": "python",
   "pygments_lexer": "ipython3",
   "version": "3.8.0"
  }
 },
 "nbformat": 4,
 "nbformat_minor": 4
}