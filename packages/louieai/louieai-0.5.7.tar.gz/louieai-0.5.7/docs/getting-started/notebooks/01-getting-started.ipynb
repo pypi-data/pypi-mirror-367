{
 "cells": [
  {
   "cell_type": "markdown",
   "metadata": {},
   "source": "# Getting Started with LouieAI Notebook Interface\n\nThis notebook demonstrates the basic usage of the LouieAI notebook-friendly API (`lui`).\n\n## Authentication Requirements\n\nLouieAI uses PyGraphistry for authentication. Before running this notebook, you need:\n\n1. **PyGraphistry Account**: Sign up for free at [hub.graphistry.com](https://hub.graphistry.com)\n2. **Set Credentials**: Use one of these methods:\n\n   ```bash\n   # Option 1: Environment variables (recommended for notebooks)\n   export GRAPHISTRY_USERNAME=\"your_username\"\n   export GRAPHISTRY_PASSWORD=\"your_password\"\n   ```\n   \n   ```python\n   # Option 2: Authenticate in code\n   import graphistry\n   graphistry.register(api=3, server=\"hub.graphistry.com\", \n                      username=\"your_username\", password=\"your_password\")\n   ```\n\n## Setup\n\nFirst, make sure you have LouieAI installed and your credentials configured."
  },
  {
   "cell_type": "code",
   "execution_count": null,
   "metadata": {},
   "outputs": [],
   "source": [
    "import os\n",
    "\n",
    "# Check for credentials\n",
    "if not os.environ.get(\"GRAPHISTRY_USERNAME\"):\n",
    "    raise RuntimeError(\n",
    "        \"Please set GRAPHISTRY_USERNAME and GRAPHISTRY_PASSWORD \"\n",
    "        \"environment variables.\\n\"\n",
    "        \"Example: export GRAPHISTRY_USERNAME=your_username \"\n",
    "        \"GRAPHISTRY_PASSWORD=your_password\"\n",
    "    )\n",
    "\n",
    "# Import the notebook interface\n",
    "from louieai.notebook import lui\n",
    "\n",
    "# Display the interface status\n",
    "lui"
   ]
  },
  {
   "cell_type": "markdown",
   "metadata": {},
   "source": [
    "## Basic Queries\n",
    "\n",
    "Making queries with `lui` is simple - just call it like a function:"
   ]
  },
  {
   "cell_type": "code",
   "execution_count": null,
   "metadata": {},
   "outputs": [],
   "source": [
    "# Ask a simple question\n",
    "response = lui(\"What is the capital of France?\")\n",
    "\n",
    "# The response is automatically stored and accessible\n",
    "print(f\"Answer: {lui.text}\")"
   ]
  },
  {
   "cell_type": "markdown",
   "metadata": {},
   "source": [
    "## Working with Data\n",
    "\n",
    "LouieAI can generate and analyze data. Let's create a sample dataset:"
   ]
  },
  {
   "cell_type": "code",
   "execution_count": null,
   "metadata": {},
   "outputs": [],
   "source": [
    "# Request data generation\n",
    "lui(\n",
    "    \"Create a sample dataset of 10 products with columns: \"\n",
    "    \"product_name, category, price, units_sold\"\n",
    ")\n",
    "\n",
    "# Access the generated dataframe\n",
    "df = lui.df\n",
    "if df is not None:\n",
    "    print(f\"Generated DataFrame with shape: {df.shape}\")\n",
    "    print(\"\\nFirst few rows:\")\n",
    "    display(df.head())\n",
    "else:\n",
    "    print(\n",
    "        \"No dataframe was generated. Try asking for 'a table' \"\n",
    "        \"or 'dataframe' explicitly.\"\n",
    "    )"
   ]
  },
  {
   "cell_type": "markdown",
   "metadata": {},
   "source": [
    "## Analyzing Data\n",
    "\n",
    "Once you have data, you can ask questions about it:"
   ]
  },
  {
   "cell_type": "code",
   "execution_count": null,
   "metadata": {},
   "outputs": [],
   "source": [
    "# Analyze the data\n",
    "lui(\"What are the top 3 best-selling products? Show the results as a table.\")\n",
    "\n",
    "# Get the analysis results\n",
    "if lui.df is not None:\n",
    "    print(\"Top products:\")\n",
    "    display(lui.df)\n",
    "\n",
    "# The text explanation is also available\n",
    "print(f\"\\nExplanation: {lui.text}\")"
   ]
  },
  {
   "cell_type": "markdown",
   "metadata": {},
   "source": [
    "## Session History\n",
    "\n",
    "The `lui` interface maintains a history of your interactions:"
   ]
  },
  {
   "cell_type": "code",
   "execution_count": null,
   "metadata": {},
   "outputs": [],
   "source": [
    "# Access previous responses\n",
    "print(\"Current response text:\", lui.text)\n",
    "print(\"Previous response text:\", lui[-2].text)\n",
    "print(\"First response text:\", lui[-3].text)\n",
    "\n",
    "# Check if previous responses had dataframes\n",
    "for i in range(-3, 0):\n",
    "    has_df = lui[i].df is not None\n",
    "    print(f\"Response {i}: {'Has DataFrame' if has_df else 'No DataFrame'}\")"
   ]
  },
  {
   "cell_type": "markdown",
   "metadata": {},
   "source": [
    "## Enabling Traces\n",
    "\n",
    "For complex queries, you might want to see the AI's reasoning process:"
   ]
  },
  {
   "cell_type": "code",
   "execution_count": null,
   "metadata": {},
   "outputs": [],
   "source": [
    "# Enable traces for the session\n",
    "lui.traces = True\n",
    "\n",
    "# Now queries will show reasoning steps\n",
    "lui(\n",
    "    \"Calculate the total revenue from the products data and \"\n",
    "    \"identify which category contributes most\"\n",
    ")\n",
    "\n",
    "# Disable traces\n",
    "lui.traces = False\n",
    "\n",
    "# Or enable traces for just one query\n",
    "lui(\"What's the average price by category?\", traces=True)"
   ]
  },
  {
   "cell_type": "markdown",
   "metadata": {},
   "source": [
    "## Error Handling\n",
    "\n",
    "The interface handles errors gracefully:"
   ]
  },
  {
   "cell_type": "code",
   "execution_count": null,
   "metadata": {},
   "outputs": [],
   "source": [
    "# Check for errors in responses\n",
    "if lui.has_errors:\n",
    "    print(\"Errors found:\")\n",
    "    for error in lui.errors:\n",
    "        print(f\"- {error['message']}\")\n",
    "else:\n",
    "    print(\"No errors in the latest response\")"
   ]
  },
  {
   "cell_type": "markdown",
   "metadata": {},
   "source": [
    "## Tips and Tricks\n",
    "\n",
    "Here are some helpful patterns for using the notebook interface:"
   ]
  },
  {
   "cell_type": "code",
   "execution_count": null,
   "metadata": {},
   "outputs": [],
   "source": [
    "# 1. Check what's available in the latest response\n",
    "elements = lui.elements\n",
    "print(f\"Response contains {len(elements)} elements:\")\n",
    "for elem in elements:\n",
    "    print(f\"- {elem['type']}: {str(elem['value'])[:50]}...\")\n",
    "\n",
    "# 2. Get all dataframes from a response\n",
    "all_dfs = lui.dfs\n",
    "print(f\"\\nNumber of dataframes: {len(all_dfs)}\")\n",
    "\n",
    "# 3. Get all text elements\n",
    "all_texts = lui.texts\n",
    "print(f\"Number of text elements: {len(all_texts)}\")"
   ]
  },
  {
   "cell_type": "markdown",
   "metadata": {},
   "source": [
    "## Next Steps\n",
    "\n",
    "- Try the data science workflow notebook for more advanced analysis\n",
    "- Explore error handling patterns in the dedicated notebook\n",
    "- Check out the fraud investigation example for a real-world use case\n",
    "\n",
    "Remember:\n",
    "- `lui(\"your question\")` - Make a query\n",
    "- `lui.df` - Get the latest dataframe\n",
    "- `lui.text` - Get the text response\n",
    "- `lui[-1]` - Access previous responses\n",
    "- `lui.traces = True` - Enable reasoning traces"
   ]
  }
 ],
 "metadata": {
  "kernelspec": {
   "display_name": "Python 3",
   "language": "python",
   "name": "python3"
  },
  "language_info": {
   "codemirror_mode": {
    "name": "ipython",
    "version": 3
   },
   "file_extension": ".py",
   "mimetype": "text/x-python",
   "name": "python",
   "nbconvert_exporter": "python",
   "pygments_lexer": "ipython3",
   "version": "3.8.0"
  }
 },
 "nbformat": 4,
 "nbformat_minor": 4
}