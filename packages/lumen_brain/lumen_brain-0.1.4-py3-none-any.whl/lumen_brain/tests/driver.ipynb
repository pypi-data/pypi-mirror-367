{
 "cells": [
  {
   "cell_type": "code",
   "execution_count": null,
   "id": "4adff29d",
   "metadata": {},
   "outputs": [],
   "source": [
    "from lumen_brain.async_driver import AsyncLumenBrainDriver\n",
    "from lumen_brain.sync_driver import LumenBrainDriver\n",
    "\n",
    "import os\n",
    "from dotenv import load_dotenv\n",
    "load_dotenv()\n",
    "\n",
    "key = os.getenv(\"TEST_APY_KEY\")\n",
    "\n",
    "client = LumenBrainDriver(api_key=key)\n",
    "aclient = AsyncLumenBrainDriver(api_key=key)\n",
    "\n",
    "# client.save_message(\n",
    "#     memory_uuid=\"your-memory-uuid\",\n",
    "#     type=\"message\",\n",
    "#     content=\"Your message content\",\n",
    "#     role=\"user\",\n",
    "# )\n",
    "\n",
    "client.inject_knowledge(\n",
    "    memory_uuid=\"unique_user_001\",\n",
    "    type=\"email\",\n",
    "    content=mock_email,\n",
    "    metadata={}\n",
    ")"
   ]
  }
 ],
 "metadata": {
  "kernelspec": {
   "display_name": "lumen-brain-ONzDXcPr-py3.12",
   "language": "python",
   "name": "python3"
  },
  "language_info": {
   "codemirror_mode": {
    "name": "ipython",
    "version": 3
   },
   "file_extension": ".py",
   "mimetype": "text/x-python",
   "name": "python",
   "nbconvert_exporter": "python",
   "pygments_lexer": "ipython3",
   "version": "3.12.4"
  }
 },
 "nbformat": 4,
 "nbformat_minor": 5
}
