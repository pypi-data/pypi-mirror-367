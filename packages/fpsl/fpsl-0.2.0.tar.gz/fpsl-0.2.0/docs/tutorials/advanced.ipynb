{
 "cells": [
  {
   "cell_type": "markdown",
   "metadata": {},
   "source": [
    "# Extending Fokker-Planck Score Learning (FPSL)\n",
    "\n",
    "Note\n",
    "----\n",
    "This tutorial is WIP. If your questions are not answered, please open an issue on [GitHub](https://github.com/BereauLab/fokker-planck-score-learning/issues)."
   ]
  },
  {
   "cell_type": "code",
   "execution_count": 1,
   "metadata": {
    "execution": {
     "iopub.execute_input": "2025-03-12T16:45:54.081305Z",
     "iopub.status.busy": "2025-03-12T16:45:54.081179Z",
     "iopub.status.idle": "2025-03-12T16:45:54.083913Z",
     "shell.execute_reply": "2025-03-12T16:45:54.083635Z"
    }
   },
   "outputs": [
    {
     "name": "stdout",
     "output_type": "stream",
     "text": [
      "env: XLA_PYTHON_CLIENT_PREALLOCATE=false\n"
     ]
    }
   ],
   "source": [
    "%env XLA_PYTHON_CLIENT_PREALLOCATE = false"
   ]
  },
  {
   "cell_type": "markdown",
   "metadata": {},
   "source": [
    "# Change Noise Schedule\n",
    "\n",
    "To change the noise schedule, you can simply create your own class which inherits from a self-defined noise schedule."
   ]
  },
  {
   "cell_type": "code",
   "execution_count": 2,
   "metadata": {
    "execution": {
     "iopub.execute_input": "2025-03-12T16:45:54.101661Z",
     "iopub.status.busy": "2025-03-12T16:45:54.101305Z",
     "iopub.status.idle": "2025-03-12T16:45:55.368470Z",
     "shell.execute_reply": "2025-03-12T16:45:55.368143Z"
    }
   },
   "outputs": [],
   "source": [
    "from dataclasses import dataclass\n",
    "import jax\n",
    "import jax.numpy as jnp\n",
    "\n",
    "import fpsl\n",
    "from fpsl import FPSL\n",
    "\n",
    "\n",
    "# define custom noise schedule\n",
    "@dataclass(kw_only=True)\n",
    "class CustomNoiseSchedule(fpsl.ddm.noiseschedule.NoiseSchedule):\n",
    "    \"\"\"Custom noise schedule for FPSL.\"\"\"\n",
    "\n",
    "    sigma_min: float = 0.05\n",
    "    sigma_max: float = 0.5\n",
    "\n",
    "    @property\n",
    "    def _noise_schedule(self) -> str:\n",
    "        return 'custom'  # this name is only used for logging\n",
    "\n",
    "    def gamma(self, t):\n",
    "        # this is for legacy reasons, as FPSL used to work also on non-periodic systems\n",
    "        raise NotImplementedError\n",
    "\n",
    "    def sigma(self, t):\n",
    "        # This is the default noise schedule used in FPSL.\n",
    "        # return self.sigma_min ** (1 - t) * self.sigma_max**t\n",
    "        return self.sigma_min ** (1 - t**2) * self.sigma_max ** (t**2)\n",
    "\n",
    "    def beta(self, t):\n",
    "        # Since we are too lazy to implement the analytical solution for the\n",
    "        # custom noise schedule, we use the numerical gradient of sigma.\n",
    "        return jnp.vectorize(jax.grad(lambda tt: self.sigma(tt) ** 2))(t)"
   ]
  },
  {
   "cell_type": "markdown",
   "metadata": {},
   "source": [
    "Now we can define the custom FPSL by:"
   ]
  },
  {
   "cell_type": "code",
   "execution_count": 3,
   "metadata": {},
   "outputs": [
    {
     "data": {
      "text/plain": [
       "'custom'"
      ]
     },
     "execution_count": 3,
     "metadata": {},
     "output_type": "execute_result"
    }
   ],
   "source": [
    "@dataclass(kw_only=True)\n",
    "class CustomFPSL(CustomNoiseSchedule, FPSL):\n",
    "    \"\"\"Custom FPSL class with custom noise schedule.\"\"\"\n",
    "\n",
    "    pass\n",
    "\n",
    "\n",
    "# generating an instance we find that is uses the new custom noise schedule\n",
    "CustomFPSL(\n",
    "    mlp_network=[32, 32, 32],\n",
    "    key=jax.random.PRNGKey(0),\n",
    ")._noise_schedule"
   ]
  },
  {
   "cell_type": "markdown",
   "metadata": {},
   "source": [
    "The same way, it is possible to change the force schedule, the prior sampling, the prior schedule, etc."
   ]
  }
 ],
 "metadata": {
  "kernelspec": {
   "display_name": "fpsl",
   "language": "python",
   "name": "python3"
  },
  "language_info": {
   "codemirror_mode": {
    "name": "ipython",
    "version": 3
   },
   "file_extension": ".py",
   "mimetype": "text/x-python",
   "name": "python",
   "nbconvert_exporter": "python",
   "pygments_lexer": "ipython3",
   "version": "3.12.6"
  }
 },
 "nbformat": 4,
 "nbformat_minor": 2
}
