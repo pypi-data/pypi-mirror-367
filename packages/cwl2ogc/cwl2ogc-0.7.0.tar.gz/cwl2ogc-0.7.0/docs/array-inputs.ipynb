{
 "cells": [
  {
   "cell_type": "markdown",
   "id": "8358e29c",
   "metadata": {},
   "source": [
    "# Array Inputs\n",
    "\n",
    "Array Inputs refers to the [2.4.2. Array Inputs](https://www.commonwl.org/user_guide/topics/inputs.html#array-inputs) paragraph of the _2.4. Inputs_ chapter of the [Common Workflow Language User Guide](https://www.commonwl.org/user_guide/index.html#)"
   ]
  },
  {
   "cell_type": "markdown",
   "id": "49492847",
   "metadata": {},
   "source": [
    "## 1. Parsing\n",
    "\n",
    "In this sample we'll show the access from a remote public URL."
   ]
  },
  {
   "cell_type": "code",
   "execution_count": 1,
   "id": "f5976049",
   "metadata": {},
   "outputs": [],
   "source": [
    "from cwl2ogc import load_converter_from_location\n",
    "\n",
    "cwl_converter = load_converter_from_location('https://raw.githubusercontent.com/eoap/cwl2ogc/refs/heads/develop/tests/artifacts/cwl-types/array-inputs.cwl')"
   ]
  },
  {
   "cell_type": "markdown",
   "id": "a127e3f7",
   "metadata": {},
   "source": [
    "# 2. Inputs conversion\n",
    "\n",
    "Once the document is parsed, invoke the `cwl2ogc` APIs to convert the CWL inputs to the OGC JSON format:"
   ]
  },
  {
   "cell_type": "code",
   "execution_count": 2,
   "id": "fba17ea4",
   "metadata": {},
   "outputs": [
    {
     "name": "stdout",
     "output_type": "stream",
     "text": [
      "{\n",
      "  \"filesA\": {\n",
      "    \"schema\": {\n",
      "      \"type\": \"array\",\n",
      "      \"items\": {\n",
      "        \"type\": \"string\"\n",
      "      }\n",
      "    },\n",
      "    \"metadata\": [\n",
      "      {\n",
      "        \"title\": \"cwl:type\",\n",
      "        \"value\": \"string[]\"\n",
      "      }\n",
      "    ],\n",
      "    \"minOccurs\": 1,\n",
      "    \"maxOccurs\": 1,\n",
      "    \"valuePassing\": \"byValue\",\n",
      "    \"title\": \"filesA label\",\n",
      "    \"description\": \"filesA doc\"\n",
      "  },\n",
      "  \"filesB\": {\n",
      "    \"schema\": {\n",
      "      \"type\": \"array\",\n",
      "      \"items\": {\n",
      "        \"type\": \"string\"\n",
      "      }\n",
      "    },\n",
      "    \"metadata\": [\n",
      "      {\n",
      "        \"title\": \"cwl:type\",\n",
      "        \"value\": \"string[]\"\n",
      "      }\n",
      "    ],\n",
      "    \"minOccurs\": 1,\n",
      "    \"maxOccurs\": 1,\n",
      "    \"valuePassing\": \"byValue\",\n",
      "    \"title\": \"filesB label\",\n",
      "    \"description\": \"filesB doc\"\n",
      "  },\n",
      "  \"filesC\": {\n",
      "    \"schema\": {\n",
      "      \"type\": \"array\",\n",
      "      \"items\": {\n",
      "        \"type\": \"string\"\n",
      "      }\n",
      "    },\n",
      "    \"metadata\": [\n",
      "      {\n",
      "        \"title\": \"cwl:type\",\n",
      "        \"value\": \"string[]\"\n",
      "      }\n",
      "    ],\n",
      "    \"minOccurs\": 1,\n",
      "    \"maxOccurs\": 1,\n",
      "    \"valuePassing\": \"byValue\",\n",
      "    \"title\": \"filesC label\",\n",
      "    \"description\": \"filesC doc\"\n",
      "  }\n",
      "}"
     ]
    }
   ],
   "source": [
    "import sys\n",
    "\n",
    "cwl_converter.dump_inputs(stream=sys.stdout, pretty_print=True)"
   ]
  },
  {
   "cell_type": "markdown",
   "id": "8f73dd47",
   "metadata": {},
   "source": [
    "# 3. Outputs conversion\n",
    "\n",
    "Users can reuse the `BaseCWLtypes2OGCConverter` instance to convert the CWL outputs to the OGC JSON format:"
   ]
  },
  {
   "cell_type": "code",
   "execution_count": 3,
   "id": "1ddfe702",
   "metadata": {},
   "outputs": [
    {
     "name": "stdout",
     "output_type": "stream",
     "text": [
      "{\n",
      "  \"example_out\": {\n",
      "    \"schema\": {\n",
      "      \"type\": \"string\"\n",
      "    },\n",
      "    \"metadata\": [\n",
      "      {\n",
      "        \"title\": \"cwl:type\",\n",
      "        \"value\": \"stdout\"\n",
      "      }\n",
      "    ]\n",
      "  }\n",
      "}"
     ]
    }
   ],
   "source": [
    "cwl_converter.dump_outputs(stream=sys.stdout, pretty_print=True)"
   ]
  }
 ],
 "metadata": {
  "kernelspec": {
   "display_name": "Python 3",
   "language": "python",
   "name": "python3"
  },
  "language_info": {
   "codemirror_mode": {
    "name": "ipython",
    "version": 3
   },
   "file_extension": ".py",
   "mimetype": "text/x-python",
   "name": "python",
   "nbconvert_exporter": "python",
   "pygments_lexer": "ipython3",
   "version": "3.10.12"
  }
 },
 "nbformat": 4,
 "nbformat_minor": 5
}
