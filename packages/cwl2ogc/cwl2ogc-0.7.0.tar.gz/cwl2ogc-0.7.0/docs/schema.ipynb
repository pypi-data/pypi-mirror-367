{
 "cells": [
  {
   "cell_type": "markdown",
   "id": "8358e29c",
   "metadata": {},
   "source": [
    "# JSON Schema generation\n",
    "\n",
    "A simple usage of the library that, given generates a JSON Schema for inputs and outputs."
   ]
  },
  {
   "cell_type": "markdown",
   "id": "49492847",
   "metadata": {},
   "source": [
    "## 1. Parsing\n",
    "\n",
    "In this sample we'll show the access from a remote public URL."
   ]
  },
  {
   "cell_type": "code",
   "execution_count": 1,
   "id": "f5976049",
   "metadata": {},
   "outputs": [],
   "source": [
    "from cwl2ogc import load_converter_from_location\n",
    "\n",
    "cwl_converter = load_converter_from_location('https://raw.githubusercontent.com/eoap/cwl2ogc/refs/heads/develop/tests/artifacts/cwl-types/array-inputs.cwl')"
   ]
  },
  {
   "cell_type": "markdown",
   "id": "a127e3f7",
   "metadata": {},
   "source": [
    "# 2. Inputs JSON Schema generation\n",
    "\n",
    "Once the document is parsed, invoke the `cwl2ogc` APIs to convert the CWL inputs to the JSON schema:"
   ]
  },
  {
   "cell_type": "code",
   "execution_count": 2,
   "id": "fba17ea4",
   "metadata": {},
   "outputs": [
    {
     "name": "stdout",
     "output_type": "stream",
     "text": [
      "{\n",
      "  \"$schema\": \"https://json-schema.org/draft/2020-12/schema\",\n",
      "  \"$id\": \"https://eoap.github.io/cwl2ogc/array-inputs/inputs.yaml\",\n",
      "  \"description\": \"The schema to represent a array-inputs inputs definition\",\n",
      "  \"type\": \"object\",\n",
      "  \"required\": [\n",
      "    \"filesA\",\n",
      "    \"filesB\",\n",
      "    \"filesC\"\n",
      "  ],\n",
      "  \"properties\": {\n",
      "    \"filesA\": {\n",
      "      \"$ref\": \"#/$defs/filesA\"\n",
      "    },\n",
      "    \"filesB\": {\n",
      "      \"$ref\": \"#/$defs/filesB\"\n",
      "    },\n",
      "    \"filesC\": {\n",
      "      \"$ref\": \"#/$defs/filesC\"\n",
      "    }\n",
      "  },\n",
      "  \"$defs\": {\n",
      "    \"filesA\": {\n",
      "      \"type\": \"array\",\n",
      "      \"items\": {\n",
      "        \"type\": \"string\"\n",
      "      }\n",
      "    },\n",
      "    \"filesB\": {\n",
      "      \"type\": \"array\",\n",
      "      \"items\": {\n",
      "        \"type\": \"string\"\n",
      "      }\n",
      "    },\n",
      "    \"filesC\": {\n",
      "      \"type\": \"array\",\n",
      "      \"items\": {\n",
      "        \"type\": \"string\"\n",
      "      }\n",
      "    }\n",
      "  }\n",
      "}"
     ]
    }
   ],
   "source": [
    "import sys\n",
    "\n",
    "cwl_converter.dump_inputs_json_schema(stream=sys.stdout, pretty_print=True)"
   ]
  },
  {
   "cell_type": "markdown",
   "id": "6dc27b83",
   "metadata": {},
   "source": [
    "# 3. Outputs JSON Schema generation\n",
    "\n",
    "Users can reuse the `BaseCWLtypes2OGCConverter` instance to convert the CWL outputs to the JSON Schema:"
   ]
  },
  {
   "cell_type": "code",
   "execution_count": 3,
   "id": "6b0d3d11",
   "metadata": {},
   "outputs": [
    {
     "name": "stdout",
     "output_type": "stream",
     "text": [
      "{\n",
      "  \"$schema\": \"https://json-schema.org/draft/2020-12/schema\",\n",
      "  \"$id\": \"https://eoap.github.io/cwl2ogc/array-inputs/outputs.yaml\",\n",
      "  \"description\": \"The schema to represent a array-inputs outputs definition\",\n",
      "  \"type\": \"object\",\n",
      "  \"required\": [\n",
      "    \"example_out\"\n",
      "  ],\n",
      "  \"properties\": {\n",
      "    \"example_out\": {\n",
      "      \"$ref\": \"#/$defs/example_out\"\n",
      "    }\n",
      "  },\n",
      "  \"$defs\": {\n",
      "    \"example_out\": {\n",
      "      \"type\": \"string\"\n",
      "    }\n",
      "  }\n",
      "}"
     ]
    }
   ],
   "source": [
    "cwl_converter.dump_outputs_json_schema(stream=sys.stdout, pretty_print=True)"
   ]
  }
 ],
 "metadata": {
  "kernelspec": {
   "display_name": "Python 3",
   "language": "python",
   "name": "python3"
  },
  "language_info": {
   "codemirror_mode": {
    "name": "ipython",
    "version": 3
   },
   "file_extension": ".py",
   "mimetype": "text/x-python",
   "name": "python",
   "nbconvert_exporter": "python",
   "pygments_lexer": "ipython3",
   "version": "3.10.12"
  }
 },
 "nbformat": 4,
 "nbformat_minor": 5
}
