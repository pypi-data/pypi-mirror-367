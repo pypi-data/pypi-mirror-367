{
 "cells": [
  {
   "cell_type": "markdown",
   "id": "8358e29c",
   "metadata": {},
   "source": [
    "# Inclusive and Exclusive Inputs\n",
    "\n",
    "Inclusive and Exclusive Inputs refers to the [2.4.3. Inclusive and Exclusive Inputs](https://www.commonwl.org/user_guide/topics/inputs.html#inclusive-and-exclusive-inputs) paragraph of the _2.4. Inputs_ chapter of the [Common Workflow Language User Guide](https://www.commonwl.org/user_guide/index.html#).\n",
    "\n",
    "It shows also how the library is able to handle and convert `record` types."
   ]
  },
  {
   "cell_type": "markdown",
   "id": "49492847",
   "metadata": {},
   "source": [
    "## 1. Parsing\n",
    "\n",
    "In this sample we'll show the access from a remote public URL."
   ]
  },
  {
   "cell_type": "code",
   "execution_count": 1,
   "id": "28253a7a",
   "metadata": {},
   "outputs": [],
   "source": [
    "from cwl2ogc import load_converter_from_location\n",
    "\n",
    "cwl_converter = load_converter_from_location('https://raw.githubusercontent.com/eoap/cwl2ogc/refs/heads/develop/tests/artifacts/cwl-types/record.cwl')"
   ]
  },
  {
   "cell_type": "markdown",
   "id": "a127e3f7",
   "metadata": {},
   "source": [
    "# 2. Inputs conversion\n",
    "\n",
    "Once the document is parsed, invoke the `cwl2ogc` APIs to convert the CWL inputs to the OGC JSON format:"
   ]
  },
  {
   "cell_type": "code",
   "execution_count": 2,
   "id": "fba17ea4",
   "metadata": {},
   "outputs": [
    {
     "name": "stdout",
     "output_type": "stream",
     "text": [
      "{\n",
      "  \"dependent_parameters\": {\n",
      "    \"schema\": {\n",
      "      \"type\": \"object\",\n",
      "      \"properties\": {\n",
      "        \"itemA\": {\n",
      "          \"type\": \"string\"\n",
      "        },\n",
      "        \"itemB\": {\n",
      "          \"type\": \"string\"\n",
      "        }\n",
      "      },\n",
      "      \"required\": [\n",
      "        \"itemA\",\n",
      "        \"itemB\"\n",
      "      ]\n",
      "    },\n",
      "    \"metadata\": [\n",
      "      {\n",
      "        \"title\": \"cwl:type\",\n",
      "        \"value\": \"record\"\n",
      "      }\n",
      "    ],\n",
      "    \"minOccurs\": 1,\n",
      "    \"maxOccurs\": 1,\n",
      "    \"valuePassing\": \"byValue\",\n",
      "    \"title\": \"dependent_parameters label\",\n",
      "    \"description\": \"dependent_parameters doc\"\n",
      "  },\n",
      "  \"exclusive_parameters\": {\n",
      "    \"schema\": {\n",
      "      \"nullable\": false,\n",
      "      \"anyOf\": [\n",
      "        {\n",
      "          \"type\": \"object\",\n",
      "          \"properties\": {\n",
      "            \"itemC\": {\n",
      "              \"type\": \"string\"\n",
      "            }\n",
      "          },\n",
      "          \"required\": [\n",
      "            \"itemC\"\n",
      "          ]\n",
      "        },\n",
      "        {\n",
      "          \"type\": \"object\",\n",
      "          \"properties\": {\n",
      "            \"itemD\": {\n",
      "              \"type\": \"string\"\n",
      "            }\n",
      "          },\n",
      "          \"required\": [\n",
      "            \"itemD\"\n",
      "          ]\n",
      "        }\n",
      "      ]\n",
      "    },\n",
      "    \"metadata\": [\n",
      "      {\n",
      "        \"title\": \"cwl:type\",\n",
      "        \"value\": \"[ record, record ]\"\n",
      "      }\n",
      "    ],\n",
      "    \"minOccurs\": 1,\n",
      "    \"maxOccurs\": 1,\n",
      "    \"valuePassing\": \"byValue\",\n",
      "    \"title\": \"dependent_parameters label\",\n",
      "    \"description\": \"dependent_parameters doc\"\n",
      "  }\n",
      "}"
     ]
    }
   ],
   "source": [
    "import sys\n",
    "\n",
    "cwl_converter.dump_inputs(stream=sys.stdout, pretty_print=True)"
   ]
  },
  {
   "cell_type": "markdown",
   "id": "8f73dd47",
   "metadata": {},
   "source": [
    "# 3. Outputs conversion\n",
    "\n",
    "Users can reuse the `BaseCWLtypes2OGCConverter` instance to convert the CWL outputs to the OGC JSON format:"
   ]
  },
  {
   "cell_type": "code",
   "execution_count": 3,
   "id": "1ddfe702",
   "metadata": {},
   "outputs": [
    {
     "name": "stdout",
     "output_type": "stream",
     "text": [
      "{\n",
      "  \"example_out\": {\n",
      "    \"schema\": {\n",
      "      \"type\": \"string\"\n",
      "    },\n",
      "    \"metadata\": [\n",
      "      {\n",
      "        \"title\": \"cwl:type\",\n",
      "        \"value\": \"stdout\"\n",
      "      }\n",
      "    ]\n",
      "  }\n",
      "}"
     ]
    }
   ],
   "source": [
    "cwl_converter.dump_outputs(stream=sys.stdout, pretty_print=True)"
   ]
  }
 ],
 "metadata": {
  "kernelspec": {
   "display_name": "Python 3",
   "language": "python",
   "name": "python3"
  },
  "language_info": {
   "codemirror_mode": {
    "name": "ipython",
    "version": 3
   },
   "file_extension": ".py",
   "mimetype": "text/x-python",
   "name": "python",
   "nbconvert_exporter": "python",
   "pygments_lexer": "ipython3",
   "version": "3.10.12"
  }
 },
 "nbformat": 4,
 "nbformat_minor": 5
}
