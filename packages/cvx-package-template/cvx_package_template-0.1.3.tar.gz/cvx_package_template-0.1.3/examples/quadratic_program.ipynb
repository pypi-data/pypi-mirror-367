{
 "cells": [
  {
   "cell_type": "markdown",
   "metadata": {},
   "source": [
    "# Quadratic program"
   ]
  },
  {
   "cell_type": "markdown",
   "metadata": {},
   "source": [
    "A quadratic program is an optimization problem with a quadratic objective and affine equality and inequality constraints. \n",
    "\n",
    "A common standard form is the following:\n",
    "\n",
    "$$  \n",
    "    \\begin{array}{ll}\n",
    "    \\text{minimize}   & (1/2)x^TPx + q^Tx\\\\\n",
    "    \\text{subject to} & Gx \\leq h \\\\\n",
    "                      & Ax = b.\n",
    "    \\end{array}\n",
    "$$\n",
    "\n",
    "Here $P \\in \\mathcal{S}^{n}_+$, $q \\in \\mathcal{R}^n$, $G \\in \\mathcal{R}^{m \\times n}$, $h \\in \\mathcal{R}^m$, $A \\in \\mathcal{R}^{p \\times n}$, and $b \\in \\mathcal{R}^p$ are problem data and $x \\in \\mathcal{R}^{n}$ is the optimization variable. The inequality constraint $Gx \\leq h$ is elementwise.\n",
    "\n",
    "A simple example of a quadratic program arises in finance. Suppose we have $n$ different \n",
    "stocks, an estimate $r \\in \\mathcal{R}^n$ of the expected return on each stock, and an \n",
    "estimate $\\Sigma \\in \\mathcal{S}^{n}_+$ of the covariance of the returns. Then we solve \n",
    "the optimization problem:\n",
    "\n",
    "$$  \n",
    "    \\begin{array}{ll}\n",
    "    \\text{minimize}   & (1/2)x^T\\Sigma x - r^Tx\\\\\n",
    "    \\text{subject to} & x \\geq 0 \\\\\n",
    "                      & \\mathbf{1}^Tx = 1,\n",
    "    \\end{array}\n",
    "$$\n",
    "\n",
    "to find a nonnegative portfolio allocation $x \\in \\mathcal{R}^n_+$ that optimally \n",
    "balances expected return and variance of return.\n",
    "\n",
    "When we solve a quadratic program, in addition to a solution $x^\\star$, we obtain a dual \n",
    "solution $\\lambda^\\star$ corresponding to the inequality constraints. A positive entry \n",
    "$\\lambda^\\star_i$ indicates that the constraint $g_i^Tx \\leq h_i$ holds with equality \n",
    "for $x^\\star$ and suggests that changing $h_i$ would change the optimal value."
   ]
  },
  {
   "cell_type": "markdown",
   "metadata": {},
   "source": [
    "## Quadratic Program Example"
   ]
  },
  {
   "cell_type": "markdown",
   "metadata": {},
   "source": [
    "In the following code, we solve a quadratic program with CVXPY."
   ]
  },
  {
   "cell_type": "code",
   "execution_count": 1,
   "metadata": {
    "collapsed": false,
    "execution": {
     "iopub.execute_input": "2025-08-07T14:22:06.489276Z",
     "iopub.status.busy": "2025-08-07T14:22:06.489125Z",
     "iopub.status.idle": "2025-08-07T14:22:13.269374Z",
     "shell.execute_reply": "2025-08-07T14:22:13.268860Z"
    }
   },
   "outputs": [
    {
     "name": "stderr",
     "output_type": "stream",
     "text": [
      "(CVXPY) Aug 07 04:22:13 PM: Your problem has 10 variables, 20 constraints, and 0 parameters.\n"
     ]
    },
    {
     "name": "stderr",
     "output_type": "stream",
     "text": [
      "(CVXPY) Aug 07 04:22:13 PM: It is compliant with the following grammars: DCP, DQCP\n"
     ]
    },
    {
     "name": "stderr",
     "output_type": "stream",
     "text": [
      "(CVXPY) Aug 07 04:22:13 PM: (If you need to solve this problem multiple times, but with different data, consider using parameters.)\n"
     ]
    },
    {
     "name": "stderr",
     "output_type": "stream",
     "text": [
      "(CVXPY) Aug 07 04:22:13 PM: CVXPY will first compile your problem; then, it will invoke a numerical solver to obtain a solution.\n"
     ]
    },
    {
     "name": "stderr",
     "output_type": "stream",
     "text": [
      "(CVXPY) Aug 07 04:22:13 PM: Your problem is compiled with the CPP canonicalization backend.\n"
     ]
    },
    {
     "name": "stderr",
     "output_type": "stream",
     "text": [
      "(CVXPY) Aug 07 04:22:13 PM: Compiling problem (target solver=SCS).\n"
     ]
    },
    {
     "name": "stderr",
     "output_type": "stream",
     "text": [
      "(CVXPY) Aug 07 04:22:13 PM: Reduction chain: Dcp2Cone -> CvxAttr2Constr -> ConeMatrixStuffing -> SCS\n"
     ]
    },
    {
     "name": "stderr",
     "output_type": "stream",
     "text": [
      "(CVXPY) Aug 07 04:22:13 PM: Applying reduction Dcp2Cone\n"
     ]
    },
    {
     "name": "stderr",
     "output_type": "stream",
     "text": [
      "(CVXPY) Aug 07 04:22:13 PM: Applying reduction CvxAttr2Constr\n"
     ]
    },
    {
     "name": "stderr",
     "output_type": "stream",
     "text": [
      "(CVXPY) Aug 07 04:22:13 PM: Applying reduction ConeMatrixStuffing\n"
     ]
    },
    {
     "name": "stderr",
     "output_type": "stream",
     "text": [
      "(CVXPY) Aug 07 04:22:13 PM: Applying reduction SCS\n"
     ]
    },
    {
     "name": "stderr",
     "output_type": "stream",
     "text": [
      "(CVXPY) Aug 07 04:22:13 PM: Finished problem compilation (took 6.976e-02 seconds).\n"
     ]
    },
    {
     "name": "stderr",
     "output_type": "stream",
     "text": [
      "(CVXPY) Aug 07 04:22:13 PM: Invoking solver SCS  to obtain a solution.\n"
     ]
    },
    {
     "name": "stderr",
     "output_type": "stream",
     "text": [
      "/mnt/c/Users/lange/OneDrive/Projects/2025/cvx/cvx-package-template/.venv/lib/python3.13/site-packages/scs/__init__.py:83: UserWarning: Converting A to a CSC (compressed sparse column) matrix; may take a while.\n",
      "  warn(\n",
      "/mnt/c/Users/lange/OneDrive/Projects/2025/cvx/cvx-package-template/.venv/lib/python3.13/site-packages/scs/__init__.py:113: UserWarning: Converting P to a CSC (compressed sparse column) matrix; may take a while.\n",
      "  warn(\n",
      "(CVXPY) Aug 07 04:22:13 PM: Problem status: optimal\n"
     ]
    },
    {
     "name": "stderr",
     "output_type": "stream",
     "text": [
      "(CVXPY) Aug 07 04:22:13 PM: Optimal value: 1.678e+01\n"
     ]
    },
    {
     "name": "stderr",
     "output_type": "stream",
     "text": [
      "(CVXPY) Aug 07 04:22:13 PM: Compilation took 6.976e-02 seconds\n"
     ]
    },
    {
     "name": "stderr",
     "output_type": "stream",
     "text": [
      "(CVXPY) Aug 07 04:22:13 PM: Solver (including time spent in interface) took 4.815e-03 seconds\n"
     ]
    },
    {
     "name": "stdout",
     "output_type": "stream",
     "text": [
      "===============================================================================\n",
      "                                     CVXPY                                     \n",
      "                                     v1.7.1                                    \n",
      "===============================================================================\n",
      "-------------------------------------------------------------------------------\n",
      "                                  Compilation                                  \n",
      "-------------------------------------------------------------------------------\n",
      "-------------------------------------------------------------------------------\n",
      "                                Numerical solver                               \n",
      "-------------------------------------------------------------------------------\n",
      "------------------------------------------------------------------\n",
      "\t       SCS v3.2.7 - Splitting Conic Solver\n",
      "\t(c) Brendan O'Donoghue, Stanford University, 2012\n",
      "------------------------------------------------------------------\n",
      "problem:  variables n: 10, constraints m: 20\n",
      "cones: \t  z: primal zero / dual free vars: 5\n",
      "\t  l: linear vars: 15\n",
      "settings: eps_abs: 1.0e-05, eps_rel: 1.0e-05, eps_infeas: 1.0e-07\n",
      "\t  alpha: 1.50, scale: 1.00e-01, adaptive_scale: 1\n",
      "\t  max_iters: 100000, normalize: 1, rho_x: 1.00e-06\n",
      "\t  acceleration_lookback: 10, acceleration_interval: 10\n",
      "lin-sys:  sparse-direct-amd-qdldl\n",
      "\t  nnz(A): 200, nnz(P): 55\n",
      "------------------------------------------------------------------\n",
      " iter | pri res | dua res |   gap   |   obj   |  scale  | time (s)\n",
      "------------------------------------------------------------------\n",
      "     0| 6.47e+00  5.26e+00  3.10e+01  1.92e+01  1.00e-01  1.01e-03 \n",
      "   100| 5.06e-05  4.41e-06  2.92e-04  1.68e+01  1.00e-01  1.12e-03 \n",
      "------------------------------------------------------------------\n",
      "status:  solved\n",
      "timings: total: 1.13e-03s = setup: 5.86e-04s + solve: 5.43e-04s\n",
      "\t lin-sys: 5.93e-05s, cones: 6.25e-06s, accel: 3.27e-06s\n",
      "------------------------------------------------------------------\n",
      "objective = 16.784126\n",
      "------------------------------------------------------------------\n",
      "-------------------------------------------------------------------------------\n",
      "                                    Summary                                    \n",
      "-------------------------------------------------------------------------------\n",
      "The solver status is optimal\n",
      "\n",
      "The optimal value is 16.783979685018146\n",
      "A solution x is\n",
      "[-0.72413284  0.46981846 -1.3871876  -1.09984742 -0.04464528 -1.02325643\n",
      "  0.35526475 -0.15215945  1.02594271 -0.99970021]\n",
      "A dual solution corresponding to the inequality constraints is\n",
      "[ 0.00000000e+00  0.00000000e+00  0.00000000e+00  0.00000000e+00\n",
      " -5.11883259e-18  6.05443281e+00  1.64824687e+00  0.00000000e+00\n",
      "  0.00000000e+00  0.00000000e+00  0.00000000e+00  0.00000000e+00\n",
      "  0.00000000e+00  0.00000000e+00  0.00000000e+00]\n"
     ]
    }
   ],
   "source": [
    "# Import packages.\n",
    "import cvxpy as cp\n",
    "import numpy as np\n",
    "\n",
    "rng = np.random.default_rng(1)\n",
    "\n",
    "# generate a random feasible quadratic program.\n",
    "m = 15\n",
    "n = 10\n",
    "p = 5\n",
    "P = rng.standard_normal((n, n))\n",
    "P = P.T @ P\n",
    "q = rng.standard_normal(n)\n",
    "G = rng.standard_normal((m, n))\n",
    "\n",
    "# generate a feasible point first, then construct constraints around it\n",
    "x_feasible = rng.standard_normal(n)\n",
    "h = G @ x_feasible + rng.exponential(1, m)\n",
    "\n",
    "A = rng.standard_normal((p, n))\n",
    "b = A @ x_feasible\n",
    "\n",
    "# define and solve the CVXPY problem.\n",
    "x = cp.Variable(n)\n",
    "prob = cp.Problem(\n",
    "    cp.Minimize((1 / 2) * cp.quad_form(x, P) + q.T @ x), [G @ x <= h, A @ x == b]\n",
    ")\n",
    "out = prob.solve(solver=cp.SCS, verbose=True)\n",
    "\n",
    "# Print result.\n",
    "print(\"The solver status is\", prob.status)\n",
    "print(\"\\nThe optimal value is\", prob.value)\n",
    "print(\"A solution x is\")\n",
    "print(x.value)\n",
    "print(\"A dual solution corresponding to the inequality constraints is\")\n",
    "print(prob.constraints[0].dual_value)"
   ]
  },
  {
   "cell_type": "code",
   "execution_count": 2,
   "metadata": {
    "execution": {
     "iopub.execute_input": "2025-08-07T14:22:13.271828Z",
     "iopub.status.busy": "2025-08-07T14:22:13.271670Z",
     "iopub.status.idle": "2025-08-07T14:22:13.274166Z",
     "shell.execute_reply": "2025-08-07T14:22:13.273650Z"
    }
   },
   "outputs": [],
   "source": [
    "assert prob.status == cp.OPTIMAL, \"Solver result not optimal\"\n",
    "assert prob.value is not None, \"Problem value is None\""
   ]
  }
 ],
 "metadata": {
  "kernelspec": {
   "display_name": "dccp (3.13.2)",
   "language": "python",
   "name": "python3"
  },
  "language_info": {
   "codemirror_mode": {
    "name": "ipython",
    "version": 3
   },
   "file_extension": ".py",
   "mimetype": "text/x-python",
   "name": "python",
   "nbconvert_exporter": "python",
   "pygments_lexer": "ipython3",
   "version": "3.13.2"
  }
 },
 "nbformat": 4,
 "nbformat_minor": 0
}
