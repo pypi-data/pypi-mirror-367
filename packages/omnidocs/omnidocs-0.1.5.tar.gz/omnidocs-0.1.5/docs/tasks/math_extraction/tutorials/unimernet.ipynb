{
 "cells": [
  {
   "cell_type": "markdown",
   "id": "5055174a",
   "metadata": {},
   "source": [
    "## Unimernet Math Extractor "
   ]
  },
  {
   "cell_type": "code",
   "execution_count": null,
   "id": "389e8548",
   "metadata": {},
   "outputs": [],
   "source": [
    "from omnidocs.tasks.math_expression_extraction.extractors.unimernet import UniMERNetExtractor\n",
    "print(\"UnimernetExtractor imported successfully!\")"
   ]
  },
  {
   "cell_type": "code",
   "execution_count": null,
   "id": "643c09b7",
   "metadata": {},
   "outputs": [],
   "source": [
    "image_path = \"../../../../tests/math_expression_extraction/assets/math_equation.png\"\n",
    "extractor = UniMERNetExtractor(device='cuda', show_log=False)\n",
    "result = extractor.extract(image_path)\n",
    "print(f\"Unimernet: Found {len(result.expressions)} expressions\")"
   ]
  }
 ],
 "metadata": {
  "kernelspec": {
   "display_name": "new",
   "language": "python",
   "name": "python3"
  },
  "language_info": {
   "codemirror_mode": {
    "name": "ipython",
    "version": 3
   },
   "file_extension": ".py",
   "mimetype": "text/x-python",
   "name": "python",
   "nbconvert_exporter": "python",
   "pygments_lexer": "ipython3",
   "version": "3.11.9"
  }
 },
 "nbformat": 4,
 "nbformat_minor": 5
}
