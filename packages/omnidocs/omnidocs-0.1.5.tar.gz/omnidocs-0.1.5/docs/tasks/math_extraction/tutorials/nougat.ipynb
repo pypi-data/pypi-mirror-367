{
 "cells": [
  {
   "cell_type": "markdown",
   "id": "981309c8",
   "metadata": {},
   "source": [
    "## Nougat Math Extraction"
   ]
  },
  {
   "cell_type": "code",
   "execution_count": null,
   "id": "557332ae",
   "metadata": {},
   "outputs": [],
   "source": [
    "from omnidocs.tasks.math_expression_extraction.extractors.nougat import NougatExtractor\n",
    "print(\"NougatExtractor imported successfully!\")"
   ]
  },
  {
   "cell_type": "code",
   "execution_count": null,
   "id": "fc78cd37",
   "metadata": {},
   "outputs": [],
   "source": [
    "import re \n",
    "image_path = \"../../../../tests/math_expression_extraction/assets/math_equation.png\"\n",
    "extractor = NougatExtractor(device='cuda', show_log=False)\n",
    "result = extractor.extract(image_path)\n",
    "print(f\"Nougat: Found {len(result.expressions)} expressions\")"
   ]
  },
  {
   "cell_type": "code",
   "execution_count": null,
   "id": "c1622d9a",
   "metadata": {},
   "outputs": [],
   "source": [
    "expr = result.expressions[0]\n",
    "print(f\"LaTeX: {expr[:80]}...\")"
   ]
  }
 ],
 "metadata": {
  "kernelspec": {
   "display_name": "new",
   "language": "python",
   "name": "python3"
  },
  "language_info": {
   "codemirror_mode": {
    "name": "ipython",
    "version": 3
   },
   "file_extension": ".py",
   "mimetype": "text/x-python",
   "name": "python",
   "nbconvert_exporter": "python",
   "pygments_lexer": "ipython3",
   "version": "3.11.9"
  }
 },
 "nbformat": 4,
 "nbformat_minor": 5
}
