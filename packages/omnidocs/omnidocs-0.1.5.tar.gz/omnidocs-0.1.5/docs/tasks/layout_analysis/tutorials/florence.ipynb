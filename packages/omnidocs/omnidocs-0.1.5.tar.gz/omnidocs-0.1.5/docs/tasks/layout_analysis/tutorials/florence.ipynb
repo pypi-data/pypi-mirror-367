{
 "cells": [
  {
   "cell_type": "markdown",
   "metadata": {},
   "source": [
    "## Florence Layout Analysis\n",
    "\n",
    "```python\n",
    "from omnidocs.tasks.layout_analysis import FlorenceLayoutAnalyzer\n",
    "```"
   ]
  },
  {
   "cell_type": "code",
   "execution_count": null,
   "metadata": {
    "vscode": {
     "languageId": "plaintext"
    }
   },
   "outputs": [],
   "source": []
  }
 ],
 "metadata": {
  "language_info": {
   "name": "python"
  }
 },
 "nbformat": 4,
 "nbformat_minor": 2
}
