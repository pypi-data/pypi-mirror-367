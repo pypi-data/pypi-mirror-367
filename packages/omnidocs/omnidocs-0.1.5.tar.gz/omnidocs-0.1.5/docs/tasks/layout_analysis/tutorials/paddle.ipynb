{
 "cells": [
  {
   "cell_type": "markdown",
   "metadata": {},
   "source": [
    "## PaddleOCR Layout Analysis\n",
    "Here we use PaddleOCR to detect analyze, its a example, and how it will ideally run. "
   ]
  },
  {
   "cell_type": "code",
   "execution_count": null,
   "metadata": {},
   "outputs": [],
   "source": [
    "from omnidocs.tasks.layout_analysis.extractors.paddle import PaddleLayoutDetector"
   ]
  },
  {
   "cell_type": "markdown",
   "metadata": {},
   "source": [
    "Once we import, we call the PaddleLayout detector and pass "
   ]
  },
  {
   "cell_type": "code",
   "execution_count": null,
   "metadata": {},
   "outputs": [],
   "source": [
    "detector = PaddleLayoutDetector(device='cpu',show_log=True)\n",
    "image_path = \"assets/news_paper.png\"\n",
    "annotated_image, layout_output = detector.detect(image_path)\n",
    "print(f\"Detected {len(layout_output.bboxes)} elements\")\n",
    "\n",
    "print(\"Saving visualization...\")\n",
    "output_path = \"tests/layout_detectors/output/paddle_result.png\"\n",
    "detector.visualize((annotated_image, layout_output), output_path)\n",
    "print(f\"✓ Saved visualization to {output_path}\")"
   ]
  },
  {
   "cell_type": "code",
   "execution_count": null,
   "metadata": {},
   "outputs": [],
   "source": [
    "from IPython.display import Image, display\n",
    "# Display in notebook\n",
    "display(Image(output_path))"
   ]
  }
 ],
 "metadata": {
  "kernelspec": {
   "display_name": "new",
   "language": "python",
   "name": "python3"
  },
  "language_info": {
   "codemirror_mode": {
    "name": "ipython",
    "version": 3
   },
   "file_extension": ".py",
   "mimetype": "text/x-python",
   "name": "python",
   "nbconvert_exporter": "python",
   "pygments_lexer": "ipython3",
   "version": "3.11.9"
  }
 },
 "nbformat": 4,
 "nbformat_minor": 2
}
