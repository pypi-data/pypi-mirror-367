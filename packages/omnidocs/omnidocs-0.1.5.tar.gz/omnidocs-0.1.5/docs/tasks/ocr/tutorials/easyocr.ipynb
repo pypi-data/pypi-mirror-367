{
 "cells": [
  {
   "cell_type": "markdown",
   "metadata": {},
   "source": [
    "## Easy OCR"
   ]
  },
  {
   "cell_type": "code",
   "execution_count": 1,
   "metadata": {},
   "outputs": [],
   "source": [
    "from omnidocs.tasks.ocr_extraction.extractors.easy_ocr import EasyOCRExtractor"
   ]
  },
  {
   "cell_type": "code",
   "execution_count": null,
   "metadata": {},
   "outputs": [
    {
     "name": "stdout",
     "output_type": "stream",
     "text": [
      "\u001b[34mINFO    \u001b[0m \u001b[1m[\u001b[0mtimestamp\u001b[1m]\u001b[0m\u001b[1;36m2025\u001b[0m-\u001b[1;36m07\u001b[0m-\u001b[1;36m31\u001b[0m \u001b[1;92m12:37:36\u001b[0m\u001b[1m[\u001b[0m\u001b[35m/\u001b[0m\u001b[1m]\u001b[0m |                                   \n",
      "         \u001b[1m[\u001b[0mlogger.name\u001b[1m]\u001b[0momnidocs.tasks.ocr_extraction.extractors.easy_ocr\u001b[1m[\u001b[0m\u001b[35m/\u001b[0m\u001b[1m]\u001b[0m |   \n",
      "         \u001b[1m[\u001b[0mfunction\u001b[1m]\u001b[0mlogging.py:\u001b[1;36m150\u001b[0m\u001b[1m[\u001b[0m\u001b[35m/\u001b[0m\u001b[1m]\u001b[0m | \u001b[1m[\u001b[0minfo\u001b[1m]\u001b[0mextract completed in \u001b[1;36m4.\u001b[0m16s\u001b[1m[\u001b[0m\u001b[35m/\u001b[0m\u001b[1m]\u001b[0m     \n",
      "\u001b[34mINFO    \u001b[0m \u001b[1m[\u001b[0mtimestamp\u001b[1m]\u001b[0m\u001b[1;36m2025\u001b[0m-\u001b[1;36m07\u001b[0m-\u001b[1;36m31\u001b[0m \u001b[1;92m12:37:36\u001b[0m\u001b[1m[\u001b[0m\u001b[35m/\u001b[0m\u001b[1m]\u001b[0m |                                   \n",
      "         \u001b[1m[\u001b[0mlogger.name\u001b[1m]\u001b[0momnidocs.tasks.ocr_extraction.extractors.easy_ocr\u001b[1m[\u001b[0m\u001b[35m/\u001b[0m\u001b[1m]\u001b[0m |   \n",
      "         \u001b[1m[\u001b[0mfunction\u001b[1m]\u001b[0mlogging.py:\u001b[1;36m150\u001b[0m\u001b[1m[\u001b[0m\u001b[35m/\u001b[0m\u001b[1m]\u001b[0m | \u001b[1m[\u001b[0minfo\u001b[1m]\u001b[0mextract completed in \u001b[1;36m4.\u001b[0m16s\u001b[1m[\u001b[0m\u001b[35m/\u001b[0m\u001b[1m]\u001b[0m     \n"
     ]
    },
    {
     "name": "stderr",
     "output_type": "stream",
     "text": [
      "[2025-07-31 12:37:36,175] [    INFO] logging.py:150 - extract completed in 4.16s\n"
     ]
    },
    {
     "name": "stdout",
     "output_type": "stream",
     "text": [
      "'Invoice Account number: PATZD 32 Need holp? Normal business hours are: Involce number: 6312 Monday -Friday 8.00 am to 5.00 pm LABOR HOURLY RATE HOURS AMOUNT Jamle M S45.00 53,650 0D Tarric W 536.00 52...'\n"
     ]
    }
   ],
   "source": [
    "image_path = \"../../../../tests/ocr_extraction/assets/invoice.jpg\"\n",
    "\n",
    "extractor = EasyOCRExtractor()\n",
    "\n",
    "result = extractor.extract(image_path)\n",
    "\n",
    "print(f\"'{result.full_text[:200]}...'\")"
   ]
  },
  {
   "cell_type": "code",
   "execution_count": null,
   "metadata": {},
   "outputs": [],
   "source": []
  }
 ],
 "metadata": {
  "kernelspec": {
   "display_name": "new",
   "language": "python",
   "name": "python3"
  },
  "language_info": {
   "codemirror_mode": {
    "name": "ipython",
    "version": 3
   },
   "file_extension": ".py",
   "mimetype": "text/x-python",
   "name": "python",
   "nbconvert_exporter": "python",
   "pygments_lexer": "ipython3",
   "version": "3.11.9"
  }
 },
 "nbformat": 4,
 "nbformat_minor": 2
}
