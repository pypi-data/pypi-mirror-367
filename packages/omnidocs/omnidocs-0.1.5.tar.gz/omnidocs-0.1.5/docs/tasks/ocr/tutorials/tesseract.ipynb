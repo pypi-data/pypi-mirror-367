{
 "cells": [
  {
   "cell_type": "markdown",
   "metadata": {},
   "source": [
    "# Tesseract"
   ]
  },
  {
   "cell_type": "code",
   "execution_count": 1,
   "metadata": {},
   "outputs": [
    {
     "name": "stderr",
     "output_type": "stream",
     "text": [
      "c:\\Users\\laxma\\OneDrive\\Desktop\\CogLab\\11-07-2025\\Omnidocs\\new\\Lib\\site-packages\\transformers\\utils\\hub.py:111: FutureWarning: Using `TRANSFORMERS_CACHE` is deprecated and will be removed in v5 of Transformers. Use `HF_HOME` instead.\n",
      "  warnings.warn(\n"
     ]
    }
   ],
   "source": [
    "from omnidocs.tasks.ocr_extraction.extractors.tesseract_ocr import TesseractOCRExtractor"
   ]
  },
  {
   "cell_type": "code",
   "execution_count": 2,
   "metadata": {},
   "outputs": [
    {
     "data": {
      "text/html": [
       "<pre style=\"white-space:pre;overflow-x:auto;line-height:normal;font-family:Menlo,'DejaVu Sans Mono',consolas,'Courier New',monospace\"><span style=\"color: #000080; text-decoration-color: #000080\">INFO    </span> <span style=\"font-weight: bold\">[</span>timestamp<span style=\"font-weight: bold\">]</span><span style=\"color: #008080; text-decoration-color: #008080; font-weight: bold\">2025</span>-<span style=\"color: #008080; text-decoration-color: #008080; font-weight: bold\">07</span>-<span style=\"color: #008080; text-decoration-color: #008080; font-weight: bold\">31</span> <span style=\"color: #00ff00; text-decoration-color: #00ff00; font-weight: bold\">13:05:01</span><span style=\"font-weight: bold\">[</span><span style=\"color: #800080; text-decoration-color: #800080\">/</span><span style=\"font-weight: bold\">]</span> | <span style=\"font-weight: bold\">[</span>logger.name<span style=\"font-weight: bold\">]</span>omnidocs.tasks.ocr_extraction.extractors.tesseract_ocr<span style=\"font-weight: bold\">[</span><span style=\"color: #800080; text-decoration-color: #800080\">/</span><span style=\"font-weight: bold\">]</span>\n",
       "         | <span style=\"font-weight: bold\">[</span>function<span style=\"font-weight: bold\">]</span>logging.py:<span style=\"color: #008080; text-decoration-color: #008080; font-weight: bold\">150</span><span style=\"font-weight: bold\">[</span><span style=\"color: #800080; text-decoration-color: #800080\">/</span><span style=\"font-weight: bold\">]</span> | <span style=\"font-weight: bold\">[</span>info<span style=\"font-weight: bold\">]</span>extract completed in <span style=\"color: #008080; text-decoration-color: #008080; font-weight: bold\">2.</span>11s<span style=\"font-weight: bold\">[</span><span style=\"color: #800080; text-decoration-color: #800080\">/</span><span style=\"font-weight: bold\">]</span>                                       \n",
       "</pre>\n"
      ],
      "text/plain": [
       "\u001b[34mINFO    \u001b[0m \u001b[1m[\u001b[0mtimestamp\u001b[1m]\u001b[0m\u001b[1;36m2025\u001b[0m-\u001b[1;36m07\u001b[0m-\u001b[1;36m31\u001b[0m \u001b[1;92m13:05:01\u001b[0m\u001b[1m[\u001b[0m\u001b[35m/\u001b[0m\u001b[1m]\u001b[0m | \u001b[1m[\u001b[0mlogger.name\u001b[1m]\u001b[0momnidocs.tasks.ocr_extraction.extractors.tesseract_ocr\u001b[1m[\u001b[0m\u001b[35m/\u001b[0m\u001b[1m]\u001b[0m\n",
       "         | \u001b[1m[\u001b[0mfunction\u001b[1m]\u001b[0mlogging.py:\u001b[1;36m150\u001b[0m\u001b[1m[\u001b[0m\u001b[35m/\u001b[0m\u001b[1m]\u001b[0m | \u001b[1m[\u001b[0minfo\u001b[1m]\u001b[0mextract completed in \u001b[1;36m2.\u001b[0m11s\u001b[1m[\u001b[0m\u001b[35m/\u001b[0m\u001b[1m]\u001b[0m                                       \n"
      ]
     },
     "metadata": {},
     "output_type": "display_data"
    },
    {
     "data": {
      "text/html": [
       "<pre style=\"white-space:pre;overflow-x:auto;line-height:normal;font-family:Menlo,'DejaVu Sans Mono',consolas,'Courier New',monospace\"><span style=\"color: #000080; text-decoration-color: #000080\">INFO    </span> <span style=\"font-weight: bold\">[</span>timestamp<span style=\"font-weight: bold\">]</span><span style=\"color: #008080; text-decoration-color: #008080; font-weight: bold\">2025</span>-<span style=\"color: #008080; text-decoration-color: #008080; font-weight: bold\">07</span>-<span style=\"color: #008080; text-decoration-color: #008080; font-weight: bold\">31</span> <span style=\"color: #00ff00; text-decoration-color: #00ff00; font-weight: bold\">13:05:01</span><span style=\"font-weight: bold\">[</span><span style=\"color: #800080; text-decoration-color: #800080\">/</span><span style=\"font-weight: bold\">]</span> | <span style=\"font-weight: bold\">[</span>logger.name<span style=\"font-weight: bold\">]</span>omnidocs.tasks.ocr_extraction.extractors.tesseract_ocr<span style=\"font-weight: bold\">[</span><span style=\"color: #800080; text-decoration-color: #800080\">/</span><span style=\"font-weight: bold\">]</span>\n",
       "         | <span style=\"font-weight: bold\">[</span>function<span style=\"font-weight: bold\">]</span>logging.py:<span style=\"color: #008080; text-decoration-color: #008080; font-weight: bold\">150</span><span style=\"font-weight: bold\">[</span><span style=\"color: #800080; text-decoration-color: #800080\">/</span><span style=\"font-weight: bold\">]</span> | <span style=\"font-weight: bold\">[</span>info<span style=\"font-weight: bold\">]</span>extract completed in <span style=\"color: #008080; text-decoration-color: #008080; font-weight: bold\">2.</span>11s<span style=\"font-weight: bold\">[</span><span style=\"color: #800080; text-decoration-color: #800080\">/</span><span style=\"font-weight: bold\">]</span>                                       \n",
       "</pre>\n"
      ],
      "text/plain": [
       "\u001b[34mINFO    \u001b[0m \u001b[1m[\u001b[0mtimestamp\u001b[1m]\u001b[0m\u001b[1;36m2025\u001b[0m-\u001b[1;36m07\u001b[0m-\u001b[1;36m31\u001b[0m \u001b[1;92m13:05:01\u001b[0m\u001b[1m[\u001b[0m\u001b[35m/\u001b[0m\u001b[1m]\u001b[0m | \u001b[1m[\u001b[0mlogger.name\u001b[1m]\u001b[0momnidocs.tasks.ocr_extraction.extractors.tesseract_ocr\u001b[1m[\u001b[0m\u001b[35m/\u001b[0m\u001b[1m]\u001b[0m\n",
       "         | \u001b[1m[\u001b[0mfunction\u001b[1m]\u001b[0mlogging.py:\u001b[1;36m150\u001b[0m\u001b[1m[\u001b[0m\u001b[35m/\u001b[0m\u001b[1m]\u001b[0m | \u001b[1m[\u001b[0minfo\u001b[1m]\u001b[0mextract completed in \u001b[1;36m2.\u001b[0m11s\u001b[1m[\u001b[0m\u001b[35m/\u001b[0m\u001b[1m]\u001b[0m                                       \n"
      ]
     },
     "metadata": {},
     "output_type": "display_data"
    },
    {
     "name": "stderr",
     "output_type": "stream",
     "text": [
      "[2025-07-31 13:05:01,798] [    INFO] logging.py:150 - extract completed in 2.11s\n"
     ]
    },
    {
     "name": "stdout",
     "output_type": "stream",
     "text": [
      "'| . ‘Account number PAT20-92 Need help? Normal business hous ore: Invoice number: 6912 i Monday —Friday 8:00 am to 5:00 pm Lasor HOURLY RATE Hours AMOUNT Jamie M. $45.00 2 $3,690 Taro W. $36.00 oe $2,...'\n"
     ]
    }
   ],
   "source": [
    "image_path = \"../../../../tests/ocr_extraction/assets/invoice.jpg\"\n",
    "\n",
    "extractor = TesseractOCRExtractor()\n",
    "\n",
    "result = extractor.extract(image_path)\n",
    "\n",
    "print(f\"'{result.full_text[:200]}...'\")"
   ]
  },
  {
   "cell_type": "code",
   "execution_count": null,
   "metadata": {},
   "outputs": [],
   "source": []
  }
 ],
 "metadata": {
  "kernelspec": {
   "display_name": "new",
   "language": "python",
   "name": "python3"
  },
  "language_info": {
   "codemirror_mode": {
    "name": "ipython",
    "version": 3
   },
   "file_extension": ".py",
   "mimetype": "text/x-python",
   "name": "python",
   "nbconvert_exporter": "python",
   "pygments_lexer": "ipython3",
   "version": "3.11.9"
  }
 },
 "nbformat": 4,
 "nbformat_minor": 2
}
