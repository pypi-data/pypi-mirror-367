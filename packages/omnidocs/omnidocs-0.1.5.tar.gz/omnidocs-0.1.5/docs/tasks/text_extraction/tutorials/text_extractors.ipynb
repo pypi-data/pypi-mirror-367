{
 "cells": [
  {
   "cell_type": "markdown",
   "id": "d19ed37f",
   "metadata": {},
   "source": [
    "# Text Extraction with Docling Parse and Other Extractors\n",
    "\n",
    "This notebook demonstrates text extraction from PDF files using Docling Parse and all available extractors in OmniDocs."
   ]
  },
  {
   "cell_type": "code",
   "execution_count": 2,
   "id": "05c159f4",
   "metadata": {},
   "outputs": [
    {
     "name": "stderr",
     "output_type": "stream",
     "text": [
      "c:\\Users\\laxma\\OneDrive\\Desktop\\CogLab\\11-07-2025\\Omnidocs\\new\\Lib\\site-packages\\transformers\\utils\\hub.py:111: FutureWarning: Using `TRANSFORMERS_CACHE` is deprecated and will be removed in v5 of Transformers. Use `HF_HOME` instead.\n",
      "  warnings.warn(\n"
     ]
    }
   ],
   "source": [
    "from omnidocs.tasks.text_extraction.extractors import (\n",
    "    PyMuPDFExtractor,\n",
    "    PyPDF2Extractor,\n",
    "    PDFPlumberTextExtractor,\n",
    "    PDFTextExtractor,\n",
    "    DoclingExtractor,\n",
    "    SuryaTextExtractor\n",
    ")"
   ]
  },
  {
   "cell_type": "code",
   "execution_count": 5,
   "id": "604e70ac",
   "metadata": {},
   "outputs": [],
   "source": [
    "pdf_extractors = [\n",
    "        PyMuPDFExtractor,\n",
    "        PyPDF2Extractor,\n",
    "        PDFPlumberTextExtractor,\n",
    "        PDFTextExtractor,\n",
    "        DoclingExtractor,\n",
    "        # SuryaTextExtractor pass image, it only works with images\n",
    "        \n",
    "]\n",
    "pdf_path = \"../../../../tests/text_extraction/assets/sample_document.pdf\""
   ]
  },
  {
   "cell_type": "code",
   "execution_count": 7,
   "id": "85f3d11b",
   "metadata": {},
   "outputs": [
    {
     "name": "stdout",
     "output_type": "stream",
     "text": [
      "\n",
      "Full text preview: '1\n",
      "\n",
      "Sample PDF\n",
      "\n",
      "Created for testing PDFObject\n",
      "\n",
      "This PDF is three pages long. Three long pages. Or three short pages if\n",
      "\n",
      "you’re optimistic. Is it the same as saying “three long minutes”, knowing\n",
      "\n",
      "that a...'\n",
      "\n",
      "Full text preview: '1 Sample PDF Created for testing PDFObject This PDF is three pages long. Three long pages. Or three short pages if you’re optimistic. Is it the same as saying “three long minutes”, knowing that all mi...'\n",
      "\n",
      "Full text preview: 'Sample\n",
      "\n",
      "PDF\n",
      "\n",
      "Created\n",
      "\n",
      "for\n",
      "\n",
      "testing\n",
      "\n",
      "PDFObject\n",
      "\n",
      "This\n",
      "\n",
      "PDF\n",
      "\n",
      "is\n",
      "\n",
      "three\n",
      "\n",
      "pages\n",
      "\n",
      "long.\n",
      "\n",
      "Three\n",
      "\n",
      "long\n",
      "\n",
      "pages.\n",
      "\n",
      "Or\n",
      "\n",
      "three\n",
      "\n",
      "short\n",
      "\n",
      "pages\n",
      "\n",
      "if\n",
      "\n",
      "you’re\n",
      "\n",
      "optimistic.\n",
      "\n",
      "Is\n",
      "\n",
      "it\n",
      "\n",
      "the\n",
      "\n",
      "same\n",
      "\n",
      "as\n",
      "\n",
      "saying\n",
      "\n",
      "“three\n",
      "\n",
      "long\n",
      "\n",
      "m...'\n",
      "\n",
      "Full text preview: '1\n",
      "\n",
      "Sample PDF\n",
      "\n",
      "Created for testing PDFObject\n",
      "\n",
      "This PDF is three pages long. Three long pages. Or three short pages if\n",
      "you’re optimistic. Is it the same as saying “three long minutes”, knowing\n",
      "that all...'\n",
      "\n",
      "Full text preview: 'Sample PDF\n",
      "\n",
      "Created for testing PDFObject\n",
      "\n",
      "This PDF is three pages long. Three long pages. Or three short pages if you're optimistic. Is it the same as saying 'three long minutes', knowing that all mi...'\n"
     ]
    }
   ],
   "source": [
    "for extractor_cls in pdf_extractors:\n",
    "    result = extractor_cls().extract(pdf_path)\n",
    "    full_text_preview = result.full_text.strip()[:200]\n",
    "    if len(result.full_text.strip()) > 200:\n",
    "                full_text_preview += \"...\"\n",
    "    print(f\"\\nFull text preview: '{full_text_preview}'\")"
   ]
  },
  {
   "cell_type": "code",
   "execution_count": null,
   "id": "a04e8bf7",
   "metadata": {},
   "outputs": [],
   "source": []
  }
 ],
 "metadata": {
  "kernelspec": {
   "display_name": "new",
   "language": "python",
   "name": "python3"
  },
  "language_info": {
   "codemirror_mode": {
    "name": "ipython",
    "version": 3
   },
   "file_extension": ".py",
   "mimetype": "text/x-python",
   "name": "python",
   "nbconvert_exporter": "python",
   "pygments_lexer": "ipython3",
   "version": "3.11.9"
  }
 },
 "nbformat": 4,
 "nbformat_minor": 5
}
