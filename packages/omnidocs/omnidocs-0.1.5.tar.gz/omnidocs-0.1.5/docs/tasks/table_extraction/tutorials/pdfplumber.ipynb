{
 "cells": [
  {
   "cell_type": "markdown",
   "metadata": {},
   "source": [
    "## PDF plumber"
   ]
  },
  {
   "cell_type": "code",
   "execution_count": 1,
   "metadata": {},
   "outputs": [],
   "source": [
    "from omnidocs.tasks.table_extraction.extractors import PDFPlumberExtractor"
   ]
  },
  {
   "cell_type": "code",
   "execution_count": 2,
   "metadata": {},
   "outputs": [
    {
     "name": "stdout",
     "output_type": "stream",
     "text": [
      "\u001b[34mINFO    \u001b[0m \u001b[1m[\u001b[0mtimestamp\u001b[1m]\u001b[0m\u001b[1;36m2025\u001b[0m-\u001b[1;36m08\u001b[0m-\u001b[1;36m02\u001b[0m \u001b[1;92m12:41:56\u001b[0m\u001b[1m[\u001b[0m\u001b[35m/\u001b[0m\u001b[1m]\u001b[0m |                                   \n",
      "         \u001b[1m[\u001b[0mlogger.name\u001b[1m]\u001b[0momnidocs.tasks.table_extraction.extractors.pdfplumber\u001b[1m[\u001b[0m\u001b[35m/\u001b[0m\u001b[1m]\u001b[0m \n",
      "         | \u001b[1m[\u001b[0mfunction\u001b[1m]\u001b[0mlogging.py:\u001b[1;36m150\u001b[0m\u001b[1m[\u001b[0m\u001b[35m/\u001b[0m\u001b[1m]\u001b[0m | \u001b[1m[\u001b[0minfo\u001b[1m]\u001b[0mextract completed in \u001b[1;36m0.\u001b[0m90s\u001b[1m[\u001b[0m\u001b[35m/\u001b[0m\u001b[1m]\u001b[0m   \n",
      "\u001b[34mINFO    \u001b[0m \u001b[1m[\u001b[0mtimestamp\u001b[1m]\u001b[0m\u001b[1;36m2025\u001b[0m-\u001b[1;36m08\u001b[0m-\u001b[1;36m02\u001b[0m \u001b[1;92m12:41:56\u001b[0m\u001b[1m[\u001b[0m\u001b[35m/\u001b[0m\u001b[1m]\u001b[0m |                                   \n",
      "         \u001b[1m[\u001b[0mlogger.name\u001b[1m]\u001b[0momnidocs.tasks.table_extraction.extractors.pdfplumber\u001b[1m[\u001b[0m\u001b[35m/\u001b[0m\u001b[1m]\u001b[0m \n",
      "         | \u001b[1m[\u001b[0mfunction\u001b[1m]\u001b[0mlogging.py:\u001b[1;36m150\u001b[0m\u001b[1m[\u001b[0m\u001b[35m/\u001b[0m\u001b[1m]\u001b[0m | \u001b[1m[\u001b[0minfo\u001b[1m]\u001b[0mextract completed in \u001b[1;36m0.\u001b[0m90s\u001b[1m[\u001b[0m\u001b[35m/\u001b[0m\u001b[1m]\u001b[0m   \n"
     ]
    }
   ],
   "source": [
    "pdf_path = \"../../../../tests/table_extraction/assets/table_document.pdf\"\n",
    "result = PDFPlumberExtractor().extract(pdf_path)"
   ]
  },
  {
   "cell_type": "code",
   "execution_count": 5,
   "metadata": {},
   "outputs": [
    {
     "name": "stdout",
     "output_type": "stream",
     "text": [
      "\n",
      "Table 1: 14 rows x 18 columns\n",
      "Total cells: 59\n",
      "Non-empty cells: 36\n",
      "  [0,13]: 'Results'\n",
      "  [1,10]: 'Ballots'\n",
      "  [2,1]: 'Disability'\n",
      "  [2,7]: 'Ballots'\n",
      "  [3,4]: 'Participants'\n",
      "  [3,10]: 'Incomplete/'\n"
     ]
    }
   ],
   "source": [
    "for i, table in enumerate(result.tables):\n",
    "                print(f\"\\nTable {i+1}: {table.num_rows} rows x {table.num_cols} columns\")\n",
    "                print(f\"Total cells: {len(table.cells)}\")\n",
    "\n",
    "                if table.cells:\n",
    "                    non_empty_cells = [cell for cell in table.cells if cell.text.strip()]\n",
    "                    print(f\"Non-empty cells: {len(non_empty_cells)}\")\n",
    "\n",
    "                    # Show first few cells\n",
    "                    for cell in table.cells[:20]:\n",
    "                        if cell.text.strip():\n",
    "                            text = cell.text.strip()[:50]\n",
    "                            print(f\"  [{cell.row},{cell.col}]: '{text}'\")"
   ]
  },
  {
   "cell_type": "code",
   "execution_count": null,
   "metadata": {},
   "outputs": [],
   "source": []
  }
 ],
 "metadata": {
  "kernelspec": {
   "display_name": "new",
   "language": "python",
   "name": "python3"
  },
  "language_info": {
   "codemirror_mode": {
    "name": "ipython",
    "version": 3
   },
   "file_extension": ".py",
   "mimetype": "text/x-python",
   "name": "python",
   "nbconvert_exporter": "python",
   "pygments_lexer": "ipython3",
   "version": "3.11.9"
  }
 },
 "nbformat": 4,
 "nbformat_minor": 2
}
