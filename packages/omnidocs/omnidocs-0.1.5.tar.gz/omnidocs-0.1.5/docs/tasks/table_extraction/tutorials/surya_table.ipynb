{
 "cells": [
  {
   "cell_type": "code",
   "execution_count": 1,
   "id": "a469c170",
   "metadata": {},
   "outputs": [
    {
     "name": "stderr",
     "output_type": "stream",
     "text": [
      "c:\\Users\\laxma\\OneDrive\\Desktop\\CogLab\\11-07-2025\\Omnidocs\\new\\Lib\\site-packages\\transformers\\utils\\hub.py:111: FutureWarning: Using `TRANSFORMERS_CACHE` is deprecated and will be removed in v5 of Transformers. Use `HF_HOME` instead.\n",
      "  warnings.warn(\n"
     ]
    }
   ],
   "source": [
    "from omnidocs.tasks.table_extraction.extractors import SuryaTableExtractor"
   ]
  },
  {
   "cell_type": "code",
   "execution_count": 4,
   "id": "32912a0a",
   "metadata": {},
   "outputs": [
    {
     "name": "stderr",
     "output_type": "stream",
     "text": [
      "Recognizing layout: 100%|██████████| 1/1 [00:04<00:00,  4.21s/it]\n",
      "Detecting bboxes: 100%|██████████| 1/1 [00:03<00:00,  3.03s/it]\n",
      "Recognizing Text: 100%|██████████| 38/38 [00:20<00:00,  1.87it/s]\n"
     ]
    },
    {
     "data": {
      "text/html": [
       "<pre style=\"white-space:pre;overflow-x:auto;line-height:normal;font-family:Menlo,'DejaVu Sans Mono',consolas,'Courier New',monospace\"><span style=\"color: #000080; text-decoration-color: #000080\">INFO    </span> <span style=\"font-weight: bold\">[</span>timestamp<span style=\"font-weight: bold\">]</span><span style=\"color: #008080; text-decoration-color: #008080; font-weight: bold\">2025</span>-<span style=\"color: #008080; text-decoration-color: #008080; font-weight: bold\">07</span>-<span style=\"color: #008080; text-decoration-color: #008080; font-weight: bold\">31</span> <span style=\"color: #00ff00; text-decoration-color: #00ff00; font-weight: bold\">13:25:01</span><span style=\"font-weight: bold\">[</span><span style=\"color: #800080; text-decoration-color: #800080\">/</span><span style=\"font-weight: bold\">]</span> | <span style=\"font-weight: bold\">[</span>logger.name<span style=\"font-weight: bold\">]</span>omnidocs.tasks.table_extraction.extractors.surya_table<span style=\"font-weight: bold\">[</span><span style=\"color: #800080; text-decoration-color: #800080\">/</span><span style=\"font-weight: bold\">]</span>\n",
       "         | <span style=\"font-weight: bold\">[</span>function<span style=\"font-weight: bold\">]</span>logging.py:<span style=\"color: #008080; text-decoration-color: #008080; font-weight: bold\">150</span><span style=\"font-weight: bold\">[</span><span style=\"color: #800080; text-decoration-color: #800080\">/</span><span style=\"font-weight: bold\">]</span> | <span style=\"font-weight: bold\">[</span>info<span style=\"font-weight: bold\">]</span>extract completed in <span style=\"color: #008080; text-decoration-color: #008080; font-weight: bold\">27.</span>89s<span style=\"font-weight: bold\">[</span><span style=\"color: #800080; text-decoration-color: #800080\">/</span><span style=\"font-weight: bold\">]</span>                                      \n",
       "</pre>\n"
      ],
      "text/plain": [
       "\u001b[34mINFO    \u001b[0m \u001b[1m[\u001b[0mtimestamp\u001b[1m]\u001b[0m\u001b[1;36m2025\u001b[0m-\u001b[1;36m07\u001b[0m-\u001b[1;36m31\u001b[0m \u001b[1;92m13:25:01\u001b[0m\u001b[1m[\u001b[0m\u001b[35m/\u001b[0m\u001b[1m]\u001b[0m | \u001b[1m[\u001b[0mlogger.name\u001b[1m]\u001b[0momnidocs.tasks.table_extraction.extractors.surya_table\u001b[1m[\u001b[0m\u001b[35m/\u001b[0m\u001b[1m]\u001b[0m\n",
       "         | \u001b[1m[\u001b[0mfunction\u001b[1m]\u001b[0mlogging.py:\u001b[1;36m150\u001b[0m\u001b[1m[\u001b[0m\u001b[35m/\u001b[0m\u001b[1m]\u001b[0m | \u001b[1m[\u001b[0minfo\u001b[1m]\u001b[0mextract completed in \u001b[1;36m27.\u001b[0m89s\u001b[1m[\u001b[0m\u001b[35m/\u001b[0m\u001b[1m]\u001b[0m                                      \n"
      ]
     },
     "metadata": {},
     "output_type": "display_data"
    },
    {
     "data": {
      "text/html": [
       "<pre style=\"white-space:pre;overflow-x:auto;line-height:normal;font-family:Menlo,'DejaVu Sans Mono',consolas,'Courier New',monospace\"><span style=\"color: #000080; text-decoration-color: #000080\">INFO    </span> <span style=\"font-weight: bold\">[</span>timestamp<span style=\"font-weight: bold\">]</span><span style=\"color: #008080; text-decoration-color: #008080; font-weight: bold\">2025</span>-<span style=\"color: #008080; text-decoration-color: #008080; font-weight: bold\">07</span>-<span style=\"color: #008080; text-decoration-color: #008080; font-weight: bold\">31</span> <span style=\"color: #00ff00; text-decoration-color: #00ff00; font-weight: bold\">13:25:01</span><span style=\"font-weight: bold\">[</span><span style=\"color: #800080; text-decoration-color: #800080\">/</span><span style=\"font-weight: bold\">]</span> | <span style=\"font-weight: bold\">[</span>logger.name<span style=\"font-weight: bold\">]</span>omnidocs.tasks.table_extraction.extractors.surya_table<span style=\"font-weight: bold\">[</span><span style=\"color: #800080; text-decoration-color: #800080\">/</span><span style=\"font-weight: bold\">]</span>\n",
       "         | <span style=\"font-weight: bold\">[</span>function<span style=\"font-weight: bold\">]</span>logging.py:<span style=\"color: #008080; text-decoration-color: #008080; font-weight: bold\">150</span><span style=\"font-weight: bold\">[</span><span style=\"color: #800080; text-decoration-color: #800080\">/</span><span style=\"font-weight: bold\">]</span> | <span style=\"font-weight: bold\">[</span>info<span style=\"font-weight: bold\">]</span>extract completed in <span style=\"color: #008080; text-decoration-color: #008080; font-weight: bold\">27.</span>89s<span style=\"font-weight: bold\">[</span><span style=\"color: #800080; text-decoration-color: #800080\">/</span><span style=\"font-weight: bold\">]</span>                                      \n",
       "</pre>\n"
      ],
      "text/plain": [
       "\u001b[34mINFO    \u001b[0m \u001b[1m[\u001b[0mtimestamp\u001b[1m]\u001b[0m\u001b[1;36m2025\u001b[0m-\u001b[1;36m07\u001b[0m-\u001b[1;36m31\u001b[0m \u001b[1;92m13:25:01\u001b[0m\u001b[1m[\u001b[0m\u001b[35m/\u001b[0m\u001b[1m]\u001b[0m | \u001b[1m[\u001b[0mlogger.name\u001b[1m]\u001b[0momnidocs.tasks.table_extraction.extractors.surya_table\u001b[1m[\u001b[0m\u001b[35m/\u001b[0m\u001b[1m]\u001b[0m\n",
       "         | \u001b[1m[\u001b[0mfunction\u001b[1m]\u001b[0mlogging.py:\u001b[1;36m150\u001b[0m\u001b[1m[\u001b[0m\u001b[35m/\u001b[0m\u001b[1m]\u001b[0m | \u001b[1m[\u001b[0minfo\u001b[1m]\u001b[0mextract completed in \u001b[1;36m27.\u001b[0m89s\u001b[1m[\u001b[0m\u001b[35m/\u001b[0m\u001b[1m]\u001b[0m                                      \n"
      ]
     },
     "metadata": {},
     "output_type": "display_data"
    }
   ],
   "source": [
    "image_path = \"../../../../tests/table_extraction/assets/table_image.png\"\n",
    "result = SuryaTableExtractor().extract(image_path)\n"
   ]
  },
  {
   "cell_type": "code",
   "execution_count": 5,
   "id": "0565b478",
   "metadata": {},
   "outputs": [
    {
     "name": "stdout",
     "output_type": "stream",
     "text": [
      "\n",
      "Table 1: 12 rows x 6 columns\n",
      "Total cells: 38\n",
      "Non-empty cells: 38\n",
      "  [0,0]: '<b>Results</b>'\n",
      "  [1,0]: '<b>Ballots</b>'\n",
      "  [2,0]: '<b>Disability</b>'\n",
      "  [2,1]: '<b>Ballots</b>'\n",
      "  [3,0]: '<b>Participants</b>'\n",
      "  [3,1]: 'Incomplete/'\n",
      "  [4,0]: '<b>Category</b>'\n",
      "  [4,1]: '<b>Completed</b>'\n",
      "  [4,2]: '<b>Accuracy</b>'\n",
      "  [4,3]: '<b>Time to</b>'\n"
     ]
    }
   ],
   "source": [
    "for i, table in enumerate(result.tables):\n",
    "                print(f\"\\nTable {i+1}: {table.num_rows} rows x {table.num_cols} columns\")\n",
    "                print(f\"Total cells: {len(table.cells)}\")\n",
    "\n",
    "                if table.cells:\n",
    "                    non_empty_cells = [cell for cell in table.cells if cell.text.strip()]\n",
    "                    print(f\"Non-empty cells: {len(non_empty_cells)}\")\n",
    "\n",
    "                    # Show first few cells\n",
    "                    for cell in table.cells[:10]:\n",
    "                        if cell.text.strip():\n",
    "                            text = cell.text.strip()[:30]\n",
    "                            print(f\"  [{cell.row},{cell.col}]: '{text}'\")"
   ]
  }
 ],
 "metadata": {
  "kernelspec": {
   "display_name": "new",
   "language": "python",
   "name": "python3"
  },
  "language_info": {
   "codemirror_mode": {
    "name": "ipython",
    "version": 3
   },
   "file_extension": ".py",
   "mimetype": "text/x-python",
   "name": "python",
   "nbconvert_exporter": "python",
   "pygments_lexer": "ipython3",
   "version": "3.11.9"
  }
 },
 "nbformat": 4,
 "nbformat_minor": 5
}
