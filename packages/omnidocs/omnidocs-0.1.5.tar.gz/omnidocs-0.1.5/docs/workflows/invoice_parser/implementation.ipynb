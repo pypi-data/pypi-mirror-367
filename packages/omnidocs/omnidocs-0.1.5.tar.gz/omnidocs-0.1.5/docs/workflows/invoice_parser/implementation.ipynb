{
 "cells": [
  {
   "cell_type": "markdown",
   "metadata": {},
   "source": [
    "## Parse Invoice\n",
    "\n",
    "```python\n",
    "from omnidocs.workflows.invoice_parser import InvoiceParser\n",
    "```"
   ]
  }
 ],
 "metadata": {
  "language_info": {
   "name": "python"
  }
 },
 "nbformat": 4,
 "nbformat_minor": 2
}
