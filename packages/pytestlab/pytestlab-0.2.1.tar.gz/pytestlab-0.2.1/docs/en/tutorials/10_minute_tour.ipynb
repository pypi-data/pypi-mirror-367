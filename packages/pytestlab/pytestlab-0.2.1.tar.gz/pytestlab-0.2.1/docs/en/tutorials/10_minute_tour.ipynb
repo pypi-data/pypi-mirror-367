{
 "cells": [
  {
   "cell_type": "markdown",
   "metadata": {},
   "source": [
    "# 10 Minute Tour of PyTestLab"
   ]
  },
  {
   "cell_type": "markdown",
   "metadata": {},
   "source": [
    "Welcome to PyTestLab! This short tour will guide you through the basic setup and usage of PyTestLab to interact with your lab instruments."
   ]
  },
  {
   "cell_type": "markdown",
   "metadata": {},
   "source": [
    "## 1. Installation"
   ]
  },
  {
   "cell_type": "markdown",
   "metadata": {},
   "source": [
    "PyTestLab can be installed using pip. If you haven't already, open your terminal and run:"
   ]
  },
  {
   "cell_type": "code",
   "execution_count": 1,
   "metadata": {},
   "outputs": [
    {
     "name": "stdout",
     "output_type": "stream",
     "text": [
      "Requirement already satisfied: pytestlab in /home/remote/miniconda3/envs/lamb_exe/lib/python3.12/site-packages (0.1.5)\n",
      "Requirement already satisfied: numpy in /home/remote/miniconda3/envs/lamb_exe/lib/python3.12/site-packages (from pytestlab) (2.1.3)\n",
      "Requirement already satisfied: polars in /home/remote/miniconda3/envs/lamb_exe/lib/python3.12/site-packages (from pytestlab) (1.15.0)\n",
      "Requirement already satisfied: pydantic in /home/remote/miniconda3/envs/lamb_exe/lib/python3.12/site-packages (from pytestlab) (2.10.6)\n",
      "Requirement already satisfied: pyscpi in /home/remote/miniconda3/envs/lamb_exe/lib/python3.12/site-packages (from pytestlab) (0.5.3)\n",
      "Requirement already satisfied: pyusb in /home/remote/miniconda3/envs/lamb_exe/lib/python3.12/site-packages (from pytestlab) (1.2.1)\n",
      "Requirement already satisfied: pyvisa in /home/remote/miniconda3/envs/lamb_exe/lib/python3.12/site-packages (from pytestlab) (1.15.0)\n",
      "Requirement already satisfied: pyyaml in /home/remote/miniconda3/envs/lamb_exe/lib/python3.12/site-packages (from pytestlab) (6.0.2)\n",
      "Requirement already satisfied: requests in /home/remote/miniconda3/envs/lamb_exe/lib/python3.12/site-packages (from pytestlab) (2.32.3)\n",
      "Requirement already satisfied: tqdm in /home/remote/miniconda3/envs/lamb_exe/lib/python3.12/site-packages (from pytestlab) (4.67.1)\n",
      "Requirement already satisfied: uncertainties in /home/remote/miniconda3/envs/lamb_exe/lib/python3.12/site-packages (from pytestlab) (3.2.3)\n",
      "Requirement already satisfied: annotated-types>=0.6.0 in /home/remote/miniconda3/envs/lamb_exe/lib/python3.12/site-packages (from pydantic->pytestlab) (0.7.0)\n",
      "Requirement already satisfied: pydantic-core==2.27.2 in /home/remote/miniconda3/envs/lamb_exe/lib/python3.12/site-packages (from pydantic->pytestlab) (2.27.2)\n",
      "Requirement already satisfied: typing-extensions>=4.12.2 in /home/remote/miniconda3/envs/lamb_exe/lib/python3.12/site-packages (from pydantic->pytestlab) (4.12.2)\n",
      "Requirement already satisfied: charset-normalizer<4,>=2 in /home/remote/miniconda3/envs/lamb_exe/lib/python3.12/site-packages (from requests->pytestlab) (3.4.0)\n",
      "Requirement already satisfied: idna<4,>=2.5 in /home/remote/miniconda3/envs/lamb_exe/lib/python3.12/site-packages (from requests->pytestlab) (3.10)\n",
      "Requirement already satisfied: urllib3<3,>=1.21.1 in /home/remote/miniconda3/envs/lamb_exe/lib/python3.12/site-packages (from requests->pytestlab) (2.2.3)\n",
      "Requirement already satisfied: certifi>=2017.4.17 in /home/remote/miniconda3/envs/lamb_exe/lib/python3.12/site-packages (from requests->pytestlab) (2024.8.30)\n"
     ]
    }
   ],
   "source": [
    "!pip install pytestlab"
   ]
  },
  {
   "cell_type": "markdown",
   "metadata": {},
   "source": [
    "Make sure you have the necessary VISA libraries installed for your operating system if you plan to connect to real instruments (e.g., NI-VISA, Keysight Connection Expert)."
   ]
  },
  {
   "cell_type": "markdown",
   "metadata": {},
   "source": [
    "## 2. Importing PyTestLab and Connecting to an Instrument"
   ]
  },
  {
   "cell_type": "markdown",
   "metadata": {},
   "source": [
    "PyTestLab uses an `AutoInstrument` class to easily load instrument configurations and connect. Configurations can be loaded from a CDN, local files, or a dictionary."
   ]
  },
  {
   "cell_type": "code",
   "execution_count": null,
   "metadata": {},
   "outputs": [
    {
     "ename": "ImportError",
     "evalue": "cannot import name 'DMMFunction' from 'pytestlab.common.enums' (/home/remote/pytestlab/pytestlab/common/enums.py)",
     "output_type": "error",
     "traceback": [
      "\u001b[0;31m---------------------------------------------------------------------------\u001b[0m",
      "\u001b[0;31mImportError\u001b[0m                               Traceback (most recent call last)",
      "Cell \u001b[0;32mIn[2], line 2\u001b[0m\n\u001b[1;32m      1\u001b[0m \u001b[38;5;28;01mfrom\u001b[39;00m \u001b[38;5;21;01mpytestlab\u001b[39;00m\u001b[38;5;21;01m.\u001b[39;00m\u001b[38;5;21;01minstruments\u001b[39;00m \u001b[38;5;28;01mimport\u001b[39;00m AutoInstrument\n\u001b[0;32m----> 2\u001b[0m \u001b[38;5;28;01mfrom\u001b[39;00m \u001b[38;5;21;01mpytestlab\u001b[39;00m\u001b[38;5;21;01m.\u001b[39;00m\u001b[38;5;21;01mcommon\u001b[39;00m\u001b[38;5;21;01m.\u001b[39;00m\u001b[38;5;21;01menums\u001b[39;00m \u001b[38;5;28;01mimport\u001b[39;00m DMMFunction \u001b[38;5;66;03m# For DMM example\u001b[39;00m\n\u001b[1;32m      3\u001b[0m \u001b[38;5;28;01mfrom\u001b[39;00m \u001b[38;5;21;01mpytestlab\u001b[39;00m\u001b[38;5;21;01m.\u001b[39;00m\u001b[38;5;21;01mexperiments\u001b[39;00m\u001b[38;5;21;01m.\u001b[39;00m\u001b[38;5;21;01mdatabase\u001b[39;00m \u001b[38;5;28;01mimport\u001b[39;00m MeasurementDatabase \u001b[38;5;66;03m# For DB example\u001b[39;00m\n\u001b[1;32m      4\u001b[0m \u001b[38;5;28;01mfrom\u001b[39;00m \u001b[38;5;21;01mpytestlab\u001b[39;00m\u001b[38;5;21;01m.\u001b[39;00m\u001b[38;5;21;01mexperiments\u001b[39;00m\u001b[38;5;21;01m.\u001b[39;00m\u001b[38;5;21;01mresults\u001b[39;00m \u001b[38;5;28;01mimport\u001b[39;00m MeasurementResult \u001b[38;5;66;03m# For DB example\u001b[39;00m\n",
      "\u001b[0;31mImportError\u001b[0m: cannot import name 'DMMFunction' from 'pytestlab.common.enums' (/home/remote/pytestlab/pytestlab/common/enums.py)"
     ]
    }
   ],
   "source": [
    "from pytestlab.instruments import AutoInstrument\n",
    "# from pytestlab.common.enums import DMMFunction # For DMM example\n",
    "from pytestlab.experiments.database import MeasurementDatabase # For DB example\n",
    "from pytestlab.experiments.results import MeasurementResult # For DB example"
   ]
  },
  {
   "cell_type": "markdown",
   "metadata": {},
   "source": [
    "### Connecting to a Simulated Instrument"
   ]
  },
  {
   "cell_type": "markdown",
   "metadata": {},
   "source": [
    "For this tour, we'll start with a simulated instrument, which doesn't require any physical hardware."
   ]
  },
  {
   "cell_type": "code",
   "execution_count": null,
   "metadata": {},
   "outputs": [],
   "source": [
    "def connect_simulated_scope():\n",
    "    # Load a configuration for a Keysight DSOX1204G oscilloscope\n",
    "    # 'simulate=True' tells AutoInstrument to use the simulation backend.\n",
    "    scope_sim = AutoInstrument.from_config(\"keysight/DSOX1204G\", simulate=True)\n",
    "    \n",
    "    # Connect to the backend (important step for instruments)\n",
    "    scope_sim.connect_backend()\n",
    "    \n",
    "    print(f\"Successfully connected to simulated: {scope_sim.id()}\")\n",
    "    return scope_sim\n",
    "\n",
    "def main_sim():\n",
    "    scope = connect_simulated_scope()\n",
    "    # You can now interact with 'scope'\n",
    "    scope.close() # Close the connection when done\n",
    "\n",
    "# Simple function call - no asyncio needed\n",
    "if __name__ == \"__main__\":\n",
    "    main_sim()"
   ]
  },
  {
   "cell_type": "markdown",
   "metadata": {},
   "source": [
    "### Connecting to a Real Instrument (Example)"
   ]
  },
  {
   "cell_type": "markdown",
   "metadata": {},
   "source": [
    "To connect to a real instrument, you would set `simulate=False` and provide the VISA address. The `config_source` can be a path to a local YAML file or a CDN identifier."
   ]
  },
  {
   "cell_type": "code",
   "execution_count": null,
   "metadata": {},
   "outputs": [],
   "source": [
    "# This is an example and will likely fail if you don't have this instrument at this address.\n",
    "def connect_real_psu():\n",
    "    try:\n",
    "        # Example: Connecting to a Keysight E36313A Power Supply\n",
    "        psu_real = AutoInstrument.from_config(\n",
    "            \"keysight/E36313A\",\n",
    "            address=\"TCPIP0::192.168.1.100::INSTR\",\n",
    "            simulate=False\n",
    "        )\n",
    "        psu_real.connect_backend()\n",
    "        print(f\"Successfully connected to: {psu_real.id()}\")\n",
    "        return psu_real\n",
    "    except Exception as e:\n",
    "        print(f\"Failed to connect to real PSU: {e}\")\n",
    "        return None\n",
    "\n",
    "def main_real_example():\n",
    "    psu = connect_real_psu()\n",
    "    if psu:\n",
    "        # Interact with the PSU\n",
    "        psu.close()\n",
    "\n",
    "# if __name__ == \"__main__\":\n",
    "#     main_real_example()"
   ]
  },
  {
   "cell_type": "markdown",
   "metadata": {},
   "source": [
    "## 3. Basic Operations using New Facades"
   ]
  },
  {
   "cell_type": "markdown",
   "metadata": {},
   "source": [
    "PyTestLab now provides intuitive facade objects for common instrument operations, allowing for a chained, more readable syntax. These facade methods are synchronous and execute immediately."
   ]
  },
  {
   "cell_type": "markdown",
   "metadata": {},
   "source": [
    "### Power Supply (PSU) Facade Example"
   ]
  },
  {
   "cell_type": "code",
   "execution_count": null,
   "metadata": {},
   "outputs": [],
   "source": [
    "def psu_facade_example():\n",
    "    # Using a simulated PSU for this example\n",
    "    psu = AutoInstrument.from_config(\"keysight/E36311A\", simulate=True) # Example PSU config\n",
    "    psu.connect_backend()\n",
    "    print(f\"PSU ID: {psu.id()}\")\n",
    "\n",
    "    try:\n",
    "        # Using the PSUChannelFacade\n",
    "        # Configure channel 1: set voltage to 3.3V, current limit to 0.5A, then turn it on.\n",
    "        psu.channel(1).set(voltage=3.3, current_limit=0.5).on()\n",
    "        print(f\"PSU Channel 1: Voltage set to 3.3V, Current Limit to 0.5A, Output ON\")\n",
    "\n",
    "        # Read back the voltage (assuming the facade has get_voltage)\n",
    "        # Note: The example PSUChannelFacade.set returns self, for get_voltage you'd call it separately.\n",
    "        ch1_voltage = psu.channel(1).get_voltage()\n",
    "        ch1_current = psu.channel(1).get_current()\n",
    "        ch1_state = psu.channel(1).get_output_state()\n",
    "        print(f\"PSU Channel 1 Readback: Voltage={ch1_voltage}V, Current={ch1_current}A, State={'ON' if ch1_state else 'OFF'}\")\n",
    "\n",
    "        # Turn channel 1 off\n",
    "        psu.channel(1).off()\n",
    "        print(f\"PSU Channel 1: Output OFF\")\n",
    "        ch1_state_after_off = psu.channel(1).get_output_state()\n",
    "        print(f\"PSU Channel 1 Readback after off: State={'ON' if ch1_state_after_off else 'OFF'}\")\n",
    "\n",
    "    except Exception as e:\n",
    "        print(f\"An error occurred with PSU facade: {e}\")\n",
    "    finally:\n",
    "        psu.close()\n",
    "\n",
    "# To run in Jupyter or script:\n",
    "if __name__ == \"__main__\":\n",
    "    psu_facade_example()"
   ]
  },
  {
   "cell_type": "markdown",
   "metadata": {},
   "source": [
    "### Oscilloscope Facade Example"
   ]
  },
  {
   "cell_type": "code",
   "execution_count": null,
   "metadata": {},
   "outputs": [
    {
     "ename": "ValueError",
     "evalue": "Profile for device_type 'oscilloscope' is invalid: Profile validation failed: '1e-12' is not of type 'number'",
     "output_type": "error",
     "traceback": [
      "\u001b[0;31m---------------------------------------------------------------------------\u001b[0m",
      "\u001b[0;31mValidationError\u001b[0m                           Traceback (most recent call last)",
      "File \u001b[0;32m~/pytestlab/pytestlab/config/loader.py:77\u001b[0m, in \u001b[0;36mvalidate_profile\u001b[0;34m(data, model_cls)\u001b[0m\n\u001b[1;32m     76\u001b[0m     schema \u001b[38;5;241m=\u001b[39m model_cls\u001b[38;5;241m.\u001b[39mmodel_json_schema()\n\u001b[0;32m---> 77\u001b[0m     \u001b[43mjsonschema\u001b[49m\u001b[38;5;241;43m.\u001b[39;49m\u001b[43mvalidate\u001b[49m\u001b[43m(\u001b[49m\u001b[43minstance\u001b[49m\u001b[38;5;241;43m=\u001b[39;49m\u001b[43mdata\u001b[49m\u001b[43m,\u001b[49m\u001b[43m \u001b[49m\u001b[43mschema\u001b[49m\u001b[38;5;241;43m=\u001b[39;49m\u001b[43mschema\u001b[49m\u001b[43m)\u001b[49m\n\u001b[1;32m     78\u001b[0m \u001b[38;5;28;01mexcept\u001b[39;00m jsonschema\u001b[38;5;241m.\u001b[39mValidationError \u001b[38;5;28;01mas\u001b[39;00m e:\n",
      "File \u001b[0;32m~/miniconda3/envs/lamb_exe/lib/python3.12/site-packages/jsonschema/validators.py:1332\u001b[0m, in \u001b[0;36mvalidate\u001b[0;34m(instance, schema, cls, *args, **kwargs)\u001b[0m\n\u001b[1;32m   1331\u001b[0m \u001b[38;5;28;01mif\u001b[39;00m error \u001b[38;5;129;01mis\u001b[39;00m \u001b[38;5;129;01mnot\u001b[39;00m \u001b[38;5;28;01mNone\u001b[39;00m:\n\u001b[0;32m-> 1332\u001b[0m     \u001b[38;5;28;01mraise\u001b[39;00m error\n",
      "\u001b[0;31mValidationError\u001b[0m: '1e-12' is not of type 'number'\n\nFailed validating 'type' in schema['properties']['channels']['items']['properties']['timebase']['properties']['horizontal_resolution']:\n    {'description': 'Horizontal resolution',\n     'title': 'Horizontal Resolution',\n     'type': 'number'}\n\nOn instance['channels'][0]['timebase']['horizontal_resolution']:\n    '1e-12'",
      "\nThe above exception was the direct cause of the following exception:\n",
      "\u001b[0;31mValueError\u001b[0m                                Traceback (most recent call last)",
      "File \u001b[0;32m~/pytestlab/pytestlab/config/loader.py:168\u001b[0m, in \u001b[0;36mload_profile\u001b[0;34m(key_or_path_or_dict)\u001b[0m\n\u001b[1;32m    167\u001b[0m \u001b[38;5;28;01mtry\u001b[39;00m:\n\u001b[0;32m--> 168\u001b[0m     \u001b[43mvalidate_profile\u001b[49m\u001b[43m(\u001b[49m\u001b[43mdata\u001b[49m\u001b[43m,\u001b[49m\u001b[43m \u001b[49m\u001b[43mmodel_cls\u001b[49m\u001b[43m)\u001b[49m\n\u001b[1;32m    169\u001b[0m     validated_model \u001b[38;5;241m=\u001b[39m model_cls\u001b[38;5;241m.\u001b[39mmodel_validate(data)\n",
      "File \u001b[0;32m~/pytestlab/pytestlab/config/loader.py:79\u001b[0m, in \u001b[0;36mvalidate_profile\u001b[0;34m(data, model_cls)\u001b[0m\n\u001b[1;32m     78\u001b[0m \u001b[38;5;28;01mexcept\u001b[39;00m jsonschema\u001b[38;5;241m.\u001b[39mValidationError \u001b[38;5;28;01mas\u001b[39;00m e:\n\u001b[0;32m---> 79\u001b[0m     \u001b[38;5;28;01mraise\u001b[39;00m \u001b[38;5;167;01mValueError\u001b[39;00m(\u001b[38;5;124mf\u001b[39m\u001b[38;5;124m\"\u001b[39m\u001b[38;5;124mProfile validation failed: \u001b[39m\u001b[38;5;132;01m{\u001b[39;00me\u001b[38;5;241m.\u001b[39mmessage\u001b[38;5;132;01m}\u001b[39;00m\u001b[38;5;124m\"\u001b[39m) \u001b[38;5;28;01mfrom\u001b[39;00m \u001b[38;5;21;01me\u001b[39;00m\n\u001b[1;32m     80\u001b[0m \u001b[38;5;28;01mexcept\u001b[39;00m \u001b[38;5;167;01mException\u001b[39;00m \u001b[38;5;28;01mas\u001b[39;00m e:\n",
      "\u001b[0;31mValueError\u001b[0m: Profile validation failed: '1e-12' is not of type 'number'",
      "\nThe above exception was the direct cause of the following exception:\n",
      "\u001b[0;31mValueError\u001b[0m                                Traceback (most recent call last)",
      "Cell \u001b[0;32mIn[6], line 3\u001b[0m\n\u001b[1;32m      1\u001b[0m \u001b[38;5;28;01mfrom\u001b[39;00m \u001b[38;5;21;01mpytestlab\u001b[39;00m\u001b[38;5;21;01m.\u001b[39;00m\u001b[38;5;21;01mcommon\u001b[39;00m\u001b[38;5;21;01m.\u001b[39;00m\u001b[38;5;21;01menums\u001b[39;00m \u001b[38;5;28;01mimport\u001b[39;00m TriggerSlope \u001b[38;5;66;03m# Ensure TriggerSlope is imported\u001b[39;00m\n\u001b[0;32m----> 3\u001b[0m scope \u001b[38;5;241m=\u001b[39m \u001b[38;5;28;01mawait\u001b[39;00m AutoInstrument\u001b[38;5;241m.\u001b[39mfrom_config(\u001b[38;5;124m\"\u001b[39m\u001b[38;5;124mkeysight/DSOX1204G\u001b[39m\u001b[38;5;124m\"\u001b[39m, simulate\u001b[38;5;241m=\u001b[39m\u001b[38;5;28;01mTrue\u001b[39;00m)\n\u001b[1;32m      4\u001b[0m \u001b[38;5;28;01mawait\u001b[39;00m scope\u001b[38;5;241m.\u001b[39mconnect_backend()\n\u001b[1;32m      5\u001b[0m \u001b[38;5;28mprint\u001b[39m(\u001b[38;5;124mf\u001b[39m\u001b[38;5;124m\"\u001b[39m\u001b[38;5;124mScope ID: \u001b[39m\u001b[38;5;132;01m{\u001b[39;00m\u001b[38;5;28;01mawait\u001b[39;00m\u001b[38;5;250m \u001b[39mscope\u001b[38;5;241m.\u001b[39mid()\u001b[38;5;132;01m}\u001b[39;00m\u001b[38;5;124m\"\u001b[39m)\n",
      "File \u001b[0;32m~/pytestlab/pytestlab/instruments/AutoInstrument.py:298\u001b[0m, in \u001b[0;36mAutoInstrument.from_config\u001b[0;34m(cls, config_source, serial_number, debug_mode, simulate, backend_type_hint, address_override, timeout_override_ms, *args)\u001b[0m\n\u001b[1;32m    295\u001b[0m \u001b[38;5;28;01melse\u001b[39;00m:\n\u001b[1;32m    296\u001b[0m     \u001b[38;5;28;01mraise\u001b[39;00m \u001b[38;5;167;01mTypeError\u001b[39;00m(\u001b[38;5;124m\"\u001b[39m\u001b[38;5;124mconfig_source must be a file path (str) or a dict\u001b[39m\u001b[38;5;124m\"\u001b[39m)\n\u001b[0;32m--> 298\u001b[0m config_model: PydanticInstrumentConfig \u001b[38;5;241m=\u001b[39m \u001b[43mload_profile\u001b[49m\u001b[43m(\u001b[49m\u001b[43mconfig_data\u001b[49m\u001b[43m)\u001b[49m\n\u001b[1;32m    300\u001b[0m \u001b[38;5;66;03m# Override the serial number in the config if one is provided as an argument\u001b[39;00m\n\u001b[1;32m    301\u001b[0m \u001b[38;5;28;01mif\u001b[39;00m serial_number \u001b[38;5;129;01mis\u001b[39;00m \u001b[38;5;129;01mnot\u001b[39;00m \u001b[38;5;28;01mNone\u001b[39;00m \u001b[38;5;129;01mand\u001b[39;00m \u001b[38;5;28mhasattr\u001b[39m(config_model, \u001b[38;5;124m'\u001b[39m\u001b[38;5;124mserial_number\u001b[39m\u001b[38;5;124m'\u001b[39m):\n",
      "File \u001b[0;32m~/pytestlab/pytestlab/config/loader.py:171\u001b[0m, in \u001b[0;36mload_profile\u001b[0;34m(key_or_path_or_dict)\u001b[0m\n\u001b[1;32m    169\u001b[0m     validated_model \u001b[38;5;241m=\u001b[39m model_cls\u001b[38;5;241m.\u001b[39mmodel_validate(data)\n\u001b[1;32m    170\u001b[0m \u001b[38;5;28;01mexcept\u001b[39;00m (ValidationError, \u001b[38;5;167;01mValueError\u001b[39;00m) \u001b[38;5;28;01mas\u001b[39;00m e:\n\u001b[0;32m--> 171\u001b[0m     \u001b[38;5;28;01mraise\u001b[39;00m \u001b[38;5;167;01mValueError\u001b[39;00m(\u001b[38;5;124mf\u001b[39m\u001b[38;5;124m\"\u001b[39m\u001b[38;5;124mProfile for device_type \u001b[39m\u001b[38;5;124m'\u001b[39m\u001b[38;5;132;01m{\u001b[39;00mdevice_type\u001b[38;5;132;01m}\u001b[39;00m\u001b[38;5;124m'\u001b[39m\u001b[38;5;124m is invalid: \u001b[39m\u001b[38;5;132;01m{\u001b[39;00me\u001b[38;5;132;01m}\u001b[39;00m\u001b[38;5;124m\"\u001b[39m) \u001b[38;5;28;01mfrom\u001b[39;00m \u001b[38;5;21;01me\u001b[39;00m\n\u001b[1;32m    173\u001b[0m \u001b[38;5;28;01mif\u001b[39;00m \u001b[38;5;129;01mnot\u001b[39;00m \u001b[38;5;28misinstance\u001b[39m(validated_model, InstrumentConfig):\n\u001b[1;32m    174\u001b[0m     \u001b[38;5;28;01mraise\u001b[39;00m \u001b[38;5;167;01mTypeError\u001b[39;00m(\u001b[38;5;124mf\u001b[39m\u001b[38;5;124m\"\u001b[39m\u001b[38;5;124mValidated model for \u001b[39m\u001b[38;5;132;01m{\u001b[39;00mdevice_type\u001b[38;5;132;01m}\u001b[39;00m\u001b[38;5;124m is not an instance of InstrumentConfig.\u001b[39m\u001b[38;5;124m\"\u001b[39m)\n",
      "\u001b[0;31mValueError\u001b[0m: Profile for device_type 'oscilloscope' is invalid: Profile validation failed: '1e-12' is not of type 'number'"
     ]
    }
   ],
   "source": [
    "from pytestlab.common.enums import TriggerSlope # Ensure TriggerSlope is imported\n",
    "\n",
    "scope = AutoInstrument.from_config(\"keysight/DSOX1204G\", simulate=True)\n",
    "scope.connect_backend()\n",
    "print(f\"Scope ID: {scope.id()}\")\n",
    "\n",
    "try:\n",
    "    # Channel Facade: Configure channel 1\n",
    "    scope.channel(1).setup(scale=0.5, position=0.0, coupling='DC').enable()\n",
    "    print(\"Scope Channel 1: Scale 0.5V/div, Position 0.0s, Coupling DC, Enabled\")\n",
    "\n",
    "    # Trigger Facade: Setup edge trigger on channel 1\n",
    "    scope.trigger.setup_edge(source='CH1', level=1.0, slope=TriggerSlope.POSITIVE)\n",
    "    print(\"Scope Trigger: Edge trigger on CH1, Level 1.0V, Slope POSITIVE\")\n",
    "\n",
    "    # Acquisition: Read waveform data\n",
    "    print(\"Scope Acquisition: Starting...\")\n",
    "    waveform_data = scope.read_channels(1)\n",
    "    print(f\"Scope Acquisition: Waveform captured, data shape: {waveform_data.shape if hasattr(waveform_data, 'shape') else len(waveform_data)}\")\n",
    "\n",
    "except Exception as e:\n",
    "    print(f\"An error occurred with Oscilloscope facade: {e}\")\n",
    "finally:\n",
    "    scope.close()"
   ]
  },
  {
   "cell_type": "markdown",
   "metadata": {},
   "source": [
    "### Waveform Generator (WG) Facade Example"
   ]
  },
  {
   "cell_type": "code",
   "execution_count": null,
   "metadata": {},
   "outputs": [],
   "source": [
    "def wg_facade_example():\n",
    "    wg = AutoInstrument.from_config(\"keysight/EDU33212A\", simulate=True) # Example WG config\n",
    "    wg.connect_backend()\n",
    "    print(f\"Waveform Generator ID: {wg.id()}\")\n",
    "\n",
    "    try:\n",
    "        # Configure channel 1 to output a sine wave\n",
    "        wg.channel(1).setup_sine(frequency=1e3, amplitude=1.0, offset=0.0).enable()\n",
    "        print(\"WG Channel 1: Sine wave, 1kHz, 1.0Vpp, 0V offset, Output ON\")\n",
    "\n",
    "        # Example: Get some configuration (actual methods depend on WGChannelFacade implementation)\n",
    "        # current_func = wg.channel(1).get_function_type() # Assuming such a method exists\n",
    "        # current_freq = wg.channel(1).get_frequency()     # Assuming such a method exists\n",
    "        # print(f\"WG Channel 1 Readback: Function={current_func}, Frequency={current_freq}Hz\")\n",
    "        \n",
    "        # Disable output\n",
    "        wg.channel(1).disable()\n",
    "        print(\"WG Channel 1: Output OFF\")\n",
    "\n",
    "    except Exception as e:\n",
    "        print(f\"An error occurred with Waveform Generator facade: {e}\")\n",
    "    finally:\n",
    "        wg.close()\n",
    "\n",
    "# To run in Jupyter or script:\n",
    "if __name__ == \"__main__\":\n",
    "    wg_facade_example()"
   ]
  },
  {
   "cell_type": "markdown",
   "metadata": {},
   "source": [
    "## 4. Performing a Simple Measurement (DMM)"
   ]
  },
  {
   "cell_type": "code",
   "execution_count": null,
   "metadata": {},
   "outputs": [],
   "source": [
    "def dmm_measurement_example():\n",
    "    dmm = AutoInstrument.from_config(\"keysight/EDU34450A\", simulate=True) # Example DMM config\n",
    "    dmm.connect_backend()\n",
    "    print(f\"DMM ID: {dmm.id()}\")\n",
    "\n",
    "    measurement_result = None\n",
    "    try:\n",
    "        # Measure DC Voltage\n",
    "        # The DMM 'measure' method takes a DMMFunction enum member.\n",
    "        measurement_result = dmm.measure(DMMFunction.DC_VOLTAGE, range_val=\"AUTO\", resolution=\"DEF\")\n",
    "        print(f\"DMM Measurement: {measurement_result.measurement_type} = {measurement_result.values} {measurement_result.units}\")\n",
    "        \n",
    "    except Exception as e:\n",
    "        print(f\"An error occurred during DMM measurement: {e}\")\n",
    "    finally:\n",
    "        dmm.close()\n",
    "    return measurement_result # Return for database example\n",
    "\n",
    "# To run in Jupyter or script:\n",
    "if __name__ == \"__main__\":\n",
    "    dmm_result_for_db = dmm_measurement_example()"
   ]
  },
  {
   "cell_type": "markdown",
   "metadata": {},
   "source": [
    "## 5. Storing and Retrieving Results with MeasurementDatabase"
   ]
  },
  {
   "cell_type": "code",
   "execution_count": null,
   "metadata": {},
   "outputs": [],
   "source": [
    "def database_example(measurement_to_store):\n",
    "    if not measurement_to_store:\n",
    "        print(\"No measurement to store. Skipping database example.\")\n",
    "        # Create a dummy measurement if needed for the example to run\n",
    "        measurement_to_store = MeasurementResult(\n",
    "            values=1.234, \n",
    "            instrument=\"SimulatedDMM\", \n",
    "            units=\"V\", \n",
    "            measurement_type=\"DC Voltage (Dummy)\"\n",
    "        )\n",
    "        print(f\"Using dummy measurement: {measurement_to_store}\")\n",
    "\n",
    "    # Initialize the database (creates 'my_lab_data.db' if it doesn't exist)\n",
    "    with MeasurementDatabase(\"my_lab_data\") as db:\n",
    "        print(f\"Database initialized at: {db.db_path}\")\n",
    "        \n",
    "        # Store the measurement result\n",
    "        # store_measurement is synchronous\n",
    "        try:\n",
    "            measurement_codename = db.store_measurement(\n",
    "                codename=None, # Let the DB generate a codename\n",
    "                measurement=measurement_to_store,\n",
    "                notes=\"This is a test measurement from the 10-minute tour.\"\n",
    "            )\n",
    "            print(f\"Measurement stored with codename: {measurement_codename}\")\n",
    "\n",
    "            # Retrieve the stored measurement\n",
    "            retrieved_measurement = db.retrieve_measurement(measurement_codename)\n",
    "            print(f\"Retrieved Measurement ({retrieved_measurement.instrument}): {retrieved_measurement.values} {retrieved_measurement.units}\")\n",
    "            print(f\"Timestamp: {datetime.fromtimestamp(retrieved_measurement.timestamp)}\")\n",
    "\n",
    "            # List recent measurements\n",
    "            recent_measurements = db.list_measurements(limit=5)\n",
    "            print(f\"\\nRecent measurement codenames: {recent_measurements}\")\n",
    "\n",
    "            # Search for measurements\n",
    "            search_results = db.search_measurements(query=\"tour\")\n",
    "            print(f\"\\nSearch results for 'tour':\")\n",
    "            for res in search_results:\n",
    "                print(f\"  - {res['codename']}: {res['measurement_type']} from {res['instrument']}\")\n",
    "        except Exception as e:\n",
    "            print(f\"Database operation failed: {e}\")\n",
    "\n",
    "# if __name__ == \"__main__\":\n",
    "    # This assumes dmm_result_for_db was populated by the previous cell\n",
    "    # In a real script, you'd pass results directly.\n",
    "    # For this notebook, we'll call it directly if the variable exists.\n",
    "    # if 'dmm_result_for_db' in locals() and dmm_result_for_db:\n",
    "    #     database_example(dmm_result_for_db)",
    "    # else:\n",
    "    #     print(\"DMM result not available for database example. Running with dummy data.\")\n",
    "    #     database_example(None) # Run with dummy data if DMM example didn't produce a result\n",
    "\n",
    "# Simplified execution for notebook demonstration assuming previous cell ran\n",
    "if __name__ == '__main__':\n",
    "    # First, run the DMM example to get a result\n",
    "    print(\"--- Running DMM Example First ---\")\n",
    "    dmm_res = asyncio.run(dmm_measurement_example())\n",
    "    print(\"--- DMM Example Finished ---\\n\")\n",
    "    \n",
    "    print(\"--- Running Database Example ---\")\n",
    "    database_example(dmm_res)\n",
    "    print(\"--- Database Example Finished ---\")"
   ]
  },
  {
   "cell_type": "markdown",
   "metadata": {},
   "source": [
    "## 6. Next Steps"
   ]
  },
  {
   "cell_type": "markdown",
   "metadata": {},
   "source": [
    "This tour covered the basics of installing PyTestLab, connecting to instruments (simulated and real), using the new asynchronous facades for common operations, and storing/retrieving data.\n",
    "\n",
    "From here, you can explore:\n",
    "- Detailed documentation for specific instruments.\n",
    "- Advanced features like experiment management and complex sweeps.\n",
    "- Creating your own instrument configuration files.\n",
    "- Integrating PyTestLab into your automated test scripts."
   ]
  }
 ],
 "metadata": {
  "kernelspec": {
   "display_name": "lamb_exe",
   "language": "python",
   "name": "python3"
  },
  "language_info": {
   "codemirror_mode": {
    "name": "ipython",
    "version": 3
   },
   "file_extension": ".py",
   "mimetype": "text/x-python",
   "name": "python",
   "nbconvert_exporter": "python",
   "pygments_lexer": "ipython3",
   "version": "3.12.7"
  }
 },
 "nbformat": 4,
 "nbformat_minor": 2
}
