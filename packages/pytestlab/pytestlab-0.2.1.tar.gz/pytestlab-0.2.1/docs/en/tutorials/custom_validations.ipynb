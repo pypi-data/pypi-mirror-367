{
 "cells": [
  {
   "cell_type": "markdown",
   "metadata": {},
   "source": [
    "# Creating and Using Custom Validation Rules in PyTestLab"
   ]
  },
  {
   "cell_type": "markdown",
   "metadata": {},
   "source": [
    "PyTestLab provides a powerful validation framework to ensure that instrument settings and measurements are within expected ranges. In addition to the built-in validators, you can create your own custom validation functions to enforce specific rules tailored to your application."
   ]
  },
  {
   "cell_type": "markdown",
   "metadata": {},
   "source": [
    "## 1. Defining a Custom Validation Function"
   ]
  },
  {
   "cell_type": "markdown",
   "metadata": {},
   "source": [
    "A custom validation function is a simple Python callable that takes a value as input and raises a `ValueError` if the value is invalid. Otherwise, it should return `None`."
   ]
  },
  {
   "cell_type": "code",
   "execution_count": null,
   "metadata": {},
   "outputs": [],
   "source": [
    "def is_positive(value):\n",
    "    \"\"\"A custom validator that checks if a value is positive.\"\"\"\n",
    "    if value <= 0:\n",
    "        raise ValueError(f\"Value must be positive, but got {value}\")"
   ]
  },
  {
   "cell_type": "markdown",
   "metadata": {},
   "source": [
    "## 2. Applying the Validation Rule"
   ]
  },
  {
   "cell_type": "markdown",
   "metadata": {},
   "source": [
    "You can apply a custom validation rule to an instrument attribute or a parameter using the `validators` argument. The `validators` argument takes a list of callables."
   ]
  },
  {
   "cell_type": "code",
   "execution_count": null,
   "metadata": {},
   "outputs": [],
   "source": [
    "from pytestlab.instruments import PowerSupply\n",
    "from pytestlab.bench import Bench\n",
    "\n",
    "# Let's imagine we have a power supply where we want to enforce that the voltage is always positive.\n",
    "# We can do this by applying our custom validator to the 'voltage' attribute.\n",
    "\n",
    "# This example will use a simulated backend for demonstration purposes.\n",
    "bench = Bench.from_yaml(\"\"\"\n",
    "power_supply:\n",
    "  kind: simulated\n",
    "  type: PowerSupply\n",
    "  voltage:\n",
    "    validators: [__main__.is_positive]\n",
    "\"\"\")\n",
    "\n",
    "psu = bench.power_supply\n",
    "\n",
    "# This will work fine\n",
    "psu.voltage = 5.0\n",
    "print(f\"Voltage set to: {psu.voltage}\")"
   ]
  },
  {
   "cell_type": "markdown",
   "metadata": {},
   "source": [
    "## 3. Handling Validation Failures"
   ]
  },
  {
   "cell_type": "markdown",
   "metadata": {},
   "source": [
    "When a validation rule fails, PyTestLab raises a `ValueError` with the message provided in the custom validation function. You can use a `try...except` block to catch these errors and handle them gracefully."
   ]
  },
  {
   "cell_type": "code",
   "execution_count": null,
   "metadata": {},
   "outputs": [],
   "source": [
    "try:\n",
    "    # This will raise a ValueError because -5.0 is not positive\n",
    "    psu.voltage = -5.0\n",
    "except ValueError as e:\n",
    "    print(f\"Caught an expected validation error: {e}\")"
   ]
  },
  {
   "cell_type": "markdown",
   "metadata": {},
   "source": [
    "That's it! You have successfully created and used a custom validation rule in PyTestLab. This allows you to build more robust and reliable test and measurement systems."
   ]
  }
 ],
 "metadata": {
  "kernelspec": {
   "display_name": "Python 3",
   "language": "python",
   "name": "python3"
  },
  "language_info": {
   "codemirror_mode": {
    "name": "ipython",
    "version": 3
   },
   "file_extension": ".py",
   "mimetype": "text/x-python",
   "name": "python",
   "nbconvert_exporter": "python",
   "pygments_lexer": "ipython3",
   "version": "3.9.7"
  }
 },
 "nbformat": 4,
 "nbformat_minor": 4
}