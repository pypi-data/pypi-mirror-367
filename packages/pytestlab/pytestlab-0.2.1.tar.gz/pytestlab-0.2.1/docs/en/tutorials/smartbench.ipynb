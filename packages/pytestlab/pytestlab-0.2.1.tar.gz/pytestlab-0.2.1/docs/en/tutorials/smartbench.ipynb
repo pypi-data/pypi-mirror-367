{
 "cells": [
  {
   "cell_type": "code",
   "execution_count": null,
   "metadata": {},
   "outputs": [],
   "source": [
    "from pytestlab.instruments import AutoInstrument\n",
    "\n",
    "# loading the instruments\n",
    "osc = AutoInstrument.from_config(\"keysight/DSOX1204G\")\n",
    "awg = AutoInstrument.from_config(\"keysight/EDU33212A\")\n",
    "psu = AutoInstrument.from_config(\"keysight/EDU36311A\")\n",
    "dmm = AutoInstrument.from_config(\"keysight/EDU34450A\")"
   ]
  },
  {
   "cell_type": "code",
   "execution_count": null,
   "metadata": {},
   "outputs": [],
   "source": [
    "# printing IDN of instruments\n",
    "print(osc.id())\n",
    "print(awg.id())\n",
    "print(psu.id())\n",
    "print(dmm.id())"
   ]
  },
  {
   "cell_type": "code",
   "execution_count": null,
   "metadata": {},
   "outputs": [],
   "source": [
    "# closing the connections\n",
    "osc.close()\n",
    "awg.close()\n",
    "psu.close()\n",
    "dmm.close()"
   ]
  }
 ],
 "metadata": {
  "language_info": {
   "name": "python"
  }
 },
 "nbformat": 4,
 "nbformat_minor": 2
}
