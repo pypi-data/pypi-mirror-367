{
  "cells": [
    {
      "cell_type": "markdown",
      "id": "title-cell",
      "metadata": {
        "tags": [
          "title",
          "header"
        ]
      },
      "source": [
        "# PyTestLab Tutorial: Advanced Measurements",
        "",
        "<div style=\"background: linear-gradient(135deg, #5333ed 0%, #04e2dc 100%); padding: 1.5rem; border-radius: 12px; margin: 1rem 0; color: white;\">",
        "    <h2 style=\"margin: 0 0 0.5rem 0; color: white;\">✨ PyTestLab Professional Notebook</h2>",
        "    <p style=\"margin: 0; opacity: 0.9; font-size: 1.1rem;\">Learn how to use PyTestLab effectively with this hands-on tutorial.</p>",
        "</div>",
        "",
        "---",
        "",
        "## 📋 Overview",
        "",
        "This notebook demonstrates PyTestLab's capabilities in a professional, reproducible manner. Each code cell is designed to be educational and immediately executable.",
        "",
        "### 🎯 Learning Objectives",
        "",
        "- Understand core PyTestLab concepts",
        "- Learn best practices for measurement automation",
        "- Explore practical implementation patterns",
        "- Build confidence with hands-on examples",
        "",
        "### 📚 Prerequisites",
        "",
        "- Python 3.9+ or higher",
        "- PyTestLab installed (`pip install pytestlab`)",
        "- Basic understanding of Python programming",
        "- Optional: Hardware instruments for real measurements",
        "",
        "---",
        ""
      ]
    },
    {
      "cell_type": "code",
      "execution_count": null,
      "id": "setup-cell",
      "metadata": {
        "tags": [
          "setup",
          "imports"
        ],
        "collapse": false
      },
      "outputs": [],
      "source": [
        "# Standard library imports",
        "import sys",
        "import os",
        "from pathlib import Path",
        "from typing import List, Dict, Optional, Union",
        "",
        "# Scientific computing",
        "import numpy as np",
        "import polars as pl",
        "",
        "# PyTestLab core imports",
        "from pytestlab.instruments import AutoInstrument",
        "from pytestlab.measurements import MeasurementSession",
        "from pytestlab.experiments import Experiment",
        "",
        "# Display and visualization",
        "from IPython.display import display, HTML, Markdown",
        "import matplotlib.pyplot as plt",
        "plt.style.use('seaborn-v0_8-whitegrid')",
        "",
        "# Configure notebook for optimal display",
        "plt.rcParams['figure.figsize'] = (10, 6)",
        "plt.rcParams['font.size'] = 12",
        "np.set_printoptions(precision=4, suppress=True)",
        "",
        "print('🚀 PyTestLab environment initialized successfully!')",
        "print(f'📍 Working directory: {os.getcwd()}')",
        "print(f'🐍 Python version: {sys.version.split()[0]}')"
      ]
    },
    {
      "cell_type": "markdown",
      "id": "section-1",
      "metadata": {
        "tags": [
          "section",
          "section-1"
        ]
      },
      "source": [
        "## 1. Basic Setup",
        "",
        "Let's start with the fundamental PyTestLab setup and configuration.",
        "",
        "---",
        ""
      ]
    },
    {
      "cell_type": "code",
      "execution_count": null,
      "id": "basic-setup",
      "metadata": {
        "tags": [
          "code"
        ]
      },
      "outputs": [],
      "source": [
        "# Connect to a simulated instrument",
        "",
        "# Connect to a simulated instrument for demonstration",
        "instrument = AutoInstrument.from_config('generic/dmm', backend='sim')",
        "",
        "# Verify connection",
        "print(f'Connected to: {instrument.id()}')",
        "print(f'Instrument type: {type(instrument).__name__}')"
      ]
    },
    {
      "cell_type": "markdown",
      "id": "section-2",
      "metadata": {
        "tags": [
          "section",
          "section-2"
        ]
      },
      "source": [
        "## 2. Basic Operations",
        "",
        "Explore basic instrument operations and measurement capabilities.",
        "",
        "---",
        ""
      ]
    },
    {
      "cell_type": "code",
      "execution_count": null,
      "id": "basic-operations",
      "metadata": {
        "tags": [
          "code"
        ]
      },
      "outputs": [],
      "source": [
        "# Perform basic measurement and cleanup",
        "",
        "# Perform a basic measurement",
        "try:",
        "    measurement = instrument.measure()",
        "    print(f'Measurement result: {measurement}')",
        "except Exception as e:",
        "    print(f'Measurement error: {e}')",
        "",
        "# Clean up",
        "instrument.close()",
        "print('✅ Instrument disconnected successfully')"
      ]
    },
    {
      "cell_type": "markdown",
      "id": "conclusion-cell",
      "metadata": {
        "tags": [
          "conclusion",
          "footer"
        ]
      },
      "source": [
        "## 🎉 Conclusion",
        "",
        "Congratulations! You've successfully completed this PyTestLab notebook.",
        "",
        "### 📈 What You've Learned",
        "",
        "- Core PyTestLab concepts and patterns",
        "- Best practices for measurement automation",
        "- Professional notebook development techniques",
        "- Integration with modern Python scientific stack",
        "",
        "### 🚀 Next Steps",
        "",
        "1. **Explore More Examples**: Check out other PyTestLab notebooks in the documentation",
        "2. **Build Your Own**: Create custom measurement workflows for your specific needs",
        "3. **Contribute**: Share your improvements and examples with the community",
        "4. **Connect**: Join the PyTestLab community for support and collaboration",
        "",
        "### 📚 Additional Resources",
        "",
        "- 📖 [PyTestLab Documentation](https://pytestlab.readthedocs.io/)",
        "- 💻 [GitHub Repository](https://github.com/labiium/pytestlab)",
        "- 🎓 [Tutorials and Guides](https://pytestlab.readthedocs.io/tutorials/)",
        "- 💬 [Community Discussions](https://github.com/labiium/pytestlab/discussions)",
        "",
        "---",
        "",
        "<div style=\"background: linear-gradient(135deg, #f8fafc 0%, #e2e8f0 100%); border-left: 4px solid #5333ed; padding: 1rem; margin: 1rem 0; border-radius: 8px;\">",
        "    <h4 style=\"margin: 0 0 0.5rem 0; color: #5333ed;\">💡 Pro Tip</h4>",
        "    <p style=\"margin: 0; color: #374151;\">",
        "        Save this notebook as a template for your own PyTestLab projects.",
        "        The structure and patterns demonstrated here follow industry best practices",
        "        for reproducible scientific computing.",
        "    </p>",
        "</div>",
        "",
        "**Happy Measuring!** 🔬✨",
        ""
      ]
    }
  ],
  "metadata": {
    "kernelspec": {
      "display_name": "Python 3 (PyTestLab)",
      "language": "python",
      "name": "python3"
    },
    "language_info": {
      "codemirror_mode": {
        "name": "ipython",
        "version": 3
      },
      "file_extension": ".py",
      "mimetype": "text/x-python",
      "name": "python",
      "nbconvert_exporter": "python",
      "pygments_lexer": "ipython3",
      "version": "3.9+"
    },
    "toc": {
      "base_numbering": 1,
      "nav_menu": {},
      "number_sections": true,
      "sideBar": true,
      "skip_h1_title": false,
      "title_cell": "Table of Contents",
      "title_sidebar": "Contents",
      "toc_cell": false,
      "toc_position": {},
      "toc_section_display": true,
      "toc_window_display": false
    },
    "pytestlab": {
      "version": "latest",
      "notebook_type": "tutorial",
      "category": "educational",
      "tags": [
        "tutorial",
        "pytestlab",
        "measurement",
        "automation"
      ],
      "created": "2025-08-03T03:02:37.107118",
      "author": "PyTestLab Team",
      "license": "MIT",
      "repository": "https://github.com/labiium/pytestlab"
    }
  },
  "nbformat": 4,
  "nbformat_minor": 5
}
