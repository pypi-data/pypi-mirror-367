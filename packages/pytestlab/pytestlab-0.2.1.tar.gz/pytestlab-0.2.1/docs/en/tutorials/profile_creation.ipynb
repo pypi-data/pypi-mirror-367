{
 "cells": [
  {
   "cell_type": "markdown",
   "metadata": {},
   "source": [
    "# Creating Custom Instrument Profiles in PyTestLab"
   ]
  },
  {
   "cell_type": "markdown",
   "metadata": {},
   "source": [
    "This tutorial will guide you through the process of creating a custom instrument profile for PyTestLab. Instrument profiles are YAML files that define the capabilities and command mappings for a specific instrument, allowing PyTestLab to communicate with it effectively."
   ]
  },
  {
   "cell_type": "markdown",
   "metadata": {},
   "source": [
    "## 1. The Basic Structure of a Profile YAML File"
   ]
  },
  {
   "cell_type": "markdown",
   "metadata": {},
   "source": [
    "An instrument profile is a YAML file that contains all the information PyTestLab needs to control an instrument. The top-level keys in the YAML file define the instrument's identity and its various components."
   ]
  },
  {
   "cell_type": "markdown",
   "metadata": {},
   "source": [
    "Here is a minimal example of a profile for a fictional power supply:"
   ]
  },
  {
   "cell_type": "code",
   "execution_count": null,
   "metadata": {},
   "outputs": [],
   "source": [
    "%%writefile my_psu_profile.yaml\n",
    "manufacturer: MyBrand\n",
    "model: PSU-101\n",
    "type: PowerSupply\n",
    "\n",
    "settings:\n",
    "  voltage:\n",
    "    query: \"VOLT?\"\n",
    "    command: \"VOLT {value}\"\n",
    "  current_limit:\n",
    "    query: \"CURR?\"\n",
    "    command: \"CURR {value}\"\n",
    "\n",
    "commands:\n",
    "  enable_output:\n",
    "    command: \"OUTP ON\"\n",
    "  disable_output:\n",
    "    command: \"OUTP OFF\""
   ]
  },
  {
   "cell_type": "markdown",
   "metadata": {},
   "source": [
    "The main keys are:\n",
    "- `manufacturer`: The name of the instrument manufacturer.\n",
    "- `model`: The model number of the instrument.\n",
    "- `type`: The instrument type (e.g., `PowerSupply`, `Oscilloscope`, `Multimeter`). This determines which base class PyTestLab will use.\n",
    "- `settings`: Defines the instrument's configurable settings.\n",
    "- `commands`: Defines the actions the instrument can perform."
   ]
  },
  {
   "cell_type": "markdown",
   "metadata": {},
   "source": [
    "## 2. Defining Instrument Settings"
   ]
  },
  {
   "cell_type": "markdown",
   "metadata": {},
   "source": [
    "The `settings` section maps high-level attribute names (like `voltage`) to the corresponding SCPI commands. Each setting can have a `query` to read the value and a `command` to set it."
   ]
  },
  {
   "cell_type": "markdown",
   "metadata": {},
   "source": [
    "In our example:\n",
    "```yaml\n",
    "settings:\n",
    "  voltage:\n",
    "    query: \"VOLT?\"\n",
    "    command: \"VOLT {value}\"\n",
    "  current_limit:\n",
    "    query: \"CURR?\"\n",
    "    command: \"CURR {value}\"\n",
    "```\n",
    "When you access `instrument.voltage`, PyTestLab sends the `VOLT?` query. When you set `instrument.voltage = 5.0`, it sends `VOLT 5.0`."
   ]
  },
  {
   "cell_type": "markdown",
   "metadata": {},
   "source": [
    "## 3. Defining Commands"
   ]
  },
  {
   "cell_type": "markdown",
   "metadata": {},
   "source": [
    "The `commands` section defines methods that control the instrument. These are simple, parameter-less actions."
   ]
  },
  {
   "cell_type": "markdown",
   "metadata": {},
   "source": [
    "In our example:\n",
    "```yaml\n",
    "commands:\n",
    "  enable_output:\n",
    "    command: \"OUTP ON\"\n",
    "  disable_output:\n",
    "    command: \"OUTP OFF\"\n",
    "```\n",
    "Calling `instrument.enable_output()` will send the `OUTP ON` command to the instrument."
   ]
  },
  {
   "cell_type": "markdown",
   "metadata": {},
   "source": [
    "## 4. Defining Parameters"
   ]
  },
  {
   "cell_type": "markdown",
   "metadata": {},
   "source": [
    "For more complex interactions that require arguments, you can use the `parameters` section. This is useful for commands that take arguments but don't fit the simple `setting = value` model."
   ]
  },
  {
   "cell_type": "markdown",
   "metadata": {},
   "source": [
    "For example, to set the voltage and current on a specific channel:\n",
    "```yaml\n",
    "parameters:\n",
    "  set_channel_config:\n",
    "    command: \"INST:NSEL {channel}; VOLT {voltage}; CURR {current}\"\n",
    "```\n",
    "You could then call `instrument.set_channel_config(channel=1, voltage=3.3, current=0.5)`."
   ]
  },
  {
   "cell_type": "markdown",
   "metadata": {},
   "source": [
    "## 5. Loading and Using the New Profile"
   ]
  },
  {
   "cell_type": "markdown",
   "metadata": {},
   "source": [
    "Once you have created your profile YAML file, you can load it in PyTestLab and connect to your instrument. You can use a simulated backend for testing without a physical instrument."
   ]
  },
  {
   "cell_type": "code",
   "execution_count": null,
   "metadata": {},
   "outputs": [],
   "source": [
    "from pytestlab.instruments import PowerSupply\n",
    "\"from pytestlab.instruments.backends.sim_backend import SimBackend\n",
    "\",\n",
    "\n",
    "# Create a simulated backend\n",
    "sim_backend = SimBackend()\n",
    "\n",
    "# Load the instrument using the custom profile\n",
    "psu = PowerSupply(profile_file=\"my_psu_profile.yaml\", backend=sim_backend)\n",
    "\n",
    "# Set the voltage and current limit\n",
    "psu.voltage = 5.0\n",
    "psu.current_limit = 1.0\n",
    "\n",
    "# Verify the settings\n",
    "print(f\"Voltage set to: {psu.voltage} V\")\n",
    "print(f\"Current limit set to: {psu.current_limit} A\")\n",
    "\n",
    "# Enable the output\n",
    "psu.enable_output()\n",
    "print(\"Output enabled.\")\n",
    "\n",
    "# You can inspect the commands sent to the simulated backend\n",
    "print(\"\\nCommands sent to the instrument:\")\n",
    "for cmd in sim_backend.log:\n",
    "    print(cmd)"
   ]
  },
  {
   "cell_type": "markdown",
   "metadata": {},
   "source": [
    "## Conclusion"
   ]
  },
  {
   "cell_type": "markdown",
   "metadata": {},
   "source": [
    "You have now learned the basics of creating a custom instrument profile in PyTestLab. By defining the structure, settings, commands, and parameters in a YAML file, you can extend PyTestLab to support a wide range of instruments."
   ]
  },
  {
   "cell_type": "code",
   "execution_count": null,
   "metadata": {},
   "outputs": [],
   "source": [
    "import os\n",
    "\n",
    "# Clean up the created profile file\n",
    "os.remove(\"my_psu_profile.yaml\")"
   ]
  }
 ],
 "metadata": {
  "kernelspec": {
   "display_name": "Python 3",
   "language": "python",
   "name": "python3"
  },
  "language_info": {
   "codemirror_mode": {
    "name": "ipython",
    "version": 3
   },
   "file_extension": ".py",
   "mimetype": "text/x-python",
   "name": "python",
   "nbconvert_exporter": "python",
   "pygments_lexer": "ipython3",
   "version": "3.9.12"
  }
 },
 "nbformat": 4,
 "nbformat_minor": 4
}
