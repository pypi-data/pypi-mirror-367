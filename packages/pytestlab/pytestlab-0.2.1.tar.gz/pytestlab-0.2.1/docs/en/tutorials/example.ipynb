{
 "cells": [
  {
   "cell_type": "markdown",
   "metadata": {
    "tags": ["title", "header"]
   },
   "source": [
    "# PyTestLab Example: Instrument Control Workflow\n",
    "\n",
    "<div style=\"background: linear-gradient(135deg, #5333ed 0%, #04e2dc 100%); padding: 1.5rem; border-radius: 12px; margin: 1rem 0; color: white;\">\n",
    "    <h2 style=\"margin: 0 0 0.5rem 0; color: white;\">✨ PyTestLab Professional Notebook</h2>\n",
    "    <p style=\"margin: 0; opacity: 0.9; font-size: 1.1rem;\">Practical example demonstrating PyTestLab capabilities.</p>\n",
    "</div>\n",
    "\n",
    "---\n",
    "\n",
    "## 📋 Overview\n",
    "\n",
    "This notebook demonstrates basic instrument control using PyTestLab with Keysight oscilloscope and arbitrary waveform generator. You'll learn how to:\n",
    "\n",
    "- Connect to instruments using configuration profiles\n",
    "- Configure instrument settings programmatically\n",
    "- Generate and observe waveforms\n",
    "- Follow best practices for instrument cleanup\n",
    "\n",
    "### 🎯 Learning Objectives\n",
    "\n",
    "- Master basic PyTestLab instrument connections\n",
    "- Understand instrument configuration workflows\n",
    "- Learn proper resource management techniques\n",
    "- Explore oscilloscope and AWG control patterns\n",
    "\n",
    "### 📚 Prerequisites\n",
    "\n",
    "- Python 3.9+ with PyTestLab installed\n",
    "- Basic understanding of test instrumentation\n",
    "- Optional: Keysight instruments for real measurements\n",
    "\n",
    "---"
   ]
  },
  {
   "cell_type": "code",
   "execution_count": null,
   "id": "setup-cell",
   "metadata": {
    "tags": ["setup", "imports"]
   },
   "outputs": [],
   "source": [
    "# Standard library imports\n",
    "import sys\n",
    "import os\n",
    "from pathlib import Path\n",
    "from typing import List, Dict, Optional, Union\n",
    "\n",
    "# PyTestLab core imports\n",
    "from pytestlab.instruments import AutoInstrument\n",
    "\n",
    "# Display and visualization\n",
    "from IPython.display import display, HTML, Markdown\n",
    "\n",
    "print('🚀 PyTestLab environment initialized successfully!')\n",
    "print(f'📍 Working directory: {os.getcwd()}')\n",
    "print(f'🐍 Python version: {sys.version.split()[0]}')"
   ]
  },
  {
   "cell_type": "markdown",
   "metadata": {
    "tags": ["section", "section-1"]
   },
   "source": [
    "## 1. Instrument Connection\n",
    "\n",
    "Let's start by connecting to our test instruments using PyTestLab's configuration system.\n",
    "\n",
    "---"
   ]
  },
  {
   "cell_type": "code",
   "execution_count": null,
   "id": "f79eaab8-a950-4d3a-b9e5-d8858f25ad64",
   "metadata": {
    "tags": ["code"]
   },
   "outputs": [],
   "source": [
    "# Connect to instruments using configuration profiles\n",
    "# These will use simulation mode if physical instruments aren't available\n",
    "\n",
    "osc = AutoInstrument.from_config(\"keysight/DSOX1204G\")\n",
    "awg = AutoInstrument.from_config(\"keysight/EDU33212A\")\n",
    "\n",
    "print(\"✅ Instruments connected successfully!\")\n",
    "print(f\"📊 Oscilloscope: {type(osc).__name__}\")\n",
    "print(f\"🌊 Waveform Generator: {type(awg).__name__}\")"
   ]
  },
  {
   "cell_type": "markdown",
   "metadata": {
    "tags": ["section", "section-2"]
   },
   "source": [
    "## 2. Instrument Identification\n",
    "\n",
    "Let's verify our connections by querying instrument identification.\n",
    "\n",
    "---"
   ]
  },
  {
   "cell_type": "code",
   "execution_count": null,
   "id": "bca4047f-3d85-421e-977a-559a6ddd9e7f",
   "metadata": {
    "tags": ["code"]
   },
   "outputs": [],
   "source": [
    "# Query oscilloscope identification\n",
    "osc_id = osc.id()\n",
    "print(f\"📊 Oscilloscope ID: {osc_id}\")"
   ]
  },
  {
   "cell_type": "code",
   "execution_count": null,
   "id": "1208a1c1-03c6-4d68-8c4b-2e1eafa621f4",
   "metadata": {
    "tags": ["code"]
   },
   "outputs": [],
   "source": [
    "# Query waveform generator identification\n",
    "awg_id = awg.id()\n",
    "print(f\"🌊 AWG ID: {awg_id}\")"
   ]
  },
  {
   "cell_type": "markdown",
   "metadata": {
    "tags": ["section", "section-3"]
   },
   "source": [
    "## 3. Waveform Generator Configuration\n",
    "\n",
    "Configure the AWG to generate a sine wave output.\n",
    "\n",
    "---"
   ]
  },
  {
   "cell_type": "code",
   "execution_count": null,
   "id": "f7d448a7-7f86-4cc7-b860-48eee051bd79",
   "metadata": {
    "tags": ["code"]
   },
   "outputs": [],
   "source": [
    "# Reset AWG to known state and configure basic waveform\n",
    "awg.reset()\n",
    "print(\"🔄 AWG reset to default state\")\n",
    "\n",
    "# Enable channel 1 output\n",
    "awg.output(1, True)\n",
    "print(\"🔌 Channel 1 output enabled\")\n",
    "\n",
    "# Set waveform type to sine wave\n",
    "awg.set_waveform(1, \"SIN\")\n",
    "print(\"🌊 Waveform set to sine wave\")"
   ]
  },
  {
   "cell_type": "code",
   "execution_count": null,
   "id": "ed2b4b13-fd7d-4b98-8721-7732867085e7",
   "metadata": {
    "tags": ["code"]
   },
   "outputs": [],
   "source": [
    "# Set frequency to 25 kHz\n",
    "frequency = 25e3  # 25 kHz\n",
    "awg.set_frequency(1, frequency)\n",
    "print(f\"📡 Frequency set to {frequency/1000:.1f} kHz\")"
   ]
  },
  {
   "cell_type": "code",
   "execution_count": null,
   "id": "c134f446-a3e7-42db-861f-4dc5f592e6d4",
   "metadata": {
    "tags": ["code"]
   },
   "outputs": [],
   "source": [
    "# Set output amplitude to 1.8V peak-to-peak\n",
    "amplitude = 1.8  # Volts peak-to-peak\n",
    "awg.set_voltage(1, amplitude)\n",
    "print(f\"⚡ Amplitude set to {amplitude}V peak-to-peak\")"
   ]
  },
  {
   "cell_type": "markdown",
   "metadata": {
    "tags": ["section", "section-4"]
   },
   "source": [
    "## 4. Oscilloscope Configuration\n",
    "\n",
    "Configure the oscilloscope to observe our generated waveform.\n",
    "\n",
    "---"
   ]
  },
  {
   "cell_type": "code",
   "execution_count": null,
   "id": "273f49e9-a028-4cc4-857e-096e05021cc3",
   "metadata": {
    "tags": ["code"]
   },
   "outputs": [],
   "source": [
    "# Turn off channel 1 display (not used in this example)\n",
    "osc.display_channel(1, False)\n",
    "print(\"📺 Channel 1 display disabled\")"
   ]
  },
  {
   "cell_type": "code",
   "execution_count": null,
   "id": "35ee777d-1fc4-41b7-bea9-bed69be15084",
   "metadata": {
    "tags": ["code"]
   },
   "outputs": [],
   "source": [
    "# Enable channel 2 display (where we'll connect the AWG output)\n",
    "osc.display_channel(2, True)\n",
    "print(\"📺 Channel 2 display enabled\")"
   ]
  },
  {
   "cell_type": "code",
   "execution_count": null,
   "id": "853fd3d2-efc6-4729-b2c4-e532d8c1982b",
   "metadata": {
    "tags": ["code"]
   },
   "outputs": [],
   "source": [
    "# Set trigger source to channel 2\n",
    "osc.set_trigger_source(2)\n",
    "print(\"⚡ Trigger source set to channel 2\")"
   ]
  },
  {
   "cell_type": "code",
   "execution_count": null,
   "id": "95e9b8cb-4c6a-4c83-8565-46c2415a9279",
   "metadata": {
    "tags": ["code"]
   },
   "outputs": [],
   "source": [
    "# Set timebase to 10 μs/div (appropriate for 25 kHz signal)\n",
    "timebase = 1e-5  # 10 μs/div\n",
    "osc.set_timebase_scale(timebase)\n",
    "print(f\"⏱️ Timebase set to {timebase*1e6:.0f} μs/div\")"
   ]
  },
  {
   "cell_type": "code",
   "execution_count": null,
   "id": "8df8dca2-f02d-4efe-92d9-4581a757b8f3",
   "metadata": {
    "tags": ["code"]
   },
   "outputs": [],
   "source": [
    "# Set channel 2 vertical scale and offset\n",
    "v_scale = 10  # V/div (adjust based on expected signal amplitude)\n",
    "v_offset = 0  # No vertical offset\n",
    "osc.set_channel_axis(2, v_scale, v_offset)\n",
    "print(f\"📈 Channel 2: {v_scale}V/div, offset: {v_offset}V\")"
   ]
  },
  {
   "cell_type": "markdown",
   "metadata": {
    "tags": ["section", "section-5"]
   },
   "source": [
    "## 5. Measurement Summary\n",
    "\n",
    "Let's summarize our configuration before cleanup.\n",
    "\n",
    "---"
   ]
  },
  {
   "cell_type": "code",
   "execution_count": null,
   "id": "summary-cell",
   "metadata": {
    "tags": ["code"]
   },
   "outputs": [],
   "source": [
    "# Display measurement configuration summary\n",
    "print(\"📋 MEASUREMENT CONFIGURATION SUMMARY\")\n",
    "print(\"=\" * 40)\n",
    "print(f\"🌊 AWG Channel 1:\")\n",
    "print(f\"   • Waveform: Sine wave\")\n",
    "print(f\"   • Frequency: {frequency/1000:.1f} kHz\")\n",
    "print(f\"   • Amplitude: {amplitude}V p-p\")\n",
    "print(f\"   • Output: Enabled\")\n",
    "print()\n",
    "print(f\"📊 Oscilloscope Channel 2:\")\n",
    "print(f\"   • Display: Enabled\")\n",
    "print(f\"   • Timebase: {timebase*1e6:.0f} μs/div\")\n",
    "print(f\"   • Vertical: {v_scale}V/div\")\n",
    "print(f\"   • Trigger: Channel 2\")\n",
    "print()\n",
    "print(\"✅ Configuration complete! Connect AWG Ch1 output to OSC Ch2 input.\")"
   ]
  },
  {
   "cell_type": "markdown",
   "metadata": {
    "tags": ["section", "section-6"]
   },
   "source": [
    "## 6. Resource Cleanup\n",
    "\n",
    "Always properly close instrument connections when finished.\n",
    "\n",
    "---"
   ]
  },
  {
   "cell_type": "code",
   "execution_count": null,
   "id": "131ca39a",
   "metadata": {
    "tags": ["code"]
   },
   "outputs": [],
   "source": [
    "# Properly close instrument connections\n",
    "try:\n",
    "    osc.close()\n",
    "    print(\"📊 Oscilloscope connection closed\")\n",
    "except Exception as e:\n",
    "    print(f\"⚠️ Error closing oscilloscope: {e}\")\n",
    "\n",
    "try:\n",
    "    awg.close()\n",
    "    print(\"🌊 AWG connection closed\")\n",
    "except Exception as e:\n",
    "    print(f\"⚠️ Error closing AWG: {e}\")\n",
    "\n",
    "print(\"\\n✅ All instruments disconnected successfully!\")"
   ]
  },
  {
   "cell_type": "markdown",
   "metadata": {
    "tags": ["conclusion", "footer"]
   },
   "source": [
    "## 🎉 Conclusion\n",
    "\n",
    "Congratulations! You've successfully completed this PyTestLab instrument control example.\n",
    "\n",
    "### 📈 What You've Learned\n",
    "\n",
    "- How to connect to instruments using PyTestLab configuration profiles\n",
    "- Basic AWG configuration for waveform generation\n",
    "- Oscilloscope setup for signal observation\n",
    "- Proper resource management and cleanup practices\n",
    "\n",
    "### 🚀 Next Steps\n",
    "\n",
    "1. **Explore Advanced Features**: Try more complex waveforms and measurements\n",
    "2. **Build Measurement Workflows**: Create automated measurement sequences\n",
    "3. **Add Data Collection**: Capture and analyze waveform data\n",
    "4. **Implement Error Handling**: Add robust error handling for production use\n",
    "\n",
    "### 📚 Additional Resources\n",
    "\n",
    "- 📖 [PyTestLab Documentation](https://pytestlab.readthedocs.io/)\n",
    "- 💻 [GitHub Repository](https://github.com/labiium/pytestlab)\n",
    "- 🎓 [More Tutorials](https://pytestlab.readthedocs.io/tutorials/)\n",
    "- 🔧 [Instrument Profiles](https://pytestlab.readthedocs.io/profiles/)\n",
    "\n",
    "---\n",
    "\n",
    "<div style=\"background: linear-gradient(135deg, #f8fafc 0%, #e2e8f0 100%); border-left: 4px solid #5333ed; padding: 1rem; margin: 1rem 0; border-radius: 8px;\">\n",
    "    <h4 style=\"margin: 0 0 0.5rem 0; color: #5333ed;\">💡 Pro Tip</h4>\n",
    "    <p style=\"margin: 0; color: #374151;\">\n",
    "        This example demonstrates the fundamental pattern for PyTestLab instrument control.\n",
    "        Use this structure as a template for your own measurement applications.\n",
    "    </p>\n",
    "</div>\n",
    "\n",
    "**Happy Measuring!** 🔬✨"
   ]
  }
 ],
 "metadata": {
  "kernelspec": {
   "display_name": "Python 3 (PyTestLab)",
   "language": "python",
   "name": "python3"
  },
  "language_info": {
   "codemirror_mode": {
    "name": "ipython",
    "version": 3
   },
   "file_extension": ".py",
   "mimetype": "text/x-python",
   "name": "python",
   "nbconvert_exporter": "python",
   "pygments_lexer": "ipython3",
   "version": "3.9+"
  },
  "toc": {
   "base_numbering": 1,
   "nav_menu": {},
   "number_sections": true,
   "sideBar": true,
   "skip_h1_title": false,
   "title_cell": "Table of Contents",
   "title_sidebar": "Contents",
   "toc_cell": false,
   "toc_position": {},
   "toc_section_display": true,
   "toc_window_display": false
  },
  "pytestlab": {
   "version": "latest",
   "notebook_type": "example",
   "category": "demonstration",
   "tags": ["example", "pytestlab", "demo", "practical", "oscilloscope", "awg"],
   "created": "2024-12-19T12:00:00",
   "author": "LABIIUM",
   "license": "MIT",
   "repository": "https://github.com/labiium/pytestlab"
  }
 },
 "nbformat": 4,
 "nbformat_minor": 5
}
