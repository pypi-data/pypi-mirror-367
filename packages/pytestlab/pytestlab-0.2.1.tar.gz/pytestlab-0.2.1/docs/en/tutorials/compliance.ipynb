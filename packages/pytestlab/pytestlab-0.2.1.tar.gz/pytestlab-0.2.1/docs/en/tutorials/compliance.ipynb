{
 "cells": [
  {
   "cell_type": "markdown",
   "metadata": {},
   "source": [
    "# PyTestLab Compliance and Audit Tutorial\n",
    "\n",
    "This tutorial demonstrates how to use the compliance and audit features of PyTestLab. These features are essential for maintaining the integrity of your test environment and ensuring that your measurements are reproducible and trustworthy."
   ]
  },
  {
   "cell_type": "markdown",
   "metadata": {},
   "source": [
    "## 1. Creating and Using Instrument Signatures\n",
    "\n",
    "Instrument signatures provide a snapshot of an instrument's configuration at a specific point in time. You can use these signatures to verify that an instrument's state has not changed unexpectedly."
   ]
  },
  {
   "cell_type": "code",
   "execution_count": null,
   "metadata": {},
   "outputs": [],
   "source": [
    "from pytestlab.instruments import PowerSupply\n",
    "from pytestlab.compliance import Signature\n",
    "\n",
    "# Create a simulated power supply\n",
    "psu = PowerSupply(backend='sim')\n",
    "\n",
    "# Configure the power supply\n",
    "psu.voltage = 5.0\n",
    "psu.current_limit = 1.0\n",
    "\n",
    "# Create a signature of the current state\n",
    "signature = Signature.create(psu)\n",
    "\n",
    "print(\"Instrument Signature:\")\n",
    "print(signature.to_json(indent=2))"
   ]
  },
  {
   "cell_type": "markdown",
   "metadata": {},
   "source": [
    "## 2. Working with the Audit Trail\n",
    "\n",
    "PyTestLab can automatically record changes to instrument settings in an audit trail. This is useful for tracking how an instrument's configuration evolves over the course of an experiment."
   ]
  },
  {
   "cell_type": "code",
   "execution_count": null,
   "metadata": {},
   "outputs": [],
   "source": [
    "from pytestlab.compliance import audit\n",
    "\n",
    "# Enable auditing for the PowerSupply class\n",
    "audit.enable(PowerSupply)\n",
    "\n",
    "# Create a new power supply with auditing enabled\n",
    "psu_audited = PowerSupply(backend='sim')\n",
    "\n",
    "# Make some changes\n",
    "psu_audited.voltage = 3.3\n",
    "psu_audited.current_limit = 0.5\n",
    "psu_audited.output = True\n",
    "\n",
    "# Get the audit trail\n",
    "trail = audit.get_trail(psu_audited)\n",
    "\n",
    "print(\"Audit Trail:\")\n",
    "for record in trail:\n",
    "    print(record)"
   ]
  },
  {
   "cell_type": "markdown",
   "metadata": {},
   "source": [
    "## 3. Performing Verification Against a Known State\n",
    "\n",
    "You can use a previously created signature to verify that an instrument is in a known-good state. This is a crucial step for ensuring the validity of your test results."
   ]
  },
  {
   "cell_type": "code",
   "execution_count": null,
   "metadata": {},
   "outputs": [],
   "source": [
    "# We'll use the signature we created in the first step.\n",
    "print(\"Original Signature:\")\n",
    "print(signature.to_json(indent=2))\n",
    "\n",
    "# Let's use the audited PSU, which has a different state.\n",
    "print(f\"\\nVerification against current state of psu_audited: {psu_audited.voltage}V, {psu_audited.current_limit}A\")\n",
    "\n",
    "# Verify the current state against the original signature\n",
    "is_verified, diff = signature.verify(psu_audited)\n",
    "\n",
    "if is_verified:\n",
    "    print(\"\\nInstrument state VERIFIED.\")\n",
    "else:\n",
    "    print(\"\\nInstrument state MISMATCH.\")\n",
    "    print(\"Differences:\")\n",
    "    print(diff)\n",
    "\n",
    "# Now, let's restore the state of the original psu and verify\n",
    "print(f\"\\nVerification against original psu state: {psu.voltage}V, {psu.current_limit}A\")\n",
    "is_verified_orig, diff_orig = signature.verify(psu)\n",
    "if is_verified_orig:\n",
    "    print(\"\\nInstrument state VERIFIED.\")\n",
    "else:\n",
    "    print(\"\\nInstrument state MISMATCH.\")\n",
    "    print(\"Differences:\")\n",
    "    print(diff_orig)"
   ]
  },
  {
   "cell_type": "markdown",
   "metadata": {},
   "source": [
    "## Conclusion\n",
    "\n",
    "In this tutorial, you've learned how to use PyTestLab's compliance features to:\n",
    "\n",
    "- Create instrument signatures to capture a known state.\n",
    "- Use the audit trail to track changes to instrument settings.\n",
    "- Verify an instrument's current configuration against a signature.\n",
    "\n",
    "These tools are vital for building robust and reliable test systems."
   ]
  }
 ],
 "metadata": {
  "kernelspec": {
   "display_name": "Python 3",
   "language": "python",
   "name": "python3"
  },
  "language_info": {
   "codemirror_mode": {
    "name": "ipython",
    "version": 3
   },
   "file_extension": ".py",
   "mimetype": "text/x-python",
   "name": "python",
   "nbconvert_exporter": "python",
   "pygments_lexer": "ipython3",
   "version": "3.9.7"
  }
 },
 "nbformat": 4,
 "nbformat_minor": 4
}