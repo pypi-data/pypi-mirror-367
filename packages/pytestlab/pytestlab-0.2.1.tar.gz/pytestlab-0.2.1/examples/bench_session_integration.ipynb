{
 "cells": [
  {
   "cell_type": "markdown",
   "metadata": {},
   "source": [
    "# Bench and MeasurementSession Integration Example\n",
    "\n",
    "This notebook demonstrates the integration between:\n",
    "- **Bench**: For instrument management and experiment context\n",
    "- **MeasurementSession**: For parameter sweeps and measurement functions\n",
    "- **Experiment**: For data capture\n",
    "- **MeasurementDatabase**: For persistence\n",
    "\n",
    "The example performs a transistor characterization using a bench configuration loaded from YAML, and executes a parameter sweep with the session."
   ]
  },
  {
   "cell_type": "code",
   "metadata": {},
   "source": [
    "# Imports\n",
    "import asyncio\n",
    "import os\n",
    "import numpy as np\n",
    "from pathlib import Path\n",
    "\n",
    "from pytestlab.bench import Bench\n",
    "from pytestlab.measurements.session import MeasurementSession\n",
    "import polars as pl"
   ],
   "execution_count": null,
   "outputs": []
  },
  {
   "cell_type": "markdown",
   "metadata": {},
   "source": [
    "## Define the main experiment logic\n",
    "\n",
    "This cell defines the main coroutine that will be run in the notebook."
   ]
  },
  {
   "cell_type": "code",
   "metadata": {},
   "source": [
    "async def run_bench_session():\n",
    "    # Path to the bench configuration YAML file\n",
    "    bench_file = Path(__file__).parent / \"session_bench.yaml\" if '__file__' in globals() else Path().absolute() / \"session_bench.yaml\"\n",
    "    print(f\"Opening bench from: {bench_file}\")\n",
    "    \n",
    "    # Open the bench - this initializes instruments and experiment context\n",
    "    async with await Bench.open(bench_file) as bench:\n",
    "        print(f\"✅ Bench '{bench.name}' opened successfully\")\n",
    "        print(f\"📋 Experiment: {bench.experiment.name}\")\n",
    "        \n",
    "        # Verify database connection\n",
    "        if bench.db:\n",
    "            print(f\"💾 Database connected: {bench.db.db_path}\")\n",
    "        \n",
    "        # Create a measurement session that uses the bench\n",
    "        async with MeasurementSession(bench=bench) as session:\n",
    "            print(f\"\\n📊 Session created: {session.name}\")\n",
    "            \n",
    "            # Define parameters for the sweep\n",
    "            session.parameter(\"V_base\", np.linspace(0.6, 1.0, 5), unit=\"V\", notes=\"Base voltage\")\n",
    "            session.parameter(\"V_collector\", np.linspace(0, 5, 10), unit=\"V\", notes=\"Collector voltage\")\n",
    "            \n",
    "            # Define a measurement function using bench instruments\n",
    "            @session.acquire\n",
    "            async def measure_transistor(V_base, V_collector, psu, dmm):\n",
    "                \"\"\"Measure transistor collector current at given base and collector voltages.\"\"\"\n",
    "                print(f\"Setting V_base={V_base:.2f}V, V_collector={V_collector:.2f}V\")\n",
    "                \n",
    "                # Set up base voltage on channel 1\n",
    "                await psu.set_voltage(1, V_base)\n",
    "                await psu.set_current(1, 0.05)  # 50mA limit for base\n",
    "                \n",
    "                # Set up collector voltage on channel 2\n",
    "                await psu.set_voltage(2, V_collector)\n",
    "                await psu.set_current(2, 0.5)   # 500mA limit for collector\n",
    "                \n",
    "                # Turn on outputs\n",
    "                await psu.output(1, True)\n",
    "                await psu.output(2, True)\n",
    "                \n",
    "                # Wait for circuit to stabilize\n",
    "                await asyncio.sleep(0.1)\n",
    "                \n",
    "                # Measure collector current (in simulation mode this will return random values)\n",
    "                result = await dmm.measure_current_dc()\n",
    "                collector_current = result.values.nominal_value\n",
    "                \n",
    "                # Turn off outputs\n",
    "                await psu.output(1, False)\n",
    "                await psu.output(2, False)\n",
    "                \n",
    "                # Return measurements\n",
    "                return {\n",
    "                    \"I_collector\": collector_current,\n",
    "                    \"V_ce\": V_collector,  # Collector-emitter voltage\n",
    "                    \"V_be\": V_base,       # Base-emitter voltage\n",
    "                }\n",
    "            \n",
    "            # Run the measurement sweep\n",
    "            print(\"\\n🔄 Starting measurement sweep...\")\n",
    "            experiment = await session.run(show_progress=True)\n",
    "            print(\"\\n✅ Measurement completed!\")\n",
    "            \n",
    "            # Display results\n",
    "            print(\"\\n📈 Experiment data:\")\n",
    "            print(experiment.data.head(10))  # Show first 10 rows\n",
    "            \n",
    "            # Calculate transistor parameters\n",
    "            print(\"\\n🔍 Transistor characteristics:\")\n",
    "            df = experiment.data\n",
    "            \n",
    "            # Group by base voltage and show collector current range\n",
    "            for v_base in sorted(set(df[\"V_base\"].to_numpy().flatten())):\n",
    "                base_rows = df.filter(pl.col(\"V_base\") == v_base)\n",
    "                i_collector_max = base_rows[\"I_collector\"].max()\n",
    "                print(f\"Base voltage {v_base:.2f}V → Max collector current: {i_collector_max:.3f}A\")\n",
    "            \n",
    "            # Report experiment database info\n",
    "            print(f\"\\n💾 Experiment saved to database: {os.path.basename(bench.db.db_path)}\")\n",
    "            print(f\"Experiment name: {bench.experiment.name}\")\n",
    "            print(f\"Number of data points: {len(experiment.data)}\")\n",
    "            \n",
    "            # Return experiment for further analysis if desired\n",
    "            return experiment"
   ],
   "execution_count": null,
   "outputs": []
  },
  {
   "cell_type": "markdown",
   "metadata": {},
   "source": [
    "## Run the experiment\n",
    "\n",
    "This cell executes the main coroutine and stores the experiment result for further analysis."
   ]
  },
  {
   "cell_type": "code",
   "metadata": {},
   "source": [
    "# Run the async experiment logic\n",
    "experiment = asyncio.run(run_bench_session())"
   ],
   "execution_count": null,
   "outputs": []
  },
  {
   "cell_type": "markdown",
   "metadata": {},
   "source": [
    "## Explore the experiment data\n",
    "\n",
    "You can use the following cell to further analyze or visualize the experiment data interactively."
   ]
  },
  {
   "cell_type": "code",
   "metadata": {},
   "source": [
    "# Display the first few rows of the experiment data\n",
    "experiment.data.head(10)"
   ],
   "execution_count": null,
   "outputs": []
  }
 ],
 "metadata": {
  "kernelspec": {
   "display_name": "Python 3",
   "language": "python",
   "name": "python3"
  },
  "language_info": {
   "name": "python",
   "version": ""
  }
 },
 "nbformat": 4,
 "nbformat_minor": 5
}
