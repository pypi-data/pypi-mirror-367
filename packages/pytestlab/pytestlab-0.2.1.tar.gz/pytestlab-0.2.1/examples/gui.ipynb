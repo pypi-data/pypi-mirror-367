{
    "cells": [
        {
            "cell_type": "markdown",
            "metadata": {},
            "source": [
                "# PyTestLab – Notebook GUI Demo\n",
                "\n",
                "This short notebook shows how you can build **interactive controls** for *any* PyTestLab instrument **without writing specialized widget classes** – everything is declared in a few lines.\n",
                "\n",
                "*The demo runs entirely in simulation mode – no hardware required.*"
            ]
        },
        {
            "cell_type": "code",
            "execution_count": 1,
            "metadata": {
                "tags": []
            },
            "outputs": [],
            "source": [
                "#Install ipywidgets if it's missing.  (Google Colab already has it; classic Jupyter may need it once.)\n",
                "import subprocess, sys, importlib.util, warnings\n",
                "if importlib.util.find_spec(\"ipywidgets\") is None:\n",
                "    warnings.warn(\"Installing ipywidgets…\")\n",
                "    subprocess.check_call([sys.executable, \"-m\", \"pip\", \"install\", \"ipywidgets>=8\"])\n",
                "\n",
                "# Optional – nice layout in classic Notebook\n",
                "try:\n",
                "    import ipywidgets as w; w.install_nbextension(enable=True)\n",
                "except Exception:\n",
                "    pass"
            ]
        },
        {
            "cell_type": "code",
            "execution_count": 3,
            "metadata": {
                "tags": []
            },
            "outputs": [
                {
                    "ename": "TypeError",
                    "evalue": "SimBackendV2.__init__() got an unexpected keyword argument 'profile'",
                    "output_type": "error",
                    "traceback": [
                        "\u001b[0;31m---------------------------------------------------------------------------\u001b[0m",
                        "\u001b[0;31mTypeError\u001b[0m                                 Traceback (most recent call last)",
                        "Cell \u001b[0;32mIn[3], line 15\u001b[0m\n\u001b[1;32m      2\u001b[0m \u001b[38;5;28;01mimport\u001b[39;00m \u001b[38;5;21;01mpytestlab\u001b[39;00m\n\u001b[1;32m      4\u001b[0m \u001b[38;5;66;03m# We're inside Jupyter -> an event-loop is already running → simple helper\u001b[39;00m\n\u001b[1;32m      5\u001b[0m \n\u001b[1;32m      6\u001b[0m \u001b[38;5;66;03m# psu = await pytestlab.instruments.AutoInstrument.from_config(\u001b[39;00m\n\u001b[0;32m   (...)\u001b[0m\n\u001b[1;32m     12\u001b[0m \u001b[38;5;66;03m#     \"keysight/EDU34450A\", simulate=True\u001b[39;00m\n\u001b[1;32m     13\u001b[0m \u001b[38;5;66;03m# )\u001b[39;00m\n\u001b[0;32m---> 15\u001b[0m awg \u001b[38;5;241m=\u001b[39m \u001b[38;5;28;01mawait\u001b[39;00m pytestlab\u001b[38;5;241m.\u001b[39minstruments\u001b[38;5;241m.\u001b[39mAutoInstrument\u001b[38;5;241m.\u001b[39mfrom_config(\n\u001b[1;32m     16\u001b[0m     \u001b[38;5;124m\"\u001b[39m\u001b[38;5;124mkeysight/EDU33212A\u001b[39m\u001b[38;5;124m\"\u001b[39m, simulate\u001b[38;5;241m=\u001b[39m\u001b[38;5;28;01mTrue\u001b[39;00m\n\u001b[1;32m     17\u001b[0m )\n\u001b[1;32m     19\u001b[0m \u001b[38;5;28;01mawait\u001b[39;00m awg\u001b[38;5;241m.\u001b[39mconnect_backend()\n\u001b[1;32m     21\u001b[0m \u001b[38;5;28mprint\u001b[39m(\u001b[38;5;124m\"\u001b[39m\u001b[38;5;124mSimulated PSU & DMM ready → build GUI panels below…\u001b[39m\u001b[38;5;124m\"\u001b[39m)\n",
                        "File \u001b[0;32m~/pytestlab/pytestlab/instruments/AutoInstrument.py:367\u001b[0m, in \u001b[0;36mAutoInstrument.from_config\u001b[0;34m(cls, config_source, serial_number, debug_mode, simulate, backend_type_hint, address_override, timeout_override_ms, *args)\u001b[0m\n\u001b[1;32m    362\u001b[0m \u001b[38;5;28;01mif\u001b[39;00m backend_type_hint \u001b[38;5;129;01mand\u001b[39;00m \u001b[38;5;124m\"\u001b[39m\u001b[38;5;124msimbackend\u001b[39m\u001b[38;5;124m\"\u001b[39m \u001b[38;5;241m==\u001b[39m backend_type_hint\u001b[38;5;241m.\u001b[39mlower():\n\u001b[1;32m    363\u001b[0m     warnings\u001b[38;5;241m.\u001b[39mwarn(\n\u001b[1;32m    364\u001b[0m         \u001b[38;5;124m\"\u001b[39m\u001b[38;5;124mSimBackend is deprecated and has been replaced by SimBackendV2.\u001b[39m\u001b[38;5;124m\"\u001b[39m,\n\u001b[1;32m    365\u001b[0m         \u001b[38;5;167;01mDeprecationWarning\u001b[39;00m,\n\u001b[1;32m    366\u001b[0m     )\n\u001b[0;32m--> 367\u001b[0m backend_instance \u001b[38;5;241m=\u001b[39m \u001b[43mSimBackendV2\u001b[49m\u001b[43m(\u001b[49m\n\u001b[1;32m    368\u001b[0m \u001b[43m    \u001b[49m\u001b[43mprofile\u001b[49m\u001b[38;5;241;43m=\u001b[39;49m\u001b[43mconfig_model\u001b[49m\u001b[43m,\u001b[49m\n\u001b[1;32m    369\u001b[0m \u001b[43m    \u001b[49m\u001b[43mdevice_model\u001b[49m\u001b[38;5;241;43m=\u001b[39;49m\u001b[43mdevice_model_str\u001b[49m\u001b[43m,\u001b[49m\n\u001b[1;32m    370\u001b[0m \u001b[43m    \u001b[49m\u001b[43mtimeout_ms\u001b[49m\u001b[38;5;241;43m=\u001b[39;49m\u001b[43mactual_timeout\u001b[49m\u001b[43m,\u001b[49m\n\u001b[1;32m    371\u001b[0m \u001b[43m\u001b[49m\u001b[43m)\u001b[49m\n\u001b[1;32m    372\u001b[0m \u001b[38;5;28;01mif\u001b[39;00m debug_mode:\n\u001b[1;32m    373\u001b[0m     \u001b[38;5;28mprint\u001b[39m(\n\u001b[1;32m    374\u001b[0m         \u001b[38;5;124mf\u001b[39m\u001b[38;5;124m\"\u001b[39m\u001b[38;5;124mUsing SimBackendV2 for \u001b[39m\u001b[38;5;132;01m{\u001b[39;00mdevice_model_str\u001b[38;5;132;01m}\u001b[39;00m\u001b[38;5;124m with timeout \u001b[39m\u001b[38;5;132;01m{\u001b[39;00mactual_timeout\u001b[38;5;132;01m}\u001b[39;00m\u001b[38;5;124mms.\u001b[39m\u001b[38;5;124m\"\u001b[39m\n\u001b[1;32m    375\u001b[0m     )\n",
                        "\u001b[0;31mTypeError\u001b[0m: SimBackendV2.__init__() got an unexpected keyword argument 'profile'"
                    ]
                }
            ],
            "source": [
                "## 1. Create (simulated) instruments\"\"\"\n",
                "import pytestlab\n",
                "\n",
                "# We're inside Jupyter -> an event-loop is already running → simple helper\n",
                "\n",
                "# psu = await pytestlab.instruments.AutoInstrument.from_config(\n",
                "#     \"keysight/EDU36311A\", simulate=True\n",
                "# )\n",
                "# await psu.connect_backend()\n",
                "\n",
                "# dmm = await pytestlab.instruments.AutoInstrument.from_config(\n",
                "#     \"keysight/EDU34450A\", simulate=True\n",
                "# )\n",
                "\n",
                "awg = await pytestlab.instruments.AutoInstrument.from_config(\n",
                "    \"keysight/EDU33212A\", simulate=True\n",
                ")\n",
                "\n",
                "await awg.connect_backend()\n",
                "\n",
                "print(\"Simulated PSU & DMM ready → build GUI panels below…\")"
            ]
        },
        {
            "cell_type": "code",
            "execution_count": null,
            "metadata": {},
            "outputs": [
                {
                    "data": {
                        "application/vnd.jupyter.widget-view+json": {
                            "model_id": "30b407c4b8a44fafa85b8c84868d86db",
                            "version_major": 2,
                            "version_minor": 0
                        },
                        "text/plain": [
                            "VBox(children=(HTML(value='<b>PSU – CH1 (Sim)</b>'), FloatSlider(value=0.0, continuous_update=False, descripti…"
                        ]
                    },
                    "metadata": {},
                    "output_type": "display_data"
                }
            ],
            "source": [
                "\"\"## 2. Build a PSU control panel (Channel 1)\"\"\"\n",
                "from pytestlab.gui.builder import InstrumentPanel, Slider, Toggle, Button\n",
                "psu = None\n",
                "psu_panel = InstrumentPanel(\n",
                "    title=\"PSU – CH1 (Sim)\",\n",
                "    inst=None,\n",
                "    controls=[\n",
                "        Slider(\n",
                "            label=\"Voltage [V]\",\n",
                "            getter=lambda i: i.set_amplitude(1),\n",
                "            setter=lambda i, v: i.set_voltage(1, v),\n",
                "            min=0.0, max=6.0, step=0.05,\n",
                "        ),\n",
                "        Slider(\n",
                "            label=\"Current [A]\",\n",
                "            getter=lambda i: i.read_current(1),\n",
                "            setter=lambda i, c: i.set_current(1, c),\n",
                "            min=0.0, max=5.0, step=0.05,\n",
                "        ),\n",
                "        Toggle(\n",
                "            label=\"Output\",\n",
                "            getter=lambda i: i.output(1),\n",
                "            setter=lambda i, state: i.output(1, state),\n",
                "            on_desc=\"ON\", off_desc=\"OFF\",\n",
                "        ),\n",
                "        Button(\n",
                "            label=\"⟳ Refresh read-back\",\n",
                "            action=lambda i, p: p.refresh(),\n",
                "        ),\n",
                "    ],\n",
                ")\n",
                "\n",
                "# Move the slider, toggle the output – the PSU simulation follows immediately."
            ]
        },
        {
            "cell_type": "code",
            "execution_count": null,
            "metadata": {},
            "outputs": [],
            "source": [
                "\"\"## 3. Build a DMM one-click read-out\"\"\"\n",
                "from pytestlab.config.multimeter_config import DMMFunction\n",
                "\n",
                "dmm_panel = InstrumentPanel(\n",
                "    title=\"DMM – DC Voltage (Sim)\",\n",
                "    inst=dmm,\n",
                "    controls=[\n",
                "        Button(\n",
                "            label=\"Measure\",\n",
                "            action=lambda dev, p: dev.measure(DMMFunction.VOLT_DC).then(lambda m: print(\"Measured:\", m)),\n",
                "            style=\"success\",\n",
                "        )\n",
                "    ],\n",
                ")\n",
                "\n",
                "# Click **Measure** – the value is printed and the coroutine runs in the background."
            ]
        },
        {
            "cell_type": "markdown",
            "metadata": {},
            "source": [
                "## Where to go next?\n",
                "\n",
                "* Add more `Slider`, `Toggle` or `Button` controls – everything is declarative.\n",
                "* Extend `pytestlab.gui.builder` with your own widget types (dropdowns, plots…).\n",
                "* Replace `simulate=True` with real VISA addresses and you have a *live* lab dashboard!"
            ]
        }
    ],
    "metadata": {
        "kernelspec": {
            "display_name": "lamb_exe",
            "language": "python",
            "name": "python3"
        },
        "language_info": {
            "codemirror_mode": {
                "name": "ipython",
                "version": 3
            },
            "file_extension": ".py",
            "mimetype": "text/x-python",
            "name": "python",
            "nbconvert_exporter": "python",
            "pygments_lexer": "ipython3",
            "version": "3.12.7"
        }
    },
    "nbformat": 4,
    "nbformat_minor": 5
}
