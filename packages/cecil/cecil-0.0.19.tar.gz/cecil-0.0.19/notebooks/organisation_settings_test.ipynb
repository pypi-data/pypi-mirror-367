{
 "cells": [
  {
   "cell_type": "code",
   "execution_count": 1,
   "id": "b082ddff-9b5f-4b66-8c03-40adf7a64a2f",
   "metadata": {},
   "outputs": [],
   "source": [
    "import cecil, os"
   ]
  },
  {
   "cell_type": "code",
   "execution_count": 2,
   "id": "c6d41121-aacd-44ed-8163-f69c3e6e8dd8",
   "metadata": {},
   "outputs": [
    {
     "data": {
      "text/plain": [
       "'0.0.19'"
      ]
     },
     "execution_count": 2,
     "metadata": {},
     "output_type": "execute_result"
    }
   ],
   "source": [
    "cecil.__version__"
   ]
  },
  {
   "cell_type": "code",
   "execution_count": 4,
   "id": "c570f053-01f6-421b-8648-6cb93c1011a9",
   "metadata": {},
   "outputs": [],
   "source": [
    "os.environ[\"CECIL_API_KEY\"]=\"ad6ee18c9476a576a25370bc80c89c69\""
   ]
  },
  {
   "cell_type": "code",
   "execution_count": 5,
   "id": "cad2e1d0-b792-4315-897f-d796bc1edfbf",
   "metadata": {},
   "outputs": [],
   "source": [
    "client=cecil.Client()"
   ]
  },
  {
   "cell_type": "code",
   "execution_count": 7,
   "id": "0a66b866-9044-4635-8434-4396dedb0eee",
   "metadata": {},
   "outputs": [
    {
     "data": {
      "text/plain": [
       "OrganisationSettings(monthly_data_request_limit=50000)"
      ]
     },
     "execution_count": 7,
     "metadata": {},
     "output_type": "execute_result"
    }
   ],
   "source": [
    "client.get_organisation_settings()"
   ]
  },
  {
   "cell_type": "code",
   "execution_count": 14,
   "id": "5ab15172-54c8-49d7-8d32-5e5f2be8ddfe",
   "metadata": {},
   "outputs": [
    {
     "data": {
      "text/plain": [
       "OrganisationSettings(monthly_data_request_limit=1000000)"
      ]
     },
     "execution_count": 14,
     "metadata": {},
     "output_type": "execute_result"
    }
   ],
   "source": [
    "client.update_organisation_settings(monthly_data_request_limit=1_000_000)"
   ]
  },
  {
   "cell_type": "code",
   "execution_count": 9,
   "id": "e0d7ad66-dde8-4880-a0bb-44c719779c88",
   "metadata": {},
   "outputs": [
    {
     "data": {
      "text/plain": [
       "OrganisationSettings(monthly_data_request_limit=1000000)"
      ]
     },
     "execution_count": 9,
     "metadata": {},
     "output_type": "execute_result"
    }
   ],
   "source": [
    "client.get_organisation_settings()"
   ]
  },
  {
   "cell_type": "code",
   "execution_count": 16,
   "id": "ec89fa64-4ff1-4e10-9a54-00c724f143e1",
   "metadata": {},
   "outputs": [
    {
     "data": {
      "text/plain": [
       "OrganisationSettings(monthly_data_request_limit=50000)"
      ]
     },
     "execution_count": 16,
     "metadata": {},
     "output_type": "execute_result"
    }
   ],
   "source": [
    "client.update_organisation_settings(monthly_data_request_limit=50_000)"
   ]
  },
  {
   "cell_type": "code",
   "execution_count": 13,
   "id": "89c2b87d-a000-45e9-b716-dafa6e05ddd5",
   "metadata": {},
   "outputs": [
    {
     "data": {
      "text/plain": [
       "AOI(id='7dbbf7c3-0447-45a7-8849-e031c6099c1c', name='Kakadu National Park', geometry={'type': 'Polygon', 'coordinates': [[[132.529342113, -12.721072673], [132.529342113, -12.730063401], [132.540277353, -12.730063401], [132.540277353, -12.721072673], [132.529342113, -12.721072673]]]}, hectares=118.12168458669186, created_at=datetime.datetime(2024, 11, 6, 6, 6, 26, 777000, tzinfo=TzInfo(UTC)), created_by='ac982e15-adfd-45c8-8604-109947356db8')"
      ]
     },
     "execution_count": 13,
     "metadata": {},
     "output_type": "execute_result"
    }
   ],
   "source": [
    "client.get_aoi(\"7dbbf7c3-0447-45a7-8849-e031c6099c1c\")"
   ]
  },
  {
   "cell_type": "code",
   "execution_count": 15,
   "id": "0d540c74-736a-44e1-b1ab-632e73e6532e",
   "metadata": {},
   "outputs": [
    {
     "data": {
      "text/plain": [
       "DataRequest(id='04930050-08e2-422f-822e-ef882865778d', aoi_id='7dbbf7c3-0447-45a7-8849-e031c6099c1c', dataset_id='53738a57-a889-43c9-8f7a-7cb306831700', created_at=datetime.datetime(2025, 8, 6, 3, 57, 26, 661000, tzinfo=TzInfo(UTC)), created_by='2b9f5bb4-ac25-48f1-8d6f-bedee2b2751e')"
      ]
     },
     "execution_count": 15,
     "metadata": {},
     "output_type": "execute_result"
    }
   ],
   "source": [
    "client.create_data_request(\n",
    "    aoi_id=\"7dbbf7c3-0447-45a7-8849-e031c6099c1c\",\n",
    "    dataset_id=\"53738a57-a889-43c9-8f7a-7cb306831700\"\n",
    ")"
   ]
  },
  {
   "cell_type": "code",
   "execution_count": null,
   "id": "dbdb835a-52d1-40d8-be00-c3ebebd4291b",
   "metadata": {},
   "outputs": [],
   "source": []
  }
 ],
 "metadata": {
  "kernelspec": {
   "display_name": "sdk",
   "language": "python",
   "name": "sdk"
  },
  "language_info": {
   "codemirror_mode": {
    "name": "ipython",
    "version": 3
   },
   "file_extension": ".py",
   "mimetype": "text/x-python",
   "name": "python",
   "nbconvert_exporter": "python",
   "pygments_lexer": "ipython3",
   "version": "3.13.2"
  }
 },
 "nbformat": 4,
 "nbformat_minor": 5
}
