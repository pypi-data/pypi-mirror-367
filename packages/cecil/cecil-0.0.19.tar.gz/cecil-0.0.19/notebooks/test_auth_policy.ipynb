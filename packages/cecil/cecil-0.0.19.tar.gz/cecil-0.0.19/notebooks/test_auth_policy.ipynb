{
 "cells": [
  {
   "cell_type": "code",
   "execution_count": 1,
   "id": "3a7e86d3-c476-447f-8643-16ba5ddd26e5",
   "metadata": {},
   "outputs": [],
   "source": [
    "import cecil, os\n",
    "os.environ[\"CECIL_API_KEY\"] = \"3856989a92943f64405b209973227abc\"\n",
    "client = cecil.Client(env=\"dev\")"
   ]
  },
  {
   "cell_type": "code",
   "execution_count": 2,
   "id": "07fdf45f-1c18-4687-953f-f1d30e8180f9",
   "metadata": {},
   "outputs": [
    {
     "data": {
      "text/plain": [
       "'0.0.19'"
      ]
     },
     "execution_count": 2,
     "metadata": {},
     "output_type": "execute_result"
    }
   ],
   "source": [
    "cecil.__version__"
   ]
  },
  {
   "cell_type": "code",
   "execution_count": 3,
   "id": "e41131a7-d642-40fd-86f5-8246b09a8aab",
   "metadata": {},
   "outputs": [
    {
     "ename": "Error",
     "evalue": "resource not found \n{\n  \"message\": \"Not Found\"\n}",
     "output_type": "error",
     "traceback": [
      "\u001b[31m---------------------------------------------------------------------------\u001b[39m",
      "\u001b[31mHTTPError\u001b[39m                                 Traceback (most recent call last)",
      "\u001b[36mFile \u001b[39m\u001b[32m~/dev/cecilearth/sdk/src/cecil/client.py:197\u001b[39m, in \u001b[36mClient._request\u001b[39m\u001b[34m(self, method, url, skip_auth, **kwargs)\u001b[39m\n\u001b[32m    189\u001b[39m r = requests.request(\n\u001b[32m    190\u001b[39m     method=method,\n\u001b[32m    191\u001b[39m     url=\u001b[38;5;28mself\u001b[39m._base_url + url,\n\u001b[32m   (...)\u001b[39m\u001b[32m    195\u001b[39m     **kwargs,\n\u001b[32m    196\u001b[39m )\n\u001b[32m--> \u001b[39m\u001b[32m197\u001b[39m \u001b[43mr\u001b[49m\u001b[43m.\u001b[49m\u001b[43mraise_for_status\u001b[49m\u001b[43m(\u001b[49m\u001b[43m)\u001b[49m\n\u001b[32m    198\u001b[39m \u001b[38;5;28;01mreturn\u001b[39;00m r.json()\n",
      "\u001b[36mFile \u001b[39m\u001b[32m~/.virtualenvs/sdk/lib/python3.13/site-packages/requests/models.py:1024\u001b[39m, in \u001b[36mResponse.raise_for_status\u001b[39m\u001b[34m(self)\u001b[39m\n\u001b[32m   1023\u001b[39m \u001b[38;5;28;01mif\u001b[39;00m http_error_msg:\n\u001b[32m-> \u001b[39m\u001b[32m1024\u001b[39m     \u001b[38;5;28;01mraise\u001b[39;00m HTTPError(http_error_msg, response=\u001b[38;5;28mself\u001b[39m)\n",
      "\u001b[31mHTTPError\u001b[39m: 404 Client Error: Not Found for url: https://dev.cecil.earth/v0/organisation/settings",
      "\nDuring handling of the above exception, another exception occurred:\n",
      "\u001b[31mError\u001b[39m                                     Traceback (most recent call last)",
      "\u001b[36mCell\u001b[39m\u001b[36m \u001b[39m\u001b[32mIn[3]\u001b[39m\u001b[32m, line 1\u001b[39m\n\u001b[32m----> \u001b[39m\u001b[32m1\u001b[39m \u001b[43mclient\u001b[49m\u001b[43m.\u001b[49m\u001b[43mget_organisation_settings\u001b[49m\u001b[43m(\u001b[49m\u001b[43m)\u001b[49m\n",
      "\u001b[36mFile \u001b[39m\u001b[32m~/dev/cecilearth/sdk/src/cecil/client.py:165\u001b[39m, in \u001b[36mClient.get_organisation_settings\u001b[39m\u001b[34m(self)\u001b[39m\n\u001b[32m    164\u001b[39m \u001b[38;5;28;01mdef\u001b[39;00m\u001b[38;5;250m \u001b[39m\u001b[34mget_organisation_settings\u001b[39m(\u001b[38;5;28mself\u001b[39m) -> OrganisationSettings:\n\u001b[32m--> \u001b[39m\u001b[32m165\u001b[39m     res = \u001b[38;5;28;43mself\u001b[39;49m\u001b[43m.\u001b[49m\u001b[43m_get\u001b[49m\u001b[43m(\u001b[49m\u001b[43murl\u001b[49m\u001b[43m=\u001b[49m\u001b[33;43m\"\u001b[39;49m\u001b[33;43m/v0/organisation/settings\u001b[39;49m\u001b[33;43m\"\u001b[39;49m\u001b[43m)\u001b[49m\n\u001b[32m    166\u001b[39m     \u001b[38;5;28;01mreturn\u001b[39;00m OrganisationSettings(**res)\n",
      "\u001b[36mFile \u001b[39m\u001b[32m~/dev/cecilearth/sdk/src/cecil/client.py:228\u001b[39m, in \u001b[36mClient._get\u001b[39m\u001b[34m(self, url, **kwargs)\u001b[39m\n\u001b[32m    227\u001b[39m \u001b[38;5;28;01mdef\u001b[39;00m\u001b[38;5;250m \u001b[39m\u001b[34m_get\u001b[39m(\u001b[38;5;28mself\u001b[39m, url: \u001b[38;5;28mstr\u001b[39m, **kwargs) -> Dict:\n\u001b[32m--> \u001b[39m\u001b[32m228\u001b[39m     \u001b[38;5;28;01mreturn\u001b[39;00m \u001b[38;5;28;43mself\u001b[39;49m\u001b[43m.\u001b[49m\u001b[43m_request\u001b[49m\u001b[43m(\u001b[49m\u001b[43mmethod\u001b[49m\u001b[43m=\u001b[49m\u001b[33;43m\"\u001b[39;49m\u001b[33;43mget\u001b[39;49m\u001b[33;43m\"\u001b[39;49m\u001b[43m,\u001b[49m\u001b[43m \u001b[49m\u001b[43murl\u001b[49m\u001b[43m=\u001b[49m\u001b[43murl\u001b[49m\u001b[43m,\u001b[49m\u001b[43m \u001b[49m\u001b[43m*\u001b[49m\u001b[43m*\u001b[49m\u001b[43mkwargs\u001b[49m\u001b[43m)\u001b[49m\n",
      "\u001b[36mFile \u001b[39m\u001b[32m~/dev/cecilearth/sdk/src/cecil/client.py:214\u001b[39m, in \u001b[36mClient._request\u001b[39m\u001b[34m(self, method, url, skip_auth, **kwargs)\u001b[39m\n\u001b[32m    212\u001b[39m     \u001b[38;5;28;01mraise\u001b[39;00m Error(\u001b[33m\"\u001b[39m\u001b[33munauthorised\u001b[39m\u001b[33m\"\u001b[39m)\n\u001b[32m    213\u001b[39m \u001b[38;5;28;01mcase\u001b[39;00m \u001b[32m404\u001b[39m:\n\u001b[32m--> \u001b[39m\u001b[32m214\u001b[39m     \u001b[43m_handle_not_found\u001b[49m\u001b[43m(\u001b[49m\u001b[43merr\u001b[49m\u001b[43m.\u001b[49m\u001b[43mresponse\u001b[49m\u001b[43m)\u001b[49m\n\u001b[32m    215\u001b[39m \u001b[38;5;28;01mcase\u001b[39;00m \u001b[32m422\u001b[39m:\n\u001b[32m    216\u001b[39m     _handle_unprocessable_entity(err.response)\n",
      "\u001b[36mFile \u001b[39m\u001b[32m~/dev/cecilearth/sdk/src/cecil/errors.py:47\u001b[39m, in \u001b[36m_handle_not_found\u001b[39m\u001b[34m(response)\u001b[39m\n\u001b[32m     44\u001b[39m \u001b[38;5;28;01mfor\u001b[39;00m key, value \u001b[38;5;129;01min\u001b[39;00m response.json().items():\n\u001b[32m     45\u001b[39m     details[_format_json_key(key)] = value\n\u001b[32m---> \u001b[39m\u001b[32m47\u001b[39m \u001b[38;5;28;01mraise\u001b[39;00m Error(\u001b[33m\"\u001b[39m\u001b[33mresource not found\u001b[39m\u001b[33m\"\u001b[39m, details)\n",
      "\u001b[31mError\u001b[39m: resource not found \n{\n  \"message\": \"Not Found\"\n}"
     ]
    }
   ],
   "source": [
    "client.get_organisation_settings()"
   ]
  },
  {
   "cell_type": "code",
   "execution_count": null,
   "id": "1e61bdb0-85e8-4586-898f-7a6cb7f4d6bb",
   "metadata": {},
   "outputs": [],
   "source": [
    "client.update_organisation_settings(monthly_data_request_limit=200_000)"
   ]
  },
  {
   "cell_type": "code",
   "execution_count": null,
   "id": "7422883d-a957-4e11-8f0b-623dfa7ef01a",
   "metadata": {},
   "outputs": [],
   "source": [
    "client.get_organisation_settings()"
   ]
  },
  {
   "cell_type": "code",
   "execution_count": null,
   "id": "a6282db8-f5e7-410c-9e8d-7a4ee8950119",
   "metadata": {},
   "outputs": [],
   "source": [
    "client.create_data_request(\n",
    "    aoi_id=\"57d735c3-9cbf-49fc-889b-a7b755496630\",\n",
    "    dataset_id=\"53738a57-a889-43c9-8f7a-7cb306831700\",\n",
    ")"
   ]
  },
  {
   "cell_type": "code",
   "execution_count": null,
   "id": "372dcec5-fa58-476a-9ba5-d66c18155cbc",
   "metadata": {},
   "outputs": [],
   "source": []
  }
 ],
 "metadata": {
  "kernelspec": {
   "display_name": "sdk",
   "language": "python",
   "name": "sdk"
  },
  "language_info": {
   "codemirror_mode": {
    "name": "ipython",
    "version": 3
   },
   "file_extension": ".py",
   "mimetype": "text/x-python",
   "name": "python",
   "nbconvert_exporter": "python",
   "pygments_lexer": "ipython3",
   "version": "3.13.2"
  }
 },
 "nbformat": 4,
 "nbformat_minor": 5
}
