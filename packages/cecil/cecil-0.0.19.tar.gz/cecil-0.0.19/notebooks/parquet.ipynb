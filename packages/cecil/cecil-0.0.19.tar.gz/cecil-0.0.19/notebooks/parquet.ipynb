{
 "cells": [
  {
   "cell_type": "code",
   "execution_count": 5,
   "id": "75951d46-e2ec-4650-b0cf-2d7191036263",
   "metadata": {
    "scrolled": true
   },
   "outputs": [],
   "source": [
    "import datetime\n",
    "import rasterio\n",
    "import pandas as pd"
   ]
  },
  {
   "cell_type": "code",
   "execution_count": 6,
   "id": "89ae5fac-84d2-4c94-a87d-c3df3d8c1ebc",
   "metadata": {},
   "outputs": [],
   "source": [
    "def get_pixel_boundary_wkt(dataset, row, col):\n",
    "    points = [\n",
    "        dataset.xy(row, col, offset=offset) for offset in [\"ul\", \"ll\", \"lr\", \"ur\", \"ul\"]\n",
    "    ]\n",
    "\n",
    "    return \"POLYGON ((\" + \", \".join(f\"{x} {y}\" for x, y in points) + \"))\""
   ]
  },
  {
   "cell_type": "code",
   "execution_count": 7,
   "id": "975db97a-34fb-42ac-82d6-04284939bb5f",
   "metadata": {},
   "outputs": [],
   "source": [
    "# src = rasterio.open(\"../planet/tmp/data/CANOPY_COVER_v1.2.0_30-20190101T000000Z_cc.tiff\")\n",
    "src = rasterio.open(\"../planet/tmp/data/CANOPY_COVER_v1.0.0_3-20230621T000000Z_cc-uc-reprojection_000025.tiff\")"
   ]
  },
  {
   "cell_type": "code",
   "execution_count": 8,
   "id": "af1ae9d4-6f2b-4d56-b086-abf538eee8c4",
   "metadata": {},
   "outputs": [],
   "source": [
    "crs = f\"EPSG:{src.crs.to_epsg()}\"\n",
    "created_at = datetime.datetime.now(datetime.timezone.utc).isoformat()\n",
    "data = src.read()"
   ]
  },
  {
   "cell_type": "code",
   "execution_count": 12,
   "id": "4f2c1ee9-9ba5-4bf7-9de8-59ca52fee206",
   "metadata": {},
   "outputs": [],
   "source": [
    "def get_results(start_position, max_position):\n",
    "    count = -1\n",
    "    results = []\n",
    "    for raster_row in range(0, src.height):\n",
    "        for raster_col in range(0, src.width):\n",
    "            x, y = src.xy(raster_row, raster_col)\n",
    "            for raster_band in range(0, src.count):\n",
    "                count += 1\n",
    "                if count < start_position:\n",
    "                    continue\n",
    "                if count >= max_position:\n",
    "                    return pd.DataFrame(results)\n",
    "                results.append({\n",
    "                    \"relative_path\": \"relative_path\",\n",
    "                    \"organisation_id\": \"organisation_id\",\n",
    "                    \"aoi_id\": \"aoi_id\",\n",
    "                    \"data_request_id\": \"data_request_id\",\n",
    "                    \"crs\": crs,\n",
    "                    \"x\": x,\n",
    "                    \"y\": y,\n",
    "                    \"raster_band\": raster_band+1,\n",
    "                    \"boundary\": get_pixel_boundary_wkt(src, raster_row, raster_col),\n",
    "                    \"value\": data[raster_band][raster_row][raster_col],\n",
    "                    \"dataset_id\": \"dataset_id\",\n",
    "                    \"created_at\": created_at,\n",
    "                })\n",
    "    return pd.DataFrame(results)"
   ]
  },
  {
   "cell_type": "code",
   "execution_count": null,
   "id": "ffd027a2-3961-4cad-8cd8-844121e877e1",
   "metadata": {},
   "outputs": [
    {
     "name": "stdout",
     "output_type": "stream",
     "text": [
      "0 1000000\n",
      "1000000 2000000\n"
     ]
    }
   ],
   "source": [
    "i = -1\n",
    "while True:\n",
    "    i += 1\n",
    "\n",
    "    start_position = 1_000_000 * i\n",
    "    end_position = 1_000_000 * i + 1_000_000\n",
    "    print(start_position, end_position)\n",
    " \n",
    "    results = get_results(start_position, end_position)\n",
    "    if len(results) == 0:\n",
    "        break\n",
    "\n",
    "    results.to_parquet(f\"../planet/tmp/data/performance_test/1M_{i}.parquet\")"
   ]
  },
  {
   "cell_type": "code",
   "execution_count": 16,
   "id": "e1f8b4fb-e771-4d43-9625-d4c8f3632d7e",
   "metadata": {},
   "outputs": [],
   "source": [
    "import pandas as pd"
   ]
  },
  {
   "cell_type": "code",
   "execution_count": 21,
   "id": "93b9f796-0050-4320-9948-d3c745964d59",
   "metadata": {},
   "outputs": [],
   "source": [
    "df = pd.read_parquet(\"/tmp/output.parquet\")"
   ]
  },
  {
   "cell_type": "code",
   "execution_count": 22,
   "id": "0ddc93c8-11b4-4462-a143-4f9f93d65614",
   "metadata": {},
   "outputs": [
    {
     "data": {
      "text/html": [
       "<div>\n",
       "<style scoped>\n",
       "    .dataframe tbody tr th:only-of-type {\n",
       "        vertical-align: middle;\n",
       "    }\n",
       "\n",
       "    .dataframe tbody tr th {\n",
       "        vertical-align: top;\n",
       "    }\n",
       "\n",
       "    .dataframe thead th {\n",
       "        text-align: right;\n",
       "    }\n",
       "</style>\n",
       "<table border=\"1\" class=\"dataframe\">\n",
       "  <thead>\n",
       "    <tr style=\"text-align: right;\">\n",
       "      <th></th>\n",
       "      <th>rasterBand</th>\n",
       "      <th>rasterCol</th>\n",
       "      <th>rasterRow</th>\n",
       "      <th>value</th>\n",
       "    </tr>\n",
       "  </thead>\n",
       "  <tbody>\n",
       "    <tr>\n",
       "      <th>0</th>\n",
       "      <td>1.0</td>\n",
       "      <td>0.0</td>\n",
       "      <td>0.0</td>\n",
       "      <td>0.0</td>\n",
       "    </tr>\n",
       "    <tr>\n",
       "      <th>1</th>\n",
       "      <td>1.0</td>\n",
       "      <td>1.0</td>\n",
       "      <td>0.0</td>\n",
       "      <td>0.0</td>\n",
       "    </tr>\n",
       "    <tr>\n",
       "      <th>2</th>\n",
       "      <td>1.0</td>\n",
       "      <td>2.0</td>\n",
       "      <td>0.0</td>\n",
       "      <td>0.0</td>\n",
       "    </tr>\n",
       "    <tr>\n",
       "      <th>3</th>\n",
       "      <td>1.0</td>\n",
       "      <td>3.0</td>\n",
       "      <td>0.0</td>\n",
       "      <td>6.0</td>\n",
       "    </tr>\n",
       "    <tr>\n",
       "      <th>4</th>\n",
       "      <td>1.0</td>\n",
       "      <td>4.0</td>\n",
       "      <td>0.0</td>\n",
       "      <td>13.0</td>\n",
       "    </tr>\n",
       "  </tbody>\n",
       "</table>\n",
       "</div>"
      ],
      "text/plain": [
       "   rasterBand  rasterCol  rasterRow  value\n",
       "0         1.0        0.0        0.0    0.0\n",
       "1         1.0        1.0        0.0    0.0\n",
       "2         1.0        2.0        0.0    0.0\n",
       "3         1.0        3.0        0.0    6.0\n",
       "4         1.0        4.0        0.0   13.0"
      ]
     },
     "execution_count": 22,
     "metadata": {},
     "output_type": "execute_result"
    }
   ],
   "source": [
    "df.head()"
   ]
  },
  {
   "cell_type": "code",
   "execution_count": 18,
   "id": "269a0147-0b52-483c-8f3d-e0db1f37fa6e",
   "metadata": {},
   "outputs": [],
   "source": [
    "src = rasterio.open(\"/Users/brian/dev/cecilearth/planet/tmp/data/CANOPY_COVER_v1.2.0_30-20190101T000000Z_cc.tiff\")"
   ]
  },
  {
   "cell_type": "code",
   "execution_count": 19,
   "id": "10cc6b51-1f4d-4d5e-b6e9-3bc176fc419c",
   "metadata": {},
   "outputs": [
    {
     "data": {
      "text/plain": [
       "(37, 45)"
      ]
     },
     "execution_count": 19,
     "metadata": {},
     "output_type": "execute_result"
    }
   ],
   "source": [
    "src.shape"
   ]
  },
  {
   "cell_type": "code",
   "execution_count": 20,
   "id": "0a4f943b-329f-4135-aebe-2c9b09df6c3b",
   "metadata": {},
   "outputs": [
    {
     "data": {
      "text/plain": [
       "1665"
      ]
     },
     "execution_count": 20,
     "metadata": {},
     "output_type": "execute_result"
    }
   ],
   "source": [
    "37*45"
   ]
  },
  {
   "cell_type": "code",
   "execution_count": 23,
   "id": "655d7c6d-8e58-4f19-8153-47b09c6da7fb",
   "metadata": {},
   "outputs": [
    {
     "data": {
      "text/plain": [
       "'1.4.3'"
      ]
     },
     "execution_count": 23,
     "metadata": {},
     "output_type": "execute_result"
    }
   ],
   "source": [
    "rasterio.__version__"
   ]
  },
  {
   "cell_type": "code",
   "execution_count": 28,
   "id": "9f55db0b-9915-4a0e-a5f7-e26b38cde08c",
   "metadata": {},
   "outputs": [
    {
     "data": {
      "text/plain": [
       "4326"
      ]
     },
     "execution_count": 28,
     "metadata": {},
     "output_type": "execute_result"
    }
   ],
   "source": [
    "src.meta[\"crs\"].to_epsg()"
   ]
  },
  {
   "cell_type": "code",
   "execution_count": 30,
   "id": "d4c5acc7-d9fb-453f-ba98-ead490041970",
   "metadata": {},
   "outputs": [],
   "source": [
    "metadata=src.meta.copy()"
   ]
  },
  {
   "cell_type": "code",
   "execution_count": 32,
   "id": "66afb2c0-7bdb-4d7a-a391-2a54b7897a21",
   "metadata": {},
   "outputs": [],
   "source": [
    "metadata[\"crs\"] = src.meta[\"crs\"].to_epsg()"
   ]
  },
  {
   "cell_type": "code",
   "execution_count": 34,
   "id": "a327a6df-3177-4d2c-b41f-d0a6fe4c7578",
   "metadata": {},
   "outputs": [
    {
     "data": {
      "text/plain": [
       "'{\"driver\": \"GTiff\", \"dtype\": \"uint8\", \"nodata\": 255.0, \"width\": 45, \"height\": 37, \"count\": 1, \"crs\": 4326, \"transform\": [0.00025, 0.0, 132.52925, 0.0, -0.00025, -12.721, 0.0, 0.0, 1.0]}'"
      ]
     },
     "execution_count": 34,
     "metadata": {},
     "output_type": "execute_result"
    }
   ],
   "source": [
    "import json\n",
    "json.dumps(metadata)"
   ]
  },
  {
   "cell_type": "code",
   "execution_count": 35,
   "id": "0d67f328-f9ed-4f0d-bbe5-85147256c7a9",
   "metadata": {},
   "outputs": [],
   "source": [
    "import pandas as pd"
   ]
  },
  {
   "cell_type": "code",
   "execution_count": 36,
   "id": "bfc14aa5-6adc-480b-b1b3-3d03685d9811",
   "metadata": {},
   "outputs": [
    {
     "data": {
      "text/plain": [
       "'2.3.0'"
      ]
     },
     "execution_count": 36,
     "metadata": {},
     "output_type": "execute_result"
    }
   ],
   "source": [
    "pd.__version__"
   ]
  },
  {
   "cell_type": "code",
   "execution_count": 37,
   "id": "868109b9-e4f6-4428-81fc-fc31215f273e",
   "metadata": {},
   "outputs": [],
   "source": [
    "import pyarrow as pa"
   ]
  },
  {
   "cell_type": "code",
   "execution_count": 38,
   "id": "a19df76e-702e-4f99-b203-cecf09d181bb",
   "metadata": {},
   "outputs": [
    {
     "data": {
      "text/plain": [
       "'20.0.0'"
      ]
     },
     "execution_count": 38,
     "metadata": {},
     "output_type": "execute_result"
    }
   ],
   "source": [
    "pa.__version__"
   ]
  },
  {
   "cell_type": "code",
   "execution_count": null,
   "id": "067e4bd5-23f5-40fd-815c-fc8f920b06c9",
   "metadata": {},
   "outputs": [],
   "source": []
  }
 ],
 "metadata": {
  "kernelspec": {
   "display_name": "parquet",
   "language": "python",
   "name": "parquet"
  },
  "language_info": {
   "codemirror_mode": {
    "name": "ipython",
    "version": 3
   },
   "file_extension": ".py",
   "mimetype": "text/x-python",
   "name": "python",
   "nbconvert_exporter": "python",
   "pygments_lexer": "ipython3",
   "version": "3.13.2"
  }
 },
 "nbformat": 4,
 "nbformat_minor": 5
}
