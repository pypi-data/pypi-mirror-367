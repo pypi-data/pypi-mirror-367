{
 "cells": [
  {
   "cell_type": "markdown",
   "metadata": {},
   "source": [
    "# Cross-comparisons on Cecil\n",
    "*Tom Walker (tom[at]cecil.earth)*\n",
    "\n",
    "This notebook accompanies the Cecil newsletter ***[Dataset Evaluation](https://newsletter.cecil.earth/p/operating-in-spite-of-uncertainty)***. \n",
    "\n",
    "The notebook walks through doing some basic cross-comparisons of three plant biomass datasets on Cecil. The notebook:\n",
    "\n",
    "* Creates an AOI\n",
    "* Makes data requests for three datasets\n",
    "* Transforms the datasets to the same CRS and spatial resolution\n",
    "* Queries the data and calculates summary statistics\n",
    "* Creates three basic cross-comparison visualisations:\n",
    "    * Pairwise scatter graphs showing correlations of pixel AGB values across datasets\n",
    "    * Difference maps showing spatial variation in AGB values among datasets\n",
    "    * Time series graphs showing temporal variation in AGB values among datasets\n",
    "\n",
    "The notebook assumes you have followed the first three steps of the [getting started](https://docs.cecil.earth/Getting-started-111ef16bbbe48123aaa1d0a4bbd0a63d) guide to:\n",
    "\n",
    "1. Install the Cecil SDK.\n",
    "2. Sign up for an account.\n",
    "3. Configure the SDK with your user API key.\n",
    "\n",
    "\n",
    "Once this is complete, begin by importing `GeoPandas`, `Matplotlib` and `Cecil`.\n",
    "\n"
   ]
  },
  {
   "cell_type": "code",
   "execution_count": null,
   "metadata": {},
   "outputs": [],
   "source": [
    "import geopandas as gpd\n",
    "import matplotlib.pyplot as plt\n",
    "plt.rcParams['axes.formatter.useoffset'] = False # removes offset on plots\n",
    "\n",
    "import cecil\n",
    "client = cecil.Client()"
   ]
  },
  {
   "cell_type": "markdown",
   "metadata": {},
   "source": [
    "___"
   ]
  },
  {
   "cell_type": "markdown",
   "metadata": {},
   "source": [
    "## Create an AOI, make data requests and transform data\n",
    "\n",
    "### Create an AOI\n",
    "\n",
    "Use the code below to create an AOI on your account. Replace `aoi_name` with your own name and `aoi_geometry` with a geojson object containing a polygon of the AOI boundary.\n",
    "\n",
    "Store the AOI ID (`aoi.id`) so you can retrieve it later (see [SDK documentation](https://docs.cecil.earth/SDK-11fef16bbbe480b5a778ccae542cf34d) for details).\n",
    "\n",
    "*NB - you only need to create an AOI once.*"
   ]
  },
  {
   "cell_type": "code",
   "execution_count": null,
   "metadata": {},
   "outputs": [],
   "source": [
    "# store aoi name and geometry (geojson polygon)\n",
    "aoi_name = 'Kakadu National Park'\n",
    "aoi_geometry = {\n",
    "        \"type\": \"Polygon\",\n",
    "        \"coordinates\": [\n",
    "            [\n",
    "                [132.52934211276073, -12.721072673008706],\n",
    "                [132.52934211276073, -12.730063400794094],\n",
    "                [132.54027735328083, -12.730063400794094],\n",
    "                [132.54027735328083, -12.721072673008706],\n",
    "                [132.52934211276073, -12.721072673008706]\n",
    "            ]\n",
    "        ]\n",
    "}\n",
    "\n",
    "# create aoi on cecil\n",
    "aoi = client.create_aoi(\n",
    "    name=aoi_name,\n",
    "    geometry=aoi_geometry\n",
    ")"
   ]
  },
  {
   "cell_type": "code",
   "execution_count": null,
   "metadata": {},
   "outputs": [],
   "source": [
    "# print aoi id\n",
    "print(f'AOI ID: {aoi.id}')"
   ]
  },
  {
   "cell_type": "markdown",
   "metadata": {},
   "source": [
    "### Make data requests\n",
    "\n",
    "For this exercise, we will request data from three datasets:\n",
    "\n",
    "* [Chloris Aboveground Biomass Stock and Change (30 m)](https://docs.cecil.earth/Aboveground-biomass-stock-and-change-30-m-111ef16bbbe48163a502ed2bcb64fc72)\n",
    "* [Kanop Screening (25 m)](https://docs.cecil.earth/Screening-25-m-111ef16bbbe481a780bce4de81a500a5)\n",
    "* [Planet Forest Carbon Diligence dataset (30 m)](https://docs.cecil.earth/Forest-carbon-diligence-111ef16bbbe481d9a430c446c2bb4d04)\n",
    "\n",
    "The following code block stores dataset IDs and list prices (links above) and uses the AOI size (`aoi.hectares`) to estimate the total data acquisition cost for your AOI."
   ]
  },
  {
   "cell_type": "code",
   "execution_count": null,
   "metadata": {},
   "outputs": [],
   "source": [
    "# get dataset ids\n",
    "chloris_dataset_id = 'e837b8b1-1002-4ff1-a4ca-fb6a7ac928fd'\n",
    "kanop_dataset_id = 'f79af205-e45d-45b2-99fb-5108d83bd6f5'\n",
    "planet_dataset_id = '53738a57-a889-43c9-8f7a-7cb306831700'\n",
    "\n",
    "# get acquisition costs\n",
    "chloris_dataset_price = 0.09\n",
    "kanop_dataset_price = 0.10\n",
    "planet_dataset_price = 0.10\n",
    "\n",
    "# print cost\n",
    "cost = chloris_dataset_price * aoi.hectares + kanop_dataset_price * aoi.hectares + planet_dataset_price * aoi.hectares\n",
    "print(f'Approximate acquisition cost: ${round(cost, 2)}')"
   ]
  },
  {
   "cell_type": "markdown",
   "metadata": {},
   "source": [
    "Use the following code block to make a data request for each dataset (dataset IDs) against your AOI (`aoi.id`). \n",
    "\n",
    "Store data request IDs (`data_request.id`) so you can retrieve them later (see [SDK documentation](https://docs.cecil.earth/SDK-11fef16bbbe480b5a778ccae542cf34d)).\n",
    "\n",
    "*NB - you only need to make the data requests once. It may take some hours for a data request to complete.*"
   ]
  },
  {
   "cell_type": "code",
   "execution_count": null,
   "metadata": {},
   "outputs": [],
   "source": [
    "# request datasets\n",
    "chloris_request = client.create_data_request(\n",
    "    aoi_id=aoi.id,\n",
    "    dataset_id=chloris_dataset_id\n",
    ")\n",
    "\n",
    "kanop_request = client.create_data_request(\n",
    "    aoi_id=aoi.id,\n",
    "    dataset_id=kanop_dataset_id\n",
    ")\n",
    "\n",
    "planet_request = client.create_data_request(\n",
    "    aoi_id=aoi.id,\n",
    "    dataset_id=planet_dataset_id\n",
    ")"
   ]
  },
  {
   "cell_type": "code",
   "execution_count": null,
   "metadata": {},
   "outputs": [],
   "source": [
    "# print data request ids\n",
    "print(f'Chloris data request ID: {chloris_request.id}')\n",
    "print(f'Kanop data request ID: {kanop_request.id}')\n",
    "print(f'Planet data request ID: {planet_request.id}')"
   ]
  },
  {
   "cell_type": "markdown",
   "metadata": {},
   "source": [
    "### Transform  the data\n",
    "\n",
    "Datasets often have different native coordinate reference systems (CRS) and spatial resolutions, which must be aligned before working with them together. \n",
    "\n",
    "Use the following code to transform all datasets to the same CRS and spatial resolution. Here we have chosen EPSG:4326 and 0.00025º (i.e. ~ 30 m on the equator).\n",
    "\n",
    "Store transformation IDs (`transformation.id`) so you can retrieve them later (see [SDK documentation](https://docs.cecil.earth/SDK-11fef16bbbe480b5a778ccae542cf34d)).\n",
    "\n",
    "*NB - you only need to do the transformations once.*"
   ]
  },
  {
   "cell_type": "code",
   "execution_count": null,
   "metadata": {},
   "outputs": [],
   "source": [
    "# choose transformation crs and spatial resolution\n",
    "destination_crs = 'EPSG:4326'\n",
    "destination_res = 0.00025\n",
    "\n",
    "# transform datasets\n",
    "chloris_transformation = client.create_transformation(\n",
    "    data_request_id=chloris_request.id,\n",
    "    crs=destination_crs,\n",
    "    spatial_resolution=destination_res\n",
    ")\n",
    "\n",
    "kanop_transformation = client.create_transformation(\n",
    "    data_request_id=kanop_request.id,\n",
    "    crs=destination_crs,\n",
    "    spatial_resolution=destination_res\n",
    ")\n",
    "\n",
    "planet_transformation = client.create_transformation(\n",
    "    data_request_id=planet_request.id,\n",
    "    crs=destination_crs,\n",
    "    spatial_resolution=destination_res\n",
    ")"
   ]
  },
  {
   "cell_type": "code",
   "execution_count": null,
   "metadata": {},
   "outputs": [],
   "source": [
    "# print data request ids\n",
    "print(f'Chloris transformation ID: {chloris_transformation.id}')\n",
    "print(f'Kanop transformation ID: {kanop_transformation.id}')\n",
    "print(f'Planet transformation ID: {planet_transformation.id}')"
   ]
  },
  {
   "cell_type": "markdown",
   "metadata": {},
   "source": [
    "---"
   ]
  },
  {
   "cell_type": "markdown",
   "metadata": {},
   "source": [
    "## Query and wrangle the data\n",
    "\n",
    "### Query data\n",
    "\n",
    "Retrieve your transformation IDs and use them to query the data from your Cecil database. "
   ]
  },
  {
   "cell_type": "code",
   "execution_count": null,
   "metadata": {},
   "outputs": [],
   "source": [
    "# store transformation ids (convenience)\n",
    "chloris_tid = chloris_transformation.id\n",
    "kanop_tid = kanop_transformation.id\n",
    "planet_tid = planet_transformation.id"
   ]
  },
  {
   "cell_type": "markdown",
   "metadata": {},
   "source": [
    "The SQL query below:\n",
    "\n",
    "* Filters for selected transformation IDs\n",
    "* Joins the datasets by pixel centroids (x, y) and year\n",
    "* Selects aboveground biomass (AGB) variables from all providers, as well as pixel and year information\n",
    "* Transforms Planet AGB from a carbon equivalent to total biomass (see [dataset documentation](https://docs.cecil.earth/Forest-carbon-diligence-111ef16bbbe481d9a430c446c2bb4d04))\n",
    "* Returns the data into a data frame in your Python environment"
   ]
  },
  {
   "cell_type": "code",
   "execution_count": null,
   "metadata": {},
   "outputs": [],
   "source": [
    "df = client.query(f'''\n",
    "    SELECT\n",
    "        -- Basic variables\n",
    "        x, y, year,\n",
    "        ST_ASWKT(pixel_boundary) AS pixel_boundary,\n",
    "        -- Biomass variables\n",
    "        k.living_aboveground_biomass AS kanop_agb,\n",
    "        p.aboveground_live_carbon_density / 0.476 AS planet_agb,\n",
    "        c.aboveground_biomass_stock AS chloris_agb\n",
    "    FROM transformation_db.kanop.screening_25_m k\n",
    "    -- Join all datasets\n",
    "    JOIN transformation_db.planet.forest_carbon_diligence p USING (year, x, y)\n",
    "    JOIN transformation_db.chloris.aboveground_biomass_stock_and_change_30_m c USING (year, x, y)\n",
    "    -- Filter for chosen transformations\n",
    "    WHERE \n",
    "        (\n",
    "            k.transformation_id = '{kanop_tid}' OR\n",
    "            p.transformation_id = '{planet_tid}' OR\n",
    "            c.transformation_id = '{chloris_tid}'\n",
    "        )\n",
    "''')"
   ]
  },
  {
   "cell_type": "markdown",
   "metadata": {},
   "source": [
    "### Wrangle data\n",
    "\n",
    "Convert the data into a GeoPandas data frame for downstream analysis and print the top 3 rows:"
   ]
  },
  {
   "cell_type": "code",
   "execution_count": null,
   "metadata": {},
   "outputs": [],
   "source": [
    "# convert data frame to geodataframe\n",
    "gdf = gpd.GeoDataFrame(\n",
    "    df, \n",
    "    geometry=gpd.GeoSeries.from_wkt(\n",
    "        df['pixel_boundary'], \n",
    "        crs='EPSG:4326'\n",
    "    )\n",
    ")\n",
    "\n",
    "# inspect data frame\n",
    "df.head(3)"
   ]
  },
  {
   "cell_type": "markdown",
   "metadata": {},
   "source": [
    "The code below creates the mean and coefficient of variation of AGB across providers for use in cross-comparisons at two levels:\n",
    "\n",
    "* AOI level - all pixels together, separating years\n",
    "* Pixel level - all years together, separating pixels"
   ]
  },
  {
   "cell_type": "code",
   "execution_count": null,
   "metadata": {},
   "outputs": [],
   "source": [
    "# calculate mean among the three variables\n",
    "gdf['mean_agb'] = gdf[['kanop_agb', 'planet_agb', 'chloris_agb']].apply(\n",
    "    lambda row: row.mean(), \n",
    "    axis=1\n",
    ")\n",
    "\n",
    "# calculate coefficient of variation among the three variables\n",
    "gdf['cv_agb'] = gdf[['kanop_agb', 'planet_agb', 'chloris_agb']].apply(\n",
    "    lambda row: row.std() / row.mean(), \n",
    "    axis=1\n",
    ")\n",
    "\n",
    "# create df with mean per pixel coefficient of variation across all years (pixel level)\n",
    "spatial_cv = gdf.groupby(['x', 'y']).agg({\n",
    "    'cv_agb': 'mean',\n",
    "    'geometry': 'first'\n",
    "}).reset_index()\n",
    "\n",
    "# create df with annual mean cv and annual mean/sd of agb (aoi level)\n",
    "temporal_stats = gdf.groupby('year').agg({\n",
    "    'cv_agb': 'mean',\n",
    "    'mean_agb': ['mean', 'std']\n",
    "}).reset_index()\n",
    "temporal_stats.columns = ['year', 'mean_cv', 'mean_agb', 'std_mean_agb']"
   ]
  },
  {
   "cell_type": "markdown",
   "metadata": {},
   "source": [
    "---"
   ]
  },
  {
   "cell_type": "markdown",
   "metadata": {},
   "source": [
    "## Cross-comparisons\n",
    "\n",
    "The following code blocks perform three basic visual cross-comparisons:\n",
    "\n",
    "1. Scatter graphs showing pairwise pixel correlations between all providers\n",
    "2. Difference maps showing mean AGB and coefficient of variation (CV) across space\n",
    "3. Time series graphs showing mean AGB and CV over time\n",
    "\n",
    "### Pairwise pixel correlations"
   ]
  },
  {
   "cell_type": "code",
   "execution_count": null,
   "metadata": {},
   "outputs": [],
   "source": [
    "# define function to create scatter graph with 1:1 line\n",
    "def add_scatter(ax, df, x_col, y_col, x_label, y_label):\n",
    "    ax.scatter(df[x_col], df[y_col], alpha=0.5, s=10, color='darkgreen')\n",
    "    lims = [min(df[x_col].min(), df[y_col].min()),\n",
    "            max(df[x_col].max(), df[y_col].max())]\n",
    "    ax.plot(lims, lims, 'k--', lw=2, alpha=0.7)\n",
    "    ax.set_xlabel(x_label, fontsize=12)\n",
    "    ax.set_ylabel(y_label, fontsize=12)\n",
    "\n",
    "# create plotting canvas\n",
    "fig, axes0 = plt.subplots(1, 3, figsize=(15, 5))\n",
    "fig.suptitle('Pairwise pixel correspondence', fontsize=14)\n",
    "\n",
    "# add pairwise pixel plots to canvas\n",
    "add_scatter(axes0[0], gdf, 'planet_agb', 'chloris_agb', 'Planet AGB (Mg/ha)', 'Chloris AGB (Mg/ha)')\n",
    "add_scatter(axes0[1], gdf, 'planet_agb', 'kanop_agb', 'Planet AGB (Mg/ha)', 'Kanop AGB (Mg/ha)')\n",
    "add_scatter(axes0[2], gdf, 'chloris_agb', 'kanop_agb', 'Chloris AGB (Mg/ha)', 'Kanop AGB (Mg/ha)')\n",
    "\n",
    "# plot\n",
    "plt.tight_layout()"
   ]
  },
  {
   "cell_type": "markdown",
   "metadata": {},
   "source": [
    "### Difference maps"
   ]
  },
  {
   "cell_type": "code",
   "execution_count": null,
   "metadata": {},
   "outputs": [],
   "source": [
    "# create plotting canvas\n",
    "fig, axes1 = plt.subplots(1, 2, figsize=(12, 6))\n",
    "\n",
    "# map of mean AGB (calculated in SQL query)\n",
    "gdf.plot(\n",
    "    column='mean_agb', \n",
    "    ax=axes1[0], \n",
    "    cmap='viridis', \n",
    "    legend=True, \n",
    "    legend_kwds={'label': 'Mg/ha', 'shrink': 0.8}\n",
    ")\n",
    "axes1[0].set_title('Mean per pixel AGB (Mg/ha)', fontsize=12)\n",
    "\n",
    "# map of mean per pixel CV\n",
    "gdf.plot(\n",
    "    column='cv_agb', \n",
    "    ax=axes1[1], \n",
    "    cmap='YlOrRd', \n",
    "    legend=True,\n",
    "    legend_kwds={'shrink': 0.8}\n",
    ")\n",
    "axes1[1].set_title('Mean per pixel CV', fontsize=12)\n",
    "\n",
    "# plot\n",
    "plt.tight_layout()"
   ]
  },
  {
   "cell_type": "markdown",
   "metadata": {},
   "source": [
    "### Time series graphs"
   ]
  },
  {
   "cell_type": "code",
   "execution_count": null,
   "metadata": {},
   "outputs": [],
   "source": [
    "# create plotting canvas\n",
    "fig, axes2 = plt.subplots(1, 2, figsize=(12, 6))\n",
    "\n",
    "# time series of mean AGB (line) ± standard deviation (ribbon)\n",
    "axes2[0].plot(\n",
    "    temporal_stats['year'], \n",
    "    temporal_stats['mean_agb'], \n",
    "    'o-', \n",
    "    color='darkgreen'\n",
    ")\n",
    "axes2[0].fill_between(\n",
    "    temporal_stats['year'], \n",
    "    temporal_stats['mean_agb'] - temporal_stats['std_mean_agb'],\n",
    "    temporal_stats['mean_agb'] + temporal_stats['std_mean_agb'],\n",
    "    alpha=0.3, \n",
    "    color='darkgreen'\n",
    ")\n",
    "axes2[0].set_ylabel('AGB (Mg/ha ± SD)')\n",
    "axes2[0].set_xlabel('Year')\n",
    "axes2[0].set_title('Mean AGB over time (Mg/ha ± SD)')\n",
    "axes2[0].grid(True, alpha=0.3)\n",
    "\n",
    "# time series plot of mean CV\n",
    "axes2[1].plot(\n",
    "    temporal_stats['year'], \n",
    "    temporal_stats['mean_cv'], \n",
    "    'o-', \n",
    "    color='darkred'\n",
    ")\n",
    "axes2[1].set_ylabel('Mean CV')\n",
    "axes2[1].set_xlabel('Year')\n",
    "axes2[1].set_title('Mean CV over time')\n",
    "axes2[1].grid(True, alpha=0.3)\n",
    "\n",
    "# plot\n",
    "plt.tight_layout()"
   ]
  }
 ],
 "metadata": {
  "kernelspec": {
   "display_name": "Python 3 (ipykernel)",
   "language": "python",
   "name": "python3"
  },
  "language_info": {
   "codemirror_mode": {
    "name": "ipython",
    "version": 3
   },
   "file_extension": ".py",
   "mimetype": "text/x-python",
   "name": "python",
   "nbconvert_exporter": "python",
   "pygments_lexer": "ipython3",
   "version": "3.11.13"
  }
 },
 "nbformat": 4,
 "nbformat_minor": 4
}
