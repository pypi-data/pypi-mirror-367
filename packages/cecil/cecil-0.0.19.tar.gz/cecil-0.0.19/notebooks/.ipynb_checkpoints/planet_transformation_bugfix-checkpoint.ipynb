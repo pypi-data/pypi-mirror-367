{
 "cells": [
  {
   "cell_type": "code",
   "execution_count": 1,
   "id": "64586212-b3ff-461b-89ec-47e7adbd1626",
   "metadata": {},
   "outputs": [],
   "source": [
    "import cecil\n",
    "client = cecil.Client()"
   ]
  },
  {
   "cell_type": "code",
   "execution_count": null,
   "id": "752021fe-baad-49ec-a36f-9f515f05e461",
   "metadata": {},
   "outputs": [],
   "source": [
    "# client.sign_up(\n",
    "#     organisation={\"name\": \"Future Climate\"},\n",
    "#     user={\"first_name\": \"Igor\", \"last_name\": \"Ribeiro\", \"email\": \"igor.ribeiro@futureclimate.com\"},\n",
    "# )"
   ]
  },
  {
   "cell_type": "code",
   "execution_count": null,
   "id": "3e33a82d-1bc2-45f3-9de2-825a84c35dc7",
   "metadata": {},
   "outputs": [],
   "source": [
    "client.sign_up(\n",
    "    organisation={\"name\": \"Future Climate\"},\n",
    "    user={\"first_name\": \"Igor\", \"last_name\": \"Ribeiro\", \"email\": \"igor.ribeiro@futureclimate.com\"},\n",
    ")"
   ]
  }
 ],
 "metadata": {
  "kernelspec": {
   "display_name": "sdk",
   "language": "python",
   "name": "sdk"
  },
  "language_info": {
   "codemirror_mode": {
    "name": "ipython",
    "version": 3
   },
   "file_extension": ".py",
   "mimetype": "text/x-python",
   "name": "python",
   "nbconvert_exporter": "python",
   "pygments_lexer": "ipython3",
   "version": "3.13.2"
  }
 },
 "nbformat": 4,
 "nbformat_minor": 5
}
