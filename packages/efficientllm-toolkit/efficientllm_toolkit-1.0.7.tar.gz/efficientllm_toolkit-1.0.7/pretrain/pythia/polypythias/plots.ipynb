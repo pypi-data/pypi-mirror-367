{
 "cells": [
  {
   "cell_type": "code",
   "execution_count": 1,
   "metadata": {},
   "outputs": [],
   "source": [
    "# Requires Python 3.10 or higher\n",
    "# \"plotnine>=0.13.6\",\n",
    "# \"polars>=1.5.0,<1.7.0\",\n",
    "# \"srsly>=2.4.8\",\n",
    "from pathlib import Path\n",
    "import polars as pl\n",
    "\n",
    "import plotnine as pn\n",
    "import srsly\n",
    "import json\n",
    "import numpy as np"
   ]
  },
  {
   "cell_type": "code",
   "execution_count": 2,
   "metadata": {},
   "outputs": [],
   "source": [
    "path = Path(\"data/pythia-results\")  # these are available at https://huggingface.co/datasets/EleutherAI/polypythias-evals\n",
    "plot_path = Path(\"plots\")\n",
    "plot_path.mkdir(exist_ok=True)"
   ]
  },
  {
   "cell_type": "code",
   "execution_count": 3,
   "metadata": {},
   "outputs": [],
   "source": [
    "fl_df = (\n",
    "    pl.DataFrame({\"filepath\": [str(i) for i in path.rglob(\"*.json\")]})\n",
    "    .with_columns(\n",
    "        timestamp=pl.col(\"filepath\").str.extract(r\"results_(\\d{4}-\\d{2}-\\d{2}T\\d{2}-\\d{2}-\\d{2}.\\d{6})\").str.to_datetime(r\"%Y-%m-%dT%H-%M-%S%.f\"),\n",
    "        seed=pl.col(\"filepath\").str.extract(r\"seed(\\d)\").cast(pl.Int64),\n",
    "        model_size=pl.col(\"filepath\").str.extract(r\"pythia-(\\d+m)\").str.to_uppercase().cast(pl.Enum([\"14M\", \"31M\", \"70M\", \"160M\", \"410M\"])),\n",
    "        step=pl.col(\"filepath\").str.extract(r\"step(\\d+)\").cast(pl.Int64),\n",
    "    )\n",
    ")"
   ]
  },
  {
   "cell_type": "code",
   "execution_count": 4,
   "metadata": {},
   "outputs": [],
   "source": [
    "res = []\n",
    "for filepath in path.rglob(\"*.json\"):\n",
    "    with filepath.open(\"r\") as fl:\n",
    "        file = json.load(fl)\n",
    "        for r in file[\"results\"].values():\n",
    "            res.append({\"filepath\": str(filepath), **r})"
   ]
  },
  {
   "cell_type": "code",
   "execution_count": 5,
   "metadata": {},
   "outputs": [],
   "source": [
    "df = (\n",
    "    pl.from_dicts(res)\n",
    "    .unpivot(index=[\"filepath\", \"alias\"], variable_name=\"metric\")\n",
    "    .drop_nulls()\n",
    "    .filter(pl.col(\"value\").str.contains(r\"\\d+\"))\n",
    "    .with_columns(\n",
    "        pl.col(\"value\").cast(pl.Float64),\n",
    "        pl.col(\"metric\").str.replace(\",none\", \"\")\n",
    "    )\n",
    "    .rename({\"alias\": \"dataset\"})\n",
    "    # Bring metadata\n",
    "    .join(fl_df, on=\"filepath\")\n",
    "    # If duplicates, pick the latest based on timestamp\n",
    "    .with_columns(max_timestamp=pl.col(\"timestamp\").max().over([\"dataset\", \"metric\", \"seed\", \"model_size\", \"step\"]))\n",
    "    .filter(pl.col(\"timestamp\") == pl.col(\"max_timestamp\")) \n",
    "    .drop(\"max_timestamp\")\n",
    ")"
   ]
  },
  {
   "cell_type": "code",
   "execution_count": null,
   "metadata": {},
   "outputs": [],
   "source": [
    "check = df.group_by([\"dataset\", \"metric\"]).agg(\n",
    "    pl.col(\"model_size\").n_unique(),\n",
    "    pl.col(\"seed\").n_unique(),\n",
    "    pl.col(\"step\").n_unique(),\n",
    ")\n",
    "\n",
    "print(f\"{check['seed'].unique().item() == 10=}\")\n",
    "print(f\"{check['model_size'].unique().item() == 5=}\")\n",
    "\n",
    "print(\"\\nSome datasets have less than 27 steps\")\n",
    "print(f\"{check['step'].unique() == 27=}\")\n",
    "print(check.filter(pl.col(\"step\")<27)[\"dataset\"].unique())"
   ]
  },
  {
   "cell_type": "code",
   "execution_count": 9,
   "metadata": {},
   "outputs": [],
   "source": [
    "dataset_map = {\n",
    "    'arc_challenge': 'ARC (Challenge)',\n",
    "    'arc_easy': \"ARC (Easy)\",\n",
    "    'bbq': 'BBQ',\n",
    "    'bbq_ambig': 'bbq_ambig',\n",
    "    'bbq_disambig': 'bbq_disambig',\n",
    "    'blimp_anaphor_gender_agreement': 'BLiMP (Gender Agreement)',\n",
    "    'crows_pairs_english': 'CrowS-Pairs',\n",
    "    'crows_pairs_english_age': 'CrowS-Pairs (Age)',\n",
    "    'crows_pairs_english_autre': 'crows_pairs_english_autre',\n",
    "    'crows_pairs_english_disability': 'crows_pairs_english_disability',\n",
    "    'crows_pairs_english_gender': 'CrowS-Pairs (Gender)',\n",
    "    'crows_pairs_english_nationality': 'crows_pairs_english_nationality',\n",
    "    'crows_pairs_english_physical_appearance': 'crows_pairs_english_physical_appearance',\n",
    "    'crows_pairs_english_race_color': 'crows_pairs_english_race_color',\n",
    "    'crows_pairs_english_religion': 'crows_pairs_english_religion',\n",
    "    'crows_pairs_english_sexual_orientation': 'crows_pairs_english_sexual_orientation',\n",
    "    'crows_pairs_english_socioeconomic': 'crows_pairs_english_socioeconomic',\n",
    "    'lambada_openai': 'lambada_openai',\n",
    "    'logiqa': 'logiqa',\n",
    "    'piqa': 'piqa',\n",
    "    'realtoxicityprompts_tiny': 'realtoxicityprompts_tiny',\n",
    "    'sciq': 'SciQ',\n",
    "    'simple_cooccurrence_bias': 'Simple Co-occurrence Bias',\n",
    "    'winogrande': 'winogrande',\n",
    "    'wsc': 'wsc',\n",
    "}\n",
    "\n",
    "cmap = {\n",
    "    \"14M\": \"#003049\",\n",
    "    \"31M\": \"#2a9d8f\",\n",
    "    \"70M\": \"#d62828\",\n",
    "    \"160M\": \"#9b5de5\",\n",
    "    \"410M\": \"#ff9f1c\",\n",
    "}"
   ]
  },
  {
   "cell_type": "markdown",
   "metadata": {},
   "source": [
    "### Performance"
   ]
  },
  {
   "cell_type": "code",
   "execution_count": 10,
   "metadata": {},
   "outputs": [],
   "source": [
    "dd = (\n",
    "    pl.concat([\n",
    "        (\n",
    "            pl.read_csv(\"data/self_consistency.tsv\", separator=\"\\t\")\n",
    "            .rename({\"kappa_w_last_step\": \"value\", \"benchmark\": \"dataset\", \"size\": \"model_size\"})\n",
    "            .select([\"step\", \"seed\", \"value\", \"dataset\", \"model_size\"])\n",
    "            .with_columns(metric=pl.lit(\"Self-Consistency\"))\n",
    "        ),\n",
    "        (\n",
    "            pl.read_csv(\"data/inter_seed.tsv\", separator=\"\\t\")\n",
    "            .rename({\"kappa_w_0\": \"value\", \"benchmark\": \"dataset\", \"size\": \"model_size\"})\n",
    "            .select([\"step\", \"seed\", \"value\", \"dataset\", \"model_size\"])\n",
    "            .with_columns(metric=pl.lit(\"Inter-Seed Agreement\"))\n",
    "        ),\n",
    "\n",
    "    ])\n",
    "    .with_columns(\n",
    "        model_size=(\n",
    "            pl.col(\"model_size\").map_elements(lambda x: f\"{x}M\", return_dtype=pl.String)\n",
    "            .cast(pl.Enum([\"14M\", \"31M\", \"70M\", \"160M\", \"410M\"]))\n",
    "        ),\n",
    "    )\n",
    ")"
   ]
  },
  {
   "cell_type": "code",
   "execution_count": 11,
   "metadata": {},
   "outputs": [],
   "source": [
    "plot_dataset = [\"arc_easy\", \"sciq\"]\n",
    "pdata = (\n",
    "    pl.concat([\n",
    "        dd.filter(pl.col(\"dataset\").is_in(plot_dataset)),\n",
    "        (\n",
    "            df\n",
    "            .select(dd.columns)\n",
    "            .filter((pl.col(\"dataset\").is_in(plot_dataset)) & (pl.col(\"metric\") == \"acc\"))\n",
    "            .with_columns(pl.col(\"metric\").replace({\"acc\": \"Accuracy\"}))\n",
    "        )\n",
    "    ])\n",
    "    .group_by([\"dataset\", \"model_size\", \"step\", \"metric\"])\n",
    "    .agg(\n",
    "        median=pl.col(\"value\").median(),\n",
    "        q25=pl.col(\"value\").quantile(.25),\n",
    "        q75=pl.col(\"value\").quantile(.75),\n",
    "    )\n",
    "    .with_columns(pl.col(\"dataset\").cast(pl.String).replace(dataset_map))\n",
    ")"
   ]
  },
  {
   "cell_type": "code",
   "execution_count": null,
   "metadata": {},
   "outputs": [],
   "source": [
    "p = (\n",
    "    pn.ggplot(pdata, pn.aes(\"step\", \"median\", fill=\"model_size\"))\n",
    "    + pn.geom_line(pn.aes(colour=\"model_size\"))\n",
    "    + pn.geom_point(pn.aes(colour=\"model_size\"), size=.8)\n",
    "    + pn.geom_ribbon(pn.aes(ymin=\"q25\", ymax=\"q75\"), alpha=0.3)\n",
    "    + pn.facet_wrap([\"dataset\", \"metric\"], scales=\"free_y\")\n",
    "    + pn.scale_x_log10(\n",
    "        breaks=[1, 10, 100, 1000, 10_000, 100_000],\n",
    "        labels=lambda x: [f\"$10^{np.log10(v):.0f}$\" if v > 0 else \"0\" for v in x]\n",
    "    )\n",
    "    + pn.scale_y_continuous(labels=lambda x: [f\"{v:.2f}\" if v > 0 else \"0\" for v in x])\n",
    "    + pn.scale_colour_manual(cmap)\n",
    "    + pn.scale_fill_manual(cmap)\n",
    "    + pn.labs(x=\"Checkpoints Across Training\", y=\"\", colour=\"\", fill=\"\")\n",
    "    + pn.theme_bw(base_size=12)\n",
    "    + pn.theme(\n",
    "        plot_margin=0.005, \n",
    "        plot_background=None, \n",
    "        legend_box_spacing=0.005, \n",
    "        legend_box_margin=0, \n",
    "        figure_size=(8, 4), \n",
    "        legend_position=\"top\"\n",
    "    )\n",
    "    + pn.guides(colour=pn.guide_legend(nrow=1))\n",
    ")\n",
    "p.show()\n",
    "p.save(plot_path / \"performance.pdf\")"
   ]
  },
  {
   "cell_type": "markdown",
   "metadata": {},
   "source": [
    "### Gender bias"
   ]
  },
  {
   "cell_type": "code",
   "execution_count": 17,
   "metadata": {},
   "outputs": [],
   "source": [
    "plot_dataset = [\"blimp_anaphor_gender_agreement\", \"crows_pairs_english_gender\", \"simple_cooccurrence_bias\"]\n",
    "metrics = [\"acc\", \"pct_stereotype\", \"pct_male_preferred\"]"
   ]
  },
  {
   "cell_type": "code",
   "execution_count": 20,
   "metadata": {},
   "outputs": [],
   "source": [
    "pdata = (\n",
    "    df\n",
    "    .filter((pl.col(\"dataset\").is_in(plot_dataset)) & (pl.col(\"metric\").is_in(metrics)))\n",
    "    .group_by([\"dataset\", \"model_size\", \"step\"])\n",
    "    .agg(\n",
    "        median=pl.col(\"value\").median(),\n",
    "        q25=pl.col(\"value\").quantile(.25),\n",
    "        q75=pl.col(\"value\").quantile(.75),\n",
    "    )\n",
    "    .with_columns(pl.col(\"dataset\").cast(pl.String).replace(dataset_map))\n",
    ")"
   ]
  },
  {
   "cell_type": "code",
   "execution_count": null,
   "metadata": {},
   "outputs": [],
   "source": [
    "p = (\n",
    "    pn.ggplot(pdata, pn.aes(\"step\", \"median\", fill=\"model_size\"))\n",
    "    + pn.geom_line(pn.aes(colour=\"model_size\"))\n",
    "    + pn.geom_point(pn.aes(colour=\"model_size\"), size=.8)\n",
    "    + pn.geom_ribbon(pn.aes(ymin=\"q25\", ymax=\"q75\"), alpha=0.3)\n",
    "    + pn.facet_wrap(\"dataset\", ncol=3, scales=\"free_y\")\n",
    "    + pn.scale_x_log10(\n",
    "        breaks=[1, 10, 100, 1000, 10_000, 100_000],\n",
    "        labels=lambda x: [f\"$10^{np.log10(v):.0f}$\" if v > 0 else \"0\" for v in x]\n",
    "    )\n",
    "    + pn.scale_y_continuous(labels=lambda x: [f\"{v:.2f}\" if v > 0 else \"0\" for v in x])\n",
    "    + pn.scale_colour_manual(cmap)\n",
    "    + pn.scale_fill_manual(cmap)\n",
    "    + pn.labs(x=\"Checkpoints Across Training\", y=\"\", colour=\"\", fill=\"\")\n",
    "    + pn.theme_bw(base_size=12)\n",
    "    + pn.theme(\n",
    "        plot_margin=0.005, \n",
    "        plot_background=None, \n",
    "        legend_box_spacing=0.005, \n",
    "        legend_box_margin=0, \n",
    "        figure_size=(8, 2.5), \n",
    "        legend_position=\"top\"\n",
    "    )\n",
    "    + pn.guides(colour=pn.guide_legend(nrow=1))\n",
    ")\n",
    "p.show()\n",
    "p.save(plot_path / \"bias.pdf\")"
   ]
  },
  {
   "cell_type": "markdown",
   "metadata": {},
   "source": [
    "### Training maps"
   ]
  },
  {
   "cell_type": "code",
   "execution_count": 30,
   "metadata": {},
   "outputs": [],
   "source": [
    "cmap = {str(k): v for (k, v) in enumerate(['#377eb8', '#ff7f00', '#4daf4a', '#f781bf', '#a65628'])}"
   ]
  },
  {
   "cell_type": "code",
   "execution_count": null,
   "metadata": {},
   "outputs": [],
   "source": [
    "tmap = (\n",
    "    pl.read_csv(path.parent / \"training_maps.tsv\", separator=\"\\t\")\n",
    "    .with_columns(\n",
    "        outlier=pl.when(pl.col(\"seed\").is_in([3, 4])).then(pl.lit(\"Outlier\")).otherwise(pl.lit(\"Stable\")),\n",
    "        seed=pl.col(\"seed\").cast(pl.String),\n",
    "        state=pl.col(\"state\").cast(pl.String),\n",
    "        shaded_area_start=pl.col(\"step\").min().over([\"state\", \"seed\"]),\n",
    "        shaded_area_end=pl.col(\"step\").max().over([\"state\", \"seed\"]),\n",
    "    )\n",
    "    # Sort by state, seed, and step to ensure the order is correct\n",
    "    .sort([\"state\", \"seed\", \"step\"])\n",
    "    # Adjust shaded_area_end to avoid gaps\n",
    "    .with_columns(\n",
    "        shaded_area_other=pl.col(\"shaded_area_start\").sort().shift(-1).over([\"seed\"]),\n",
    "    )\n",
    "    .with_columns(\n",
    "        shaded_area_end=pl.when(pl.col(\"shaded_area_other\") > pl.col(\"shaded_area_end\")).then(\"shaded_area_other\").otherwise(\"shaded_area_end\")\n",
    "    )\n",
    "    .drop(\"shaded_area_other\")\n",
    "    .with_columns(\n",
    "        shaded_area_start=pl.when(pl.col(\"seed\") == \"0\").then(\"shaded_area_start\").otherwise(None),\n",
    "        shaded_area_end=pl.when(pl.col(\"seed\") == \"0\").then(\"shaded_area_end\").otherwise(None).max().over([\"seed\", \"state\"]),\n",
    "    )\n",
    ")\n",
    "\n",
    "rect = (\n",
    "    tmap\n",
    "    .select([\"state\", \"seed\", \"shaded_area_start\", \"shaded_area_end\", \"outlier\"])\n",
    "    .unique()\n",
    ")\n",
    "\n",
    "tmap"
   ]
  },
  {
   "cell_type": "code",
   "execution_count": null,
   "metadata": {},
   "outputs": [],
   "source": [
    "p = (\n",
    "    pn.ggplot(tmap, pn.aes(shape=\"seed\"))\n",
    "    + pn.geom_line(pn.aes(\"step\", \"score\"), alpha=0.2)\n",
    "    + pn.geom_point(pn.aes(\"step\", \"score\", colour=\"state\"), size=2)\n",
    "    + pn.facet_grid(rows=\"outlier\")\n",
    "    + pn.geom_rect(rect, pn.aes(ymin=-np.inf, ymax=np.inf, xmin=\"shaded_area_start\", xmax=\"shaded_area_end\", fill=\"state\"), alpha=0.15)\n",
    "    + pn.scale_x_sqrt(\n",
    "        breaks=[0, 1000, 3000, 13000, 33000, 53000, 83000, 123000, 143000],\n",
    "        labels=lambda x: [f\"{v / 1000:.0f}k\" if v > 0 else \"0\" for v in x]\n",
    "    )\n",
    "    + pn.scale_colour_manual(cmap, guide=None)\n",
    "    + pn.scale_fill_manual(cmap, guide=None)\n",
    "    + pn.scale_shape_manual([\"o\"] * 9, guide=None)\n",
    "    + pn.labs(x=\"Checkpoints Across Training\", y=\"\", colour=\"\", fill=\"\")\n",
    "    # Theme\n",
    "    + pn.theme_bw(base_size=12)\n",
    "    + pn.theme(\n",
    "        plot_margin=0.005, \n",
    "        plot_background=None, \n",
    "        legend_box_spacing=0.005, \n",
    "        legend_box_margin=0, \n",
    "        figure_size=(4.5, 4), \n",
    "        legend_position=\"top\"\n",
    "    )\n",
    "    + pn.guides(fill=pn.guide_legend(nrow=1), colour=pn.guide_legend(nrow=1))\n",
    ")\n",
    "p.show()\n",
    "p.save(plot_path / \"training_maps.pdf\")"
   ]
  }
 ],
 "metadata": {
  "kernelspec": {
   "display_name": ".venv",
   "language": "python",
   "name": "python3"
  },
  "language_info": {
   "codemirror_mode": {
    "name": "ipython",
    "version": 3
   },
   "file_extension": ".py",
   "mimetype": "text/x-python",
   "name": "python",
   "nbconvert_exporter": "python",
   "pygments_lexer": "ipython3",
   "version": "3.10.13"
  }
 },
 "nbformat": 4,
 "nbformat_minor": 2
}
