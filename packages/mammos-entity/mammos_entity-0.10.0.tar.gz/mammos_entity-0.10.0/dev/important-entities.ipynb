{
 "cells": [
  {
   "cell_type": "code",
   "execution_count": 1,
   "id": "278bb00f-3aa5-4829-9cc0-23889aba2802",
   "metadata": {},
   "outputs": [],
   "source": [
    "import mammos_entity as me"
   ]
  },
  {
   "cell_type": "code",
   "execution_count": 2,
   "id": "f2d823d7-d725-4a89-86aa-5076173a77e2",
   "metadata": {},
   "outputs": [
    {
     "data": {
      "text/latex": [
       "ThermodynamicTemperature(value=0.0, unit=K)"
      ],
      "text/plain": [
       "ThermodynamicTemperature(value=0.0, unit=K)"
      ]
     },
     "execution_count": 2,
     "metadata": {},
     "output_type": "execute_result"
    }
   ],
   "source": [
    "T = me.Entity(\"ThermodynamicTemperature\")\n",
    "T"
   ]
  },
  {
   "cell_type": "code",
   "execution_count": 3,
   "id": "2e7bf012-1885-48a1-8ddf-83f47a7c4541",
   "metadata": {},
   "outputs": [
    {
     "data": {
      "text/plain": [
       "[locstr('Temperature', 'en')]"
      ]
     },
     "execution_count": 3,
     "metadata": {},
     "output_type": "execute_result"
    }
   ],
   "source": [
    "T.ontology.altLabel"
   ]
  },
  {
   "cell_type": "code",
   "execution_count": 4,
   "id": "75780850-d782-4fe9-b394-36bb2d35856e",
   "metadata": {},
   "outputs": [
    {
     "data": {
      "text/latex": [
       "CurieTemperature(value=0.0, unit=K)"
      ],
      "text/plain": [
       "CurieTemperature(value=0.0, unit=K)"
      ]
     },
     "execution_count": 4,
     "metadata": {},
     "output_type": "execute_result"
    }
   ],
   "source": [
    "Tc = me.Entity(\"CurieTemperature\")\n",
    "Tc"
   ]
  },
  {
   "cell_type": "code",
   "execution_count": 5,
   "id": "38ec5c69-b0b8-44d9-ae48-89ca39a09b96",
   "metadata": {},
   "outputs": [
    {
     "data": {
      "text/plain": [
       "[]"
      ]
     },
     "execution_count": 5,
     "metadata": {},
     "output_type": "execute_result"
    }
   ],
   "source": [
    "Tc.ontology.altLabel"
   ]
  },
  {
   "cell_type": "code",
   "execution_count": 6,
   "id": "92ae8b87-d7f9-4076-9517-c3c3a0de41b7",
   "metadata": {},
   "outputs": [
    {
     "data": {
      "text/latex": [
       "CoercivityHcExternal(value=0.0, unit=A / m)"
      ],
      "text/plain": [
       "CoercivityHcExternal(value=0.0, unit=A / m)"
      ]
     },
     "execution_count": 6,
     "metadata": {},
     "output_type": "execute_result"
    }
   ],
   "source": [
    "Hc = me.Entity(\"CoercivityHcExternal\")\n",
    "Hc"
   ]
  },
  {
   "cell_type": "code",
   "execution_count": 7,
   "id": "794c1f05-d772-4d81-92fa-583f9b59b084",
   "metadata": {},
   "outputs": [
    {
     "data": {
      "text/plain": [
       "[locstr(\"H'c\", 'en')]"
      ]
     },
     "execution_count": 7,
     "metadata": {},
     "output_type": "execute_result"
    }
   ],
   "source": [
    "Hc.ontology.altLabel"
   ]
  },
  {
   "cell_type": "code",
   "execution_count": 8,
   "id": "8ce07c4c-e641-41ae-952f-8eb9b944e479",
   "metadata": {},
   "outputs": [
    {
     "data": {
      "text/latex": [
       "Remanence(value=0.0, unit=A / m)"
      ],
      "text/plain": [
       "Remanence(value=0.0, unit=A / m)"
      ]
     },
     "execution_count": 8,
     "metadata": {},
     "output_type": "execute_result"
    }
   ],
   "source": [
    "Mr = me.Entity(\"Remanence\")\n",
    "Mr"
   ]
  },
  {
   "cell_type": "code",
   "execution_count": 9,
   "id": "41c39430-aaa2-4ed1-8d84-3154ebac2931",
   "metadata": {},
   "outputs": [
    {
     "data": {
      "text/plain": [
       "[locstr('Remanent magnetization, Mr', 'en')]"
      ]
     },
     "execution_count": 9,
     "metadata": {},
     "output_type": "execute_result"
    }
   ],
   "source": [
    "Mr.ontology.altLabel"
   ]
  },
  {
   "cell_type": "code",
   "execution_count": 10,
   "id": "daee2631-5058-4882-995c-bf9bbc5080f7",
   "metadata": {},
   "outputs": [
    {
     "data": {
      "text/latex": [
       "MaximumEnergyProduct(value=0.0, unit=J / m3)"
      ],
      "text/plain": [
       "MaximumEnergyProduct(value=0.0, unit=J / m3)"
      ]
     },
     "execution_count": 10,
     "metadata": {},
     "output_type": "execute_result"
    }
   ],
   "source": [
    "BHmax = me.Entity(\"MaximumEnergyProduct\")\n",
    "BHmax"
   ]
  },
  {
   "cell_type": "code",
   "execution_count": 11,
   "id": "14ef2284-b3c8-45ac-8d80-83ed2917aa1e",
   "metadata": {},
   "outputs": [
    {
     "data": {
      "text/plain": [
       "[locstr('The value of the maximum energy product (BH)max is deduced from a\\nplot of BH(B) for all points of the second quadrant of the B-H\\nhysteresis loop. BH varies with B going through a maximum value (BH)max\\nfor a particular value of B.\\n\\n(BH)max equals the area of the largest second-quadrant rectangle which\\nfits under the B-H loop.\\n\\nThe maximum energy product is considered to be the best single index\\nof quality of a permanent magnet material.\\nIt is twice the energy stored in the stray field of the magnet of\\noptimal shape.', 'en')]"
      ]
     },
     "execution_count": 11,
     "metadata": {},
     "output_type": "execute_result"
    }
   ],
   "source": [
    "BHmax.ontology.elucidation"
   ]
  },
  {
   "cell_type": "code",
   "execution_count": 12,
   "id": "6dfbfcc0-fa69-4ab9-8d1d-9eee07eadcea",
   "metadata": {},
   "outputs": [
    {
     "data": {
      "text/plain": [
       "[locstr('(BH)max', 'en')]"
      ]
     },
     "execution_count": 12,
     "metadata": {},
     "output_type": "execute_result"
    }
   ],
   "source": [
    "BHmax.ontology.altLabel"
   ]
  }
 ],
 "metadata": {
  "kernelspec": {
   "display_name": "Python 3 (ipykernel)",
   "language": "python",
   "name": "python3"
  },
  "language_info": {
   "codemirror_mode": {
    "name": "ipython",
    "version": 3
   },
   "file_extension": ".py",
   "mimetype": "text/x-python",
   "name": "python",
   "nbconvert_exporter": "python",
   "pygments_lexer": "ipython3",
   "version": "3.13.3"
  }
 },
 "nbformat": 4,
 "nbformat_minor": 5
}
