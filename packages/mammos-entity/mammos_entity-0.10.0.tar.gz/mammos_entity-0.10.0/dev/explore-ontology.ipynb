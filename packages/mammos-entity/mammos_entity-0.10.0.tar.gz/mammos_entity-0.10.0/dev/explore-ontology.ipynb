{
 "cells": [
  {
   "cell_type": "code",
   "execution_count": 1,
   "id": "a5db05ce-8504-4fc8-aeed-deb15e2702d6",
   "metadata": {},
   "outputs": [],
   "source": [
    "from ontopy import ontology\n",
    "\n",
    "mammos_ontology = ontology.get_ontology(\n",
    "    \"https://raw.githubusercontent.com/MaMMoS-project/MagneticMaterialsOntology/refs/heads/main/magnetic_material_mammos.ttl\"\n",
    ").load()"
   ]
  },
  {
   "cell_type": "code",
   "execution_count": 2,
   "id": "fa872aaf-a334-450a-8518-6d7f8a1f7dda",
   "metadata": {},
   "outputs": [],
   "source": [
    "onto_class_list = [str(cls.prefLabel[0]) for cls in mammos_ontology.classes()]"
   ]
  },
  {
   "cell_type": "code",
   "execution_count": 3,
   "id": "5be1c52d-ebd6-4d89-9ef8-0593035aad16",
   "metadata": {},
   "outputs": [
    {
     "data": {
      "text/plain": [
       "['LatticeConstantC',\n",
       " 'MassSusceptibility',\n",
       " 'MagnetocrystallineAnisotropyConstantK1',\n",
       " 'MagnetocrystallineAnisotropy',\n",
       " 'GranularStructure',\n",
       " 'CellVolume',\n",
       " 'SpaceGroup',\n",
       " 'SampleGeometry',\n",
       " 'MagnetocrystallineAnisotropyConstantK2',\n",
       " 'EnergyDensity',\n",
       " 'ThinfilmMagnet',\n",
       " 'Magnet',\n",
       " 'GeometricShape',\n",
       " 'CoercivityHc',\n",
       " 'MagneticAnisotropy',\n",
       " 'AbsolutePermeability',\n",
       " 'LocalReflectivity',\n",
       " 'SwitchingFieldCoercivity',\n",
       " 'KneeField',\n",
       " 'SpontaneousMagneticPolarisation',\n",
       " 'XrayDiffractionData',\n",
       " 'InducedMagneticAnisotropy',\n",
       " 'UniaxialMagneticAnisotropy',\n",
       " 'CoercivityBHcExternal',\n",
       " 'IntrinsicMagneticProperties',\n",
       " 'AmpereSquareMetrePerKilogram',\n",
       " 'ExtrinsicMagneticProperties',\n",
       " 'CoercivityHcExternal',\n",
       " 'Grain',\n",
       " 'ShapeAnisotropyConstant',\n",
       " 'LatticeConstantB',\n",
       " 'Reflectivity',\n",
       " 'LatticeConstantA',\n",
       " 'XRDTwoThetaAngles',\n",
       " 'GrainboundaryPhase',\n",
       " 'XRDCounts',\n",
       " 'ExchangeStiffnessConstant',\n",
       " 'LineEnergy',\n",
       " 'LocalThickness',\n",
       " 'AnisotropyField',\n",
       " 'LatticeConstantBeta',\n",
       " 'UniaxialAnisotropyConstant',\n",
       " 'MagnetocrystallineAnisotropyConstantK1c',\n",
       " 'MagneticMomementPerUnitMass',\n",
       " 'MagnetocrystallineAnisotropyConstantK1c',\n",
       " 'CrystalStructure',\n",
       " 'MagneticHysteresisProperties',\n",
       " 'LocalLatticeConstantA',\n",
       " 'GranularMicrostructure',\n",
       " 'SpacerLayer',\n",
       " 'SecondaryPhase',\n",
       " 'Magnetoresistance',\n",
       " 'ExternalMagneticField',\n",
       " 'MultilayerMagnet',\n",
       " 'CoercivityBHc',\n",
       " 'GrainSizeDistribution',\n",
       " 'GrainMisalignmentAngle',\n",
       " 'MaximumEnergyProduct',\n",
       " 'CubicMagnetocrystallineAnisotropy',\n",
       " 'RectangularCuboid',\n",
       " 'LocalLatticeConstantC',\n",
       " 'KneeFieldExternal',\n",
       " 'LatticeConstantAlpha',\n",
       " 'DemagnetizingFactor',\n",
       " 'MeanGrainSize',\n",
       " 'CrystallineMagneticMaterial',\n",
       " 'MagneticMaterial',\n",
       " 'RemanentMagneticPolarization',\n",
       " 'MagnetocrystallineAnisotropyEnergy',\n",
       " 'LocalXrayDiffractionData',\n",
       " 'ShapeAnisotropy',\n",
       " 'GeometricalSize',\n",
       " 'DemagnetizingField',\n",
       " 'CrystallographicOrientation',\n",
       " 'StackingSquence',\n",
       " 'SwitchingFieldCoercivityExternal',\n",
       " 'NonMagneticMaterial',\n",
       " 'SpontaneousMagnetization',\n",
       " 'ExternalSusceptibility',\n",
       " 'EasyAxisDistributionSigma',\n",
       " 'Remanence',\n",
       " 'UniaxialMagnetocrystallineAnisotropy',\n",
       " 'MainMagneticPhase',\n",
       " 'EulerAngles',\n",
       " 'LatticeConstantGamma',\n",
       " 'AmorphousMagneticMaterial',\n",
       " 'BulkMagnet',\n",
       " 'SigmaGrainSize',\n",
       " 'InternalMagneticField',\n",
       " 'LocalCoercivity',\n",
       " 'InternalSusceptibility']"
      ]
     },
     "execution_count": 3,
     "metadata": {},
     "output_type": "execute_result"
    }
   ],
   "source": [
    "onto_class_list"
   ]
  },
  {
   "cell_type": "code",
   "execution_count": 4,
   "id": "5b0c51c3-35ae-4756-a35d-e44fd792449b",
   "metadata": {},
   "outputs": [
    {
     "data": {
      "text/plain": [
       "91"
      ]
     },
     "execution_count": 4,
     "metadata": {},
     "output_type": "execute_result"
    }
   ],
   "source": [
    "len(onto_class_list)"
   ]
  },
  {
   "cell_type": "code",
   "execution_count": 5,
   "id": "68815fc9-5d9c-4e88-9ec2-1923dc35a84b",
   "metadata": {},
   "outputs": [
    {
     "data": {
      "text/plain": [
       "{emmo.CausalStructure,\n",
       " emmo.Contrast,\n",
       " emmo.Data,\n",
       " emmo.DataByDiscretness,\n",
       " emmo.DimensionalUnit,\n",
       " emmo.DiscreteData,\n",
       " emmo.EMMO,\n",
       " emmo.Fusion,\n",
       " emmo.Item,\n",
       " emmo.Language,\n",
       " emmo.MagneticFluxDensityUnit,\n",
       " emmo.MeasurementUnit,\n",
       " emmo.MeasurementUnitByDimensionality,\n",
       " emmo.Metrological,\n",
       " emmo.MetrologicalReference,\n",
       " emmo.Perspective,\n",
       " emmo.SIDimensionalUnit,\n",
       " emmo.Symbolic,\n",
       " emmo.Tesla,\n",
       " owl.Thing}"
      ]
     },
     "execution_count": 5,
     "metadata": {},
     "output_type": "execute_result"
    }
   ],
   "source": [
    "mammos_ontology.Tesla.ancestors()"
   ]
  },
  {
   "cell_type": "code",
   "execution_count": 6,
   "id": "fba1b612-b424-4836-b45c-84b012ce8655",
   "metadata": {},
   "outputs": [
    {
     "data": {
      "text/plain": [
       "197"
      ]
     },
     "execution_count": 6,
     "metadata": {},
     "output_type": "execute_result"
    }
   ],
   "source": [
    "len(list(mammos_ontology.SIDimensionalUnit.subclasses()))"
   ]
  },
  {
   "cell_type": "code",
   "execution_count": 7,
   "id": "791cac14-addd-4f56-bbdd-e5a462ba3110",
   "metadata": {},
   "outputs": [
    {
     "data": {
      "text/plain": [
       "[locstr('An SI unit whos numerical factor in front of the product of base SI units is NOT equal to one.', 'en')]"
      ]
     },
     "execution_count": 7,
     "metadata": {},
     "output_type": "execute_result"
    }
   ],
   "source": [
    "mammos_ontology.SINonCoherentUnit.elucidation"
   ]
  },
  {
   "cell_type": "code",
   "execution_count": 8,
   "id": "0ad8a3c0-e0dc-4172-a5ff-457a4e2332cd",
   "metadata": {},
   "outputs": [
    {
     "data": {
      "text/plain": [
       "[locstr('A SI derived unit whos numerical factor in front of the product of SI base units is one.', 'en')]"
      ]
     },
     "execution_count": 8,
     "metadata": {},
     "output_type": "execute_result"
    }
   ],
   "source": [
    "mammos_ontology.SICoherentDerivedUnit.elucidation"
   ]
  },
  {
   "cell_type": "code",
   "execution_count": 9,
   "id": "042bbe33-8761-42d4-8481-00af94169435",
   "metadata": {},
   "outputs": [
    {
     "data": {
      "text/plain": [
       "[locstr('Dimensional unit with its physical dimensionality described accortind to the International System of Units (SI).', 'en')]"
      ]
     },
     "execution_count": 9,
     "metadata": {},
     "output_type": "execute_result"
    }
   ],
   "source": [
    "mammos_ontology.SIDimensionalUnit.elucidation"
   ]
  },
  {
   "cell_type": "code",
   "execution_count": 10,
   "id": "e56b16eb-1e03-42d9-85d4-c96cb31c3779",
   "metadata": {},
   "outputs": [
    {
     "data": {
      "text/plain": [
       "[locstr('The set of units provided by the SI referring to the ISQ.', 'en')]"
      ]
     },
     "execution_count": 10,
     "metadata": {},
     "output_type": "execute_result"
    }
   ],
   "source": [
    "mammos_ontology.SIUnit.elucidation"
   ]
  },
  {
   "cell_type": "code",
   "execution_count": 15,
   "id": "621a15b2-32ba-4d44-9513-b5cd73944e6a",
   "metadata": {},
   "outputs": [],
   "source": [
    "def get_si_unit(list_cls):\n",
    "    si_unit_cls = [\n",
    "        cls\n",
    "        for cls in list_cls\n",
    "        if mammos_ontology.SICoherentDerivedUnit in cls.ancestors()\n",
    "    ]\n",
    "    if not si_unit_cls:\n",
    "        si_unit_cls = [\n",
    "            cls\n",
    "            for cls in list_cls\n",
    "            if (mammos_ontology.SIDimensionalUnit in cls.ancestors())\n",
    "        ]\n",
    "    return si_unit_cls[0].ucumCode[0]"
   ]
  },
  {
   "cell_type": "code",
   "execution_count": 16,
   "id": "cf12060b-72c0-46bb-9ee0-87befd801f8a",
   "metadata": {},
   "outputs": [],
   "source": [
    "def extract_SI_units(label):\n",
    "    thing = mammos_ontology.get_by_label(label)\n",
    "    si_unit = \"\"\n",
    "    for ancestor in thing.ancestors():\n",
    "        if hasattr(ancestor, \"hasMeasurementUnit\") and ancestor.hasMeasurementUnit:\n",
    "            if sub_class := list(ancestor.hasMeasurementUnit[0].subclasses()):\n",
    "                si_unit = get_si_unit(sub_class)\n",
    "            elif label := ancestor.hasMeasurementUnit[0].ucumCode:\n",
    "                si_unit = label[0]\n",
    "            break\n",
    "    return si_unit if si_unit != \"Cel.K-1\" else \"\""
   ]
  },
  {
   "cell_type": "code",
   "execution_count": 17,
   "id": "8c814200-5f0d-4e81-af6b-c930ff4c45f2",
   "metadata": {},
   "outputs": [],
   "source": [
    "from astropy import units as u"
   ]
  },
  {
   "cell_type": "code",
   "execution_count": 18,
   "id": "adc7d9de-2a46-4540-9bec-749d0f2920c0",
   "metadata": {},
   "outputs": [
    {
     "name": "stdout",
     "output_type": "stream",
     "text": [
      "LatticeConstantC -> m\n",
      "MassSusceptibility -> m3 / kg\n",
      "MagnetocrystallineAnisotropyConstantK1 -> Pa\n",
      "MagnetocrystallineAnisotropy -> \n",
      "GranularStructure -> \n",
      "CellVolume -> m3\n",
      "SpaceGroup -> \n",
      "SampleGeometry -> \n",
      "MagnetocrystallineAnisotropyConstantK2 -> Pa\n",
      "EnergyDensity -> Pa\n",
      "ThinfilmMagnet -> \n",
      "Magnet -> \n",
      "GeometricShape -> \n",
      "CoercivityHc -> A / m\n",
      "MagneticAnisotropy -> \n",
      "AbsolutePermeability -> H / m\n",
      "LocalReflectivity -> \n",
      "SwitchingFieldCoercivity -> A / m\n",
      "KneeField -> A / m\n",
      "SpontaneousMagneticPolarisation -> T\n",
      "XrayDiffractionData -> \n",
      "InducedMagneticAnisotropy -> \n",
      "UniaxialMagneticAnisotropy -> \n",
      "CoercivityBHcExternal -> A / m\n",
      "IntrinsicMagneticProperties -> \n",
      "AmpereSquareMetrePerKilogram -> \n",
      "ExtrinsicMagneticProperties -> \n",
      "CoercivityHcExternal -> A / m\n",
      "Grain -> \n",
      "ShapeAnisotropyConstant -> Pa\n",
      "LatticeConstantB -> m\n",
      "Reflectivity -> \n",
      "LatticeConstantA -> m\n",
      "XRDTwoThetaAngles -> rad\n",
      "GrainboundaryPhase -> \n",
      "XRDCounts -> \n",
      "ExchangeStiffnessConstant -> N\n",
      "LineEnergy -> N\n",
      "LocalThickness -> m\n",
      "AnisotropyField -> A / m\n",
      "LatticeConstantBeta -> \n",
      "UniaxialAnisotropyConstant -> Pa\n",
      "MagnetocrystallineAnisotropyConstantK1c -> Pa\n",
      "MagneticMomementPerUnitMass -> \n",
      "MagnetocrystallineAnisotropyConstantK1c -> Pa\n",
      "CrystalStructure -> \n",
      "MagneticHysteresisProperties -> \n",
      "LocalLatticeConstantA -> m\n",
      "GranularMicrostructure -> \n",
      "SpacerLayer -> \n",
      "SecondaryPhase -> \n",
      "Magnetoresistance -> \n",
      "ExternalMagneticField -> A / m\n",
      "MultilayerMagnet -> \n",
      "CoercivityBHc -> A / m\n",
      "GrainSizeDistribution -> \n",
      "GrainMisalignmentAngle -> \n",
      "MaximumEnergyProduct -> Pa\n",
      "CubicMagnetocrystallineAnisotropy -> \n",
      "RectangularCuboid -> \n",
      "LocalLatticeConstantC -> m\n",
      "KneeFieldExternal -> A / m\n",
      "LatticeConstantAlpha -> \n",
      "DemagnetizingFactor -> \n",
      "MeanGrainSize -> m\n",
      "CrystallineMagneticMaterial -> \n",
      "MagneticMaterial -> \n",
      "RemanentMagneticPolarization -> T\n",
      "MagnetocrystallineAnisotropyEnergy -> Pa\n",
      "LocalXrayDiffractionData -> \n",
      "ShapeAnisotropy -> \n",
      "GeometricalSize -> \n",
      "DemagnetizingField -> A / m\n",
      "CrystallographicOrientation -> \n",
      "StackingSquence -> \n",
      "SwitchingFieldCoercivityExternal -> A / m\n",
      "NonMagneticMaterial -> \n",
      "SpontaneousMagnetization -> A / m\n",
      "ExternalSusceptibility -> \n",
      "EasyAxisDistributionSigma -> \n",
      "Remanence -> A / m\n",
      "UniaxialMagnetocrystallineAnisotropy -> \n",
      "MainMagneticPhase -> \n",
      "EulerAngles -> \n",
      "LatticeConstantGamma -> \n",
      "AmorphousMagneticMaterial -> \n",
      "BulkMagnet -> \n",
      "SigmaGrainSize -> m\n",
      "InternalMagneticField -> A / m\n",
      "LocalCoercivity -> A / m\n",
      "InternalSusceptibility -> \n"
     ]
    }
   ],
   "source": [
    "for label in onto_class_list:\n",
    "    print(\n",
    "        f\"{label} -> {u.CompositeUnit(1, u.Unit(extract_SI_units(label)).si.bases, u.Unit(extract_SI_units(label)).si.powers)}\"\n",
    "    )"
   ]
  },
  {
   "cell_type": "markdown",
   "id": "c41779b6-4a35-4158-aa67-f10d0a481f2d",
   "metadata": {},
   "source": [
    "# Problems"
   ]
  },
  {
   "cell_type": "code",
   "execution_count": null,
   "id": "953e3b09-acb2-4eb0-b82e-b09b10243b9d",
   "metadata": {},
   "outputs": [],
   "source": [
    "th1 = mammos_ontology.get_by_label(\"MagneticMomementPerUnitMass\")"
   ]
  },
  {
   "cell_type": "code",
   "execution_count": null,
   "id": "9ad169b6-d749-423e-b1fa-615debd92d60",
   "metadata": {},
   "outputs": [],
   "source": [
    "th1"
   ]
  },
  {
   "cell_type": "code",
   "execution_count": null,
   "id": "f01b0928-564e-49b0-a636-144bfd37f2a3",
   "metadata": {},
   "outputs": [],
   "source": [
    "th1.hasMeasurementUnit[0]"
   ]
  },
  {
   "cell_type": "code",
   "execution_count": null,
   "id": "e83c63b6-b8ec-4827-9d5d-5bba97884348",
   "metadata": {},
   "outputs": [],
   "source": [
    "th1.hasMeasurementUnit[0].ucumCode"
   ]
  },
  {
   "cell_type": "code",
   "execution_count": 14,
   "id": "6f144f9b-4545-46ab-bade-1ac81dd07d23",
   "metadata": {},
   "outputs": [
    {
     "data": {
      "text/plain": [
       "{emmo.CausalStructure,\n",
       " emmo.Contrast,\n",
       " emmo.Data,\n",
       " emmo.DataByDiscretness,\n",
       " emmo.DimensionalUnit,\n",
       " emmo.DiscreteData,\n",
       " emmo.EMMO,\n",
       " emmo.Fusion,\n",
       " emmo.Item,\n",
       " emmo.Language,\n",
       " emmo.MagneticFluxDensityUnit,\n",
       " emmo.MeasurementUnit,\n",
       " emmo.MeasurementUnitByDimensionality,\n",
       " emmo.Metrological,\n",
       " emmo.MetrologicalReference,\n",
       " emmo.Perspective,\n",
       " emmo.SIDimensionalUnit,\n",
       " emmo.Symbolic,\n",
       " emmo.Tesla,\n",
       " owl.Thing}"
      ]
     },
     "execution_count": 14,
     "metadata": {},
     "output_type": "execute_result"
    }
   ],
   "source": [
    "mammos_ontology.Tesla.ancestors()  # Why no mammos_ontology.SICoherentDerivedUnit?"
   ]
  },
  {
   "cell_type": "code",
   "execution_count": 15,
   "id": "947e1d0d-b9c6-491f-bfbd-199a04b7e884",
   "metadata": {},
   "outputs": [
    {
     "data": {
      "text/plain": [
       "{emmo.CausalStructure,\n",
       " emmo.Contrast,\n",
       " emmo.Data,\n",
       " emmo.DataByDiscretness,\n",
       " emmo.DimensionalUnit,\n",
       " emmo.DiscreteData,\n",
       " emmo.EMMO,\n",
       " emmo.Fusion,\n",
       " emmo.Item,\n",
       " emmo.Language,\n",
       " emmo.LengthUnit,\n",
       " emmo.MeasurementUnit,\n",
       " emmo.MeasurementUnitByDimensionality,\n",
       " emmo.Metre,\n",
       " emmo.Metrological,\n",
       " emmo.MetrologicalReference,\n",
       " emmo.Perspective,\n",
       " emmo.SIDimensionalUnit,\n",
       " emmo.Symbolic,\n",
       " owl.Thing}"
      ]
     },
     "execution_count": 15,
     "metadata": {},
     "output_type": "execute_result"
    }
   ],
   "source": [
    "mammos_ontology.Metre.ancestors()"
   ]
  }
 ],
 "metadata": {
  "kernelspec": {
   "display_name": "Python 3 (ipykernel)",
   "language": "python",
   "name": "python3"
  },
  "language_info": {
   "codemirror_mode": {
    "name": "ipython",
    "version": 3
   },
   "file_extension": ".py",
   "mimetype": "text/x-python",
   "name": "python",
   "nbconvert_exporter": "python",
   "pygments_lexer": "ipython3",
   "version": "3.13.2"
  }
 },
 "nbformat": 4,
 "nbformat_minor": 5
}
