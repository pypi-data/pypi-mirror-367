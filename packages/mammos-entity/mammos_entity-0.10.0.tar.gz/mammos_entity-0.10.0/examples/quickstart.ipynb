{
 "cells": [
  {
   "cell_type": "markdown",
   "id": "ce5c207d-8878-4869-a8db-af2d23ee44dc",
   "metadata": {},
   "source": [
    "# `mammos_entity` quickstart"
   ]
  },
  {
   "cell_type": "markdown",
   "id": "ba508907-d549-46c7-bc34-ae4e36e0bd34",
   "metadata": {},
   "source": [
    "## Some definitions\n",
    "\n",
    "- a `mammos_units.Quantity` is an object that carries a value and a unit.\n",
    "\n",
    "- a `mammos_entity.Entity` links a quantity to its definition in the [EMMO ontology](https://github.com/emmo-repo/EMMO) and the [MaMMoS additions for magnetic materials](https://github.com/MaMMoS-project/MagneticMaterialsOntology)\n"
   ]
  },
  {
   "cell_type": "code",
   "execution_count": 1,
   "id": "e51d915f-2c57-4336-93c1-5099db9e29cd",
   "metadata": {},
   "outputs": [],
   "source": [
    "import mammos_entity as me"
   ]
  },
  {
   "cell_type": "markdown",
   "id": "ee759950-d1f2-4c26-b6ff-5d94c48733af",
   "metadata": {
    "editable": true,
    "slideshow": {
     "slide_type": ""
    },
    "tags": []
   },
   "source": [
    "## Creating entities\n",
    "\n",
    "For entities that are important in MaMMoS, there are [convenient attributes](https://mammos-project.github.io/mammos/api/mammos_entity.html) to define those. For example for the saturation magnetization Ms:"
   ]
  },
  {
   "cell_type": "code",
   "execution_count": 2,
   "id": "64fa0a25-5b84-4a74-bc0c-a3c3583892e8",
   "metadata": {
    "editable": true,
    "slideshow": {
     "slide_type": ""
    },
    "tags": []
   },
   "outputs": [],
   "source": [
    "Ms = me.Ms(800e3)  # defines Ms = 8e5 A/m  (default units are SI, i.e. A/m here)"
   ]
  },
  {
   "cell_type": "code",
   "execution_count": 3,
   "id": "b606c6ef-ed6f-4c44-a08b-cd786c9a8fe7",
   "metadata": {},
   "outputs": [
    {
     "data": {
      "text/html": [
       "<samp>SpontaneousMagnetization(value=800000.0,&nbsp;unit=A&nbsp;/&nbsp;m)</samp>"
      ],
      "text/plain": [
       "Entity(ontology_label='SpontaneousMagnetization', value=np.float64(800000.0), unit='A / m')"
      ]
     },
     "execution_count": 3,
     "metadata": {},
     "output_type": "execute_result"
    }
   ],
   "source": [
    "Ms"
   ]
  },
  {
   "cell_type": "markdown",
   "id": "5dd8e9f8-f3ea-4d67-be73-d83394b8f7eb",
   "metadata": {
    "editable": true,
    "slideshow": {
     "slide_type": ""
    },
    "tags": []
   },
   "source": [
    "If no units are provided, then the ontology units are used, such as `A/m` in the example above. These units are SI units typically without numerical prefactors (such as kilo, milli, etc.)\n",
    "\n",
    "If units are provided, these are compared with the units expected for that entity. An error is raised if they do not match. This is good practice for extra clarity."
   ]
  },
  {
   "cell_type": "code",
   "execution_count": 4,
   "id": "361a9784-08b1-4684-afd0-9a4ef8217a7d",
   "metadata": {
    "editable": true,
    "slideshow": {
     "slide_type": ""
    },
    "tags": []
   },
   "outputs": [
    {
     "data": {
      "text/html": [
       "<samp>SpontaneousMagnetization(value=800000.0,&nbsp;unit=A&nbsp;/&nbsp;m)</samp>"
      ],
      "text/plain": [
       "Entity(ontology_label='SpontaneousMagnetization', value=np.float64(800000.0), unit='A / m')"
      ]
     },
     "execution_count": 4,
     "metadata": {},
     "output_type": "execute_result"
    }
   ],
   "source": [
    "M1 = me.Ms(800e3, \"A/m\")\n",
    "M1"
   ]
  },
  {
   "cell_type": "markdown",
   "id": "2797ccd5-e92d-4eb7-ae81-7311c20e0c83",
   "metadata": {
    "editable": true,
    "slideshow": {
     "slide_type": ""
    },
    "tags": []
   },
   "source": [
    "Providing units can be also useful, if numerical prefactors are used (such as kilo):"
   ]
  },
  {
   "cell_type": "code",
   "execution_count": 5,
   "id": "44b99b71-d47f-4999-8869-a3d3f7d6d6ed",
   "metadata": {
    "editable": true,
    "slideshow": {
     "slide_type": ""
    },
    "tags": []
   },
   "outputs": [
    {
     "data": {
      "text/html": [
       "<samp>SpontaneousMagnetization(value=800.0,&nbsp;unit=kA&nbsp;/&nbsp;m)</samp>"
      ],
      "text/plain": [
       "Entity(ontology_label='SpontaneousMagnetization', value=np.float64(800.0), unit='kA / m')"
      ]
     },
     "execution_count": 5,
     "metadata": {},
     "output_type": "execute_result"
    }
   ],
   "source": [
    "M2 = me.Ms(800, \"kA/m\")\n",
    "M2"
   ]
  },
  {
   "cell_type": "code",
   "execution_count": 6,
   "id": "89857bdb-200e-48e0-a6c7-4cab8a93bbec",
   "metadata": {
    "editable": true,
    "slideshow": {
     "slide_type": ""
    },
    "tags": []
   },
   "outputs": [
    {
     "data": {
      "text/plain": [
       "True"
      ]
     },
     "execution_count": 6,
     "metadata": {},
     "output_type": "execute_result"
    }
   ],
   "source": [
    "M1 == M2"
   ]
  },
  {
   "cell_type": "markdown",
   "id": "c6521892-928c-4735-8d6d-dda3de67d6ed",
   "metadata": {
    "editable": true,
    "slideshow": {
     "slide_type": ""
    },
    "tags": []
   },
   "source": [
    "We can create an entity from a Quantity as well:"
   ]
  },
  {
   "cell_type": "code",
   "execution_count": 7,
   "id": "682a8b31-c11b-4b7a-a354-45ce6ce24e19",
   "metadata": {
    "editable": true,
    "slideshow": {
     "slide_type": ""
    },
    "tags": []
   },
   "outputs": [
    {
     "data": {
      "text/latex": [
       "$800 \\; \\mathrm{\\frac{kA}{m}}$"
      ],
      "text/plain": [
       "<Quantity 800. kA / m>"
      ]
     },
     "execution_count": 7,
     "metadata": {},
     "output_type": "execute_result"
    }
   ],
   "source": [
    "import mammos_units as u\n",
    "\n",
    "Ms_quantity = 800 * u.kA / u.m\n",
    "Ms_quantity"
   ]
  },
  {
   "cell_type": "code",
   "execution_count": 8,
   "id": "29ed6fcc-7b0d-4d3d-8176-2f29ee1038e9",
   "metadata": {
    "editable": true,
    "slideshow": {
     "slide_type": ""
    },
    "tags": []
   },
   "outputs": [
    {
     "data": {
      "text/html": [
       "<samp>SpontaneousMagnetization(value=800.0,&nbsp;unit=kA&nbsp;/&nbsp;m)</samp>"
      ],
      "text/plain": [
       "Entity(ontology_label='SpontaneousMagnetization', value=np.float64(800.0), unit='kA / m')"
      ]
     },
     "execution_count": 8,
     "metadata": {},
     "output_type": "execute_result"
    }
   ],
   "source": [
    "me.Ms(Ms_quantity)"
   ]
  },
  {
   "cell_type": "markdown",
   "id": "49bdf7f4-859d-44ee-939d-a6aaf1c6e38c",
   "metadata": {
    "editable": true,
    "slideshow": {
     "slide_type": ""
    },
    "tags": []
   },
   "source": [
    "If we like to express spontaneous magnetization in Tesla, we can convert it to the required A/m. To allow that conversion we must explicitely enable the `magnetic_flux_field` equivalency ($B=\\mu_0H$):"
   ]
  },
  {
   "cell_type": "code",
   "execution_count": 9,
   "id": "18a41a69-2b83-4b96-aeeb-0dfa4f65adc6",
   "metadata": {
    "editable": true,
    "slideshow": {
     "slide_type": ""
    },
    "tags": []
   },
   "outputs": [
    {
     "data": {
      "text/html": [
       "<samp>SpontaneousMagnetization(value=954929.6580315315,&nbsp;unit=A&nbsp;/&nbsp;m)</samp>"
      ],
      "text/plain": [
       "Entity(ontology_label='SpontaneousMagnetization', value=np.float64(954929.6580315315), unit='A / m')"
      ]
     },
     "execution_count": 9,
     "metadata": {},
     "output_type": "execute_result"
    }
   ],
   "source": [
    "# enable implicit conversion between A/m and T in the rest of the notebook:\n",
    "u.set_enabled_equivalencies(u.magnetic_flux_field())\n",
    "\n",
    "a = 1.2 * u.T  # Quantity in Tesla\n",
    "\n",
    "Ms = me.Ms(a.to(\"A/m\"))  # Convert Quantity to A/m and create entity\n",
    "Ms"
   ]
  },
  {
   "cell_type": "markdown",
   "id": "a7cfcc8b-e871-4f4c-a491-088e6651275a",
   "metadata": {},
   "source": [
    "As a cross-check we can access the quantity attribute and convert that back to Tesla. This operation does not modify `Ms`."
   ]
  },
  {
   "cell_type": "code",
   "execution_count": 10,
   "id": "1d8672d3",
   "metadata": {},
   "outputs": [
    {
     "data": {
      "text/latex": [
       "$1.2 \\; \\mathrm{T}$"
      ],
      "text/plain": [
       "<Quantity 1.2 T>"
      ]
     },
     "execution_count": 10,
     "metadata": {},
     "output_type": "execute_result"
    }
   ],
   "source": [
    "Ms.q.to(\"T\")"
   ]
  },
  {
   "cell_type": "markdown",
   "id": "c6d18ebd-8335-488b-b009-ce969fd6ecea",
   "metadata": {},
   "source": [
    "Initializing with incompatible units fails with an error. In particular, implicit conversion via equivalencies is not supported. Convert to the required units first, as shown above."
   ]
  },
  {
   "cell_type": "code",
   "execution_count": 11,
   "id": "ba59bfdc-a785-4e21-ada1-cde2195d601e",
   "metadata": {
    "editable": true,
    "slideshow": {
     "slide_type": ""
    },
    "tags": [
     "raises-exception"
    ]
   },
   "outputs": [
    {
     "ename": "UnitConversionError",
     "evalue": "The unit 'T' is not equivalent to the unit of SpontaneousMagnetization 'A / m'",
     "output_type": "error",
     "traceback": [
      "\u001b[31m---------------------------------------------------------------------------\u001b[39m",
      "\u001b[31mUnitConversionError\u001b[39m                       Traceback (most recent call last)",
      "\u001b[36mCell\u001b[39m\u001b[36m \u001b[39m\u001b[32mIn[11]\u001b[39m\u001b[32m, line 1\u001b[39m\n\u001b[32m----> \u001b[39m\u001b[32m1\u001b[39m \u001b[43mme\u001b[49m\u001b[43m.\u001b[49m\u001b[43mMs\u001b[49m\u001b[43m(\u001b[49m\u001b[32;43m1.2\u001b[39;49m\u001b[43m,\u001b[49m\u001b[43m \u001b[49m\u001b[33;43m\"\u001b[39;49m\u001b[33;43mT\u001b[39;49m\u001b[33;43m\"\u001b[39;49m\u001b[43m)\u001b[49m  \u001b[38;5;66;03m# Tesla not compatible with A/m\u001b[39;00m\n",
      "\u001b[36mFile \u001b[39m\u001b[32m~/repos/mammos-devtools/packages/mammos-entity/src/mammos_entity/_entities.py:217\u001b[39m, in \u001b[36mMs\u001b[39m\u001b[34m(value, unit)\u001b[39m\n\u001b[32m    202\u001b[39m \u001b[38;5;28;01mdef\u001b[39;00m\u001b[38;5;250m \u001b[39m\u001b[34mMs\u001b[39m(\n\u001b[32m    203\u001b[39m     value: \u001b[38;5;28mint\u001b[39m | \u001b[38;5;28mfloat\u001b[39m | numpy.typing.ArrayLike = \u001b[32m0\u001b[39m, unit: \u001b[38;5;28;01mNone\u001b[39;00m | \u001b[38;5;28mstr\u001b[39m = \u001b[38;5;28;01mNone\u001b[39;00m\n\u001b[32m    204\u001b[39m ) -> mammos_entity.Entity:\n\u001b[32m    205\u001b[39m \u001b[38;5;250m    \u001b[39m\u001b[33;03m\"\"\"Create an Entity representing the spontaneous magnetization (Ms).\u001b[39;00m\n\u001b[32m    206\u001b[39m \n\u001b[32m    207\u001b[39m \u001b[33;03m    Args:\u001b[39;00m\n\u001b[32m   (...)\u001b[39m\u001b[32m    215\u001b[39m \n\u001b[32m    216\u001b[39m \u001b[33;03m    \"\"\"\u001b[39;00m\n\u001b[32m--> \u001b[39m\u001b[32m217\u001b[39m     \u001b[38;5;28;01mreturn\u001b[39;00m \u001b[43mEntity\u001b[49m\u001b[43m(\u001b[49m\u001b[33;43m\"\u001b[39;49m\u001b[33;43mSpontaneousMagnetization\u001b[39;49m\u001b[33;43m\"\u001b[39;49m\u001b[43m,\u001b[49m\u001b[43m \u001b[49m\u001b[43mvalue\u001b[49m\u001b[43m,\u001b[49m\u001b[43m \u001b[49m\u001b[43munit\u001b[49m\u001b[43m)\u001b[49m\n",
      "\u001b[36mFile \u001b[39m\u001b[32m~/repos/mammos-devtools/packages/mammos-entity/src/mammos_entity/_base.py:151\u001b[39m, in \u001b[36mEntity.__init__\u001b[39m\u001b[34m(self, ontology_label, value, unit)\u001b[39m\n\u001b[32m    149\u001b[39m     \u001b[38;5;28;01mwith\u001b[39;00m u.set_enabled_equivalencies(\u001b[38;5;28;01mNone\u001b[39;00m):\n\u001b[32m    150\u001b[39m         \u001b[38;5;28;01mif\u001b[39;00m \u001b[38;5;129;01mnot\u001b[39;00m u.Unit(si_unit).is_equivalent(unit):\n\u001b[32m--> \u001b[39m\u001b[32m151\u001b[39m             \u001b[38;5;28;01mraise\u001b[39;00m u.UnitConversionError(\n\u001b[32m    152\u001b[39m                 \u001b[33mf\u001b[39m\u001b[33m\"\u001b[39m\u001b[33mThe unit \u001b[39m\u001b[33m'\u001b[39m\u001b[38;5;132;01m{\u001b[39;00munit\u001b[38;5;132;01m}\u001b[39;00m\u001b[33m'\u001b[39m\u001b[33m is not equivalent to the unit of\u001b[39m\u001b[33m\"\u001b[39m\n\u001b[32m    153\u001b[39m                 \u001b[33mf\u001b[39m\u001b[33m\"\u001b[39m\u001b[33m \u001b[39m\u001b[38;5;132;01m{\u001b[39;00montology_label\u001b[38;5;132;01m}\u001b[39;00m\u001b[33m \u001b[39m\u001b[33m'\u001b[39m\u001b[38;5;132;01m{\u001b[39;00mu.Unit(si_unit)\u001b[38;5;132;01m}\u001b[39;00m\u001b[33m'\u001b[39m\u001b[33m\"\u001b[39m\n\u001b[32m    154\u001b[39m             )\n\u001b[32m    155\u001b[39m \u001b[38;5;28;01melif\u001b[39;00m (si_unit \u001b[38;5;129;01mis\u001b[39;00m \u001b[38;5;129;01mnot\u001b[39;00m \u001b[38;5;28;01mNone\u001b[39;00m) \u001b[38;5;129;01mand\u001b[39;00m (unit \u001b[38;5;129;01mis\u001b[39;00m \u001b[38;5;28;01mNone\u001b[39;00m):\n\u001b[32m    156\u001b[39m     \u001b[38;5;28;01mwith\u001b[39;00m u.add_enabled_aliases({\u001b[33m\"\u001b[39m\u001b[33mCel\u001b[39m\u001b[33m\"\u001b[39m: u.K, \u001b[33m\"\u001b[39m\u001b[33mmCel\u001b[39m\u001b[33m\"\u001b[39m: u.K}):\n",
      "\u001b[31mUnitConversionError\u001b[39m: The unit 'T' is not equivalent to the unit of SpontaneousMagnetization 'A / m'"
     ]
    }
   ],
   "source": [
    "me.Ms(1.2, \"T\")  # Tesla not compatible with A/m"
   ]
  },
  {
   "cell_type": "markdown",
   "id": "0c605428",
   "metadata": {},
   "source": [
    "For more details about unit conversion and equivalencies refer to the documentation of [mammos-units](https://mammos-project.github.io/mammos/examples/mammos-units/example.html#Equivalency)."
   ]
  },
  {
   "cell_type": "markdown",
   "id": "675b737f-ec11-4a72-a6c1-526d3a1d85f6",
   "metadata": {
    "editable": true,
    "slideshow": {
     "slide_type": ""
    },
    "tags": []
   },
   "source": [
    "## Access to ontology\n",
    "\n",
    "Each entity object knows its label in the ontology:"
   ]
  },
  {
   "cell_type": "code",
   "execution_count": 12,
   "id": "579387e3-2edc-498e-973f-7501e96c9e21",
   "metadata": {
    "editable": true,
    "slideshow": {
     "slide_type": ""
    },
    "tags": []
   },
   "outputs": [
    {
     "data": {
      "text/plain": [
       "'SpontaneousMagnetization'"
      ]
     },
     "execution_count": 12,
     "metadata": {},
     "output_type": "execute_result"
    }
   ],
   "source": [
    "Ms.ontology_label"
   ]
  },
  {
   "cell_type": "markdown",
   "id": "4c1fc20e-55bf-47ee-91d6-09ccc6e852ce",
   "metadata": {
    "editable": true,
    "slideshow": {
     "slide_type": ""
    },
    "tags": []
   },
   "source": [
    "The ontology attribute links to an [owlready2](https://github.com/pwin/owlready2) object created by the [EMMOntoPy](https://emmo-repo.github.io/EMMOntoPy/stable/) package."
   ]
  },
  {
   "cell_type": "markdown",
   "id": "4206aba4-5070-4c24-b15e-4e1eb4cc251b",
   "metadata": {},
   "source": [
    "When saving data to a file, the attribute `ontology_label_with_iri` might be useful to save in the metadata as it returns a string containing the ontology label together with the unique identifier of the ontology entry (IRI is the Internationalized Resource Identifier)."
   ]
  },
  {
   "cell_type": "code",
   "execution_count": 13,
   "id": "b562c07c-f4cd-49fb-8994-522af7bdb81f",
   "metadata": {},
   "outputs": [
    {
     "data": {
      "text/plain": [
       "'SpontaneousMagnetization https://w3id.org/emmo/domain/magnetic_material#EMMO_032731f8-874d-5efb-9c9d-6dafaa17ef25'"
      ]
     },
     "execution_count": 13,
     "metadata": {},
     "output_type": "execute_result"
    }
   ],
   "source": [
    "Ms.ontology_label_with_iri"
   ]
  },
  {
   "cell_type": "markdown",
   "id": "6cb4fcd0-becb-472a-99ef-a8bf8bc5985a",
   "metadata": {},
   "source": [
    "We can use all attributes of the ontology object through `Ms.ontology`:"
   ]
  },
  {
   "cell_type": "code",
   "execution_count": 14,
   "id": "827c6af2-3435-4905-a791-755b9fa6e9c1",
   "metadata": {
    "editable": true,
    "slideshow": {
     "slide_type": ""
    },
    "tags": []
   },
   "outputs": [
    {
     "data": {
      "text/plain": [
       "{'prefLabel': [locstr('SpontaneousMagnetization', 'en')],\n",
       " 'altLabel': ['Ms'],\n",
       " 'elucidation': [locstr('The spontaneous magnetization, Ms, of a ferromagnet is the result\\nof alignment of the magnetic moments of individual atoms. Ms exists\\nwithin a domain of a ferromagnet.', 'en')],\n",
       " 'IECEntry': ['https://www.electropedia.org/iev/iev.nsf/display?openform&ievref=221-02-41'],\n",
       " 'wikipediaReference': ['https://en.wikipedia.org/wiki/Spontaneous_magnetization']}"
      ]
     },
     "execution_count": 14,
     "metadata": {},
     "output_type": "execute_result"
    }
   ],
   "source": [
    "Ms.ontology.get_annotations()"
   ]
  },
  {
   "cell_type": "code",
   "execution_count": 15,
   "id": "e0beecfe-ffd3-4477-8594-c82552281a92",
   "metadata": {
    "editable": true,
    "slideshow": {
     "slide_type": ""
    },
    "tags": []
   },
   "outputs": [
    {
     "data": {
      "text/plain": [
       "{magnetic_material.wikipediaReference,\n",
       " emmo.elucidation,\n",
       " core.altLabel,\n",
       " core.prefLabel,\n",
       " magnetic_material.IECEntry,\n",
       " emmo.hasMeasurementUnit}"
      ]
     },
     "execution_count": 15,
     "metadata": {},
     "output_type": "execute_result"
    }
   ],
   "source": [
    "Ms.ontology.get_class_properties()"
   ]
  },
  {
   "cell_type": "code",
   "execution_count": 16,
   "id": "791b4d91-b2ea-41a8-8a9b-69bd251b302c",
   "metadata": {
    "editable": true,
    "slideshow": {
     "slide_type": ""
    },
    "tags": []
   },
   "outputs": [
    {
     "name": "stdout",
     "output_type": "stream",
     "text": [
      "The spontaneous magnetization, Ms, of a ferromagnet is the result\n",
      "of alignment of the magnetic moments of individual atoms. Ms exists\n",
      "within a domain of a ferromagnet.\n"
     ]
    }
   ],
   "source": [
    "print(Ms.ontology.elucidation[0])"
   ]
  },
  {
   "cell_type": "markdown",
   "id": "de94393b-a9c0-4cc3-802b-946fce9a8e24",
   "metadata": {
    "editable": true,
    "slideshow": {
     "slide_type": ""
    },
    "tags": []
   },
   "source": [
    "## Entities contain Quantities"
   ]
  },
  {
   "cell_type": "markdown",
   "id": "6ca26a9d-7645-4193-be70-f9f9af930564",
   "metadata": {
    "editable": true,
    "slideshow": {
     "slide_type": ""
    },
    "tags": []
   },
   "source": [
    "Each entity has a `quantity` attribute containing the `mammos_units.Quantity` object. See [mammos_units examples](https://mammos-project.github.io/mammos/examples/mammos-units/index.html) for details."
   ]
  },
  {
   "cell_type": "code",
   "execution_count": 17,
   "id": "632171ed-70e4-42f4-9f72-4c1dfc424fb4",
   "metadata": {
    "editable": true,
    "slideshow": {
     "slide_type": ""
    },
    "tags": []
   },
   "outputs": [
    {
     "data": {
      "text/latex": [
       "$954929.66 \\; \\mathrm{\\frac{A}{m}}$"
      ],
      "text/plain": [
       "<Quantity 954929.65803153 A / m>"
      ]
     },
     "execution_count": 17,
     "metadata": {},
     "output_type": "execute_result"
    }
   ],
   "source": [
    "Ms.quantity"
   ]
  },
  {
   "cell_type": "markdown",
   "id": "a315793c-b033-46a2-a58d-817e194251d7",
   "metadata": {},
   "source": [
    "There is also the shorthand `q` for the `quantity` attribute:"
   ]
  },
  {
   "cell_type": "code",
   "execution_count": 18,
   "id": "e2cd375a",
   "metadata": {},
   "outputs": [
    {
     "data": {
      "text/latex": [
       "$954929.66 \\; \\mathrm{\\frac{A}{m}}$"
      ],
      "text/plain": [
       "<Quantity 954929.65803153 A / m>"
      ]
     },
     "execution_count": 18,
     "metadata": {},
     "output_type": "execute_result"
    }
   ],
   "source": [
    "Ms.q"
   ]
  },
  {
   "cell_type": "markdown",
   "id": "3d4f3cbf-a7ef-444d-b7d6-0a87a397bea6",
   "metadata": {},
   "source": [
    "The attributes `value` and `unit` provide direct access to value and unit of the quantity:"
   ]
  },
  {
   "cell_type": "code",
   "execution_count": 19,
   "id": "36fb7fda-524a-417d-bff4-00fd82249956",
   "metadata": {
    "editable": true,
    "slideshow": {
     "slide_type": ""
    },
    "tags": []
   },
   "outputs": [
    {
     "data": {
      "text/plain": [
       "np.float64(954929.6580315315)"
      ]
     },
     "execution_count": 19,
     "metadata": {},
     "output_type": "execute_result"
    }
   ],
   "source": [
    "Ms.value"
   ]
  },
  {
   "cell_type": "code",
   "execution_count": 20,
   "id": "401b885a-5bd8-48c2-8a5b-abfff441ecdf",
   "metadata": {
    "editable": true,
    "slideshow": {
     "slide_type": ""
    },
    "tags": []
   },
   "outputs": [
    {
     "data": {
      "text/latex": [
       "$\\mathrm{\\frac{A}{m}}$"
      ],
      "text/plain": [
       "Unit(\"A / m\")"
      ]
     },
     "execution_count": 20,
     "metadata": {},
     "output_type": "execute_result"
    }
   ],
   "source": [
    "Ms.unit"
   ]
  },
  {
   "cell_type": "markdown",
   "id": "cf75bb85-7315-47d7-bba7-1d6904e7995c",
   "metadata": {
    "editable": true,
    "slideshow": {
     "slide_type": ""
    },
    "tags": []
   },
   "source": [
    "Entities do not support numerical operations. To perform these operations, we first need to extract the quantity:"
   ]
  },
  {
   "cell_type": "code",
   "execution_count": 21,
   "id": "c30dc86d-3aa4-40ab-870b-67edacf5e668",
   "metadata": {
    "editable": true,
    "slideshow": {
     "slide_type": ""
    },
    "tags": []
   },
   "outputs": [
    {
     "data": {
      "text/latex": [
       "$9.1189065 \\times 10^{11} \\; \\mathrm{\\frac{A^{2}}{m^{2}}}$"
      ],
      "text/plain": [
       "<Quantity 9.11890652e+11 A2 / m2>"
      ]
     },
     "execution_count": 21,
     "metadata": {},
     "output_type": "execute_result"
    }
   ],
   "source": [
    "Ms.q**2"
   ]
  },
  {
   "cell_type": "code",
   "execution_count": 22,
   "id": "e876be2f",
   "metadata": {},
   "outputs": [
    {
     "data": {
      "text/latex": [
       "$954.92966 \\; \\mathrm{\\frac{kA}{m}}$"
      ],
      "text/plain": [
       "<Quantity 954.92965803 kA / m>"
      ]
     },
     "execution_count": 22,
     "metadata": {},
     "output_type": "execute_result"
    }
   ],
   "source": [
    "Ms.quantity.to(\"kA/m\")"
   ]
  },
  {
   "cell_type": "code",
   "execution_count": 23,
   "id": "f31e294a",
   "metadata": {},
   "outputs": [
    {
     "data": {
      "text/latex": [
       "$1.2 \\; \\mathrm{T}$"
      ],
      "text/plain": [
       "<Quantity 1.2 T>"
      ]
     },
     "execution_count": 23,
     "metadata": {},
     "output_type": "execute_result"
    }
   ],
   "source": [
    "Ms.quantity.to(\"T\")"
   ]
  },
  {
   "cell_type": "markdown",
   "id": "b6e913fe-9878-490b-b54e-09d0fe3cf2b0",
   "metadata": {
    "editable": true,
    "slideshow": {
     "slide_type": ""
    },
    "tags": []
   },
   "source": [
    "## Defining vector entities (Example Zeeman field)"
   ]
  },
  {
   "cell_type": "code",
   "execution_count": 24,
   "id": "e2154132-777d-44ec-9797-683fdcf79d64",
   "metadata": {
    "editable": true,
    "slideshow": {
     "slide_type": ""
    },
    "tags": []
   },
   "outputs": [
    {
     "data": {
      "text/html": [
       "<samp>ExternalMagneticField(value=[10000.&nbsp;10000.&nbsp;10000.],&nbsp;unit=A&nbsp;/&nbsp;m)</samp>"
      ],
      "text/plain": [
       "Entity(ontology_label='ExternalMagneticField', value=array([10000., 10000., 10000.]), unit='A / m')"
      ]
     },
     "execution_count": 24,
     "metadata": {},
     "output_type": "execute_result"
    }
   ],
   "source": [
    "H = me.H([1e4, 1e4, 1e4], \"A/m\")\n",
    "H"
   ]
  },
  {
   "cell_type": "code",
   "execution_count": 25,
   "id": "561dd831-4367-4d80-8416-6f61c7a82d21",
   "metadata": {
    "editable": true,
    "slideshow": {
     "slide_type": ""
    },
    "tags": []
   },
   "outputs": [
    {
     "data": {
      "text/plain": [
       "magnetic_material.ExternalMagneticField"
      ]
     },
     "execution_count": 25,
     "metadata": {},
     "output_type": "execute_result"
    }
   ],
   "source": [
    "H.ontology"
   ]
  },
  {
   "cell_type": "code",
   "execution_count": 26,
   "id": "bd6389fc-2f74-4ade-ad2d-bf4448c03974",
   "metadata": {
    "editable": true,
    "slideshow": {
     "slide_type": ""
    },
    "tags": []
   },
   "outputs": [
    {
     "name": "stdout",
     "output_type": "stream",
     "text": [
      "The external field H′, acting on a sample that is produced by\n",
      "electric currents or the stray field of magnets outside the sample\n",
      "volume, is often called the applied field.\n"
     ]
    }
   ],
   "source": [
    "print(H.ontology.elucidation[0])"
   ]
  },
  {
   "cell_type": "markdown",
   "id": "dfad3171-82d0-455e-aea7-4ec3eec94ca5",
   "metadata": {
    "editable": true,
    "slideshow": {
     "slide_type": ""
    },
    "tags": []
   },
   "source": [
    "## Does `mammos_entity` not provide your preferred entity?"
   ]
  },
  {
   "cell_type": "markdown",
   "id": "b5db6110-f7d0-4d84-b928-e8143b4f5d28",
   "metadata": {
    "editable": true,
    "slideshow": {
     "slide_type": ""
    },
    "tags": []
   },
   "source": [
    "The list of convenience attributes is at \n",
    "https://mammos-project.github.io/mammos/api/mammos_entity.html\n",
    "\n",
    "If the desired entity is not available, we can search the EMMO ontology (including the `magnetic_material_mammos` additions), for example for entity labels containing the string \"Magnetization\":"
   ]
  },
  {
   "cell_type": "code",
   "execution_count": 27,
   "id": "e30ea9fe-23bb-424e-ae8d-2cd6b789be71",
   "metadata": {
    "editable": true,
    "scrolled": true,
    "slideshow": {
     "slide_type": ""
    },
    "tags": []
   },
   "outputs": [
    {
     "data": {
      "text/plain": [
       "{emmo.ElectricDisplacementFieldUnit,\n",
       " emmo.ElectricFieldStrength,\n",
       " emmo.ElectricFieldStrengthUnit,\n",
       " emmo.MagneticFieldStrength,\n",
       " emmo.MagneticFieldStrengthUnit,\n",
       " magnetic_material.AnisotropyField,\n",
       " magnetic_material.DemagnetizingField,\n",
       " magnetic_material.ExternalMagneticField,\n",
       " magnetic_material.InternalMagneticField,\n",
       " magnetic_material.KneeField,\n",
       " magnetic_material.KneeFieldExternal,\n",
       " magnetic_material.SwitchingFieldCoercivity,\n",
       " magnetic_material.SwitchingFieldCoercivityExternal}"
      ]
     },
     "execution_count": 27,
     "metadata": {},
     "output_type": "execute_result"
    }
   ],
   "source": [
    "me.mammos_ontology.get_by_label_all(\"*Field*\")"
   ]
  },
  {
   "cell_type": "markdown",
   "id": "22434934-8e0d-47d6-8f3c-022460f58163",
   "metadata": {
    "editable": true,
    "slideshow": {
     "slide_type": ""
    },
    "tags": []
   },
   "source": [
    "Once identified the right label, we create an entity like this:"
   ]
  },
  {
   "cell_type": "code",
   "execution_count": 28,
   "id": "2b8226c8-a13e-436e-90db-3e5f1665a48d",
   "metadata": {
    "editable": true,
    "slideshow": {
     "slide_type": ""
    },
    "tags": []
   },
   "outputs": [
    {
     "data": {
      "text/html": [
       "<samp>ElectricFieldStrength(value=230.0,&nbsp;unit=V&nbsp;/&nbsp;m)</samp>"
      ],
      "text/plain": [
       "Entity(ontology_label='ElectricFieldStrength', value=np.float64(230.0), unit='V / m')"
      ]
     },
     "execution_count": 28,
     "metadata": {},
     "output_type": "execute_result"
    }
   ],
   "source": [
    "me.Entity(\"ElectricFieldStrength\", value=230)"
   ]
  }
 ],
 "metadata": {
  "kernelspec": {
   "display_name": "Python 3 (ipykernel)",
   "language": "python",
   "name": "python3"
  },
  "language_info": {
   "codemirror_mode": {
    "name": "ipython",
    "version": 3
   },
   "file_extension": ".py",
   "mimetype": "text/x-python",
   "name": "python",
   "nbconvert_exporter": "python",
   "pygments_lexer": "ipython3",
   "version": "3.11.13"
  }
 },
 "nbformat": 4,
 "nbformat_minor": 5
}
