{
 "cells": [
  {
   "cell_type": "markdown",
   "id": "67f4c884-41ea-42fa-b645-8036440fa5c9",
   "metadata": {},
   "source": [
    "# `mammos_entity.io`: reading and writing entities"
   ]
  },
  {
   "cell_type": "code",
   "execution_count": 1,
   "id": "d6836737-77d8-484b-ae9e-d0734ded6006",
   "metadata": {},
   "outputs": [],
   "source": [
    "from pathlib import Path\n",
    "\n",
    "import mammos_entity as me\n",
    "import mammos_units as u"
   ]
  },
  {
   "cell_type": "markdown",
   "id": "33d3fe30-d45e-40c1-b08b-dbaa40da6520",
   "metadata": {},
   "source": [
    "## Supported file format\n",
    "\n",
    "`mammos_entity.io` can read and write csv and yaml files containing entity like objects (entities, quantities, or other array-like data). For entities and quantities information about ontology and units are included as additional metadata. Details of the file formats are explained in the [`mammos-entity.io` api reference](https://mammos-project.github.io/mammos/api/mammos_entity.io.html).\n",
    "\n",
    "We create some artificial data that we can write to file:"
   ]
  },
  {
   "cell_type": "code",
   "execution_count": 2,
   "id": "cd1c55d1-3ddf-4c5f-9fac-de4e7a339a5a",
   "metadata": {},
   "outputs": [],
   "source": [
    "Ms = me.Ms([600, 650, 700], \"kA/m\")\n",
    "T = me.T([1, 2, 3])\n",
    "theta_angle = [0, 0.5, 0.7] * u.rad\n",
    "demag_factor = me.Entity(\"DemagnetizingFactor\", [1 / 3, 1 / 3, 1 / 3])\n",
    "comments = [\"Some comment\", \"Some other comment\", \"A third comment\"]"
   ]
  },
  {
   "attachments": {},
   "cell_type": "markdown",
   "id": "517b0792-f062-45a8-8814-b5e6e6006bcf",
   "metadata": {},
   "source": [
    "## MaMMoS CSV\n",
    "\n",
    "### Writing\n",
    "We can write data to a csv file as shown in the following cell. Names of the keyword arguments determine column names in the file."
   ]
  },
  {
   "cell_type": "code",
   "execution_count": 3,
   "id": "60d3cadf-d780-49e9-97df-3e9a28806803",
   "metadata": {},
   "outputs": [],
   "source": [
    "me.io.entities_to_file(\n",
    "    \"example.csv\",\n",
    "    \"Example csv file.\\nThe description can have multiple lines.\\n\\nLines can also be empty.\",\n",
    "    Ms=Ms,\n",
    "    T=T,\n",
    "    angle=theta_angle,\n",
    "    demag_factor=demag_factor,\n",
    "    comment=comments,\n",
    ")"
   ]
  },
  {
   "cell_type": "markdown",
   "id": "51125d87-9b81-4ab1-8780-1ef2c1a6f344",
   "metadata": {},
   "source": [
    "This has produced the following file:"
   ]
  },
  {
   "cell_type": "code",
   "execution_count": 4,
   "id": "3e980ad9-ea3b-4eae-879d-c3c9a0fb07f0",
   "metadata": {},
   "outputs": [
    {
     "name": "stdout",
     "output_type": "stream",
     "text": [
      "#mammos csv v2\n",
      "#----------------------------------------\n",
      "# Example csv file.\n",
      "# The description can have multiple lines.\n",
      "# \n",
      "# Lines can also be empty.\n",
      "#----------------------------------------\n",
      "#SpontaneousMagnetization,ThermodynamicTemperature,,DemagnetizingFactor,\n",
      "#https://w3id.org/emmo/domain/magnetic_material#EMMO_032731f8-874d-5efb-9c9d-6dafaa17ef25,https://w3id.org/emmo#EMMO_affe07e4_e9bc_4852_86c6_69e26182a17f,,https://w3id.org/emmo/domain/magnetic_material#EMMO_0f2b5cc9-d00a-5030-8448-99ba6b7dfd1e,\n",
      "#kA / m,K,rad,,\n",
      "Ms,T,angle,demag_factor,comment\n",
      "600.0,1.0,0.0,0.3333333333333333,Some comment\n",
      "650.0,2.0,0.5,0.3333333333333333,Some other comment\n",
      "700.0,3.0,0.7,0.3333333333333333,A third comment\n",
      "\n"
     ]
    }
   ],
   "source": [
    "print(Path(\"example.csv\").read_text())"
   ]
  },
  {
   "cell_type": "markdown",
   "id": "07ac51d4-9f89-4c41-945b-2701e04e857b",
   "metadata": {},
   "source": [
    "### Reading\n",
    "We can read it back in and get a container object (called EntityCollection) containing all columns:"
   ]
  },
  {
   "cell_type": "code",
   "execution_count": 5,
   "id": "ab4a4963-37a3-4578-8a8e-14817582ebc7",
   "metadata": {},
   "outputs": [
    {
     "data": {
      "text/plain": [
       "EntityCollection(\n",
       "    Ms=Entity(ontology_label='SpontaneousMagnetization', value=array([600., 650., 700.]), unit='kA / m'),\n",
       "    T=Entity(ontology_label='ThermodynamicTemperature', value=array([1., 2., 3.]), unit='K'),\n",
       "    angle=<Quantity [0. , 0.5, 0.7] rad>,\n",
       "    demag_factor=Entity(ontology_label='DemagnetizingFactor', value=array([0.33333333, 0.33333333, 0.33333333])),\n",
       "    comment=array(['Some comment', 'Some other comment', 'A third comment'],\n",
       "      dtype=object),\n",
       ")"
      ]
     },
     "execution_count": 5,
     "metadata": {},
     "output_type": "execute_result"
    }
   ],
   "source": [
    "content = me.io.entities_from_file(\"example.csv\")\n",
    "content"
   ]
  },
  {
   "cell_type": "markdown",
   "id": "265ba969-11e0-4a18-83d0-cfb9481fc720",
   "metadata": {},
   "source": [
    "The recommended way of accessing the data is by using the individual elements. This preserves the correct data type:"
   ]
  },
  {
   "cell_type": "code",
   "execution_count": 6,
   "id": "e2a554bd-019c-480f-aa73-0aaad7a85814",
   "metadata": {},
   "outputs": [
    {
     "data": {
      "text/html": [
       "<samp>SpontaneousMagnetization(value=[600.&nbsp;650.&nbsp;700.],&nbsp;unit=kA&nbsp;/&nbsp;m)</samp>"
      ],
      "text/plain": [
       "Entity(ontology_label='SpontaneousMagnetization', value=array([600., 650., 700.]), unit='kA / m')"
      ]
     },
     "execution_count": 6,
     "metadata": {},
     "output_type": "execute_result"
    }
   ],
   "source": [
    "content.Ms"
   ]
  },
  {
   "cell_type": "code",
   "execution_count": 7,
   "id": "832726e7-6ef6-4dc1-a10e-db5f276e9b13",
   "metadata": {},
   "outputs": [
    {
     "data": {
      "text/html": [
       "<samp>ThermodynamicTemperature(value=[1.&nbsp;2.&nbsp;3.],&nbsp;unit=K)</samp>"
      ],
      "text/plain": [
       "Entity(ontology_label='ThermodynamicTemperature', value=array([1., 2., 3.]), unit='K')"
      ]
     },
     "execution_count": 7,
     "metadata": {},
     "output_type": "execute_result"
    }
   ],
   "source": [
    "content.T"
   ]
  },
  {
   "cell_type": "code",
   "execution_count": 8,
   "id": "a351e990-c482-4257-902c-e59e914b2dda",
   "metadata": {},
   "outputs": [
    {
     "data": {
      "text/latex": [
       "$[0,~0.5,~0.7] \\; \\mathrm{rad}$"
      ],
      "text/plain": [
       "<Quantity [0. , 0.5, 0.7] rad>"
      ]
     },
     "execution_count": 8,
     "metadata": {},
     "output_type": "execute_result"
    }
   ],
   "source": [
    "content.angle"
   ]
  },
  {
   "cell_type": "code",
   "execution_count": 9,
   "id": "525ae2fa-2aaf-4e51-ba47-a064e75c685a",
   "metadata": {},
   "outputs": [
    {
     "data": {
      "text/html": [
       "<samp>DemagnetizingFactor(value=[0.33333333&nbsp;0.33333333&nbsp;0.33333333])</samp>"
      ],
      "text/plain": [
       "Entity(ontology_label='DemagnetizingFactor', value=array([0.33333333, 0.33333333, 0.33333333]))"
      ]
     },
     "execution_count": 9,
     "metadata": {},
     "output_type": "execute_result"
    }
   ],
   "source": [
    "content.demag_factor"
   ]
  },
  {
   "cell_type": "code",
   "execution_count": 10,
   "id": "2ac4ce79-5cd0-4686-9cfa-bc672feb052c",
   "metadata": {},
   "outputs": [
    {
     "data": {
      "text/plain": [
       "array(['Some comment', 'Some other comment', 'A third comment'],\n",
       "      dtype=object)"
      ]
     },
     "execution_count": 10,
     "metadata": {},
     "output_type": "execute_result"
    }
   ],
   "source": [
    "content.comment"
   ]
  },
  {
   "cell_type": "markdown",
   "id": "a743204c-9a90-4ef3-9b93-d0605b1ff4dc",
   "metadata": {},
   "source": [
    "We can also get a `pandas` dataframe of the data we have read. This is designed as a convenience functions but due to limitation of `pandas` we loose ontology information. This is why we recommend using the individual elements directly where possible. The columns names consist of short name and units (where columns have a unit):"
   ]
  },
  {
   "cell_type": "code",
   "execution_count": 11,
   "id": "ba862c9b-e4c9-45ba-b7db-ecdde7cb7577",
   "metadata": {},
   "outputs": [
    {
     "data": {
      "text/html": [
       "<div>\n",
       "<style scoped>\n",
       "    .dataframe tbody tr th:only-of-type {\n",
       "        vertical-align: middle;\n",
       "    }\n",
       "\n",
       "    .dataframe tbody tr th {\n",
       "        vertical-align: top;\n",
       "    }\n",
       "\n",
       "    .dataframe thead th {\n",
       "        text-align: right;\n",
       "    }\n",
       "</style>\n",
       "<table border=\"1\" class=\"dataframe\">\n",
       "  <thead>\n",
       "    <tr style=\"text-align: right;\">\n",
       "      <th></th>\n",
       "      <th>Ms (kA / m)</th>\n",
       "      <th>T (K)</th>\n",
       "      <th>angle (rad)</th>\n",
       "      <th>demag_factor</th>\n",
       "      <th>comment</th>\n",
       "    </tr>\n",
       "  </thead>\n",
       "  <tbody>\n",
       "    <tr>\n",
       "      <th>0</th>\n",
       "      <td>600.0</td>\n",
       "      <td>1.0</td>\n",
       "      <td>0.0</td>\n",
       "      <td>0.333333</td>\n",
       "      <td>Some comment</td>\n",
       "    </tr>\n",
       "    <tr>\n",
       "      <th>1</th>\n",
       "      <td>650.0</td>\n",
       "      <td>2.0</td>\n",
       "      <td>0.5</td>\n",
       "      <td>0.333333</td>\n",
       "      <td>Some other comment</td>\n",
       "    </tr>\n",
       "    <tr>\n",
       "      <th>2</th>\n",
       "      <td>700.0</td>\n",
       "      <td>3.0</td>\n",
       "      <td>0.7</td>\n",
       "      <td>0.333333</td>\n",
       "      <td>A third comment</td>\n",
       "    </tr>\n",
       "  </tbody>\n",
       "</table>\n",
       "</div>"
      ],
      "text/plain": [
       "   Ms (kA / m)  T (K)  angle (rad)  demag_factor             comment\n",
       "0        600.0    1.0          0.0      0.333333        Some comment\n",
       "1        650.0    2.0          0.5      0.333333  Some other comment\n",
       "2        700.0    3.0          0.7      0.333333     A third comment"
      ]
     },
     "execution_count": 11,
     "metadata": {},
     "output_type": "execute_result"
    }
   ],
   "source": [
    "content.to_dataframe()"
   ]
  },
  {
   "cell_type": "markdown",
   "id": "d2154da5-d8b3-4867-b364-bb4086962b43",
   "metadata": {},
   "source": [
    "We can also get a dataframe without units in the column names:"
   ]
  },
  {
   "cell_type": "code",
   "execution_count": 12,
   "id": "57221cde-a7dc-4dc6-ae74-5c65301771e4",
   "metadata": {},
   "outputs": [
    {
     "data": {
      "text/html": [
       "<div>\n",
       "<style scoped>\n",
       "    .dataframe tbody tr th:only-of-type {\n",
       "        vertical-align: middle;\n",
       "    }\n",
       "\n",
       "    .dataframe tbody tr th {\n",
       "        vertical-align: top;\n",
       "    }\n",
       "\n",
       "    .dataframe thead th {\n",
       "        text-align: right;\n",
       "    }\n",
       "</style>\n",
       "<table border=\"1\" class=\"dataframe\">\n",
       "  <thead>\n",
       "    <tr style=\"text-align: right;\">\n",
       "      <th></th>\n",
       "      <th>Ms</th>\n",
       "      <th>T</th>\n",
       "      <th>angle</th>\n",
       "      <th>demag_factor</th>\n",
       "      <th>comment</th>\n",
       "    </tr>\n",
       "  </thead>\n",
       "  <tbody>\n",
       "    <tr>\n",
       "      <th>0</th>\n",
       "      <td>600.0</td>\n",
       "      <td>1.0</td>\n",
       "      <td>0.0</td>\n",
       "      <td>0.333333</td>\n",
       "      <td>Some comment</td>\n",
       "    </tr>\n",
       "    <tr>\n",
       "      <th>1</th>\n",
       "      <td>650.0</td>\n",
       "      <td>2.0</td>\n",
       "      <td>0.5</td>\n",
       "      <td>0.333333</td>\n",
       "      <td>Some other comment</td>\n",
       "    </tr>\n",
       "    <tr>\n",
       "      <th>2</th>\n",
       "      <td>700.0</td>\n",
       "      <td>3.0</td>\n",
       "      <td>0.7</td>\n",
       "      <td>0.333333</td>\n",
       "      <td>A third comment</td>\n",
       "    </tr>\n",
       "  </tbody>\n",
       "</table>\n",
       "</div>"
      ],
      "text/plain": [
       "      Ms    T  angle  demag_factor             comment\n",
       "0  600.0  1.0    0.0      0.333333        Some comment\n",
       "1  650.0  2.0    0.5      0.333333  Some other comment\n",
       "2  700.0  3.0    0.7      0.333333     A third comment"
      ]
     },
     "execution_count": 12,
     "metadata": {},
     "output_type": "execute_result"
    }
   ],
   "source": [
    "content.to_dataframe(include_units=False)"
   ]
  },
  {
   "cell_type": "markdown",
   "id": "04130d1a-72eb-4ec1-8959-2e9f66f3e506",
   "metadata": {},
   "source": [
    "### Reading with `pandas`\n",
    "If we only need the numerical data but not the entity information, we can also read the csv file with pandas:"
   ]
  },
  {
   "cell_type": "code",
   "execution_count": 13,
   "id": "5ef931e0-1f90-4920-92ee-ec37a1c76577",
   "metadata": {},
   "outputs": [
    {
     "data": {
      "text/html": [
       "<div>\n",
       "<style scoped>\n",
       "    .dataframe tbody tr th:only-of-type {\n",
       "        vertical-align: middle;\n",
       "    }\n",
       "\n",
       "    .dataframe tbody tr th {\n",
       "        vertical-align: top;\n",
       "    }\n",
       "\n",
       "    .dataframe thead th {\n",
       "        text-align: right;\n",
       "    }\n",
       "</style>\n",
       "<table border=\"1\" class=\"dataframe\">\n",
       "  <thead>\n",
       "    <tr style=\"text-align: right;\">\n",
       "      <th></th>\n",
       "      <th>Ms</th>\n",
       "      <th>T</th>\n",
       "      <th>angle</th>\n",
       "      <th>demag_factor</th>\n",
       "      <th>comment</th>\n",
       "    </tr>\n",
       "  </thead>\n",
       "  <tbody>\n",
       "    <tr>\n",
       "      <th>0</th>\n",
       "      <td>600.0</td>\n",
       "      <td>1.0</td>\n",
       "      <td>0.0</td>\n",
       "      <td>0.333333</td>\n",
       "      <td>Some comment</td>\n",
       "    </tr>\n",
       "    <tr>\n",
       "      <th>1</th>\n",
       "      <td>650.0</td>\n",
       "      <td>2.0</td>\n",
       "      <td>0.5</td>\n",
       "      <td>0.333333</td>\n",
       "      <td>Some other comment</td>\n",
       "    </tr>\n",
       "    <tr>\n",
       "      <th>2</th>\n",
       "      <td>700.0</td>\n",
       "      <td>3.0</td>\n",
       "      <td>0.7</td>\n",
       "      <td>0.333333</td>\n",
       "      <td>A third comment</td>\n",
       "    </tr>\n",
       "  </tbody>\n",
       "</table>\n",
       "</div>"
      ],
      "text/plain": [
       "      Ms    T  angle  demag_factor             comment\n",
       "0  600.0  1.0    0.0      0.333333        Some comment\n",
       "1  650.0  2.0    0.5      0.333333  Some other comment\n",
       "2  700.0  3.0    0.7      0.333333     A third comment"
      ]
     },
     "execution_count": 13,
     "metadata": {},
     "output_type": "execute_result"
    }
   ],
   "source": [
    "import pandas as pd\n",
    "\n",
    "pd.read_csv(\"example.csv\", comment=\"#\")"
   ]
  },
  {
   "attachments": {},
   "cell_type": "markdown",
   "id": "6a0d8fdf-7a51-4e17-a670-550468eb4e5a",
   "metadata": {},
   "source": [
    "## MaMMoS YAML\n",
    "\n",
    "### Writing\n",
    "We can write data to a yaml file (extension .yaml or .yml) as shown in the following cell. Names of the keyword arguments determine keys under `data:` in the file."
   ]
  },
  {
   "cell_type": "code",
   "execution_count": 14,
   "id": "271a9548-cd65-4352-bac4-d2500a157aec",
   "metadata": {},
   "outputs": [],
   "source": [
    "me.io.entities_to_file(\n",
    "    \"example.yaml\",\n",
    "    \"Example yaml file.\\nThe description can have multiple lines.\\n\\nLines can also be empty.\",\n",
    "    Ms=Ms,\n",
    "    T=T,\n",
    "    angle=theta_angle,\n",
    "    demag_factor=demag_factor,\n",
    "    comment=comments,\n",
    ")"
   ]
  },
  {
   "cell_type": "markdown",
   "id": "79eff92c-3e50-4b91-9781-44898a0c8fbd",
   "metadata": {},
   "source": [
    "This has produced the following file:"
   ]
  },
  {
   "cell_type": "code",
   "execution_count": 15,
   "id": "80ead5ba-da56-4a73-940c-4f51258603c8",
   "metadata": {},
   "outputs": [
    {
     "name": "stdout",
     "output_type": "stream",
     "text": [
      "metadata:\n",
      "  version: v1\n",
      "  description: |-\n",
      "    Example yaml file.\n",
      "    The description can have multiple lines.\n",
      "\n",
      "    Lines can also be empty.\n",
      "data:\n",
      "  Ms:\n",
      "    ontology_label: SpontaneousMagnetization\n",
      "    ontology_iri: https://w3id.org/emmo/domain/magnetic_material#EMMO_032731f8-874d-5efb-9c9d-6dafaa17ef25\n",
      "    unit: kA / m\n",
      "    value: [600.0, 650.0, 700.0]\n",
      "  T:\n",
      "    ontology_label: ThermodynamicTemperature\n",
      "    ontology_iri: https://w3id.org/emmo#EMMO_affe07e4_e9bc_4852_86c6_69e26182a17f\n",
      "    unit: K\n",
      "    value: [1.0, 2.0, 3.0]\n",
      "  angle:\n",
      "    ontology_label: null\n",
      "    ontology_iri: null\n",
      "    unit: rad\n",
      "    value: [0.0, 0.5, 0.7]\n",
      "  demag_factor:\n",
      "    ontology_label: DemagnetizingFactor\n",
      "    ontology_iri: https://w3id.org/emmo/domain/magnetic_material#EMMO_0f2b5cc9-d00a-5030-8448-99ba6b7dfd1e\n",
      "    unit: ''\n",
      "    value: [0.3333333333333333, 0.3333333333333333, 0.3333333333333333]\n",
      "  comment:\n",
      "    ontology_label: null\n",
      "    ontology_iri: null\n",
      "    unit: null\n",
      "    value: [Some comment, Some other comment, A third comment]\n",
      "\n"
     ]
    }
   ],
   "source": [
    "print(Path(\"example.yaml\").read_text())"
   ]
  },
  {
   "cell_type": "markdown",
   "id": "3fe0e9f8-a5d2-4a9c-a4c3-029e3c620501",
   "metadata": {},
   "source": [
    "### Reading\n",
    "We can read it back in and get a container object (called EntityCollection) containing all columns:"
   ]
  },
  {
   "cell_type": "code",
   "execution_count": 16,
   "id": "b29e8108-63c9-4e05-a79e-d387e22c65f6",
   "metadata": {},
   "outputs": [
    {
     "data": {
      "text/plain": [
       "EntityCollection(\n",
       "    Ms=Entity(ontology_label='SpontaneousMagnetization', value=array([600., 650., 700.]), unit='kA / m'),\n",
       "    T=Entity(ontology_label='ThermodynamicTemperature', value=array([1., 2., 3.]), unit='K'),\n",
       "    angle=<Quantity [0. , 0.5, 0.7] rad>,\n",
       "    demag_factor=Entity(ontology_label='DemagnetizingFactor', value=array([0.33333333, 0.33333333, 0.33333333])),\n",
       "    comment=['Some comment', 'Some other comment', 'A third comment'],\n",
       ")"
      ]
     },
     "execution_count": 16,
     "metadata": {},
     "output_type": "execute_result"
    }
   ],
   "source": [
    "content = me.io.entities_from_file(\"example.yaml\")\n",
    "content"
   ]
  },
  {
   "cell_type": "markdown",
   "id": "c66552c5-e651-4ce8-855a-31a5ccaf24aa",
   "metadata": {},
   "source": [
    "We can access elements as show for the csv file before, e.g."
   ]
  },
  {
   "cell_type": "code",
   "execution_count": 17,
   "id": "446f9e32-9d4e-432a-a834-d06a9c86a7cf",
   "metadata": {},
   "outputs": [
    {
     "data": {
      "text/html": [
       "<div>\n",
       "<style scoped>\n",
       "    .dataframe tbody tr th:only-of-type {\n",
       "        vertical-align: middle;\n",
       "    }\n",
       "\n",
       "    .dataframe tbody tr th {\n",
       "        vertical-align: top;\n",
       "    }\n",
       "\n",
       "    .dataframe thead th {\n",
       "        text-align: right;\n",
       "    }\n",
       "</style>\n",
       "<table border=\"1\" class=\"dataframe\">\n",
       "  <thead>\n",
       "    <tr style=\"text-align: right;\">\n",
       "      <th></th>\n",
       "      <th>Ms (kA / m)</th>\n",
       "      <th>T (K)</th>\n",
       "      <th>angle (rad)</th>\n",
       "      <th>demag_factor</th>\n",
       "      <th>comment</th>\n",
       "    </tr>\n",
       "  </thead>\n",
       "  <tbody>\n",
       "    <tr>\n",
       "      <th>0</th>\n",
       "      <td>600.0</td>\n",
       "      <td>1.0</td>\n",
       "      <td>0.0</td>\n",
       "      <td>0.333333</td>\n",
       "      <td>Some comment</td>\n",
       "    </tr>\n",
       "    <tr>\n",
       "      <th>1</th>\n",
       "      <td>650.0</td>\n",
       "      <td>2.0</td>\n",
       "      <td>0.5</td>\n",
       "      <td>0.333333</td>\n",
       "      <td>Some other comment</td>\n",
       "    </tr>\n",
       "    <tr>\n",
       "      <th>2</th>\n",
       "      <td>700.0</td>\n",
       "      <td>3.0</td>\n",
       "      <td>0.7</td>\n",
       "      <td>0.333333</td>\n",
       "      <td>A third comment</td>\n",
       "    </tr>\n",
       "  </tbody>\n",
       "</table>\n",
       "</div>"
      ],
      "text/plain": [
       "   Ms (kA / m)  T (K)  angle (rad)  demag_factor             comment\n",
       "0        600.0    1.0          0.0      0.333333        Some comment\n",
       "1        650.0    2.0          0.5      0.333333  Some other comment\n",
       "2        700.0    3.0          0.7      0.333333     A third comment"
      ]
     },
     "execution_count": 17,
     "metadata": {},
     "output_type": "execute_result"
    }
   ],
   "source": [
    "content.to_dataframe()"
   ]
  },
  {
   "cell_type": "markdown",
   "id": "29bdd719-e12f-4a3c-b6d5-422d0245b105",
   "metadata": {},
   "source": [
    "### Entities of different shape and length\n",
    "\n",
    "Unlike csv the yaml format supports entities with different lengths and shape."
   ]
  },
  {
   "cell_type": "code",
   "execution_count": 18,
   "id": "6b8ceadd-199b-45ae-bf49-a40b5e14edfb",
   "metadata": {},
   "outputs": [],
   "source": [
    "me.io.entities_to_file(\"example2.yml\", T=me.T([10, 20, 30]), Tc=me.Tc(300), Ms=me.Ms([[1, 2], [3, 4]]))"
   ]
  },
  {
   "cell_type": "code",
   "execution_count": 19,
   "id": "b03e00ba-e9b2-4f3f-9142-6b7f65165592",
   "metadata": {},
   "outputs": [
    {
     "name": "stdout",
     "output_type": "stream",
     "text": [
      "metadata:\n",
      "  version: v1\n",
      "  description: null\n",
      "data:\n",
      "  T:\n",
      "    ontology_label: ThermodynamicTemperature\n",
      "    ontology_iri: https://w3id.org/emmo#EMMO_affe07e4_e9bc_4852_86c6_69e26182a17f\n",
      "    unit: K\n",
      "    value: [10.0, 20.0, 30.0]\n",
      "  Tc:\n",
      "    ontology_label: CurieTemperature\n",
      "    ontology_iri: https://w3id.org/emmo#EMMO_6b5af5a8_a2d8_4353_a1d6_54c9f778343d\n",
      "    unit: K\n",
      "    value: 300.0\n",
      "  Ms:\n",
      "    ontology_label: SpontaneousMagnetization\n",
      "    ontology_iri: https://w3id.org/emmo/domain/magnetic_material#EMMO_032731f8-874d-5efb-9c9d-6dafaa17ef25\n",
      "    unit: A / m\n",
      "    value: [[1.0, 2.0], [3.0, 4.0]]\n",
      "\n"
     ]
    }
   ],
   "source": [
    "print(Path(\"example2.yml\").read_text())"
   ]
  },
  {
   "cell_type": "code",
   "execution_count": 20,
   "id": "63d4f4e8-c893-41af-a368-7b9dd308424e",
   "metadata": {},
   "outputs": [
    {
     "data": {
      "text/plain": [
       "EntityCollection(\n",
       "    T=Entity(ontology_label='ThermodynamicTemperature', value=array([10., 20., 30.]), unit='K'),\n",
       "    Tc=Entity(ontology_label='CurieTemperature', value=np.float64(300.0), unit='K'),\n",
       "    Ms=Entity(ontology_label='SpontaneousMagnetization', value=array([[1., 2.],\n",
       "       [3., 4.]]), unit='A / m'),\n",
       ")"
      ]
     },
     "execution_count": 20,
     "metadata": {},
     "output_type": "execute_result"
    }
   ],
   "source": [
    "content = me.io.entities_from_file(\"example2.yml\")\n",
    "content"
   ]
  },
  {
   "cell_type": "markdown",
   "id": "687d340e-6db7-4fa2-971e-03ac9d8fb086",
   "metadata": {},
   "source": [
    "We can acces individual elements of the returned object as before."
   ]
  },
  {
   "cell_type": "code",
   "execution_count": 21,
   "id": "bba278ab-489f-4253-95f3-5bdd8284b269",
   "metadata": {},
   "outputs": [
    {
     "data": {
      "text/html": [
       "<samp>ThermodynamicTemperature(value=[10.&nbsp;20.&nbsp;30.],&nbsp;unit=K)</samp>"
      ],
      "text/plain": [
       "Entity(ontology_label='ThermodynamicTemperature', value=array([10., 20., 30.]), unit='K')"
      ]
     },
     "execution_count": 21,
     "metadata": {},
     "output_type": "execute_result"
    }
   ],
   "source": [
    "content.T"
   ]
  },
  {
   "cell_type": "code",
   "execution_count": 22,
   "id": "890f5609-64f3-4c11-8904-795b509cc8a6",
   "metadata": {},
   "outputs": [
    {
     "data": {
      "text/html": [
       "<samp>CurieTemperature(value=300.0,&nbsp;unit=K)</samp>"
      ],
      "text/plain": [
       "Entity(ontology_label='CurieTemperature', value=np.float64(300.0), unit='K')"
      ]
     },
     "execution_count": 22,
     "metadata": {},
     "output_type": "execute_result"
    }
   ],
   "source": [
    "content.Tc"
   ]
  },
  {
   "cell_type": "code",
   "execution_count": 23,
   "id": "540b6355-9196-4d47-b998-4f00585474b6",
   "metadata": {},
   "outputs": [
    {
     "data": {
      "text/html": [
       "<samp>SpontaneousMagnetization(value=[[1.&nbsp;2.]<br>&nbsp;[3.&nbsp;4.]],&nbsp;unit=A&nbsp;/&nbsp;m)</samp>"
      ],
      "text/plain": [
       "Entity(ontology_label='SpontaneousMagnetization', value=array([[1., 2.],\n",
       "       [3., 4.]]), unit='A / m')"
      ]
     },
     "execution_count": 23,
     "metadata": {},
     "output_type": "execute_result"
    }
   ],
   "source": [
    "content.Ms"
   ]
  },
  {
   "cell_type": "markdown",
   "id": "0f097dcd-0f45-455b-bf25-691cb9b2a24b",
   "metadata": {},
   "source": [
    "Conversion to a dataframe is however generally not possible as the shapes are incompatible with a `pandas.DataFrame`."
   ]
  },
  {
   "cell_type": "markdown",
   "id": "e3ad92a6-452f-42e8-9ea0-66a36c6ae771",
   "metadata": {},
   "source": [
    "## Converting unformatted files and tables to `mammos csv`\n",
    "\n",
    "Users may wish to update other files to the `mammos csv` format in order to make use of the additional functionality. \n",
    "Details of the file format are explained in the [`mammos-entity.io` api reference](https://mammos-project.github.io/mammos/api/mammos_entity.io.html).\n",
    "\n",
    "Converting your “raw” data into this format involves three main steps:\n",
    "\n",
    "1. Load your file into python (e.g. with `pandas`).\n",
    "\n",
    "2. Create an `Entity`, `quanity`, or similar out of each column (by assigning the correct ontology term and/or units).\n",
    "\n",
    "3. Export the result with `entities_to_csv`.\n",
    "\n",
    "\n",
    "First let's create a file so we can see an example of how to do the conversion. We will create the following structure:\n",
    "```dat\n",
    "1 10.0 1.6083568305976572 -16778187.088808443\n",
    "1 9.0 1.6083393931987826 -15498304.121589921\n",
    "...\n",
    "```\n",
    "\n",
    "This file is quite basic, in particular, there no headers, no units, no ontology information, and the use of the space as separator rather than a comma.\n",
    "\n",
    "Only the user knows what each of the columns are.\n",
    "In this example first column is the configuration type, the second column is the value of $\\mu_0 H_{\\mathsf{ext}}$ in Tesla, the third column is the magnetic polarisation in Tesla and the last column is the energy density in J/m$^3$."
   ]
  },
  {
   "cell_type": "code",
   "execution_count": 24,
   "id": "6fc5b070",
   "metadata": {},
   "outputs": [
    {
     "data": {
      "text/plain": [
       "224"
      ]
     },
     "execution_count": 24,
     "metadata": {},
     "output_type": "execute_result"
    }
   ],
   "source": [
    "Path(\"example.dat\").write_text(\"\"\"\\\n",
    "1 10.0 1.6083568305976572 -16778187.088808443\n",
    "1 9.0 1.6083393931987826 -15498304.121589921\n",
    "1 8.0 1.6083184361075116 -14218436.37373519\n",
    "1 7.0 1.608292941666901 -12938587.029585946\n",
    "1 6.0 1.6082614950059932 -11658760.230932372\n",
    "\"\"\")"
   ]
  },
  {
   "cell_type": "markdown",
   "id": "353fad2a-f4df-4929-83f3-2ebd2819aa24",
   "metadata": {},
   "source": [
    "We can use `pandas` to read the file into python:"
   ]
  },
  {
   "cell_type": "code",
   "execution_count": 25,
   "id": "206d5b7d-8b74-4609-aa17-5abbda02b620",
   "metadata": {},
   "outputs": [
    {
     "data": {
      "text/html": [
       "<div>\n",
       "<style scoped>\n",
       "    .dataframe tbody tr th:only-of-type {\n",
       "        vertical-align: middle;\n",
       "    }\n",
       "\n",
       "    .dataframe tbody tr th {\n",
       "        vertical-align: top;\n",
       "    }\n",
       "\n",
       "    .dataframe thead th {\n",
       "        text-align: right;\n",
       "    }\n",
       "</style>\n",
       "<table border=\"1\" class=\"dataframe\">\n",
       "  <thead>\n",
       "    <tr style=\"text-align: right;\">\n",
       "      <th></th>\n",
       "      <th>configuration_type</th>\n",
       "      <th>mu0_Hext</th>\n",
       "      <th>Js</th>\n",
       "      <th>energy_density</th>\n",
       "    </tr>\n",
       "  </thead>\n",
       "  <tbody>\n",
       "    <tr>\n",
       "      <th>0</th>\n",
       "      <td>1</td>\n",
       "      <td>10.0</td>\n",
       "      <td>1.608357</td>\n",
       "      <td>-1.677819e+07</td>\n",
       "    </tr>\n",
       "    <tr>\n",
       "      <th>1</th>\n",
       "      <td>1</td>\n",
       "      <td>9.0</td>\n",
       "      <td>1.608339</td>\n",
       "      <td>-1.549830e+07</td>\n",
       "    </tr>\n",
       "    <tr>\n",
       "      <th>2</th>\n",
       "      <td>1</td>\n",
       "      <td>8.0</td>\n",
       "      <td>1.608318</td>\n",
       "      <td>-1.421844e+07</td>\n",
       "    </tr>\n",
       "    <tr>\n",
       "      <th>3</th>\n",
       "      <td>1</td>\n",
       "      <td>7.0</td>\n",
       "      <td>1.608293</td>\n",
       "      <td>-1.293859e+07</td>\n",
       "    </tr>\n",
       "    <tr>\n",
       "      <th>4</th>\n",
       "      <td>1</td>\n",
       "      <td>6.0</td>\n",
       "      <td>1.608261</td>\n",
       "      <td>-1.165876e+07</td>\n",
       "    </tr>\n",
       "  </tbody>\n",
       "</table>\n",
       "</div>"
      ],
      "text/plain": [
       "   configuration_type  mu0_Hext        Js  energy_density\n",
       "0                   1      10.0  1.608357   -1.677819e+07\n",
       "1                   1       9.0  1.608339   -1.549830e+07\n",
       "2                   1       8.0  1.608318   -1.421844e+07\n",
       "3                   1       7.0  1.608293   -1.293859e+07\n",
       "4                   1       6.0  1.608261   -1.165876e+07"
      ]
     },
     "execution_count": 25,
     "metadata": {},
     "output_type": "execute_result"
    }
   ],
   "source": [
    "df = pd.read_csv(\"example.dat\", sep=\" \", names=[\"configuration_type\", \"mu0_Hext\", \"Js\", \"energy_density\"])\n",
    "df"
   ]
  },
  {
   "cell_type": "markdown",
   "id": "7c3d860a-cafe-449a-8b6b-e3960aaa5a25",
   "metadata": {},
   "source": [
    "To rewrite this in the `mammos csv` format, we then need to associate each column with an entity, quantity, or another python object. Now is also time to do any data manipulation (such as changing units).\n",
    "\n",
    "In this example we:\n",
    "- Convert configuration type to a `numpy` array.\n",
    "- Convert magnetic flux density ($\\mu_0 H_{\\mathsf{ext}}$) to the external magnetic field Entity using `mammos_units` for the relevant conversions.\n",
    "- Convert magnetic polarisation to the corresponding entity.\n",
    "- Convert energy density to the corresponding entity."
   ]
  },
  {
   "cell_type": "code",
   "execution_count": 26,
   "id": "e364c368-f58d-45a8-a329-d16b3b0c497a",
   "metadata": {},
   "outputs": [],
   "source": [
    "configuration_type = df[\"configuration_type\"].to_numpy()\n",
    "H = me.Entity(\n",
    "    ontology_label=\"ExternalMagneticField\",\n",
    "    value=(df[\"mu0_Hext\"].to_numpy() * u.T).to(u.A / u.m, equivalencies=u.magnetic_flux_field()),\n",
    "    unit=u.A / u.m,\n",
    ")\n",
    "Js = me.Entity(\n",
    "    ontology_label=\"MagneticPolarisation\",\n",
    "    value=df[\"Js\"],\n",
    "    unit=u.T,\n",
    ")\n",
    "energy_density = me.Entity(ontology_label=\"EnergyDensity\", value=df[\"energy_density\"], unit=u.J / u.m**3)"
   ]
  },
  {
   "cell_type": "markdown",
   "id": "413e16a2",
   "metadata": {},
   "source": [
    "We can now write the `mammos csv`:"
   ]
  },
  {
   "cell_type": "code",
   "execution_count": 27,
   "id": "49a54fbd-f495-44d8-b0cd-ac765eb0ddeb",
   "metadata": {},
   "outputs": [],
   "source": [
    "me.io.entities_to_file(\n",
    "    \"example.csv\",\n",
    "    \"This file contains...\",\n",
    "    configuration_type=configuration_type,\n",
    "    H=H,\n",
    "    Js=Js,\n",
    "    energy_density=energy_density,\n",
    ")"
   ]
  },
  {
   "cell_type": "markdown",
   "id": "a41a0a5f",
   "metadata": {},
   "source": [
    "Looking at the file produced we can see the data is now in the correct format with the ontology information included:"
   ]
  },
  {
   "cell_type": "code",
   "execution_count": 28,
   "id": "f7ad9af4-a9c1-46be-acc4-7673edbf239f",
   "metadata": {},
   "outputs": [
    {
     "name": "stdout",
     "output_type": "stream",
     "text": [
      "#mammos csv v2\n",
      "#----------------------------------------\n",
      "# This file contains...\n",
      "#----------------------------------------\n",
      "#,ExternalMagneticField,MagneticPolarisation,EnergyDensity\n",
      "#,https://w3id.org/emmo/domain/magnetic_material#EMMO_da08f0d3-fe19-58bc-8fb6-ecc8992d5eb3,https://w3id.org/emmo#EMMO_74a096dd_cc83_4c7e_b704_0541620ff18d,https://w3id.org/emmo/domain/magnetic_material#EMMO_56258d3a-f2ee-554e-af99-499dd8620457\n",
      "#,A / m,T,J / m3\n",
      "configuration_type,H,Js,energy_density\n",
      "1,7957747.150262763,1.6083568305976572,-16778187.088808443\n",
      "1,7161972.435236487,1.6083393931987826,-15498304.12158992\n",
      "1,6366197.72021021,1.6083184361075116,-14218436.37373519\n",
      "1,5570423.005183934,1.608292941666901,-12938587.029585946\n",
      "1,4774648.290157658,1.6082614950059932,-11658760.230932372\n",
      "\n"
     ]
    }
   ],
   "source": [
    "print(Path(\"example.csv\").read_text())"
   ]
  }
 ],
 "metadata": {
  "kernelspec": {
   "display_name": "Python 3 (ipykernel)",
   "language": "python",
   "name": "python3"
  },
  "language_info": {
   "codemirror_mode": {
    "name": "ipython",
    "version": 3
   },
   "file_extension": ".py",
   "mimetype": "text/x-python",
   "name": "python",
   "nbconvert_exporter": "python",
   "pygments_lexer": "ipython3",
   "version": "3.11.13"
  }
 },
 "nbformat": 4,
 "nbformat_minor": 5
}
