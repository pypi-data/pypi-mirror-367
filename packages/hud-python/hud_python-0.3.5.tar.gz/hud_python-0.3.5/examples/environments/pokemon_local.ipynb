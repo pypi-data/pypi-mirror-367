{
 "cells": [
  {
   "cell_type": "code",
   "execution_count": 1,
   "metadata": {},
   "outputs": [],
   "source": [
    "from hud.task import Task\n",
    "from hud.types import CustomGym\n",
    "from hud import gym\n",
    "from pathlib import Path\n",
    "import logging\n",
    "\n",
    "logging.basicConfig(level=logging.INFO)"
   ]
  },
  {
   "cell_type": "code",
   "execution_count": 3,
   "metadata": {},
   "outputs": [
    {
     "name": "stderr",
     "output_type": "stream",
     "text": [
      "INFO:hud.env.local_docker_client:generated tar file with size: 50 KB\n",
      "INFO:hud.env.local_docker_client:Step 1/4 : FROM socpite/pokemon_env:latest\n",
      "INFO:hud.env.local_docker_client:\n",
      "\n",
      "INFO:hud.env.local_docker_client: ---> 084a367271dc\n",
      "\n",
      "INFO:hud.env.local_docker_client:Step 2/4 : COPY . /controller\n",
      "INFO:hud.env.local_docker_client:\n",
      "\n",
      "INFO:hud.env.local_docker_client: ---> 9dae79b7ee94\n",
      "\n",
      "INFO:hud.env.local_docker_client:Step 3/4 : RUN pip install -e /controller --break-system-packages\n",
      "INFO:hud.env.local_docker_client:\n",
      "\n",
      "INFO:hud.env.local_docker_client: ---> [Warning] The requested image's platform (linux/amd64) does not match the detected host platform (linux/arm64/v8) and no specific platform was requested\n",
      "\n",
      "INFO:hud.env.local_docker_client: ---> Running in a6d7f6b7c929\n",
      "\n",
      "INFO:hud.env.local_docker_client:Obtaining file:///controller\n",
      "\n",
      "INFO:hud.env.local_docker_client:  Installing build dependencies: started\n",
      "\n",
      "INFO:hud.env.local_docker_client:  Installing build dependencies: finished with status 'done'\n",
      "\n",
      "INFO:hud.env.local_docker_client:  Checking if build backend supports build_editable: started\n",
      "\n",
      "INFO:hud.env.local_docker_client:  Checking if build backend supports build_editable: finished with status 'done'\n",
      "\n",
      "INFO:hud.env.local_docker_client:  Getting requirements to build editable: started\n",
      "\n",
      "INFO:hud.env.local_docker_client:  Getting requirements to build editable: finished with status 'done'\n",
      "\n",
      "INFO:hud.env.local_docker_client:  Preparing editable metadata (pyproject.toml): started\n",
      "\n",
      "INFO:hud.env.local_docker_client:  Preparing editable metadata (pyproject.toml): finished with status 'done'\n",
      "\n",
      "INFO:hud.env.local_docker_client:Collecting pyboy (from hud_controller==0.1.0)\n",
      "\n",
      "INFO:hud.env.local_docker_client:  Downloading pyboy-2.6.0-cp312-cp312-manylinux_2_17_x86_64.manylinux2014_x86_64.manylinux_2_28_x86_64.whl.metadata (7.6 kB)\n",
      "\n",
      "INFO:hud.env.local_docker_client:Collecting Pillow (from hud_controller==0.1.0)\n",
      "\n",
      "INFO:hud.env.local_docker_client:  Downloading pillow-11.2.1-cp312-cp312-manylinux_2_28_x86_64.whl.metadata (8.9 kB)\n",
      "\n",
      "INFO:hud.env.local_docker_client:Collecting python-dotenv (from hud_controller==0.1.0)\n",
      "\n",
      "INFO:hud.env.local_docker_client:  Downloading python_dotenv-1.1.0-py3-none-any.whl.metadata (24 kB)\n",
      "\n",
      "INFO:hud.env.local_docker_client:Collecting pygame (from hud_controller==0.1.0)\n",
      "\n",
      "INFO:hud.env.local_docker_client:  Downloading pygame-2.6.1-cp312-cp312-manylinux_2_17_x86_64.manylinux2014_x86_64.whl.metadata (12 kB)\n",
      "\n",
      "INFO:hud.env.local_docker_client:Collecting numpy (from pyboy->hud_controller==0.1.0)\n",
      "\n",
      "INFO:hud.env.local_docker_client:  Downloading numpy-2.2.6-cp312-cp312-manylinux_2_17_x86_64.manylinux2014_x86_64.whl.metadata (62 kB)\n",
      "\n",
      "INFO:hud.env.local_docker_client:Collecting pysdl2 (from pyboy->hud_controller==0.1.0)\n",
      "\n",
      "INFO:hud.env.local_docker_client:  Downloading PySDL2-0.9.17-py3-none-any.whl.metadata (3.8 kB)\n",
      "\n",
      "INFO:hud.env.local_docker_client:Collecting pysdl2-dll (from pyboy->hud_controller==0.1.0)\n",
      "\n",
      "INFO:hud.env.local_docker_client:  Downloading pysdl2_dll-2.32.0-py2.py3-none-manylinux_2_28_x86_64.whl.metadata (4.6 kB)\n",
      "\n",
      "INFO:hud.env.local_docker_client:Downloading pillow-11.2.1-cp312-cp312-manylinux_2_28_x86_64.whl (4.6 MB)\n",
      "\n",
      "INFO:hud.env.local_docker_client:   ━━━━━━━━━━━━━━━━━━━━━━━━━━━━━━━━━━━━━━━━ 4.6/4.6 MB 34.8 MB/s eta 0:00:00\n",
      "INFO:hud.env.local_docker_client:\n",
      "\n",
      "INFO:hud.env.local_docker_client:Downloading pyboy-2.6.0-cp312-cp312-manylinux_2_17_x86_64.manylinux2014_x86_64.manylinux_2_28_x86_64.whl (5.7 MB)\n",
      "\n",
      "INFO:hud.env.local_docker_client:   ━━━━━━━━━━━━━━━━━━━━━━━━━━━━━━━━━━━━━━━━ 5.7/5.7 MB 7.3 MB/s eta 0:00:00\n",
      "INFO:hud.env.local_docker_client:\n",
      "\n",
      "INFO:hud.env.local_docker_client:Downloading pygame-2.6.1-cp312-cp312-manylinux_2_17_x86_64.manylinux2014_x86_64.whl (14.0 MB)\n",
      "\n",
      "INFO:hud.env.local_docker_client:   ━━━━━━━━━━━━━━━━━━━━━━━━━━━━━━━━━━━━━━━━ 14.0/14.0 MB 37.5 MB/s eta 0:00:00\n",
      "INFO:hud.env.local_docker_client:\n",
      "\n",
      "INFO:hud.env.local_docker_client:Downloading python_dotenv-1.1.0-py3-none-any.whl (20 kB)\n",
      "\n",
      "INFO:hud.env.local_docker_client:Downloading numpy-2.2.6-cp312-cp312-manylinux_2_17_x86_64.manylinux2014_x86_64.whl (16.5 MB)\n",
      "\n",
      "INFO:hud.env.local_docker_client:   ━━━━━━━━━━━━━━━━━━━━━━━━━━━━━━━━━━━━━━━━ 16.5/16.5 MB 39.4 MB/s eta 0:00:00\n",
      "INFO:hud.env.local_docker_client:\n",
      "\n",
      "INFO:hud.env.local_docker_client:Downloading PySDL2-0.9.17-py3-none-any.whl (583 kB)\n",
      "\n",
      "INFO:hud.env.local_docker_client:   ━━━━━━━━━━━━━━━━━━━━━━━━━━━━━━━━━━━━━━━━ 583.1/583.1 kB 39.3 MB/s eta 0:00:00\n",
      "INFO:hud.env.local_docker_client:\n",
      "\n",
      "INFO:hud.env.local_docker_client:Downloading pysdl2_dll-2.32.0-py2.py3-none-manylinux_2_28_x86_64.whl (5.2 MB)\n",
      "\n",
      "INFO:hud.env.local_docker_client:   ━━━━━━━━━━━━━━━━━━━━━━━━━━━━━━━━━━━━━━━━ 5.2/5.2 MB 36.1 MB/s eta 0:00:00\n",
      "INFO:hud.env.local_docker_client:\n",
      "\n",
      "INFO:hud.env.local_docker_client:Building wheels for collected packages: hud_controller\n",
      "\n",
      "INFO:hud.env.local_docker_client:  Building editable for hud_controller (pyproject.toml): started\n",
      "\n",
      "INFO:hud.env.local_docker_client:  Building editable for hud_controller (pyproject.toml): finished with status 'done'\n",
      "\n",
      "INFO:hud.env.local_docker_client:  Created wheel for hud_controller: filename=hud_controller-0.1.0-0.editable-py3-none-any.whl size=1359 sha256=089bf7dd3b70ef3b7948b5c9d51c84b004bdef9eba403fe9fd1da8538097d683\n",
      "\n",
      "INFO:hud.env.local_docker_client:  Stored in directory: /tmp/pip-ephem-wheel-cache-9yl7p0hd/wheels/75/a8/e7/789cef520300cde94c7f94a9f67652640fa54b26b781cf0eeb\n",
      "\n",
      "INFO:hud.env.local_docker_client:Successfully built hud_controller\n",
      "\n",
      "INFO:hud.env.local_docker_client:Installing collected packages: pysdl2-dll, pysdl2, python-dotenv, pygame, Pillow, numpy, pyboy, hud_controller\n",
      "\n",
      "INFO:hud.env.local_docker_client:Successfully installed Pillow-11.2.1 hud_controller-0.1.0 numpy-2.2.6 pyboy-2.6.0 pygame-2.6.1 pysdl2-0.9.17 pysdl2-dll-2.32.0 python-dotenv-1.1.0\n",
      "\n",
      "INFO:hud.env.local_docker_client:\u001b[91mWARNING: Running pip as the 'root' user can result in broken permissions and conflicting behaviour with the system package manager, possibly rendering your system unusable. It is recommended to use a virtual environment instead: https://pip.pypa.io/warnings/venv. Use the --root-user-action option if you know what you are doing and want to suppress this warning.\n",
      "\u001b[0m\n",
      "INFO:hud.env.local_docker_client:\u001b[91m\n",
      "[notice] A new release of pip is available: 25.0.1 -> 25.1.1\n",
      "[notice] To update, run: pip install --upgrade pip\n",
      "\u001b[0m\n",
      "INFO:hud.env.local_docker_client: ---> Removed intermediate container a6d7f6b7c929\n",
      "\n",
      "INFO:hud.env.local_docker_client: ---> 87ba32fccaab\n",
      "\n",
      "INFO:hud.env.local_docker_client:Step 4/4 : CMD [\"tail\", \"-f\", \"/dev/null\"]\n",
      "INFO:hud.env.local_docker_client:\n",
      "\n",
      "INFO:hud.env.local_docker_client: ---> [Warning] The requested image's platform (linux/amd64) does not match the detected host platform (linux/arm64/v8) and no specific platform was requested\n",
      "\n",
      "INFO:hud.env.local_docker_client: ---> Running in 1f9424e9bd50\n",
      "\n",
      "INFO:hud.env.local_docker_client: ---> Removed intermediate container 1f9424e9bd50\n",
      "\n",
      "INFO:hud.env.local_docker_client: ---> 79c1ae92c173\n",
      "\n",
      "INFO:hud.env.local_docker_client:Successfully built 79c1ae92c173\n",
      "\n",
      "INFO:hud.env.local_docker_client:Successfully tagged hud-env-17557c25:latest\n",
      "\n",
      "INFO:hud.gym:Creating local environment\n",
      "INFO:hud.gym:Setting source path\n",
      "WARNING:hud.environment:setup produced stderr:\n",
      "UserWarning: Using SDL2 binaries from pysdl2-dll 2.32.0\n",
      "\n"
     ]
    }
   ],
   "source": [
    "custom_gym = CustomGym(\n",
    "    image_or_build_context=Path(\"../environments/pokemon_controller\"),\n",
    "    location=\"local\",  # Make sure you have docker running locally!\n",
    ")\n",
    "\n",
    "task = Task(\n",
    "    gym=custom_gym,\n",
    "    prompt=\"Lets play Pokemon Red\",\n",
    "    setup=(\"setup\", \"pokemon_red\"),\n",
    "    evaluate=\"evaluate\",\n",
    ")\n",
    "\n",
    "env = await gym.make(task)"
   ]
  },
  {
   "cell_type": "code",
   "execution_count": 4,
   "metadata": {},
   "outputs": [
    {
     "name": "stderr",
     "output_type": "stream",
     "text": [
      "WARNING:hud.environment:Step produced stderr: UserWarning: Using SDL2 binaries from pysdl2-dll 2.32.0\n",
      "\n"
     ]
    },
    {
     "name": "stdout",
     "output_type": "stream",
     "text": [
      "Initial observation complete\n",
      "========= Step 1 =========\n"
     ]
    },
    {
     "name": "stderr",
     "output_type": "stream",
     "text": [
      "INFO:httpx:HTTP Request: POST https://api.anthropic.com/v1/messages?beta=true \"HTTP/1.1 200 OK\"\n"
     ]
    },
    {
     "name": "stdout",
     "output_type": "stream",
     "text": [
      "Agent's action: [PressAction(type='press', keys=['start']), WaitAction(type='wait', time=1000)]\n"
     ]
    },
    {
     "name": "stderr",
     "output_type": "stream",
     "text": [
      "WARNING:hud.environment:Step produced stderr: UserWarning: Using SDL2 binaries from pysdl2-dll 2.32.0\n",
      "\n"
     ]
    },
    {
     "name": "stdout",
     "output_type": "stream",
     "text": [
      "{'player_x': 0, 'player_y': 0, 'map_id': 0, 'is_paused': False}\n"
     ]
    },
    {
     "data": {
      "text/html": [
       "\n",
       "    <div style=\"width: 160px; height: 144px; overflow: hidden; margin: 10px 0; border: 1px solid #ddd;\">\n",
       "        <img src=\"data:image/png;base64,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\" style=\"max-width: 100%; max-height: 100%;\">\n",
       "    </div>\n",
       "    "
      ],
      "text/plain": [
       "<IPython.core.display.HTML object>"
      ]
     },
     "metadata": {},
     "output_type": "display_data"
    },
    {
     "name": "stdout",
     "output_type": "stream",
     "text": [
      "========= Step 2 =========\n"
     ]
    },
    {
     "name": "stderr",
     "output_type": "stream",
     "text": [
      "INFO:httpx:HTTP Request: POST https://api.anthropic.com/v1/messages?beta=true \"HTTP/1.1 200 OK\"\n"
     ]
    },
    {
     "name": "stdout",
     "output_type": "stream",
     "text": [
      "Agent's action: [PressAction(type='press', keys=['start']), WaitAction(type='wait', time=1500)]\n"
     ]
    },
    {
     "name": "stderr",
     "output_type": "stream",
     "text": [
      "WARNING:hud.environment:Step produced stderr: UserWarning: Using SDL2 binaries from pysdl2-dll 2.32.0\n",
      "\n"
     ]
    },
    {
     "name": "stdout",
     "output_type": "stream",
     "text": [
      "{'player_x': 0, 'player_y': 0, 'map_id': 0, 'is_paused': False}\n"
     ]
    },
    {
     "data": {
      "text/html": [
       "\n",
       "    <div style=\"width: 160px; height: 144px; overflow: hidden; margin: 10px 0; border: 1px solid #ddd;\">\n",
       "        <img src=\"data:image/png;base64,iVBORw0KGgoAAAANSUhEUgAAAKAAAACQCAIAAAAA1/fXAAABYklEQVR4nO3RAQkAIBDAQLV/5zeFCOMuwWB7ZhZd53cAbxkcZ3CcwXEGxxkcZ3CcwXEGxxkcZ3CcwXEGxxkcZ3CcwXEGxxkcZ3CcwXEGxxkcZ3CcwXEGxxkcZ3CcwXEGxxkcZ3CcwXEGxxkcZ3CcwXEGxxkcZ3CcwXEGxxkcZ3CcwXEGxxkcZ3CcwXEGxxkcZ3CcwXEGxxkcZ3CcwXEGxxkcZ3CcwXEGxxkcZ3CcwXEGxxkcZ3CcwXEGxxkcZ3CcwXEGxxkcZ3CcwXEGxxkcZ3CcwXEGxxkcZ3CcwXEGxxkcZ3CcwXEGxxkcZ3CcwXEGxxkcZ3CcwXEGxxkcZ3CcwXEGxxkcZ3CcwXEGxxkcZ3CcwXEGxxkcZ3CcwXEGxxkcZ3CcwXEGxxkcZ3CcwXEGxxkcZ3CcwXEGxxkcZ3CcwXEGxxkcZ3CcwXEGxxkcZ3CcwXEGxxkcZ3CcwXEGxxkcZ3DcBfY1BB2bo+a1AAAAAElFTkSuQmCC\" style=\"max-width: 100%; max-height: 100%;\">\n",
       "    </div>\n",
       "    "
      ],
      "text/plain": [
       "<IPython.core.display.HTML object>"
      ]
     },
     "metadata": {},
     "output_type": "display_data"
    },
    {
     "name": "stderr",
     "output_type": "stream",
     "text": [
      "ERROR:asyncio:Unclosed client session\n",
      "client_session: <aiohttp.client.ClientSession object at 0x1072d6b40>\n"
     ]
    },
    {
     "name": "stdout",
     "output_type": "stream",
     "text": [
      "========= Step 3 =========\n"
     ]
    },
    {
     "name": "stderr",
     "output_type": "stream",
     "text": [
      "INFO:httpx:HTTP Request: POST https://api.anthropic.com/v1/messages?beta=true \"HTTP/1.1 200 OK\"\n"
     ]
    },
    {
     "name": "stdout",
     "output_type": "stream",
     "text": [
      "Agent's action: [WaitAction(type='wait', time=2000), PressAction(type='press', keys=['start']), WaitAction(type='wait', time=1000)]\n"
     ]
    },
    {
     "name": "stderr",
     "output_type": "stream",
     "text": [
      "WARNING:hud.environment:Step produced stderr: UserWarning: Using SDL2 binaries from pysdl2-dll 2.32.0\n",
      "\n"
     ]
    },
    {
     "name": "stdout",
     "output_type": "stream",
     "text": [
      "{'player_x': 6, 'player_y': 3, 'map_id': 38, 'is_paused': False}\n"
     ]
    },
    {
     "data": {
      "text/html": [
       "\n",
       "    <div style=\"width: 160px; height: 144px; overflow: hidden; margin: 10px 0; border: 1px solid #ddd;\">\n",
       "        <img src=\"data:image/png;base64,iVBORw0KGgoAAAANSUhEUgAAAKAAAACQCAIAAAAA1/fXAAADWklEQVR4nO3c4W6bMBRA4dtpz8o7hZdNfyBZFBtD01XZPfecH1PaJVKkbwZjwz6ez2cYtz/v/gL2uwkMT2B4AsMTGJ7A8ASGJzA8geEJDE9geALDExiewPAEhicwPIHhCQxPYHgCwxMYnsDwBIYnMDyB4QkMT2B4AsMTGJ7A8ASGxwFe13Vd1/2Pb/wy/09/3/0F/k3rui7LEjvXZVkOxtsbqvWBecK/GU/esL0oJZ0euGfbfjNRvPynQCr9Ofjg2rzn5+A6Z2jCObidbods/S/70zO49CM4Tgjj69F7K4rpBgP4cEJtkNGdbjfdOifgYADHaEq1QQ4tHcG5O1vu2K+E1BnE6S+TtvqFjkmlDtSoEdzY2p9Ncf/7UqGAW/txfH9kI4McoqNb0jpbz7pc54LFGcE3F6Iv3wmLAxzdsmWM9hBL6QbpEN06236IYmN3CzWCwz2GLs4IHk6yWu3at9pRmrCbNL8o6leqS02k0wNfHnWHJ+BCzM/kPR6P/evtx/Zi+M7DR37/O76z9CM4dmsX/RbhYXw7yUrWa2CHwzJ72pX+Mqm3OdsGbn9V6vbpxMD93Rpxb2thfw8XeOxuJQY+6868Gu/ayjrJ6m+jPGwGx+3DL3v1IytwfD37HoQmtGDLYSkP0UOkshuC81ICnzUcuIc7oqvZJz5E7+sfbpgP8eHHkfYpR/DLTycgCedlHcFz4/uQ1IHbyr1UGd0d0Xv4/gml/rPtNZU56wju+9ZJt04c4L7JsmWd/90h9yG63YUT9xawhvuJYN1IOos+1O8RWYsAbJMEhicwPDgwewJ1p/TAP5lbVZiXpb8Ofm3+3C97UUsPHN3O/7fejy838E8eUCjyZEPulayts1F7ubaF1w3AJMvmCQxPYHjpged3yL78WUzpgS+roDgp92VSq9/f3T/oMLw1pwh8+sukm5dAw1s48Lv9AQCO2/ffnP2/4ewIwDaJP8kqnsDwBIYnMDyB4QkMT2B4AsMTGJ7A8ASGJzA8geEJDE9geALDExiewPAEhicwPIHhCQxPYHgCwxMYnsDwBIYnMDyB4QkMT2B4AsMTGJ7A8ASGJzA8geEJDE9geALDExiewPAEhicwPIHhCQxPYHgCwxMYnsDwBIYnMDyB4QkMT2B4n8UrgPReIq4xAAAAAElFTkSuQmCC\" style=\"max-width: 100%; max-height: 100%;\">\n",
       "    </div>\n",
       "    "
      ],
      "text/plain": [
       "<IPython.core.display.HTML object>"
      ]
     },
     "metadata": {},
     "output_type": "display_data"
    },
    {
     "name": "stdout",
     "output_type": "stream",
     "text": [
      "========= Step 4 =========\n"
     ]
    },
    {
     "name": "stderr",
     "output_type": "stream",
     "text": [
      "INFO:httpx:HTTP Request: POST https://api.anthropic.com/v1/messages?beta=true \"HTTP/1.1 200 OK\"\n"
     ]
    },
    {
     "name": "stdout",
     "output_type": "stream",
     "text": [
      "Agent's action: [PressAction(type='press', keys=['a']), WaitAction(type='wait', time=1000)]\n"
     ]
    },
    {
     "name": "stderr",
     "output_type": "stream",
     "text": [
      "WARNING:hud.environment:Step produced stderr: UserWarning: Using SDL2 binaries from pysdl2-dll 2.32.0\n",
      "\n"
     ]
    },
    {
     "name": "stdout",
     "output_type": "stream",
     "text": [
      "{'player_x': 6, 'player_y': 3, 'map_id': 38, 'is_paused': False}\n"
     ]
    },
    {
     "data": {
      "text/html": [
       "\n",
       "    <div style=\"width: 160px; height: 144px; overflow: hidden; margin: 10px 0; border: 1px solid #ddd;\">\n",
       "        <img src=\"data:image/png;base64,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\" style=\"max-width: 100%; max-height: 100%;\">\n",
       "    </div>\n",
       "    "
      ],
      "text/plain": [
       "<IPython.core.display.HTML object>"
      ]
     },
     "metadata": {},
     "output_type": "display_data"
    },
    {
     "name": "stdout",
     "output_type": "stream",
     "text": [
      "========= Step 5 =========\n"
     ]
    },
    {
     "name": "stderr",
     "output_type": "stream",
     "text": [
      "INFO:httpx:HTTP Request: POST https://api.anthropic.com/v1/messages?beta=true \"HTTP/1.1 200 OK\"\n"
     ]
    },
    {
     "name": "stdout",
     "output_type": "stream",
     "text": [
      "Agent's action: [PressAction(type='press', keys=['a']), WaitAction(type='wait', time=1000)]\n"
     ]
    },
    {
     "name": "stderr",
     "output_type": "stream",
     "text": [
      "WARNING:hud.environment:Step produced stderr: UserWarning: Using SDL2 binaries from pysdl2-dll 2.32.0\n",
      "\n"
     ]
    },
    {
     "name": "stdout",
     "output_type": "stream",
     "text": [
      "{'player_x': 6, 'player_y': 3, 'map_id': 38, 'is_paused': False}\n"
     ]
    },
    {
     "data": {
      "text/html": [
       "\n",
       "    <div style=\"width: 160px; height: 144px; overflow: hidden; margin: 10px 0; border: 1px solid #ddd;\">\n",
       "        <img src=\"data:image/png;base64,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\" style=\"max-width: 100%; max-height: 100%;\">\n",
       "    </div>\n",
       "    "
      ],
      "text/plain": [
       "<IPython.core.display.HTML object>"
      ]
     },
     "metadata": {},
     "output_type": "display_data"
    },
    {
     "name": "stdout",
     "output_type": "stream",
     "text": [
      "========= Step 6 =========\n"
     ]
    },
    {
     "name": "stderr",
     "output_type": "stream",
     "text": [
      "INFO:httpx:HTTP Request: POST https://api.anthropic.com/v1/messages?beta=true \"HTTP/1.1 200 OK\"\n"
     ]
    },
    {
     "name": "stdout",
     "output_type": "stream",
     "text": [
      "Agent's action: [PressAction(type='press', keys=['a']), WaitAction(type='wait', time=1000)]\n"
     ]
    },
    {
     "name": "stderr",
     "output_type": "stream",
     "text": [
      "WARNING:hud.environment:Step produced stderr: UserWarning: Using SDL2 binaries from pysdl2-dll 2.32.0\n",
      "\n"
     ]
    },
    {
     "name": "stdout",
     "output_type": "stream",
     "text": [
      "{'player_x': 6, 'player_y': 3, 'map_id': 38, 'is_paused': False}\n"
     ]
    },
    {
     "data": {
      "text/html": [
       "\n",
       "    <div style=\"width: 160px; height: 144px; overflow: hidden; margin: 10px 0; border: 1px solid #ddd;\">\n",
       "        <img src=\"data:image/png;base64,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\" style=\"max-width: 100%; max-height: 100%;\">\n",
       "    </div>\n",
       "    "
      ],
      "text/plain": [
       "<IPython.core.display.HTML object>"
      ]
     },
     "metadata": {},
     "output_type": "display_data"
    },
    {
     "name": "stdout",
     "output_type": "stream",
     "text": [
      "========= Step 7 =========\n"
     ]
    },
    {
     "name": "stderr",
     "output_type": "stream",
     "text": [
      "INFO:httpx:HTTP Request: POST https://api.anthropic.com/v1/messages?beta=true \"HTTP/1.1 200 OK\"\n"
     ]
    },
    {
     "name": "stdout",
     "output_type": "stream",
     "text": [
      "Agent's action: [PressAction(type='press', keys=['a']), WaitAction(type='wait', time=1000)]\n"
     ]
    },
    {
     "name": "stderr",
     "output_type": "stream",
     "text": [
      "WARNING:hud.environment:Step produced stderr: UserWarning: Using SDL2 binaries from pysdl2-dll 2.32.0\n",
      "\n"
     ]
    },
    {
     "name": "stdout",
     "output_type": "stream",
     "text": [
      "{'player_x': 6, 'player_y': 3, 'map_id': 38, 'is_paused': False}\n"
     ]
    },
    {
     "data": {
      "text/html": [
       "\n",
       "    <div style=\"width: 160px; height: 144px; overflow: hidden; margin: 10px 0; border: 1px solid #ddd;\">\n",
       "        <img src=\"data:image/png;base64,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\" style=\"max-width: 100%; max-height: 100%;\">\n",
       "    </div>\n",
       "    "
      ],
      "text/plain": [
       "<IPython.core.display.HTML object>"
      ]
     },
     "metadata": {},
     "output_type": "display_data"
    },
    {
     "name": "stdout",
     "output_type": "stream",
     "text": [
      "========= Step 8 =========\n"
     ]
    },
    {
     "name": "stderr",
     "output_type": "stream",
     "text": [
      "INFO:httpx:HTTP Request: POST https://api.anthropic.com/v1/messages?beta=true \"HTTP/1.1 200 OK\"\n"
     ]
    },
    {
     "name": "stdout",
     "output_type": "stream",
     "text": [
      "Agent's action: [PressAction(type='press', keys=['a']), WaitAction(type='wait', time=1000)]\n"
     ]
    },
    {
     "name": "stderr",
     "output_type": "stream",
     "text": [
      "WARNING:hud.environment:Step produced stderr: UserWarning: Using SDL2 binaries from pysdl2-dll 2.32.0\n",
      "\n"
     ]
    },
    {
     "name": "stdout",
     "output_type": "stream",
     "text": [
      "{'player_x': 6, 'player_y': 3, 'map_id': 38, 'is_paused': False}\n"
     ]
    },
    {
     "data": {
      "text/html": [
       "\n",
       "    <div style=\"width: 160px; height: 144px; overflow: hidden; margin: 10px 0; border: 1px solid #ddd;\">\n",
       "        <img src=\"data:image/png;base64,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\" style=\"max-width: 100%; max-height: 100%;\">\n",
       "    </div>\n",
       "    "
      ],
      "text/plain": [
       "<IPython.core.display.HTML object>"
      ]
     },
     "metadata": {},
     "output_type": "display_data"
    },
    {
     "name": "stdout",
     "output_type": "stream",
     "text": [
      "========= Step 9 =========\n"
     ]
    },
    {
     "name": "stderr",
     "output_type": "stream",
     "text": [
      "INFO:httpx:HTTP Request: POST https://api.anthropic.com/v1/messages?beta=true \"HTTP/1.1 200 OK\"\n"
     ]
    },
    {
     "name": "stdout",
     "output_type": "stream",
     "text": [
      "Agent's action: [PressAction(type='press', keys=['a']), WaitAction(type='wait', time=1000)]\n"
     ]
    },
    {
     "name": "stderr",
     "output_type": "stream",
     "text": [
      "WARNING:hud.environment:Step produced stderr: UserWarning: Using SDL2 binaries from pysdl2-dll 2.32.0\n",
      "\n"
     ]
    },
    {
     "name": "stdout",
     "output_type": "stream",
     "text": [
      "{'player_x': 6, 'player_y': 3, 'map_id': 38, 'is_paused': False}\n"
     ]
    },
    {
     "data": {
      "text/html": [
       "\n",
       "    <div style=\"width: 160px; height: 144px; overflow: hidden; margin: 10px 0; border: 1px solid #ddd;\">\n",
       "        <img src=\"data:image/png;base64,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\" style=\"max-width: 100%; max-height: 100%;\">\n",
       "    </div>\n",
       "    "
      ],
      "text/plain": [
       "<IPython.core.display.HTML object>"
      ]
     },
     "metadata": {},
     "output_type": "display_data"
    },
    {
     "name": "stdout",
     "output_type": "stream",
     "text": [
      "========= Step 10 =========\n"
     ]
    },
    {
     "name": "stderr",
     "output_type": "stream",
     "text": [
      "INFO:httpx:HTTP Request: POST https://api.anthropic.com/v1/messages?beta=true \"HTTP/1.1 200 OK\"\n"
     ]
    },
    {
     "name": "stdout",
     "output_type": "stream",
     "text": [
      "Agent's action: [PressAction(type='press', keys=['a']), WaitAction(type='wait', time=1000)]\n"
     ]
    },
    {
     "name": "stderr",
     "output_type": "stream",
     "text": [
      "WARNING:hud.environment:Step produced stderr: UserWarning: Using SDL2 binaries from pysdl2-dll 2.32.0\n",
      "\n"
     ]
    },
    {
     "name": "stdout",
     "output_type": "stream",
     "text": [
      "{'player_x': 6, 'player_y': 3, 'map_id': 38, 'is_paused': False}\n"
     ]
    },
    {
     "data": {
      "text/html": [
       "\n",
       "    <div style=\"width: 160px; height: 144px; overflow: hidden; margin: 10px 0; border: 1px solid #ddd;\">\n",
       "        <img src=\"data:image/png;base64,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\" style=\"max-width: 100%; max-height: 100%;\">\n",
       "    </div>\n",
       "    "
      ],
      "text/plain": [
       "<IPython.core.display.HTML object>"
      ]
     },
     "metadata": {},
     "output_type": "display_data"
    }
   ],
   "source": [
    "from hud.agent import ClaudePlaysPokemon\n",
    "from hud.utils.telemetry import display_screenshot\n",
    "\n",
    "agent = ClaudePlaysPokemon()\n",
    "\n",
    "obs, _ = await env.reset()\n",
    "print(f\"Initial observation complete\")\n",
    "\n",
    "# Agent loop\n",
    "for i in range(10):\n",
    "    print(f\"========= Step {i + 1} =========\")\n",
    "    action, done = await agent.predict(obs)\n",
    "    print(f\"Agent's action: {action}\")\n",
    "\n",
    "    if done:\n",
    "        print(\"done\")\n",
    "        break\n",
    "\n",
    "    obs, reward, terminated, info = await env.step(action)\n",
    "\n",
    "    if terminated:\n",
    "        print(\"terminated\")\n",
    "        break\n",
    "\n",
    "    print(obs.text)\n",
    "    display_screenshot(obs.screenshot, width=160, height=144)"
   ]
  },
  {
   "cell_type": "code",
   "execution_count": 5,
   "metadata": {},
   "outputs": [
    {
     "name": "stderr",
     "output_type": "stream",
     "text": [
      "WARNING:hud.environment:evaluate produced stderr:\n",
      "UserWarning: Using SDL2 binaries from pysdl2-dll 2.32.0\n",
      "\n"
     ]
    },
    {
     "data": {
      "text/plain": [
       "{'badges': 0, 'num_pokemon_in_party': 0, 'money': 0, 'map_id': 38}"
      ]
     },
     "execution_count": 5,
     "metadata": {},
     "output_type": "execute_result"
    }
   ],
   "source": [
    "await env.evaluate()"
   ]
  },
  {
   "cell_type": "code",
   "execution_count": 6,
   "metadata": {},
   "outputs": [],
   "source": [
    "await env.close()"
   ]
  }
 ],
 "metadata": {
  "kernelspec": {
   "display_name": ".venv",
   "language": "python",
   "name": "python3"
  },
  "language_info": {
   "codemirror_mode": {
    "name": "ipython",
    "version": 3
   },
   "file_extension": ".py",
   "mimetype": "text/x-python",
   "name": "python",
   "nbconvert_exporter": "python",
   "pygments_lexer": "ipython3",
   "version": "3.12.9"
  }
 },
 "nbformat": 4,
 "nbformat_minor": 2
}
