{
 "cells": [
  {
   "cell_type": "code",
   "execution_count": 2,
   "metadata": {},
   "outputs": [],
   "source": [
    "from hud import gym\n",
    "from hud.task import Task\n",
    "from hud.agent import ClaudeAgent, OperatorAgent, LangchainAgent  # Pick your agent"
   ]
  },
  {
   "cell_type": "code",
   "execution_count": null,
   "metadata": {},
   "outputs": [],
   "source": [
    "task = Task(\n",
    "    prompt=\"Solve the Wordle puzzle!\",\n",
    "    description=\"This task requires perception, reasoning, and interaction in a game.\",\n",
    "    gym=\"hud-browser\",\n",
    "    setup=(\"goto\", \"https://www.nytimes.com/games/wordle/index.html\"),\n",
    "    evaluate=(\"page_contains\", \"Congratulations!\"),\n",
    ")"
   ]
  },
  {
   "cell_type": "code",
   "execution_count": 4,
   "metadata": {},
   "outputs": [
    {
     "name": "stderr",
     "output_type": "stream",
     "text": [
      "2025-05-27 13:38:16,690 - hud.gym - INFO - Creating private environment\n",
      "2025-05-27 13:38:29,692 - hud.env.remote_env_client - INFO - Gym created, see how to use it at https://docs.hud.so/environments/browser\n"
     ]
    },
    {
     "data": {
      "text/html": [
       "\n",
       "    <div style=\"width: 960px; height: 540px; overflow: hidden;\">\n",
       "        <div style=\"transform: scale(0.5); transform-origin: top left;\">\n",
       "            <iframe src=\"https://live.anchorbrowser.io?sessionId=7f62910b-7b59-40b1-8251-221cf96f0ac0\" width=\"1920\" height=\"1080\" style=\"border: 1px solid #ddd;\">\n",
       "            </iframe>\n",
       "        </div>\n",
       "    </div>\n",
       "    "
      ],
      "text/plain": [
       "<IPython.core.display.HTML object>"
      ]
     },
     "metadata": {},
     "output_type": "display_data"
    },
    {
     "data": {
      "text/plain": [
       "'\\n    <div style=\"width: 960px; height: 540px; overflow: hidden;\">\\n        <div style=\"transform: scale(0.5); transform-origin: top left;\">\\n            <iframe src=\"https://live.anchorbrowser.io?sessionId=7f62910b-7b59-40b1-8251-221cf96f0ac0\" width=\"1920\" height=\"1080\" style=\"border: 1px solid #ddd;\">\\n            </iframe>\\n        </div>\\n    </div>\\n    '"
      ]
     },
     "execution_count": 4,
     "metadata": {},
     "output_type": "execute_result"
    }
   ],
   "source": [
    "env = await gym.make(task)\n",
    "await env.stream()"
   ]
  },
  {
   "cell_type": "code",
   "execution_count": 5,
   "metadata": {},
   "outputs": [
    {
     "name": "stderr",
     "output_type": "stream",
     "text": [
      "2025-05-27 13:38:50,107 - hud.environment - INFO - Running agent in environment...\n",
      "2025-05-27 13:38:55,178 - hud.agent.base - INFO - Predicting action...\n",
      "2025-05-27 13:38:57,896 - hud.agent.base - INFO - Raw action: [{'action': 'screenshot'}]\n",
      "2025-05-27 13:38:57,900 - hud.environment - INFO - Step 0: Action: [ScreenshotFetch(type='screenshot')]\n",
      "2025-05-27 13:39:03,326 - hud.environment - INFO - Step 0: Observation: Observation(screenshot=iVBORw0KGgoAAAANSUhEUgAABaAAAAOECAIAAADYLwGFAAAAAXNSR0IArs4c6QAAIABJREFUeJzs3X981XdhL/73ITmEhJBAwSI1..., text=...)\n",
      "2025-05-27 13:39:03,327 - hud.agent.base - INFO - Predicting action...\n",
      "2025-05-27 13:39:07,188 - hud.agent.base - INFO - Raw action: [{'action': 'left_click', 'coordinate': [363, 456]}]\n",
      "2025-05-27 13:39:07,192 - hud.environment - INFO - Step 1: Action: [ClickAction(type='click', point=Point(x=510, y=534), button='left', pattern=None, hold_keys=None)]\n",
      "2025-05-27 13:39:12,836 - hud.environment - INFO - Step 1: Observation: Observation(screenshot=iVBORw0KGgoAAAANSUhEUgAABaAAAAOECAIAAADYLwGFAAAAAXNSR0IArs4c6QAAIABJREFUeJzs3X2YVGdhN/572B2WXZZd3gyS..., text=...)\n",
      "2025-05-27 13:39:12,836 - hud.agent.base - INFO - Predicting action...\n",
      "2025-05-27 13:39:16,132 - hud.agent.base - INFO - Raw action: [{'action': 'left_click', 'coordinate': [696, 456]}]\n",
      "2025-05-27 13:39:16,136 - hud.environment - INFO - Step 2: Action: [ClickAction(type='click', point=Point(x=978, y=534), button='left', pattern=None, hold_keys=None)]\n",
      "2025-05-27 13:39:21,335 - hud.environment - INFO - Step 2: Observation: Observation(screenshot=iVBORw0KGgoAAAANSUhEUgAABaAAAAOECAIAAADYLwGFAAAAAXNSR0IArs4c6QAAIABJREFUeJzs3X2YXGVhN/57sjvZ7GazmzeJ..., text=...)\n",
      "2025-05-27 13:39:21,335 - hud.agent.base - INFO - Predicting action...\n",
      "2025-05-27 13:39:24,454 - hud.agent.base - INFO - Raw action: [{'action': 'left_click', 'coordinate': [316, 456]}]\n",
      "2025-05-27 13:39:24,457 - hud.environment - INFO - Step 3: Action: [ClickAction(type='click', point=Point(x=444, y=534), button='left', pattern=None, hold_keys=None)]\n",
      "2025-05-27 13:39:29,680 - hud.environment - INFO - Step 3: Observation: Observation(screenshot=iVBORw0KGgoAAAANSUhEUgAABaAAAAOECAIAAADYLwGFAAAAAXNSR0IArs4c6QAAIABJREFUeJzs3XucVGdhP/5n2B2WXZZdLjFI..., text=...)\n",
      "2025-05-27 13:39:29,680 - hud.agent.base - INFO - Predicting action...\n",
      "2025-05-27 13:39:32,867 - hud.agent.base - INFO - Raw action: [{'action': 'left_click', 'coordinate': [485, 411]}]\n",
      "2025-05-27 13:39:32,871 - hud.environment - INFO - Step 4: Action: [ClickAction(type='click', point=Point(x=682, y=481), button='left', pattern=None, hold_keys=None)]\n",
      "2025-05-27 13:39:37,857 - hud.environment - INFO - Step 4: Observation: Observation(screenshot=iVBORw0KGgoAAAANSUhEUgAABaAAAAOECAIAAADYLwGFAAAAAXNSR0IArs4c6QAAIABJREFUeJzs3XucVGdhP/5n2B2WXRaWSwwS..., text=...)\n",
      "2025-05-27 13:39:37,857 - hud.agent.base - INFO - Predicting action...\n",
      "2025-05-27 13:39:41,028 - hud.agent.base - INFO - Raw action: [{'action': 'left_click', 'coordinate': [400, 411]}]\n",
      "2025-05-27 13:39:41,031 - hud.environment - INFO - Step 5: Action: [ClickAction(type='click', point=Point(x=562, y=481), button='left', pattern=None, hold_keys=None)]\n",
      "2025-05-27 13:39:46,118 - hud.environment - INFO - Step 5: Observation: Observation(screenshot=iVBORw0KGgoAAAANSUhEUgAABaAAAAOECAIAAADYLwGFAAAAAXNSR0IArs4c6QAAIABJREFUeJzs3XucXGVhP/5nsjvZ7GaTzQWJ..., text=...)\n",
      "2025-05-27 13:39:46,119 - hud.agent.base - INFO - Predicting action...\n",
      "2025-05-27 13:39:49,014 - hud.agent.base - INFO - Raw action: [{'action': 'left_click', 'coordinate': [684, 501]}]\n",
      "2025-05-27 13:39:49,017 - hud.environment - INFO - Step 6: Action: [ClickAction(type='click', point=Point(x=961, y=587), button='left', pattern=None, hold_keys=None)]\n",
      "2025-05-27 13:39:54,828 - hud.environment - INFO - Step 6: Observation: Observation(screenshot=iVBORw0KGgoAAAANSUhEUgAABaAAAAOECAIAAADYLwGFAAAAAXNSR0IArs4c6QAAIABJREFUeJzs3XucXWVhL/xnz+w9k7lkJvcE..., text=...)\n",
      "2025-05-27 13:39:54,828 - hud.agent.base - INFO - Predicting action...\n",
      "2025-05-27 13:40:00,656 - hud.agent.base - INFO - Raw action: [{'action': 'left_click', 'coordinate': [465, 501]}]\n",
      "2025-05-27 13:40:00,660 - hud.environment - INFO - Step 7: Action: [ClickAction(type='click', point=Point(x=653, y=587), button='left', pattern=None, hold_keys=None)]\n",
      "2025-05-27 13:40:06,175 - hud.environment - INFO - Step 7: Observation: Observation(screenshot=iVBORw0KGgoAAAANSUhEUgAABaAAAAOECAIAAADYLwGFAAAAAXNSR0IArs4c6QAAIABJREFUeJzs3Xt8nHWBL/7vJJmkubTpjd5o..., text=...)\n",
      "2025-05-27 13:40:06,175 - hud.agent.base - INFO - Predicting action...\n",
      "2025-05-27 13:40:09,928 - hud.agent.base - INFO - Raw action: [{'action': 'left_click', 'coordinate': [696, 456]}]\n",
      "2025-05-27 13:40:09,931 - hud.environment - INFO - Step 8: Action: [ClickAction(type='click', point=Point(x=978, y=534), button='left', pattern=None, hold_keys=None)]\n",
      "2025-05-27 13:40:15,253 - hud.environment - INFO - Step 8: Observation: Observation(screenshot=iVBORw0KGgoAAAANSUhEUgAABaAAAAOECAIAAADYLwGFAAAAAXNSR0IArs4c6QAAIABJREFUeJzs3XucXWVhL/xnz8yeyVySyY3c..., text=...)\n",
      "2025-05-27 13:40:15,254 - hud.agent.base - INFO - Predicting action...\n",
      "2025-05-27 13:40:19,428 - hud.agent.base - INFO - Raw action: [{'action': 'left_click', 'coordinate': [400, 411]}]\n",
      "2025-05-27 13:40:19,432 - hud.environment - INFO - Step 9: Action: [ClickAction(type='click', point=Point(x=562, y=481), button='left', pattern=None, hold_keys=None)]\n",
      "2025-05-27 13:40:25,033 - hud.environment - INFO - Step 9: Observation: Observation(screenshot=iVBORw0KGgoAAAANSUhEUgAABaAAAAOECAIAAADYLwGFAAAAAXNSR0IArs4c6QAAIABJREFUeJzs3Xl8XOVhL/xnJI1kLba84Q0b..., text=...)\n",
      "2025-05-27 13:40:25,033 - hud.agent.base - INFO - Predicting action...\n",
      "2025-05-27 13:40:31,411 - hud.agent.base - INFO - Raw action: [{'action': 'left_click', 'coordinate': [316, 456]}]\n",
      "2025-05-27 13:40:31,414 - hud.environment - INFO - Step 10: Action: [ClickAction(type='click', point=Point(x=444, y=534), button='left', pattern=None, hold_keys=None)]\n",
      "2025-05-27 13:40:36,794 - hud.environment - INFO - Step 10: Observation: Observation(screenshot=iVBORw0KGgoAAAANSUhEUgAABaAAAAOECAIAAADYLwGFAAAAAXNSR0IArs4c6QAAIABJREFUeJzs3Xt83GWBL/5nkkzSNGnT+wVa..., text=...)\n",
      "2025-05-27 13:40:36,795 - hud.agent.base - INFO - Predicting action...\n",
      "2025-05-27 13:40:41,215 - hud.agent.base - INFO - Raw action: [{'action': 'left_click', 'coordinate': [588, 501]}]\n",
      "2025-05-27 13:40:41,219 - hud.environment - INFO - Step 11: Action: [ClickAction(type='click', point=Point(x=826, y=587), button='left', pattern=None, hold_keys=None)]\n",
      "2025-05-27 13:40:46,857 - hud.environment - INFO - Step 11: Observation: Observation(screenshot=iVBORw0KGgoAAAANSUhEUgAABaAAAAOECAIAAADYLwGFAAAAAXNSR0IArs4c6QAAIABJREFUeJzs3XmcnWVhN/zrzMyZyWQmmWxk..., text=...)\n",
      "2025-05-27 13:40:46,858 - hud.agent.base - INFO - Predicting action...\n",
      "2025-05-27 13:40:51,443 - hud.agent.base - INFO - Raw action: [{'action': 'left_click', 'coordinate': [684, 501]}]\n",
      "2025-05-27 13:40:51,447 - hud.environment - INFO - Step 12: Action: [ClickAction(type='click', point=Point(x=961, y=587), button='left', pattern=None, hold_keys=None)]\n",
      "2025-05-27 13:40:57,293 - hud.environment - INFO - Step 12: Observation: Observation(screenshot=iVBORw0KGgoAAAANSUhEUgAABaAAAAOECAIAAADYLwGFAAAAAXNSR0IArs4c6QAAIABJREFUeJzs3XmYZGVhL/63uqp6md5mn2H2..., text=...)\n",
      "2025-05-27 13:40:57,293 - hud.agent.base - INFO - Predicting action...\n",
      "2025-05-27 13:41:04,895 - hud.agent.base - INFO - Raw action: [{'action': 'left_click', 'coordinate': [698, 411]}]\n",
      "2025-05-27 13:41:04,899 - hud.environment - INFO - Step 13: Action: [ClickAction(type='click', point=Point(x=981, y=481), button='left', pattern=None, hold_keys=None)]\n",
      "2025-05-27 13:41:11,961 - hud.environment - INFO - Step 13: Observation: Observation(screenshot=iVBORw0KGgoAAAANSUhEUgAABaAAAAOECAIAAADYLwGFAAAAAXNSR0IArs4c6QAAIABJREFUeJzs3Xmc3HWBJ/xfdR3dne6kcyfk..., text=...)\n",
      "2025-05-27 13:41:11,961 - hud.agent.base - INFO - Predicting action...\n",
      "2025-05-27 13:41:16,882 - hud.agent.base - INFO - Raw action: [{'action': 'left_click', 'coordinate': [696, 456]}]\n",
      "2025-05-27 13:41:16,885 - hud.environment - INFO - Step 14: Action: [ClickAction(type='click', point=Point(x=978, y=534), button='left', pattern=None, hold_keys=None)]\n",
      "2025-05-27 13:41:23,571 - hud.environment - INFO - Step 14: Observation: Observation(screenshot=iVBORw0KGgoAAAANSUhEUgAABaAAAAOECAIAAADYLwGFAAAAAXNSR0IArs4c6QAAIABJREFUeJzs3XmcpGVhL/q3upbunu6enn2G..., text=...)\n",
      "2025-05-27 13:41:23,572 - hud.agent.base - INFO - Predicting action...\n",
      "2025-05-27 13:41:28,443 - hud.agent.base - INFO - Raw action: [{'action': 'left_click', 'coordinate': [400, 411]}]\n",
      "2025-05-27 13:41:28,446 - hud.environment - INFO - Step 15: Action: [ClickAction(type='click', point=Point(x=562, y=481), button='left', pattern=None, hold_keys=None)]\n",
      "2025-05-27 13:41:34,760 - hud.environment - INFO - Step 15: Observation: Observation(screenshot=iVBORw0KGgoAAAANSUhEUgAABaAAAAOECAIAAADYLwGFAAAAAXNSR0IArs4c6QAAIABJREFUeJzs3XmcZGVhL/xTXUt3T/dMz76v..., text=...)\n",
      "2025-05-27 13:41:34,760 - hud.agent.base - INFO - Predicting action...\n",
      "2025-05-27 13:41:39,855 - hud.agent.base - INFO - Raw action: [{'action': 'left_click', 'coordinate': [316, 456]}]\n",
      "2025-05-27 13:41:39,859 - hud.environment - INFO - Step 16: Action: [ClickAction(type='click', point=Point(x=444, y=534), button='left', pattern=None, hold_keys=None)]\n",
      "2025-05-27 13:41:46,548 - hud.environment - INFO - Step 16: Observation: Observation(screenshot=iVBORw0KGgoAAAANSUhEUgAABaAAAAOECAIAAADYLwGFAAAAAXNSR0IArs4c6QAAIABJREFUeJzs3XmYXHWBL/xTXUun05109n0F..., text=...)\n",
      "2025-05-27 13:41:46,548 - hud.agent.base - INFO - Predicting action...\n",
      "2025-05-27 13:41:51,583 - hud.agent.base - INFO - Raw action: [{'action': 'left_click', 'coordinate': [411, 456]}]\n",
      "2025-05-27 13:41:51,586 - hud.environment - INFO - Step 17: Action: [ClickAction(type='click', point=Point(x=577, y=534), button='left', pattern=None, hold_keys=None)]\n",
      "2025-05-27 13:41:57,184 - hud.environment - INFO - Step 17: Observation: Observation(screenshot=iVBORw0KGgoAAAANSUhEUgAABaAAAAOECAIAAADYLwGFAAAAAXNSR0IArs4c6QAAIABJREFUeJzs3Xl4XGdhL/4zmkWWJVve9zWJ..., text=...)\n",
      "2025-05-27 13:41:57,185 - hud.agent.base - INFO - Predicting action...\n",
      "2025-05-27 13:42:02,776 - hud.agent.base - INFO - Raw action: [{'action': 'left_click', 'coordinate': [684, 501]}]\n",
      "2025-05-27 13:42:02,779 - hud.environment - INFO - Step 18: Action: [ClickAction(type='click', point=Point(x=961, y=587), button='left', pattern=None, hold_keys=None)]\n",
      "2025-05-27 13:42:08,392 - hud.environment - INFO - Step 18: Observation: Observation(screenshot=iVBORw0KGgoAAAANSUhEUgAABaAAAAOECAIAAADYLwGFAAAAAXNSR0IArs4c6QAAIABJREFUeJzs3Xl8nHdhJ/5nNIck67J8x6ec..., text=...)\n",
      "2025-05-27 13:42:08,392 - hud.agent.base - INFO - Predicting action...\n",
      "2025-05-27 13:42:19,426 - hud.agent.base - INFO - Raw action: [{'action': 'left_click', 'coordinate': [547, 501]}]\n",
      "2025-05-27 13:42:19,430 - hud.environment - INFO - Step 19: Action: [ClickAction(type='click', point=Point(x=769, y=587), button='left', pattern=None, hold_keys=None)]\n",
      "2025-05-27 13:42:25,353 - hud.environment - INFO - Step 19: Observation: Observation(screenshot=iVBORw0KGgoAAAANSUhEUgAABaAAAAOECAIAAADYLwGFAAAAAXNSR0IArs4c6QAAIABJREFUeJzs3Xl4XGeBJ+pTqkWSJVuW991y..., text=...)\n",
      "2025-05-27 13:42:25,353 - hud.agent.base - INFO - Predicting action...\n",
      "2025-05-27 13:42:36,107 - hud.agent.base - INFO - Raw action: [{'action': 'left_click', 'coordinate': [696, 456]}]\n",
      "2025-05-27 13:42:36,111 - hud.environment - INFO - Step 20: Action: [ClickAction(type='click', point=Point(x=978, y=534), button='left', pattern=None, hold_keys=None)]\n",
      "2025-05-27 13:42:41,270 - hud.environment - INFO - Step 20: Observation: Observation(screenshot=iVBORw0KGgoAAAANSUhEUgAABaAAAAOECAIAAADYLwGFAAAAAXNSR0IArs4c6QAAIABJREFUeJzs3Xt4XHdhJ/wzmoskS7Is3++W..., text=...)\n",
      "2025-05-27 13:42:41,270 - hud.agent.base - INFO - Predicting action...\n",
      "2025-05-27 13:42:49,355 - hud.agent.base - INFO - Raw action: [{'action': 'left_click', 'coordinate': [400, 411]}]\n",
      "2025-05-27 13:42:49,359 - hud.environment - INFO - Step 21: Action: [ClickAction(type='click', point=Point(x=562, y=481), button='left', pattern=None, hold_keys=None)]\n",
      "2025-05-27 13:42:55,697 - hud.environment - INFO - Step 21: Observation: Observation(screenshot=iVBORw0KGgoAAAANSUhEUgAABaAAAAOECAIAAADYLwGFAAAAAXNSR0IArs4c6QAAIABJREFUeJzs3Xl4XHdhL/wzmkWSJVmW991y..., text=...)\n",
      "2025-05-27 13:42:55,698 - hud.agent.base - INFO - Predicting action...\n",
      "2025-05-27 13:43:02,253 - hud.agent.base - INFO - Raw action: [{'action': 'left_click', 'coordinate': [316, 456]}]\n",
      "2025-05-27 13:43:02,257 - hud.environment - INFO - Step 22: Action: [ClickAction(type='click', point=Point(x=444, y=534), button='left', pattern=None, hold_keys=None)]\n",
      "2025-05-27 13:43:07,264 - hud.environment - INFO - Step 22: Observation: Observation(screenshot=iVBORw0KGgoAAAANSUhEUgAABaAAAAOECAIAAADYLwGFAAAAAXNSR0IArs4c6QAAIABJREFUeJzs3Xl4W/WB7//v0WY7XmTH8RLH..., text=...)\n",
      "2025-05-27 13:43:07,264 - hud.agent.base - INFO - Predicting action...\n",
      "2025-05-27 13:43:18,745 - hud.agent.base - INFO - Raw action: [{'action': 'left_click', 'coordinate': [649, 456]}]\n",
      "2025-05-27 13:43:18,748 - hud.environment - INFO - Step 23: Action: [ClickAction(type='click', point=Point(x=912, y=534), button='left', pattern=None, hold_keys=None)]\n",
      "2025-05-27 13:43:23,821 - hud.environment - INFO - Step 23: Observation: Observation(screenshot=iVBORw0KGgoAAAANSUhEUgAABaAAAAOECAIAAADYLwGFAAAAAXNSR0IArs4c6QAAIABJREFUeJzs3Xt8VPWB///PmVsScifkQkhI..., text=...)\n",
      "2025-05-27 13:43:23,821 - hud.agent.base - INFO - Predicting action...\n",
      "2025-05-27 13:43:32,369 - hud.agent.base - INFO - Raw action: [{'action': 'left_click', 'coordinate': [684, 501]}]\n",
      "2025-05-27 13:43:32,373 - hud.environment - INFO - Step 24: Action: [ClickAction(type='click', point=Point(x=961, y=587), button='left', pattern=None, hold_keys=None)]\n",
      "2025-05-27 13:43:38,535 - hud.environment - INFO - Step 24: Observation: Observation(screenshot=iVBORw0KGgoAAAANSUhEUgAABaAAAAOECAIAAADYLwGFAAAAAXNSR0IArs4c6QAAIABJREFUeJzs3Xl4W+WB7/H36Eiy5X2Jl3iJ..., text=...)\n",
      "2025-05-27 13:43:38,536 - hud.agent.base - INFO - Predicting action...\n",
      "2025-05-27 13:43:49,336 - hud.agent.base - INFO - Raw action: [{'action': 'left_click', 'coordinate': [458, 456]}]\n",
      "2025-05-27 13:43:49,339 - hud.environment - INFO - Step 25: Action: [ClickAction(type='click', point=Point(x=644, y=534), button='left', pattern=None, hold_keys=None)]\n",
      "2025-05-27 13:43:55,469 - hud.environment - INFO - Step 25: Observation: Observation(screenshot=iVBORw0KGgoAAAANSUhEUgAABaAAAAOECAIAAADYLwGFAAAAAXNSR0IArs4c6QAAIABJREFUeJzs3Xt0VOdh7/1nz54ZSeiO0AXd..., text=...)\n",
      "2025-05-27 13:43:55,470 - hud.agent.base - INFO - Predicting action...\n",
      "2025-05-27 13:44:11,800 - hud.agent.base - INFO - Raw action: [{'action': 'left_click', 'coordinate': [696, 456]}]\n",
      "2025-05-27 13:44:11,804 - hud.environment - INFO - Step 26: Action: [ClickAction(type='click', point=Point(x=978, y=534), button='left', pattern=None, hold_keys=None)]\n",
      "2025-05-27 13:44:17,402 - hud.environment - INFO - Step 26: Observation: Observation(screenshot=iVBORw0KGgoAAAANSUhEUgAABaAAAAOECAIAAADYLwGFAAAAAXNSR0IArs4c6QAAIABJREFUeJzs3Xt0U+eB7/1na0uyje8YX/BV..., text=...)\n",
      "2025-05-27 13:44:21,626 - hud.environment - INFO - Evaluation result: {'logs': None, 'error': None, 'reward': 1.0}\n"
     ]
    },
    {
     "data": {
      "text/plain": [
       "{'logs': None, 'error': None, 'reward': 1.0}"
      ]
     },
     "execution_count": 5,
     "metadata": {},
     "output_type": "execute_result"
    }
   ],
   "source": [
    "await env.run(ClaudeAgent())"
   ]
  },
  {
   "cell_type": "code",
   "execution_count": 7,
   "metadata": {},
   "outputs": [],
   "source": [
    "await env.close()"
   ]
  }
 ],
 "metadata": {
  "kernelspec": {
   "display_name": ".venv",
   "language": "python",
   "name": "python3"
  },
  "language_info": {
   "codemirror_mode": {
    "name": "ipython",
    "version": 3
   },
   "file_extension": ".py",
   "mimetype": "text/x-python",
   "name": "python",
   "nbconvert_exporter": "python",
   "pygments_lexer": "ipython3",
   "version": "3.10.16"
  }
 },
 "nbformat": 4,
 "nbformat_minor": 2
}
