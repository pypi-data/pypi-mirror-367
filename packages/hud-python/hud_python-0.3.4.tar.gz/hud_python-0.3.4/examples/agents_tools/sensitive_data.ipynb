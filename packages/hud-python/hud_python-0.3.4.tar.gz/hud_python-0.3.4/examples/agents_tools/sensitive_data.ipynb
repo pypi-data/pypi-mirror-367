{
 "cells": [
  {
   "cell_type": "code",
   "execution_count": 1,
   "metadata": {},
   "outputs": [],
   "source": [
    "from hud import gym, Task\n",
    "from hud.agent import ClaudeAgent"
   ]
  },
  {
   "cell_type": "code",
   "execution_count": 2,
   "metadata": {},
   "outputs": [],
   "source": [
    "agent = ClaudeAgent()"
   ]
  },
  {
   "cell_type": "code",
   "execution_count": 3,
   "metadata": {},
   "outputs": [],
   "source": [
    "task = Task(\n",
    "    prompt=\"Please type in my google account username into the search bar\",\n",
    "    gym=\"hud-browser\",\n",
    "    sensitive_data={  # The agent only has access to the key of the credential, not the value. (i.e. google_username)\n",
    "        \"google.com\": {\"google_username\": \"my_username\", \"google_password\": \"my_password\"}\n",
    "    },\n",
    "    evaluate=(\"page_contains\", [\"my_username\"]),\n",
    "    metadata={\"agent_name\": agent.name},\n",
    ")"
   ]
  },
  {
   "cell_type": "code",
   "execution_count": null,
   "metadata": {},
   "outputs": [],
   "source": [
    "env = await gym.make(task)\n",
    "await env.stream()"
   ]
  },
  {
   "cell_type": "code",
   "execution_count": null,
   "metadata": {},
   "outputs": [],
   "source": [
    "await env.run(agent)"
   ]
  },
  {
   "cell_type": "code",
   "execution_count": null,
   "metadata": {},
   "outputs": [],
   "source": [
    "await env.close()"
   ]
  }
 ],
 "metadata": {
  "kernelspec": {
   "display_name": ".venv",
   "language": "python",
   "name": "python3"
  },
  "language_info": {
   "codemirror_mode": {
    "name": "ipython",
    "version": 3
   },
   "file_extension": ".py",
   "mimetype": "text/x-python",
   "name": "python",
   "nbconvert_exporter": "python",
   "pygments_lexer": "ipython3",
   "version": "3.10.17"
  }
 },
 "nbformat": 4,
 "nbformat_minor": 2
}
