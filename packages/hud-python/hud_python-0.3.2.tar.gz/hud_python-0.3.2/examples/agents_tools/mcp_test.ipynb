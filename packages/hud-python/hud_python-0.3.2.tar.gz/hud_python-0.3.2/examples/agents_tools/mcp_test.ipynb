{
 "cells": [
  {
   "cell_type": "code",
   "execution_count": 1,
   "metadata": {},
   "outputs": [],
   "source": [
    "%load_ext autoreload\n",
    "%autoreload 2"
   ]
  },
  {
   "cell_type": "code",
   "execution_count": 2,
   "metadata": {},
   "outputs": [],
   "source": [
    "from dotenv import load_dotenv\n",
    "\n",
    "load_dotenv()\n",
    "\n",
    "from langchain_openai import ChatOpenAI\n",
    "from mcp_use import MCPAgent, MCPClient  # Make sure to install the mcp-use package\n",
    "\n",
    "import hud  # For telemetry"
   ]
  },
  {
   "cell_type": "code",
   "execution_count": 3,
   "metadata": {},
   "outputs": [],
   "source": [
    "config = {\n",
    "    \"mcp_config\": {\n",
    "        \"airbnb\": {\n",
    "            \"command\": \"npx\",\n",
    "            \"args\": [\"-y\", \"@openbnb/mcp-server-airbnb\", \"--ignore-robots-txt\"],\n",
    "        }\n",
    "    }\n",
    "}\n",
    "\n",
    "# Create MCPClient from configuration dictionary\n",
    "client = MCPClient.from_dict(config)\n",
    "\n",
    "# Create agent with the client\n",
    "agent = MCPAgent(llm=ChatOpenAI(model=\"gpt-4o\"), client=client, max_steps=30)"
   ]
  },
  {
   "cell_type": "code",
   "execution_count": null,
   "metadata": {},
   "outputs": [],
   "source": [
    "# Run the query inside a trace context, see it at https://app.hud.so/jobs/traces/[id]\n",
    "with hud.trace(name=\"airbnb-test\"):\n",
    "    result = await agent.run(\n",
    "        \"Find me a nice place to stay in Barcelona for 2 adults \"\n",
    "        \"for a week in August. I prefer places with a pool and \"\n",
    "        \"good reviews. Show me the top 3 options.\",\n",
    "    )\n",
    "    print(f\"\\nResult: {result}\")\n",
    "\n",
    "hud.flush()"
   ]
  }
 ],
 "metadata": {
  "kernelspec": {
   "display_name": ".venv",
   "language": "python",
   "name": "python3"
  },
  "language_info": {
   "codemirror_mode": {
    "name": "ipython",
    "version": 3
   },
   "file_extension": ".py",
   "mimetype": "text/x-python",
   "name": "python",
   "nbconvert_exporter": "python",
   "pygments_lexer": "ipython3",
   "version": "3.12.3"
  }
 },
 "nbformat": 4,
 "nbformat_minor": 2
}
