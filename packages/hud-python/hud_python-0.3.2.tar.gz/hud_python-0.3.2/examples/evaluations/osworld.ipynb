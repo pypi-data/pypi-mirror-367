{
 "cells": [
  {
   "cell_type": "code",
   "execution_count": 1,
   "metadata": {},
   "outputs": [],
   "source": [
    "# uv pip install -e \".[dev]\"\n",
    "from hud import gym, load_taskset\n",
    "from pprint import pprint"
   ]
  },
  {
   "cell_type": "code",
   "execution_count": 2,
   "metadata": {},
   "outputs": [
    {
     "name": "stdout",
     "output_type": "stream",
     "text": [
      "Total tasks in OSWorld: 369\n",
      "Task prompt: Can you make my computer bring back the last tab I shut down?\n"
     ]
    }
   ],
   "source": [
    "taskset = await load_taskset(\"OSWorld-Ubuntu\")\n",
    "print(f\"Total tasks in OSWorld: {len(taskset)}\")\n",
    "\n",
    "test = taskset[144]\n",
    "print(f\"Task prompt: {test.prompt}\")"
   ]
  },
  {
   "cell_type": "code",
   "execution_count": 3,
   "metadata": {},
   "outputs": [
    {
     "name": "stderr",
     "output_type": "stream",
     "text": [
      "2025-05-27 10:04:56,691 - hud.gym - INFO - Creating private environment\n"
     ]
    }
   ],
   "source": [
    "# The Ubuntu environment will take around 2.5 minutes to start, but can be parallelized\n",
    "env = await gym.make(test)"
   ]
  },
  {
   "cell_type": "code",
   "execution_count": 4,
   "metadata": {},
   "outputs": [
    {
     "name": "stdout",
     "output_type": "stream",
     "text": [
      "Initial observation complete\n",
      "========= Step 1 =========\n",
      "Agent's action: [PressAction(type='press', keys=['ctrl', 'shift', 't'])]\n",
      "========= Step 2 =========\n",
      "Agent's action: [ResponseAction(type='response', text=\"Great! I've successfully reopened your last closed tab. As you can see, the TripAdvisor tab has been restored. Now you have three tabs open:\\n\\n1. Lonely Planet | Travel Guide\\n2. Airbnb | Vacation rentals\\n3. TripAdvisor: Over a billion reviews & contributions for Hotels\\n\\nThe keyboard shortcut Ctrl+Shift+T is very useful for recovering recently closed tabs in Chrome. You can actually press it multiple times to continue reopening previously closed tabs in the order they were closed.\")]\n"
     ]
    }
   ],
   "source": [
    "from hud.agent import ClaudeAgent\n",
    "\n",
    "# Define a new agent each time to reset the message history\n",
    "# Make sure to define the environment variable ANTHROPIC_API_KEY\n",
    "agent = ClaudeAgent()\n",
    "\n",
    "# Initial observation\n",
    "obs, _ = await env.reset()\n",
    "print(f\"Initial observation complete\")\n",
    "\n",
    "# Agent loop\n",
    "for i in range(8):\n",
    "    print(f\"========= Step {i + 1} =========\")\n",
    "    action, done = await agent.predict(obs)\n",
    "    print(f\"Agent's action: {action}\")\n",
    "\n",
    "    obs, reward, terminated, info = await env.step(action)\n",
    "\n",
    "    if done or terminated:\n",
    "        break"
   ]
  },
  {
   "cell_type": "code",
   "execution_count": 5,
   "metadata": {},
   "outputs": [
    {
     "name": "stdout",
     "output_type": "stream",
     "text": [
      "{'error': None,\n",
      " 'logs': 'INFO: Starting evaluation...\\n'\n",
      "         'INFO: Evaluating task 08d9a8b1-7b7a-4ba7-a226-4e266e13f6df...\\n'\n",
      "         'INFO: Evaluator configuration:\\n'\n",
      "         'INFO:   Metric function(s): is_expected_tabs\\n'\n",
      "         'INFO:   Metric conjunction: and\\n'\n",
      "         'INFO:   Result getter: get_open_tabs_info\\n'\n",
      "         'INFO:   Expected getter: get_rule\\n'\n",
      "         'INFO:   Metric options: {}\\n'\n",
      "         'INFO: Setting up post-config for evaluation...\\n'\n",
      "         'INFO: Evaluating single metric: is_expected_tabs\\n'\n",
      "         \"INFO: Getting result state using config: {'type': 'open_tabs_info'}\\n\"\n",
      "         \"INFO: Getting expected state using config: {'type': 'rule', 'rules': \"\n",
      "         \"{'type': 'url', 'urls': ['https://www.lonelyplanet.com', \"\n",
      "         \"'https://www.airbnb.com', 'https://www.tripadvisor.com']}}\\n\"\n",
      "         'INFO: Comparing result state with expected state\\n'\n",
      "         'INFO: Final evaluation result: 1\\n'\n",
      "         'INFO: Completed evaluation.\\n'\n",
      "         'INFO: Completed evaluation.\\n',\n",
      " 'reward': 1.0}\n"
     ]
    }
   ],
   "source": [
    "# Evaluate environment state\n",
    "result = await env.evaluate()\n",
    "pprint(result)"
   ]
  },
  {
   "cell_type": "code",
   "execution_count": 6,
   "metadata": {},
   "outputs": [],
   "source": [
    "# Make sure to close environment to avoid being charged for idle time\n",
    "await env.close()"
   ]
  },
  {
   "cell_type": "markdown",
   "metadata": {},
   "source": [
    "Paralell runs for the whole dataset"
   ]
  },
  {
   "cell_type": "code",
   "execution_count": 26,
   "metadata": {},
   "outputs": [],
   "source": [
    "from hud import run_job\n",
    "\n",
    "taskset = await load_taskset(\"OSWorld-Ubuntu\")\n",
    "job = await run_job(\n",
    "    ClaudeAgent,\n",
    "    taskset,\n",
    "    \"osworld-test\",\n",
    "    max_steps_per_task=20,\n",
    "    max_concurrent_tasks=20,\n",
    "    auto_reply_question=True,\n",
    ")"
   ]
  },
  {
   "cell_type": "code",
   "execution_count": null,
   "metadata": {},
   "outputs": [],
   "source": [
    "await job.get_analytics()"
   ]
  }
 ],
 "metadata": {
  "kernelspec": {
   "display_name": ".venv",
   "language": "python",
   "name": "python3"
  },
  "language_info": {
   "codemirror_mode": {
    "name": "ipython",
    "version": 3
   },
   "file_extension": ".py",
   "mimetype": "text/x-python",
   "name": "python",
   "nbconvert_exporter": "python",
   "pygments_lexer": "ipython3",
   "version": "3.12.9"
  }
 },
 "nbformat": 4,
 "nbformat_minor": 2
}
