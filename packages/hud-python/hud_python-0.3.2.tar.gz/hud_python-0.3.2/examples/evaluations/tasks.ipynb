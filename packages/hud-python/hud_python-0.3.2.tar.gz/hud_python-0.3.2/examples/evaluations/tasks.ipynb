{
 "cells": [
  {
   "cell_type": "code",
   "execution_count": 1,
   "metadata": {},
   "outputs": [],
   "source": [
    "from hud import gym\n",
    "from hud.task import Task"
   ]
  },
  {
   "cell_type": "markdown",
   "metadata": {},
   "source": [
    "### Browser Task Example"
   ]
  },
  {
   "cell_type": "code",
   "execution_count": 53,
   "metadata": {},
   "outputs": [],
   "source": [
    "# Simple browser task with a single step\n",
    "task = Task(\n",
    "    prompt=\"Insert the text 'capybara' into the search bar\",\n",
    "    gym=\"hud-browser\",\n",
    "    setup=(\"goto\", \"google.com\"),\n",
    "    evaluate=(\"contains_text\", \"capybara\"),\n",
    ")"
   ]
  },
  {
   "cell_type": "code",
   "execution_count": null,
   "metadata": {},
   "outputs": [],
   "source": [
    "# Create and set up environment with google, takes around 20 seconds\n",
    "env = await gym.make(task)\n",
    "await env.stream()"
   ]
  },
  {
   "cell_type": "code",
   "execution_count": null,
   "metadata": {},
   "outputs": [],
   "source": [
    "from hud.agent import ClaudeAgent, OperatorAgent, LangchainAgent\n",
    "from langchain_openai import ChatOpenAI\n",
    "\n",
    "# Define a new agent each time to reset the message history\n",
    "# Make sure to define the environment variable OPENAI_API_KEY\n",
    "# Use Claude if you don't have access to Operator\n",
    "agent = LangchainAgent(ChatOpenAI(model=\"gpt-4o\"))\n",
    "# Initial observation\n",
    "obs, _ = await env.reset()\n",
    "print(f\"Initial observation complete\")\n",
    "\n",
    "# Agent loop\n",
    "for i in range(50):\n",
    "    print(f\"========= Step {i + 1} =========\")\n",
    "\n",
    "    # Use the agent to predict an action\n",
    "    action, done = await agent.predict(obs)\n",
    "    print(f\"Agent's action (CLA): {action}\")\n",
    "\n",
    "    # Step the environment with the action\n",
    "    obs, reward, terminated, info = await env.step(action)  # TODO RESPONSE AGENT\n",
    "\n",
    "    if terminated or done:\n",
    "        break"
   ]
  },
  {
   "cell_type": "code",
   "execution_count": null,
   "metadata": {},
   "outputs": [],
   "source": [
    "await env.evaluate()"
   ]
  },
  {
   "cell_type": "code",
   "execution_count": 6,
   "metadata": {},
   "outputs": [],
   "source": [
    "await env.close()"
   ]
  },
  {
   "cell_type": "markdown",
   "metadata": {},
   "source": [
    "### Response Task Example"
   ]
  },
  {
   "cell_type": "code",
   "execution_count": null,
   "metadata": {},
   "outputs": [],
   "source": [
    "# Simple response task with a single step\n",
    "task = Task(\n",
    "    prompt=\"What is the capital of France?\",\n",
    "    gym=\"hud-browser\",\n",
    "    setup=(\"goto\", \"https://www.google.com\"),\n",
    "    evaluate=(\"response_includes\", \"Paris\"),\n",
    ")"
   ]
  },
  {
   "cell_type": "code",
   "execution_count": null,
   "metadata": {},
   "outputs": [],
   "source": [
    "# Create and set up environment with google, takes around 20 seconds\n",
    "env = await gym.make(task)\n",
    "await env.stream()"
   ]
  },
  {
   "cell_type": "code",
   "execution_count": null,
   "metadata": {},
   "outputs": [],
   "source": [
    "from hud.agent import ClaudeAgent, ClaudeAdapter, OperatorAgent, OperatorAdapter\n",
    "\n",
    "# Define a new agent each time to reset the message history\n",
    "# Make sure to define the environment variable OPENAI_API_KEY\n",
    "agent = OperatorAgent(adapter=OperatorAdapter())\n",
    "\n",
    "# Initial observation\n",
    "obs, _ = await env.reset()\n",
    "print(f\"Initial observation complete\")\n",
    "\n",
    "# Agent loop\n",
    "for i in range(8):\n",
    "    print(f\"========= Step {i + 1} =========\")\n",
    "\n",
    "    # Use the agent to predict an action\n",
    "    action, done = await agent.predict(obs)\n",
    "    print(f\"Agent's action (CLA): {action}\")\n",
    "\n",
    "    # Step the environment with the action\n",
    "    # In this case, the final action will have to submit a response\n",
    "    obs, reward, terminated, info = await env.step(action)\n",
    "\n",
    "    if done or terminated:\n",
    "        break"
   ]
  },
  {
   "cell_type": "code",
   "execution_count": null,
   "metadata": {},
   "outputs": [],
   "source": [
    "env.final_response"
   ]
  },
  {
   "cell_type": "code",
   "execution_count": null,
   "metadata": {},
   "outputs": [],
   "source": [
    "await env.evaluate()"
   ]
  },
  {
   "cell_type": "markdown",
   "metadata": {},
   "source": [
    "### Response Task without provisioning CUA environments"
   ]
  },
  {
   "cell_type": "code",
   "execution_count": 16,
   "metadata": {},
   "outputs": [],
   "source": [
    "# Response task with qa env\n",
    "task = Task(\n",
    "    prompt=\"What is the capital of France?\", gym=\"qa\", evaluate=(\"response_includes\", \"Paris\")\n",
    ")"
   ]
  },
  {
   "cell_type": "code",
   "execution_count": null,
   "metadata": {},
   "outputs": [],
   "source": [
    "env = await gym.make(task)"
   ]
  },
  {
   "cell_type": "code",
   "execution_count": null,
   "metadata": {},
   "outputs": [],
   "source": [
    "from hud import Response\n",
    "\n",
    "await env.step([Response(text=\"Paris\")])"
   ]
  },
  {
   "cell_type": "code",
   "execution_count": null,
   "metadata": {},
   "outputs": [],
   "source": [
    "await env.evaluate()"
   ]
  }
 ],
 "metadata": {
  "kernelspec": {
   "display_name": ".venv",
   "language": "python",
   "name": "python3"
  },
  "language_info": {
   "codemirror_mode": {
    "name": "ipython",
    "version": 3
   },
   "file_extension": ".py",
   "mimetype": "text/x-python",
   "name": "python",
   "nbconvert_exporter": "python",
   "pygments_lexer": "ipython3",
   "version": "3.12.9"
  }
 },
 "nbformat": 4,
 "nbformat_minor": 2
}
