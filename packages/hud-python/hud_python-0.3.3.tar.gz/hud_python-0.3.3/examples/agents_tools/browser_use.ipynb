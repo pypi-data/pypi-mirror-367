{
 "cells": [
  {
   "cell_type": "code",
   "execution_count": 2,
   "metadata": {},
   "outputs": [],
   "source": [
    "from hud import gym"
   ]
  },
  {
   "cell_type": "code",
   "execution_count": 3,
   "metadata": {},
   "outputs": [],
   "source": [
    "from hud.task import Task\n",
    "\n",
    "task = Task(\n",
    "    prompt=\"Insert the text 'capybara' into the search bar\",\n",
    "    gym=\"hud-browser\",\n",
    "    setup=(\"goto\", \"google.com\"),\n",
    "    evaluate=(\"contains_text\", \"capybara\"),\n",
    ")"
   ]
  },
  {
   "cell_type": "code",
   "execution_count": null,
   "metadata": {},
   "outputs": [],
   "source": [
    "# this will take around 20 seconds to start\n",
    "env = await gym.make(task)\n",
    "await env.stream()"
   ]
  },
  {
   "cell_type": "markdown",
   "metadata": {},
   "source": [
    "Browser Use can just use the CDP connection to the browser directly"
   ]
  },
  {
   "cell_type": "code",
   "execution_count": null,
   "metadata": {},
   "outputs": [],
   "source": [
    "from browser_use import Agent, Browser  # make sure to install this addition\n",
    "from langchain_openai import ChatOpenAI\n",
    "\n",
    "browser = Browser(cdp_url=env.url)\n",
    "\n",
    "agent = Agent(task=task.prompt, llm=ChatOpenAI(model=\"gpt-4o\"), browser_session=browser)\n",
    "\n",
    "await agent.run()"
   ]
  },
  {
   "cell_type": "code",
   "execution_count": null,
   "metadata": {},
   "outputs": [],
   "source": [
    "await env.evaluate()"
   ]
  },
  {
   "cell_type": "code",
   "execution_count": 7,
   "metadata": {},
   "outputs": [],
   "source": [
    "await env.close()"
   ]
  }
 ],
 "metadata": {
  "kernelspec": {
   "display_name": ".venv",
   "language": "python",
   "name": "python3"
  },
  "language_info": {
   "codemirror_mode": {
    "name": "ipython",
    "version": 3
   },
   "file_extension": ".py",
   "mimetype": "text/x-python",
   "name": "python",
   "nbconvert_exporter": "python",
   "pygments_lexer": "ipython3",
   "version": "3.10.17"
  }
 },
 "nbformat": 4,
 "nbformat_minor": 2
}
