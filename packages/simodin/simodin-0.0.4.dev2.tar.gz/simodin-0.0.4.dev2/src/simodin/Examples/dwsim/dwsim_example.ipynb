{
 "cells": [
  {
   "cell_type": "code",
   "execution_count": null,
   "id": "cfb32168",
   "metadata": {},
   "outputs": [],
   "source": [
    "from utilitylca import interface as link\n",
    "import bw2data as bd"
   ]
  },
  {
   "cell_type": "markdown",
   "id": "ea294b8d",
   "metadata": {},
   "source": [
    "Create SimModel class and initiate model:"
   ]
  },
  {
   "cell_type": "code",
   "execution_count": null,
   "id": "4326f98e",
   "metadata": {},
   "outputs": [],
   "source": [
    "my_model=dwsim_model(name= 'dwsim example')\n",
    "my_model.init_model(dwsimpath=\"C:\\\\Users\\\\USERNAME\\\\AppData\\\\Local\\\\DWSIM\\\\\", massflow=100)"
   ]
  },
  {
   "cell_type": "code",
   "execution_count": null,
   "id": "872eeab2",
   "metadata": {},
   "outputs": [],
   "source": [
    "my_model.calculate_model()\n",
    "my_model.technosphere"
   ]
  },
  {
   "cell_type": "markdown",
   "id": "e816c271",
   "metadata": {},
   "source": [
    "Create instance of model interface class and pass the simulation model and needed parameters as argument:"
   ]
  },
  {
   "cell_type": "code",
   "execution_count": null,
   "id": "9757c97a",
   "metadata": {},
   "outputs": [],
   "source": [
    "my_interface = link.modelInterface(model= my_model, name= 'heat it')"
   ]
  },
  {
   "cell_type": "markdown",
   "id": "f9d6cd95",
   "metadata": {},
   "source": [
    "Define and link brightway25 datasets:"
   ]
  },
  {
   "cell_type": "code",
   "execution_count": null,
   "id": "4ff5d4ca",
   "metadata": {},
   "outputs": [],
   "source": [
    "bd.projects.set_current('my_project')\n",
    "my_interface.methods=[('ecoinvent-3.11',  'EF v3.1',  'climate change',  'global warming potential (GWP100)')]"
   ]
  },
  {
   "cell_type": "code",
   "execution_count": null,
   "id": "d0c7719e",
   "metadata": {},
   "outputs": [],
   "source": [
    "ei=bd.Database('ecoinvent-3.11-cutoff')\n",
    "\n",
    "ei_steam=[act for act in ei if 'steam production, as energy carrier, in chemical industry' in act['name']\n",
    " and 'RER' in act['location']][0]\n",
    "ei_steam"
   ]
  },
  {
   "cell_type": "code",
   "execution_count": null,
   "id": "547b54a4",
   "metadata": {},
   "outputs": [],
   "source": [
    "my_interface.technosphere['thermal energy demand'].source= ei_steam"
   ]
  },
  {
   "cell_type": "markdown",
   "id": "ae136cdb",
   "metadata": {},
   "source": [
    "Calculate impact:"
   ]
  },
  {
   "cell_type": "code",
   "execution_count": null,
   "id": "9595d8fd",
   "metadata": {},
   "outputs": [],
   "source": [
    "my_interface.calculate_background_impact()\n",
    "my_interface.calculate_impact()"
   ]
  },
  {
   "cell_type": "markdown",
   "id": "5289a7a7",
   "metadata": {},
   "source": [
    "Export as brightway25 dataset:"
   ]
  },
  {
   "cell_type": "code",
   "execution_count": null,
   "id": "26af423b",
   "metadata": {},
   "outputs": [],
   "source": [
    "code=my_interface.export_to_bw()"
   ]
  },
  {
   "cell_type": "code",
   "execution_count": null,
   "id": "5a955674",
   "metadata": {},
   "outputs": [],
   "source": [
    "sim_db=bd.Database('simulation_model_db')\n",
    "my_dataset=sim_db.get(code)"
   ]
  }
 ],
 "metadata": {
  "kernelspec": {
   "display_name": "utility_lca",
   "language": "python",
   "name": "python3"
  },
  "language_info": {
   "codemirror_mode": {
    "name": "ipython",
    "version": 3
   },
   "file_extension": ".py",
   "mimetype": "text/x-python",
   "name": "python",
   "nbconvert_exporter": "python",
   "pygments_lexer": "ipython3",
   "version": "3.12.9"
  }
 },
 "nbformat": 4,
 "nbformat_minor": 5
}
