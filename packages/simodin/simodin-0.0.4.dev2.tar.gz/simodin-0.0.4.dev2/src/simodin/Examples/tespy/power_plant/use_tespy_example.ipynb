{
 "cells": [
  {
   "cell_type": "code",
   "execution_count": null,
   "id": "63db8a22",
   "metadata": {},
   "outputs": [],
   "source": [
    "from simodin.Examples.tespy.power_plant.SimModel_powerplant import tespy_model\n",
    "from simodin import interface as link"
   ]
  },
  {
   "cell_type": "markdown",
   "id": "698077ca",
   "metadata": {},
   "source": [
    "Initiate the SimModel class and the coresponding tespy network model:"
   ]
  },
  {
   "cell_type": "code",
   "execution_count": 2,
   "id": "e91b8121",
   "metadata": {},
   "outputs": [],
   "source": [
    "my_model= tespy_model('powerplant')"
   ]
  },
  {
   "cell_type": "code",
   "execution_count": 3,
   "id": "368711f9",
   "metadata": {},
   "outputs": [
    {
     "data": {
      "text/plain": [
       "{'cooling water sink': technosphere_edge(edge_type=<QuantitativeEdgeTypes.technosphere: 'technosphere'>, source=<tespy_example.tespy_model object at 0x0000020C0CCACBC0>, target=None, comment=None, tags=None, properties=None, name='cooling water sink', amount=<Quantity(33222973.0, 'kilogram')>, uncertainty_type=None, loc=None, scale=None, shape=None, minimum=None, maximum=None, negative=None, description=None, dataset_correction=None, functional=False, model_unit=None, dataset_unit=None, allocationfactor=1.0, type=<technosphereTypes.output: 'output'>),\n",
       " 'cooling water source': technosphere_edge(edge_type=<QuantitativeEdgeTypes.technosphere: 'technosphere'>, source=None, target=<tespy_example.tespy_model object at 0x0000020C0CCACBC0>, comment=None, tags=None, properties=None, name='cooling water source', amount=<Quantity(33222973.0, 'kilogram')>, uncertainty_type=None, loc=None, scale=None, shape=None, minimum=None, maximum=None, negative=None, description=None, dataset_correction=None, functional=False, model_unit=None, dataset_unit=None, allocationfactor=1.0, type=<technosphereTypes.input: 'input'>),\n",
       " 'grid': technosphere_edge(edge_type=<QuantitativeEdgeTypes.technosphere: 'technosphere'>, source=<tespy_example.tespy_model object at 0x0000020C0CCACBC0>, target=None, comment=None, tags=None, properties=None, name='grid', amount=<Quantity(899042.752, 'megajoule')>, uncertainty_type=None, loc=None, scale=None, shape=None, minimum=None, maximum=None, negative=None, description=None, dataset_correction=None, functional=True, model_unit=None, dataset_unit=None, allocationfactor=1.0, type=<technosphereTypes.output: 'output'>),\n",
       " 'heat source': technosphere_edge(edge_type=<QuantitativeEdgeTypes.technosphere: 'technosphere'>, source=None, target=<tespy_example.tespy_model object at 0x0000020C0CCACBC0>, comment=None, tags=None, properties=None, name='heat source', amount=<Quantity(2008087.04, 'megajoule')>, uncertainty_type=None, loc=None, scale=None, shape=None, minimum=None, maximum=None, negative=None, description=None, dataset_correction=None, functional=False, model_unit=None, dataset_unit=None, allocationfactor=1.0, type=<technosphereTypes.input: 'input'>)}"
      ]
     },
     "execution_count": 3,
     "metadata": {},
     "output_type": "execute_result"
    }
   ],
   "source": [
    "my_model.init_model()\n",
    "my_model.calculate_model()\n",
    "my_model.technosphere"
   ]
  },
  {
   "cell_type": "markdown",
   "id": "737aaebc",
   "metadata": {},
   "source": [
    "Create a new modelInterface class with the SimModel class as argument:"
   ]
  },
  {
   "cell_type": "code",
   "execution_count": null,
   "id": "e2ec1491",
   "metadata": {},
   "outputs": [],
   "source": [
    "my_interface= link.modelInterface('tespy powerplant',my_model)"
   ]
  },
  {
   "cell_type": "code",
   "execution_count": 5,
   "id": "c4600bd3",
   "metadata": {},
   "outputs": [
    {
     "data": {
      "text/plain": [
       "{'cooling water sink': technosphere_edge(edge_type=<QuantitativeEdgeTypes.technosphere: 'technosphere'>, source=<tespy_example.tespy_model object at 0x0000020C0CCACBC0>, target=None, comment=None, tags=None, properties=None, name='cooling water sink', amount=<Quantity(33222973.0, 'kilogram')>, uncertainty_type=None, loc=None, scale=None, shape=None, minimum=None, maximum=None, negative=None, description=None, dataset_correction=None, functional=False, model_unit=None, dataset_unit=None, allocationfactor=1.0, type=<technosphereTypes.output: 'output'>),\n",
       " 'cooling water source': technosphere_edge(edge_type=<QuantitativeEdgeTypes.technosphere: 'technosphere'>, source=None, target=<tespy_example.tespy_model object at 0x0000020C0CCACBC0>, comment=None, tags=None, properties=None, name='cooling water source', amount=<Quantity(33222973.0, 'kilogram')>, uncertainty_type=None, loc=None, scale=None, shape=None, minimum=None, maximum=None, negative=None, description=None, dataset_correction=None, functional=False, model_unit=None, dataset_unit=None, allocationfactor=1.0, type=<technosphereTypes.input: 'input'>),\n",
       " 'grid': technosphere_edge(edge_type=<QuantitativeEdgeTypes.technosphere: 'technosphere'>, source=<tespy_example.tespy_model object at 0x0000020C0CCACBC0>, target=None, comment=None, tags=None, properties=None, name='grid', amount=<Quantity(899042.752, 'megajoule')>, uncertainty_type=None, loc=None, scale=None, shape=None, minimum=None, maximum=None, negative=None, description=None, dataset_correction=None, functional=True, model_unit=None, dataset_unit=None, allocationfactor=1.0, type=<technosphereTypes.output: 'output'>),\n",
       " 'heat source': technosphere_edge(edge_type=<QuantitativeEdgeTypes.technosphere: 'technosphere'>, source=None, target=<tespy_example.tespy_model object at 0x0000020C0CCACBC0>, comment=None, tags=None, properties=None, name='heat source', amount=<Quantity(2008087.04, 'megajoule')>, uncertainty_type=None, loc=None, scale=None, shape=None, minimum=None, maximum=None, negative=None, description=None, dataset_correction=None, functional=False, model_unit=None, dataset_unit=None, allocationfactor=1.0, type=<technosphereTypes.input: 'input'>)}"
      ]
     },
     "execution_count": 5,
     "metadata": {},
     "output_type": "execute_result"
    }
   ],
   "source": [
    "my_interface.technosphere"
   ]
  },
  {
   "cell_type": "markdown",
   "id": "83c015b4",
   "metadata": {},
   "source": [
    "Search for brightway25 datasets and asign them to the technosphere flows:"
   ]
  },
  {
   "cell_type": "code",
   "execution_count": null,
   "id": "c672d600",
   "metadata": {},
   "outputs": [],
   "source": [
    "import bw2data as bd\n",
    "\n",
    "bd.projects.set_current('my_project')\n",
    "my_interface.methods=[('ecoinvent-3.11',  'EF v3.1',  'climate change',  'global warming potential (GWP100)')]\n",
    "\n",
    "ei=bd.Database('ecoinvent-3.11-cutoff')"
   ]
  },
  {
   "cell_type": "code",
   "execution_count": 7,
   "id": "8b11f141",
   "metadata": {},
   "outputs": [
    {
     "data": {
      "text/plain": [
       "'heat production, at hard coal industrial furnace 1-10MW' (megajoule, Europe without Switzerland, None)"
      ]
     },
     "execution_count": 7,
     "metadata": {},
     "output_type": "execute_result"
    }
   ],
   "source": [
    "ei_steam=[act for act in ei if 'heat production, at hard coal industrial furnace 1-10MW' in act['name']\n",
    " and 'Europe without Switzerland' in act['location']\n",
    "  ][0]\n",
    "ei_steam"
   ]
  },
  {
   "cell_type": "code",
   "execution_count": 8,
   "id": "c8309c83",
   "metadata": {},
   "outputs": [],
   "source": [
    "my_interface.technosphere['heat source'].source=ei_steam"
   ]
  },
  {
   "cell_type": "code",
   "execution_count": 9,
   "id": "eb81c965",
   "metadata": {},
   "outputs": [
    {
     "data": {
      "text/plain": [
       "'market for tap water' (kilogram, Europe without Switzerland, None)"
      ]
     },
     "execution_count": 9,
     "metadata": {},
     "output_type": "execute_result"
    }
   ],
   "source": [
    "ei_water=[act for act in ei if 'market for tap water' in act['name']\n",
    " and 'Europe without Switzerland' in act['location']\n",
    "  ][0]\n",
    "ei_water"
   ]
  },
  {
   "cell_type": "markdown",
   "id": "2f46e02c",
   "metadata": {},
   "source": [
    "Set dataset correction value, for simple adjusting of the model results to the LCA datasets: "
   ]
  },
  {
   "cell_type": "code",
   "execution_count": 10,
   "id": "1ece8c58",
   "metadata": {},
   "outputs": [],
   "source": [
    "my_interface.technosphere['cooling water source'].source=ei_water\n",
    "my_interface.technosphere['cooling water source'].dataset_correction = 0.1 #blowdown rate"
   ]
  },
  {
   "cell_type": "markdown",
   "id": "99ba8dd0",
   "metadata": {},
   "source": [
    "Calculate background impact:"
   ]
  },
  {
   "cell_type": "code",
   "execution_count": 11,
   "id": "c6162cd1",
   "metadata": {},
   "outputs": [],
   "source": [
    "my_interface.calculate_background_impact()"
   ]
  },
  {
   "cell_type": "markdown",
   "id": "55fa2801",
   "metadata": {},
   "source": [
    "And the impact of the functional unit of the model. The functional unit is defined in the SimModel class. In this case it is the produced electricity, called \"grid\"."
   ]
  },
  {
   "cell_type": "code",
   "execution_count": null,
   "id": "20a119e1",
   "metadata": {},
   "outputs": [],
   "source": [
    "my_interface.calculate_impact()"
   ]
  },
  {
   "cell_type": "markdown",
   "id": "b9d1f855",
   "metadata": {},
   "source": [
    "Model can be exported to a brightway dataset. If no database is passed as argument, a default database called \"simulation_model_db\" is created:"
   ]
  },
  {
   "cell_type": "code",
   "execution_count": 14,
   "id": "0616788a",
   "metadata": {},
   "outputs": [
    {
     "name": "stderr",
     "output_type": "stream",
     "text": [
      "UserWarning: The dataset of grid got no valid Pint Unit. Ignore unit transformation.\n"
     ]
    }
   ],
   "source": [
    "code= my_interface.export_to_bw()"
   ]
  },
  {
   "cell_type": "code",
   "execution_count": null,
   "id": "d7c35829",
   "metadata": {},
   "outputs": [
    {
     "data": {
      "text/plain": [
       "'tespy powerplant_grid_2025-07-28 20:45:41.640943'"
      ]
     },
     "execution_count": 15,
     "metadata": {},
     "output_type": "execute_result"
    }
   ],
   "source": [
    "code"
   ]
  }
 ],
 "metadata": {
  "kernelspec": {
   "display_name": "simodin",
   "language": "python",
   "name": "python3"
  },
  "language_info": {
   "codemirror_mode": {
    "name": "ipython",
    "version": 3
   },
   "file_extension": ".py",
   "mimetype": "text/x-python",
   "name": "python",
   "nbconvert_exporter": "python",
   "pygments_lexer": "ipython3",
   "version": "3.11.13"
  }
 },
 "nbformat": 4,
 "nbformat_minor": 5
}
