{
 "cells": [
  {
   "cell_type": "code",
   "execution_count": null,
   "id": "63db8a22",
   "metadata": {},
   "outputs": [],
   "source": [
    "from simodin.Examples.tespy.gas_turbine.SimModel_gas_turbine import tespy_model\n",
    "from simodin import interface as link\n"
   ]
  },
  {
   "cell_type": "code",
   "execution_count": null,
   "id": "e91b8121",
   "metadata": {},
   "outputs": [],
   "source": [
    "my_model= tespy_model('gas turbine')"
   ]
  },
  {
   "cell_type": "code",
   "execution_count": null,
   "id": "368711f9",
   "metadata": {},
   "outputs": [],
   "source": [
    "my_model.init_model()\n",
    "my_model.calculate_model()\n",
    "my_model.technosphere"
   ]
  },
  {
   "cell_type": "code",
   "execution_count": null,
   "id": "e2ec1491",
   "metadata": {},
   "outputs": [],
   "source": [
    "\n",
    "my_interface= link.modelInterface('gas turbine',my_model)"
   ]
  },
  {
   "cell_type": "code",
   "execution_count": null,
   "id": "c4600bd3",
   "metadata": {},
   "outputs": [],
   "source": [
    "my_interface.biosphere"
   ]
  },
  {
   "cell_type": "code",
   "execution_count": null,
   "id": "c672d600",
   "metadata": {},
   "outputs": [],
   "source": [
    "import bw2data as bd\n",
    "\n",
    "bd.projects.set_current('my_project')\n",
    "my_interface.methods=[('ecoinvent-3.11',  'EF v3.1',  'climate change',  'global warming potential (GWP100)')]\n",
    "\n",
    "ei=bd.Database('ecoinvent-3.11-cutoff')\n",
    "bio= bd.Database('ecoinvent-3.11-biosphere')"
   ]
  },
  {
   "cell_type": "code",
   "execution_count": null,
   "id": "8b11f141",
   "metadata": {},
   "outputs": [],
   "source": [
    "ei_gas=[act for act in ei if 'natural gas, high pressure, domestic supply with seasonal storage' in act['name']\n",
    " and 'DE' in act['location']\n",
    "  ][0]\n",
    "ei_gas"
   ]
  },
  {
   "cell_type": "code",
   "execution_count": null,
   "id": "c8309c83",
   "metadata": {},
   "outputs": [],
   "source": [
    "my_interface.technosphere['fuel source'].source=ei_gas"
   ]
  },
  {
   "cell_type": "code",
   "execution_count": null,
   "id": "eb81c965",
   "metadata": {},
   "outputs": [],
   "source": [
    "bio_flow= [fl for fl in bio if 'Carbon dioxide, fossil' in fl['name']][0]"
   ]
  },
  {
   "cell_type": "code",
   "execution_count": null,
   "id": "1ece8c58",
   "metadata": {},
   "outputs": [],
   "source": [
    "my_interface.biosphere['flue gas sink'].target=bio_flow"
   ]
  },
  {
   "cell_type": "code",
   "execution_count": null,
   "id": "c6162cd1",
   "metadata": {},
   "outputs": [],
   "source": [
    "my_interface.calculate_background_impact()"
   ]
  },
  {
   "cell_type": "code",
   "execution_count": null,
   "id": "20a119e1",
   "metadata": {},
   "outputs": [],
   "source": [
    "my_interface.calculate_impact()"
   ]
  },
  {
   "cell_type": "code",
   "execution_count": null,
   "id": "f8f9fe70",
   "metadata": {},
   "outputs": [],
   "source": [
    "my_interface.technosphere['grid'].model_unit"
   ]
  },
  {
   "cell_type": "code",
   "execution_count": null,
   "id": "0616788a",
   "metadata": {},
   "outputs": [],
   "source": [
    "code= my_interface.export_to_bw()"
   ]
  },
  {
   "cell_type": "code",
   "execution_count": null,
   "id": "d7c35829",
   "metadata": {},
   "outputs": [],
   "source": [
    "code"
   ]
  },
  {
   "cell_type": "code",
   "execution_count": null,
   "id": "24a8c127",
   "metadata": {},
   "outputs": [],
   "source": []
  }
 ],
 "metadata": {
  "kernelspec": {
   "display_name": "utility_lca",
   "language": "python",
   "name": "python3"
  },
  "language_info": {
   "codemirror_mode": {
    "name": "ipython",
    "version": 3
   },
   "file_extension": ".py",
   "mimetype": "text/x-python",
   "name": "python",
   "nbconvert_exporter": "python",
   "pygments_lexer": "ipython3",
   "version": "3.12.9"
  }
 },
 "nbformat": 4,
 "nbformat_minor": 5
}
