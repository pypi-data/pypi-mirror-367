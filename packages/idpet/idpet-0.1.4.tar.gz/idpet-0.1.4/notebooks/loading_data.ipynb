{
 "cells": [
  {
   "cell_type": "markdown",
   "id": "25c91348-f22d-41fd-bdf4-dac1ecc4b47f",
   "metadata": {},
   "source": [
    "# Loading data"
   ]
  },
  {
   "cell_type": "markdown",
   "id": "3c26fe4f-b52a-400f-ba19-b0b31ef1bbf8",
   "metadata": {},
   "source": [
    "This notebook illustrates how to load 3D structural ensemble data in IDPET and perform basic analyses.\n",
    "\n",
    "IDPET allows to load ensemble data from local files or from ensembles stored on online databases (currently PED and ATLAS)."
   ]
  },
  {
   "cell_type": "markdown",
   "id": "0e3bd349-83c9-4ed8-863c-4c5dfd74b568",
   "metadata": {},
   "source": [
    "## Download ensembles from PED\n",
    "\n",
    "IDPET allows to download ensembles directly from the [Protein Ensemble Database](https://proteinensemble.org/) (PED).\n",
    "\n",
    "We will begin by downloading three ensembles for the same protein domain drkN SH3."
   ]
  },
  {
   "cell_type": "code",
   "execution_count": 2,
   "id": "0b1a8f50-6e44-43d8-8b93-254818b3b359",
   "metadata": {},
   "outputs": [],
   "source": [
    "from idpet.ensemble import Ensemble\n",
    "from idpet.ensemble_analysis import EnsembleAnalysis\n",
    "from idpet.utils import set_verbosity\n",
    "\n",
    "# Change verbosity level to show more information when performing the analysis.\n",
    "set_verbosity(\"INFO\")"
   ]
  },
  {
   "cell_type": "markdown",
   "id": "dc2adf25-fbb1-4df3-8edf-97ab98aac124",
   "metadata": {},
   "source": [
    "We begin by creating a list of Ensemble objects, each initialized with a PED ensemble code. By setting the `database` as `\"ped\"`, IDPET will automatically attempt to download the corresponding data from the PED database."
   ]
  },
  {
   "cell_type": "code",
   "execution_count": 2,
   "id": "537f3fba-433d-425b-9f4c-7f0a1fe296a4",
   "metadata": {},
   "outputs": [],
   "source": [
    "ens_codes = [\n",
    "    Ensemble(code='PED00156e001', database='ped'),\n",
    "    Ensemble(code='PED00157e001', database='ped'),\n",
    "    Ensemble(code='PED00158e001', database='ped') \n",
    "]"
   ]
  },
  {
   "cell_type": "markdown",
   "id": "982d94a4-9948-429f-b75a-e791478945af",
   "metadata": {},
   "source": [
    "Next, we will download the ensembles and load them into the notebook.\n",
    "\n",
    "The ensemble data will be saved locally on your system. You can specify the download location using the `output_dir` argument of the `EnsembleAnalysis` class.\n",
    "\n",
    "If you do not provide this argument, or leave it set to `None`, ensemble data will be downloaded in a default the directory `${HOME}/.idpet/data`, which will be created appositely. You can change the location of this default directory by setting an `$IDPET_OUTPUT_DIR` environmental variable in your system.\n",
    "\n",
    "If `output_dir` is not provided or set to `None`, the data will be downloaded in a default directory `${HOME}/.idpet/data`, which will be created automatically if it does not exist. You can override this default location by setting the `$IDPET_OUTPUT_DIR` environment variable on your system."
   ]
  },
  {
   "cell_type": "code",
   "execution_count": 3,
   "id": "f1ecc108-0292-4beb-8c2b-c494d7134b15",
   "metadata": {},
   "outputs": [
    {
     "name": "stderr",
     "output_type": "stream",
     "text": [
      "Downloading entry PED00156e001 from PED.\n",
      "Download complete. Saved to: /Users/giacomojanson/.idpet/data/PED00156e001.tar.gz\n",
      "Downloaded file PED00156e001.tar.gz from PED.\n",
      "Extracted file PED00156e001.pdb.\n",
      "Downloading entry PED00157e001 from PED.\n",
      "Download complete. Saved to: /Users/giacomojanson/.idpet/data/PED00157e001.tar.gz\n",
      "Downloaded file PED00157e001.tar.gz from PED.\n",
      "Extracted file PED00157e001.pdb.\n",
      "Downloading entry PED00158e001 from PED.\n",
      "Download complete. Saved to: /Users/giacomojanson/.idpet/data/PED00158e001.tar.gz\n",
      "Downloaded file PED00158e001.tar.gz from PED.\n",
      "Extracted file PED00158e001.pdb.\n",
      "PED00156e001 chain ids: ['A']\n",
      "Generating trajectory for PED00156e001...\n",
      "Generated trajectory saved to /Users/giacomojanson/.idpet/data.\n",
      "PED00157e001 chain ids: ['A']\n",
      "Generating trajectory for PED00157e001...\n",
      "Generated trajectory saved to /Users/giacomojanson/.idpet/data.\n",
      "PED00158e001 chain ids: ['A']\n",
      "Generating trajectory for PED00158e001...\n",
      "Generated trajectory saved to /Users/giacomojanson/.idpet/data.\n"
     ]
    }
   ],
   "source": [
    "analysis = EnsembleAnalysis(\n",
    "    ens_codes,\n",
    "    output_dir=None  # Optional: add your own path to a directory to save ensemble data.\n",
    ")\n",
    "analysis.load_trajectories();"
   ]
  },
  {
   "cell_type": "markdown",
   "id": "dae3a69b-12e5-480b-983a-7c3da9b65710",
   "metadata": {},
   "source": [
    "## How to use your ensembles\n",
    "\n",
    "Once the data has been downloaded, the `Ensemble` objects within the `EnsembleAnalysis` instance will be populated and ready for use.\n",
    "\n",
    "Each ensemble contains multiple 3D structures, which are stored internally as a `Trajectory` object from the [MDTraj library](https://www.mdtraj.org).\n",
    "\n",
    "In this section, we demonstrate basic usage of the ensembles and how to access their structural data.\n",
    "\n",
    "For additional functionality and more useful analyses, please refer to the other notebooks and the official IDPET documentation."
   ]
  },
  {
   "cell_type": "code",
   "execution_count": 4,
   "id": "f7da6bc7-d019-41b0-ae9b-c0e56cf8a5cc",
   "metadata": {},
   "outputs": [
    {
     "name": "stdout",
     "output_type": "stream",
     "text": [
      "---\n",
      "code: PED00156e001\n",
      "shape xyz ensemble data: conformations=100, residues=59, atoms=941\n",
      "---\n",
      "code: PED00157e001\n",
      "shape xyz ensemble data: conformations=100, residues=59, atoms=939\n",
      "---\n",
      "code: PED00158e001\n",
      "shape xyz ensemble data: conformations=88, residues=59, atoms=939\n"
     ]
    }
   ],
   "source": [
    "# Access via iteration.\n",
    "for ensemble in analysis.ensembles:\n",
    "    print(\"---\")\n",
    "    print(\"code:\", ensemble.code)\n",
    "    # The xyz coordinates are stored in numpy arrays.\n",
    "    mdtraj_trajectory = ensemble.trajectory\n",
    "    n_conformations, n_atoms, _xyz_dimensions = mdtraj_trajectory.xyz.shape\n",
    "    n_residues = mdtraj_trajectory.topology.n_residues\n",
    "    print(f\"shape xyz ensemble data: conformations={n_conformations}, residues={n_residues}, atoms={n_atoms}\")"
   ]
  },
  {
   "cell_type": "code",
   "execution_count": 5,
   "id": "9b6f4201-8498-4bf9-8541-d373b5890af8",
   "metadata": {},
   "outputs": [
    {
     "name": "stdout",
     "output_type": "stream",
     "text": [
      "code: PED00156e001\n"
     ]
    }
   ],
   "source": [
    "# Access via key-value pairs.\n",
    "ensemble = analysis[\"PED00156e001\"]\n",
    "print(\"code:\", ensemble.code)"
   ]
  },
  {
   "cell_type": "markdown",
   "id": "dc3afd2c-8638-4209-a1c4-4d52e9f0c5a9",
   "metadata": {},
   "source": [
    "The `Ensemble` class can be used to compute numerous structural features to describe the 3D conformations. IPDET has numerous high-level methods for calculating and analyzing these features (see the other notebooks), but here we will show how in principle you can calculate them at a lower-level."
   ]
  },
  {
   "cell_type": "code",
   "execution_count": 6,
   "id": "91694720-a22d-4372-809f-862ff8a903e2",
   "metadata": {},
   "outputs": [
    {
     "name": "stdout",
     "output_type": "stream",
     "text": [
      "Average Rg: 1.794 [nm]\n"
     ]
    }
   ],
   "source": [
    "# Compute radius of gyration.\n",
    "rg_array = ensemble.get_features(\"rg\")\n",
    "print(f\"Average Rg: {rg_array.mean():.3f} [nm]\")"
   ]
  },
  {
   "cell_type": "markdown",
   "id": "fb8cbe47-832e-47b5-8993-1747b6e01762",
   "metadata": {},
   "source": [
    "## Download ensembles from ATLAS\n",
    "\n",
    "IPDET also allows you to download ensembles from the [ATLAS](https://www.dsimb.inserm.fr/ATLAS/) database of molecular dynamic (MD) simulations of protein chains from the PDB.\n",
    "\n",
    "Let's start a new analysis to demonstrate this."
   ]
  },
  {
   "cell_type": "code",
   "execution_count": 7,
   "id": "98f44036-a131-4a34-aec9-2e5a6c25aa40",
   "metadata": {},
   "outputs": [
    {
     "name": "stderr",
     "output_type": "stream",
     "text": [
      "Downloading entry 1ail_A from ATLAS.\n",
      "Download complete. Saved to: /Users/giacomojanson/.idpet/data/1ail_A.zip\n",
      "Downloaded file 1ail_A.zip from Atlas.\n",
      "Extracted file /Users/giacomojanson/.idpet/data/1ail_A.zip.\n",
      "Loading trajectory for 1ail_A_prod_R1_fit...\n",
      "Loading trajectory for 1ail_A_prod_R2_fit...\n",
      "Loading trajectory for 1ail_A_prod_R3_fit...\n"
     ]
    }
   ],
   "source": [
    "ens_codes = [\n",
    "    Ensemble(\n",
    "        code='1ail_A',\n",
    "        database='atlas'  # Specify \"atlas\" here.\n",
    "    )\n",
    "]\n",
    "\n",
    "analysis = EnsembleAnalysis(\n",
    "    ens_codes,\n",
    "    output_dir=None  # Optional: add your own path to a directory to save ensemble data.\n",
    ")\n",
    "analysis.load_trajectories();"
   ]
  },
  {
   "cell_type": "markdown",
   "id": "cfc076a4-ba24-4227-99e1-9c870d2629e9",
   "metadata": {},
   "source": [
    "For each ATLAS system, three independent MD trajectories are available. IDPET will store them as independent `Ensemble` objects.\n",
    "\n",
    "ATLAS contains 10001 conformations per MD trajectory, so we will first randomly downsample them to 250."
   ]
  },
  {
   "cell_type": "code",
   "execution_count": 8,
   "id": "60f18650-cef8-498b-83f7-8835febaf981",
   "metadata": {},
   "outputs": [
    {
     "name": "stderr",
     "output_type": "stream",
     "text": [
      "250 conformations sampled from 1ail_A_prod_R1_fit trajectory.\n",
      "250 conformations sampled from 1ail_A_prod_R2_fit trajectory.\n",
      "250 conformations sampled from 1ail_A_prod_R3_fit trajectory.\n"
     ]
    }
   ],
   "source": [
    "analysis.random_sample_trajectories(sample_size=250);"
   ]
  },
  {
   "cell_type": "code",
   "execution_count": 9,
   "id": "37fe402c-4266-4788-bcb3-99369fefd518",
   "metadata": {},
   "outputs": [
    {
     "name": "stdout",
     "output_type": "stream",
     "text": [
      "---\n",
      "code: 1ail_A_prod_R1_fit\n",
      "shape xyz ensemble data: conformations=250, residues=73, atoms=1172\n",
      "Average rg: mean=1.361, std=0.038\n",
      "Average prolateness: mean=0.412, std=0.101\n",
      "Average asphericity: mean=0.139, std=0.034\n",
      "Average sasa: mean=57.753, std=1.335\n",
      "Average end_to_end: mean=3.317, std=0.449\n",
      "---\n",
      "code: 1ail_A_prod_R2_fit\n",
      "shape xyz ensemble data: conformations=250, residues=73, atoms=1172\n",
      "Average rg: mean=1.356, std=0.025\n",
      "Average prolateness: mean=0.431, std=0.104\n",
      "Average asphericity: mean=0.143, std=0.029\n",
      "Average sasa: mean=58.516, std=1.040\n",
      "Average end_to_end: mean=3.106, std=0.554\n",
      "---\n",
      "code: 1ail_A_prod_R3_fit\n",
      "shape xyz ensemble data: conformations=250, residues=73, atoms=1172\n",
      "Average rg: mean=1.342, std=0.019\n",
      "Average prolateness: mean=0.398, std=0.081\n",
      "Average asphericity: mean=0.138, std=0.017\n",
      "Average sasa: mean=57.150, std=1.005\n",
      "Average end_to_end: mean=2.988, std=0.376\n"
     ]
    }
   ],
   "source": [
    "# Access via iteration.\n",
    "for ensemble in analysis.ensembles:\n",
    "    print(\"---\")\n",
    "    print(\"code:\", ensemble.code)\n",
    "    # The xyz coordinates are stored in numpy arrays.\n",
    "    mdtraj_trajectory = ensemble.trajectory\n",
    "    n_conformations, n_atoms, _xyz_dimensions = mdtraj_trajectory.xyz.shape\n",
    "    n_residues = mdtraj_trajectory.topology.n_residues\n",
    "    print(f\"shape xyz ensemble data: conformations={n_conformations}, residues={n_residues}, atoms={n_atoms}\")\n",
    "    # Compute some example molecular features.\n",
    "    for feature in (\"rg\", \"prolateness\", \"asphericity\", \"sasa\", \"end_to_end\"):\n",
    "        feat_array = ensemble.get_features(feature)\n",
    "        feat_avg = feat_array.mean()\n",
    "        feat_std = feat_array.std()\n",
    "        print(f\"Average {feature}: mean={feat_avg:.3f}, std={feat_std:.3f}\")\n",
    "    "
   ]
  },
  {
   "cell_type": "markdown",
   "id": "d0b8325f-adb0-4555-ab35-f410f9eed5d2",
   "metadata": {},
   "source": [
    "## Load from local PDB files"
   ]
  },
  {
   "cell_type": "markdown",
   "id": "81c7cd1b-b927-4060-89cf-961a2cc88eb3",
   "metadata": {},
   "source": [
    "You can also load ensembles from multi-model PDB files on your local system.\n",
    "\n",
    "By default, IDPET will save a binary trajectory file in its data directory for faster reading in case you will load the ensemble again."
   ]
  },
  {
   "cell_type": "code",
   "execution_count": null,
   "id": "e708e729-69df-419d-97fb-3a87f2c06b00",
   "metadata": {},
   "outputs": [],
   "source": [
    "code = \"your_ensemble_from_pdb_file\"\n",
    "\n",
    "ensemble = Ensemble(\n",
    "    code=code,\n",
    "    data_path=\"/home/your_username/path/to/multi_model_file.pdb\"\n",
    ")\n",
    "\n",
    "# Add your ensemble to a new analysis (see other notebooks for more information).\n",
    "analysis = EnsembleAnalysis([ensemble])\n",
    "analysis.load_trajectories();"
   ]
  },
  {
   "cell_type": "code",
   "execution_count": null,
   "id": "6a0070da-8111-40b5-b299-70b69951ad25",
   "metadata": {},
   "outputs": [],
   "source": [
    "print(ensemble.code)\n",
    "# Compute Flory exponent.\n",
    "flory_exp = ensemble.get_features(\"flory_exponent\")[0]\n",
    "print(f\"Flory exponent: {flory_exp:.3f}\")"
   ]
  },
  {
   "cell_type": "markdown",
   "id": "1e32771b-3caf-4a67-a1b1-5323922b16b7",
   "metadata": {},
   "source": [
    "## Load from local trajectory files\n",
    "\n",
    "Finally you can load data from trajectory binary files.\n",
    "\n",
    "You need a trajectory file (e.g.: dcd or xtc format) and a topology file (e.g.: pdb format)."
   ]
  },
  {
   "cell_type": "code",
   "execution_count": null,
   "id": "c8051a4e-ac91-4487-a6e0-dcdb5c2747ad",
   "metadata": {},
   "outputs": [],
   "source": [
    "code = \"your_ensemble_from_traj_file\"\n",
    "\n",
    "ensemble = Ensemble(\n",
    "    code=code,\n",
    "    data_path=\"/home/your_username/path/to/trajectory_file.xtc\",\n",
    "    top_path=\"/home/your_username/path/to/multi_model_file.pdb\"\n",
    ")\n",
    "\n",
    "# Instead of loading data by adding your ensemble to an `EnsembleAnalysis` object,\n",
    "# you can also load an ensemble directly using the `load_trajectory` method of\n",
    "# the `Ensemble` class.\n",
    "data_dir = None\n",
    "ensemble.load_trajectory(data_dir)\n",
    "\n",
    "# Compute Flory exponent.\n",
    "flory_exp = ensemble.get_features(\"flory_exponent\")[0]\n",
    "print(f\"Flory exponent: {flory_exp:.3f}\")"
   ]
  }
 ],
 "metadata": {
  "kernelspec": {
   "display_name": "ped",
   "language": "python",
   "name": "python3"
  },
  "language_info": {
   "codemirror_mode": {
    "name": "ipython",
    "version": 3
   },
   "file_extension": ".py",
   "mimetype": "text/x-python",
   "name": "python",
   "nbconvert_exporter": "python",
   "pygments_lexer": "ipython3",
   "version": "3.11.5"
  }
 },
 "nbformat": 4,
 "nbformat_minor": 5
}
