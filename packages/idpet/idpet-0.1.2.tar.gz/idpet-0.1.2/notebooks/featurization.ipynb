{
 "cells": [
  {
   "cell_type": "markdown",
   "id": "347b9009",
   "metadata": {},
   "source": [
    "# Feature extraction from conformational ensembles in IDPET"
   ]
  },
  {
   "cell_type": "markdown",
   "id": "b340addf",
   "metadata": {},
   "source": [
    "In this notebook we will illustrate how we can use IDPET to extract structural features from conformational ensembles."
   ]
  },
  {
   "cell_type": "markdown",
   "id": "a86d63fb",
   "metadata": {},
   "source": [
    "# Load data from PED"
   ]
  },
  {
   "cell_type": "code",
   "execution_count": 2,
   "id": "6f2944b3",
   "metadata": {},
   "outputs": [
    {
     "name": "stderr",
     "output_type": "stream",
     "text": [
      "Ensemble PED00156e001 already downloaded. Skipping.\n",
      "File PED00156e001.pdb already exists. Skipping extraction.\n",
      "Trajectory file already exists for ensemble PED00156e001.\n",
      "Ensemble PED00157e001 already downloaded. Skipping.\n",
      "File PED00157e001.pdb already exists. Skipping extraction.\n",
      "Trajectory file already exists for ensemble PED00157e001.\n",
      "Ensemble PED00158e001 already downloaded. Skipping.\n",
      "File PED00158e001.pdb already exists. Skipping extraction.\n",
      "Trajectory file already exists for ensemble PED00158e001.\n",
      "Loading trajectory for PED00156e001...\n",
      "Loading trajectory for PED00157e001...\n",
      "Loading trajectory for PED00158e001...\n"
     ]
    },
    {
     "name": "stdout",
     "output_type": "stream",
     "text": [
      "The autoreload extension is already loaded. To reload it, use:\n",
      "  %reload_ext autoreload\n"
     ]
    }
   ],
   "source": [
    "%load_ext autoreload\n",
    "%autoreload 2\n",
    "import matplotlib.pyplot as plt\n",
    "from idpet.ensemble import Ensemble\n",
    "from idpet.ensemble_analysis import EnsembleAnalysis\n",
    "from idpet.visualization import *\n",
    "from idpet.utils import set_verbosity\n",
    "\n",
    "set_verbosity(\"INFO\")  # Change verbosity level to show more information when performing the analysis.\n",
    "\n",
    "ens_codes = [\n",
    "    Ensemble('PED00156e001', database='ped'),\n",
    "    Ensemble('PED00157e001', database='ped'),\n",
    "    Ensemble('PED00158e001', database='ped'),\n",
    "]\n",
    "analysis = EnsembleAnalysis(ens_codes)\n",
    "analysis.load_trajectories()\n",
    "vis = Visualization(analysis);"
   ]
  },
  {
   "cell_type": "markdown",
   "id": "5acae3ff",
   "metadata": {},
   "source": [
    "## 1- Using `extract_features` method from `EnsembleAnalysis` class\n",
    "This method helps to extract 6 different features, which is then can be used for dimensionality reduction algorithms:\n",
    "- phi & psi angles ('phi_psi') \n",
    "\n",
    "- Pairwise distances between Cα atoms ('ca_dist')\n",
    "\n",
    "- Alpha angles, defined as the dihedral angles formed by four consecutive Cα atoms ('a_angle')\n",
    "\n",
    "- trRosetta omega angle, defined as the inter-residue dihedral angle between the CA and CB atoms of a first residue and the CB and CA atoms of a second residue ('tr_omega)\n",
    "\n",
    "- trRosetta phi angle, defined as the inter-residue angle between the CA and CB atoms of a first residue and the CB atom of a second residue ('tr_phi)\n",
    "\n",
    "In the example below we extracted pairwise distances between Cα atoms and save the data in `feat` variable. The data saved as a dictionary that the keys are the ensemble names and the values are numpy arrays of pairwise distances. "
   ]
  },
  {
   "cell_type": "code",
   "execution_count": 35,
   "id": "380b85d3",
   "metadata": {},
   "outputs": [
    {
     "name": "stderr",
     "output_type": "stream",
     "text": [
      "Performing feature extraction for Ensemble: PED00156e001.\n",
      "Transformed ensemble shape: (100, 1653)\n",
      "Performing feature extraction for Ensemble: PED00157e001.\n",
      "Transformed ensemble shape: (100, 1653)\n",
      "Performing feature extraction for Ensemble: PED00158e001.\n",
      "Transformed ensemble shape: (88, 1653)\n"
     ]
    },
    {
     "name": "stdout",
     "output_type": "stream",
     "text": [
      "feat is a <class 'dict'> \n",
      "the keys are: dict_keys(['PED00156e001', 'PED00157e001', 'PED00158e001']),\n",
      "the shape of the data is: (100, 1653) ,\n",
      "the type of the data is: <class 'numpy.ndarray'>\n"
     ]
    }
   ],
   "source": [
    "feat = analysis.extract_features(featurization='ca_dist')\n",
    "print(f'feat is a {type(feat)} \\nthe keys are: {feat.keys()},\\nthe shape of the data is: {feat[\"PED00156e001\"].shape} ,\\nthe type of the data is: {type(feat[\"PED00156e001\"])}')"
   ]
  },
  {
   "cell_type": "markdown",
   "id": "9b2592db",
   "metadata": {},
   "source": [
    "## 2- Other options in `extract_features`\n",
    "\n",
    "- `normalize`: if `True` you can normalize the extracted feature, which is only applicable for `ca_dist`.\n",
    "- `min_sep`: Minimum separation distance, available for `ca_dist`, `tr_omega`, and `tr_phi` . Default is 2.\n",
    "- `max_spe`: Maximum separation distance, available for `ca_dist`, `tr_omega`, and `tr_phi`. Default is None.\n",
    "\n",
    "The example below show other options for extracting pairwise distances between Cα atoms"
   ]
  },
  {
   "cell_type": "code",
   "execution_count": 38,
   "id": "d95b5084",
   "metadata": {},
   "outputs": [
    {
     "name": "stderr",
     "output_type": "stream",
     "text": [
      "Performing feature extraction for Ensemble: PED00156e001.\n",
      "Transformed ensemble shape: (100, 1653)\n"
     ]
    },
    {
     "name": "stderr",
     "output_type": "stream",
     "text": [
      "Performing feature extraction for Ensemble: PED00157e001.\n",
      "Transformed ensemble shape: (100, 1653)\n",
      "Performing feature extraction for Ensemble: PED00158e001.\n",
      "Transformed ensemble shape: (88, 1653)\n",
      "Concatenated featurized ensemble shape: (288, 1653)\n"
     ]
    }
   ],
   "source": [
    "feat = analysis.extract_features(featurization='ca_dist', \n",
    "                                 normalize=True,\n",
    "                                 min_sep=2,\n",
    "                                 max_sep=None)\n"
   ]
  },
  {
   "cell_type": "markdown",
   "id": "a801a28c",
   "metadata": {},
   "source": [
    "## 3- Using `get_features` method from `EnsembleAnalysis` class"
   ]
  },
  {
   "cell_type": "code",
   "execution_count": 43,
   "id": "d0525fb0",
   "metadata": {},
   "outputs": [],
   "source": [
    "feat = analysis.get_features(featurization='tr_phi')"
   ]
  },
  {
   "cell_type": "code",
   "execution_count": null,
   "id": "ee55e36c",
   "metadata": {},
   "outputs": [],
   "source": []
  }
 ],
 "metadata": {
  "kernelspec": {
   "display_name": "ped",
   "language": "python",
   "name": "python3"
  },
  "language_info": {
   "codemirror_mode": {
    "name": "ipython",
    "version": 3
   },
   "file_extension": ".py",
   "mimetype": "text/x-python",
   "name": "python",
   "nbconvert_exporter": "python",
   "pygments_lexer": "ipython3",
   "version": "3.11.5"
  }
 },
 "nbformat": 4,
 "nbformat_minor": 5
}
