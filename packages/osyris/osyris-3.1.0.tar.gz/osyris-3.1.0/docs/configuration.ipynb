{
 "cells": [
  {
   "cell_type": "markdown",
   "metadata": {},
   "source": [
    "# Configuration\n",
    "\n",
    "Upon first import, `osyris` will create a configuration file located in `/home/user/.osyris/config_osyris.py`.\n",
    "This will then be loaded by `osyris`, and allows easy configuration for units, constants and additional derived variables.\n",
    "\n",
    "## Configure constants\n",
    "\n",
    "This function creates additional constants or units that you use often, and do not wish to re-defined all the time.\n",
    "The syntax is the following:"
   ]
  },
  {
   "cell_type": "code",
   "execution_count": null,
   "metadata": {},
   "outputs": [],
   "source": [
    "def configure_constants(units):\n",
    "    units.define(\"solar_mass = 1.9889e+33 * g = M_sun = M_sol\")\n",
    "    units.define(\"radiation_constant = 7.5659146e-015 * erg / cm^3 / K^4 = ar\")"
   ]
  },
  {
   "cell_type": "markdown",
   "metadata": {},
   "source": [
    "## Configure units\n",
    "\n",
    "This function defines which units should be used for the different variables that are loaded when reading a Ramses output.\n",
    "They are used to convert between code units and CGS.\n",
    "\n",
    "Converting from code units requires the density, length and time scale factors `unit_d`, `unit_l` and `unit_t`,\n",
    "found in the simulation `info` file.\n",
    "Those are then used to define conversion factors for each variable, e.g. `density` or `position`.\n",
    "The conversion factors are stored in a dictionary that is returned by the function (and subsequently stored in the `Dataset`).\n",
    "\n",
    "An example snippet could look like this:"
   ]
  },
  {
   "cell_type": "code",
   "execution_count": null,
   "metadata": {},
   "outputs": [],
   "source": [
    "def configure_units(units, unit_d, unit_l, unit_t):\n",
    "    density = unit_d * units(\"g / cm**3\")\n",
    "    velocity = (unit_l / unit_t) * units(\"cm / s\")\n",
    "    momentum = density * velocity\n",
    "\n",
    "    library = defaultdict(lambda: 1.0 * units(\"dimensionless\"))\n",
    "\n",
    "    library.update(\n",
    "        {\n",
    "            \"density\": density,\n",
    "            \"velocity\": velocity,\n",
    "            \"velocity_x\": velocity,\n",
    "            \"velocity_y\": velocity,\n",
    "            \"velocity_z\": velocity,\n",
    "            \"momentum\": momentum,\n",
    "            \"momentum_x\": momentum,\n",
    "            \"momentum_y\": momentum,\n",
    "            \"momentum_z\": momentum,\n",
    "        }\n",
    "    )\n",
    "    return library"
   ]
  },
  {
   "cell_type": "markdown",
   "metadata": {},
   "source": [
    "## Additional variables\n",
    "\n",
    "It is often useful to define some additional variables that are to be computed every time data is loaded.\n",
    "These commonly include cell-centered magnetic field, or temperature.\n",
    "\n",
    "It is recommended to place your variables in a `try/except` block,\n",
    "which will prevent errors if the variables are not found,\n",
    "for instance when loading data from a different simulation.\n",
    "\n",
    "For instance"
   ]
  },
  {
   "cell_type": "code",
   "execution_count": null,
   "metadata": {},
   "outputs": [],
   "source": [
    "def additional_variables(data):\n",
    "    # Magnetic field\n",
    "    try:\n",
    "        data[\"hydro\"][\"B_field\"] = 0.5 * (\n",
    "            data[\"hydro\"][\"B_left\"] + data[\"hydro\"][\"B_right\"]\n",
    "        )\n",
    "    except KeyError:\n",
    "        pass\n",
    "\n",
    "    # Mass\n",
    "    try:\n",
    "        data[\"hydro\"][\"mass\"] = (data[\"hydro\"][\"density\"] * data[\"amr\"][\"dx\"] ** 3).to(\n",
    "            \"M_sun\"\n",
    "        )\n",
    "    except KeyError:\n",
    "        pass"
   ]
  }
 ],
 "metadata": {
  "kernelspec": {
   "display_name": "Python 3 (ipykernel)",
   "language": "python",
   "name": "python3"
  },
  "language_info": {
   "codemirror_mode": {
    "name": "ipython",
    "version": 3
   },
   "file_extension": ".py",
   "mimetype": "text/x-python",
   "name": "python",
   "nbconvert_exporter": "python",
   "pygments_lexer": "ipython3",
   "version": "3.9.5"
  },
  "nbsphinx": {
   "execute": "never"
  }
 },
 "nbformat": 4,
 "nbformat_minor": 4
}
