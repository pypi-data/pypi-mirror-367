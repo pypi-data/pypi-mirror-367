{
 "cells": [
  {
   "cell_type": "markdown",
   "metadata": {},
   "source": [
    "# Plotting: spatial maps\n",
    "\n",
    "In this notebook, we illustrate the possibilities of plotting 2D spatial maps.\n",
    "\n",
    "Note that Osyris's plotting functions are wrapping Matplotlib's plotting functions,\n",
    "and forwards most Matplotlib arguments to the underlying function."
   ]
  },
  {
   "cell_type": "code",
   "execution_count": null,
   "metadata": {},
   "outputs": [],
   "source": [
    "import osyris\n",
    "import numpy as np\n",
    "import matplotlib.pyplot as plt\n",
    "\n",
    "au = osyris.units(\"au\")\n",
    "\n",
    "path = \"osyrisdata/starformation\"\n",
    "data = osyris.RamsesDataset(8, path=path).load()\n",
    "mesh = data[\"mesh\"]\n",
    "ind = np.argmax(mesh[\"density\"])\n",
    "center = mesh[\"position\"][ind]"
   ]
  },
  {
   "cell_type": "markdown",
   "metadata": {},
   "source": [
    "## 2D slice of a scalar quantity\n",
    "\n",
    "### A 2D slice of gas density\n",
    "\n",
    "To create a 2D map of a gas density slice 2000 au wide through the plane normal to `z`, use"
   ]
  },
  {
   "cell_type": "code",
   "execution_count": null,
   "metadata": {},
   "outputs": [],
   "source": [
    "osyris.map(\n",
    "    mesh.layer(\"density\"), norm=\"log\", dx=2000 * au, origin=center, direction=\"z\"\n",
    ")"
   ]
  },
  {
   "cell_type": "markdown",
   "metadata": {},
   "source": [
    "### Rendering modes\n",
    "\n",
    "By default, the map is rendered as an image, but other rendering modes are available.\n",
    "The possible modes for scalar quantities are `image`, `contourf` and `contour`.\n",
    "For example, the same map using `contourf` yields"
   ]
  },
  {
   "cell_type": "code",
   "execution_count": null,
   "metadata": {},
   "outputs": [],
   "source": [
    "osyris.map(\n",
    "    mesh.layer(\"density\"),\n",
    "    norm=\"log\",\n",
    "    dx=2000 * au,\n",
    "    origin=center,\n",
    "    mode=\"contourf\",\n",
    "    direction=\"z\",\n",
    ")"
   ]
  },
  {
   "cell_type": "markdown",
   "metadata": {},
   "source": [
    "### Changing the colorscale\n",
    "\n",
    "The colormap and the range of values can be changed as follows."
   ]
  },
  {
   "cell_type": "code",
   "execution_count": null,
   "metadata": {},
   "outputs": [],
   "source": [
    "osyris.map(\n",
    "    mesh.layer(\"density\"),\n",
    "    norm=\"log\",\n",
    "    dx=2000 * au,\n",
    "    origin=center,\n",
    "    direction=\"z\",\n",
    "    cmap=\"magma\",\n",
    "    vmin=1.0e-16,\n",
    "    vmax=1.0e-13,\n",
    ")"
   ]
  },
  {
   "cell_type": "markdown",
   "metadata": {},
   "source": [
    "### Controlling the resolution\n",
    "\n",
    "By default, the maps have a resolution of 256x256 pixels.\n",
    "This can be changed via the keyword argument `resolution`,\n",
    "which can either be an integer (in which case the same resolution is applied to both the x and y dimension)\n",
    "or a dict with the syntax `resolution={'x': nx, 'y': ny}`."
   ]
  },
  {
   "cell_type": "code",
   "execution_count": null,
   "metadata": {},
   "outputs": [],
   "source": [
    "osyris.map(\n",
    "    mesh.layer(\"density\"),\n",
    "    norm=\"log\",\n",
    "    dx=2000 * au,\n",
    "    origin=center,\n",
    "    direction=\"z\",\n",
    "    resolution=64,\n",
    ")"
   ]
  },
  {
   "cell_type": "markdown",
   "metadata": {},
   "source": [
    "## Maps of vector quantities\n",
    "\n",
    "By default, if a vector quantity (e.g. gas velocity or magnetic field) is passed to the `map` function,\n",
    "it will make an image of the magnitude of the vectors.\n",
    "\n",
    "However, one can also use the `vec`, `stream` and `lic` rendering modes to represent vector Arrays.\n",
    "\n",
    "### Vector field as arrows (quiver plot)\n",
    "\n",
    "The `vec` mode for the gas velocity produces"
   ]
  },
  {
   "cell_type": "code",
   "execution_count": null,
   "metadata": {},
   "outputs": [],
   "source": [
    "osyris.map(\n",
    "    mesh.layer(\"velocity\"),\n",
    "    mode=\"vec\",\n",
    "    dx=2000 * au,\n",
    "    origin=center,\n",
    "    direction=\"z\",\n",
    "    color=\"k\",\n",
    ")"
   ]
  },
  {
   "cell_type": "markdown",
   "metadata": {},
   "source": [
    "A colormap can be used to color the arrows:"
   ]
  },
  {
   "cell_type": "code",
   "execution_count": null,
   "metadata": {},
   "outputs": [],
   "source": [
    "osyris.map(\n",
    "    mesh.layer(\"velocity\"),\n",
    "    mode=\"vec\",\n",
    "    color=mesh[\"velocity\"],\n",
    "    cmap=\"plasma\",\n",
    "    dx=2000.0 * au,\n",
    "    origin=center,\n",
    "    direction=\"z\",\n",
    ")"
   ]
  },
  {
   "cell_type": "markdown",
   "metadata": {},
   "source": [
    "### Streamlines\n",
    "\n",
    "Streamlines can be plotted using the `stream` mode:"
   ]
  },
  {
   "cell_type": "code",
   "execution_count": null,
   "metadata": {},
   "outputs": [],
   "source": [
    "osyris.map(\n",
    "    mesh.layer(\"B_field\"),\n",
    "    mode=\"stream\",\n",
    "    dx=2000 * au,\n",
    "    origin=center,\n",
    "    direction=\"x\",\n",
    "    color=\"g\",\n",
    ")"
   ]
  },
  {
   "cell_type": "markdown",
   "metadata": {},
   "source": [
    "A colormap can be used to color the streamlines:"
   ]
  },
  {
   "cell_type": "code",
   "execution_count": null,
   "metadata": {},
   "outputs": [],
   "source": [
    "osyris.map(\n",
    "    mesh.layer(\"velocity\"),\n",
    "    mode=\"stream\",\n",
    "    color=mesh[\"velocity\"],\n",
    "    cmap=\"jet\",\n",
    "    dx=2000 * au,\n",
    "    origin=center,\n",
    "    direction=\"z\",\n",
    ")"
   ]
  },
  {
   "cell_type": "markdown",
   "metadata": {},
   "source": [
    "### Line integral convolution\n",
    "\n",
    "The line integral convolution (LIC) visualizations method, although computationally intensive,\n",
    "offers an excellent representation of the vector field (especially near discontinuities).\n",
    "\n",
    "**Note:** This feature requires the [lic](https://pypi.org/project/lic/) package to be installed.\n",
    "\n",
    "Below is an example of a LIC of the velocity vector field:"
   ]
  },
  {
   "cell_type": "code",
   "execution_count": null,
   "metadata": {},
   "outputs": [],
   "source": [
    "osyris.map(\n",
    "    mesh.layer(\"velocity\", mode=\"lic\"),\n",
    "    dx=2000 * au,\n",
    "    direction=\"z\",\n",
    "    origin=center,\n",
    "    cmap=\"binary\",\n",
    ")"
   ]
  },
  {
   "cell_type": "markdown",
   "metadata": {},
   "source": [
    "Using an `Array` for the colors also works on LICs:"
   ]
  },
  {
   "cell_type": "code",
   "execution_count": null,
   "metadata": {},
   "outputs": [],
   "source": [
    "osyris.map(\n",
    "    mesh.layer(\"velocity\", mode=\"lic\"),\n",
    "    color=mesh[\"density\"],\n",
    "    norm=\"log\",\n",
    "    dx=2000 * au,\n",
    "    origin=center,\n",
    "    direction=\"z\",\n",
    ")"
   ]
  },
  {
   "cell_type": "markdown",
   "metadata": {},
   "source": [
    "## Multiple layers\n",
    "\n",
    "More than one quantity can be overlayed on the map, using the concept of layers.\n",
    "Any number of layers can be added.\n",
    "\n",
    "A layer can be a raw `Array`,\n",
    "in which case it gets styled according to the arguments passed to the `map` function.\n",
    "In addition, a layer can also be a `dict`, that needs to contain a `data` entry that holds the `Array`,\n",
    "and then any other styling members that will apply to that layer and override the global arguments.\n",
    "\n",
    "For example, plotting a map of gas density with velocity vectors overlayed as arrows can be achieved by doing"
   ]
  },
  {
   "cell_type": "code",
   "execution_count": null,
   "metadata": {},
   "outputs": [],
   "source": [
    "osyris.map(\n",
    "    mesh.layer(\"density\", norm=\"log\"),  # layer 1\n",
    "    mesh.layer(\"velocity\", mode=\"vec\"),  # layer 2\n",
    "    dx=2000 * au,\n",
    "    origin=center,\n",
    "    direction=\"z\",\n",
    ")"
   ]
  },
  {
   "cell_type": "markdown",
   "metadata": {},
   "source": [
    "Another example is to overlay contours of the AMR levels onto a map of gas temperature:"
   ]
  },
  {
   "cell_type": "code",
   "execution_count": null,
   "metadata": {},
   "outputs": [],
   "source": [
    "osyris.map(\n",
    "    mesh.layer(\n",
    "        \"temperature\",\n",
    "        norm=\"log\",\n",
    "        mode=\"contourf\",\n",
    "        levels=np.logspace(0.9, 2, 11),\n",
    "        cmap=\"hot\",\n",
    "    ),  # layer 1\n",
    "    mesh.layer(\n",
    "        \"level\",\n",
    "        mode=\"contour\",\n",
    "        colors=\"w\",\n",
    "        levels=[6, 7, 8],\n",
    "        fmt=\"%i\",\n",
    "    ),  # layer 2\n",
    "    dx=2000 * au,\n",
    "    origin=center,\n",
    "    direction=\"z\",\n",
    ")"
   ]
  },
  {
   "cell_type": "markdown",
   "metadata": {},
   "source": [
    "## Arbitrary orientation\n",
    "\n",
    "In the previous examples, all the maps were created normal to the `z` direction.\n",
    "The orientation can be defined in multiple ways:\n",
    "\n",
    "- `'x'`, `'y'`, or `'z'`, to select one of the three cartesian axes as the normal to the plane\n",
    "- a `Vector` representing the normal to the plane\n",
    "- a `VectorBasis` comprising 3 vectors fully defining the basis for the map\n",
    "- `'top'` or `'side'` to choose an automatic top or side view of a disk\n",
    "\n",
    "### Principal XYZ axes\n",
    "\n",
    "Viewing the system along the `x` axis is achieved using `direction='x'`:"
   ]
  },
  {
   "cell_type": "code",
   "execution_count": null,
   "metadata": {},
   "outputs": [],
   "source": [
    "osyris.map(\n",
    "    mesh.layer(\"density\", norm=\"log\"),\n",
    "    mesh.layer(\"velocity\", mode=\"vec\"),\n",
    "    dx=1000 * au,\n",
    "    origin=center,\n",
    "    direction=\"x\",\n",
    ")"
   ]
  },
  {
   "cell_type": "markdown",
   "metadata": {},
   "source": [
    "### Supplying a normal vector\n",
    "\n",
    "In this example, we supply a custom vector as the map's `direction`:"
   ]
  },
  {
   "cell_type": "code",
   "execution_count": null,
   "metadata": {},
   "outputs": [],
   "source": [
    "osyris.map(\n",
    "    mesh.layer(\"density\", norm=\"log\"),\n",
    "    mesh.layer(\"velocity\", mode=\"vec\"),\n",
    "    dx=500 * au,\n",
    "    origin=center,\n",
    "    direction=osyris.Vector(-1, 1, 3),\n",
    "    cmap=\"magma\",\n",
    ")"
   ]
  },
  {
   "cell_type": "markdown",
   "metadata": {},
   "source": [
    "### Automatic “top/side” slice orientation according to angular momentum\n",
    "\n",
    "Osyris also offers an automatic orientation, based on the angular momentum computed inside a region close to the origin.\n",
    "This is useful for looking at, e.g., disks.\n",
    "\n",
    "In the following example, we create a 2D slice of the logarithm of density 500 au wide with the `\"top\"` direction,\n",
    "to view the disk from above"
   ]
  },
  {
   "cell_type": "code",
   "execution_count": null,
   "metadata": {},
   "outputs": [],
   "source": [
    "osyris.map(\n",
    "    mesh.layer(\"density\", norm=\"log\"),\n",
    "    mesh.layer(\"velocity\", mode=\"vec\"),\n",
    "    dx=500 * au,\n",
    "    origin=center,\n",
    "    direction=\"top\",\n",
    ")"
   ]
  },
  {
   "cell_type": "markdown",
   "metadata": {},
   "source": [
    "We can also use `direction=\"side\"` to view the disk from the side"
   ]
  },
  {
   "cell_type": "code",
   "execution_count": null,
   "metadata": {},
   "outputs": [],
   "source": [
    "osyris.map(\n",
    "    mesh.layer(\"density\", norm=\"log\"),\n",
    "    mesh.layer(\"velocity\", mode=\"vec\"),\n",
    "    dx=500 * au,\n",
    "    origin=center,\n",
    "    direction=\"side\",\n",
    ")"
   ]
  },
  {
   "cell_type": "markdown",
   "metadata": {},
   "source": [
    "## Slicing above the origin\n",
    "\n",
    "We want to plot a slice of density but through a point which is 20 AU above the centre of the domain.\n",
    "We simply supply a new `origin` to `map`:"
   ]
  },
  {
   "cell_type": "code",
   "execution_count": null,
   "metadata": {},
   "outputs": [],
   "source": [
    "osyris.map(\n",
    "    mesh.layer(\"density\", norm=\"log\"),\n",
    "    mesh.layer(\"velocity\", mode=\"vec\"),\n",
    "    dx=500 * au,\n",
    "    origin=center + osyris.Vector(0, 0, 20, unit=\"au\"),\n",
    "    direction=\"z\",\n",
    ")"
   ]
  },
  {
   "cell_type": "markdown",
   "metadata": {},
   "source": [
    "## Plot only a subset of cells belonging to a disk\n",
    "\n",
    "In this example, we select cells according to their density and plot only those.\n",
    "This is done indexing the `mesh` data group with only the desired cells.\n",
    "\n",
    "This is useful for plotting disks around protostars, for example.\n",
    "Here we select the cells with a density in the range\n",
    "$5 \\times 10^{-14}~\\text{g cm}^{-3} < \\rho < 5 \\times 10^{-12}~\\text{g cm}^{-3}$."
   ]
  },
  {
   "cell_type": "code",
   "execution_count": null,
   "metadata": {},
   "outputs": [],
   "source": [
    "selection = (data[\"mesh\"][\"density\"] >= (5.0e-14 * osyris.units(\"g/cm**3\"))) & (\n",
    "    data[\"mesh\"][\"density\"] <= (5.0e-12 * osyris.units(\"g/cm**3\"))\n",
    ")\n",
    "\n",
    "osyris.map(mesh[selection].layer(\"density\"), dx=500 * au, norm=\"log\", origin=center)"
   ]
  },
  {
   "cell_type": "markdown",
   "metadata": {},
   "source": [
    "Computing the disk mass can be achieved via"
   ]
  },
  {
   "cell_type": "code",
   "execution_count": null,
   "metadata": {},
   "outputs": [],
   "source": [
    "np.sum(mesh[\"mass\"][selection]).to(\"M_sun\")"
   ]
  },
  {
   "cell_type": "markdown",
   "metadata": {},
   "source": [
    "## Sink particles\n",
    "\n",
    "Some star formation simulations contain sink particles,\n",
    "and these can be represented as a scatter layer on a plane plot. "
   ]
  },
  {
   "cell_type": "code",
   "execution_count": null,
   "metadata": {},
   "outputs": [],
   "source": [
    "# TODO: not implemented yet\n",
    "\n",
    "# osyris.map(\n",
    "#     {\"data\": data[\"hydro\"][\"density\"], \"norm\": \"log\"},  # layer 1\n",
    "#     {\"data\": data[\"sink\"][\"position\"], \"mode\": \"scatter\", \"c\": \"white\"},  # layer 2\n",
    "#     dx=2000 * au,\n",
    "#     origin=center,\n",
    "#     direction=\"z\",\n",
    "# )"
   ]
  },
  {
   "cell_type": "markdown",
   "metadata": {},
   "source": [
    "## Subplots / tiled plots\n",
    "\n",
    "Osyris has no built-in support for subplots (also known as tiled plots).\n",
    "Instead, we leverage Matplotlib's ability to create such layouts.\n",
    "Osyris plots are then inserted into the Matplotlib axes, using the `ax` argument.\n",
    "\n",
    "In the example below, we create four panels and insert various maps."
   ]
  },
  {
   "cell_type": "code",
   "execution_count": null,
   "metadata": {},
   "outputs": [],
   "source": [
    "# Create figure\n",
    "fig, ax = plt.subplots(2, 2, figsize=(12, 9))\n",
    "\n",
    "# Define region to plot\n",
    "dx = 2000.0 * au\n",
    "\n",
    "osyris.map(\n",
    "    mesh.layer(\"density\", norm=\"log\"),\n",
    "    mesh.layer(\"velocity\", mode=\"vec\"),\n",
    "    dx=dx,\n",
    "    origin=center,\n",
    "    direction=\"z\",\n",
    "    ax=ax[0, 0],\n",
    ")\n",
    "\n",
    "osyris.map(\n",
    "    mesh.layer(\"velocity\"),\n",
    "    mode=\"lic\",\n",
    "    color=mesh[\"density\"],\n",
    "    norm=\"log\",\n",
    "    dx=0.25 * dx,\n",
    "    origin=center,\n",
    "    direction=\"z\",\n",
    "    ax=ax[0, 1],\n",
    ")\n",
    "\n",
    "osyris.map(\n",
    "    mesh.layer(\n",
    "        \"temperature\",\n",
    "        norm=\"log\",\n",
    "        mode=\"contourf\",\n",
    "        levels=np.logspace(0.9, 2, 11),\n",
    "        cmap=\"hot\",\n",
    "    ),\n",
    "    mesh.layer(\n",
    "        \"level\",\n",
    "        mode=\"contour\",\n",
    "        colors=\"w\",\n",
    "        levels=[6, 7, 8],\n",
    "        fmt=\"%i\",\n",
    "    ),\n",
    "    dx=dx,\n",
    "    origin=center,\n",
    "    direction=\"z\",\n",
    "    ax=ax[1, 0],\n",
    ")\n",
    "\n",
    "osyris.map(\n",
    "    mesh.layer(\"density\", norm=\"log\", cmap=\"magma\"),\n",
    "    mesh.layer(\"velocity\", mode=\"stream\", color=\"w\"),\n",
    "    dx=0.25 * dx,\n",
    "    origin=center,\n",
    "    direction=\"side\",\n",
    "    ax=ax[1, 1],\n",
    ")"
   ]
  }
 ],
 "metadata": {
  "kernelspec": {
   "display_name": "Python 3 (ipykernel)",
   "language": "python",
   "name": "python3"
  },
  "language_info": {
   "codemirror_mode": {
    "name": "ipython",
    "version": 3
   },
   "file_extension": ".py",
   "mimetype": "text/x-python",
   "name": "python",
   "nbconvert_exporter": "python",
   "pygments_lexer": "ipython3",
   "version": "3.10.12"
  }
 },
 "nbformat": 4,
 "nbformat_minor": 4
}
