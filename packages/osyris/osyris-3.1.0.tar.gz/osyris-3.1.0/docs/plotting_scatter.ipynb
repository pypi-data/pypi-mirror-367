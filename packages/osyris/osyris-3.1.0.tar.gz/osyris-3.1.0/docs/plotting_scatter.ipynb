{
 "cells": [
  {
   "cell_type": "markdown",
   "metadata": {},
   "source": [
    "# Plotting: scatter plots\n",
    "\n",
    "This notebook describes how to create and customize scatter plots.\n",
    "\n",
    "Note that Osyris's plotting functions are wrapping Matplotlib's plotting functions,\n",
    "and forwards most Matplotlib arguments to the underlying function."
   ]
  },
  {
   "cell_type": "code",
   "execution_count": null,
   "metadata": {},
   "outputs": [],
   "source": [
    "import osyris\n",
    "import numpy as np\n",
    "\n",
    "path = \"osyrisdata/starformation\"\n",
    "data = osyris.RamsesDataset(8, path=path).load()\n",
    "mesh = data[\"mesh\"]"
   ]
  },
  {
   "cell_type": "markdown",
   "metadata": {},
   "source": [
    "## Basic scatter plot\n",
    "\n",
    "The loaded data contains 340,000 cells,\n",
    "and making a scatter plot with 340,000 points is performance draining with matplotlib.\n",
    "\n",
    "It is thus very common to plot a subset of the cells in scatter plots.\n",
    "Here, we make a scatter plot of density vs temperature, showing only 1 out of 100 cells."
   ]
  },
  {
   "cell_type": "code",
   "execution_count": null,
   "metadata": {},
   "outputs": [],
   "source": [
    "step = 100\n",
    "osyris.scatter(\n",
    "    mesh[\"density\"][::step],\n",
    "    mesh[\"velocity\"][::step],\n",
    "    loglog=True,\n",
    ")"
   ]
  },
  {
   "cell_type": "markdown",
   "metadata": {},
   "source": [
    "## Coloring the dots\n",
    "\n",
    "Following Matplotlib's `scatter` function signature, the color of the dots can be changed using the `color` argument:"
   ]
  },
  {
   "cell_type": "code",
   "execution_count": null,
   "metadata": {},
   "outputs": [],
   "source": [
    "osyris.scatter(\n",
    "    mesh[\"density\"][::step], mesh[\"velocity\"][::step], loglog=True, color=\"red\"\n",
    ")"
   ]
  },
  {
   "cell_type": "markdown",
   "metadata": {},
   "source": [
    "A colormap can also be used to color the dots according to a third quantity, e.g. thermal pressure:"
   ]
  },
  {
   "cell_type": "code",
   "execution_count": null,
   "metadata": {},
   "outputs": [],
   "source": [
    "osyris.scatter(\n",
    "    mesh[\"density\"][::step],\n",
    "    mesh[\"velocity\"][::step],\n",
    "    color=mesh[\"thermal_pressure\"][::step],\n",
    "    norm=\"log\",\n",
    "    loglog=True,\n",
    ")"
   ]
  },
  {
   "cell_type": "markdown",
   "metadata": {},
   "source": [
    "## Point size\n",
    "\n",
    "The size of the dots can be changed using the `size` parameter.\n",
    "The size can either be a single number:"
   ]
  },
  {
   "cell_type": "code",
   "execution_count": null,
   "metadata": {},
   "outputs": [],
   "source": [
    "osyris.scatter(\n",
    "    mesh[\"density\"][::step],\n",
    "    mesh[\"velocity\"][::step],\n",
    "    size=100,\n",
    "    norm=\"log\",\n",
    "    loglog=True,\n",
    ")"
   ]
  },
  {
   "cell_type": "markdown",
   "metadata": {},
   "source": [
    "Or it can also be a quantity with physical units"
   ]
  },
  {
   "cell_type": "code",
   "execution_count": null,
   "metadata": {},
   "outputs": [],
   "source": [
    "v = mesh[\"velocity\"][::step]\n",
    "\n",
    "osyris.scatter(v.x, v.y, color=\"red\", size=v * 0.02, aspect=\"equal\")"
   ]
  }
 ],
 "metadata": {
  "kernelspec": {
   "display_name": "Python 3 (ipykernel)",
   "language": "python",
   "name": "python3"
  },
  "language_info": {
   "codemirror_mode": {
    "name": "ipython",
    "version": 3
   },
   "file_extension": ".py",
   "mimetype": "text/x-python",
   "name": "python",
   "nbconvert_exporter": "python",
   "pygments_lexer": "ipython3"
  }
 },
 "nbformat": 4,
 "nbformat_minor": 4
}
