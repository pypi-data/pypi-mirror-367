{
 "cells": [
  {
   "cell_type": "markdown",
   "metadata": {},
   "source": [
    "# Plotting: 1D and 2D data\n",
    "\n",
    "This notebook show how to visualize 1D and 2d simulation data."
   ]
  },
  {
   "cell_type": "code",
   "execution_count": null,
   "metadata": {},
   "outputs": [],
   "source": [
    "import osyris\n",
    "import numpy as np\n",
    "import matplotlib.pyplot as plt"
   ]
  },
  {
   "cell_type": "markdown",
   "metadata": {},
   "source": [
    "## Plotting 1D data\n",
    "\n",
    "1D and 2D data are loaded in exactly the same way as 3D simulations,\n",
    "by creating a `Dataset` and calling the `load()` method."
   ]
  },
  {
   "cell_type": "code",
   "execution_count": null,
   "metadata": {},
   "outputs": [],
   "source": [
    "path = \"osyrisdata/sod\"\n",
    "data1d = osyris.RamsesDataset(2, path=path).load()\n",
    "data1d"
   ]
  },
  {
   "cell_type": "markdown",
   "metadata": {},
   "source": [
    "### Line profile\n",
    "\n",
    "To plot a simple line profile of density as a function of position,\n",
    "Osyris provides the `plot` function which is analogous to Matplotlib's\n",
    "[plot](https://matplotlib.org/stable/api/_as_gen/matplotlib.pyplot.plot.html) function."
   ]
  },
  {
   "cell_type": "code",
   "execution_count": null,
   "metadata": {},
   "outputs": [],
   "source": [
    "data1d = data1d[\"mesh\"]\n",
    "\n",
    "osyris.plot(data1d[\"position_x\"], data1d[\"density\"])"
   ]
  },
  {
   "cell_type": "markdown",
   "metadata": {},
   "source": [
    "It is also possible to send just a single array to the `plot` function,\n",
    "in which case it will use it as `y` values and replace the `x` axis with integer numbers spanning the length of the array:"
   ]
  },
  {
   "cell_type": "code",
   "execution_count": null,
   "metadata": {},
   "outputs": [],
   "source": [
    "osyris.plot(data1d[\"density\"])"
   ]
  },
  {
   "cell_type": "markdown",
   "metadata": {},
   "source": [
    "Note that in this case, the order in which the data points are plotted is just the order in which they appear in the output files,\n",
    "i.e. it will most probably not make physical sense, as it depends (among other things) on load-balancing across cpus.\n",
    "\n",
    "However, these plots can be useful for debugging purposes,\n",
    "when one wishes to visually inspect the range of values spanned by a variable.\n",
    "\n",
    "### Styling lines\n",
    "\n",
    "Because the function is based on Matplotlib's implementation,\n",
    "it also supports Matplotlib's styling arguments.\n",
    "For instance, to plot using red marker instead of a solid line,\n",
    "you can do"
   ]
  },
  {
   "cell_type": "code",
   "execution_count": null,
   "metadata": {},
   "outputs": [],
   "source": [
    "osyris.plot(\n",
    "    data1d[\"position_x\"],\n",
    "    data1d[\"density\"],\n",
    "    marker=\"o\",\n",
    "    ls=\"None\",\n",
    "    color=\"red\",\n",
    ")"
   ]
  },
  {
   "cell_type": "markdown",
   "metadata": {},
   "source": [
    "### Logarithmic scales\n",
    "\n",
    "Osyris does provide some convenience arguments in addition to Matplotlib's functionalty.\n",
    "For example, to set a logarithmic scale on the x and y axes, use the `logx` and `logy` arguments"
   ]
  },
  {
   "cell_type": "code",
   "execution_count": null,
   "metadata": {},
   "outputs": [],
   "source": [
    "osyris.plot(\n",
    "    data1d[\"position_x\"],\n",
    "    data1d[\"density\"],\n",
    "    marker=\"o\",\n",
    "    ls=\"None\",\n",
    "    logx=True,\n",
    "    logy=True,\n",
    ")"
   ]
  },
  {
   "cell_type": "markdown",
   "metadata": {},
   "source": [
    "### Multiple lines\n",
    "\n",
    "It is also possible to over-plot multiple lines in one go,\n",
    "by supplying more than one array for the `y` values.\n",
    "\n",
    "However, note that to be able to plot the variables on a single axis,\n",
    "they must all have the same unit."
   ]
  },
  {
   "cell_type": "code",
   "execution_count": null,
   "metadata": {},
   "outputs": [],
   "source": [
    "try:\n",
    "    osyris.plot(\n",
    "        data1d[\"position_x\"],\n",
    "        data1d[\"density\"],\n",
    "        data1d[\"pressure\"],\n",
    "    )\n",
    "except Exception as e:\n",
    "    print(e)"
   ]
  },
  {
   "cell_type": "markdown",
   "metadata": {},
   "source": [
    "To be able to show an example, we fake a new density variable."
   ]
  },
  {
   "cell_type": "code",
   "execution_count": null,
   "metadata": {},
   "outputs": [],
   "source": [
    "data1d[\"new_density\"] = data1d[\"density\"] * 2\n",
    "osyris.plot(\n",
    "    data1d[\"position_x\"],\n",
    "    data1d[\"density\"],\n",
    "    data1d[\"new_density\"],\n",
    ")"
   ]
  },
  {
   "cell_type": "markdown",
   "metadata": {},
   "source": [
    "By default, the same x coordinate will be used for both sets of y values.\n",
    "It is however possible to plot on the same axes two variables with different x coordinates.\n",
    "\n",
    "In this case, the two entries must be dicts, and they must contain at least the entries `'x'` and `'y'`.\n",
    "This is useful in the case where one wishes to compare two outputs from different times,\n",
    "which do not contain the same number of mesh cells (and hence cannot have the same x coordinate)."
   ]
  },
  {
   "cell_type": "code",
   "execution_count": null,
   "metadata": {},
   "outputs": [],
   "source": [
    "old1d = osyris.RamsesDataset(1, path=path).load()[\"mesh\"]\n",
    "\n",
    "osyris.plot(\n",
    "    {\"x\": data1d[\"position_x\"], \"y\": data1d[\"density\"]},\n",
    "    {\"x\": old1d[\"position_x\"], \"y\": old1d[\"density\"]},\n",
    "    marker=\"o\",\n",
    "    ls=\"None\",\n",
    ")"
   ]
  },
  {
   "cell_type": "markdown",
   "metadata": {},
   "source": [
    "## Subplots / tiled plots\n",
    "\n",
    "Osyris has no built-in support for subplots (also known as tiled plots).\n",
    "Instead, we leverage Matplotlib's ability to create such layouts.\n",
    "Osyris plots are then inserted into the Matplotlib axes, using the `ax` argument.\n",
    "\n",
    "In the example below, we create four panels and insert various plots."
   ]
  },
  {
   "cell_type": "code",
   "execution_count": null,
   "metadata": {},
   "outputs": [],
   "source": [
    "fig, ax = plt.subplots(2, 2, figsize=(12, 9))\n",
    "\n",
    "osyris.plot(\n",
    "    data1d[\"position_x\"],\n",
    "    data1d[\"density\"],\n",
    "    marker=\"o\",\n",
    "    ls=\"None\",\n",
    "    ax=ax[0, 0],\n",
    ")\n",
    "osyris.plot(\n",
    "    data1d[\"position_x\"],\n",
    "    data1d[\"velocity_x\"],\n",
    "    color=\"green\",\n",
    "    ax=ax[0, 1],\n",
    ")\n",
    "osyris.plot(data1d[\"position_x\"], data1d[\"pressure\"], color=\"red\", ax=ax[1, 0])\n",
    "osyris.plot(\n",
    "    data1d[\"position_x\"],\n",
    "    data1d[\"level\"],\n",
    "    color=\"black\",\n",
    "    ls=\"dotted\",\n",
    "    ax=ax[1, 1],\n",
    ")"
   ]
  },
  {
   "cell_type": "markdown",
   "metadata": {},
   "source": [
    "## Plotting 2D data\n",
    "\n",
    "This section briefly shows how to make images of 2D data with the `map` function.\n",
    "For a full description of all the options available, see [Plotting: spatial maps](plotting_maps.ipynb)."
   ]
  },
  {
   "cell_type": "code",
   "execution_count": null,
   "metadata": {},
   "outputs": [],
   "source": [
    "data2d = osyris.RamsesDataset(2, path=\"osyrisdata/sedov\").load()"
   ]
  },
  {
   "cell_type": "code",
   "execution_count": null,
   "metadata": {},
   "outputs": [],
   "source": [
    "data2d[\"mesh\"]"
   ]
  },
  {
   "cell_type": "markdown",
   "metadata": {},
   "source": [
    "To make an image of the gas density, simply use"
   ]
  },
  {
   "cell_type": "code",
   "execution_count": null,
   "metadata": {},
   "outputs": [],
   "source": [
    "osyris.map(data2d[\"mesh\"].layer(\"density\"), norm=\"log\", cmap=\"jet\")"
   ]
  },
  {
   "cell_type": "markdown",
   "metadata": {},
   "source": [
    "A map of the AMR level is obtained with"
   ]
  },
  {
   "cell_type": "code",
   "execution_count": null,
   "metadata": {},
   "outputs": [],
   "source": [
    "osyris.map(data2d[\"mesh\"].layer(\"level\"))"
   ]
  },
  {
   "cell_type": "markdown",
   "metadata": {},
   "source": [
    "The size of the viewport can be adjusted with the `dx` argument:"
   ]
  },
  {
   "cell_type": "code",
   "execution_count": null,
   "metadata": {},
   "outputs": [],
   "source": [
    "osyris.map(\n",
    "    data2d[\"mesh\"].layer(\"density\"),\n",
    "    dx=2 * osyris.units(\"cm\"),\n",
    "    cmap=\"jet\",\n",
    "    norm=\"log\",\n",
    ")"
   ]
  },
  {
   "cell_type": "markdown",
   "metadata": {},
   "source": [
    "Finally, you can also use an additional layer to overlay velocity vectors"
   ]
  },
  {
   "cell_type": "code",
   "execution_count": null,
   "metadata": {},
   "outputs": [],
   "source": [
    "osyris.map(\n",
    "    data2d[\"mesh\"].layer(\"density\", norm=\"log\"),\n",
    "    data2d[\"mesh\"].layer(\"velocity\", mode=\"vec\", color=\"black\"),\n",
    "    cmap=\"jet\",\n",
    ")"
   ]
  }
 ],
 "metadata": {
  "kernelspec": {
   "display_name": "Python 3 (ipykernel)",
   "language": "python",
   "name": "python3"
  },
  "language_info": {
   "codemirror_mode": {
    "name": "ipython",
    "version": 3
   },
   "file_extension": ".py",
   "mimetype": "text/x-python",
   "name": "python",
   "nbconvert_exporter": "python",
   "pygments_lexer": "ipython3",
   "version": "3.10.12"
  }
 },
 "nbformat": 4,
 "nbformat_minor": 4
}
