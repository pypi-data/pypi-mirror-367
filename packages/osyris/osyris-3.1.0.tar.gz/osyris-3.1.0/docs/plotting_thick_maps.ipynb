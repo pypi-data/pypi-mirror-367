{
 "cells": [
  {
   "cell_type": "markdown",
   "metadata": {},
   "source": [
    "# Plotting: thick maps\n",
    "\n",
    "This notebook documents how to make maps inside the simulation domain with a non-zero thickness.\n",
    "This is also sometimes called a column density plot, although it generally only applies to gas density,\n",
    "while any quantity can be used in thick maps.\n",
    "\n",
    "We use the `map` function to compute a 3D grid of values,\n",
    "and this volume then gets integrated along the third dimension."
   ]
  },
  {
   "cell_type": "markdown",
   "metadata": {},
   "source": [
    "<div class=\"alert alert-warning\">\n",
    "\n",
    "**Warning**\n",
    "\n",
    "The current implementation generates a 3D grid of points,\n",
    "and for each one of these points, finds the single AMR cell that contains it.\n",
    "It then assigns the value in the AMR cell to the grid point position.\n",
    "The algorithm does **not** perform a histogramming of all the cells into a 3D cube of bins.\n",
    "\n",
    "This means that this method is not well suited to the computation of, e.g., surface density maps of a galaxy,\n",
    "where the unit would be in ${\\rm M}_{\\odot} {\\rm pc}^{-2}$,\n",
    "because it does not sum the mass contained in each bin,\n",
    "and results depend on the resolution used.\n",
    "If you wish to make such a plot anyway, you should ensure you are resolution-converged.\n",
    "\n",
    "</div>"
   ]
  },
  {
   "cell_type": "code",
   "execution_count": null,
   "metadata": {},
   "outputs": [],
   "source": [
    "import osyris\n",
    "import numpy as np\n",
    "import matplotlib.pyplot as plt\n",
    "\n",
    "path = \"osyrisdata/starformation\"\n",
    "data = osyris.RamsesDataset(8, path=path).load()\n",
    "mesh = data[\"mesh\"]\n",
    "ind = np.argmax(mesh[\"density\"])\n",
    "center = mesh[\"position\"][ind.values]"
   ]
  },
  {
   "cell_type": "markdown",
   "metadata": {},
   "source": [
    "## Making a thick slice of gas density\n",
    "\n",
    "To make a thick slice, we supply a `dz` argument to the `map` function."
   ]
  },
  {
   "cell_type": "code",
   "execution_count": null,
   "metadata": {},
   "outputs": [],
   "source": [
    "osyris.map(\n",
    "    mesh.layer(\"density\"),\n",
    "    norm=\"log\",\n",
    "    dx=2000.0 * osyris.units(\"au\"),\n",
    "    dz=1500.0 * osyris.units(\"au\"),\n",
    "    origin=center,\n",
    "    direction=\"z\",\n",
    ")"
   ]
  },
  {
   "cell_type": "markdown",
   "metadata": {},
   "source": [
    "## Resolution\n",
    "\n",
    "As described at the top of the notebook,\n",
    "the current implementation of the thick maps means that resolution is an important parameter to consider when making thick maps.\n",
    "\n",
    "By default, `map` will try to make the pixel size in the `z` dimension as close as possible to the pixel sizes in the horizontal and vertical directions.\n",
    "This means that in the case where `dx = 2000 AU` for 256 pixels, if `dz = 1500 AU` then the number of pixels in the `z` dimension will be 192.\n",
    "\n",
    "This can however manually be changed, using the `resolution` argument, as follows."
   ]
  },
  {
   "cell_type": "code",
   "execution_count": null,
   "metadata": {},
   "outputs": [],
   "source": [
    "osyris.map(\n",
    "    mesh.layer(\"density\"),\n",
    "    norm=\"log\",\n",
    "    dx=2000.0 * osyris.units(\"au\"),\n",
    "    dz=1500.0 * osyris.units(\"au\"),\n",
    "    origin=center,\n",
    "    direction=\"z\",\n",
    "    resolution={\"z\": 256},\n",
    ")"
   ]
  }
 ],
 "metadata": {
  "kernelspec": {
   "display_name": "Python 3 (ipykernel)",
   "language": "python",
   "name": "python3"
  },
  "language_info": {
   "codemirror_mode": {
    "name": "ipython",
    "version": 3
   },
   "file_extension": ".py",
   "mimetype": "text/x-python",
   "name": "python",
   "nbconvert_exporter": "python",
   "pygments_lexer": "ipython3",
   "version": "3.10.12"
  }
 },
 "nbformat": 4,
 "nbformat_minor": 4
}
