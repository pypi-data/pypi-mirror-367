{
 "cells": [
  {
   "cell_type": "code",
   "execution_count": 1,
   "metadata": {},
   "outputs": [
    {
     "name": "stdout",
     "output_type": "stream",
     "text": [
      "|    | Model       | Split   |   Step |     reward | max_value         | board_value        |\n",
      "|---:|:------------|:--------|-------:|-----------:|:------------------|:-------------------|\n",
      "|  0 | 009         | train   |   0000 |  0.773351  | 88.61538461538461 | 185.53846153846155 |\n",
      "|  1 | 009         | train   |   0002 | -0.0199348 | 64.0              | 162.0              |\n",
      "|  2 | 009         | train   |   0003 |  0.500415  | 128.0             | 202.0              |\n",
      "|  3 | 011         | train   |   0000 |  0.784924  | 32.0              | 121.0              |\n",
      "|  4 | 011         | train   |   0001 |  1.48314   | 96.0              | 177.0              |\n",
      "|  5 | 011         | train   |   0002 |  1.48273   | 96.0              | 213.0              |\n",
      "|  6 | 011         | train   |   0003 |  2.00016   | 128.0             | 198.0              |\n",
      "|  7 | 011         | train   |   0004 | -1         | N/A               | N/A                |\n",
      "|  8 | gpt-4o-mini | val     |   0000 |  0.973925  | 50.90909090909091 | 128.9090909090909  |\n"
     ]
    }
   ],
   "source": [
    "from art.utils.old_benchmarking.generate_comparison_table import generate_comparison_table\n",
    "from art.utils.old_benchmarking.types import BenchmarkedModelKey\n",
    "\n",
    "table = generate_comparison_table(\n",
    "    project=\"2048-dev\",\n",
    "    benchmark_keys=[\n",
    "        BenchmarkedModelKey(\"009\", \"train\", [0, -2, -1]),\n",
    "        BenchmarkedModelKey(\"011\", \"train\"),\n",
    "        BenchmarkedModelKey(\"gpt-4o-mini\", \"val\")\n",
    "    ],\n",
    "    metrics=[\"reward\", \"max_value\", \"board_value\"]\n",
    ")\n",
    "\n",
    "print(table.to_markdown())"
   ]
  },
  {
   "cell_type": "code",
   "execution_count": 2,
   "metadata": {},
   "outputs": [
    {
     "data": {
      "text/html": [
       "\n",
       "    <div style='display: grid; grid-template-columns: repeat(2, 1fr); gap: 10px;'>\n",
       "    <img src='./.art/2048-dev/benchmarks/2025-04-18_20:01:43.945_reward_line_graph.png' style='max-width: 100%; height: auto;'><img src='./.art/2048-dev/benchmarks/2025-04-18_20:01:44.079_reward_std_dev_line_graph.png' style='max-width: 100%; height: auto;'><img src='./.art/2048-dev/benchmarks/2025-04-18_20:01:44.213_max_value_line_graph.png' style='max-width: 100%; height: auto;'><img src='./.art/2048-dev/benchmarks/2025-04-18_20:01:44.336_board_value_line_graph.png' style='max-width: 100%; height: auto;'></div>"
      ],
      "text/plain": [
       "<IPython.core.display.HTML object>"
      ]
     },
     "metadata": {},
     "output_type": "display_data"
    }
   ],
   "source": [
    "from art.utils.old_benchmarking.generate_line_graphs import generate_line_graphs\n",
    "from art.utils.old_benchmarking.display_image_grid import display_image_grid\n",
    "from art.utils.old_benchmarking.types import BenchmarkedModelKey\n",
    "\n",
    "graph_image_paths = generate_line_graphs(\n",
    "    project=\"2048-dev\",\n",
    "    line_graph_keys=[\n",
    "        BenchmarkedModelKey(\"009\", \"train\"),\n",
    "        BenchmarkedModelKey(\"010\", \"train\"),\n",
    "        BenchmarkedModelKey(\"011\", \"train\"),\n",
    "        BenchmarkedModelKey(\"012\", \"train\"),\n",
    "    ],\n",
    "    comparison_keys=[\n",
    "        BenchmarkedModelKey(\"gpt-4o-mini\", \"val\"),\n",
    "        BenchmarkedModelKey(\"gpt-4o\", \"val\")\n",
    "    ],\n",
    "    metrics=[\"reward\", \"reward_std_dev\", \"max_value\", \"board_value\"],\n",
    "    x_axis_metric=\"step\"\n",
    ")\n",
    "\n",
    "display_image_grid(graph_image_paths)"
   ]
  }
 ],
 "metadata": {
  "kernelspec": {
   "display_name": ".venv",
   "language": "python",
   "name": "python3"
  },
  "language_info": {
   "codemirror_mode": {
    "name": "ipython",
    "version": 3
   },
   "file_extension": ".py",
   "mimetype": "text/x-python",
   "name": "python",
   "nbconvert_exporter": "python",
   "pygments_lexer": "ipython3",
   "version": "3.10.13"
  }
 },
 "nbformat": 4,
 "nbformat_minor": 2
}
