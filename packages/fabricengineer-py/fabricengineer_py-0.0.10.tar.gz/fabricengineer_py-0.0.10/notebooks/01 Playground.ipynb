{
 "cells": [
  {
   "cell_type": "markdown",
   "id": "a81b363a",
   "metadata": {},
   "source": [
    "# Playground"
   ]
  },
  {
   "cell_type": "markdown",
   "id": "648232ba",
   "metadata": {},
   "source": [
    "## Initialize globals"
   ]
  },
  {
   "cell_type": "code",
   "execution_count": 1,
   "id": "fa0c3a44",
   "metadata": {},
   "outputs": [],
   "source": [
    "import sys\n",
    "import os\n",
    "import io\n",
    "import shutil\n",
    "import time\n",
    "\n",
    "from uuid import uuid4\n",
    "from typing import Any\n",
    "from contextlib import redirect_stdout\n",
    "from pyspark.sql import SparkSession\n",
    "\n",
    "sys.path.append(\"../src\")\n",
    "\n",
    "from fabricengineer.transform.mlv.mlv import MaterializedLakeView\n",
    "from fabricengineer.transform.silver.insertonly import SilverIngestionInsertOnlyService, ConstantColumn, LakehouseTable as LakehouseTableIO, get_mock_table_path\n",
    "from fabricengineer.logging import TimeLogger, logger\n",
    "\n",
    "mlv: MaterializedLakeView\n",
    "timer: TimeLogger"
   ]
  },
  {
   "cell_type": "code",
   "execution_count": 2,
   "id": "965e651f",
   "metadata": {},
   "outputs": [
    {
     "name": "stderr",
     "output_type": "stream",
     "text": [
      "25/08/05 10:50:46 WARN Utils: Your hostname, MacBook-Air-von-Enrico.local resolves to a loopback address: 127.0.0.1; using 192.168.0.7 instead (on interface en0)\n",
      "25/08/05 10:50:46 WARN Utils: Set SPARK_LOCAL_IP if you need to bind to another address\n",
      "Setting default log level to \"WARN\".\n",
      "To adjust logging level use sc.setLogLevel(newLevel). For SparkR, use setLogLevel(newLevel).\n",
      "25/08/05 10:50:46 WARN NativeCodeLoader: Unable to load native-hadoop library for your platform... using builtin-java classes where applicable\n",
      "25/08/05 10:50:47 WARN Utils: Service 'SparkUI' could not bind on port 4040. Attempting port 4041.\n"
     ]
    }
   ],
   "source": [
    "class NotebookUtilsFSMock:\n",
    "    def _get_path(self, file: str) -> str:\n",
    "        return os.path.join(os.getcwd(), file)\n",
    "\n",
    "    def exists(self, path: str) -> bool:\n",
    "        return os.path.exists(self._get_path(path))\n",
    "\n",
    "    def put(\n",
    "        self,\n",
    "        file: str,\n",
    "        content: str,\n",
    "        overwrite: bool = False\n",
    "    ) -> None:\n",
    "        path = self._get_path(file)\n",
    "        os.makedirs(os.path.dirname(path), exist_ok=True)\n",
    "\n",
    "        if os.path.exists(path) and not overwrite:\n",
    "            raise FileExistsError(f\"File {path} already exists and overwrite is set to False.\")\n",
    "        with open(path, 'w') as f:\n",
    "            f.write(content)\n",
    "\n",
    "\n",
    "class NotebookUtilsMock:\n",
    "    def __init__(self):\n",
    "        self.fs = NotebookUtilsFSMock()\n",
    "\n",
    "global spark\n",
    "spark: SparkSession = SparkSession.builder.appName(\"PlaygroundSparkSession\").getOrCreate()\n",
    "\n",
    "global notebookutils\n",
    "notebookutils = NotebookUtilsMock()"
   ]
  },
  {
   "cell_type": "code",
   "execution_count": 3,
   "id": "5c6173fb",
   "metadata": {},
   "outputs": [],
   "source": [
    "import io\n",
    "import logging\n",
    "from typing import Any, Callable\n",
    "from contextlib import contextmanager\n",
    "\n",
    "@contextmanager\n",
    "def capture_logs(logger: logging.Logger):\n",
    "    log_stream = io.StringIO()\n",
    "    handler = logging.StreamHandler(log_stream)\n",
    "    handler.setLevel(logging.DEBUG)  # Fang alles ab\n",
    "    formatter = logging.Formatter(\"[%(asctime)s] [%(levelname)s] %(filename)s %(message)s\", \"%d.%m.%Y %H:%M:%S,%f\")\n",
    "    handler.setFormatter(formatter)\n",
    "\n",
    "    logger.addHandler(handler)\n",
    "    try:\n",
    "        yield log_stream\n",
    "    finally:\n",
    "        logger.removeHandler(handler)\n",
    "\n",
    "def sniff_logs(logger: logging.Logger, fn: Callable[[], Any]) -> tuple[Any, list[str]]:\n",
    "    with capture_logs(logger) as log_stream:\n",
    "        result = fn()\n",
    "    logs = log_stream.getvalue().splitlines()\n",
    "    return result, logs\n"
   ]
  },
  {
   "cell_type": "code",
   "execution_count": 4,
   "id": "cb8d5599",
   "metadata": {},
   "outputs": [],
   "source": [
    "import os\n",
    "import shutil\n",
    "\n",
    "\n",
    "def cleanup_fs():\n",
    "    path_Files = notebookutils.fs._get_path(\"Files\")\n",
    "    path_tmp = notebookutils.fs._get_path(\"tmp\")\n",
    "    path_tmp_2 = \"../tmp\"\n",
    "    path_tmp_3 = \"../Files\"\n",
    "\n",
    "    rm_paths = [path_Files, path_tmp, path_tmp_2, path_tmp_3]\n",
    "    for path in rm_paths:\n",
    "        if os.path.exists(path):\n",
    "            shutil.rmtree(path)\n",
    "\n",
    "cleanup_fs()"
   ]
  },
  {
   "cell_type": "markdown",
   "id": "bc9d2e7c",
   "metadata": {},
   "source": [
    "## TimeLogger"
   ]
  },
  {
   "cell_type": "code",
   "execution_count": 5,
   "id": "a8c8a6d5",
   "metadata": {},
   "outputs": [
    {
     "data": {
      "text/plain": [
       "TimeLogger(start_time=None, end_time=None, elapsed_time=None)"
      ]
     },
     "execution_count": 5,
     "metadata": {},
     "output_type": "execute_result"
    }
   ],
   "source": [
    "with open(\"../src/fabricengineer/logging/timer.py\") as f:\n",
    "    code = f.read()\n",
    "exec(code, globals())\n",
    "\n",
    "timer"
   ]
  },
  {
   "cell_type": "code",
   "execution_count": 6,
   "id": "30d295e0",
   "metadata": {},
   "outputs": [
    {
     "name": "stderr",
     "output_type": "stream",
     "text": [
      "[05.08.2025 10:50:47] [INFO] fabricengineer TIMER-START:\t2025-08-05 10:50:47\n",
      "[05.08.2025 10:50:48] [INFO] fabricengineer TIMER-END:\t2025-08-05 10:50:48, ELAPSED: 1.0036s\n"
     ]
    }
   ],
   "source": [
    "timer.start().log()\n",
    "time.sleep(1)\n",
    "timer.stop().log()"
   ]
  },
  {
   "cell_type": "markdown",
   "id": "0076f2b1",
   "metadata": {},
   "source": [
    "## MaterializedLakeView"
   ]
  },
  {
   "cell_type": "code",
   "execution_count": 7,
   "id": "2ba1bbfa",
   "metadata": {},
   "outputs": [
    {
     "data": {
      "text/plain": [
       "{'lakehouse': 'Lakehouse',\n",
       " 'schema': 'schema',\n",
       " 'table': 'table',\n",
       " 'table_path': 'Lakehouse.schema.table'}"
      ]
     },
     "execution_count": 7,
     "metadata": {},
     "output_type": "execute_result"
    }
   ],
   "source": [
    "with open(\"../src/fabricengineer/transform/mlv/mlv.py\") as f:\n",
    "    code = f.read()\n",
    "exec(code, globals())\n",
    "\n",
    "\n",
    "mlv.init(\n",
    "    lakehouse=\"Lakehouse\",\n",
    "    schema=\"schema\",\n",
    "    table=\"table\",\n",
    "    table_suffix=None,\n",
    "    is_testing_mock=True\n",
    ")\n",
    "\n",
    "mlv.to_dict()"
   ]
  },
  {
   "cell_type": "code",
   "execution_count": 8,
   "id": "85d270d3",
   "metadata": {},
   "outputs": [
    {
     "name": "stderr",
     "output_type": "stream",
     "text": [
      "[05.08.2025 10:50:48] [INFO] fabricengineer CREATE SCHEMA IF NOT EXISTS b889b89c-d0a4-4ae2-be2b-aa31db3f0afc.schema\n",
      "[05.08.2025 10:50:48] [INFO] fabricengineer CREATE MLV: b889b89c-d0a4-4ae2-be2b-aa31db3f0afc.schema.table\n"
     ]
    },
    {
     "name": "stdout",
     "output_type": "stream",
     "text": [
      "Logs-1\n"
     ]
    },
    {
     "data": {
      "text/plain": [
       "['[05.08.2025 10:50:48,f] [INFO] <string> CREATE SCHEMA IF NOT EXISTS b889b89c-d0a4-4ae2-be2b-aa31db3f0afc.schema',\n",
       " '[05.08.2025 10:50:48,f] [INFO] <string> CREATE MLV: b889b89c-d0a4-4ae2-be2b-aa31db3f0afc.schema.table']"
      ]
     },
     "metadata": {},
     "output_type": "display_data"
    },
    {
     "name": "stderr",
     "output_type": "stream",
     "text": [
      "[05.08.2025 10:50:48] [INFO] fabricengineer Nothing has changed.\n"
     ]
    },
    {
     "name": "stdout",
     "output_type": "stream",
     "text": [
      "Logs-2\n"
     ]
    },
    {
     "data": {
      "text/plain": [
       "['[05.08.2025 10:50:48,f] [INFO] <string> Nothing has changed.']"
      ]
     },
     "metadata": {},
     "output_type": "display_data"
    },
    {
     "name": "stderr",
     "output_type": "stream",
     "text": [
      "[05.08.2025 10:50:48] [INFO] fabricengineer REPLACE MLV: b889b89c-d0a4-4ae2-be2b-aa31db3f0afc.schema.table\n",
      "[05.08.2025 10:50:48] [INFO] fabricengineer DROP MATERIALIZED LAKE VIEW IF EXISTS b889b89c-d0a4-4ae2-be2b-aa31db3f0afc.schema.table\n",
      "[05.08.2025 10:50:48] [INFO] fabricengineer CREATE SCHEMA IF NOT EXISTS b889b89c-d0a4-4ae2-be2b-aa31db3f0afc.schema\n",
      "[05.08.2025 10:50:48] [INFO] fabricengineer CREATE MLV: b889b89c-d0a4-4ae2-be2b-aa31db3f0afc.schema.table\n"
     ]
    },
    {
     "name": "stdout",
     "output_type": "stream",
     "text": [
      "Logs-3\n"
     ]
    },
    {
     "data": {
      "text/plain": [
       "['[05.08.2025 10:50:48,f] [INFO] <string> REPLACE MLV: b889b89c-d0a4-4ae2-be2b-aa31db3f0afc.schema.table',\n",
       " '[05.08.2025 10:50:48,f] [INFO] <string> DROP MATERIALIZED LAKE VIEW IF EXISTS b889b89c-d0a4-4ae2-be2b-aa31db3f0afc.schema.table',\n",
       " '[05.08.2025 10:50:48,f] [INFO] <string> CREATE SCHEMA IF NOT EXISTS b889b89c-d0a4-4ae2-be2b-aa31db3f0afc.schema',\n",
       " '[05.08.2025 10:50:48,f] [INFO] <string> CREATE MLV: b889b89c-d0a4-4ae2-be2b-aa31db3f0afc.schema.table']"
      ]
     },
     "metadata": {},
     "output_type": "display_data"
    },
    {
     "name": "stderr",
     "output_type": "stream",
     "text": [
      "[05.08.2025 10:50:48] [INFO] fabricengineer Nothing has changed.\n"
     ]
    },
    {
     "name": "stdout",
     "output_type": "stream",
     "text": [
      "Logs-4\n"
     ]
    },
    {
     "data": {
      "text/plain": [
       "['[05.08.2025 10:50:48,f] [INFO] <string> Nothing has changed.']"
      ]
     },
     "metadata": {},
     "output_type": "display_data"
    },
    {
     "name": "stderr",
     "output_type": "stream",
     "text": [
      "25/08/05 10:51:01 WARN GarbageCollectionMetrics: To enable non-built-in garbage collector(s) List(G1 Concurrent GC), users should configure it(them) to spark.eventLog.gcMetrics.youngGenerationGarbageCollectors or spark.eventLog.gcMetrics.oldGenerationGarbageCollectors\n"
     ]
    }
   ],
   "source": [
    "mlv.init(\n",
    "    lakehouse=str(uuid4()),\n",
    "    schema=\"schema\",\n",
    "    table=\"table\",\n",
    "    table_suffix=None,\n",
    "    is_testing_mock=True\n",
    ")\n",
    "\n",
    "sql = \"\"\"\n",
    "SELECT * FROM Lakehouse.schema.table\n",
    "\"\"\"\n",
    "is_existing = False\n",
    "for i in range(0, 4):\n",
    "    if i > 0:\n",
    "        is_existing = True\n",
    "    if i == 2:\n",
    "        sql = \"\"\"\n",
    "        SELECT * FROM Lakehouse.schema.table WHERE 1=0\n",
    "        \"\"\"\n",
    "    result, logs = sniff_logs(\n",
    "        logger,\n",
    "        lambda: mlv.create_or_replace(sql, mock_is_existing=is_existing),\n",
    "    )\n",
    "    print(f\"Logs-{i+1}\")\n",
    "    display(logs)"
   ]
  },
  {
   "cell_type": "code",
   "execution_count": 9,
   "id": "eb398d11",
   "metadata": {},
   "outputs": [],
   "source": [
    "mlv.file_path\n",
    "os.remove(mlv.file_path)"
   ]
  },
  {
   "cell_type": "code",
   "execution_count": 10,
   "id": "922dca13",
   "metadata": {},
   "outputs": [
    {
     "data": {
      "text/plain": [
       "['WARN: file=None, is_existing=True. RECREATE.',\n",
       " 'DROP MATERIALIZED LAKE VIEW IF EXISTS d0f584a9-ad2b-41b5-92f8-e4d8dddce28a.schema.table',\n",
       " 'CREATE SCHEMA IF NOT EXISTS d0f584a9-ad2b-41b5-92f8-e4d8dddce28a.schema',\n",
       " 'CREATE MLV: d0f584a9-ad2b-41b5-92f8-e4d8dddce28a.schema.table']"
      ]
     },
     "execution_count": 10,
     "metadata": {},
     "output_type": "execute_result"
    }
   ],
   "source": [
    "result, logs = sniff_logs(\n",
    "    lambda: mlv.create_or_replace(sql, mock_is_existing=True)\n",
    ")\n",
    "\n",
    "logs"
   ]
  },
  {
   "cell_type": "code",
   "execution_count": 11,
   "id": "5235b494",
   "metadata": {},
   "outputs": [
    {
     "data": {
      "text/plain": [
       "['REFRESH MATERIALIZED LAKE VIEW d0f584a9-ad2b-41b5-92f8-e4d8dddce28a.schema.table FULL']"
      ]
     },
     "execution_count": 11,
     "metadata": {},
     "output_type": "execute_result"
    }
   ],
   "source": [
    "result, logs = sniff_logs(\n",
    "    lambda: mlv.refresh(full_refresh=True)\n",
    ")\n",
    "\n",
    "logs"
   ]
  },
  {
   "cell_type": "code",
   "execution_count": 12,
   "id": "110dd14e",
   "metadata": {},
   "outputs": [
    {
     "data": {
      "text/plain": [
       "['REFRESH MATERIALIZED LAKE VIEW d0f584a9-ad2b-41b5-92f8-e4d8dddce28a.schema.table ']"
      ]
     },
     "execution_count": 12,
     "metadata": {},
     "output_type": "execute_result"
    }
   ],
   "source": [
    "result, logs = sniff_logs(\n",
    "    lambda: mlv.refresh(full_refresh=False)\n",
    ")\n",
    "\n",
    "logs"
   ]
  },
  {
   "cell_type": "markdown",
   "id": "19a6be1e",
   "metadata": {},
   "source": [
    "## Clean up the file system"
   ]
  },
  {
   "cell_type": "code",
   "execution_count": 13,
   "id": "4c8f3764",
   "metadata": {},
   "outputs": [],
   "source": [
    "cleanup_fs()"
   ]
  },
  {
   "cell_type": "markdown",
   "id": "2578946d",
   "metadata": {},
   "source": [
    "## SilverIngestionInsertOnlyService"
   ]
  },
  {
   "cell_type": "code",
   "execution_count": 14,
   "id": "170d66a4",
   "metadata": {},
   "outputs": [],
   "source": [
    "src_table = LakehouseTableIO(\n",
    "    lakehouse=\"BronzeLakehouse\",\n",
    "    schema=\"schema\",\n",
    "    table=\"table1\"\n",
    ")\n",
    "dest_table = LakehouseTableIO(\n",
    "    lakehouse=\"SilverLakehouse\",\n",
    "    schema=src_table.schema,\n",
    "    table=src_table.table\n",
    ")\n",
    "\n",
    "etl = SilverIngestionInsertOnlyService()\n",
    "etl.init(\n",
    "    spark_=spark,\n",
    "    source_table=src_table,\n",
    "    destination_table=dest_table,\n",
    "    nk_columns=[\"id\"],\n",
    "    constant_columns=[],\n",
    "    is_delta_load=False,\n",
    "    delta_load_use_broadcast=True,\n",
    "    transformations={},\n",
    "    exclude_comparing_columns=None,\n",
    "    include_comparing_columns=None,\n",
    "    historize=True,\n",
    "    partition_by_columns=None,\n",
    "    is_testing_mock=True\n",
    ")"
   ]
  },
  {
   "cell_type": "code",
   "execution_count": null,
   "id": "1f6ae959",
   "metadata": {},
   "outputs": [
    {
     "name": "stderr",
     "output_type": "stream",
     "text": [
      "                                                                                \r"
     ]
    },
    {
     "name": "stdout",
     "output_type": "stream",
     "text": [
      "+---+---------+-------------+-------------------+-------------------+\n",
      "|id |name     |department_id|created_at         |updated_at         |\n",
      "+---+---------+-------------+-------------------+-------------------+\n",
      "|1  |Alice    |1            |2023-01-01 00:00:00|2023-01-01 00:00:00|\n",
      "|2  |u-Bob    |2            |2023-01-01 00:00:00|2023-01-01 00:00:00|\n",
      "|3  |u-Charlie|3            |2023-01-01 00:00:00|2023-01-01 00:00:00|\n",
      "|4  |David    |1            |2023-01-01 00:00:00|2023-01-01 00:00:00|\n",
      "|5  |Eve      |2            |2023-01-01 00:00:00|2023-01-01 00:00:00|\n",
      "|6  |Frank    |3            |2023-01-01 00:00:00|2023-01-01 00:00:00|\n",
      "|8  |Heidi    |2            |2023-01-01 00:00:00|2023-01-01 00:00:00|\n",
      "|9  |Ivan     |3            |2023-01-01 00:00:00|2023-01-01 00:00:00|\n",
      "|10 |Judy     |1            |2023-01-01 00:00:00|2023-01-01 00:00:00|\n",
      "|11 |Judy-2   |1            |2023-01-01 00:00:00|2023-01-01 00:00:00|\n",
      "|12 |Judy-3   |1            |2023-01-01 00:00:00|2023-01-01 00:00:00|\n",
      "|13 |Judy-4   |1            |2023-01-01 00:00:00|2023-01-01 00:00:00|\n",
      "+---+---------+-------------+-------------------+-------------------+\n",
      "\n"
     ]
    },
    {
     "name": "stderr",
     "output_type": "stream",
     "text": [
      "25/08/01 14:51:22 WARN MemoryManager: Total allocation exceeds 95,00% (1.020.054.720 bytes) of heap memory\n",
      "Scaling row group sizes to 95,00% for 8 writers\n",
      "                                                                                \r"
     ]
    }
   ],
   "source": [
    "from pyspark.sql import functions as F, types as T\n",
    "\n",
    "schema = T.StructType([\n",
    "    T.StructField(\"id\", T.IntegerType(), False),\n",
    "    T.StructField(\"name\", T.StringType(), False),\n",
    "    T.StructField(\"department_id\", T.IntegerType(), False),\n",
    "    T.StructField(\"created_at\", T.StringType(), False),\n",
    "    T.StructField(\"updated_at\", T.StringType(), False),\n",
    "])\n",
    "\n",
    "data = [\n",
    "    (1, \"Alice\", 1, \"2023-01-01\", \"2023-01-01\"),\n",
    "    (2, \"u-Bob\", 2, \"2023-01-01\", \"2023-01-01\"),\n",
    "    (3, \"u-Charlie\", 3, \"2023-01-01\", \"2023-01-01\"),\n",
    "    (4, \"David\", 1, \"2023-01-01\", \"2023-01-01\"),\n",
    "    (5, \"Eve\", 2, \"2023-01-01\", \"2023-01-01\"),\n",
    "    (6, \"Frank\", 3, \"2023-01-01\", \"2023-01-01\"),\n",
    "    # (7, \"Grace\", 1, \"2023-01-01\", \"2023-01-01\"),\n",
    "    (8, \"Heidi\", 2, \"2023-01-01\", \"2023-01-01\"),\n",
    "    (9, \"Ivan\", 3, \"2023-01-01\", \"2023-01-01\"),\n",
    "    (10, \"Judy\", 1, \"2023-01-01\", \"2023-01-01\")\n",
    "    ,(11, \"Judy-2\", 1, \"2023-01-01\", \"2023-01-01\")\n",
    "    ,(12, \"Judy-3\", 1, \"2023-01-01\", \"2023-01-01\")\n",
    "    ,(13, \"Judy-4\", 1, \"2023-01-01\", \"2023-01-01\")\n",
    "]\n",
    "\n",
    "df_bronze = spark.createDataFrame(data, schema)\n",
    "df_bronze = df_bronze \\\n",
    "    .withColumn(\"created_at\", F.to_timestamp(\"created_at\")) \\\n",
    "    .withColumn(\"updated_at\",F.to_timestamp(\"updated_at\"))\n",
    "\n",
    "df_bronze.show(truncate=False)\n",
    "bronze_path = get_mock_table_path(etl._src_table)\n",
    "df_bronze.write \\\n",
    "    .format(\"parquet\") \\\n",
    "    .mode(\"overwrite\") \\\n",
    "    .save(bronze_path)"
   ]
  },
  {
   "cell_type": "code",
   "execution_count": 16,
   "id": "fd2c6083",
   "metadata": {},
   "outputs": [
    {
     "name": "stdout",
     "output_type": "stream",
     "text": [
      "DROP MATERIALIZED LAKE VIEW IF EXISTS SilverLakehouse.table1_h\n",
      "MLV: CREATE MLV SilverLakehouse.table1_h\n",
      "+------------------------------------+---+---+---------+-------------+-------------------+-------------------+--------------------------+--------------+\n",
      "|PK                                  |NK |id |name     |department_id|created_at         |updated_at         |ROW_LOAD_DTS              |ROW_DELETE_DTS|\n",
      "+------------------------------------+---+---+---------+-------------+-------------------+-------------------+--------------------------+--------------+\n",
      "|48489805-b151-4e0d-aef0-273e7a42d2e7|1  |1  |Alice    |1            |2023-01-01 00:00:00|2023-01-01 00:00:00|2025-08-01 14:51:19.276059|NULL          |\n",
      "|dd189728-04c8-4224-b99c-b4f8d0782eeb|2  |2  |u-Bob    |2            |2023-01-01 00:00:00|2023-01-01 00:00:00|2025-08-01 14:51:19.276059|NULL          |\n",
      "|89837d41-61fe-48f1-a533-85518e4707d0|3  |3  |u-Charlie|3            |2023-01-01 00:00:00|2023-01-01 00:00:00|2025-08-01 14:51:19.276059|NULL          |\n",
      "|68503dae-b716-4088-b28c-976d42b9fe83|4  |4  |David    |1            |2023-01-01 00:00:00|2023-01-01 00:00:00|2025-08-01 14:51:19.276059|NULL          |\n",
      "|4a5c5195-df61-4f01-b4c7-5a6befecd4ec|5  |5  |Eve      |2            |2023-01-01 00:00:00|2023-01-01 00:00:00|2025-08-01 14:51:19.276059|NULL          |\n",
      "|1a370bb8-a681-48c3-9596-fab959b8f95c|6  |6  |Frank    |3            |2023-01-01 00:00:00|2023-01-01 00:00:00|2025-08-01 14:51:19.276059|NULL          |\n",
      "|88458451-e70c-4409-a4e3-6e4c2ae9d7e6|8  |8  |Heidi    |2            |2023-01-01 00:00:00|2023-01-01 00:00:00|2025-08-01 14:51:19.276059|NULL          |\n",
      "|ce310ee3-e6b6-4380-b268-8fb7418e642a|9  |9  |Ivan     |3            |2023-01-01 00:00:00|2023-01-01 00:00:00|2025-08-01 14:51:19.276059|NULL          |\n",
      "|e676d783-8b79-4931-8f9a-80a4316419b8|10 |10 |Judy     |1            |2023-01-01 00:00:00|2023-01-01 00:00:00|2025-08-01 14:51:19.276059|NULL          |\n",
      "|90fb0a8b-41e7-49bb-ac9e-a0d944639ef1|11 |11 |Judy-2   |1            |2023-01-01 00:00:00|2023-01-01 00:00:00|2025-08-01 14:51:19.276059|NULL          |\n",
      "|f63146ae-6681-4824-b267-4f9a9fbee663|12 |12 |Judy-3   |1            |2023-01-01 00:00:00|2023-01-01 00:00:00|2025-08-01 14:51:19.276059|NULL          |\n",
      "|97df8dce-1456-471b-9a11-3aa06a5c22a3|13 |13 |Judy-4   |1            |2023-01-01 00:00:00|2023-01-01 00:00:00|2025-08-01 14:51:19.276059|NULL          |\n",
      "+------------------------------------+---+---+---------+-------------+-------------------+-------------------+--------------------------+--------------+\n",
      "\n"
     ]
    }
   ],
   "source": [
    "new_data = etl.ingest()\n",
    "new_data.orderBy(\"id\").show(truncate=False)"
   ]
  },
  {
   "cell_type": "code",
   "execution_count": null,
   "id": "b6ba540c",
   "metadata": {},
   "outputs": [
    {
     "name": "stdout",
     "output_type": "stream",
     "text": [
      "+------------------------------------+---+---+---------+-------------+-------------------+-------------------+--------------------------+--------------+\n",
      "|PK                                  |NK |id |name     |department_id|created_at         |updated_at         |ROW_LOAD_DTS              |ROW_DELETE_DTS|\n",
      "+------------------------------------+---+---+---------+-------------+-------------------+-------------------+--------------------------+--------------+\n",
      "|d85b9efb-4c1b-47af-9ab6-00a68518278c|1  |1  |Alice    |1            |2023-01-01 00:00:00|2023-01-01 00:00:00|2025-08-01 14:51:19.276059|NULL          |\n",
      "|a6ab88ad-8d0c-490f-9ef5-6c4581543a1d|2  |2  |u-Bob    |2            |2023-01-01 00:00:00|2023-01-01 00:00:00|2025-08-01 14:51:19.276059|NULL          |\n",
      "|2e2885c8-d923-4034-8a1a-5e62fb4a4d5d|3  |3  |u-Charlie|3            |2023-01-01 00:00:00|2023-01-01 00:00:00|2025-08-01 14:51:19.276059|NULL          |\n",
      "|8b5020b8-7226-4673-a167-77b121001f64|4  |4  |David    |1            |2023-01-01 00:00:00|2023-01-01 00:00:00|2025-08-01 14:51:19.276059|NULL          |\n",
      "|27898553-3042-4605-ab19-f59690877958|5  |5  |Eve      |2            |2023-01-01 00:00:00|2023-01-01 00:00:00|2025-08-01 14:51:19.276059|NULL          |\n",
      "|36b5199c-b053-4281-b43f-ea38c2e3ac79|6  |6  |Frank    |3            |2023-01-01 00:00:00|2023-01-01 00:00:00|2025-08-01 14:51:19.276059|NULL          |\n",
      "|4b7a264d-11a0-469c-929f-2c3fd155b0b1|8  |8  |Heidi    |2            |2023-01-01 00:00:00|2023-01-01 00:00:00|2025-08-01 14:51:19.276059|NULL          |\n",
      "|12ea9c11-84dd-452a-bc21-66aa692f704a|9  |9  |Ivan     |3            |2023-01-01 00:00:00|2023-01-01 00:00:00|2025-08-01 14:51:19.276059|NULL          |\n",
      "|776e1ef4-137e-46bc-baaf-25fcb27e1e74|10 |10 |Judy     |1            |2023-01-01 00:00:00|2023-01-01 00:00:00|2025-08-01 14:51:19.276059|NULL          |\n",
      "|458186d7-89af-4243-a0b4-25611f7d4e29|11 |11 |Judy-2   |1            |2023-01-01 00:00:00|2023-01-01 00:00:00|2025-08-01 14:51:19.276059|NULL          |\n",
      "|add75f67-55bf-4ccf-b298-7cd3d52609ed|12 |12 |Judy-3   |1            |2023-01-01 00:00:00|2023-01-01 00:00:00|2025-08-01 14:51:19.276059|NULL          |\n",
      "|f1628125-b6a0-4e03-b9f3-cf1929187d63|13 |13 |Judy-4   |1            |2023-01-01 00:00:00|2023-01-01 00:00:00|2025-08-01 14:51:19.276059|NULL          |\n",
      "+------------------------------------+---+---+---------+-------------+-------------------+-------------------+--------------------------+--------------+\n",
      "\n"
     ]
    },
    {
     "name": "stderr",
     "output_type": "stream",
     "text": [
      "25/08/01 14:51:29 WARN GarbageCollectionMetrics: To enable non-built-in garbage collector(s) List(G1 Concurrent GC), users should configure it(them) to spark.eventLog.gcMetrics.youngGenerationGarbageCollectors or spark.eventLog.gcMetrics.oldGenerationGarbageCollectors\n"
     ]
    }
   ],
   "source": [
    "silver_path = get_mock_table_path(etl._dest_table)\n",
    "df = spark.read.format(\"parquet\").load(silver_path).orderBy(F.col(\"id\").asc(), F.col(\"ROW_LOAD_DTS\").asc())\n",
    "\n",
    "df.show(truncate=False)"
   ]
  }
 ],
 "metadata": {
  "kernelspec": {
   "display_name": "base",
   "language": "python",
   "name": "python3"
  },
  "language_info": {
   "codemirror_mode": {
    "name": "ipython",
    "version": 3
   },
   "file_extension": ".py",
   "mimetype": "text/x-python",
   "name": "python",
   "nbconvert_exporter": "python",
   "pygments_lexer": "ipython3",
   "version": "3.11.4"
  }
 },
 "nbformat": 4,
 "nbformat_minor": 5
}
