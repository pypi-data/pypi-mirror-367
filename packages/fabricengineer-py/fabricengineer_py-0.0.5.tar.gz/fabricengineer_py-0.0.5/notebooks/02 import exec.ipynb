{
 "cells": [
  {
   "cell_type": "code",
   "execution_count": 1,
   "id": "d543d1bd",
   "metadata": {},
   "outputs": [],
   "source": [
    "import sys\n",
    "\n",
    "sys.path.append(\"../src\")\n",
    "\n",
    "from fabricengineer.import_module.import_module import import_module"
   ]
  },
  {
   "cell_type": "code",
   "execution_count": null,
   "id": "a3602f74",
   "metadata": {},
   "outputs": [
    {
     "ename": "ValueError",
     "evalue": "('Module content is malformed: https://raw.githubusercontent.com/enricogoerlitz/fabricengineer-py/refs/tags/0.0.4/src/fabricengineer/transform/lakehouse.py.', 'Content: from dataclasses import dataclass\\n\\n\\n@dataclass\\nclass LakehouseTable:\\n    lakehouse: str\\n    schema: str\\n    table: str\\n\\n    @property\\n    def table_path(self) -> str:\\n        return f\"{self.lakehouse}.{self.schema}.{self.table}\"\\n')",
     "output_type": "error",
     "traceback": [
      "\u001b[0;31m---------------------------------------------------------------------------\u001b[0m",
      "\u001b[0;31mValueError\u001b[0m                                Traceback (most recent call last)",
      "Cell \u001b[0;32mIn[3], line 2\u001b[0m\n\u001b[1;32m      1\u001b[0m VERSION \u001b[38;5;241m=\u001b[39m \u001b[38;5;124m\"\u001b[39m\u001b[38;5;124m0.0.4\u001b[39m\u001b[38;5;124m\"\u001b[39m\n\u001b[0;32m----> 2\u001b[0m code \u001b[38;5;241m=\u001b[39m import_module(\u001b[38;5;124m\"\u001b[39m\u001b[38;5;124mtransform.silver.insertonly\u001b[39m\u001b[38;5;124m\"\u001b[39m, VERSION)\n\u001b[1;32m      3\u001b[0m code\n",
      "File \u001b[0;32m~/Developer/fabricengineer-py/notebooks/../src/fabricengineer/import_module/import_module.py:26\u001b[0m, in \u001b[0;36mimport_module\u001b[0;34m(name, version)\u001b[0m\n\u001b[1;32m     23\u001b[0m \u001b[38;5;28;01mif\u001b[39;00m name \u001b[38;5;129;01mnot\u001b[39;00m \u001b[38;5;129;01min\u001b[39;00m module_map:\n\u001b[1;32m     24\u001b[0m     \u001b[38;5;28;01mraise\u001b[39;00m \u001b[38;5;167;01mValueError\u001b[39;00m(\u001b[38;5;124mf\u001b[39m\u001b[38;5;124m\"\u001b[39m\u001b[38;5;124mUnknown module: \u001b[39m\u001b[38;5;132;01m{\u001b[39;00mname\u001b[38;5;132;01m}\u001b[39;00m\u001b[38;5;124m\"\u001b[39m)\n\u001b[0;32m---> 26\u001b[0m \u001b[38;5;28;01mreturn\u001b[39;00m module_map[name](base_path, version)\n",
      "File \u001b[0;32m~/Developer/fabricengineer-py/notebooks/../src/fabricengineer/import_module/import_module.py:30\u001b[0m, in \u001b[0;36m_import_module_insertonly\u001b[0;34m(base_path, version)\u001b[0m\n\u001b[1;32m     29\u001b[0m \u001b[38;5;28;01mdef\u001b[39;00m \u001b[38;5;21m_import_module_insertonly\u001b[39m(base_path: \u001b[38;5;28mstr\u001b[39m, version: \u001b[38;5;28mstr\u001b[39m) \u001b[38;5;241m-\u001b[39m\u001b[38;5;241m>\u001b[39m \u001b[38;5;28mstr\u001b[39m:\n\u001b[0;32m---> 30\u001b[0m     lakehouse_module \u001b[38;5;241m=\u001b[39m _import_transform_lakehouse_module(base_path)\n\u001b[1;32m     31\u001b[0m     base_module \u001b[38;5;241m=\u001b[39m _import_transform_silver_base_module(base_path)\n\u001b[1;32m     32\u001b[0m     utils_module \u001b[38;5;241m=\u001b[39m _import_transform_silver_utils_module(base_path)\n",
      "File \u001b[0;32m~/Developer/fabricengineer-py/notebooks/../src/fabricengineer/import_module/import_module.py:73\u001b[0m, in \u001b[0;36m_import_transform_lakehouse_module\u001b[0;34m(base_path)\u001b[0m\n\u001b[1;32m     71\u001b[0m \u001b[38;5;28;01mdef\u001b[39;00m \u001b[38;5;21m_import_transform_lakehouse_module\u001b[39m(base_path: \u001b[38;5;28mstr\u001b[39m) \u001b[38;5;241m-\u001b[39m\u001b[38;5;241m>\u001b[39m \u001b[38;5;28mstr\u001b[39m:\n\u001b[1;32m     72\u001b[0m     lakehouse_module \u001b[38;5;241m=\u001b[39m \u001b[38;5;124mf\u001b[39m\u001b[38;5;124m\"\u001b[39m\u001b[38;5;132;01m{\u001b[39;00mbase_path\u001b[38;5;132;01m}\u001b[39;00m\u001b[38;5;124m/transform/lakehouse.py\u001b[39m\u001b[38;5;124m\"\u001b[39m\n\u001b[0;32m---> 73\u001b[0m     \u001b[38;5;28;01mreturn\u001b[39;00m _fetch_module_content(lakehouse_module)\n",
      "File \u001b[0;32m~/Developer/fabricengineer-py/notebooks/../src/fabricengineer/import_module/import_module.py:97\u001b[0m, in \u001b[0;36m_fetch_module_content\u001b[0;34m(module_path)\u001b[0m\n\u001b[1;32m     95\u001b[0m code \u001b[38;5;241m=\u001b[39m resp\u001b[38;5;241m.\u001b[39mtext\u001b[38;5;241m.\u001b[39msplit(_filename(module_path))\n\u001b[1;32m     96\u001b[0m \u001b[38;5;28;01mif\u001b[39;00m \u001b[38;5;129;01mnot\u001b[39;00m code \u001b[38;5;129;01mor\u001b[39;00m \u001b[38;5;28mlen\u001b[39m(code) \u001b[38;5;241m<\u001b[39m \u001b[38;5;241m2\u001b[39m:\n\u001b[0;32m---> 97\u001b[0m     \u001b[38;5;28;01mraise\u001b[39;00m \u001b[38;5;167;01mValueError\u001b[39;00m(\n\u001b[1;32m     98\u001b[0m         (\u001b[38;5;124mf\u001b[39m\u001b[38;5;124m\"\u001b[39m\u001b[38;5;124mModule content is malformed: \u001b[39m\u001b[38;5;132;01m{\u001b[39;00mmodule_path\u001b[38;5;132;01m}\u001b[39;00m\u001b[38;5;124m.\u001b[39m\u001b[38;5;124m\"\u001b[39m),\n\u001b[1;32m     99\u001b[0m         \u001b[38;5;124mf\u001b[39m\u001b[38;5;124m\"\u001b[39m\u001b[38;5;124mContent: \u001b[39m\u001b[38;5;132;01m{\u001b[39;00mresp\u001b[38;5;241m.\u001b[39mtext\u001b[38;5;132;01m}\u001b[39;00m\u001b[38;5;124m\"\u001b[39m\n\u001b[1;32m    100\u001b[0m     )\n\u001b[1;32m    102\u001b[0m code \u001b[38;5;241m=\u001b[39m code[\u001b[38;5;241m1\u001b[39m]\u001b[38;5;241m.\u001b[39mstrip()\n\u001b[1;32m    103\u001b[0m \u001b[38;5;28;01mreturn\u001b[39;00m code\n",
      "\u001b[0;31mValueError\u001b[0m: ('Module content is malformed: https://raw.githubusercontent.com/enricogoerlitz/fabricengineer-py/refs/tags/0.0.4/src/fabricengineer/transform/lakehouse.py.', 'Content: from dataclasses import dataclass\\n\\n\\n@dataclass\\nclass LakehouseTable:\\n    lakehouse: str\\n    schema: str\\n    table: str\\n\\n    @property\\n    def table_path(self) -> str:\\n        return f\"{self.lakehouse}.{self.schema}.{self.table}\"\\n')"
     ]
    }
   ],
   "source": [
    "VERSION = \"0.0.5\"\n",
    "code = import_module(\"transform.silver.insertonly\", VERSION)\n",
    "code"
   ]
  }
 ],
 "metadata": {
  "kernelspec": {
   "display_name": "base",
   "language": "python",
   "name": "python3"
  },
  "language_info": {
   "codemirror_mode": {
    "name": "ipython",
    "version": 3
   },
   "file_extension": ".py",
   "mimetype": "text/x-python",
   "name": "python",
   "nbconvert_exporter": "python",
   "pygments_lexer": "ipython3",
   "version": "3.11.4"
  }
 },
 "nbformat": 4,
 "nbformat_minor": 5
}
