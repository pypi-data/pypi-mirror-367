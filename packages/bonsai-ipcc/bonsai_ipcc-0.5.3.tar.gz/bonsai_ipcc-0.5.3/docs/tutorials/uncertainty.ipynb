{
 "cells": [
  {
   "attachments": {},
   "cell_type": "markdown",
   "metadata": {},
   "source": [
    "# Uncertainty assessment\n",
    "\n",
    "The IPCC guidelines provide information on taking into account uncertainty.\n",
    "The `bonsai_ipcc` package implements those by allowing the user to do analytical error propagation and Monte Carlo simualtion when running a tier sequence. \n",
    "\n",
    "To use one of the approaches, each parameter involved in a sequence requires information about its uncertainty. This information is specifeid by the properties \"def\" , \"min\", \"max\", \"abs_min\" and \"abs_max\" (mean, 2.5 percentile, 97.5 percentile, absolute minimum, absolute maximum) in the parameter table.\n",
    "\n",
    "Let´s use have a look into the waste incineration example."
   ]
  },
  {
   "cell_type": "markdown",
   "metadata": {},
   "source": [
    "## Add data with uncertainty\n",
    "As already done in the previous tutorial for running a sequence, we need to add the data which is not provided by the package. So let´s do this again."
   ]
  },
  {
   "cell_type": "code",
   "execution_count": 1,
   "metadata": {},
   "outputs": [],
   "source": [
    "import bonsai_ipcc\n",
    "import pandas as pd\n",
    "import numpy as np\n",
    "\n",
    "my_ipcc = bonsai_ipcc.IPCC()\n",
    "\n",
    "# urban population\n",
    "d = {\n",
    "    \"year\": [2010,2010,2010,2010,2010],\n",
    "    \"region\": [\"DE\",\"DE\",\"DE\",\"DE\",\"DE\"],\n",
    "    \"property\": [\n",
    "        \"def\",\"min\",\"max\",\"abs_min\",\"abs_max\"\n",
    "    ],\n",
    "    \"value\": [\n",
    "        62940432.0,61996325.52,63884538.48,0.0,np.inf,\n",
    "    ],\n",
    "    \"unit\": [\n",
    "    \"cap/yr\",\"cap/yr\",\"cap/yr\",\"cap/yr\",\"cap/yr\",\n",
    "    ],\n",
    "}\n",
    "urb_pop = pd.DataFrame(d).set_index([\"year\", \"region\", \"property\"])\n",
    "\n",
    "my_ipcc.waste.incineration.parameter.urb_population=urb_pop"
   ]
  },
  {
   "cell_type": "markdown",
   "metadata": {},
   "source": [
    "To take the uncertainty into account, we need to add the values for `def`, `min`, `max`, `abs_min`, and `abs_max`. A description of the `property` dimension can be found here:"
   ]
  },
  {
   "cell_type": "code",
   "execution_count": 2,
   "metadata": {},
   "outputs": [
    {
     "data": {
      "text/html": [
       "<div>\n",
       "<style scoped>\n",
       "    .dataframe tbody tr th:only-of-type {\n",
       "        vertical-align: middle;\n",
       "    }\n",
       "\n",
       "    .dataframe tbody tr th {\n",
       "        vertical-align: top;\n",
       "    }\n",
       "\n",
       "    .dataframe thead th {\n",
       "        text-align: right;\n",
       "    }\n",
       "</style>\n",
       "<table border=\"1\" class=\"dataframe\">\n",
       "  <thead>\n",
       "    <tr style=\"text-align: right;\">\n",
       "      <th></th>\n",
       "      <th>description</th>\n",
       "      <th>remarks</th>\n",
       "    </tr>\n",
       "    <tr>\n",
       "      <th>code</th>\n",
       "      <th></th>\n",
       "      <th></th>\n",
       "    </tr>\n",
       "  </thead>\n",
       "  <tbody>\n",
       "    <tr>\n",
       "      <th>def</th>\n",
       "      <td>default</td>\n",
       "      <td>mean</td>\n",
       "    </tr>\n",
       "    <tr>\n",
       "      <th>min</th>\n",
       "      <td>minimum</td>\n",
       "      <td>2.5th percentile</td>\n",
       "    </tr>\n",
       "    <tr>\n",
       "      <th>max</th>\n",
       "      <td>maximum</td>\n",
       "      <td>97.5th percentile</td>\n",
       "    </tr>\n",
       "    <tr>\n",
       "      <th>abs_max</th>\n",
       "      <td>absolute maximun</td>\n",
       "      <td>theoretical upper bound</td>\n",
       "    </tr>\n",
       "    <tr>\n",
       "      <th>abs_min</th>\n",
       "      <td>absolute minimum</td>\n",
       "      <td>theoretical lower bound</td>\n",
       "    </tr>\n",
       "    <tr>\n",
       "      <th>dummy</th>\n",
       "      <td>place holder for emtpy tables</td>\n",
       "      <td>NaN</td>\n",
       "    </tr>\n",
       "  </tbody>\n",
       "</table>\n",
       "</div>"
      ],
      "text/plain": [
       "                           description                  remarks\n",
       "code                                                           \n",
       "def                            default                     mean\n",
       "min                            minimum         2.5th percentile\n",
       "max                            maximum        97.5th percentile\n",
       "abs_max               absolute maximun  theoretical upper bound\n",
       "abs_min               absolute minimum  theoretical lower bound\n",
       "dummy    place holder for emtpy tables                      NaN"
      ]
     },
     "execution_count": 2,
     "metadata": {},
     "output_type": "execute_result"
    }
   ],
   "source": [
    "my_ipcc.waste.incineration.dimension.property"
   ]
  },
  {
   "attachments": {},
   "cell_type": "markdown",
   "metadata": {},
   "source": [
    "## Monte Carlo simulation\n",
    "\n",
    "To run the sequence as Monte Carlo simulation you can use `monte_carlo` as keyword. Notably, the ipcc package uses a vectorized way of iplmenting Monte Carlo simulation. Thus, all parameters for those uncertainty information is included in the parameter tables and all calculated results are represented as numpy arrays (1000 values).\n",
    "\n",
    "We use the incineration example again, but chose the paper fraction of municipal waste instead of plastics."
   ]
  },
  {
   "cell_type": "code",
   "execution_count": 3,
   "metadata": {},
   "outputs": [
    {
     "name": "stderr",
     "output_type": "stream",
     "text": [
      "2023-12-19 15:35:42,594 - INFO - Incineration sequence started --->\n",
      "2023-12-19 15:35:42,595 - INFO - Uncertainty distribution for parameter 'urb_population':\n",
      "2023-12-19 15:35:42,595 - INFO - lognormal distribution\n",
      "/Users/TN76JP/Documents/coderefinery/ipcc/ipcc/src/ipcc/_sequence.py:87: FutureWarning: Series.__getitem__ treating keys as positions is deprecated. In a future version, integer keys will always be treated as labels (consistent with DataFrame behavior). To access a value by position, use `ser.iloc[pos]`\n",
      "  new_c = conc_df.loc[c][j]\n",
      "2023-12-19 15:35:42,598 - INFO - Uncertainty distribution for parameter 'msw_gen_rate':\n",
      "2023-12-19 15:35:42,598 - INFO - lognormal distribution\n",
      "2023-12-19 15:35:42,598 - INFO - 'Coordinates (2010, 'DE')' has been replaced by '[2006, 'Western Europe']' during reading parameter table 'msw_gen_rate'\n",
      "2023-12-19 15:35:42,599 - INFO - Uncertainty distribution for parameter 'msw_frac_to_incin':\n",
      "2023-12-19 15:35:42,600 - INFO - normal distribution, lower uncertainty\n",
      "2023-12-19 15:35:42,600 - INFO - 'Coordinates (2010, 'DE')' has been replaced by '[2006, 'Western Europe']' during reading parameter table 'msw_frac_to_incin'\n",
      "2023-12-19 15:35:42,602 - INFO - Uncertainty distribution for parameter 'msw_type_frac':\n",
      "2023-12-19 15:35:42,603 - INFO - normal distribution, lower uncertainty\n",
      "2023-12-19 15:35:42,603 - INFO - 'Coordinates (2010, 'DE', 'msw_paper')' has been replaced by '[2006, 'DE', 'msw_paper']' during reading parameter table 'msw_type_frac'\n",
      "2023-12-19 15:35:42,605 - INFO - Uncertainty distribution for parameter 'incintype_frac':\n",
      "/Users/TN76JP/Documents/coderefinery/ipcc/ipcc/src/ipcc/uncertainties.py:295: RuntimeWarning: invalid value encountered in double_scalars\n",
      "  if max(sd / (mean - abs_min), sd / (abs_max - mean)) <= 0.3:\n",
      "2023-12-19 15:35:42,606 - INFO - normal distribution, lower uncertainty\n",
      "2023-12-19 15:35:42,606 - INFO - 'Coordinates (2010, 'DE', 'inc_unspecified')' has been replaced by '[2006, 'World', 'inc_unspecified']' during reading parameter table 'incintype_frac'\n",
      "2023-12-19 15:35:42,609 - INFO - Uncertainty distribution for parameter 'dm':\n",
      "2023-12-19 15:35:42,609 - INFO - truncated normal distribution with adjusting based on Rodriques 2015 (moderate)\n",
      "2023-12-19 15:35:42,611 - INFO - 'Coordinates (2010, 'DE', 'msw_paper')' has been replaced by '[2006, 'World', 'msw_paper']' during reading parameter table 'dm'\n",
      "2023-12-19 15:35:42,612 - INFO - Uncertainty distribution for parameter 'cf':\n",
      "2023-12-19 15:35:42,613 - INFO - normal distribution, lower uncertainty\n",
      "2023-12-19 15:35:42,613 - INFO - 'Coordinates (2010, 'DE', 'msw_paper')' has been replaced by '[2006, 'World', 'msw_paper']' during reading parameter table 'cf'\n",
      "2023-12-19 15:35:42,614 - INFO - Uncertainty distribution for parameter 'fcf':\n",
      "2023-12-19 15:35:42,614 - INFO - truncated normal distribution with adjusting based on Rodriques 2015 (moderate)\n",
      "2023-12-19 15:35:42,615 - INFO - 'Coordinates ('DE', 'msw_paper', 'inc_unspecified')' has been replaced by '['World', 'msw_paper', 'inc_unspecified']' during reading parameter table 'fcf'\n",
      "2023-12-19 15:35:42,616 - INFO - Uncertainty distribution for parameter 'of':\n",
      "2023-12-19 15:35:42,616 - INFO - normal distribution, lower uncertainty\n",
      "2023-12-19 15:35:42,617 - INFO - 'Coordinates ('DE', 'msw_paper', 'inc_unspecified')' has been replaced by '['World', 'msw_paper', 'inc_unspecified']' during reading parameter table 'of'\n",
      "2023-12-19 15:35:42,617 - INFO - ---> Incineration sequence finalized.\n"
     ]
    }
   ],
   "source": [
    "\n",
    "\n",
    "# run the sequence\n",
    "my_tier = my_ipcc.waste.incineration.sequence.tier1_co2(year=2010, region=\"DE\", wastetype= \"msw_paper\", incintype= \"inc_unspecified\", uncertainty=\"monte_carlo\")\n",
    "s = my_tier.to_dict()\n"
   ]
  },
  {
   "cell_type": "code",
   "execution_count": 4,
   "metadata": {},
   "outputs": [
    {
     "data": {
      "text/plain": [
       "numpy.ndarray"
      ]
     },
     "execution_count": 4,
     "metadata": {},
     "output_type": "execute_result"
    }
   ],
   "source": [
    "# check the last step (emissions)\n",
    "type(s[\"co2_emissions\"].value)"
   ]
  },
  {
   "cell_type": "markdown",
   "metadata": {},
   "source": [
    "### Plot the results"
   ]
  },
  {
   "cell_type": "code",
   "execution_count": 5,
   "metadata": {},
   "outputs": [
    {
     "data": {
      "text/plain": [
       "(array([119., 229., 228., 183., 107.,  63.,  41.,  20.,   3.,   7.]),\n",
       " array([1.02748936e-01, 2.78783377e+01, 5.56539265e+01, 8.34295153e+01,\n",
       "        1.11205104e+02, 1.38980693e+02, 1.66756282e+02, 1.94531871e+02,\n",
       "        2.22307459e+02, 2.50083048e+02, 2.77858637e+02]),\n",
       " <BarContainer object of 10 artists>)"
      ]
     },
     "execution_count": 5,
     "metadata": {},
     "output_type": "execute_result"
    },
    {
     "data": {
      "image/png": "[encoded data removed]",
      "text/plain": [
       "<Figure size 432x288 with 1 Axes>"
      ]
     },
     "metadata": {
      "needs_background": "light"
     },
     "output_type": "display_data"
    }
   ],
   "source": [
    "# plot the emissions\n",
    "import matplotlib.pyplot as plt\n",
    "\n",
    "plt.hist(my_tier.co2_emissions.value)"
   ]
  },
  {
   "attachments": {},
   "cell_type": "markdown",
   "metadata": {},
   "source": [
    "## Analytical error propagation\n",
    "\n",
    "Another method that is implemented in the ipcc package is analytical error propgation. The keyword `analytical` can be used in this case. The implementation is done using the `uncertainties` Python package. Thus all results are of type `ufloat`."
   ]
  },
  {
   "cell_type": "code",
   "execution_count": 6,
   "metadata": {},
   "outputs": [
    {
     "name": "stderr",
     "output_type": "stream",
     "text": [
      "2023-12-19 15:35:43,008 - INFO - Incineration sequence started --->\n",
      "/Users/TN76JP/Documents/coderefinery/ipcc/ipcc/src/ipcc/_sequence.py:87: FutureWarning: Series.__getitem__ treating keys as positions is deprecated. In a future version, integer keys will always be treated as labels (consistent with DataFrame behavior). To access a value by position, use `ser.iloc[pos]`\n",
      "  new_c = conc_df.loc[c][j]\n",
      "2023-12-19 15:35:43,010 - INFO - 'Coordinates (2010, 'DE')' has been replaced by '[2006, 'Western Europe']' during reading parameter table 'msw_gen_rate'\n",
      "2023-12-19 15:35:43,011 - INFO - 'Coordinates (2010, 'DE')' has been replaced by '[2006, 'Western Europe']' during reading parameter table 'msw_frac_to_incin'\n",
      "2023-12-19 15:35:43,013 - INFO - 'Coordinates (2010, 'DE', 'msw_paper')' has been replaced by '[2006, 'DE', 'msw_paper']' during reading parameter table 'msw_type_frac'\n",
      "2023-12-19 15:35:43,015 - INFO - 'Coordinates (2010, 'DE', 'inc_unspecified')' has been replaced by '[2006, 'World', 'inc_unspecified']' during reading parameter table 'incintype_frac'\n",
      "2023-12-19 15:35:43,017 - INFO - 'Coordinates (2010, 'DE', 'msw_paper')' has been replaced by '[2006, 'World', 'msw_paper']' during reading parameter table 'dm'\n",
      "2023-12-19 15:35:43,019 - INFO - 'Coordinates (2010, 'DE', 'msw_paper')' has been replaced by '[2006, 'World', 'msw_paper']' during reading parameter table 'cf'\n",
      "2023-12-19 15:35:43,020 - INFO - 'Coordinates ('DE', 'msw_paper', 'inc_unspecified')' has been replaced by '['World', 'msw_paper', 'inc_unspecified']' during reading parameter table 'fcf'\n",
      "2023-12-19 15:35:43,020 - INFO - 'Coordinates ('DE', 'msw_paper', 'inc_unspecified')' has been replaced by '['World', 'msw_paper', 'inc_unspecified']' during reading parameter table 'of'\n",
      "2023-12-19 15:35:43,021 - INFO - ---> Incineration sequence finalized.\n"
     ]
    },
    {
     "data": {
      "text/plain": [
       "Step(position=12, year=2010, unit='Gg/year', value=88.4667825477414+/-52.63985799388056, type='elementary')"
      ]
     },
     "execution_count": 6,
     "metadata": {},
     "output_type": "execute_result"
    }
   ],
   "source": [
    "final_step = my_ipcc.waste.incineration.sequence.tier1_co2(year=2010, region=\"DE\", wastetype= \"msw_paper\", incintype= \"inc_unspecified\", uncertainty=\"analytical\").co2_emissions\n",
    "final_step"
   ]
  },
  {
   "cell_type": "markdown",
   "metadata": {},
   "source": [
    "### Plot the results"
   ]
  },
  {
   "cell_type": "code",
   "execution_count": 7,
   "metadata": {},
   "outputs": [
    {
     "data": {
      "text/plain": [
       "[<matplotlib.lines.Line2D at 0x289602620>]"
      ]
     },
     "execution_count": 7,
     "metadata": {},
     "output_type": "execute_result"
    },
    {
     "data": {
      "image/png": "[encoded data removed]",
      "text/plain": [
       "<Figure size 432x288 with 1 Axes>"
      ]
     },
     "metadata": {
      "needs_background": "light"
     },
     "output_type": "display_data"
    }
   ],
   "source": [
    "import scipy.stats as stats\n",
    "\n",
    "mu = final_step.value.n\n",
    "sigma = final_step.value.std_dev\n",
    "x = np.linspace(mu - 3*sigma, mu + 3*sigma, 100)\n",
    "plt.plot(x, stats.norm.pdf(x, mu, sigma))"
   ]
  },
  {
   "cell_type": "markdown",
   "metadata": {},
   "source": [
    "## What can we learn?\n",
    "\n",
    "In this example, the values can be negative when using analytical error propagation. This is due to the high uncertainties in the data, using the tier 1 approach. However, it does not make sense to have negative CO2 emissions! Thus, Monte Carlo simulation should be used rather than analytical error propagation which is suitable for lower uncertainties."
   ]
  }
 ],
 "metadata": {
  "kernelspec": {
   "display_name": "ipcc",
   "language": "python",
   "name": "python3"
  },
  "language_info": {
   "codemirror_mode": {
    "name": "ipython",
    "version": 3
   },
   "file_extension": ".py",
   "mimetype": "text/x-python",
   "name": "python",
   "nbconvert_exporter": "python",
   "pygments_lexer": "ipython3",
   "version": "3.10.4"
  },
  "orig_nbformat": 4
 },
 "nbformat": 4,
 "nbformat_minor": 2
}
