{
 "cells": [
  {
   "cell_type": "markdown",
   "metadata": {},
   "source": [
    "# Sample data\n",
    "\n",
    "This tutorial shows a way to use samples for a given parameter value. When running Monte Carlo simulation for multiple tier sequences which use the same parameter, this can be helpful to ensure that all sequences allways use the same value of the sample."
   ]
  },
  {
   "cell_type": "code",
   "execution_count": 1,
   "metadata": {},
   "outputs": [],
   "source": [
    "import bonsai_ipcc\n",
    "my_ipcc = bonsai_ipcc.IPCC()"
   ]
  },
  {
   "cell_type": "markdown",
   "metadata": {},
   "source": [
    "## Provide sample data as numpy.array\n",
    "\n",
    "Instead of having float values it is possible to provide the values in a numpy.array. Each array represents potential values of a parameter. Usually the arrays include thousands of values to allow robust Monte Carlo simulation. "
   ]
  },
  {
   "cell_type": "markdown",
   "metadata": {},
   "source": [
    "In this example we only have a sample of 4 values. To make sure that the sequences work, all numpay.array must have the same length. To provide the data as a sample, use the `property` \"sample\" in the dataframe. "
   ]
  },
  {
   "cell_type": "code",
   "execution_count": 2,
   "metadata": {},
   "outputs": [],
   "source": [
    "import pandas as pd\n",
    "import numpy as np\n",
    "\n",
    "d = {\n",
    "    \"year\": [ 2011],\n",
    "    \"region\": [ \"DE\"],\n",
    "    \"property\": [ \"sample\"],\n",
    "    \"value\": [np.array([38000000.0, 36000000.0, 39000000.0, 32000000.0])],\n",
    "    \"unit\": [\"MUSD/yr\",],\n",
    "}    \n",
    "my_ipcc.waste.incineration.parameter.gdp = pd.DataFrame(d).set_index([\"year\", \"region\", \"property\"])\n",
    "\n",
    "d = {\n",
    "    \"year\": [ 2011],\n",
    "    \"region\": [\"DE\"],\n",
    "    \"property\": [\"sample\"],\n",
    "    \"value\": [np.array([0.0012, 0.0018, 0.0018, 0.0012])],\n",
    "    \"unit\": [\"Gg/MUSD\",],\n",
    "}\n",
    "my_ipcc.waste.incineration.parameter.isw_gen_rate = pd.DataFrame(d).set_index([\"year\", \"region\", \"property\"])\n",
    "\n",
    "d = {\n",
    "    \"year\": [2011],\n",
    "    \"region\": [\"DE\"],\n",
    "    \"product\": [\"isw_rubber\"],\n",
    "    \"property\": [\"sample\"],\n",
    "    \"value\": [np.array([0.1,0.07,0.08,0.05])],\n",
    "    \"unit\": [\"t/t\"],\n",
    "}\n",
    "my_ipcc.waste.incineration.parameter.isw_type_frac = pd.DataFrame(d).set_index(\n",
    "    [\"year\", \"region\", \"product\", \"property\"])\n",
    "      \n",
    "d = {\n",
    "    \"year\": [2011],\n",
    "    \"region\": [\"DE\"],\n",
    "    \"property\": [\"sample\"],\n",
    "    \"value\": [np.array([0.37, 0.38, 0.36, 0.35])],\n",
    "    \"unit\": [\"kg/kg\"],\n",
    "}\n",
    "my_ipcc.waste.incineration.parameter.isw_frac_to_incin = pd.DataFrame(d).set_index(\n",
    "    [\"year\", \"region\", \"property\"])\n",
    "    \n",
    "d = {\n",
    "    \"year\": [2011],\n",
    "    \"region\": [\"DE\"],\n",
    "    \"activity\": [\"inc_unspecified\"],\n",
    "    \"property\": [\"sample\"],\n",
    "    \"value\": [np.array([0.9, 0.99, 0.98, 0.97])],\n",
    "    \"unit\": [\"kg/kg\"],\n",
    "}\n",
    "my_ipcc.waste.incineration.parameter.incintype_frac = pd.DataFrame(d).set_index(\n",
    "    [\"year\", \"region\", \"activity\", \"property\"])\n",
    "\n",
    "d = {\n",
    "    \"year\": [2011],\n",
    "    \"region\": [\"DE\"],\n",
    "    \"waste_type\": [\"isw_rubber\"],\n",
    "    \"property\": [\"sample\"],\n",
    "    \"value\": [np.array([0.86, 0.89, 0.86, 0.88])],\n",
    "    \"unit\": [\"kg/kg\"],\n",
    "}\n",
    "my_ipcc.waste.incineration.parameter.dm = pd.DataFrame(d).set_index(\n",
    "    [\"year\", \"region\", \"waste_type\", \"property\"])\n",
    "\n",
    "d = {\n",
    "    \"year\": [2011],\n",
    "    \"region\": [\"DE\"],\n",
    "    \"waste_type\": [\"isw_rubber\"],\n",
    "    \"property\": [\"sample\"],\n",
    "    \"value\": [np.array([0.67, 0.66, 0.64, 0.67])],\n",
    "    \"unit\": [\"kg/kg\"],\n",
    "}\n",
    "my_ipcc.waste.incineration.parameter.cf = pd.DataFrame(d).set_index(\n",
    "    [\"year\", \"region\", \"waste_type\", \"property\"])\n",
    "\n",
    "d = {\n",
    "    \"region\": [\"DE\"],\n",
    "    \"waste_type\": [\"isw_rubber\"],\n",
    "    \"incin_type\": [\"inc_unspecified\"],\n",
    "    \"property\": [\"sample\"],\n",
    "    \"value\": [np.array([0.32, 0.33, 0.34, 0.37])],\n",
    "    \"unit\": [\"kg/kg\"],\n",
    "}\n",
    "my_ipcc.waste.incineration.parameter.fcf = pd.DataFrame(d).set_index(\n",
    "    [\"region\", \"waste_type\", \"incin_type\", \"property\"])\n",
    "\n",
    "d = {\n",
    "    \"region\": [\"EUR\"],\n",
    "    \"waste_type\": [\"isw_rubber\"],\n",
    "    \"incin_type\": [\"inc_unspecified\"],\n",
    "    \"property\": [\"sample\"],\n",
    "    \"value\": [np.array([1.0, 1.0, 0.98, 0.99])],\n",
    "    \"unit\": [\"kg/kg\"],\n",
    "}\n",
    "my_ipcc.waste.incineration.parameter.of = pd.DataFrame(d).set_index(\n",
    "    [\"region\", \"waste_type\", \"incin_type\", \"property\"])\n"
   ]
  },
  {
   "cell_type": "markdown",
   "metadata": {},
   "source": [
    "## Run a sequence\n",
    "\n",
    "To run a sequence with the sampled data option, use `uncertainty=\"sample`."
   ]
  },
  {
   "cell_type": "code",
   "execution_count": 3,
   "metadata": {},
   "outputs": [
    {
     "name": "stderr",
     "output_type": "stream",
     "text": [
      "2024-08-29 16:50:53,960 - INFO - Incineration sequence started --->\n",
      "/Users/TN76JP/Documents/coderefinery/ipcc/ipcc/src/bonsai_ipcc/_sequence.py:117: FutureWarning: Series.__getitem__ treating keys as positions is deprecated. In a future version, integer keys will always be treated as labels (consistent with DataFrame behavior). To access a value by position, use `ser.iloc[pos]`\n",
      "  new_c = conc_df.loc[c][j]\n",
      "2024-08-29 16:50:53,964 - INFO - 'Coordinates ('DE', 'isw_rubber', 'inc_unspecified')' has been replaced by '['EUR', 'isw_rubber', 'inc_unspecified']' during reading parameter table 'of'\n",
      "2024-08-29 16:50:53,965 - INFO - ---> Incineration sequence finalized.\n"
     ]
    }
   ],
   "source": [
    "my_tier = my_ipcc.waste.incineration.sequence.tier1_co2(\n",
    "    year=2011,\n",
    "    region=\"DE\",\n",
    "    product=\"isw_rubber\",\n",
    "    activity=\"inc_unspecified\",\n",
    "    uncertainty=\"sample\",\n",
    ")"
   ]
  },
  {
   "cell_type": "markdown",
   "metadata": {},
   "source": [
    "The result is also stored in a np.array."
   ]
  },
  {
   "cell_type": "code",
   "execution_count": 4,
   "metadata": {},
   "outputs": [
    {
     "data": {
      "text/plain": [
       "array([1026.60585984, 1212.86133017, 1332.326064  ,  516.18672484])"
      ]
     },
     "execution_count": 4,
     "metadata": {},
     "output_type": "execute_result"
    }
   ],
   "source": [
    "my_tier.co2_emissions.value"
   ]
  }
 ],
 "metadata": {
  "language_info": {
   "name": "python"
  }
 },
 "nbformat": 4,
 "nbformat_minor": 2
}
