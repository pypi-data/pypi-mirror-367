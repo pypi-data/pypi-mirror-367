{
 "cells": [
  {
   "cell_type": "markdown",
   "metadata": {},
   "source": [
    "## Collect data and Create sample"
   ]
  },
  {
   "cell_type": "code",
   "execution_count": null,
   "metadata": {},
   "outputs": [],
   "source": [
    "import bonsai_ipcc\n",
    "\n",
    "my_ppf = bonsai_ipcc.PPF()\n",
    "\n",
    "\n",
    "import pandas as pd\n",
    "import numpy as np\n",
    "\n",
    "df_coke = pd.DataFrame(\n",
    "        data={\n",
    "            \"year\": [2016, 2016, 2016, 2016, 2016],\n",
    "            \"region\": [\"CN\", \"CN\", \"CN\", \"CN\", \"CN\"],\n",
    "            \"property\": [\"def\", \"min\", \"max\", \"abs_min\", \"abs_max\"],\n",
    "            \"value\": [449114810.0, 404203329.0, 494026291.0, 0, np.inf],#https://data.un.org/Data.aspx?q=coke&d=ICS&f=cmID%3a33100-0 + 10% uncertainty https://www.ipcc-nggip.iges.or.jp/public/2019rf/pdf/3_Volume3/19R_V3_Ch04_Metal_Industry.pdf\n",
    "            \"unit\": [\"t/yr\", \"t/yr\", \"t/yr\", \"t/yr\", \"t/yr\"],\n",
    "        }\n",
    ").set_index([\"year\", \"region\", \"property\"])\n",
    "\n",
    "my_ppf.ppf_vol.metal.parameter.coke=df_coke\n",
    "\n",
    "df_coke_act = pd.DataFrame(\n",
    "        data={\n",
    "            \"year\": [2016, 2016, 2016, 2016, 2016,2016, 2016, 2016, 2016, 2016],\n",
    "            \"region\": [\"CN\", \"CN\", \"CN\", \"CN\", \"CN\",\"CN\", \"CN\", \"CN\", \"CN\", \"CN\"],\n",
    "            \"activity\": [\"by-product_recovery\",\"by-product_recovery\",\"by-product_recovery\",\"by-product_recovery\",\"by-product_recovery\",\n",
    "                         \"no_by-product_recovery\",\"no_by-product_recovery\",\"no_by-product_recovery\",\"no_by-product_recovery\",\"no_by-product_recovery\"],\n",
    "            \"property\": [\"def\", \"min\", \"max\", \"abs_min\", \"abs_max\",\"def\", \"min\", \"max\", \"abs_min\", \"abs_max\"],\n",
    "            \"value\": [0.1, 0.0, 0.2, 0, 1, 0.9,0.7,1.0,0,1],\n",
    "            \"unit\": [\"t/t\", \"t/t\", \"t/t\", \"t/t\", \"t/t\",\"t/t\", \"t/t\", \"t/t\", \"t/t\", \"t/t\"],\n",
    "        }\n",
    ").set_index([\"year\", \"region\", \"activity\",\"property\"])\n",
    "\n",
    "my_ppf.ppf_vol.metal.parameter.coke_activity_per_reg=df_coke_act\n",
    "\n",
    "#year,region,activity,property,value,unit\n",
    "#2019,World,by-product_recovery,def,0.51,t/t\n",
    "#2019,World,by-product_recovery,min,0.459,t/t\n",
    "#2019,World,by-product_recovery,max,0.561,t/t\n",
    "#2019,World,by-product_recovery,abs_min,0.0,t/t\n",
    "#2019,World,by-product_recovery,abs_max,inf,t/t\n",
    "#2019,World,no_by-product_recovery,def,1.23,t/t\n",
    "#2019,World,no_by-product_recovery,min,1.107,t/t\n",
    "#2019,World,no_by-product_recovery,max,1.353,t/t\n",
    "#2019,World,no_by-product_recovery,abs_min,0.0,t/t\n",
    "#2019,World,no_by-product_recovery,abs_max,inf,t/t\n",
    "\n",
    "\n",
    "\n",
    "emission_transf_coeff_coke = my_ppf.ppf_vol.metal.parameter.emission_transf_coeff_coke\n",
    "feedstock_use_per_coke = my_ppf.ppf_vol.metal.parameter.feedstock_use_per_coke\n",
    "energy_use_per_coke = my_ppf.ppf_vol.metal.parameter.energy_use_per_coke\n",
    "coke_activity_per_reg = my_ppf.ppf_vol.metal.parameter.coke_activity_per_reg\n",
    "product_transf_coeff_coke = my_ppf.ppf_vol.metal.parameter.product_transf_coeff_coke\n",
    "coal_use_per_coke = my_ppf.ppf_vol.metal.parameter.coal_use_per_coke\n",
    "byproduct_supply_per_coke = my_ppf.ppf_vol.metal.parameter.byproduct_supply_per_coke\n",
    "emission_per_coke = my_ppf.ppf_vol.metal.parameter.emission_per_coke\n",
    "carbon_content_per_mass = my_ppf.ppf_vol.metal.parameter.carbon_content_per_mass\n",
    "\n",
    "dict_of_dfs = {\n",
    "    \"emission_transf_coeff_coke\":emission_transf_coeff_coke,\n",
    "    \"feedstock_use_per_coke\": feedstock_use_per_coke,\n",
    "    \"energy_use_per_coke\":energy_use_per_coke,\n",
    "    \"coke_activity_per_reg\":coke_activity_per_reg,\n",
    "    \"product_transf_coeff_coke\":product_transf_coeff_coke,\n",
    "    \"coal_use_per_coke\":coal_use_per_coke,\n",
    "    \"byproduct_supply_per_coke\":byproduct_supply_per_coke,\n",
    "    \"emission_per_coke\":emission_per_coke,\n",
    "    \"coke\":df_coke,\n",
    "    \"carbon_content_per_mass\":carbon_content_per_mass,\n",
    "    \"coke_activity_per_reg\":df_coke_act,\n",
    "}\n",
    "\n",
    "constraints={\"coke_activity_per_reg\":{\"group_by\":[\"year\", \"region\"]}}\n",
    "\n",
    "sampled_dfs=[]\n",
    "for k,v in dict_of_dfs.items():\n",
    "    if k == \"coke_activity_per_reg\":\n",
    "        cons = constraints\n",
    "        r=my_ppf.create_sample(dfs={f\"{k}\":v},constraints=cons)\n",
    "    else:\n",
    "        cons=None\n",
    "        r=my_ppf.create_sample(dfs={f\"{k}\":v},constraints=cons)\n",
    "    sampled_dfs.append(r)\n",
    "\n",
    "for s in sampled_dfs:\n",
    "    for k,v in s.items():\n",
    "        setattr(my_ppf.ppf_vol.metal.parameter,k,v)\n",
    "\n",
    "\n"
   ]
  },
  {
   "cell_type": "markdown",
   "metadata": {},
   "source": [
    "## Run sequence and calculate Use, Emission and Supply tables "
   ]
  },
  {
   "cell_type": "code",
   "execution_count": null,
   "metadata": {},
   "outputs": [],
   "source": [
    "s_byprod_sample = my_ppf.ppf_vol.metal.sequence.coke_tier1(year=2016,region=\"CN\",activity=\"by-product_recovery\",uncertainty=\"sample\")\n",
    "s_no_byprod_sample = my_ppf.ppf_vol.metal.sequence.coke_tier1(year=2016,region=\"CN\",activity=\"no_by-product_recovery\",uncertainty=\"sample\")"
   ]
  },
  {
   "cell_type": "code",
   "execution_count": null,
   "metadata": {},
   "outputs": [],
   "source": [
    "dfs=s_byprod_sample.to_frames(bonsai=\"sample\")"
   ]
  },
  {
   "cell_type": "code",
   "execution_count": null,
   "metadata": {},
   "outputs": [],
   "source": [
    "dfs_byprod_samples=s_byprod_sample.to_frames(bonsai=\"samples\")\n",
    "dfs_no_byprod_samples=s_no_byprod_sample.to_frames(bonsai=\"samples\")\n",
    "\n",
    "dfs_byprod_unc=s_byprod_sample.to_frames(bonsai=True)\n",
    "dfs_no_byprod_unc=s_no_byprod_sample.to_frames(bonsai=True)"
   ]
  },
  {
   "cell_type": "code",
   "execution_count": null,
   "metadata": {},
   "outputs": [],
   "source": [
    "use=pd.concat([dfs_byprod_samples[\"bonsai\"][\"use\"],dfs_no_byprod_samples[\"bonsai\"][\"use\"]]).reset_index(drop=True)\n",
    "use"
   ]
  },
  {
   "cell_type": "code",
   "execution_count": null,
   "metadata": {},
   "outputs": [],
   "source": [
    "supply=pd.concat([dfs_byprod_samples[\"bonsai\"][\"supply\"],dfs_no_byprod_samples[\"bonsai\"][\"supply\"]]).reset_index(drop=True)\n",
    "\n",
    "supply[\"product\"] = supply[\"product\"].replace(\"coke_from_by-product_recovery\", \"coke\")\n",
    "supply[\"product\"] = supply[\"product\"].replace(\"coke_from_no_by-product_recovery\", \"coke\")\n",
    "supply"
   ]
  },
  {
   "cell_type": "code",
   "execution_count": null,
   "metadata": {},
   "outputs": [],
   "source": [
    "emission=pd.concat([dfs_byprod_samples[\"bonsai\"][\"emission\"],dfs_no_byprod_samples[\"bonsai\"][\"emission\"]]).reset_index(drop=True)\n",
    "emission"
   ]
  },
  {
   "cell_type": "code",
   "execution_count": 8,
   "metadata": {},
   "outputs": [],
   "source": [
    "transf_coeff=pd.concat([sampled_dfs[4][\"product_transf_coeff_coke\"], sampled_dfs[0][\"emission_transf_coeff_coke\"]])\n",
    "transf_coeff=transf_coeff.loc[:,:,:,:,:,\"sample\"]"
   ]
  },
  {
   "cell_type": "code",
   "execution_count": 9,
   "metadata": {},
   "outputs": [],
   "source": [
    "# specify products those include Carbon\n",
    "list_of_values=[\"coke\", \"tar\", \"coke_oven_gas\", \"sulphur\", \"benzene\"]\n"
   ]
  },
  {
   "cell_type": "code",
   "execution_count": null,
   "metadata": {},
   "outputs": [],
   "source": [
    "df=emission[[\"activity\",\"emission_substance\",\"samples\",\"unit\"]]\n",
    "df=df.rename(columns={\"emission_substance\":\"product\"})\n",
    "df"
   ]
  },
  {
   "cell_type": "code",
   "execution_count": null,
   "metadata": {},
   "outputs": [],
   "source": [
    "df_s=supply[supply['product'].isin(list_of_values)]\n",
    "df_s=df_s[[\"activity\",\"product\",\"samples\",\"unit\"]]\n",
    "df_s"
   ]
  },
  {
   "cell_type": "code",
   "execution_count": null,
   "metadata": {},
   "outputs": [],
   "source": [
    "df_u=use[use[\"product\"]==\"coking_coal\"]\n",
    "df_u=df_u[[\"activity\",\"product\",\"samples\",\"unit\"]]\n",
    "df_u"
   ]
  },
  {
   "cell_type": "code",
   "execution_count": 13,
   "metadata": {},
   "outputs": [],
   "source": [
    "df_s[\"flow_type\"]=\"output\"\n",
    "df_u[\"flow_type\"]=\"input\"\n",
    "df[\"flow_type\"]=\"output\""
   ]
  },
  {
   "cell_type": "code",
   "execution_count": null,
   "metadata": {},
   "outputs": [],
   "source": [
    "df_total=pd.concat([df,df_s,df_u])\n",
    "df_total"
   ]
  },
  {
   "cell_type": "code",
   "execution_count": 15,
   "metadata": {},
   "outputs": [],
   "source": [
    "df_total_adj=df_total.copy()"
   ]
  },
  {
   "cell_type": "markdown",
   "metadata": {},
   "source": [
    "## Reconcile data to fulfill carbon balance"
   ]
  },
  {
   "cell_type": "code",
   "execution_count": null,
   "metadata": {},
   "outputs": [],
   "source": [
    "carbon_df=sampled_dfs[9][\"carbon_content_per_mass\"].reset_index()\n",
    "\n",
    "\n",
    "carbon_df[\"coefficient\"]=carbon_df[\"value\"].apply(lambda x: x.mean() if isinstance(x, np.ndarray) else x)\n",
    "\n",
    "\n",
    "carbon_df[\"std_dev\"]=carbon_df[\"value\"].apply(lambda x: x.std() if isinstance(x, np.ndarray) else 0.0)#0001)\n",
    "carbon_df"
   ]
  },
  {
   "cell_type": "code",
   "execution_count": null,
   "metadata": {},
   "outputs": [],
   "source": [
    "import numpy as np\n",
    "\n",
    "carbon_df = sampled_dfs[9][\"carbon_content_per_mass\"].reset_index()\n",
    "\n",
    "carbon_df[\"coefficient\"] = carbon_df[\"value\"].apply(lambda x: x.mean() if isinstance(x, np.ndarray) else x)\n",
    "carbon_df[\"std_dev\"] = carbon_df[\"value\"].apply(lambda x: x.std() if isinstance(x, np.ndarray) else 0.001)\n",
    "\n",
    "# Remove rows where \"value\" is exactly 0.0 or an array of only zeros\n",
    "carbon_df = carbon_df.loc[~carbon_df[\"value\"].apply(lambda x: np.all(x == 0.0) if isinstance(x, (np.ndarray, list)) else x == 0.0)]\n",
    "\n",
    "# Drop columns where all values are exactly 0.0\n",
    "carbon_df = carbon_df.drop(columns=[\n",
    "    col for col in carbon_df.columns \n",
    "    if carbon_df[col].apply(lambda x: np.all(x == 0.0) if isinstance(x, (np.ndarray, list)) else x == 0.0).all()\n",
    "])\n",
    "\n",
    "carbon_df\n",
    "\n",
    "\n"
   ]
  },
  {
   "cell_type": "code",
   "execution_count": 18,
   "metadata": {},
   "outputs": [],
   "source": [
    "conversion_df=transf_coeff.reset_index()[[\"activity\",\"product\",\"reference_output\",\"value\"]]\n",
    "conversion_df=conversion_df.rename(columns={\"value\":\"value\", \"product\": \"input_product\",\"reference_output\":\"output_product\"})\n",
    "conversion_df[\"coefficient\"]=conversion_df[\"value\"].apply(lambda x: x.mean())\n",
    "conversion_df[\"std_dev\"]=conversion_df[\"value\"].apply(lambda x: x.std())"
   ]
  },
  {
   "cell_type": "code",
   "execution_count": 19,
   "metadata": {},
   "outputs": [],
   "source": [
    "\n",
    "df_total_adj=df_total.loc[df_total[\"product\"] !=\"sulphur\"]"
   ]
  },
  {
   "cell_type": "code",
   "execution_count": 20,
   "metadata": {},
   "outputs": [],
   "source": [
    "import numpy as np\n",
    "import pandas as pd\n",
    "from scipy.optimize import minimize\n",
    "\n",
    "def rescale_least_square(activity, df_total_adj, conversion_df=None, carbon_df=None):\n",
    "    # Filter data for the specified activity\n",
    "    df = df_total_adj[df_total_adj[\"activity\"] == activity].copy()\n",
    "\n",
    "    # Extract means and standard deviations of samples for each product\n",
    "    df['mean'] = df['samples'].apply(np.mean)\n",
    "    df['std_dev'] = df['samples'].apply(np.std)\n",
    "\n",
    "    # Identify unique products and map them to indices\n",
    "    unique_products = df['product'].unique()\n",
    "    product_to_index = {product: i for i, product in enumerate(unique_products)}\n",
    "\n",
    "    # Extract conversion coefficients if provided\n",
    "    if conversion_df is not None:\n",
    "        conversion_df = conversion_df[conversion_df[\"activity\"] == activity].copy()\n",
    "        coefficients = conversion_df['coefficient'].values\n",
    "        coefficient_std = conversion_df['std_dev'].values\n",
    "    else:\n",
    "        coefficients = np.array([])  # Empty array to avoid indexing issues\n",
    "        coefficient_std = np.array([])\n",
    "\n",
    "    # Extract carbon content if provided\n",
    "    if carbon_df is not None:\n",
    "        carbon_df = carbon_df[carbon_df[\"product\"].isin(unique_products)].copy()\n",
    "        carbon_content_dict = dict(zip(carbon_df['product'], carbon_df['coefficient']))\n",
    "        carbon_std_dict = dict(zip(carbon_df['product'], carbon_df['std_dev']))\n",
    "    else:\n",
    "        carbon_content_dict = {}\n",
    "        carbon_std_dict = {}\n",
    "\n",
    "    # Function to build conversion constraints\n",
    "    def build_conversion_constraints():\n",
    "        if conversion_df is None:\n",
    "            return []\n",
    "\n",
    "        constraints = []\n",
    "        for coeff_index, row in enumerate(conversion_df.itertuples(index=False)):\n",
    "            input_index = product_to_index[row.input_product]\n",
    "            output_index = product_to_index[row.output_product]\n",
    "\n",
    "            def constraint(x, input_index=input_index, output_index=output_index, coeff_index=coeff_index):\n",
    "                product_values = x[:len(unique_products)]\n",
    "                dynamic_coeff = x[len(unique_products) + coeff_index]  # Optimized coefficient\n",
    "                return product_values[input_index] * dynamic_coeff - product_values[output_index]\n",
    "\n",
    "            constraints.append({'type': 'eq', 'fun': constraint})\n",
    "\n",
    "        return constraints\n",
    "\n",
    "    # Carbon balance constraint\n",
    "    def carbon_balance_constraint(x):\n",
    "        if carbon_df is None:\n",
    "            return 0  # No constraint applied\n",
    "\n",
    "        num_products = len(unique_products)\n",
    "        num_coefficients = len(coefficients)\n",
    "\n",
    "        product_values = x[:num_products]  # Optimized product values\n",
    "        carbon_values = x[num_products + num_coefficients:]  # Optimized carbon content\n",
    "\n",
    "        total_carbon_in = sum(\n",
    "            product_values[i] * carbon_values[i]\n",
    "            for i, product in enumerate(unique_products)\n",
    "            if product in df_total_adj[df_total_adj[\"flow_type\"] == \"input\"][\"product\"].values\n",
    "        )\n",
    "\n",
    "        total_carbon_out = sum(\n",
    "            product_values[i] * carbon_values[i]\n",
    "            for i, product in enumerate(unique_products)\n",
    "            if product in df_total_adj[df_total_adj[\"flow_type\"] == \"output\"][\"product\"].values\n",
    "        )\n",
    "\n",
    "        return total_carbon_in - total_carbon_out\n",
    "\n",
    "    # Objective function: minimize residuals and penalties\n",
    "    def objective(x):\n",
    "        num_products = len(unique_products)\n",
    "        product_values = x[:num_products]\n",
    "        dynamic_coefficients = x[num_products:num_products + len(coefficients)] if conversion_df is not None else []\n",
    "        carbon_values = x[num_products + len(coefficients):] if carbon_df is not None else []\n",
    "\n",
    "        # Residuals for product values\n",
    "        residuals = sum(\n",
    "            ((row['mean'] - product_values[product_to_index[row['product']]]) / row['std_dev']) ** 2\n",
    "            for _, row in df.iterrows()\n",
    "        )\n",
    "\n",
    "        # Penalty for coefficient deviations\n",
    "        coefficient_penalty = (\n",
    "            np.sum(((dynamic_coefficients - coefficients) / coefficient_std) ** 2) \n",
    "            if conversion_df is not None and len(coefficients) > 0 else 0\n",
    "        )\n",
    "\n",
    "        # Penalty for carbon content deviations\n",
    "        carbon_penalty = 0\n",
    "        if carbon_df is not None:\n",
    "            for i, product in enumerate(unique_products):\n",
    "                observed_carbon = carbon_content_dict.get(product, 0)\n",
    "                std_dev = carbon_std_dict.get(product, 0.1)  # Avoid division by zero\n",
    "                carbon_penalty += ((carbon_values[i] - observed_carbon) / std_dev) ** 2\n",
    "\n",
    "        return residuals + coefficient_penalty + carbon_penalty\n",
    "\n",
    "    # Setup optimization variables\n",
    "    num_products = len(unique_products)\n",
    "    num_coefficients = len(coefficients)\n",
    "    num_carbon_values = num_products if carbon_df is not None else 0\n",
    "\n",
    "    # Set up constraints\n",
    "    constraints = []\n",
    "    if conversion_df is not None:\n",
    "        constraints.extend(build_conversion_constraints())\n",
    "\n",
    "    if carbon_df is not None:\n",
    "        constraints.append({'type': 'eq', 'fun': carbon_balance_constraint})\n",
    "\n",
    "    # Initial guess: product means, nominal coefficients, and carbon content\n",
    "    initial_guess = np.concatenate([\n",
    "        df.groupby('product')['mean'].mean().reindex(unique_products).fillna(1).values,  # Product values\n",
    "        coefficients if conversion_df is not None else np.array([]),  # Conversion coefficients\n",
    "        np.array([carbon_content_dict.get(p, 1) for p in unique_products]) if carbon_df is not None else np.array([])  # Carbon content\n",
    "    ])\n",
    "\n",
    "    # Solve the optimization problem\n",
    "    result = minimize(\n",
    "        fun=objective,\n",
    "        x0=initial_guess,\n",
    "        constraints=constraints,\n",
    "        tol=1e-6,\n",
    "        method='SLSQP',\n",
    "        options={'disp': True, 'maxiter': 1000}\n",
    "    )\n",
    "\n",
    "    # Process results\n",
    "    if result.success:\n",
    "        print(\"Optimization successful!\")\n",
    "        optimized_values = result.x[:num_products]\n",
    "        optimized_coefficients = result.x[num_products:num_products + num_coefficients] if conversion_df is not None else []\n",
    "        optimized_carbon_values = result.x[num_products + num_coefficients:] if carbon_df is not None else []\n",
    "\n",
    "        # Prepare results\n",
    "        product_data = [{\"product\": product, \"value\": value} for product, value in zip(unique_products, optimized_values)]\n",
    "        result_df_products = pd.DataFrame(product_data)\n",
    "\n",
    "        result_df_coefficients = None\n",
    "        if conversion_df is not None:\n",
    "            coefficient_data = [\n",
    "                {\"input_product\": row['input_product'], \"output_product\": row['output_product'], \"optimized_coefficient\": coeff}\n",
    "                for row, coeff in zip(conversion_df.to_dict(orient='records'), optimized_coefficients)\n",
    "            ]\n",
    "            result_df_coefficients = pd.DataFrame(coefficient_data)\n",
    "\n",
    "        result_df_carbon = None\n",
    "        if carbon_df is not None:\n",
    "            carbon_data = [{\"product\": product, \"optimized_carbon_content\": value} for product, value in zip(unique_products, optimized_carbon_values)]\n",
    "            result_df_carbon = pd.DataFrame(carbon_data)\n",
    "\n",
    "        return result_df_products, result_df_coefficients, result_df_carbon\n",
    "    else:\n",
    "        print(\"Optimization failed!\")\n",
    "        print(result.message)\n",
    "        return None, None, None\n"
   ]
  },
  {
   "cell_type": "code",
   "execution_count": null,
   "metadata": {},
   "outputs": [],
   "source": [
    "result_df, result_coeff, result_carbon = rescale_least_square(\"by-product_recovery\", df_total_adj, conversion_df=None, carbon_df=carbon_df)#carbon_df)"
   ]
  },
  {
   "cell_type": "code",
   "execution_count": null,
   "metadata": {},
   "outputs": [],
   "source": [
    "result_df_2, result_coeff_2,result_carbon_2= rescale_least_square(\"no_by-product_recovery\", df_total_adj, conversion_df=None, carbon_df=carbon_df)#carbon_df)\n"
   ]
  },
  {
   "cell_type": "markdown",
   "metadata": {},
   "source": [
    "## Plot results"
   ]
  },
  {
   "cell_type": "code",
   "execution_count": 23,
   "metadata": {},
   "outputs": [],
   "source": [
    "# add activity\n",
    "result_df[\"activity\"]=\"by-product_recovery\"\n"
   ]
  },
  {
   "cell_type": "code",
   "execution_count": 24,
   "metadata": {},
   "outputs": [],
   "source": [
    "# add activity\n",
    "result_df_2[\"activity\"]=\"no_by-product_recovery\"\n"
   ]
  },
  {
   "cell_type": "code",
   "execution_count": null,
   "metadata": {},
   "outputs": [],
   "source": [
    "\n",
    "reconciled_df = pd.concat([result_df,result_df_2])\n",
    "reconciled_df"
   ]
  },
  {
   "cell_type": "markdown",
   "metadata": {},
   "source": [
    "### Plot Use"
   ]
  },
  {
   "cell_type": "code",
   "execution_count": null,
   "metadata": {},
   "outputs": [],
   "source": [
    "import pandas as pd\n",
    "import matplotlib.pyplot as plt\n",
    "import seaborn as sns\n",
    "import numpy as np\n",
    "import math\n",
    "# Unique products and activities\n",
    "products = use[\"product\"].unique()\n",
    "activities = use[\"activity\"].unique()\n",
    "\n",
    "# Create subplots\n",
    "n_products = len(products)\n",
    "fig, axes = plt.subplots(nrows=(n_products + 1) // 2, ncols=2, figsize=(12, 10), constrained_layout=True)\n",
    "axes = axes.flatten()  # Flatten for easier indexing\n",
    "\n",
    "# Store legend elements\n",
    "handles_labels = {}\n",
    "\n",
    "# Iterate over products and plot\n",
    "for idx, product in enumerate(products):\n",
    "    ax = axes[idx]\n",
    "    product_data = use[use[\"product\"] == product]\n",
    "    \n",
    "    for activity in activities:\n",
    "        activity_data = product_data[product_data[\"activity\"] == activity]\n",
    "        samples = activity_data[\"samples\"].sum()\n",
    "        mean_value = activity_data[\"samples\"].apply(lambda x: sum(x) / len(x)).mean()\n",
    "        \n",
    "        hist = ax.hist(samples, label=f\"{activity}\", alpha=0.7, bins=100)\n",
    "        color = 'red' if activity == \"no_by-product_recovery\" else 'blue'\n",
    "        linestyle = '--'\n",
    "        \n",
    "        mean_line = ax.axvline(mean_value, color=color, linestyle=linestyle, linewidth=1.5, label=\"mean\")\n",
    "        recon_line = None\n",
    "        if product == \"coking_coal\":\n",
    "            try:\n",
    "                reconciled_value = reconciled_df[(reconciled_df[\"activity\"] == activity) & (reconciled_df[\"product\"] == product)][\"value\"].iloc[0]\n",
    "                recon_line = ax.axvline(reconciled_value, color=color, linestyle='-', linewidth=1.5, label=\"recon\")\n",
    "            except:\n",
    "                pass\n",
    "        \n",
    "        handles_labels[activity] = (hist[2][0], f\"{activity}\")\n",
    "        handles_labels[f\"{activity}_mean\"] = (mean_line, \"mean\")\n",
    "        if recon_line:\n",
    "            handles_labels[f\"{activity}_recon\"] = (recon_line, \"recon\")\n",
    "    \n",
    "    unit = use.loc[idx][\"unit\"]\n",
    "    ax.set_title(f\"Use: {product}\")\n",
    "    ax.set_xlabel(f\"{unit}\")\n",
    "    ax.set_ylabel(\"Frequency\")\n",
    "\n",
    "# Remove unused subplots\n",
    "for i in range(len(products), len(axes)):\n",
    "    fig.delaxes(axes[i])\n",
    "\n",
    "# Create a single legend in one row\n",
    "handles, labels = zip(*handles_labels.values())\n",
    "fig.legend(handles, labels, loc=\"upper center\", bbox_to_anchor=(0.5, -0.05), ncol=len(labels))\n",
    "\n",
    "plt.show()"
   ]
  },
  {
   "cell_type": "markdown",
   "metadata": {},
   "source": [
    "### Plot Supply and Emission"
   ]
  },
  {
   "cell_type": "code",
   "execution_count": null,
   "metadata": {},
   "outputs": [],
   "source": [
    "# Unique products and activities\n",
    "products = supply[\"product\"].unique()\n",
    "activities = supply[\"activity\"].unique()\n",
    "products_e = emission[\"emission_substance\"].unique()\n",
    "\n",
    "# Create subplots\n",
    "n_products = len(products) + len(products_e)\n",
    "fig, axes = plt.subplots(nrows=(n_products + 1) // 2, ncols=2, figsize=(12, 10), constrained_layout=True)\n",
    "axes = axes.flatten()  # Flatten for easier indexing\n",
    "\n",
    "# Store legend elements\n",
    "handles_labels = {}\n",
    "\n",
    "# Iterate over products and plot\n",
    "for idx, product in enumerate(products):\n",
    "    ax = axes[idx]\n",
    "    product_data = supply[supply[\"product\"] == product]\n",
    "    \n",
    "    for activity in activities:\n",
    "        activity_data = product_data[product_data[\"activity\"] == activity]\n",
    "        samples = activity_data[\"samples\"]\n",
    "        mean_value = activity_data[\"samples\"].apply(lambda x: sum(x) / len(x)).mean()\n",
    "        \n",
    "        hist = ax.hist(samples, label=f\"{activity}\", alpha=0.7, bins=100)\n",
    "        color = 'red' if activity == \"no_by-product_recovery\" else 'blue'\n",
    "        linestyle = '--'\n",
    "        \n",
    "        mean_line = ax.axvline(mean_value, color=color, linestyle=linestyle, linewidth=1.5, label=\"mean\")\n",
    "        try:\n",
    "            reconciled_value = reconciled_df[(reconciled_df[\"activity\"] == activity) & (reconciled_df[\"product\"] == product)][\"value\"].iloc[0]\n",
    "            recon_line = ax.axvline(reconciled_value, color=color, linestyle='-', linewidth=1.5, label=\"recon\")\n",
    "        except:\n",
    "            recon_line = None\n",
    "        \n",
    "        handles_labels[activity] = (hist[2][0], f\"{activity}\")\n",
    "        handles_labels[f\"{activity}_mean\"] = (mean_line, \"mean\")\n",
    "        if recon_line:\n",
    "            handles_labels[f\"{activity}_recon\"] = (recon_line, \"reconciled\")\n",
    "    \n",
    "    unit = supply.loc[idx][\"unit\"]\n",
    "    ax.set_title(f\"Supply: {product}\")\n",
    "    ax.set_xlabel(f\"{unit}\")\n",
    "    ax.set_ylabel(\"Frequency\")\n",
    "\n",
    "# Iterate over emission products and plot\n",
    "for idx, product in enumerate(products_e):\n",
    "    ax = axes[idx + len(products)]\n",
    "    product_data = emission[emission[\"emission_substance\"] == product]\n",
    "    \n",
    "    for activity in activities:\n",
    "        activity_data = product_data[product_data[\"activity\"] == activity]\n",
    "        samples = activity_data[\"samples\"]\n",
    "        mean_value = activity_data[\"samples\"].apply(lambda x: sum(x) / len(x)).mean()\n",
    "        \n",
    "        hist = ax.hist(samples, label=f\"{activity}\", alpha=0.7, bins=100)\n",
    "        color = 'red' if activity == \"no_by-product_recovery\" else 'blue'\n",
    "        linestyle = '--'\n",
    "        \n",
    "        mean_line = ax.axvline(mean_value, color=color, linestyle=linestyle, linewidth=1.5, label=\"mean\")\n",
    "        try:\n",
    "            reconciled_value = reconciled_df[(reconciled_df[\"activity\"] == activity) & (reconciled_df[\"product\"] == product)][\"value\"].iloc[0]\n",
    "            recon_line = ax.axvline(reconciled_value, color=color, linestyle='-', linewidth=1.5, label=\"reconciled\")\n",
    "        except:\n",
    "            recon_line = None\n",
    "        \n",
    "        handles_labels[activity] = (hist[2][0], f\"{activity}\")\n",
    "        handles_labels[f\"{activity}_mean\"] = (mean_line, \"mean\")\n",
    "        if recon_line:\n",
    "            handles_labels[f\"{activity}_recon\"] = (recon_line, \"reconciled\")\n",
    "    \n",
    "    unit = emission.loc[idx][\"unit\"]\n",
    "    ax.set_title(f\"Emission: {product}\")\n",
    "    ax.set_xlabel(f\"{unit}\")\n",
    "    ax.set_ylabel(\"Frequency\")\n",
    "\n",
    "# Remove unused subplots\n",
    "for i in range(n_products, len(axes)):\n",
    "    fig.delaxes(axes[i])\n",
    "\n",
    "# Create a single legend\n",
    "handles, labels = zip(*handles_labels.values())\n",
    "fig.legend(handles, labels, loc=\"upper center\", bbox_to_anchor=(0.5, -0.05), ncol=len(labels))\n",
    "\n",
    "plt.show()\n"
   ]
  },
  {
   "cell_type": "code",
   "execution_count": 28,
   "metadata": {},
   "outputs": [],
   "source": [
    "result_carbon_2[\"activity\"]=\"no_by-product_recovery\"\n",
    "result_carbon[\"activity\"]=\"by-product_recovery\""
   ]
  },
  {
   "cell_type": "code",
   "execution_count": null,
   "metadata": {},
   "outputs": [],
   "source": [
    "carb_df=pd.concat([result_carbon,result_carbon_2])\n",
    "carb_df"
   ]
  },
  {
   "cell_type": "code",
   "execution_count": 30,
   "metadata": {},
   "outputs": [],
   "source": [
    "result_carbon_2[\"activity\"]=\"no_by-product_recovery\"\n",
    "result_carbon[\"activity\"]=\"by-product_recovery\""
   ]
  },
  {
   "cell_type": "code",
   "execution_count": null,
   "metadata": {},
   "outputs": [],
   "source": [
    "carb_df=pd.concat([result_carbon,result_carbon_2])\n",
    "carb_df"
   ]
  },
  {
   "cell_type": "code",
   "execution_count": null,
   "metadata": {},
   "outputs": [],
   "source": [
    "carbon_df[(carbon_df[\"product\"] == \"coke\")]"
   ]
  },
  {
   "cell_type": "markdown",
   "metadata": {},
   "source": [
    "### Plot carbon content factors"
   ]
  },
  {
   "cell_type": "code",
   "execution_count": null,
   "metadata": {},
   "outputs": [],
   "source": [
    "import pandas as pd\n",
    "import matplotlib.pyplot as plt\n",
    "import seaborn as sns\n",
    "import numpy as np\n",
    "import math\n",
    "\n",
    "\n",
    "B=carb_df.copy()\n",
    "A=carbon_df.copy()\n",
    "\n",
    "# Get unique products\n",
    "products = B[\"product\"].unique()\n",
    "n_products = len(products)\n",
    "\n",
    "# Set up subplots in 2 columns\n",
    "ncols = 3\n",
    "nrows = math.ceil(n_products / ncols)  # Calculate number of rows needed\n",
    "fig, axes = plt.subplots(nrows=nrows, ncols=ncols, figsize=(12, 2 * nrows), sharey=True)\n",
    "\n",
    "# Flatten axes array for easy iteration\n",
    "axes = axes.flatten()\n",
    "\n",
    "# Iterate over products and axes\n",
    "for i, (product, ax) in enumerate(zip(products, axes)):\n",
    "    # Filter data for the product\n",
    "    old_mean = A[(A[\"product\"] == product) & (A[\"property\"] == \"sample\")][\"coefficient\"].values[0]\n",
    "    old_std_dev = A[(A[\"product\"] == product) & (A[\"property\"] == \"sample\")][\"std_dev\"].values[0]\n",
    "\n",
    "    ax.axvline(old_mean, color=\"black\", linestyle=\"solid\", linewidth=2, label=\"old_mean\")\n",
    "    \n",
    "    perc_2_5= old_mean-1.96*old_std_dev\n",
    "    per_97_5= old_mean+1.96*old_std_dev\n",
    "\n",
    "    ax.axvline(perc_2_5, color=\"black\", linestyle=\"dashed\", linewidth=2, label=\"per_2_5\")\n",
    "    ax.axvline(per_97_5, color=\"black\", linestyle=\"dashed\", linewidth=2, label=\"per_97_5\")\n",
    "\n",
    "\n",
    "    recon_low = B[(B[\"product\"] == product) & (B[\"activity\"] == \"by-product_recovery\")][\"optimized_carbon_content\"].values[0]\n",
    "    recon_high = B[(B[\"product\"] == product) & (B[\"activity\"] == \"no_by-product_recovery\")][\"optimized_carbon_content\"].values[0]\n",
    "\n",
    "    ax.axvline(recon_low, color=\"red\", linestyle=\"solid\", linewidth=2, label=\"by-product_recovery\")\n",
    "    ax.axvline(recon_high, color=\"green\", linestyle=\"solid\", linewidth=2, label=\"no_by-product_recovery\")\n",
    "\n",
    "\n",
    "    ax.set_title(f\"Product: {product}\")\n",
    "    ax.set_xlabel(\"Value\")\n",
    "    ax.set_yticks([])\n",
    "\n",
    "# Hide unused subplots\n",
    "for j in range(i + 1, len(axes)):\n",
    "    axes[j].set_visible(False)\n",
    "\n",
    "plt.tight_layout()\n",
    "plt.show()"
   ]
  },
  {
   "cell_type": "markdown",
   "metadata": {},
   "source": [
    "## Check carbon balances"
   ]
  },
  {
   "cell_type": "code",
   "execution_count": null,
   "metadata": {},
   "outputs": [],
   "source": [
    "df_merged=carb_df.merge(reconciled_df)\n",
    "df_merged"
   ]
  },
  {
   "cell_type": "code",
   "execution_count": null,
   "metadata": {},
   "outputs": [],
   "source": [
    "df_merged[\"t C\"]=df_merged[\"value\"]*df_merged[\"optimized_carbon_content\"]\n",
    "df_merged"
   ]
  },
  {
   "cell_type": "code",
   "execution_count": null,
   "metadata": {},
   "outputs": [],
   "source": [
    "# c input (by-product_recovery)\n",
    "df_merged[(df_merged[\"activity\"]==\"by-product_recovery\") & (df_merged[\"product\"]==\"coking_coal\")][\"t C\"][6]"
   ]
  },
  {
   "cell_type": "code",
   "execution_count": null,
   "metadata": {},
   "outputs": [],
   "source": [
    "# c outout (by-product_recovery)\n",
    "df_merged[(df_merged[\"activity\"]==\"by-product_recovery\") & (df_merged[\"product\"]!=\"coking_coal\")][\"t C\"].sum()"
   ]
  },
  {
   "cell_type": "code",
   "execution_count": null,
   "metadata": {},
   "outputs": [],
   "source": [
    "# c input (no_by-product_recovery)\n",
    "df_merged[(df_merged[\"activity\"]==\"no_by-product_recovery\") & (df_merged[\"product\"]==\"coking_coal\")][\"t C\"][13]"
   ]
  },
  {
   "cell_type": "code",
   "execution_count": null,
   "metadata": {},
   "outputs": [],
   "source": [
    "# c outout (no_by-product_recovery)\n",
    "df_merged[(df_merged[\"activity\"]==\"no_by-product_recovery\") & (df_merged[\"product\"]!=\"coking_coal\")][\"t C\"].sum()"
   ]
  },
  {
   "cell_type": "code",
   "execution_count": null,
   "metadata": {},
   "outputs": [],
   "source": [
    "emission_per_coke"
   ]
  }
 ],
 "metadata": {
  "kernelspec": {
   "display_name": "ipcc",
   "language": "python",
   "name": "python3"
  },
  "language_info": {
   "codemirror_mode": {
    "name": "ipython",
    "version": 3
   },
   "file_extension": ".py",
   "mimetype": "text/x-python",
   "name": "python",
   "nbconvert_exporter": "python",
   "pygments_lexer": "ipython3",
   "version": "3.10.4"
  }
 },
 "nbformat": 4,
 "nbformat_minor": 2
}
