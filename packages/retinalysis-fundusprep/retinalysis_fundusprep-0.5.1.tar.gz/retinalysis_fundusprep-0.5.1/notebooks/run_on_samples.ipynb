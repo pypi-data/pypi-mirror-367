{
 "cells": [
  {
   "cell_type": "code",
   "execution_count": null,
   "metadata": {},
   "outputs": [],
   "source": [
    "from pathlib import Path\n",
    "\n",
    "from rtnls_fundusprep.mask_extraction import get_cfi_bounds\n",
    "from rtnls_fundusprep.utils import open_image\n",
    "from rtnls_enface.utils.plotting import plot_columns\n",
    "from rtnls_enface.utils.plotting import square_and_resize, to_longer_side\n",
    "\n",
    "\n",
    "from matplotlib import pyplot as plt"
   ]
  },
  {
   "cell_type": "code",
   "execution_count": null,
   "metadata": {},
   "outputs": [],
   "source": [
    "filepaths = list(Path('../samples').glob('*'))\n",
    "filepaths = [\n",
    "    '/mnt/oogergo/ergo/OCT_ERGO/OCT_prd/b62656b8-288f-4320-a13b-0363b607067c/45548.png',\n",
    "    '/mnt/oogergo/ergo/CF_ERGO/DATA_IBASE/ca46e62c-0e28-4706-9ffd-1df039dab820/4568V16B67JPGBXK.png',\n",
    "    '/home/jose/vessels/rtnls_fundusprep/samples/sample1.png',\n",
    "    '/home/jose/vessels/rtnls_fundusprep/samples/DRIVE_40.png',\n",
    "    '/mnt/oogergo/ergo/CF_ERGO/DATA/14cc92b1-e4ad-4df8-82fe-34de522743c2/00002164-EFN-OS-20030722-002-001.png',\n",
    "    '/mnt/oogergo/eyened/uitwissel/radboud_mahfam2023/extracted/056426/2011-08-24/CFP/R/1.2.276.0.43.100.18.201908141430052589151.1.2.1.dcm'\n",
    "]"
   ]
  },
  {
   "cell_type": "code",
   "execution_count": null,
   "metadata": {},
   "outputs": [],
   "source": [
    "filepaths"
   ]
  },
  {
   "cell_type": "code",
   "execution_count": null,
   "metadata": {},
   "outputs": [],
   "source": [
    "\n",
    "\n",
    "def plot_column(axs, col, fig):\n",
    "\n",
    "    if col == 0:\n",
    "        axs[0].set_ylabel('Original Image')\n",
    "        axs[1].set_ylabel('Bounds')\n",
    "        axs[2].set_ylabel('Contrast-Enhanced')\n",
    "\n",
    "    im_rgb = open_image(filepaths[col])\n",
    "    im_rgb = to_longer_side(im_rgb, 512)\n",
    "    im_padded = square_and_resize(im_rgb, 512)\n",
    "    axs[0].imshow(im_padded)\n",
    "\n",
    "    \n",
    "    bounds = get_cfi_bounds(im_rgb)\n",
    "    im_bounds = bounds.make_bounds_image()\n",
    "    axs[1].imshow(square_and_resize(im_bounds, 512))\n",
    "\n",
    "    \n",
    "    # im_ce = bounds.contrast_enhanced_5\n",
    "    M, bounds = bounds.crop(512)\n",
    "    im_ce = bounds.contrast_enhanced_5\n",
    "    axs[2].imshow(square_and_resize(im_ce, 512))\n",
    "    # mirrored = bounds.background_mirroring(im_rgb)\n",
    "    # mask = bounds.make_binary_mask()\n",
    "    # sigma = 0.05 * bounds.radius\n",
    "    # ce = contrast_enhance(mirrored, mask, sigma)"
   ]
  },
  {
   "cell_type": "code",
   "execution_count": null,
   "metadata": {},
   "outputs": [],
   "source": [
    "fig, axs = plot_columns(plot_column, 3, 6)"
   ]
  },
  {
   "cell_type": "code",
   "execution_count": null,
   "metadata": {},
   "outputs": [],
   "source": [
    "fig.savefig('preprocessing.png',dpi=300,bbox_inches='tight')"
   ]
  },
  {
   "cell_type": "code",
   "execution_count": null,
   "metadata": {},
   "outputs": [],
   "source": []
  }
 ],
 "metadata": {
  "kernelspec": {
   "display_name": "retinalysis",
   "language": "python",
   "name": "python3"
  },
  "language_info": {
   "codemirror_mode": {
    "name": "ipython",
    "version": 3
   },
   "file_extension": ".py",
   "mimetype": "text/x-python",
   "name": "python",
   "nbconvert_exporter": "python",
   "pygments_lexer": "ipython3",
   "version": "3.10.13"
  }
 },
 "nbformat": 4,
 "nbformat_minor": 2
}
