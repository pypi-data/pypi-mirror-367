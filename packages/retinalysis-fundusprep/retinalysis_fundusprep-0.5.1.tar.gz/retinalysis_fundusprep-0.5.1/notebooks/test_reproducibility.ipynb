{
 "cells": [
  {
   "cell_type": "code",
   "execution_count": null,
   "metadata": {},
   "outputs": [],
   "source": [
    "from rtnls_fundusprep.mask_extraction import get_cfi_bounds\n",
    "from rtnls_fundusprep.utils import open_image\n",
    "\n",
    "from matplotlib import pyplot as plt"
   ]
  },
  {
   "cell_type": "code",
   "execution_count": null,
   "metadata": {},
   "outputs": [],
   "source": [
    "# example with bounds only circle\n",
    "filename = '/mnt/ssd1/jose/sinergia/datasets/disc_july/PALM/images/PALM_TR_P0185.png'\n",
    "img = open_image(filename)\n",
    "bounds = get_cfi_bounds(img)\n",
    "\n",
    "bounds.plot()\n",
    "display(bounds)\n",
    "print(bounds.to_dict())"
   ]
  },
  {
   "cell_type": "code",
   "execution_count": null,
   "metadata": {},
   "outputs": [],
   "source": [
    "solutions = set()\n",
    "radii = set()\n",
    "for i in range(1000):\n",
    "    bounds = get_cfi_bounds(img)\n",
    "    solutions.add((bounds.cx, bounds.cy))\n",
    "    radii.add(bounds.radius)"
   ]
  },
  {
   "cell_type": "code",
   "execution_count": null,
   "metadata": {},
   "outputs": [],
   "source": [
    "solutions, radii"
   ]
  },
  {
   "cell_type": "code",
   "execution_count": null,
   "metadata": {},
   "outputs": [],
   "source": []
  }
 ],
 "metadata": {
  "kernelspec": {
   "display_name": "retinalysis",
   "language": "python",
   "name": "python3"
  },
  "language_info": {
   "codemirror_mode": {
    "name": "ipython",
    "version": 3
   },
   "file_extension": ".py",
   "mimetype": "text/x-python",
   "name": "python",
   "nbconvert_exporter": "python",
   "pygments_lexer": "ipython3",
   "version": "3.10.13"
  }
 },
 "nbformat": 4,
 "nbformat_minor": 2
}
