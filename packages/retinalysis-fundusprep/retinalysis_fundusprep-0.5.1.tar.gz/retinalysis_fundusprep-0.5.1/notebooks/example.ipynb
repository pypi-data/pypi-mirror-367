{
 "cells": [
  {
   "cell_type": "code",
   "execution_count": null,
   "metadata": {},
   "outputs": [],
   "source": [
    "from rtnls_fundusprep.mask_extraction import get_cfi_bounds\n",
    "from rtnls_fundusprep.utils import open_image\n",
    "\n",
    "from matplotlib import pyplot as plt"
   ]
  },
  {
   "cell_type": "code",
   "execution_count": null,
   "metadata": {},
   "outputs": [],
   "source": [
    "# example with bounds only circle\n",
    "filename = '/mnt/ssd1/jose/sinergia/datasets/disc_july/PALM/images/PALM_TR_P0185.png'\n",
    "img = open_image(filename)\n",
    "bounds = get_cfi_bounds(img)\n",
    "\n",
    "bounds.plot()\n",
    "display(bounds)\n",
    "print(bounds.to_dict())"
   ]
  },
  {
   "cell_type": "code",
   "execution_count": null,
   "metadata": {},
   "outputs": [],
   "source": [
    "# example with bounds only circle\n",
    "filename = '/mnt/ssd1/jose/sinergia/datasets/disc_july/PALM/images/PALM_TR_P0185.png'\n",
    "img = open_image(filename)\n",
    "bounds = get_cfi_bounds(img)\n",
    "\n",
    "bounds.plot()\n",
    "display(bounds)\n",
    "print(bounds.to_dict())"
   ]
  },
  {
   "cell_type": "code",
   "execution_count": null,
   "metadata": {},
   "outputs": [],
   "source": [
    "# use crop function to fit the bounds to a rectangle\n",
    "T, bounds_cropped = bounds.crop(64)\n",
    "bounds_cropped.plot()\n",
    "\n",
    "# transform object can also be used to apply inverse transform\n",
    "image_restored = T.warp_inverse(bounds_cropped.image)\n",
    "plt.imshow(image_restored)"
   ]
  },
  {
   "cell_type": "code",
   "execution_count": null,
   "metadata": {},
   "outputs": [],
   "source": [
    "# dark image with top and bottom cropped\n",
    "filename = '/mnt/oogergo/ergo/CF_ERGO/DATA_IBASE/ca46e62c-0e28-4706-9ffd-1df039dab820/4568V16B67JPGBXK.png'\n",
    "\n",
    "img = open_image(filename)\n",
    "bounds = get_cfi_bounds(img)\n",
    "\n",
    "bounds.plot()\n",
    "display(bounds)\n",
    "print(bounds.to_dict())"
   ]
  },
  {
   "cell_type": "code",
   "execution_count": null,
   "metadata": {},
   "outputs": [],
   "source": [
    "# image left and right also cropped\n",
    "filename = '/mnt/oogergo/ergo/CF_ERGO/DATA/e5e6b58f-1e3d-4843-be85-0fcff9cbcc51/00704002-FUN-OS-20030515-001-001.png'\n",
    "\n",
    "img = open_image(filename)\n",
    "bounds = get_cfi_bounds(img)\n",
    "\n",
    "bounds.plot()\n",
    "display(bounds)\n",
    "print(bounds.to_dict())"
   ]
  },
  {
   "cell_type": "code",
   "execution_count": null,
   "metadata": {},
   "outputs": [],
   "source": [
    "# issue when additional artefacts are present\n",
    "filename = '/mnt/oogergo/ergo/CF_ERGO/DATA/af210591-682d-4c75-a2d0-73c12e9bfc44/00001823-FUN-OD-20040218-001-001.png'\n",
    "\n",
    "img = open_image(filename)\n",
    "bounds = get_cfi_bounds(img)\n",
    "\n",
    "bounds.plot()\n",
    "display(bounds)\n",
    "print(bounds.to_dict())"
   ]
  },
  {
   "cell_type": "code",
   "execution_count": null,
   "metadata": {},
   "outputs": [],
   "source": [
    "# image right cropped (and spurious detection of left line)\n",
    "filename = '/mnt/oogergo/ergo/CF_ERGO/DATA/14cc92b1-e4ad-4df8-82fe-34de522743c2/00002164-EFN-OS-20030722-002-001.png'\n",
    "\n",
    "img = open_image(filename)\n",
    "bounds = get_cfi_bounds(img)\n",
    "\n",
    "bounds.plot()\n",
    "display(bounds)\n",
    "print(bounds.to_dict())"
   ]
  },
  {
   "cell_type": "code",
   "execution_count": null,
   "metadata": {},
   "outputs": [],
   "source": [
    "# bottom cropped diagonally\n",
    "filename = '/mnt/oogergo/eyened/uitwissel/radboud_mahfam2023/extracted/056426/2011-08-24/CFP/R/1.2.276.0.43.100.18.201908141430052589151.1.2.1.dcm'\n",
    "\n",
    "img = open_image(filename)\n",
    "bounds = get_cfi_bounds(img)\n",
    "\n",
    "bounds.plot()\n",
    "display(bounds)\n",
    "print(bounds.to_dict())"
   ]
  },
  {
   "cell_type": "code",
   "execution_count": null,
   "metadata": {},
   "outputs": [],
   "source": [
    "# processed images available as cached properties\n",
    "# sharpened and contrast enhanced are created using a smaller (256x256) blurred image\n",
    "images = [\n",
    "    bounds.mask, # crops at min and max x and y (not diagonal lines)\n",
    "    bounds.mirrored_image, # mirrored image at full resolution\n",
    "    bounds.sharpened_5, # sigma 5% of radius\n",
    "    bounds.contrast_enhanced_2, # sigma 2% of radius\n",
    "    bounds.contrast_enhanced_5, # sigma 5% of radius\n",
    "    bounds.contrast_enhanced_10, # sigma 10% of radius\n",
    "]\n",
    "fig, axes = plt.subplots(1, 6, figsize=(20, 4))\n",
    "for ax, image in zip(axes, images):\n",
    "    ax.imshow(image)\n",
    "plt.show()"
   ]
  }
 ],
 "metadata": {
  "kernelspec": {
   "display_name": "retinalysis",
   "language": "python",
   "name": "python3"
  },
  "language_info": {
   "codemirror_mode": {
    "name": "ipython",
    "version": 3
   },
   "file_extension": ".py",
   "mimetype": "text/x-python",
   "name": "python",
   "nbconvert_exporter": "python",
   "pygments_lexer": "ipython3",
   "version": "3.10.13"
  }
 },
 "nbformat": 4,
 "nbformat_minor": 2
}
