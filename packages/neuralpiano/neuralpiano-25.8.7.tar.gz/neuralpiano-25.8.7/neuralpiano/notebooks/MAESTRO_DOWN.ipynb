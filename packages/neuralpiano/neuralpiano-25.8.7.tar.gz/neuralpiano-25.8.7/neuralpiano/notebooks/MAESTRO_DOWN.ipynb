{
 "cells": [
  {
   "cell_type": "code",
   "execution_count": null,
   "id": "4a60f8f9-4413-49a0-b5f5-70fb7765d600",
   "metadata": {},
   "outputs": [],
   "source": [
    "!mkdir MAESTRO"
   ]
  },
  {
   "cell_type": "code",
   "execution_count": null,
   "id": "32dab513-902e-49cc-a0b6-37bd9a2fbec2",
   "metadata": {},
   "outputs": [],
   "source": [
    "%cd MAESTRO\n",
    "!wget https://storage.googleapis.com/magentadata/datasets/maestro/v3.0.0/maestro-v3.0.0.zip\n",
    "!unzip maestro-v3.0.0.zip > /dev/null\n",
    "%cd ~"
   ]
  },
  {
   "cell_type": "code",
   "execution_count": null,
   "id": "df24d008-4315-47fd-a30e-db423a670881",
   "metadata": {},
   "outputs": [],
   "source": [
    "%cd MAESTRO\n",
    "\n",
    "!wget https://storage.googleapis.com/magentadata/datasets/maestro/v3.0.0/maestro-v3.0.0-midi.zip\n",
    "!unzip -o maestro-v3.0.0-midi.zip > /dev/null\n",
    "\n",
    "%cd ~"
   ]
  }
 ],
 "metadata": {
  "kernelspec": {
   "display_name": "Python 3 (ipykernel)",
   "language": "python",
   "name": "python3"
  },
  "language_info": {
   "codemirror_mode": {
    "name": "ipython",
    "version": 3
   },
   "file_extension": ".py",
   "mimetype": "text/x-python",
   "name": "python",
   "nbconvert_exporter": "python",
   "pygments_lexer": "ipython3",
   "version": "3.10.12"
  }
 },
 "nbformat": 4,
 "nbformat_minor": 5
}
