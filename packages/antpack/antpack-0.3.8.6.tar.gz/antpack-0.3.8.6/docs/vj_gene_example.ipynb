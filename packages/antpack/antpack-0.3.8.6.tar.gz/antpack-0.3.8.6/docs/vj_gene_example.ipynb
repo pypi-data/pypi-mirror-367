{
 "cells": [
  {
   "cell_type": "markdown",
   "id": "cf7d87cf-6ec3-43fd-87b4-2be8191fb40b",
   "metadata": {},
   "source": [
    "### VJ Gene Assignment\n",
    "In this example, we'll see how to find the closest V and J genes in AntPack's database\n",
    "for an input sequence, get the sequences of those VJ genes, and see the date when AntPack's database\n",
    "was last updated."
   ]
  },
  {
   "cell_type": "markdown",
   "id": "bdfde409-2574-4886-b479-f3dfb2347594",
   "metadata": {},
   "source": [
    "It's important that the VJ tool and the SingleChainAnnotator both use the same scheme.\n",
    "Using different schemes for each could result in bad assignments. If you're interested in\n",
    "looking at TCRs, you don't have to pass anything different to this class -- it can\n",
    "automatically look at TCRs as well."
   ]
  },
  {
   "cell_type": "code",
   "execution_count": 1,
   "id": "c7ac6899-f482-4041-a5f5-83faa2f95a36",
   "metadata": {},
   "outputs": [],
   "source": [
    "from antpack import VJGeneTool, SingleChainAnnotator\n",
    "\n",
    "vj_tool = VJGeneTool(scheme=\"imgt\")\n",
    "sc_aligner = SingleChainAnnotator(scheme=\"imgt\")"
   ]
  },
  {
   "cell_type": "code",
   "execution_count": 2,
   "id": "f793ac5b-24d0-4de4-ab22-746db7425568",
   "metadata": {},
   "outputs": [],
   "source": [
    "test_sequence = \"VQLVQSGAEVKKPGSSVKVSCKASGGTFSSYAISWVRQAPGQGLEWMGGIIPIFQKFQGRVTITADESTSTAYMELSSLRSEDTAVYYCARYDGIYGELDFWGQGTLVTVSS\""
   ]
  },
  {
   "cell_type": "markdown",
   "id": "6e28b268-0390-4542-8fda-708cfed07aee",
   "metadata": {},
   "source": [
    "We must first number the sequence first using ``SingleChainAnnotator``, and then pass that numbering to ``vj_tool.assign_vj_genes()``.\n",
    "Note that if we enter a sequence with invalid amino acids (e.g. -), or we supply an invalid species (not one of 'human', 'mouse', 'alpaca'),\n",
    "or we supply other invalid input, the tool will return \"\" for both V and J genes.\n",
    "\n",
    "``assign_vj_genes`` takes four arguments. The third indicates the species whose vj genes we would like to use. You can pass ``\"unknown\"`` if you want it to check all available species. Note that this *is* slower unsurprisingly, so if you're working with a large dataset and speed is your goal, you're better off passing a specific species if you already know which species to look for. The fourth indicates\n",
    "whether we would like to use percent identity or e-value to determine which V- or J-genes are most similar. Calculating the e-value\n",
    "is done using a scoring matrix (in this case, BLOSUM62), and for simplicity, the v_identity and j_identity that are returned\n",
    "when using e-value are the BLOSUM scores (which can easily be converted to e-values). We'll use identity here for simplicity."
   ]
  },
  {
   "cell_type": "code",
   "execution_count": 3,
   "id": "c60d2459-3262-4695-8f72-e5980601d3cd",
   "metadata": {},
   "outputs": [],
   "source": [
    "annotation = sc_aligner.analyze_seq(test_sequence)\n",
    "v_gene, j_gene, v_percent_identity, j_percent_identity, species = vj_tool.assign_vj_genes(annotation, test_sequence,\n",
    "                                                                                 \"human\", \"identity\")"
   ]
  },
  {
   "cell_type": "code",
   "execution_count": 4,
   "id": "b83d1d28-4c95-4146-ac9d-c9eaadee47d1",
   "metadata": {},
   "outputs": [
    {
     "name": "stdout",
     "output_type": "stream",
     "text": [
      "IGHV1-69*01_IGHV1-69*12_IGHV1-69*13_IGHV1-69*19_IGHV1-69D*01\n",
      "IGHJ4*01_IGHJ4*02_IGHJ4*03_IGHJ5*01_IGHJ5*02\n",
      "0.8877551020408163\n",
      "0.8571428571428571\n",
      "human\n"
     ]
    }
   ],
   "source": [
    "print(v_gene)\n",
    "print(j_gene)\n",
    "print(v_percent_identity)\n",
    "print(j_percent_identity)\n",
    "print(species)"
   ]
  },
  {
   "cell_type": "markdown",
   "id": "25d14d6f-d799-4a4f-9564-b86128e27ecd",
   "metadata": {},
   "source": [
    "Notice that AntPack here returned multiple v-genes, all separated by a \"_\" delimiter. That's because these v-genes all\n",
    "had the same percent identity, so there is no reason to assume one is \"more correct\" than the other. It's less likely\n",
    "to have a tie like this when using e-value (but still possible)."
   ]
  },
  {
   "cell_type": "markdown",
   "id": "f35b5948-7e56-41d0-9e81-f319784ff022",
   "metadata": {},
   "source": [
    "If we need to, we can see what the sequence of these genes are. AntPack stores those sequences in its internal\n",
    "db pre-aligned using the IMGT numbering scheme, so each sequence will be length 128 with gaps inserted as appropriate.\n",
    "We can use SingleChainAnnotator to number the sequence, then we can do some simple manipulation to\n",
    "convert the numbered sequence to the same format so we can see how well it lines up. The IMGT scheme contains\n",
    "128 positions (any letters above and beyond this are designated with a letter), so when annotating\n",
    "our input sequence to get it to match up to the V-gene, we just extract numbered positions where the\n",
    "number is in 1 through 128 as illustrated below."
   ]
  },
  {
   "cell_type": "code",
   "execution_count": 5,
   "id": "48e793b5-2a50-4088-af8f-f74d3ad0db7d",
   "metadata": {},
   "outputs": [
    {
     "name": "stdout",
     "output_type": "stream",
     "text": [
      "QVQLVQSGA-EVKKPGSSVKVSCKASGGTF----SSYAISWVRQAPGQGLEWMGGIIPI--FGTANYAQKFQ-GRVTITADESTSTAYMELSSLRSEDTAVYYCAR----------------------\n",
      "------------------------------------------------------------------------------------------------------------------FDYWGQGTLVTVSS\n",
      "-VQLVQSGA-EVKKPGSSVKVSCKASGGTF----SSYAISWVRQAPGQGLEWMGGI--------IPIFQKFQ-GRVTITADESTSTAYMELSSLRSEDTAVYYCARYDGI-YGELDFWGQGTLVTVS-\n"
     ]
    }
   ],
   "source": [
    "# Get the V and J gene sequences\n",
    "vgene_seq = vj_tool.get_vj_gene_sequence(\"IGHV1-69*01\", \"human\")\n",
    "jgene_seq = vj_tool.get_vj_gene_sequence(\"IGHJ4*01\", \"human\")\n",
    "\n",
    "# Now let's prep our input sequence so it can be directly compared to the V and J gene.\n",
    "\n",
    "ntool = SingleChainAnnotator()\n",
    "numbering, _, _, _ = ntool.analyze_seq(test_sequence)\n",
    "\n",
    "formatted_seq = [\"-\" for i in range(128)]\n",
    "expected_positions = {str(i) for i in range(128)}\n",
    "\n",
    "for ntoken, letter in zip(numbering, test_sequence):\n",
    "    if ntoken in expected_positions:\n",
    "        # We have to subtract 1 here because Python numbers from 0, IMGT numbers from 1.\n",
    "        formatted_seq[int(ntoken) - 1] = letter\n",
    "\n",
    "print(vgene_seq)\n",
    "print(jgene_seq)\n",
    "print(\"\".join(formatted_seq))"
   ]
  },
  {
   "cell_type": "markdown",
   "id": "82696c1b-8cff-433e-a8e4-e8926b2cbe99",
   "metadata": {},
   "source": [
    "If for some reason it is desired, we can pull AntPack's full IMGT database to do some additional manipulations\n",
    "as illustrated below. This will be a tuple where the second element is lists of gene names by receptor type and the\n",
    "first element is lists of gene sequences by receptor type."
   ]
  },
  {
   "cell_type": "code",
   "execution_count": 6,
   "id": "4916eac3-389d-45ab-9f31-5fd263d4c28c",
   "metadata": {},
   "outputs": [
    {
     "name": "stdout",
     "output_type": "stream",
     "text": [
      "['------------------------------------------------------------------------------------------------------------------FQHWGQGTLVTVSS', '------------------------------------------------------------------------------------------------------------------FDLWGRGTLVTVSS', '------------------------------------------------------------------------------------------------------------------FDVWGQGTMVTVSS', '------------------------------------------------------------------------------------------------------------------FDIWGQGTMVTVSS', '------------------------------------------------------------------------------------------------------------------FDYWGQGTLVTVSS', '------------------------------------------------------------------------------------------------------------------FDYWGQGTLVTVSS', '------------------------------------------------------------------------------------------------------------------FDYWGQGTLVTVSS', '------------------------------------------------------------------------------------------------------------------FDSWGQGTLVTVSS', '------------------------------------------------------------------------------------------------------------------FDPWGQGTLVTVSS', '------------------------------------------------------------------------------------------------------------------MDVWGQGTTVTVSS', '------------------------------------------------------------------------------------------------------------------MDVWGQGTTVTVSS', '------------------------------------------------------------------------------------------------------------------MDVWGKGTTVTVSS', '------------------------------------------------------------------------------------------------------------------MDVWGKGTTVTVSS', '------------------------------------------------------------------------------------------------------------------MDVWGKGTTVTVAS']\n",
      "['IGHJ1*01', 'IGHJ2*01', 'IGHJ3*01', 'IGHJ3*02', 'IGHJ4*01', 'IGHJ4*02', 'IGHJ4*03', 'IGHJ5*01', 'IGHJ5*02', 'IGHJ6*01', 'IGHJ6*02', 'IGHJ6*03', 'IGHJ6*04', 'IGHJ6*05']\n"
     ]
    }
   ],
   "source": [
    "full_db = vj_tool.get_seq_lists()\n",
    "print(full_db[0][\"human_IGHJ\"])\n",
    "print(full_db[1][\"human_IGHJ\"])"
   ]
  },
  {
   "cell_type": "markdown",
   "id": "ff2fe822-1a14-4c14-b575-8ed319a66915",
   "metadata": {},
   "source": [
    "Finally, let's see when AntPack's VJ database was last updated. Note that AntPack's VJ database is pulled from\n",
    "IMGT's but with some exclusions -- we exclude for example genes where the functionality is not \"F\" or the\n",
    "gene is partial. This also indicates which species and receptors are currently supported."
   ]
  },
  {
   "cell_type": "code",
   "execution_count": 7,
   "id": "85c15d67-4452-4d96-bba5-e2c63241adb3",
   "metadata": {},
   "outputs": [
    {
     "data": {
      "text/plain": [
       "{'mouse': {'IGHJ': '2025-03-14',\n",
       "  'TRGJ': '2025-03-14',\n",
       "  'IGKV': '2025-03-14',\n",
       "  'TRBJ': '2025-03-14',\n",
       "  'IGKJ': '2025-03-14',\n",
       "  'TRDV': '2025-03-14',\n",
       "  'TRAJ': '2025-03-14',\n",
       "  'TRDJ': '2025-03-14',\n",
       "  'IGHV': '2025-03-14',\n",
       "  'TRAV': '2025-03-14',\n",
       "  'IGLJ': '2025-03-14',\n",
       "  'TRBV': '2025-03-14',\n",
       "  'IGLV': '2025-03-14',\n",
       "  'TRGV': '2025-03-14'},\n",
       " 'human': {'TRBV': '2025-03-14',\n",
       "  'IGHV': '2025-03-14',\n",
       "  'IGKV': '2025-03-14',\n",
       "  'IGLV': '2025-03-14',\n",
       "  'TRAJ': '2025-03-14',\n",
       "  'TRGV': '2025-03-14',\n",
       "  'TRDV': '2025-03-14',\n",
       "  'TRGJ': '2025-03-14',\n",
       "  'IGHJ': '2025-03-14',\n",
       "  'TRBJ': '2025-03-14',\n",
       "  'TRAV': '2025-03-14',\n",
       "  'IGLJ': '2025-03-14',\n",
       "  'IGKJ': '2025-03-14',\n",
       "  'TRDJ': '2025-03-14'},\n",
       " 'alpaca': {'IGHV': '2025-03-14', 'IGHJ': '2025-03-14'},\n",
       " 'rabbit': {'IGLJ': '2025-03-14',\n",
       "  'IGKV': '2025-03-14',\n",
       "  'IGKJ': '2025-03-14',\n",
       "  'IGLV': '2025-03-14',\n",
       "  'IGHV': '2025-03-14',\n",
       "  'IGHJ': '2025-03-14'}}"
      ]
     },
     "execution_count": 7,
     "metadata": {},
     "output_type": "execute_result"
    }
   ],
   "source": [
    "vj_tool.retrieve_db_dates()"
   ]
  },
  {
   "cell_type": "code",
   "execution_count": null,
   "id": "6087aa65-2423-42ef-8d8f-9a93eb0582eb",
   "metadata": {},
   "outputs": [],
   "source": []
  },
  {
   "cell_type": "code",
   "execution_count": null,
   "id": "41950058-175e-4e08-83bb-9ce91fc7e12c",
   "metadata": {},
   "outputs": [],
   "source": []
  },
  {
   "cell_type": "code",
   "execution_count": null,
   "id": "1cda4c4e-1b35-4ac4-b272-dac07f49bc66",
   "metadata": {},
   "outputs": [],
   "source": []
  }
 ],
 "metadata": {
  "kernelspec": {
   "display_name": "Python 3 (ipykernel)",
   "language": "python",
   "name": "python3"
  },
  "language_info": {
   "codemirror_mode": {
    "name": "ipython",
    "version": 3
   },
   "file_extension": ".py",
   "mimetype": "text/x-python",
   "name": "python",
   "nbconvert_exporter": "python",
   "pygments_lexer": "ipython3",
   "version": "3.10.12"
  }
 },
 "nbformat": 4,
 "nbformat_minor": 5
}
