{
 "cells": [
  {
   "cell_type": "markdown",
   "metadata": {},
   "source": [
    "# LogStructor Quick Start\n",
    "\n",
    "Get started with structured logging in 5 minutes."
   ]
  },
  {
   "cell_type": "code",
   "execution_count": null,
   "metadata": {},
   "outputs": [],
   "source": [
    "# !pip install logstructor\n",
    "import logstructor\n",
    "import logging\n",
    "import sys\n",
    "\n",
    "# Setup\n",
    "logging.basicConfig(level=logging.INFO, stream=sys.stdout)\n",
    "logger = logstructor.getLogger(__name__)"
   ]
  },
  {
   "cell_type": "markdown",
   "metadata": {},
   "source": [
    "## 1. Drop-in Replacement"
   ]
  },
  {
   "cell_type": "code",
   "execution_count": null,
   "metadata": {},
   "outputs": [],
   "source": [
    "# Your existing code works unchanged\n",
    "logger.info(\"Application started\")\n",
    "logger.error(\"Something went wrong\")"
   ]
  },
  {
   "cell_type": "markdown",
   "metadata": {},
   "source": [
    "## 2. Add Structure"
   ]
  },
  {
   "cell_type": "code",
   "execution_count": null,
   "metadata": {},
   "outputs": [],
   "source": [
    "# Add structured fields as keyword arguments\n",
    "logger.info(\"User logged in\", user_id=123, ip=\"192.168.1.100\")\n",
    "logger.error(\"Payment failed\", user_id=456, amount=99.99, error_code=\"DECLINED\")"
   ]
  },
  {
   "cell_type": "markdown",
   "metadata": {},
   "source": [
    "## 3. Context Management"
   ]
  },
  {
   "cell_type": "code",
   "execution_count": null,
   "metadata": {},
   "outputs": [],
   "source": [
    "# Set context once - included in all logs\n",
    "logstructor.bind_context(request_id=\"req-456\", user_id=123)\n",
    "\n",
    "logger.info(\"Processing request\")\n",
    "logger.info(\"Database query\", table=\"users\", duration_ms=45)\n",
    "logger.info(\"Request completed\", status_code=200)\n",
    "\n",
    "# Clean up\n",
    "logstructor.clear_context()"
   ]
  },
  {
   "cell_type": "markdown",
   "metadata": {},
   "source": [
    "## That's It!\n",
    "\n",
    "You now have:\n",
    "- ✅ Structured, searchable logs\n",
    "- ✅ JSON output for log aggregators\n",
    "- ✅ Automatic context tracking\n",
    "- ✅ Zero breaking changes\n",
    "\n",
    "Query your logs like:\n",
    "```bash\n",
    "user_id:123\n",
    "level:ERROR\n",
    "context.amount:>50\n",
    "```"
   ]
  }
 ],
 "metadata": {
  "kernelspec": {
   "display_name": "Python 3",
   "language": "python",
   "name": "python3"
  },
  "language_info": {
   "name": "python",
   "version": "3.11.0"
  }
 },
 "nbformat": 4,
 "nbformat_minor": 4
}
