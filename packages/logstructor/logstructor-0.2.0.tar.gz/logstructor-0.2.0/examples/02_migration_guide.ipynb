{
 "cells": [
  {
   "cell_type": "markdown",
   "metadata": {},
   "source": [
    "# Migration from Standard Logging\n",
    "\n",
    "Step-by-step migration guide with before/after examples."
   ]
  },
  {
   "cell_type": "markdown",
   "metadata": {},
   "source": [
    "## Step 1: Before (Standard Logging)"
   ]
  },
  {
   "cell_type": "code",
   "execution_count": null,
   "metadata": {},
   "outputs": [],
   "source": [
    "import logging\n",
    "import sys\n",
    "\n",
    "logging.basicConfig(level=logging.INFO, stream=sys.stdout)\n",
    "logger = logging.getLogger(__name__)\n",
    "\n",
    "# Your current code\n",
    "def process_user_login(username, user_id, ip_address):\n",
    "    logger.info(f\"User {username} (ID: {user_id}) logged in from {ip_address}\")\n",
    "\n",
    "def handle_error(operation, error_msg, user_id=None):\n",
    "    logger.error(f\"Error in {operation} for user {user_id}: {error_msg}\")\n",
    "\n",
    "# Test current logging\n",
    "process_user_login(\"alice\", 123, \"192.168.1.100\")\n",
    "handle_error(\"payment\", \"Card declined\", 123)"
   ]
  },
  {
   "cell_type": "markdown",
   "metadata": {},
   "source": [
    "**Problems:** Hard to search, no filtering, string parsing needed"
   ]
  },
  {
   "cell_type": "markdown",
   "metadata": {},
   "source": [
    "## Step 2: Drop-in Replacement"
   ]
  },
  {
   "cell_type": "code",
   "execution_count": null,
   "metadata": {},
   "outputs": [],
   "source": [
    "# Just change the import!\n",
    "import logstructor\n",
    "\n",
    "logger = logstructor.getLogger(__name__)\n",
    "\n",
    "# Same functions work unchanged\n",
    "process_user_login(\"alice\", 123, \"192.168.1.100\")\n",
    "handle_error(\"payment\", \"Card declined\", 123)\n",
    "\n",
    "print(\"✅ Existing code works unchanged!\")"
   ]
  },
  {
   "cell_type": "markdown",
   "metadata": {},
   "source": [
    "## Step 3: Add Structure"
   ]
  },
  {
   "cell_type": "code",
   "execution_count": null,
   "metadata": {},
   "outputs": [],
   "source": [
    "# Enhanced with structured fields\n",
    "def process_user_login_v2(username, user_id, ip_address):\n",
    "    logger.info(\n",
    "        \"User logged in\",\n",
    "        user_id=user_id,\n",
    "        username=username,\n",
    "        ip_address=ip_address,\n",
    "        event_type=\"login\"\n",
    "    )\n",
    "\n",
    "def handle_error_v2(operation, error_msg, user_id=None, error_code=None):\n",
    "    logger.error(\n",
    "        \"Operation failed\",\n",
    "        operation=operation,\n",
    "        error_message=error_msg,\n",
    "        user_id=user_id,\n",
    "        error_code=error_code\n",
    "    )\n",
    "\n",
    "process_user_login_v2(\"alice\", 123, \"192.168.1.100\")\n",
    "handle_error_v2(\"payment\", \"Card declined\", 123, \"CC_DECLINED\")"
   ]
  },
  {
   "cell_type": "markdown",
   "metadata": {},
   "source": [
    "## Step 4: Add Context Management"
   ]
  },
  {
   "cell_type": "code",
   "execution_count": null,
   "metadata": {},
   "outputs": [],
   "source": [
    "def simulate_web_request(request_id, user_id):\n",
    "    # Set context once\n",
    "    logstructor.bind_context(request_id=request_id, user_id=user_id)\n",
    "    \n",
    "    try:\n",
    "        # All logs automatically include context\n",
    "        json_logger.info(\"Request started\")\n",
    "        json_logger.info(\"Processing\", step=\"validation\")\n",
    "        json_logger.info(\"Request completed\", status_code=200)\n",
    "    finally:\n",
    "        logstructor.clear_context()\n",
    "\n",
    "simulate_web_request(\"req-123\", 456)"
   ]
  },
  {
   "cell_type": "markdown",
   "metadata": {},
   "source": [
    "## Benefits After Migration\n",
    "\n",
    "✅ **Searchable logs**: `user_id:123`  \n",
    "✅ **Better debugging**: Context automatically included  \n",
    "✅ **Business insights**: Query logs like a database  \n",
    "✅ **Faster incident response**: Structured alerts  \n",
    "\n",
    "**Query examples:**\n",
    "```bash\n",
    "# Find all actions by user 123\n",
    "context.user_id:123\n",
    "\n",
    "# Find all errors\n",
    "level:ERROR\n",
    "\n",
    "# Find payment errors\n",
    "context.operation:\"payment\" AND level:ERROR\n",
    "```"
   ]
  }
 ],
 "metadata": {
  "kernelspec": {
   "display_name": "Python 3",
   "language": "python",
   "name": "python3"
  },
  "language_info": {
   "name": "python",
   "version": "3.11.0"
  }
 },
 "nbformat": 4,
 "nbformat_minor": 4
}
