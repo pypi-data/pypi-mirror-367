{
 "cells": [
  {
   "cell_type": "markdown",
   "id": "9f90826b",
   "metadata": {},
   "source": [
    "In this tutorial, the basic plot types of trianglechain are introduced"
   ]
  },
  {
   "cell_type": "code",
   "execution_count": null,
   "id": "a2d30c8a",
   "metadata": {},
   "outputs": [],
   "source": [
    "from trianglechain import TriangleChain, LineChain, RectangleChain\n",
    "from trianglechain.TriangleChain import ensure_rec\n",
    "import numpy as np"
   ]
  },
  {
   "cell_type": "code",
   "execution_count": null,
   "id": "d4a68402",
   "metadata": {},
   "outputs": [],
   "source": [
    "def get_samples(n_samples=100000, n_dims=3):\n",
    "    covmat = np.random.normal(size=(n_dims, n_dims))\n",
    "    covmat = np.dot(covmat.T, covmat)\n",
    "    mean = np.random.uniform(size=(n_dims))\n",
    "    samples = np.random.multivariate_normal(mean=mean, cov=covmat, size=(n_samples))\n",
    "    return samples\n",
    "\n",
    "np.random.seed(42)\n",
    "samples = get_samples()\n",
    "samples = ensure_rec(samples, names=[\"a\", \"b\", \"c\"])"
   ]
  },
  {
   "cell_type": "markdown",
   "id": "813c19a7",
   "metadata": {},
   "source": [
    "# Contour plot"
   ]
  },
  {
   "cell_type": "code",
   "execution_count": null,
   "id": "b03ef21d",
   "metadata": {},
   "outputs": [],
   "source": [
    "tri = TriangleChain()\n",
    "tri.contour_cl(samples);"
   ]
  },
  {
   "cell_type": "markdown",
   "id": "be97a98c",
   "metadata": {},
   "source": [
    "# Density image"
   ]
  },
  {
   "cell_type": "code",
   "execution_count": null,
   "id": "028cfefe",
   "metadata": {},
   "outputs": [],
   "source": [
    "tri = TriangleChain()\n",
    "tri.density_image(samples);"
   ]
  },
  {
   "cell_type": "markdown",
   "id": "647d2503",
   "metadata": {},
   "source": [
    "# Scatter plot"
   ]
  },
  {
   "cell_type": "code",
   "execution_count": null,
   "id": "972e59ca",
   "metadata": {},
   "outputs": [],
   "source": [
    "tri = TriangleChain()\n",
    "tri.scatter(samples[:1000]);"
   ]
  },
  {
   "cell_type": "markdown",
   "id": "21be25b0",
   "metadata": {},
   "source": [
    "# Scatter density"
   ]
  },
  {
   "cell_type": "code",
   "execution_count": null,
   "id": "9db7d256",
   "metadata": {},
   "outputs": [],
   "source": [
    "# scatter, color corresponds to density\n",
    "tri = TriangleChain()\n",
    "tri.scatter_density(samples);"
   ]
  },
  {
   "cell_type": "markdown",
   "id": "94e2f70d-c60e-41be-9b4d-d467d6af1d19",
   "metadata": {},
   "source": [
    "# Axlines"
   ]
  },
  {
   "cell_type": "code",
   "execution_count": null,
   "id": "8ebebfed-ceed-49d9-bdd2-1e0dafecebe8",
   "metadata": {},
   "outputs": [],
   "source": [
    "lines = {\"a\": 0, \"b\": 0, \"c\": 0}\n",
    "\n",
    "tri = TriangleChain()\n",
    "tri.contour_cl(samples);\n",
    "tri.axlines(lines, color=\"k\", axlines_kwargs={\"ls\": \"--\", \"lw\": 1});"
   ]
  },
  {
   "cell_type": "markdown",
   "id": "caeec0b2",
   "metadata": {},
   "source": [
    "# LineChain"
   ]
  },
  {
   "cell_type": "markdown",
   "id": "2d959d67",
   "metadata": {},
   "source": [
    "All the plotting types from above can also be used in the LineChain environment. And the different plotting types can also be combined"
   ]
  },
  {
   "cell_type": "code",
   "execution_count": null,
   "id": "5ab639c7",
   "metadata": {},
   "outputs": [],
   "source": [
    "line = LineChain()\n",
    "line.contour_cl(samples);\n",
    "line.density_image(samples);\n",
    "line.axlines(lines, color=\"white\");"
   ]
  },
  {
   "cell_type": "markdown",
   "id": "1b1b2d8f-2dc6-40e7-b7bd-6c64f6f4ad61",
   "metadata": {},
   "source": [
    "# RectangleChain"
   ]
  },
  {
   "cell_type": "markdown",
   "id": "8ca1f268-e9a6-4bb5-9dbe-801eb82495d3",
   "metadata": {},
   "source": [
    "Another option is RectangleChain, here you have to define the x and y parameters"
   ]
  },
  {
   "cell_type": "code",
   "execution_count": null,
   "id": "5957013d-081e-456e-bb95-ef91c42188dc",
   "metadata": {},
   "outputs": [],
   "source": [
    "samples_rec = get_samples(n_dims=6)\n",
    "samples_rec = ensure_rec(samples_rec, names=[\"a\", \"b\", \"c\", \"d\", \"e\", \"f\"])"
   ]
  },
  {
   "cell_type": "code",
   "execution_count": null,
   "id": "c56235c8-f46b-481b-8ec0-48f2961d2084",
   "metadata": {},
   "outputs": [],
   "source": [
    "rec = RectangleChain(params_x=[\"a\", \"b\", \"c\", \"d\"], params_y=[\"e\", \"f\"], fill=True)\n",
    "rec.contour_cl(samples_rec); \n",
    "rec.axlines(samples_rec[5])\n",
    "rec.scatter(samples_rec[:20]); "
   ]
  },
  {
   "cell_type": "markdown",
   "id": "5b0b7155",
   "metadata": {},
   "source": [
    "# Samples with probability"
   ]
  },
  {
   "cell_type": "markdown",
   "id": "3f677559",
   "metadata": {},
   "source": [
    "To plot a sample where the probability of the sample is given, the `prob` argument can be used (for all `contour_cl`, `density_image` and `scatter_density`)"
   ]
  },
  {
   "cell_type": "code",
   "execution_count": null,
   "id": "047de415",
   "metadata": {},
   "outputs": [],
   "source": [
    "n_dims = 3\n",
    "n_samples = 1000000\n",
    "\n",
    "# Initalize grid\n",
    "sample = np.random.uniform(-5, 5, size=(n_samples, n_dims))\n",
    "\n",
    "# loglikelihood\n",
    "def loglike(x, mean, covmat):\n",
    "    return -0.5 * np.dot(np.dot((x - mean).T, np.linalg.inv(covmat)), (x - mean))\n",
    "\n",
    "# Generate the covariance matrix\n",
    "covmat = np.random.normal(size=(n_dims, n_dims))\n",
    "covmat = np.identity(n_dims)\n",
    "\n",
    "# Generate the mean vector\n",
    "mean = np.zeros(3)\n",
    "\n",
    "# Compute the probability for each generated sample\n",
    "prob = np.zeros(n_samples)\n",
    "for i in range(n_samples):\n",
    "    prob[i] = loglike(sample[i], mean, covmat)\n",
    "    \n",
    "# Transform and normalize to probabilites\n",
    "prob = np.exp(prob)\n",
    "prob /= sum(prob)"
   ]
  },
  {
   "cell_type": "code",
   "execution_count": null,
   "id": "01fb882e",
   "metadata": {},
   "outputs": [],
   "source": [
    "tri = TriangleChain(names=[\"a\", \"b\", \"c\"])\n",
    "tri.contour_cl(sample, prob=prob);"
   ]
  },
  {
   "cell_type": "code",
   "execution_count": null,
   "id": "95d90eab",
   "metadata": {},
   "outputs": [],
   "source": []
  }
 ],
 "metadata": {
  "kernelspec": {
   "display_name": "GalSBI cpvn",
   "language": "python",
   "name": "galsbi-cpvn"
  },
  "language_info": {
   "codemirror_mode": {
    "name": "ipython",
    "version": 3
   },
   "file_extension": ".py",
   "mimetype": "text/x-python",
   "name": "python",
   "nbconvert_exporter": "python",
   "pygments_lexer": "ipython3",
   "version": "3.12.6"
  }
 },
 "nbformat": 4,
 "nbformat_minor": 5
}
