{
 "cells": [
  {
   "cell_type": "markdown",
   "id": "d59418ec",
   "metadata": {},
   "source": [
    "Here, we introduce some more advanced functionalities of trianglechain"
   ]
  },
  {
   "cell_type": "code",
   "execution_count": null,
   "id": "d26a37b7",
   "metadata": {},
   "outputs": [],
   "source": [
    "import numpy as np\n",
    "from trianglechain import TriangleChain, LineChain\n",
    "from trianglechain.params import add_derived, ensure_rec\n",
    "from cosmic_toolbox.colors import set_cycle\n",
    "\n",
    "set_cycle()"
   ]
  },
  {
   "cell_type": "code",
   "execution_count": null,
   "id": "25732efa",
   "metadata": {},
   "outputs": [],
   "source": [
    "def get_samples(n_samples=100000, n_dims=3, names=None):\n",
    "    covmat = np.random.normal(size=(n_dims, n_dims))\n",
    "    covmat = np.dot(covmat.T, covmat)\n",
    "    mean = np.random.uniform(size=(n_dims))\n",
    "    samples = np.random.multivariate_normal(mean=mean, cov=covmat, size=(n_samples))\n",
    "    samples = ensure_rec(samples, names)\n",
    "    return samples\n",
    "\n",
    "sample1 = get_samples(names=[\"a\", \"b\", \"c\"])\n",
    "sample2 = get_samples(names=[\"a\", \"b\", \"c\"])\n",
    "sample3 = get_samples(n_dims=4, names=[\"a\", \"b\", \"c\", \"d\"])\n",
    "sample4 = get_samples(names=[\"a\", \"b\", \"d\"])"
   ]
  },
  {
   "cell_type": "markdown",
   "id": "8c295eb7",
   "metadata": {},
   "source": [
    "# Contour plots"
   ]
  },
  {
   "cell_type": "markdown",
   "id": "fc76da8c",
   "metadata": {},
   "source": [
    "First, we show some additional plotting functionalities:\n",
    "- filling the contours with `fill=True`\n",
    "- plotting a grid with `grid=True`\n",
    "- using the upper triangle for one of the plots with `tri=upper`\n",
    "- grouping the parameters a & b with grouping_kwargs\n",
    "    - n_per_group specifies how to group the parameters\n",
    "    - empty_ratio determines the space between groups\n",
    "- number of ticks can be varied with `n_ticks`"
   ]
  },
  {
   "cell_type": "code",
   "execution_count": null,
   "id": "ac21fb86",
   "metadata": {},
   "outputs": [],
   "source": [
    "grouping_kwargs = {\"n_per_group\": (2, 1), \"empty_ratio\": 0.1}\n",
    "\n",
    "tri = TriangleChain(fill=True, grid=True, grouping_kwargs=grouping_kwargs, n_ticks=6)\n",
    "tri.contour_cl(sample1)\n",
    "tri.contour_cl(sample2, tri=\"upper\");"
   ]
  },
  {
   "cell_type": "markdown",
   "id": "3cfb33ef",
   "metadata": {},
   "source": [
    "Next, we show how to change limits, ticks and labels\n",
    "- limits of the plot can be changed with `ranges`\n",
    "- ticks can be specified with `ticks`\n",
    "- tick length can be tuned by `tick_length`\n",
    "- 1D histograms can be turned off with `plot_histograms_1D=False`\n",
    "- labels for the plot can be specified with `labels`"
   ]
  },
  {
   "cell_type": "code",
   "execution_count": null,
   "id": "30611ed0",
   "metadata": {},
   "outputs": [],
   "source": [
    "ranges = {\"a\": [-1, 1]}\n",
    "ticks = {\"b\": [-6, -4, 0, 4, 6]}\n",
    "tri = TriangleChain(\n",
    "    ranges=ranges,\n",
    "    ticks=ticks,\n",
    "    tick_length=15,\n",
    "    labels=[r\"$n_s$\", r\"$\\sigma_8$\", r\"$\\alpha + \\beta$\"],\n",
    ")\n",
    "tri.contour_cl(sample1, plot_histograms_1D=False);"
   ]
  },
  {
   "cell_type": "markdown",
   "id": "3be77ed1",
   "metadata": {},
   "source": [
    "From the samples, you can directly compute the bestfit and lower and upper bounds.\n",
    "- `show_values=True` plots the bestfit and uncertainty band for the last plotted sample\n",
    "- `best_fit_method` specifies the way the bestfit is computed (options: mode, mean, median, best_sample (requires lnprobs))\n",
    "- `levels_method` specifies the way the uncertainty is computed (options: hdi, percentile, PJ-HPD (requires lnprobs))\n",
    "- `credible_interval` specifies the credible interval for the uncertainty"
   ]
  },
  {
   "cell_type": "code",
   "execution_count": null,
   "id": "76551e62",
   "metadata": {},
   "outputs": [],
   "source": [
    "tri = TriangleChain(\n",
    "    show_values=True, bestfit_method=\"mode\", levels_method=\"hdi\", credible_interval=0.68\n",
    ")\n",
    "tri.contour_cl(sample1);"
   ]
  },
  {
   "cell_type": "markdown",
   "id": "0dde7aa2",
   "metadata": {},
   "source": [
    "You can use scatter to show fiducal values\n",
    "- combine `contour_cl` with `scatter`\n",
    "- use `scatter_vline_1D` for the 1D projection\n",
    "\n",
    "When combining different samples\n",
    "- you can use `label` to label each plot\n",
    "- `show_legend` will print the legend after this plot"
   ]
  },
  {
   "cell_type": "code",
   "execution_count": null,
   "id": "2c59ed8a",
   "metadata": {},
   "outputs": [],
   "source": [
    "fiducial = {\"a\": 0, \"b\": 1.0, \"c\": 1}\n",
    "scatter_kwargs = {\"s\": 500, \"marker\": \"*\", \"zorder\": 299}\n",
    "tri = TriangleChain(scatter_kwargs=scatter_kwargs)\n",
    "tri.contour_cl(sample1, label=\"sample1\")\n",
    "tri.contour_cl(sample2, label=\"sample2\")\n",
    "tri.scatter(\n",
    "    fiducial,\n",
    "    label=\"fiducial values\",\n",
    "    plot_histograms_1D=False,\n",
    "    color=\"k\",\n",
    "    show_legend=True,\n",
    "    scatter_vline_1D=True,\n",
    ");"
   ]
  },
  {
   "cell_type": "markdown",
   "id": "81aba083-38ee-45ad-b565-d478776373bf",
   "metadata": {},
   "source": [
    "Another way how to show fiducial values is by using `axlines`. You can decide if you want to show the lines in the 1D histogram by passing `plot_histograms_1D=True`."
   ]
  },
  {
   "cell_type": "code",
   "execution_count": null,
   "id": "407b60e7-0335-4dc2-bf4b-eec2c8e46082",
   "metadata": {},
   "outputs": [],
   "source": [
    "fiducial = {\"a\": 0, \"b\": 1.0, \"c\": 1}\n",
    "tri = TriangleChain()\n",
    "tri.contour_cl(sample1, label=\"sample1\")\n",
    "tri.contour_cl(sample2, label=\"sample2\")\n",
    "tri.axlines(\n",
    "    sample1[:1],\n",
    "    label=\"fiducial values\",\n",
    "    plot_histograms_1D=True,\n",
    "    color=\"k\",\n",
    "    show_legend=True,\n",
    "    axlines_kwargs={\"ls\": \"--\"},\n",
    ");"
   ]
  },
  {
   "cell_type": "markdown",
   "id": "0ebc9dad",
   "metadata": {},
   "source": [
    "For smoothing the contours more or less, you can play around with the following\n",
    "- `n_bins` defines the number of bins used\n",
    "- `density_estimation_method` chooses the method used for smoothing\n",
    "- `de_kwargs` specifies args for smoothing"
   ]
  },
  {
   "cell_type": "code",
   "execution_count": null,
   "id": "63d470cc",
   "metadata": {},
   "outputs": [],
   "source": [
    "de_kwargs = {\n",
    "    \"levels\": [0.1, 0.68],\n",
    "    \"smoothing_parameter1D\": 0.01,\n",
    "    \"smoothing_parameter2D\": 1,\n",
    "}\n",
    "tri = TriangleChain(\n",
    "    n_bins=1000, density_estimation_method=\"smoothing\", de_kwargs=de_kwargs\n",
    ")\n",
    "tri.contour_cl(sample1, label=\"sample1\")\n",
    "tri.contour_cl(sample2, label=\"sample2\");"
   ]
  },
  {
   "cell_type": "markdown",
   "id": "88bba536",
   "metadata": {},
   "source": [
    "If two probability distributions are compared, it makes sense that the 1D histograms are normalized. However, one might compare two catalogs where also the total number of objects is interesting. This can be done by the argument `histograms_1D_density=False`."
   ]
  },
  {
   "cell_type": "code",
   "execution_count": null,
   "id": "05dbf22f",
   "metadata": {},
   "outputs": [],
   "source": [
    "tri = TriangleChain(histograms_1D_density=False)\n",
    "tri.contour_cl(sample1[:100000], label=\"sample1\")\n",
    "tri.contour_cl(sample1[:50000], label=\"sample2\");"
   ]
  },
  {
   "cell_type": "markdown",
   "id": "9f4189ff",
   "metadata": {},
   "source": [
    "You can combine contour plots with scatter plots to highlight outliers—data points that fall outside the contour lines. To enable this feature, set `scatter_outliers=True`. To customize the appearance of the outlier scatter plot, use the `outlier_scatter_kwargs` parameter. This accepts a dictionary of keyword arguments that are passed directly to `plt.scatter`."
   ]
  },
  {
   "cell_type": "code",
   "execution_count": null,
   "id": "ed57b580",
   "metadata": {},
   "outputs": [],
   "source": [
    "tri = TriangleChain()\n",
    "tri.contour_cl(sample1, scatter_outliers=True)"
   ]
  },
  {
   "cell_type": "markdown",
   "id": "4404e5d2",
   "metadata": {},
   "source": [
    "# Density image"
   ]
  },
  {
   "cell_type": "markdown",
   "id": "ab99a063",
   "metadata": {},
   "source": [
    "Most of the arguments introduced above can also be used for other plotting types as density images. However, there are a few specific ones for density images, e.g.\n",
    "- `cmap` to define the colormap\n",
    "- `colorbar` to plot a colorbar (normalized to 1)\n",
    "- `colorbar_label` for the label of the colorbar"
   ]
  },
  {
   "cell_type": "code",
   "execution_count": null,
   "id": "50f483cb",
   "metadata": {},
   "outputs": [],
   "source": [
    "tri = TriangleChain()\n",
    "tri.density_image(\n",
    "    sample1, cmap=\"jet\", colorbar=True, colorbar_label=\"density of samples\"\n",
    ");"
   ]
  },
  {
   "cell_type": "markdown",
   "id": "d751dee8",
   "metadata": {},
   "source": [
    "If you want to have now color for the very low density areas, you can do this with\n",
    "- `alpha_for_low_density` to turn on the fading towards transparency\n",
    "- `alpha_threshold` to set the threshold which fraction of the maximum peak should be used for the fading"
   ]
  },
  {
   "cell_type": "code",
   "execution_count": null,
   "id": "cf62f75d",
   "metadata": {},
   "outputs": [],
   "source": [
    "kwargs = {\n",
    "    \"alpha_for_low_density\": True,  # set low density values to alpha\n",
    "    \"alpha_threshold\": 0.1,\n",
    "}  # how much of the cmap should be used for the transition to alpha\n",
    "tri = TriangleChain(alpha_for_low_density=True, alpha_threshold=0.1)\n",
    "tri.density_image(sample1);"
   ]
  },
  {
   "cell_type": "markdown",
   "id": "360127cb",
   "metadata": {},
   "source": [
    "# Scatter with specified color"
   ]
  },
  {
   "cell_type": "markdown",
   "id": "e3a0c0c1",
   "metadata": {},
   "source": [
    "The `scatter_prob` plot type can be used to make a scatter plot where you specify the color. If `prob` actually corresponds to a probability, you can use the default value and get the following:"
   ]
  },
  {
   "cell_type": "code",
   "execution_count": null,
   "id": "67341bfa",
   "metadata": {},
   "outputs": [],
   "source": [
    "samples = np.random.rand(5000, 3) * 20 - 10\n",
    "sigma = 5\n",
    "prob = (\n",
    "    samples[:, 0] ** 2 / sigma**2\n",
    "    + (samples[:, 1] - 3) ** 2 / sigma**2\n",
    "    + (samples[:, 2] + 2) ** 2 / sigma**2\n",
    ")\n",
    "prob = np.exp(-prob)\n",
    "prob /= np.sum(prob)\n",
    "\n",
    "tri = TriangleChain(colorbar=True, colorbar_label=\"normalized prob\")\n",
    "tri.scatter_prob(samples, prob=prob);"
   ]
  },
  {
   "cell_type": "markdown",
   "id": "ac638f2e",
   "metadata": {},
   "source": [
    "If you want to use the color to show an additional parameter (e.g. S8 when plotting sigma8 and omega_m), you have to turn off the normalization with the parameters\n",
    "- `normalize_prob2D=False`\n",
    "- `normalize_prob1D=False`\n",
    "\n",
    "This way, the 1D projections still corresponds to the density of points and is not affected by `prob`"
   ]
  },
  {
   "cell_type": "code",
   "execution_count": null,
   "id": "270ccb42",
   "metadata": {},
   "outputs": [],
   "source": [
    "param4 = sample1[\"a\"] + sample1[\"b\"]\n",
    "\n",
    "tri = TriangleChain(colorbar=True, colorbar_label=\"4th param: d\")\n",
    "tri.scatter_prob(sample1, prob=param4, normalize_prob2D=False, normalize_prob1D=False);"
   ]
  },
  {
   "cell_type": "markdown",
   "id": "48e32e6e",
   "metadata": {},
   "source": [
    "If you want to plot a specific value for the color as in the last example but the 1D projection should give you an idea where in your parameter space this value is largest, you can use\n",
    "- `normalize_prob2D=False`\n",
    "- `normalize_prob1D=True` (default)\n",
    "\n",
    "This can e.g. be useful when you want to plot a fractional error across parameter space."
   ]
  },
  {
   "cell_type": "code",
   "execution_count": null,
   "id": "3bd5a9e8",
   "metadata": {},
   "outputs": [],
   "source": [
    "samples = np.random.rand(5000, 3) * 10\n",
    "err = samples[:, 0] ** 2 + (10 - samples[:, 1]) ** (2) + 5 * (samples[:, 2] - 5) ** 2\n",
    "tri = TriangleChain(colorbar=True, colorbar_label=\"error\")\n",
    "tri.scatter_prob(samples, prob=err, normalize_prob2D=False);"
   ]
  },
  {
   "cell_type": "markdown",
   "id": "3dd740d5",
   "metadata": {},
   "source": [
    "# Show limits and bestfits"
   ]
  },
  {
   "cell_type": "markdown",
   "id": "dd9f4b32",
   "metadata": {},
   "source": [
    "TriangleChain can also directly output the bestfits and limits of each parameter. The method how the limits and the bestfit is computed can be changed as well."
   ]
  },
  {
   "cell_type": "code",
   "execution_count": null,
   "id": "0fd0b91b",
   "metadata": {
    "scrolled": true
   },
   "outputs": [],
   "source": [
    "samples = np.load(\"chain.npy\")\n",
    "lnprobs = np.load(\"lnprobs.npy\")\n",
    "\n",
    "samples_c = add_derived(\n",
    "    samples,\n",
    "    new_param=\"sigma8\",\n",
    "    derived=samples[\"S8\"] * np.sqrt(0.3 / samples[\"omega_m\"]),\n",
    ")\n",
    "labels = [r\"$\\Omega_m$\", r\"$\\sigma_8$\", r\"$h$\"]"
   ]
  },
  {
   "cell_type": "code",
   "execution_count": null,
   "id": "20cc9696",
   "metadata": {},
   "outputs": [],
   "source": [
    "tri = TriangleChain(labels=labels, params=[\"omega_m\", \"sigma8\", \"h\"])\n",
    "tri.contour_cl(\n",
    "    samples_c,\n",
    "    show_values=True,\n",
    "    levels_method=\"hdi\",\n",
    "    bestfit_method=\"mode\",\n",
    "    credible_interval=0.68,\n",
    ");"
   ]
  },
  {
   "cell_type": "markdown",
   "id": "894c342d",
   "metadata": {},
   "source": [
    "# Plain 2D Plot"
   ]
  },
  {
   "cell_type": "markdown",
   "id": "dda443c4",
   "metadata": {},
   "source": [
    "To get a plain 2D plot, the easiest is to use the LineChain module."
   ]
  },
  {
   "cell_type": "code",
   "execution_count": null,
   "id": "7d31c575",
   "metadata": {},
   "outputs": [],
   "source": [
    "line = LineChain(params=[\"a\", \"b\"])\n",
    "line.contour_cl(sample3);"
   ]
  },
  {
   "cell_type": "markdown",
   "id": "dd99d6d6-e0b9-47af-b69c-72c7db546f09",
   "metadata": {},
   "source": [
    "# Fontsizes"
   ]
  },
  {
   "cell_type": "markdown",
   "id": "13dff90e-dbd5-4d3e-825a-e45eb8c36257",
   "metadata": {},
   "source": [
    "trianglechain features 4 parameters to change the fontsize without specifying any kwargs.\n",
    "- `label_fontsize`: fontsize for the parameter axes, is used as default for legend if `legend_fontsize` is not specified.\n",
    "- `legend_fontsize`: fontsize for the legend\n",
    "- `tick_fontsize`: fontsize for the numbers of the ticks\n",
    "- `bestfit_fontsize`: fontsize of the bestfit and uncertainty parameters"
   ]
  },
  {
   "cell_type": "code",
   "execution_count": null,
   "id": "d6ca1b21-306e-4274-936e-7e878ea0f21f",
   "metadata": {},
   "outputs": [],
   "source": [
    "tri = TriangleChain(label_fontsize=60, legend_fontsize=40, tick_fontsize=8, bestfit_fontsize=24)\n",
    "tri.contour_cl(sample1, label=\"sample1\")\n",
    "tri.contour_cl(sample2, label=\"sample2\", show_legend=True, show_values=True);"
   ]
  },
  {
   "cell_type": "markdown",
   "id": "c97e5edb",
   "metadata": {},
   "source": [
    "# and more..."
   ]
  },
  {
   "cell_type": "markdown",
   "id": "771bafc5",
   "metadata": {},
   "source": [
    "For an overview of all arguments, use `help(TriangleChain)`. Generally, arguments passed to `TriangleChain` will affect all plots whereas arguments passed to the subplots such as `contour_cl` will only affect the subplot. Most arguments can be passed to both.\n",
    "\n",
    "If you have questions, found a bug or you have suggestions for new features, feel free to contact me: silvanf@phys.ethz.ch"
   ]
  }
 ],
 "metadata": {
  "kernelspec": {
   "display_name": "GalSBI cpvn",
   "language": "python",
   "name": "galsbi-cpvn"
  },
  "language_info": {
   "codemirror_mode": {
    "name": "ipython",
    "version": 3
   },
   "file_extension": ".py",
   "mimetype": "text/x-python",
   "name": "python",
   "nbconvert_exporter": "python",
   "pygments_lexer": "ipython3",
   "version": "3.12.6"
  },
  "toc": {
   "base_numbering": 1,
   "nav_menu": {},
   "number_sections": true,
   "sideBar": true,
   "skip_h1_title": false,
   "title_cell": "Table of Contents",
   "title_sidebar": "Contents",
   "toc_cell": false,
   "toc_position": {},
   "toc_section_display": true,
   "toc_window_display": false
  }
 },
 "nbformat": 4,
 "nbformat_minor": 5
}
