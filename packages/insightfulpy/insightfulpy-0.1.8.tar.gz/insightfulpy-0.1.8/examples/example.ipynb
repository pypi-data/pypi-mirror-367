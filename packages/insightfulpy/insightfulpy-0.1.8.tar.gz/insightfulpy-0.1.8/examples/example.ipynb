{
 "cells": [
  {
   "cell_type": "markdown",
   "metadata": {},
   "source": [
    "# InsightfulPy Example\n",
    "\n",
    "This notebook demonstrates the complete InsightfulPy workflow for exploratory data analysis.\n",
    "\n",
    "## Table of Contents\n",
    "1. [Setup and Data Loading](#setup)\n",
    "2. [Initial Data Overview](#overview)\n",
    "3. [Data Quality Assessment](#quality)\n",
    "4. [Statistical Summary](#summary)\n",
    "5. [Data Visualization](#visualization)\n",
    "6. [Relationship Analysis](#relationships)\n",
    "7. [Advanced Analysis](#advanced)\n",
    "8. [Conclusions](#conclusions)"
   ]
  },
  {
   "cell_type": "markdown",
   "metadata": {},
   "source": [
    "## 1. Setup and Data Loading {#setup}"
   ]
  },
  {
   "cell_type": "code",
   "execution_count": null,
   "metadata": {},
   "outputs": [],
   "source": [
    "# Import necessary libraries\n",
    "import pandas as pd\n",
    "import numpy as np\n",
    "import insightfulpy as ipy\n",
    "import warnings\n",
    "warnings.filterwarnings('ignore')\n",
    "\n",
    "# Display all help options\n",
    "print(\"InsightfulPy Help System:\")\n",
    "print(\"=\" * 25)\n",
    "print(\"Available help functions:\")\n",
    "print(\"- ipy.help()         # Comprehensive overview\")\n",
    "print(\"- ipy.quick_start()  # Quick start guide\")\n",
    "print(\"- ipy.examples()     # Usage examples\")\n",
    "print(\"- ipy.list_all()     # All functions\")"
   ]
  },
  {
   "cell_type": "code",
   "execution_count": null,
   "metadata": {},
   "outputs": [],
   "source": [
    "# Create sample dataset for demonstration\n",
    "np.random.seed(42)\n",
    "n_samples = 1000\n",
    "\n",
    "# Generate sample data\n",
    "data = {\n",
    "    'customer_id': range(1, n_samples + 1),\n",
    "    'age': np.random.normal(35, 12, n_samples).astype(int),\n",
    "    'income': np.random.exponential(50000, n_samples),\n",
    "    'spending_score': np.random.beta(2, 5, n_samples) * 100,\n",
    "    'region': np.random.choice(['North', 'South', 'East', 'West'], n_samples, p=[0.3, 0.3, 0.2, 0.2]),\n",
    "    'category': np.random.choice(['Premium', 'Standard', 'Basic'], n_samples, p=[0.2, 0.5, 0.3]),\n",
    "    'satisfaction': np.random.choice(['Very Low', 'Low', 'Medium', 'High', 'Very High'], n_samples),\n",
    "    'purchase_amount': np.random.gamma(2, 1000, n_samples)\n",
    "}\n",
    "\n",
    "# Introduce some missing values\n",
    "missing_indices = np.random.choice(n_samples, 50, replace=False)\n",
    "data['income'][missing_indices[:25]] = np.nan\n",
    "data['satisfaction'][missing_indices[25:]] = np.nan\n",
    "\n",
    "# Create DataFrame\n",
    "df = pd.DataFrame(data)\n",
    "\n",
    "# Add some outliers\n",
    "outlier_indices = np.random.choice(n_samples, 20, replace=False)\n",
    "df.loc[outlier_indices, 'income'] = df['income'].quantile(0.95) * 3\n",
    "\n",
    "print(f\"Dataset created with {len(df)} rows and {len(df.columns)} columns\")\n",
    "print(\"\\nFirst 5 rows:\")\n",
    "df.head()"
   ]
  },
  {
   "cell_type": "markdown",
   "metadata": {},
   "source": [
    "## 2. Initial Data Overview {#overview}"
   ]
  },
  {
   "cell_type": "code",
   "execution_count": null,
   "metadata": {},
   "outputs": [],
   "source": [
    "# Get comprehensive dataset overview\n",
    "ipy.columns_info('Customer Analysis Dataset', df)"
   ]
  },
  {
   "cell_type": "code",
   "execution_count": null,
   "metadata": {},
   "outputs": [],
   "source": [
    "# Quick help reminder\n",
    "ipy.help()"
   ]
  },
  {
   "cell_type": "markdown",
   "metadata": {},
   "source": [
    "## 3. Data Quality Assessment {#quality}"
   ]
  },
  {
   "cell_type": "code",
   "execution_count": null,
   "metadata": {},
   "outputs": [],
   "source": [
    "# Check for missing and infinite values\n",
    "ipy.missing_inf_values(df, missing=True, inf=True)"
   ]
  },
  {
   "cell_type": "code",
   "execution_count": null,
   "metadata": {},
   "outputs": [],
   "source": [
    "# Visualize missing data patterns\n",
    "ipy.show_missing(df)"
   ]
  },
  {
   "cell_type": "code",
   "execution_count": null,
   "metadata": {},
   "outputs": [],
   "source": [
    "# Check for mixed data types\n",
    "ipy.detect_mixed_data_types(df)"
   ]
  },
  {
   "cell_type": "code",
   "execution_count": null,
   "metadata": {},
   "outputs": [],
   "source": [
    "# Detect outliers\n",
    "outliers = ipy.detect_outliers(df)\n",
    "print(\"Outlier Analysis Results:\")\n",
    "outliers"
   ]
  },
  {
   "cell_type": "markdown",
   "metadata": {},
   "source": [
    "## 4. Statistical Summary {#summary}"
   ]
  },
  {
   "cell_type": "code",
   "execution_count": null,
   "metadata": {},
   "outputs": [],
   "source": [
    "# Comprehensive numerical summary\n",
    "print(\"NUMERICAL COLUMNS SUMMARY\")\n",
    "print(\"=\" * 30)\n",
    "num_summary = ipy.num_summary(df)\n",
    "num_summary"
   ]
  },
  {
   "cell_type": "code",
   "execution_count": null,
   "metadata": {},
   "outputs": [],
   "source": [
    "# Categorical columns summary\n",
    "print(\"CATEGORICAL COLUMNS SUMMARY\")\n",
    "print(\"=\" * 32)\n",
    "cat_summary = ipy.cat_summary(df)\n",
    "cat_summary"
   ]
  },
  {
   "cell_type": "code",
   "execution_count": null,
   "metadata": {},
   "outputs": [],
   "source": [
    "# Distribution characteristics\n",
    "print(\"DISTRIBUTION CHARACTERISTICS\")\n",
    "print(\"=\" * 30)\n",
    "dist_stats = ipy.calculate_skewness_kurtosis(df)\n",
    "dist_stats"
   ]
  },
  {
   "cell_type": "markdown",
   "metadata": {},
   "source": [
    "## 5. Data Visualization {#visualization}"
   ]
  },
  {
   "cell_type": "code",
   "execution_count": null,
   "metadata": {},
   "outputs": [],
   "source": [
    "# Box plots for outlier visualization\n",
    "print(\"Box Plots - Outlier Detection\")\n",
    "ipy.plot_boxplots(df)"
   ]
  },
  {
   "cell_type": "code",
   "execution_count": null,
   "metadata": {},
   "outputs": [],
   "source": [
    "# Distribution analysis in batches\n",
    "print(\"Available KDE plot batches:\")\n",
    "kde_batches = ipy.kde_batches(df)\n",
    "kde_batches"
   ]
  },
  {
   "cell_type": "code",
   "execution_count": null,
   "metadata": {},
   "outputs": [],
   "source": [
    "# Plot KDE distributions\n",
    "ipy.kde_batches(df, batch_num=1)"
   ]
  },
  {
   "cell_type": "code",
   "execution_count": null,
   "metadata": {},
   "outputs": [],
   "source": [
    "# Categorical data visualization\n",
    "print(\"Available categorical plot batches:\")\n",
    "cat_batches = ipy.cat_bar_batches(df)\n",
    "cat_batches"
   ]
  },
  {
   "cell_type": "code",
   "execution_count": null,
   "metadata": {},
   "outputs": [],
   "source": [
    "# Plot categorical distributions\n",
    "ipy.cat_bar_batches(df, batch_num=1, show_percentage=True)"
   ]
  },
  {
   "cell_type": "code",
   "execution_count": null,
   "metadata": {},
   "outputs": [],
   "source": [
    "# Q-Q plots for normality assessment\n",
    "ipy.qq_plot_batches(df, batch_num=1)"
   ]
  },
  {
   "cell_type": "markdown",
   "metadata": {},
   "source": [
    "## 6. Relationship Analysis {#relationships}"
   ]
  },
  {
   "cell_type": "code",
   "execution_count": null,
   "metadata": {},
   "outputs": [],
   "source": [
    "# Numerical vs numerical relationships\n",
    "print(\"Available numerical relationship pairs:\")\n",
    "num_pairs = ipy.num_vs_num_scatterplot_pair_batch(df)\n",
    "num_pairs.head(10)"
   ]
  },
  {
   "cell_type": "code",
   "execution_count": null,
   "metadata": {},
   "outputs": [],
   "source": [
    "# Plot numerical relationships\n",
    "ipy.num_vs_num_scatterplot_pair_batch(df, pair_num=1, batch_num=1, hue_column='category')"
   ]
  },
  {
   "cell_type": "code",
   "execution_count": null,
   "metadata": {},
   "outputs": [],
   "source": [
    "# Categorical vs categorical relationships\n",
    "print(\"Available categorical relationship pairs:\")\n",
    "cat_pairs = ipy.cat_vs_cat_pair_batch(df)\n",
    "cat_pairs.head(5)"
   ]
  },
  {
   "cell_type": "code",
   "execution_count": null,
   "metadata": {},
   "outputs": [],
   "source": [
    "# Plot categorical relationships\n",
    "ipy.cat_vs_cat_pair_batch(df, pair_num=0, batch_num=1)"
   ]
  },
  {
   "cell_type": "code",
   "execution_count": null,
   "metadata": {},
   "outputs": [],
   "source": [
    "# Numerical vs categorical analysis\n",
    "print(\"Available numerical vs categorical pairs:\")\n",
    "mixed_pairs = ipy.num_vs_cat_box_violin_pair_batch(df)\n",
    "mixed_pairs.head(5)"
   ]
  },
  {
   "cell_type": "code",
   "execution_count": null,
   "metadata": {},
   "outputs": [],
   "source": [
    "# Plot numerical vs categorical relationships\n",
    "ipy.num_vs_cat_box_violin_pair_batch(df, pair_num=1, batch_num=1)"
   ]
  },
  {
   "cell_type": "markdown",
   "metadata": {},
   "source": [
    "## 7. Advanced Analysis {#advanced}"
   ]
  },
  {
   "cell_type": "code",
   "execution_count": null,
   "metadata": {},
   "outputs": [],
   "source": [
    "# Group analysis by category\n",
    "print(\"GROUP ANALYSIS BY CATEGORY\")\n",
    "print(\"=\" * 30)\n",
    "grouped_analysis = ipy.grouped_summary(df, groupby='category')\n",
    "print(grouped_analysis)"
   ]
  },
  {
   "cell_type": "code",
   "execution_count": null,
   "metadata": {},
   "outputs": [],
   "source": [
    "# Individual column deep dive - Income analysis\n",
    "print(\"INCOME ANALYSIS BY CATEGORY\")\n",
    "print(\"=\" * 30)\n",
    "ipy.num_analysis_and_plot(df, 'income', target='category', visualize=True)"
   ]
  },
  {
   "cell_type": "code",
   "execution_count": null,
   "metadata": {},
   "outputs": [],
   "source": [
    "# Regional analysis\n",
    "print(\"REGIONAL ANALYSIS\")\n",
    "print(\"=\" * 18)\n",
    "ipy.cat_analyze_and_plot(df, 'region', target='category', visualize=True)"
   ]
  },
  {
   "cell_type": "code",
   "execution_count": null,
   "metadata": {},
   "outputs": [],
   "source": [
    "# Custom statistical analysis\n",
    "print(\"CUSTOM STATISTICAL ANALYSIS - INCOME\")\n",
    "print(\"=\" * 38)\n",
    "income_stats = ipy.calc_stats(df['income'].dropna())\n",
    "for stat, value in income_stats.items():\n",
    "    print(f\"{stat:15}: {value:,.2f}\")"
   ]
  },
  {
   "cell_type": "code",
   "execution_count": null,
   "metadata": {},
   "outputs": [],
   "source": [
    "# Interconnected outlier analysis\n",
    "print(\"INTERCONNECTED OUTLIER ANALYSIS\")\n",
    "print(\"=\" * 33)\n",
    "numeric_cols = ['age', 'income', 'spending_score', 'purchase_amount']\n",
    "interconnected = ipy.interconnected_outliers(df, numeric_cols)\n",
    "print(f\"Found {len(interconnected)} rows with outliers in multiple columns\")\n",
    "if len(interconnected) > 0:\n",
    "    print(\"\\nFirst 5 interconnected outlier rows:\")\n",
    "    print(interconnected.head())"
   ]
  },
  {
   "cell_type": "markdown",
   "metadata": {},
   "source": [
    "## 8. Conclusions {#conclusions}"
   ]
  },
  {
   "cell_type": "code",
   "execution_count": null,
   "metadata": {},
   "outputs": [],
   "source": [
    "print(\"ANALYSIS SUMMARY\")\n",
    "print(\"=\" * 17)\n",
    "print(f\"Dataset Size: {len(df)} rows, {len(df.columns)} columns\")\n",
    "print(f\"Missing Values: {df.isnull().sum().sum()} total\")\n",
    "print(f\"Numerical Columns: {len(df.select_dtypes(include='number').columns)}\")\n",
    "print(f\"Categorical Columns: {len(df.select_dtypes(include='object').columns)}\")\n",
    "\n",
    "# Key insights\n",
    "print(\"\\nKEY INSIGHTS:\")\n",
    "print(\"- Income shows right-skewed distribution with outliers\")\n",
    "print(\"- Spending scores follow beta distribution pattern\")\n",
    "print(\"- Regional distribution is fairly balanced\")\n",
    "print(\"- Premium customers show different spending patterns\")\n",
    "print(\"- Some customers are outliers across multiple metrics\")\n",
    "\n",
    "print(\"\\nRECOMMENDATIONS:\")\n",
    "print(\"- Investigate high-income outliers for data quality\")\n",
    "print(\"- Consider log transformation for income analysis\")\n",
    "print(\"- Develop targeted strategies for different customer categories\")\n",
    "print(\"- Monitor interconnected outliers for potential data issues\")"
   ]
  },
  {
   "cell_type": "code",
   "execution_count": null,
   "metadata": {},
   "outputs": [],
   "source": [
    "# Final reminder of help system\n",
    "print(\"Remember: InsightfulPy provides comprehensive help!\")\n",
    "print(\"\\nUse these functions anytime:\")\n",
    "print(\"- ipy.help()         # Function overview\")\n",
    "print(\"- ipy.quick_start()  # Getting started\")\n",
    "print(\"- ipy.examples()     # Code examples\")\n",
    "print(\"- ipy.list_all()     # All functions\")\n",
    "print(\"\\nHappy analyzing! 📊\")"
   ]
  }
 ],
 "metadata": {
  "kernelspec": {
   "display_name": "Python 3",
   "language": "python",
   "name": "python3"
  },
  "language_info": {
   "codemirror_mode": {
    "name": "ipython",
    "version": 3
   },
   "file_extension": ".py",
   "mimetype": "text/x-python",
   "name": "python",
   "nbconvert_exporter": "python",
   "pygments_lexer": "ipython3",
   "version": "3.9.0"
  }
 },
 "nbformat": 4,
 "nbformat_minor": 4
}
