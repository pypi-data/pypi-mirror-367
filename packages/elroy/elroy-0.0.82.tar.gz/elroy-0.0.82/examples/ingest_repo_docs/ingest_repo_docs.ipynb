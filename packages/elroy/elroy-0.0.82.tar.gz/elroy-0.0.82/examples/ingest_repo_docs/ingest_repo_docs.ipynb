{
 "cells": [
  {
   "cell_type": "markdown",
   "metadata": {},
   "source": [
    "# Ingesting repo documentation\n",
    "\n",
    "This notebook downloads and installs a python repo, then ingests all markdown documents from both the repo (and optionally, all of the repo's dependencies).\n",
    "\n",
    "Source documents are stored for traditional RAG, but an additional memory layer makes summarized and synthesized knowledge available to the assistant.\n",
    "\n",
    "A bash version of the script is available at [ingest_repo_docs.sh](./ingest_repo_docs.sh)"
   ]
  },
  {
   "cell_type": "code",
   "execution_count": null,
   "metadata": {},
   "outputs": [],
   "source": [
    "# first, clone the repo to a tmp dir\n",
    "import os\n",
    "import subprocess\n",
    "\n",
    "from elroy.config.paths import get_home_dir\n",
    "\n",
    "\n",
    "if not os.path.exists(\"/tmp/elroy\"):\n",
    "    subprocess.run([\"git\", \"clone\", \"--branch\", \"main\", \"--single-branch\", \"https://github.com/elroy-bot/elroy.git\"])\n",
    "\n",
    "\n",
    "\n",
    "# To ingest not only the project's documents, but the docs for the dependencies as well, install the project:\n",
    "if False:\n",
    "    subprocess.run([\"git\", \"pull\", \"origin\", \"main\"])\n",
    "    subprocess.run([\"uv\", \"venv\"])\n",
    "    venv_path = os.path.join(\"/tmp\", \"elroy\", \".venv\")\n",
    "\n",
    "    os.environ[\"PATH\"] = f\"{venv_path}:{os.environ['PATH']}\"\n",
    "    subprocess.run([\"uv\", \"pip\", \"install\", \"-e\", \".\"])\n",
    "print(get_home_dir())\n",
    "\n",
    "markdown_files = []\n",
    "for root, dirs, files in os.walk(\"/tmp/elroy\"):\n",
    "    for file in files:\n",
    "        if file.endswith(\".md\"):\n",
    "            markdown_files.append(os.path.join(root, file))\n",
    "\n",
    "print(f\"Found {len(markdown_files)} markdown files\")\n",
    "\n"
   ]
  },
  {
   "cell_type": "code",
   "execution_count": null,
   "metadata": {},
   "outputs": [],
   "source": [
    "from tqdm import tqdm\n",
    "from elroy.api import Elroy\n",
    "import elroy\n",
    "\n",
    "print(elroy.__file__)\n",
    "\n",
    "ai = Elroy(check_db_migration=False)\n",
    "ai.ctx\n",
    "\n",
    "for file in tqdm(markdown_files):\n",
    "    ai.ingest_doc(file) # to re-ingest even if there are no changes, use force_refresh=True"
   ]
  }
 ],
 "metadata": {
  "kernelspec": {
   "display_name": ".venv",
   "language": "python",
   "name": "python3"
  },
  "language_info": {
   "codemirror_mode": {
    "name": "ipython",
    "version": 3
   },
   "file_extension": ".py",
   "mimetype": "text/x-python",
   "name": "python",
   "nbconvert_exporter": "python",
   "pygments_lexer": "ipython3",
   "version": "3.12.4"
  }
 },
 "nbformat": 4,
 "nbformat_minor": 2
}
