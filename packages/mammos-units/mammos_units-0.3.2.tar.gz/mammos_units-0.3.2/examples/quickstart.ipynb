{
 "cells": [
  {
   "cell_type": "markdown",
   "id": "d817c512-bb69-44d7-9a86-d4e65dcd05bd",
   "metadata": {},
   "source": [
    "# `mammos_units` quickstart\n",
    "\n",
    "This tutorial provides a short overview of the most important functionality of `mammos_units`. For a more in-depth introduction refer to [Unit Conversions](https://mammos-project.github.io/mammos/examples/mammos-units/example.html)."
   ]
  },
  {
   "cell_type": "code",
   "execution_count": 1,
   "id": "79f02b8f-ec9f-46d8-b5a9-3ebd381ee390",
   "metadata": {},
   "outputs": [],
   "source": [
    "import mammos_units as u"
   ]
  },
  {
   "cell_type": "markdown",
   "id": "8f80af45-dfe2-43ff-b434-ea9a7de830fb",
   "metadata": {},
   "source": [
    "## Creating quantities"
   ]
  },
  {
   "cell_type": "markdown",
   "id": "834f4989-0723-4742-b4aa-e0c55026fa71",
   "metadata": {},
   "source": [
    "`mammos_units` provides functionality to work with units. It is based on [astropy.units](https://docs.astropy.org/en/stable/units/index.html). The central object is the `Quantity`, the combination of a value and a unit. We can create it by multiplying value and unit:"
   ]
  },
  {
   "cell_type": "code",
   "execution_count": 2,
   "id": "4f1552bb-ce56-464c-bd60-c1e04f9cc024",
   "metadata": {},
   "outputs": [
    {
     "data": {
      "text/latex": [
       "$3 \\; \\mathrm{m}$"
      ],
      "text/plain": [
       "<Quantity 3. m>"
      ]
     },
     "execution_count": 2,
     "metadata": {},
     "output_type": "execute_result"
    }
   ],
   "source": [
    "length = 3 * u.m\n",
    "length"
   ]
  },
  {
   "cell_type": "markdown",
   "id": "64e24407-31c4-4741-b650-02d188171fbf",
   "metadata": {},
   "source": [
    "We have access to its `value` and `unit`:"
   ]
  },
  {
   "cell_type": "code",
   "execution_count": 3,
   "id": "9d2e7fde-c52b-481e-a145-4facc465d5b9",
   "metadata": {},
   "outputs": [
    {
     "data": {
      "text/plain": [
       "np.float64(3.0)"
      ]
     },
     "execution_count": 3,
     "metadata": {},
     "output_type": "execute_result"
    }
   ],
   "source": [
    "length.value"
   ]
  },
  {
   "cell_type": "code",
   "execution_count": 4,
   "id": "c99f6f40-0e9d-4c7d-aaea-b67ae56b23fa",
   "metadata": {},
   "outputs": [
    {
     "data": {
      "text/latex": [
       "$\\mathrm{m}$"
      ],
      "text/plain": [
       "Unit(\"m\")"
      ]
     },
     "execution_count": 4,
     "metadata": {},
     "output_type": "execute_result"
    }
   ],
   "source": [
    "length.unit"
   ]
  },
  {
   "cell_type": "markdown",
   "id": "289562c9-66ef-47ee-b082-cf36cc8116dd",
   "metadata": {},
   "source": [
    "Mathematical operations act on both the value and the unit:"
   ]
  },
  {
   "cell_type": "code",
   "execution_count": 5,
   "id": "fe34ccea-9dcc-460c-98ac-d9cbda01c42c",
   "metadata": {},
   "outputs": [
    {
     "data": {
      "text/latex": [
       "$9 \\; \\mathrm{m^{2}}$"
      ],
      "text/plain": [
       "<Quantity 9. m2>"
      ]
     },
     "execution_count": 5,
     "metadata": {},
     "output_type": "execute_result"
    }
   ],
   "source": [
    "length**2"
   ]
  },
  {
   "cell_type": "markdown",
   "id": "40bcbe1b-37d6-4ab2-ba9f-cb5eb51369ce",
   "metadata": {},
   "source": [
    "## Magnetic quantities\n",
    "\n",
    "The main focus of `mammos_units` is on magnetic units. In the following we show a few quantities relevant in the context of magnetism.\n",
    "\n",
    "### Magnetization $M$"
   ]
  },
  {
   "cell_type": "code",
   "execution_count": 6,
   "id": "ebbae3c0-cea4-42ba-b25c-c946ad6111a1",
   "metadata": {},
   "outputs": [
    {
     "data": {
      "text/latex": [
       "$100000 \\; \\mathrm{\\frac{A}{m}}$"
      ],
      "text/plain": [
       "<Quantity 100000. A / m>"
      ]
     },
     "execution_count": 6,
     "metadata": {},
     "output_type": "execute_result"
    }
   ],
   "source": [
    "1e5 * u.A / u.m"
   ]
  },
  {
   "cell_type": "markdown",
   "id": "40661740-df7f-4f69-92d3-de615be1b94b",
   "metadata": {},
   "source": [
    "### Magnetic field strength $H$\n",
    "\n",
    "Vector quantities can be set with lists or numpy arrays:"
   ]
  },
  {
   "cell_type": "code",
   "execution_count": 7,
   "id": "28ff39bc-f9ec-40b1-9a4a-d37295cd61f4",
   "metadata": {},
   "outputs": [
    {
     "data": {
      "text/latex": [
       "$[10000,~0,~0] \\; \\mathrm{\\frac{A}{m}}$"
      ],
      "text/plain": [
       "<Quantity [10000.,     0.,     0.] A / m>"
      ]
     },
     "execution_count": 7,
     "metadata": {},
     "output_type": "execute_result"
    }
   ],
   "source": [
    "[1e4, 0, 0] * u.A / u.m"
   ]
  },
  {
   "cell_type": "markdown",
   "id": "862fea27-2fce-4f4e-8a56-c2014f1d03dc",
   "metadata": {},
   "source": [
    "### Magnetic flux $B$"
   ]
  },
  {
   "cell_type": "code",
   "execution_count": 8,
   "id": "b23ea604-e9da-4ddb-aaa0-e8064df9a690",
   "metadata": {},
   "outputs": [
    {
     "data": {
      "text/latex": [
       "$1 \\; \\mathrm{T}$"
      ],
      "text/plain": [
       "<Quantity 1. T>"
      ]
     },
     "execution_count": 8,
     "metadata": {},
     "output_type": "execute_result"
    }
   ],
   "source": [
    "1 * u.T"
   ]
  },
  {
   "cell_type": "markdown",
   "id": "983a7cbf-7591-4114-bfca-9edfcb89c2e0",
   "metadata": {},
   "source": [
    "### Energy $E$"
   ]
  },
  {
   "cell_type": "code",
   "execution_count": 9,
   "id": "24e2d3a2-e898-4cc7-a5a0-586e9e2568bd",
   "metadata": {},
   "outputs": [
    {
     "data": {
      "text/latex": [
       "$1 \\times 10^{-5} \\; \\mathrm{J}$"
      ],
      "text/plain": [
       "<Quantity 1.e-05 J>"
      ]
     },
     "execution_count": 9,
     "metadata": {},
     "output_type": "execute_result"
    }
   ],
   "source": [
    "1e-5 * u.J"
   ]
  },
  {
   "cell_type": "markdown",
   "id": "3170cbc2-e847-427c-bff1-cb7acca5a557",
   "metadata": {},
   "source": [
    "## Converting units\n",
    "\n",
    "`Quantities` can be converted to different units using `to(...)`. We can either pass a unit object or a string. \n",
    "\n",
    "We can use that functionality to add or remove a prefix such as milli or kilo:"
   ]
  },
  {
   "cell_type": "code",
   "execution_count": 10,
   "id": "9e6f442e-7c2e-4c05-b737-d790e41133e5",
   "metadata": {},
   "outputs": [
    {
     "data": {
      "text/latex": [
       "$1 \\; \\mathrm{mT}$"
      ],
      "text/plain": [
       "<Quantity 1. mT>"
      ]
     },
     "execution_count": 10,
     "metadata": {},
     "output_type": "execute_result"
    }
   ],
   "source": [
    "B = 1e-3 * u.T\n",
    "B.to(\"mT\")"
   ]
  },
  {
   "cell_type": "code",
   "execution_count": 11,
   "id": "e726ba42-d4fb-4519-aa66-28bd606c2442",
   "metadata": {},
   "outputs": [
    {
     "data": {
      "text/latex": [
       "$300 \\; \\mathrm{\\frac{kA}{m}}$"
      ],
      "text/plain": [
       "<Quantity 300. kA / m>"
      ]
     },
     "execution_count": 11,
     "metadata": {},
     "output_type": "execute_result"
    }
   ],
   "source": [
    "M = 300 * u.kA / u.m  # we can directly use the prefix when creating the quantity\n",
    "M"
   ]
  },
  {
   "cell_type": "code",
   "execution_count": 12,
   "id": "a3de97d5-acd5-4f0e-bbf1-63ea14ccefa5",
   "metadata": {},
   "outputs": [
    {
     "data": {
      "text/latex": [
       "$300000 \\; \\mathrm{\\frac{A}{m}}$"
      ],
      "text/plain": [
       "<Quantity 300000. A / m>"
      ]
     },
     "execution_count": 12,
     "metadata": {},
     "output_type": "execute_result"
    }
   ],
   "source": [
    "M.to(u.A / u.m)"
   ]
  },
  {
   "cell_type": "markdown",
   "id": "648f5972-b333-405d-9130-bd01cec93e07",
   "metadata": {},
   "source": [
    "Similarly, we can convert between SI and cgs:"
   ]
  },
  {
   "cell_type": "code",
   "execution_count": 13,
   "id": "67f232a3-b0e0-4085-9e2a-9db404807d8b",
   "metadata": {},
   "outputs": [
    {
     "data": {
      "text/latex": [
       "$10 \\; \\mathrm{G}$"
      ],
      "text/plain": [
       "<Quantity 10. G>"
      ]
     },
     "execution_count": 13,
     "metadata": {},
     "output_type": "execute_result"
    }
   ],
   "source": [
    "B.to(u.gauss)"
   ]
  },
  {
   "cell_type": "code",
   "execution_count": 14,
   "id": "c6e688ac-2799-4de2-91d9-256013480f07",
   "metadata": {},
   "outputs": [
    {
     "data": {
      "text/latex": [
       "$3769.9112 \\; \\mathrm{Oe}$"
      ],
      "text/plain": [
       "<Quantity 3769.91118431 Oe>"
      ]
     },
     "execution_count": 14,
     "metadata": {},
     "output_type": "execute_result"
    }
   ],
   "source": [
    "M.to(\"Oe\")"
   ]
  },
  {
   "cell_type": "markdown",
   "id": "723db623-6840-4f83-8630-23b6b5a33f2f",
   "metadata": {},
   "source": [
    "## Equivalencies\n",
    "\n",
    "Equivalencies can be used to convert between incompatible units, which are uniquely related in a given context. Equivalencies must be explicitely turned on to allow conversion between otherwise incompatible units.\n",
    "\n",
    "In the magnetics context magnetic field strength $H$ and magnetic induction $B$ are often used interchangably using the relation $B = μ_0H$. We can activate this equivalency for the rest of the notebook using the following command:"
   ]
  },
  {
   "cell_type": "code",
   "execution_count": 15,
   "id": "51e55c02-e338-48e2-afa4-39272122a295",
   "metadata": {},
   "outputs": [
    {
     "data": {
      "text/plain": [
       "<astropy.units.core._UnitContext at 0x7f96c5f8bc50>"
      ]
     },
     "execution_count": 15,
     "metadata": {},
     "output_type": "execute_result"
    }
   ],
   "source": [
    "u.set_enabled_equivalencies(u.magnetic_flux_field())"
   ]
  },
  {
   "cell_type": "markdown",
   "id": "9df0d34a-1887-4670-bb44-ef3ae0f47485",
   "metadata": {},
   "source": [
    "Now we can convert between Tesla and Ampere/meter:"
   ]
  },
  {
   "cell_type": "code",
   "execution_count": 16,
   "id": "2755e96f-65b6-4db6-9a19-beb3d6b9c120",
   "metadata": {},
   "outputs": [
    {
     "data": {
      "text/latex": [
       "$0.001 \\; \\mathrm{T}$"
      ],
      "text/plain": [
       "<Quantity 0.001 T>"
      ]
     },
     "execution_count": 16,
     "metadata": {},
     "output_type": "execute_result"
    }
   ],
   "source": [
    "B"
   ]
  },
  {
   "cell_type": "code",
   "execution_count": 17,
   "id": "88869f60-e8b8-4443-930e-06172c19a4ab",
   "metadata": {},
   "outputs": [
    {
     "data": {
      "text/latex": [
       "$795.77472 \\; \\mathrm{\\frac{A}{m}}$"
      ],
      "text/plain": [
       "<Quantity 795.77471503 A / m>"
      ]
     },
     "execution_count": 17,
     "metadata": {},
     "output_type": "execute_result"
    }
   ],
   "source": [
    "B.to(\"A/m\")"
   ]
  },
  {
   "cell_type": "markdown",
   "id": "cb3995a6-f166-44c8-b521-10f3d5f0d804",
   "metadata": {},
   "source": [
    "To disable the equivalency we need to run the following command:"
   ]
  },
  {
   "cell_type": "code",
   "execution_count": 18,
   "id": "d7bf6d9d-bbb4-462b-9551-d25ec77455bc",
   "metadata": {
    "editable": true,
    "slideshow": {
     "slide_type": ""
    },
    "tags": []
   },
   "outputs": [
    {
     "data": {
      "text/plain": [
       "<astropy.units.core._UnitContext at 0x7f96c5fe3360>"
      ]
     },
     "execution_count": 18,
     "metadata": {},
     "output_type": "execute_result"
    }
   ],
   "source": [
    "u.set_enabled_equivalencies(None)"
   ]
  },
  {
   "cell_type": "markdown",
   "id": "530db4fe-3246-4d00-9a51-ee77e8d05398",
   "metadata": {
    "editable": true,
    "slideshow": {
     "slide_type": ""
    },
    "tags": []
   },
   "source": [
    "After disabling the equivalency, the conversion between Tesla and Ampere/meter is no longer possible:"
   ]
  },
  {
   "cell_type": "code",
   "execution_count": 19,
   "id": "d0d62718-237c-409e-9144-91726f14392a",
   "metadata": {
    "editable": true,
    "slideshow": {
     "slide_type": ""
    },
    "tags": [
     "raises-exception"
    ]
   },
   "outputs": [
    {
     "ename": "UnitConversionError",
     "evalue": "'T' (magnetic flux density) and 'A / m' (magnetic field strength) are not convertible",
     "output_type": "error",
     "traceback": [
      "\u001b[31m---------------------------------------------------------------------------\u001b[39m",
      "\u001b[31mUnitConversionError\u001b[39m                       Traceback (most recent call last)",
      "\u001b[36mCell\u001b[39m\u001b[36m \u001b[39m\u001b[32mIn[19]\u001b[39m\u001b[32m, line 1\u001b[39m\n\u001b[32m----> \u001b[39m\u001b[32m1\u001b[39m \u001b[43mB\u001b[49m\u001b[43m.\u001b[49m\u001b[43mto\u001b[49m\u001b[43m(\u001b[49m\u001b[33;43m\"\u001b[39;49m\u001b[33;43mA/m\u001b[39;49m\u001b[33;43m\"\u001b[39;49m\u001b[43m)\u001b[49m\n",
      "\u001b[36mFile \u001b[39m\u001b[32m~/repos/mammos/mammos-units/.pixi/envs/default/lib/python3.13/site-packages/astropy/units/quantity.py:931\u001b[39m, in \u001b[36mQuantity.to\u001b[39m\u001b[34m(self, unit, equivalencies, copy)\u001b[39m\n\u001b[32m    927\u001b[39m unit = Unit(unit)\n\u001b[32m    928\u001b[39m \u001b[38;5;28;01mif\u001b[39;00m copy:\n\u001b[32m    929\u001b[39m     \u001b[38;5;66;03m# Avoid using to_value to ensure that we make a copy. We also\u001b[39;00m\n\u001b[32m    930\u001b[39m     \u001b[38;5;66;03m# don't want to slow down this method (esp. the scalar case).\u001b[39;00m\n\u001b[32m--> \u001b[39m\u001b[32m931\u001b[39m     value = \u001b[38;5;28;43mself\u001b[39;49m\u001b[43m.\u001b[49m\u001b[43m_to_value\u001b[49m\u001b[43m(\u001b[49m\u001b[43munit\u001b[49m\u001b[43m,\u001b[49m\u001b[43m \u001b[49m\u001b[43mequivalencies\u001b[49m\u001b[43m)\u001b[49m\n\u001b[32m    932\u001b[39m \u001b[38;5;28;01melse\u001b[39;00m:\n\u001b[32m    933\u001b[39m     \u001b[38;5;66;03m# to_value only copies if necessary\u001b[39;00m\n\u001b[32m    934\u001b[39m     value = \u001b[38;5;28mself\u001b[39m.to_value(unit, equivalencies)\n",
      "\u001b[36mFile \u001b[39m\u001b[32m~/repos/mammos/mammos-units/.pixi/envs/default/lib/python3.13/site-packages/astropy/units/quantity.py:884\u001b[39m, in \u001b[36mQuantity._to_value\u001b[39m\u001b[34m(self, unit, equivalencies)\u001b[39m\n\u001b[32m    881\u001b[39m     equivalencies = \u001b[38;5;28mself\u001b[39m._equivalencies\n\u001b[32m    882\u001b[39m \u001b[38;5;28;01mif\u001b[39;00m \u001b[38;5;129;01mnot\u001b[39;00m \u001b[38;5;28mself\u001b[39m.dtype.names \u001b[38;5;129;01mor\u001b[39;00m \u001b[38;5;28misinstance\u001b[39m(\u001b[38;5;28mself\u001b[39m.unit, StructuredUnit):\n\u001b[32m    883\u001b[39m     \u001b[38;5;66;03m# Standard path, let unit to do work.\u001b[39;00m\n\u001b[32m--> \u001b[39m\u001b[32m884\u001b[39m     \u001b[38;5;28;01mreturn\u001b[39;00m \u001b[38;5;28;43mself\u001b[39;49m\u001b[43m.\u001b[49m\u001b[43munit\u001b[49m\u001b[43m.\u001b[49m\u001b[43mto\u001b[49m\u001b[43m(\u001b[49m\n\u001b[32m    885\u001b[39m \u001b[43m        \u001b[49m\u001b[43munit\u001b[49m\u001b[43m,\u001b[49m\u001b[43m \u001b[49m\u001b[38;5;28;43mself\u001b[39;49m\u001b[43m.\u001b[49m\u001b[43mview\u001b[49m\u001b[43m(\u001b[49m\u001b[43mnp\u001b[49m\u001b[43m.\u001b[49m\u001b[43mndarray\u001b[49m\u001b[43m)\u001b[49m\u001b[43m,\u001b[49m\u001b[43m \u001b[49m\u001b[43mequivalencies\u001b[49m\u001b[43m=\u001b[49m\u001b[43mequivalencies\u001b[49m\n\u001b[32m    886\u001b[39m \u001b[43m    \u001b[49m\u001b[43m)\u001b[49m\n\u001b[32m    888\u001b[39m \u001b[38;5;28;01melse\u001b[39;00m:\n\u001b[32m    889\u001b[39m     \u001b[38;5;66;03m# The .to() method of a simple unit cannot convert a structured\u001b[39;00m\n\u001b[32m    890\u001b[39m     \u001b[38;5;66;03m# dtype, so we work around it, by recursing.\u001b[39;00m\n\u001b[32m    891\u001b[39m     \u001b[38;5;66;03m# TODO: deprecate this?\u001b[39;00m\n\u001b[32m    892\u001b[39m     \u001b[38;5;66;03m# Convert simple to Structured on initialization?\u001b[39;00m\n\u001b[32m    893\u001b[39m     result = np.empty_like(\u001b[38;5;28mself\u001b[39m.view(np.ndarray))\n",
      "\u001b[36mFile \u001b[39m\u001b[32m~/repos/mammos/mammos-units/.pixi/envs/default/lib/python3.13/site-packages/astropy/units/core.py:1208\u001b[39m, in \u001b[36mUnitBase.to\u001b[39m\u001b[34m(self, other, value, equivalencies)\u001b[39m\n\u001b[32m   1206\u001b[39m     \u001b[38;5;28;01mreturn\u001b[39;00m UNITY\n\u001b[32m   1207\u001b[39m \u001b[38;5;28;01melse\u001b[39;00m:\n\u001b[32m-> \u001b[39m\u001b[32m1208\u001b[39m     \u001b[38;5;28;01mreturn\u001b[39;00m \u001b[38;5;28;43mself\u001b[39;49m\u001b[43m.\u001b[49m\u001b[43mget_converter\u001b[49m\u001b[43m(\u001b[49m\u001b[43mUnit\u001b[49m\u001b[43m(\u001b[49m\u001b[43mother\u001b[49m\u001b[43m)\u001b[49m\u001b[43m,\u001b[49m\u001b[43m \u001b[49m\u001b[43mequivalencies\u001b[49m\u001b[43m)\u001b[49m(value)\n",
      "\u001b[36mFile \u001b[39m\u001b[32m~/repos/mammos/mammos-units/.pixi/envs/default/lib/python3.13/site-packages/astropy/units/core.py:1137\u001b[39m, in \u001b[36mUnitBase.get_converter\u001b[39m\u001b[34m(self, other, equivalencies)\u001b[39m\n\u001b[32m   1134\u001b[39m             \u001b[38;5;28;01melse\u001b[39;00m:\n\u001b[32m   1135\u001b[39m                 \u001b[38;5;28;01mreturn\u001b[39;00m \u001b[38;5;28;01mlambda\u001b[39;00m v: b(converter(v))\n\u001b[32m-> \u001b[39m\u001b[32m1137\u001b[39m \u001b[38;5;28;01mraise\u001b[39;00m exc\n",
      "\u001b[36mFile \u001b[39m\u001b[32m~/repos/mammos/mammos-units/.pixi/envs/default/lib/python3.13/site-packages/astropy/units/core.py:1120\u001b[39m, in \u001b[36mUnitBase.get_converter\u001b[39m\u001b[34m(self, other, equivalencies)\u001b[39m\n\u001b[32m   1118\u001b[39m \u001b[38;5;66;03m# if that doesn't work, maybe we can do it with equivalencies?\u001b[39;00m\n\u001b[32m   1119\u001b[39m \u001b[38;5;28;01mtry\u001b[39;00m:\n\u001b[32m-> \u001b[39m\u001b[32m1120\u001b[39m     \u001b[38;5;28;01mreturn\u001b[39;00m \u001b[38;5;28;43mself\u001b[39;49m\u001b[43m.\u001b[49m\u001b[43m_apply_equivalencies\u001b[49m\u001b[43m(\u001b[49m\n\u001b[32m   1121\u001b[39m \u001b[43m        \u001b[49m\u001b[38;5;28;43mself\u001b[39;49m\u001b[43m,\u001b[49m\u001b[43m \u001b[49m\u001b[43mother\u001b[49m\u001b[43m,\u001b[49m\u001b[43m \u001b[49m\u001b[38;5;28;43mself\u001b[39;49m\u001b[43m.\u001b[49m\u001b[43m_normalize_equivalencies\u001b[49m\u001b[43m(\u001b[49m\u001b[43mequivalencies\u001b[49m\u001b[43m)\u001b[49m\n\u001b[32m   1122\u001b[39m \u001b[43m    \u001b[49m\u001b[43m)\u001b[49m\n\u001b[32m   1123\u001b[39m \u001b[38;5;28;01mexcept\u001b[39;00m UnitsError \u001b[38;5;28;01mas\u001b[39;00m exc:\n\u001b[32m   1124\u001b[39m     \u001b[38;5;66;03m# Last hope: maybe other knows how to do it?\u001b[39;00m\n\u001b[32m   1125\u001b[39m     \u001b[38;5;66;03m# We assume the equivalencies have the unit itself as first item.\u001b[39;00m\n\u001b[32m   1126\u001b[39m     \u001b[38;5;66;03m# TODO: maybe better for other to have a `_back_converter` method?\u001b[39;00m\n\u001b[32m   1127\u001b[39m     \u001b[38;5;28;01mif\u001b[39;00m \u001b[38;5;28mhasattr\u001b[39m(other, \u001b[33m\"\u001b[39m\u001b[33mequivalencies\u001b[39m\u001b[33m\"\u001b[39m):\n",
      "\u001b[36mFile \u001b[39m\u001b[32m~/repos/mammos/mammos-units/.pixi/envs/default/lib/python3.13/site-packages/astropy/units/core.py:1071\u001b[39m, in \u001b[36mUnitBase._apply_equivalencies\u001b[39m\u001b[34m(self, unit, other, equivalencies)\u001b[39m\n\u001b[32m   1068\u001b[39m unit_str = get_err_str(unit)\n\u001b[32m   1069\u001b[39m other_str = get_err_str(other)\n\u001b[32m-> \u001b[39m\u001b[32m1071\u001b[39m \u001b[38;5;28;01mraise\u001b[39;00m UnitConversionError(\u001b[33mf\u001b[39m\u001b[33m\"\u001b[39m\u001b[38;5;132;01m{\u001b[39;00munit_str\u001b[38;5;132;01m}\u001b[39;00m\u001b[33m and \u001b[39m\u001b[38;5;132;01m{\u001b[39;00mother_str\u001b[38;5;132;01m}\u001b[39;00m\u001b[33m are not convertible\u001b[39m\u001b[33m\"\u001b[39m)\n",
      "\u001b[31mUnitConversionError\u001b[39m: 'T' (magnetic flux density) and 'A / m' (magnetic field strength) are not convertible"
     ]
    }
   ],
   "source": [
    "B.to(\"A/m\")"
   ]
  }
 ],
 "metadata": {
  "kernelspec": {
   "display_name": "Python 3 (ipykernel)",
   "language": "python",
   "name": "python3"
  },
  "language_info": {
   "codemirror_mode": {
    "name": "ipython",
    "version": 3
   },
   "file_extension": ".py",
   "mimetype": "text/x-python",
   "name": "python",
   "nbconvert_exporter": "python",
   "pygments_lexer": "ipython3",
   "version": "3.13.3"
  }
 },
 "nbformat": 4,
 "nbformat_minor": 5
}
