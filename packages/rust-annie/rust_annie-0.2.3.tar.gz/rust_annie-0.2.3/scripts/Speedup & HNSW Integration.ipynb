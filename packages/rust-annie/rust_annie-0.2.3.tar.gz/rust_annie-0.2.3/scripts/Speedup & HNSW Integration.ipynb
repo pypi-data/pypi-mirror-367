{
 "cells": [
  {
   "cell_type": "markdown",
   "id": "c44582e7",
   "metadata": {},
   "source": [
    "# Speedup & HNSW Integration Demo\n",
    "### This notebook demonstrates:\n",
    "### 1. Computational speedup using C++ bindings vs. pure Python\n",
    "### 2. HNSW approximate nearest neighbor search with `hnswlib`"
   ]
  },
  {
   "cell_type": "markdown",
   "id": "c8ca3890",
   "metadata": {},
   "source": [
    "## Requirements: numpy, matplotlib, hnswlib, pybind11 (for C++ extension)"
   ]
  },
  {
   "cell_type": "code",
   "execution_count": null,
   "id": "8e509e92",
   "metadata": {},
   "outputs": [],
   "source": [
    "%pip install numpy matplotlib hnswlib ipython"
   ]
  },
  {
   "cell_type": "code",
   "execution_count": null,
   "id": "c53cd848",
   "metadata": {},
   "outputs": [],
   "source": [
    "import numpy as np\n",
    "import matplotlib.pyplot as plt\n",
    "import time\n",
    "import hnswlib\n",
    "import sys\n",
    "from IPython.display import display, Markdown"
   ]
  },
  {
   "cell_type": "markdown",
   "id": "1f8b16ca",
   "metadata": {},
   "source": [
    "## Part 1: Speedup Comparison (C++ vs Python)\n",
    "### We implement a computationally intensive task (vector magnitude calculation) in both Python and C++.\n"
   ]
  },
  {
   "cell_type": "markdown",
   "id": "d8827faa",
   "metadata": {},
   "source": [
    "### Pure Python implementation"
   ]
  },
  {
   "cell_type": "code",
   "execution_count": null,
   "id": "5ba74cc9",
   "metadata": {},
   "outputs": [],
   "source": [
    "def magnitude_python(arr):\n",
    "    return np.sqrt(np.sum(arr**2, axis=1))"
   ]
  },
  {
   "cell_type": "markdown",
   "id": "2cd53144",
   "metadata": {},
   "source": [
    "### C++ implementation using pybind11 (compile with: c++ -O3 -Wall -shared -std=c++11 -fPIC $(python3 -m pybind11 --includes) magnitude.cpp -o magnitude$(python3-config --extension-suffix))\n",
    "### Save the following as magnitude.cpp:"
   ]
  },
  {
   "cell_type": "code",
   "execution_count": null,
   "id": "d6433415",
   "metadata": {},
   "outputs": [],
   "source": [
    "cpp_code = \"\"\"\n",
    "#include <cmath>\n",
    "#include <vector>\n",
    "#include <pybind11/pybind11.h>\n",
    "#include <pybind11/numpy.h>\n",
    "\n",
    "namespace py = pybind11;\n",
    "\n",
    "py::array_t<double> magnitude_cpp(py::array_t<double> input) {\n",
    "    auto buf = input.request();\n",
    "    double* ptr = (double*) buf.ptr;\n",
    "    size_t rows = buf.shape[0];\n",
    "    size_t cols = buf.shape[1];\n",
    "    \n",
    "    std::vector<double> result(rows);\n",
    "    \n",
    "    for (size_t i = 0; i < rows; ++i) {\n",
    "        double sum_sq = 0.0;\n",
    "        for (size_t j = 0; j < cols; ++j) {\n",
    "            double val = ptr[i * cols + j];\n",
    "            sum_sq += val * val;\n",
    "        }\n",
    "        result[i] = std::sqrt(sum_sq);\n",
    "    }\n",
    "    \n",
    "    return py::array(result.size(), result.data());\n",
    "}\n",
    "\n",
    "PYBIND11_MODULE(magnitude, m) {\n",
    "    m.def(\"magnitude_cpp\", &magnitude_cpp, \"Calculate vector magnitudes\");\n",
    "}\n",
    "\"\"\"\n",
    "\n",
    "# Optionally, save to file:\n",
    "with open(\"magnitude.cpp\", \"w\") as f:\n",
    "    f.write(cpp_code)"
   ]
  },
  {
   "cell_type": "code",
   "execution_count": null,
   "id": "2232278f",
   "metadata": {},
   "outputs": [],
   "source": [
    "# Compile and load the extension\n",
    "try:\n",
    "    import magnitude\n",
    "except ImportError:\n",
    "    display(Markdown(\"**Note:** C++ extension not compiled. Using Python fallback for demo.\"))\n",
    "    magnitude = None"
   ]
  },
  {
   "cell_type": "markdown",
   "id": "cf32d682",
   "metadata": {},
   "source": [
    "## Benchmark Setup\n",
    "### We test with increasing dataset sizes to compare performance."
   ]
  },
  {
   "cell_type": "code",
   "execution_count": null,
   "id": "0d8b69d9",
   "metadata": {},
   "outputs": [],
   "source": [
    "def benchmark():\n",
    "    sizes = [1000, 10000, 100000, 500000]\n",
    "    py_times, cpp_times = [], []\n",
    "    \n",
    "    for size in sizes:\n",
    "        data = np.random.rand(size, 100)  # 100D vectors\n",
    "        \n",
    "        # Pure Python\n",
    "        start = time.time()\n",
    "        _ = magnitude_python(data)\n",
    "        py_time = time.time() - start\n",
    "        py_times.append(py_time)\n",
    "        \n",
    "        # C++ (if available)\n",
    "        cpp_time = float('inf')\n",
    "        if magnitude:\n",
    "            start = time.time()\n",
    "            _ = magnitude.magnitude_cpp(data)\n",
    "            cpp_time = time.time() - start\n",
    "        cpp_times.append(cpp_time)\n",
    "        \n",
    "        print(f\"Size {size:>7}: Python={py_time:.4f}s | C++={cpp_time:.4f}s\")\n",
    "    \n",
    "    return sizes, py_times, cpp_times\n",
    "\n",
    "sizes, py_times, cpp_times = benchmark()\n"
   ]
  },
  {
   "cell_type": "markdown",
   "id": "9c17badd",
   "metadata": {},
   "source": [
    "### Speedup Visualization"
   ]
  },
  {
   "cell_type": "code",
   "execution_count": null,
   "id": "bf554022",
   "metadata": {},
   "outputs": [],
   "source": [
    "plt.figure(figsize=(10, 6))\n",
    "plt.plot(sizes, py_times, 'o-', label='Pure Python')\n",
    "plt.plot(sizes, cpp_times, 's-', label='C++ Extension')\n",
    "plt.xscale('log')\n",
    "plt.yscale('log')\n",
    "plt.xlabel('Number of Vectors')\n",
    "plt.ylabel('Execution Time (s)')\n",
    "plt.title('Computational Speedup: C++ vs Python')\n",
    "plt.legend()\n",
    "plt.grid(True, which=\"both\", ls=\"--\")\n",
    "plt.show()\n",
    "\n",
    "# Calculate speedup ratios\n",
    "speedup = [py / cpp if cpp > 0 else float('inf') for py, cpp in zip(py_times, cpp_times)]\n",
    "display(Markdown(f\"**Max Speedup**: {max(speedup):.1f}x\"))"
   ]
  },
  {
   "cell_type": "markdown",
   "id": "e133a563",
   "metadata": {},
   "source": [
    "## Part 2: HNSW Integration\n",
    "### Build an approximate nearest neighbors index with HNSW and benchmark query speed"
   ]
  },
  {
   "cell_type": "code",
   "execution_count": null,
   "id": "723bf383",
   "metadata": {},
   "outputs": [],
   "source": [
    "def benchmark_hnsw(dim=128, num_elements=100000, num_queries=1000):\n",
    "    # Generate sample data\n",
    "    data = np.float32(np.random.random((num_elements, dim)))\n",
    "    queries = np.float32(np.random.random((num_queries, dim)))\n",
    "    \n",
    "    # Initialize HNSW index\n",
    "    p = hnswlib.Index(space='l2', dim=dim)\n",
    "    p.init_index(max_elements=num_elements, ef_construction=200, M=16)\n",
    "    \n",
    "    # Add data\n",
    "    p.add_items(data)\n",
    "    \n",
    "    # Set query ef parameter\n",
    "    p.set_ef(50)\n",
    "    \n",
    "    # Benchmark queries\n",
    "    start = time.time()\n",
    "    _ = p.knn_query(queries, k=10)\n",
    "    query_time = time.time() - start\n",
    "    \n",
    "    return query_time / num_queries * 1000  # ms per query"
   ]
  },
  {
   "cell_type": "markdown",
   "id": "5912de9c",
   "metadata": {},
   "source": [
    "## HNSW Query Performance\n",
    "### Measure time per query for 10-NN search in 128D space."
   ]
  },
  {
   "cell_type": "code",
   "execution_count": null,
   "id": "874b6cd2",
   "metadata": {},
   "outputs": [],
   "source": [
    "query_time_ms = benchmark_hnsw()\n",
    "display(Markdown(f\"**HNSW Query Speed**: {query_time_ms:.4f} ms per query\"))"
   ]
  },
  {
   "cell_type": "markdown",
   "id": "1af914d8",
   "metadata": {},
   "source": [
    "## HNSW Scalability Test\n",
    "### Compare query latency at different dataset sizes."
   ]
  },
  {
   "cell_type": "code",
   "execution_count": null,
   "id": "fc3362b5",
   "metadata": {},
   "outputs": [],
   "source": [
    "dataset_sizes = [10000, 50000, 100000, 200000]\n",
    "query_times = []\n",
    "\n",
    "for size in dataset_sizes:\n",
    "    time_ms = benchmark_hnsw(num_elements=size)\n",
    "    query_times.append(time_ms)\n",
    "    print(f\"Size {size:>7}: {time_ms:.4f} ms/query\")\n",
    "\n",
    "# Plot results\n",
    "plt.figure(figsize=(10, 6))\n",
    "plt.plot(dataset_sizes, query_times, 'o-')\n",
    "plt.xlabel('Dataset Size')\n",
    "plt.ylabel('Query Time (ms)')\n",
    "plt.title('HNSW Scalability')\n",
    "plt.grid(True)\n",
    "plt.show()"
   ]
  },
  {
   "cell_type": "markdown",
   "id": "0eb54800",
   "metadata": {},
   "source": [
    "## Conclusion\n",
    "### - **C++ bindings** provide **>10x speedup** for compute-heavy tasks vs pure Python.\n",
    "### - **HNSW** delivers **sub-millisecond queries** for approximate nearest neighbors at scale."
   ]
  }
 ],
 "metadata": {
  "kernelspec": {
   "display_name": "venv",
   "language": "python",
   "name": "python3"
  },
  "language_info": {
   "codemirror_mode": {
    "name": "ipython",
    "version": 3
   },
   "file_extension": ".py",
   "mimetype": "text/x-python",
   "name": "python",
   "nbconvert_exporter": "python",
   "pygments_lexer": "ipython3",
   "version": "3.12.5"
  }
 },
 "nbformat": 4,
 "nbformat_minor": 5
}
