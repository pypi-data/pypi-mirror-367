{
 "cells": [
  {
   "cell_type": "markdown",
   "id": "0",
   "metadata": {},
   "source": [
    "# xdggs example to prepare H3 dataset"
   ]
  },
  {
   "cell_type": "code",
   "execution_count": null,
   "id": "1",
   "metadata": {},
   "outputs": [],
   "source": [
    "import h3\n",
    "import h3.api.numpy_int\n",
    "import h3.unstable.vect\n",
    "import numpy as np\n",
    "import xarray as xr"
   ]
  },
  {
   "cell_type": "code",
   "execution_count": null,
   "id": "2",
   "metadata": {},
   "outputs": [],
   "source": [
    "ds = xr.tutorial.load_dataset(\"air_temperature\").load()\n",
    "ds"
   ]
  },
  {
   "cell_type": "code",
   "execution_count": null,
   "id": "3",
   "metadata": {},
   "outputs": [],
   "source": [
    "ds.air[0].plot()"
   ]
  },
  {
   "cell_type": "code",
   "execution_count": null,
   "id": "4",
   "metadata": {},
   "outputs": [],
   "source": [
    "resolution = 3\n",
    "\n",
    "lon, lat = xr.broadcast(ds.lon, ds.lat)"
   ]
  },
  {
   "cell_type": "code",
   "execution_count": null,
   "id": "5",
   "metadata": {},
   "outputs": [],
   "source": [
    "%%time\n",
    "index = h3.unstable.vect.geo_to_h3(lat.data.ravel(), lon.data.ravel(), resolution)"
   ]
  },
  {
   "cell_type": "code",
   "execution_count": null,
   "id": "6",
   "metadata": {},
   "outputs": [],
   "source": [
    "index.shape = lon.shape\n",
    "\n",
    "len(np.unique(index)) / lon.size"
   ]
  },
  {
   "cell_type": "code",
   "execution_count": null,
   "id": "7",
   "metadata": {},
   "outputs": [],
   "source": [
    "index.shape"
   ]
  },
  {
   "cell_type": "code",
   "execution_count": null,
   "id": "8",
   "metadata": {},
   "outputs": [],
   "source": [
    "ds.lon.shape"
   ]
  },
  {
   "cell_type": "code",
   "execution_count": null,
   "id": "9",
   "metadata": {},
   "outputs": [],
   "source": [
    "ds.coords[\"index\"] = (\"lat\", \"lon\"), index.transpose()\n",
    "ds"
   ]
  },
  {
   "cell_type": "code",
   "execution_count": null,
   "id": "10",
   "metadata": {},
   "outputs": [],
   "source": [
    "ds.index.plot()"
   ]
  },
  {
   "cell_type": "code",
   "execution_count": null,
   "id": "11",
   "metadata": {},
   "outputs": [],
   "source": [
    "lon_min, lon_max = ds.lon.min().values.item(), ds.lon.max().values.item()\n",
    "lat_min, lat_max = ds.lat.min().values.item(), ds.lat.max().values.item()"
   ]
  },
  {
   "cell_type": "code",
   "execution_count": null,
   "id": "12",
   "metadata": {},
   "outputs": [],
   "source": [
    "import shapely\n",
    "\n",
    "bbox_coords = [\n",
    "    (lon_min - 360, lat_min),\n",
    "    (lon_min - 360, lat_max),\n",
    "    (lon_max - 360, lat_max),\n",
    "    (lon_max - 360, lat_min),\n",
    "    (lon_min - 360, lat_min),\n",
    "]\n",
    "bbox = shapely.Polygon(bbox_coords)\n",
    "bbox"
   ]
  },
  {
   "cell_type": "code",
   "execution_count": null,
   "id": "13",
   "metadata": {},
   "outputs": [],
   "source": [
    "bbox_coords"
   ]
  },
  {
   "cell_type": "code",
   "execution_count": null,
   "id": "14",
   "metadata": {},
   "outputs": [],
   "source": [
    "# h3 wants lat first\n",
    "bbox_coords_lat_first = [(lat, lon) for lon, lat in bbox_coords]\n",
    "bbox_indexes = np.array(\n",
    "    list(h3.api.basic_int.polyfill_polygon(bbox_coords_lat_first, resolution))\n",
    ")\n",
    "bbox_indexes.shape"
   ]
  },
  {
   "cell_type": "code",
   "execution_count": null,
   "id": "15",
   "metadata": {},
   "outputs": [],
   "source": [
    "ll_points = np.array([h3.api.numpy_int.h3_to_geo(i) for i in bbox_indexes])\n",
    "ll_points_lon_first = ll_points[:, ::-1]"
   ]
  },
  {
   "cell_type": "code",
   "execution_count": null,
   "id": "16",
   "metadata": {},
   "outputs": [],
   "source": [
    "coords = {\"cell_ids\": bbox_indexes}\n",
    "\n",
    "# remember to re-add the 360 degree offset\n",
    "dsi = ds.interp(\n",
    "    lon=xr.DataArray(ll_points_lon_first[:, 0] + 360, dims=\"cell_ids\", coords=coords),\n",
    "    lat=xr.DataArray(ll_points_lon_first[:, 1], dims=\"cell_ids\", coords=coords),\n",
    ")\n",
    "dsi"
   ]
  },
  {
   "cell_type": "code",
   "execution_count": null,
   "id": "17",
   "metadata": {},
   "outputs": [],
   "source": [
    "dsi2 = dsi.drop_vars([\"lon\", \"lat\", \"index\"])\n",
    "dsi2.cell_ids.attrs = {\"grid_name\": \"h3\", \"resolution\": resolution}\n",
    "dsi2.to_netcdf(\"data/h3.nc\", mode=\"w\")\n",
    "dsi2"
   ]
  },
  {
   "cell_type": "code",
   "execution_count": null,
   "id": "18",
   "metadata": {},
   "outputs": [],
   "source": []
  }
 ],
 "metadata": {
  "language_info": {
   "codemirror_mode": {
    "name": "ipython",
    "version": 3
   },
   "file_extension": ".py",
   "mimetype": "text/x-python",
   "name": "python",
   "nbconvert_exporter": "python",
   "pygments_lexer": "ipython3",
   "version": "3.11.6"
  }
 },
 "nbformat": 4,
 "nbformat_minor": 5
}
