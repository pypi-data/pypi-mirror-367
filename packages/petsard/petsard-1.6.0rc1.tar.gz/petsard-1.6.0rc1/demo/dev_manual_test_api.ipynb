{
 "cells": [
  {
   "cell_type": "markdown",
   "id": "918b0dc6",
   "metadata": {},
   "source": [
    "## Loader - Benchmark"
   ]
  },
  {
   "cell_type": "code",
   "execution_count": 1,
   "id": "b92d2515",
   "metadata": {},
   "outputs": [
    {
     "name": "stdout",
     "output_type": "stream",
     "text": [
      "data: <class 'pandas.core.frame.DataFrame'>, meta: <class 'petsard.metadater.schema.schema_types.SchemaMetadata'>\n"
     ]
    }
   ],
   "source": [
    "from petsard.loader import Loader\n",
    "\n",
    "load = Loader(filepath=\"benchmark://adult-income\")\n",
    "data, meta = load.load()\n",
    "print(f\"data: {type(data)}, meta: {type(meta)}\")"
   ]
  },
  {
   "cell_type": "markdown",
   "id": "8f260cc1",
   "metadata": {},
   "source": [
    "# Loader - Load from csv"
   ]
  },
  {
   "cell_type": "code",
   "execution_count": 2,
   "id": "be112b79",
   "metadata": {},
   "outputs": [
    {
     "name": "stdout",
     "output_type": "stream",
     "text": [
      "data: <class 'pandas.core.frame.DataFrame'>, meta: <class 'petsard.metadater.schema.schema_types.SchemaMetadata'>\n"
     ]
    }
   ],
   "source": [
    "load = Loader(filepath=\"benchmark/adult-income.csv\")\n",
    "data, meta = load.load()\n",
    "print(f\"data: {type(data)}, meta: {type(meta)}\")"
   ]
  },
  {
   "cell_type": "markdown",
   "id": "31094cbd",
   "metadata": {},
   "source": [
    "# Just simplify"
   ]
  },
  {
   "cell_type": "code",
   "execution_count": 3,
   "id": "cc27d12a",
   "metadata": {},
   "outputs": [
    {
     "data": {
      "text/plain": [
       "(100, 15)"
      ]
     },
     "execution_count": 3,
     "metadata": {},
     "output_type": "execute_result"
    }
   ],
   "source": [
    "data = data.loc[0:99, :]\n",
    "data.shape"
   ]
  },
  {
   "cell_type": "markdown",
   "id": "9586539d",
   "metadata": {},
   "source": [
    "# Splitter"
   ]
  },
  {
   "cell_type": "code",
   "execution_count": 4,
   "id": "a77beb51",
   "metadata": {},
   "outputs": [
    {
     "name": "stdout",
     "output_type": "stream",
     "text": [
      "train_data: <class 'pandas.core.frame.DataFrame'>, test_data: <class 'pandas.core.frame.DataFrame'>\n",
      "train_data shape: (80, 15), test_data shape: (20, 15)\n"
     ]
    }
   ],
   "source": [
    "from petsard.loader import Splitter\n",
    "\n",
    "split = Splitter(num_samples=5, train_split_ratio=0.8)\n",
    "split_data, split_meta, exist_index = split.split(data=data)\n",
    "\n",
    "train_data = split_data[1][\"train\"]  # 第一次分割的訓練集\n",
    "test_data = split_data[1][\"validation\"]  # 第一次分割的測試集\n",
    "\n",
    "print(f\"train_data: {type(train_data)}, test_data: {type(test_data)}\")\n",
    "print(f\"train_data shape: {train_data.shape}, test_data shape: {test_data.shape}\")"
   ]
  },
  {
   "cell_type": "markdown",
   "id": "custom_data",
   "metadata": {},
   "source": [
    "## Splitter - custom_data"
   ]
  },
  {
   "cell_type": "code",
   "execution_count": 5,
   "id": "custom_split",
   "metadata": {},
   "outputs": [
    {
     "name": "stdout",
     "output_type": "stream",
     "text": [
      "train_data: <class 'pandas.core.frame.DataFrame'>, test_data: <class 'pandas.core.frame.DataFrame'>\n",
      "train_data shape: (151, 15), test_data shape: (9769, 15)\n"
     ]
    }
   ],
   "source": [
    "split = Splitter(\n",
    "    method=\"custom_data\",\n",
    "    filepath={\n",
    "        \"ori\": \"benchmark://adult-income_ori\",\n",
    "        \"control\": \"benchmark://adult-income_control\",\n",
    "    },\n",
    ")\n",
    "split_data, split_meta, exist_index = split.split()\n",
    "\n",
    "train_data = split_data[1][\"train\"]  # 第一次分割的訓練集\n",
    "test_data = split_data[1][\"validation\"]  # 第一次分割的測試集\n",
    "\n",
    "print(f\"train_data: {type(train_data)}, test_data: {type(test_data)}\")\n",
    "print(f\"train_data shape: {train_data.shape}, test_data shape: {test_data.shape}\")"
   ]
  },
  {
   "cell_type": "markdown",
   "id": "processor",
   "metadata": {},
   "source": [
    "# Processor (Pre-proc)"
   ]
  },
  {
   "cell_type": "code",
   "execution_count": 6,
   "id": "default_proc",
   "metadata": {},
   "outputs": [
    {
     "name": "stdout",
     "output_type": "stream",
     "text": [
      "default_preproc_data shape: (136, 15)\n"
     ]
    }
   ],
   "source": [
    "from petsard.processor import Processor\n",
    "\n",
    "default_proc = Processor(\n",
    "    metadata=meta,\n",
    ")\n",
    "\n",
    "default_proc.fit(data=train_data)\n",
    "\n",
    "default_preproc_data = default_proc.transform(data=train_data)\n",
    "print(f\"default_preproc_data shape: {default_preproc_data.shape}\")"
   ]
  },
  {
   "cell_type": "markdown",
   "id": "missing_only",
   "metadata": {},
   "source": [
    "## Processor - Missing only"
   ]
  },
  {
   "cell_type": "code",
   "execution_count": 7,
   "id": "missing_proc",
   "metadata": {},
   "outputs": [
    {
     "name": "stdout",
     "output_type": "stream",
     "text": [
      "preproc_data shape: (150, 15)\n"
     ]
    },
    {
     "data": {
      "text/plain": [
       "0    25\n",
       "1    38\n",
       "2    28\n",
       "3    44\n",
       "4    18\n",
       "5    34\n",
       "6    29\n",
       "7    24\n",
       "8    55\n",
       "9    36\n",
       "Name: age, dtype: int8"
      ]
     },
     "execution_count": 7,
     "metadata": {},
     "output_type": "execute_result"
    }
   ],
   "source": [
    "proc = Processor(\n",
    "    metadata=meta,\n",
    "    config={\n",
    "        \"missing\": {\n",
    "            \"age\": \"missing_mean\",\n",
    "        },\n",
    "    },\n",
    ")\n",
    "\n",
    "proc.fit(\n",
    "    data=train_data,\n",
    "    sequence=[\"missing\"],\n",
    ")\n",
    "\n",
    "preproc_data = proc.transform(data=train_data)\n",
    "print(f\"preproc_data shape: {preproc_data.shape}\")\n",
    "preproc_data[\"age\"].head(10)"
   ]
  },
  {
   "cell_type": "markdown",
   "id": "outlier_only",
   "metadata": {},
   "source": [
    "## Processor - Outlier only"
   ]
  },
  {
   "cell_type": "code",
   "execution_count": 8,
   "id": "outlier_proc",
   "metadata": {},
   "outputs": [
    {
     "name": "stdout",
     "output_type": "stream",
     "text": [
      "preproc_data shape: (137, 15)\n"
     ]
    },
    {
     "data": {
      "text/plain": [
       "0    25\n",
       "1    38\n",
       "2    28\n",
       "3    44\n",
       "4    18\n",
       "5    34\n",
       "6    29\n",
       "7    24\n",
       "8    36\n",
       "9    26\n",
       "Name: age, dtype: int8"
      ]
     },
     "execution_count": 8,
     "metadata": {},
     "output_type": "execute_result"
    }
   ],
   "source": [
    "proc = Processor(\n",
    "    metadata=meta,\n",
    "    config={\n",
    "        \"outlier\": {\n",
    "            \"age\": \"outlier_zscore\",\n",
    "        },\n",
    "    },\n",
    ")\n",
    "\n",
    "proc.fit(\n",
    "    data=train_data,\n",
    "    sequence=[\"outlier\"],\n",
    ")\n",
    "\n",
    "preproc_data = proc.transform(data=train_data)\n",
    "print(f\"preproc_data shape: {preproc_data.shape}\")\n",
    "preproc_data[\"age\"].head(10)"
   ]
  },
  {
   "cell_type": "markdown",
   "id": "encoder_only",
   "metadata": {},
   "source": [
    "## Processor - Encoder only"
   ]
  },
  {
   "cell_type": "code",
   "execution_count": 9,
   "id": "encoder_proc",
   "metadata": {},
   "outputs": [
    {
     "name": "stdout",
     "output_type": "stream",
     "text": [
      "preproc_data shape: (151, 20)\n"
     ]
    },
    {
     "data": {
      "text/html": [
       "<div>\n",
       "<style scoped>\n",
       "    .dataframe tbody tr th:only-of-type {\n",
       "        vertical-align: middle;\n",
       "    }\n",
       "\n",
       "    .dataframe tbody tr th {\n",
       "        vertical-align: top;\n",
       "    }\n",
       "\n",
       "    .dataframe thead th {\n",
       "        text-align: right;\n",
       "    }\n",
       "</style>\n",
       "<table border=\"1\" class=\"dataframe\">\n",
       "  <thead>\n",
       "    <tr style=\"text-align: right;\">\n",
       "      <th></th>\n",
       "      <th>workclass_Federal-gov</th>\n",
       "      <th>workclass_Local-gov</th>\n",
       "      <th>workclass_Private</th>\n",
       "      <th>workclass_Self-emp-inc</th>\n",
       "      <th>workclass_Self-emp-not-inc</th>\n",
       "      <th>workclass_State-gov</th>\n",
       "    </tr>\n",
       "  </thead>\n",
       "  <tbody>\n",
       "    <tr>\n",
       "      <th>0</th>\n",
       "      <td>0.0</td>\n",
       "      <td>0.0</td>\n",
       "      <td>1.0</td>\n",
       "      <td>0.0</td>\n",
       "      <td>0.0</td>\n",
       "      <td>0.0</td>\n",
       "    </tr>\n",
       "    <tr>\n",
       "      <th>1</th>\n",
       "      <td>0.0</td>\n",
       "      <td>0.0</td>\n",
       "      <td>1.0</td>\n",
       "      <td>0.0</td>\n",
       "      <td>0.0</td>\n",
       "      <td>0.0</td>\n",
       "    </tr>\n",
       "    <tr>\n",
       "      <th>2</th>\n",
       "      <td>0.0</td>\n",
       "      <td>1.0</td>\n",
       "      <td>0.0</td>\n",
       "      <td>0.0</td>\n",
       "      <td>0.0</td>\n",
       "      <td>0.0</td>\n",
       "    </tr>\n",
       "    <tr>\n",
       "      <th>3</th>\n",
       "      <td>0.0</td>\n",
       "      <td>0.0</td>\n",
       "      <td>1.0</td>\n",
       "      <td>0.0</td>\n",
       "      <td>0.0</td>\n",
       "      <td>0.0</td>\n",
       "    </tr>\n",
       "    <tr>\n",
       "      <th>4</th>\n",
       "      <td>0.0</td>\n",
       "      <td>0.0</td>\n",
       "      <td>0.0</td>\n",
       "      <td>0.0</td>\n",
       "      <td>0.0</td>\n",
       "      <td>0.0</td>\n",
       "    </tr>\n",
       "    <tr>\n",
       "      <th>5</th>\n",
       "      <td>0.0</td>\n",
       "      <td>0.0</td>\n",
       "      <td>1.0</td>\n",
       "      <td>0.0</td>\n",
       "      <td>0.0</td>\n",
       "      <td>0.0</td>\n",
       "    </tr>\n",
       "    <tr>\n",
       "      <th>6</th>\n",
       "      <td>0.0</td>\n",
       "      <td>0.0</td>\n",
       "      <td>0.0</td>\n",
       "      <td>0.0</td>\n",
       "      <td>0.0</td>\n",
       "      <td>0.0</td>\n",
       "    </tr>\n",
       "    <tr>\n",
       "      <th>7</th>\n",
       "      <td>0.0</td>\n",
       "      <td>0.0</td>\n",
       "      <td>1.0</td>\n",
       "      <td>0.0</td>\n",
       "      <td>0.0</td>\n",
       "      <td>0.0</td>\n",
       "    </tr>\n",
       "    <tr>\n",
       "      <th>8</th>\n",
       "      <td>0.0</td>\n",
       "      <td>0.0</td>\n",
       "      <td>1.0</td>\n",
       "      <td>0.0</td>\n",
       "      <td>0.0</td>\n",
       "      <td>0.0</td>\n",
       "    </tr>\n",
       "    <tr>\n",
       "      <th>9</th>\n",
       "      <td>1.0</td>\n",
       "      <td>0.0</td>\n",
       "      <td>0.0</td>\n",
       "      <td>0.0</td>\n",
       "      <td>0.0</td>\n",
       "      <td>0.0</td>\n",
       "    </tr>\n",
       "  </tbody>\n",
       "</table>\n",
       "</div>"
      ],
      "text/plain": [
       "   workclass_Federal-gov  workclass_Local-gov  workclass_Private  \\\n",
       "0                    0.0                  0.0                1.0   \n",
       "1                    0.0                  0.0                1.0   \n",
       "2                    0.0                  1.0                0.0   \n",
       "3                    0.0                  0.0                1.0   \n",
       "4                    0.0                  0.0                0.0   \n",
       "5                    0.0                  0.0                1.0   \n",
       "6                    0.0                  0.0                0.0   \n",
       "7                    0.0                  0.0                1.0   \n",
       "8                    0.0                  0.0                1.0   \n",
       "9                    1.0                  0.0                0.0   \n",
       "\n",
       "   workclass_Self-emp-inc  workclass_Self-emp-not-inc  workclass_State-gov  \n",
       "0                     0.0                         0.0                  0.0  \n",
       "1                     0.0                         0.0                  0.0  \n",
       "2                     0.0                         0.0                  0.0  \n",
       "3                     0.0                         0.0                  0.0  \n",
       "4                     0.0                         0.0                  0.0  \n",
       "5                     0.0                         0.0                  0.0  \n",
       "6                     0.0                         0.0                  0.0  \n",
       "7                     0.0                         0.0                  0.0  \n",
       "8                     0.0                         0.0                  0.0  \n",
       "9                     0.0                         0.0                  0.0  "
      ]
     },
     "execution_count": 9,
     "metadata": {},
     "output_type": "execute_result"
    }
   ],
   "source": [
    "proc = Processor(\n",
    "    metadata=meta,\n",
    "    config={\n",
    "        \"encoder\": {\n",
    "            \"workclass\": \"encoder_onehot\",\n",
    "        },\n",
    "    },\n",
    ")\n",
    "\n",
    "proc.fit(\n",
    "    data=train_data,\n",
    "    sequence=[\"encoder\"],\n",
    ")\n",
    "\n",
    "preproc_data = proc.transform(data=train_data)\n",
    "print(f\"preproc_data shape: {preproc_data.shape}\")\n",
    "preproc_data.loc[\n",
    "    :, [col for col in preproc_data.columns if col.startswith(\"workclass_\")]\n",
    "].head(10)"
   ]
  },
  {
   "cell_type": "markdown",
   "id": "scaler_only",
   "metadata": {},
   "source": [
    "## Processor - Scaler only"
   ]
  },
  {
   "cell_type": "code",
   "execution_count": 10,
   "id": "scaler_proc",
   "metadata": {},
   "outputs": [
    {
     "name": "stdout",
     "output_type": "stream",
     "text": [
      "preproc_data shape: (151, 15)\n"
     ]
    },
    {
     "data": {
      "text/plain": [
       "0    0.145455\n",
       "1    0.381818\n",
       "2    0.200000\n",
       "3    0.490909\n",
       "4    0.018182\n",
       "5    0.309091\n",
       "6    0.218182\n",
       "7    0.127273\n",
       "8    0.690909\n",
       "9    0.345455\n",
       "Name: age, dtype: float64"
      ]
     },
     "execution_count": 10,
     "metadata": {},
     "output_type": "execute_result"
    }
   ],
   "source": [
    "proc = Processor(\n",
    "    metadata=meta,\n",
    "    config={\n",
    "        \"scaler\": {\n",
    "            \"age\": \"scaler_minmax\",\n",
    "        },\n",
    "    },\n",
    ")\n",
    "\n",
    "proc.fit(\n",
    "    data=train_data,\n",
    "    sequence=[\"scaler\"],\n",
    ")\n",
    "\n",
    "preproc_data = proc.transform(data=train_data)\n",
    "print(f\"preproc_data shape: {preproc_data.shape}\")\n",
    "preproc_data[\"age\"].head(10)"
   ]
  },
  {
   "cell_type": "markdown",
   "id": "synthesizer",
   "metadata": {},
   "source": [
    "# Synthesizer"
   ]
  },
  {
   "cell_type": "code",
   "execution_count": 11,
   "id": "synth_default",
   "metadata": {},
   "outputs": [
    {
     "name": "stdout",
     "output_type": "stream",
     "text": [
      "syn_data shape: (136, 15)\n"
     ]
    }
   ],
   "source": [
    "from petsard.synthesizer import Synthesizer\n",
    "\n",
    "syn = Synthesizer(\n",
    "    method=\"default\",\n",
    ")\n",
    "\n",
    "syn.create(metadata=meta)\n",
    "syn_data = syn.fit_sample(data=default_preproc_data)\n",
    "print(f\"syn_data shape: {syn_data.shape}\")"
   ]
  },
  {
   "cell_type": "markdown",
   "id": "postprocessor",
   "metadata": {},
   "source": [
    "# Processor (Post-proc)"
   ]
  },
  {
   "cell_type": "code",
   "execution_count": 12,
   "id": "postproc",
   "metadata": {},
   "outputs": [
    {
     "name": "stdout",
     "output_type": "stream",
     "text": [
      "postproc_data shape: (136, 15)\n"
     ]
    }
   ],
   "source": [
    "postproc_data = default_proc.inverse_transform(data=syn_data)\n",
    "print(f\"postproc_data shape: {postproc_data.shape}\")"
   ]
  },
  {
   "cell_type": "markdown",
   "id": "4a8f758e",
   "metadata": {},
   "source": [
    "# Constrainer"
   ]
  },
  {
   "cell_type": "code",
   "execution_count": 13,
   "id": "87155e9d",
   "metadata": {},
   "outputs": [
    {
     "name": "stdout",
     "output_type": "stream",
     "text": [
      "cnst_data shape: (136, 15)\n",
      "satisfy_data shape: (136, 15)\n"
     ]
    }
   ],
   "source": [
    "from petsard.constrainer import Constrainer\n",
    "\n",
    "config = {}\n",
    "cnst = Constrainer(config=config)\n",
    "cnst_data = cnst.apply(df=postproc_data)\n",
    "print(f\"cnst_data shape: {cnst_data.shape}\")\n",
    "\n",
    "satisfy_data = cnst.resample_until_satisfy(\n",
    "    data=postproc_data,\n",
    "    target_rows=postproc_data.shape[0],\n",
    "    synthesizer=syn,\n",
    "    max_trials=300,\n",
    "    sampling_ratio=10.0,\n",
    "    verbose_step=10,\n",
    ")\n",
    "print(f\"satisfy_data shape: {satisfy_data.shape}\")"
   ]
  },
  {
   "cell_type": "markdown",
   "id": "00fb592c",
   "metadata": {},
   "source": [
    "## Constrainer - nan_groups"
   ]
  },
  {
   "cell_type": "code",
   "execution_count": 14,
   "id": "7519689a",
   "metadata": {},
   "outputs": [
    {
     "name": "stdout",
     "output_type": "stream",
     "text": [
      "cnst_data shape: (136, 15)\n",
      "satisfy_data shape: (136, 15)\n"
     ]
    }
   ],
   "source": [
    "config = {\n",
    "    \"nan_groups\": {\n",
    "        \"gender\": \"delete\",  # gender 缺值的紀錄直接刪除\n",
    "        \"age\": {  # age 缺值的紀錄把 workclass, education, education-num 欄位設為缺值\n",
    "            \"erase\": [\"workclass\", \"education\", \"educational-num\"],\n",
    "        },\n",
    "        \"marital-status\": {\n",
    "            \"copy\": \"relationship\",  # marital-status 缺值的紀錄把 relationship 欄位的值複製過來\n",
    "        },\n",
    "    }\n",
    "}\n",
    "cnst = Constrainer(config=config)\n",
    "cnst_data = cnst.apply(df=postproc_data)\n",
    "print(f\"cnst_data shape: {cnst_data.shape}\")\n",
    "\n",
    "satisfy_data = cnst.resample_until_satisfy(\n",
    "    data=postproc_data,\n",
    "    target_rows=postproc_data.shape[0],\n",
    "    synthesizer=syn,\n",
    "    max_trials=300,\n",
    "    sampling_ratio=10.0,\n",
    "    verbose_step=10,\n",
    ")\n",
    "print(f\"satisfy_data shape: {satisfy_data.shape}\")"
   ]
  },
  {
   "cell_type": "markdown",
   "id": "e3217bb7",
   "metadata": {},
   "source": [
    "## Constrainer - field_constraints"
   ]
  },
  {
   "cell_type": "code",
   "execution_count": 15,
   "id": "06cb5943",
   "metadata": {},
   "outputs": [
    {
     "name": "stdout",
     "output_type": "stream",
     "text": [
      "cnst_data shape: (123, 15)\n",
      "Trial 10: Got 123 rows, need 13 more\n",
      "Trial 20: Got 123 rows, need 13 more\n",
      "Trial 30: Got 123 rows, need 13 more\n",
      "Trial 40: Got 123 rows, need 13 more\n",
      "Trial 50: Got 123 rows, need 13 more\n",
      "Trial 60: Got 123 rows, need 13 more\n",
      "Trial 70: Got 123 rows, need 13 more\n",
      "Trial 80: Got 123 rows, need 13 more\n",
      "Trial 90: Got 123 rows, need 13 more\n",
      "Trial 100: Got 123 rows, need 13 more\n",
      "Trial 110: Got 123 rows, need 13 more\n",
      "Trial 120: Got 123 rows, need 13 more\n",
      "Trial 130: Got 123 rows, need 13 more\n",
      "Trial 140: Got 123 rows, need 13 more\n",
      "Trial 150: Got 123 rows, need 13 more\n",
      "Trial 160: Got 123 rows, need 13 more\n",
      "Trial 170: Got 123 rows, need 13 more\n",
      "Trial 180: Got 123 rows, need 13 more\n",
      "Trial 190: Got 123 rows, need 13 more\n",
      "Trial 200: Got 123 rows, need 13 more\n",
      "Trial 210: Got 123 rows, need 13 more\n",
      "Trial 220: Got 123 rows, need 13 more\n",
      "Trial 230: Got 123 rows, need 13 more\n",
      "Trial 240: Got 123 rows, need 13 more\n",
      "Trial 250: Got 123 rows, need 13 more\n",
      "Trial 260: Got 123 rows, need 13 more\n",
      "Trial 270: Got 123 rows, need 13 more\n",
      "Trial 280: Got 123 rows, need 13 more\n",
      "Trial 290: Got 123 rows, need 13 more\n",
      "satisfy_data shape: (123, 15)\n"
     ]
    },
    {
     "name": "stderr",
     "output_type": "stream",
     "text": [
      "/var/folders/lb/lwjvbr314wj7bt1k63plw4bw0000gn/T/ipykernel_68998/1488609613.py:10: UserWarning: Maximum trials (300) reached but only got 123 rows\n",
      "  satisfy_data = cnst.resample_until_satisfy(\n"
     ]
    }
   ],
   "source": [
    "config = {\n",
    "    \"field_constraints\": [\n",
    "        \"age >= 20 & age <= 70\",  # age 欄位的值必須在 20 到 70 歲之間\n",
    "    ],\n",
    "}\n",
    "cnst = Constrainer(config=config)\n",
    "cnst_data = cnst.apply(df=postproc_data)\n",
    "print(f\"cnst_data shape: {cnst_data.shape}\")\n",
    "\n",
    "satisfy_data = cnst.resample_until_satisfy(\n",
    "    data=postproc_data,\n",
    "    target_rows=postproc_data.shape[0],\n",
    "    synthesizer=syn,\n",
    "    max_trials=300,\n",
    "    sampling_ratio=10.0,\n",
    "    verbose_step=10,\n",
    ")\n",
    "print(f\"satisfy_data shape: {satisfy_data.shape}\")"
   ]
  },
  {
   "cell_type": "markdown",
   "id": "7c38a624",
   "metadata": {},
   "source": [
    "## Constrainer - field_combinations"
   ]
  },
  {
   "cell_type": "code",
   "execution_count": 16,
   "id": "da4fd9ae",
   "metadata": {},
   "outputs": [
    {
     "name": "stdout",
     "output_type": "stream",
     "text": [
      "cnst_data shape: (93, 15)\n",
      "satisfy_data shape: (136, 15)\n"
     ]
    }
   ],
   "source": [
    "config = {\n",
    "    \"field_combinations\": [\n",
    "        (\n",
    "            {\n",
    "                \"marital-status\": \"relationship\"\n",
    "            },  # 指定 'marital-status' 和 'relationship' 欄位之間的關係\n",
    "            {  # 定義每個 'marital-status' 對應的 'relationship' 欄位值\n",
    "                \"Divorced\": [\"Not-in-family\", \"Own-child\", \"Unmarried\"],\n",
    "                \"Married-civ-spouse\": [\"Husband\", \"Wife\"],\n",
    "                \"Married-spouse-absent\": [\"Not-in-family\"],\n",
    "                \"Separated\": [\"Not-in-family\", \"Unmarried\"],\n",
    "                \"Never-married\": [\"Not-in-family\", \"Own-child\", \"Unmarried\"],\n",
    "                \"Widowed\": [\"Not-in-family\", \"Unmarried\"],\n",
    "            },\n",
    "        )\n",
    "    ],\n",
    "}\n",
    "cnst = Constrainer(config=config)\n",
    "cnst_data = cnst.apply(df=postproc_data)\n",
    "print(f\"cnst_data shape: {cnst_data.shape}\")\n",
    "\n",
    "satisfy_data = cnst.resample_until_satisfy(\n",
    "    data=postproc_data,\n",
    "    target_rows=postproc_data.shape[0],\n",
    "    synthesizer=syn,\n",
    "    max_trials=300,\n",
    "    sampling_ratio=10.0,\n",
    "    verbose_step=10,\n",
    ")\n",
    "print(f\"satisfy_data shape: {satisfy_data.shape}\")"
   ]
  },
  {
   "cell_type": "markdown",
   "id": "evaluator",
   "metadata": {},
   "source": [
    "# Evaluator"
   ]
  },
  {
   "cell_type": "code",
   "execution_count": 17,
   "id": "eval_default",
   "metadata": {},
   "outputs": [
    {
     "name": "stdout",
     "output_type": "stream",
     "text": [
      "Generating report ...\n",
      "\n",
      "(1/2) Evaluating Column Shapes: |██████████| 15/15 [00:00<00:00, 955.48it/s]|\n",
      "Column Shapes Score: 0.26%\n",
      "\n",
      "(2/2) Evaluating Column Pair Trends: |██████████| 105/105 [00:00<00:00, 290.51it/s]|\n",
      "Column Pair Trends Score: 6.23%\n",
      "\n",
      "Overall Score (Average): 3.24%\n",
      "\n",
      "        Score  Column Shapes  Column Pair Trends\n",
      "result   0.03            NaN                 NaN\n",
      "          Property        Metric  Score\n",
      "age  Column Shapes  KSComplement    0.0\n",
      "                         Property                 Metric  Score  \\\n",
      "age workclass  Column Pair Trends  ContingencySimilarity    0.0   \n",
      "\n",
      "               Real Correlation  Synthetic Correlation  \n",
      "age workclass               NaN                    NaN  \n"
     ]
    }
   ],
   "source": [
    "from petsard.evaluator import Evaluator\n",
    "\n",
    "evaluation = Evaluator(method=\"default\")\n",
    "evaluation.create()\n",
    "\n",
    "eval_result = evaluation.eval(\n",
    "    data={\n",
    "        \"ori\": train_data,\n",
    "        \"control\": test_data,\n",
    "        \"syn\": syn_data,\n",
    "    }\n",
    ")\n",
    "\n",
    "print(eval_result[\"global\"].head(1))\n",
    "print(eval_result[\"columnwise\"].head(1))\n",
    "print(eval_result[\"pairwise\"].head(1))"
   ]
  },
  {
   "cell_type": "markdown",
   "id": "evaluator_methods",
   "metadata": {},
   "source": [
    "## Evaluator - Singling-out"
   ]
  },
  {
   "cell_type": "code",
   "execution_count": 18,
   "id": "eval_privacy",
   "metadata": {},
   "outputs": [
    {
     "name": "stderr",
     "output_type": "stream",
     "text": [
      "Found 2 failed queries out of 3. Check DEBUG messages for more details.\n"
     ]
    },
    {
     "name": "stdout",
     "output_type": "stream",
     "text": [
      "        risk  risk_CI_btm  risk_CI_top  attack_rate  attack_rate_err  \\\n",
      "result   0.2          0.0          0.8         0.43             0.37   \n",
      "\n",
      "        baseline_rate  baseline_rate_err  control_rate  control_rate_err  \n",
      "result           0.28               0.28          0.28              0.28  \n",
      "{'attack_queries': [\"age>= 20 & workclass== 'Local-gov' & education== 'Some-college'\"], 'baseline_queries': []}\n"
     ]
    }
   ],
   "source": [
    "evaluation = Evaluator(\n",
    "    method=\"anonymeter-singlingout\",\n",
    "    n_attacks=3,\n",
    ")\n",
    "evaluation.create()\n",
    "\n",
    "eval_result = evaluation.eval(\n",
    "    data={\n",
    "        \"ori\": train_data,\n",
    "        \"control\": test_data,\n",
    "        \"syn\": satisfy_data,\n",
    "    }\n",
    ")\n",
    "\n",
    "print(eval_result[\"global\"].head(1))\n",
    "print(eval_result[\"details\"])"
   ]
  },
  {
   "cell_type": "markdown",
   "id": "b5925c41",
   "metadata": {},
   "source": [
    "## Evaluator - Linkability"
   ]
  },
  {
   "cell_type": "code",
   "execution_count": 19,
   "id": "b63a808d",
   "metadata": {},
   "outputs": [
    {
     "ename": "TypeError",
     "evalue": "Encoders require their input argument must be uniformly strings or numbers. Got ['float', 'str']",
     "output_type": "error",
     "traceback": [
      "\u001b[31m---------------------------------------------------------------------------\u001b[39m",
      "\u001b[31mTypeError\u001b[39m                                 Traceback (most recent call last)",
      "\u001b[36mFile \u001b[39m\u001b[32m~/Library/CloudStorage/Dropbox/5_Career 工作/20231016_NICS 資安院/3_工藝：PETsARD/petsard/.venv/lib/python3.11/site-packages/sklearn/utils/_encode.py:183\u001b[39m, in \u001b[36m_unique_python\u001b[39m\u001b[34m(values, return_inverse, return_counts)\u001b[39m\n\u001b[32m    181\u001b[39m uniques_set, missing_values = _extract_missing(uniques_set)\n\u001b[32m--> \u001b[39m\u001b[32m183\u001b[39m uniques = \u001b[38;5;28;43msorted\u001b[39;49m\u001b[43m(\u001b[49m\u001b[43muniques_set\u001b[49m\u001b[43m)\u001b[49m\n\u001b[32m    184\u001b[39m uniques.extend(missing_values.to_list())\n",
      "\u001b[31mTypeError\u001b[39m: '<' not supported between instances of 'str' and 'float'",
      "\nDuring handling of the above exception, another exception occurred:\n",
      "\u001b[31mTypeError\u001b[39m                                 Traceback (most recent call last)",
      "\u001b[36mCell\u001b[39m\u001b[36m \u001b[39m\u001b[32mIn[19]\u001b[39m\u001b[32m, line 11\u001b[39m\n\u001b[32m      1\u001b[39m evaluation = Evaluator(\n\u001b[32m      2\u001b[39m     method=\u001b[33m\"\u001b[39m\u001b[33manonymeter-linkability\u001b[39m\u001b[33m\"\u001b[39m,\n\u001b[32m      3\u001b[39m     n_attacks=\u001b[32m3\u001b[39m,\n\u001b[32m   (...)\u001b[39m\u001b[32m      7\u001b[39m     ],\n\u001b[32m      8\u001b[39m )\n\u001b[32m      9\u001b[39m evaluation.create()\n\u001b[32m---> \u001b[39m\u001b[32m11\u001b[39m eval_result = \u001b[43mevaluation\u001b[49m\u001b[43m.\u001b[49m\u001b[43meval\u001b[49m\u001b[43m(\u001b[49m\n\u001b[32m     12\u001b[39m \u001b[43m    \u001b[49m\u001b[43mdata\u001b[49m\u001b[43m=\u001b[49m\u001b[43m{\u001b[49m\n\u001b[32m     13\u001b[39m \u001b[43m        \u001b[49m\u001b[33;43m\"\u001b[39;49m\u001b[33;43mori\u001b[39;49m\u001b[33;43m\"\u001b[39;49m\u001b[43m:\u001b[49m\u001b[43m \u001b[49m\u001b[43mtrain_data\u001b[49m\u001b[43m,\u001b[49m\n\u001b[32m     14\u001b[39m \u001b[43m        \u001b[49m\u001b[33;43m\"\u001b[39;49m\u001b[33;43mcontrol\u001b[39;49m\u001b[33;43m\"\u001b[39;49m\u001b[43m:\u001b[49m\u001b[43m \u001b[49m\u001b[43mtest_data\u001b[49m\u001b[43m,\u001b[49m\n\u001b[32m     15\u001b[39m \u001b[43m        \u001b[49m\u001b[33;43m\"\u001b[39;49m\u001b[33;43msyn\u001b[39;49m\u001b[33;43m\"\u001b[39;49m\u001b[43m:\u001b[49m\u001b[43m \u001b[49m\u001b[43msatisfy_data\u001b[49m\u001b[43m,\u001b[49m\n\u001b[32m     16\u001b[39m \u001b[43m    \u001b[49m\u001b[43m}\u001b[49m\n\u001b[32m     17\u001b[39m \u001b[43m)\u001b[49m\n\u001b[32m     19\u001b[39m \u001b[38;5;28mprint\u001b[39m(eval_result[\u001b[33m\"\u001b[39m\u001b[33mglobal\u001b[39m\u001b[33m\"\u001b[39m].head(\u001b[32m1\u001b[39m))\n\u001b[32m     20\u001b[39m \u001b[38;5;28mprint\u001b[39m(eval_result[\u001b[33m\"\u001b[39m\u001b[33mdetails\u001b[39m\u001b[33m\"\u001b[39m])\n",
      "\u001b[36mFile \u001b[39m\u001b[32m~/Library/CloudStorage/Dropbox/5_Career 工作/20231016_NICS 資安院/3_工藝：PETsARD/petsard/petsard/evaluator/evaluator.py:250\u001b[39m, in \u001b[36mEvaluator.eval\u001b[39m\u001b[34m(self, data)\u001b[39m\n\u001b[32m    245\u001b[39m time_start: time = time.time()\n\u001b[32m    247\u001b[39m \u001b[38;5;28mself\u001b[39m._logger.info(\n\u001b[32m    248\u001b[39m     \u001b[33mf\u001b[39m\u001b[33m\"\u001b[39m\u001b[33mEvaluating data with keys \u001b[39m\u001b[38;5;132;01m{\u001b[39;00m\u001b[38;5;28mlist\u001b[39m(data.keys())\u001b[38;5;132;01m}\u001b[39;00m\u001b[33m using evaluation method: \u001b[39m\u001b[38;5;132;01m{\u001b[39;00m\u001b[38;5;28mself\u001b[39m.config.eval_method\u001b[38;5;132;01m}\u001b[39;00m\u001b[33m\"\u001b[39m\n\u001b[32m    249\u001b[39m )\n\u001b[32m--> \u001b[39m\u001b[32m250\u001b[39m evaluated_report: \u001b[38;5;28mdict\u001b[39m[\u001b[38;5;28mstr\u001b[39m, pd.DataFrame] = \u001b[38;5;28;43mself\u001b[39;49m\u001b[43m.\u001b[49m\u001b[43m_impl\u001b[49m\u001b[43m.\u001b[49m\u001b[43meval\u001b[49m\u001b[43m(\u001b[49m\u001b[43mdata\u001b[49m\u001b[43m=\u001b[49m\u001b[43mdata\u001b[49m\u001b[43m)\u001b[49m\n\u001b[32m    251\u001b[39m time_spent: \u001b[38;5;28mfloat\u001b[39m = \u001b[38;5;28mround\u001b[39m(time.time() - time_start, \u001b[32m4\u001b[39m)\n\u001b[32m    252\u001b[39m \u001b[38;5;28mself\u001b[39m._logger.info(\u001b[33mf\u001b[39m\u001b[33m\"\u001b[39m\u001b[33mEvaluation completed successfully in \u001b[39m\u001b[38;5;132;01m{\u001b[39;00mtime_spent\u001b[38;5;132;01m}\u001b[39;00m\u001b[33m seconds\u001b[39m\u001b[33m\"\u001b[39m)\n",
      "\u001b[36mFile \u001b[39m\u001b[32m~/Library/CloudStorage/Dropbox/5_Career 工作/20231016_NICS 資安院/3_工藝：PETsARD/petsard/petsard/evaluator/evaluator_base.py:290\u001b[39m, in \u001b[36mBaseEvaluator.eval\u001b[39m\u001b[34m(self, data)\u001b[39m\n\u001b[32m    288\u001b[39m \u001b[38;5;66;03m# Evaluate the data\u001b[39;00m\n\u001b[32m    289\u001b[39m \u001b[38;5;28mself\u001b[39m._logger.info(\u001b[33mf\u001b[39m\u001b[33m\"\u001b[39m\u001b[33mEvaluating \u001b[39m\u001b[38;5;132;01m{\u001b[39;00m\u001b[38;5;28mself\u001b[39m.\u001b[34m__class__\u001b[39m.\u001b[34m__name__\u001b[39m\u001b[38;5;132;01m}\u001b[39;00m\u001b[33m\"\u001b[39m)\n\u001b[32m--> \u001b[39m\u001b[32m290\u001b[39m evaluated_report: \u001b[38;5;28mdict\u001b[39m[\u001b[38;5;28mstr\u001b[39m, pd.DataFrame] = \u001b[38;5;28;43mself\u001b[39;49m\u001b[43m.\u001b[49m\u001b[43m_eval\u001b[49m\u001b[43m(\u001b[49m\u001b[43mmerged_config\u001b[49m\u001b[43m)\u001b[49m\n\u001b[32m    291\u001b[39m \u001b[38;5;28mself\u001b[39m._logger.info(\u001b[33mf\u001b[39m\u001b[33m\"\u001b[39m\u001b[33mSuccessfully evaluating \u001b[39m\u001b[38;5;132;01m{\u001b[39;00m\u001b[38;5;28mself\u001b[39m.\u001b[34m__class__\u001b[39m.\u001b[34m__name__\u001b[39m\u001b[38;5;132;01m}\u001b[39;00m\u001b[33m\"\u001b[39m)\n\u001b[32m    293\u001b[39m \u001b[38;5;28;01mreturn\u001b[39;00m evaluated_report\n",
      "\u001b[36mFile \u001b[39m\u001b[32m~/Library/CloudStorage/Dropbox/5_Career 工作/20231016_NICS 資安院/3_工藝：PETsARD/petsard/petsard/evaluator/anonymeter.py:510\u001b[39m, in \u001b[36mAnonymeter._eval\u001b[39m\u001b[34m(self, data)\u001b[39m\n\u001b[32m    508\u001b[39m attempts_for_impl_evaluate += \u001b[32m1\u001b[39m\n\u001b[32m    509\u001b[39m \u001b[38;5;28;01mtry\u001b[39;00m:\n\u001b[32m--> \u001b[39m\u001b[32m510\u001b[39m     \u001b[38;5;28;43mself\u001b[39;49m\u001b[43m.\u001b[49m\u001b[43m_impl\u001b[49m\u001b[43m.\u001b[49m\u001b[43mevaluate\u001b[49m\u001b[43m(\u001b[49m\n\u001b[32m    511\u001b[39m \u001b[43m        \u001b[49m\u001b[43m*\u001b[49m\u001b[43m*\u001b[49m\u001b[38;5;28;43mself\u001b[39;49m\u001b[43m.\u001b[49m\u001b[43manonymeter_config\u001b[49m\u001b[43m.\u001b[49m\u001b[43mget_params\u001b[49m\u001b[43m(\u001b[49m\n\u001b[32m    512\u001b[39m \u001b[43m            \u001b[49m\u001b[43mparam_configs\u001b[49m\u001b[43m=\u001b[49m\u001b[43m[\u001b[49m\n\u001b[32m    513\u001b[39m \u001b[43m                \u001b[49m\u001b[43m{\u001b[49m\u001b[43mattr\u001b[49m\u001b[43m:\u001b[49m\u001b[43m \u001b[49m\u001b[43m{\u001b[49m\u001b[33;43m\"\u001b[39;49m\u001b[33;43maction\u001b[39;49m\u001b[33;43m\"\u001b[39;49m\u001b[43m:\u001b[49m\u001b[43m \u001b[49m\u001b[33;43m\"\u001b[39;49m\u001b[33;43mINCLUDE\u001b[39;49m\u001b[33;43m\"\u001b[39;49m\u001b[43m}\u001b[49m\u001b[43m}\u001b[49m\n\u001b[32m    514\u001b[39m \u001b[43m                \u001b[49m\u001b[38;5;28;43;01mfor\u001b[39;49;00m\u001b[43m \u001b[49m\u001b[43mattr\u001b[49m\u001b[43m \u001b[49m\u001b[38;5;129;43;01min\u001b[39;49;00m\u001b[43m \u001b[49m\u001b[38;5;28;43mself\u001b[39;49m\u001b[43m.\u001b[49m\u001b[43mREQUIRED_ANONYMETER_KEYS_EVALUATE_MAP\u001b[49m\u001b[43m[\u001b[49m\n\u001b[32m    515\u001b[39m \u001b[43m                    \u001b[49m\u001b[38;5;28;43mself\u001b[39;49m\u001b[43m.\u001b[49m\u001b[43manonymeter_config\u001b[49m\u001b[43m.\u001b[49m\u001b[43meval_method_code\u001b[49m\n\u001b[32m    516\u001b[39m \u001b[43m                \u001b[49m\u001b[43m]\u001b[49m\n\u001b[32m    517\u001b[39m \u001b[43m            \u001b[49m\u001b[43m]\u001b[49m\n\u001b[32m    518\u001b[39m \u001b[43m        \u001b[49m\u001b[43m)\u001b[49m\n\u001b[32m    519\u001b[39m \u001b[43m    \u001b[49m\u001b[43m)\u001b[49m\n\u001b[32m    520\u001b[39m     \u001b[38;5;28;01mbreak\u001b[39;00m  \u001b[38;5;66;03m# successful\u001b[39;00m\n\u001b[32m    521\u001b[39m \u001b[38;5;28;01mexcept\u001b[39;00m \u001b[38;5;167;01mRuntimeError\u001b[39;00m:\n",
      "\u001b[36mFile \u001b[39m\u001b[32m~/Library/CloudStorage/Dropbox/5_Career 工作/20231016_NICS 資安院/3_工藝：PETsARD/petsard/.venv/lib/python3.11/site-packages/anonymeter/evaluators/linkability_evaluator.py:219\u001b[39m, in \u001b[36mLinkabilityEvaluator.evaluate\u001b[39m\u001b[34m(self, n_jobs)\u001b[39m\n\u001b[32m    202\u001b[39m \u001b[38;5;250m\u001b[39m\u001b[33;03m\"\"\"Run the linkability attack.\u001b[39;00m\n\u001b[32m    203\u001b[39m \n\u001b[32m    204\u001b[39m \u001b[33;03mParameters\u001b[39;00m\n\u001b[32m   (...)\u001b[39m\u001b[32m    213\u001b[39m \n\u001b[32m    214\u001b[39m \u001b[33;03m\"\"\"\u001b[39;00m\n\u001b[32m    215\u001b[39m \u001b[38;5;28mself\u001b[39m._baseline_links = _random_linkability_attack(\n\u001b[32m    216\u001b[39m     n_synthetic=\u001b[38;5;28mself\u001b[39m._syn.shape[\u001b[32m0\u001b[39m], n_attacks=\u001b[38;5;28mself\u001b[39m._n_attacks, n_neighbors=\u001b[38;5;28mself\u001b[39m._n_neighbors\n\u001b[32m    217\u001b[39m )\n\u001b[32m--> \u001b[39m\u001b[32m219\u001b[39m \u001b[38;5;28mself\u001b[39m._attack_links = \u001b[43m_linkability_attack\u001b[49m\u001b[43m(\u001b[49m\n\u001b[32m    220\u001b[39m \u001b[43m    \u001b[49m\u001b[43mori\u001b[49m\u001b[43m=\u001b[49m\u001b[38;5;28;43mself\u001b[39;49m\u001b[43m.\u001b[49m\u001b[43m_ori\u001b[49m\u001b[43m,\u001b[49m\n\u001b[32m    221\u001b[39m \u001b[43m    \u001b[49m\u001b[43msyn\u001b[49m\u001b[43m=\u001b[49m\u001b[38;5;28;43mself\u001b[39;49m\u001b[43m.\u001b[49m\u001b[43m_syn\u001b[49m\u001b[43m,\u001b[49m\n\u001b[32m    222\u001b[39m \u001b[43m    \u001b[49m\u001b[43mn_attacks\u001b[49m\u001b[43m=\u001b[49m\u001b[38;5;28;43mself\u001b[39;49m\u001b[43m.\u001b[49m\u001b[43m_n_attacks\u001b[49m\u001b[43m,\u001b[49m\n\u001b[32m    223\u001b[39m \u001b[43m    \u001b[49m\u001b[43maux_cols\u001b[49m\u001b[43m=\u001b[49m\u001b[38;5;28;43mself\u001b[39;49m\u001b[43m.\u001b[49m\u001b[43m_aux_cols\u001b[49m\u001b[43m,\u001b[49m\n\u001b[32m    224\u001b[39m \u001b[43m    \u001b[49m\u001b[43mn_neighbors\u001b[49m\u001b[43m=\u001b[49m\u001b[38;5;28;43mself\u001b[39;49m\u001b[43m.\u001b[49m\u001b[43m_n_neighbors\u001b[49m\u001b[43m,\u001b[49m\n\u001b[32m    225\u001b[39m \u001b[43m    \u001b[49m\u001b[43mn_jobs\u001b[49m\u001b[43m=\u001b[49m\u001b[43mn_jobs\u001b[49m\u001b[43m,\u001b[49m\n\u001b[32m    226\u001b[39m \u001b[43m\u001b[49m\u001b[43m)\u001b[49m\n\u001b[32m    228\u001b[39m \u001b[38;5;28mself\u001b[39m._control_links = (\n\u001b[32m    229\u001b[39m     \u001b[38;5;28;01mNone\u001b[39;00m\n\u001b[32m    230\u001b[39m     \u001b[38;5;28;01mif\u001b[39;00m \u001b[38;5;28mself\u001b[39m._control \u001b[38;5;129;01mis\u001b[39;00m \u001b[38;5;28;01mNone\u001b[39;00m\n\u001b[32m   (...)\u001b[39m\u001b[32m    238\u001b[39m     )\n\u001b[32m    239\u001b[39m )\n\u001b[32m    241\u001b[39m \u001b[38;5;28mself\u001b[39m._evaluated = \u001b[38;5;28;01mTrue\u001b[39;00m\n",
      "\u001b[36mFile \u001b[39m\u001b[32m~/Library/CloudStorage/Dropbox/5_Career 工作/20231016_NICS 資安院/3_工藝：PETsARD/petsard/.venv/lib/python3.11/site-packages/anonymeter/evaluators/linkability_evaluator.py:136\u001b[39m, in \u001b[36m_linkability_attack\u001b[39m\u001b[34m(ori, syn, n_attacks, aux_cols, n_neighbors, n_jobs)\u001b[39m\n\u001b[32m    126\u001b[39m \u001b[38;5;28;01mdef\u001b[39;00m\u001b[38;5;250m \u001b[39m\u001b[34m_linkability_attack\u001b[39m(\n\u001b[32m    127\u001b[39m     ori: pd.DataFrame,\n\u001b[32m    128\u001b[39m     syn: pd.DataFrame,\n\u001b[32m   (...)\u001b[39m\u001b[32m    132\u001b[39m     n_jobs: \u001b[38;5;28mint\u001b[39m,\n\u001b[32m    133\u001b[39m ) -> LinkabilityIndexes:\n\u001b[32m    134\u001b[39m     targets = ori.sample(n_attacks, replace=\u001b[38;5;28;01mFalse\u001b[39;00m)\n\u001b[32m--> \u001b[39m\u001b[32m136\u001b[39m     idx_0 = \u001b[43m_find_nn\u001b[49m\u001b[43m(\u001b[49m\u001b[43msyn\u001b[49m\u001b[43m=\u001b[49m\u001b[43msyn\u001b[49m\u001b[43m[\u001b[49m\u001b[43maux_cols\u001b[49m\u001b[43m[\u001b[49m\u001b[32;43m0\u001b[39;49m\u001b[43m]\u001b[49m\u001b[43m]\u001b[49m\u001b[43m,\u001b[49m\u001b[43m \u001b[49m\u001b[43mori\u001b[49m\u001b[43m=\u001b[49m\u001b[43mtargets\u001b[49m\u001b[43m[\u001b[49m\u001b[43maux_cols\u001b[49m\u001b[43m[\u001b[49m\u001b[32;43m0\u001b[39;49m\u001b[43m]\u001b[49m\u001b[43m]\u001b[49m\u001b[43m,\u001b[49m\u001b[43m \u001b[49m\u001b[43mn_neighbors\u001b[49m\u001b[43m=\u001b[49m\u001b[43mn_neighbors\u001b[49m\u001b[43m,\u001b[49m\u001b[43m \u001b[49m\u001b[43mn_jobs\u001b[49m\u001b[43m=\u001b[49m\u001b[43mn_jobs\u001b[49m\u001b[43m)\u001b[49m\n\u001b[32m    137\u001b[39m     idx_1 = _find_nn(syn=syn[aux_cols[\u001b[32m1\u001b[39m]], ori=targets[aux_cols[\u001b[32m1\u001b[39m]], n_neighbors=n_neighbors, n_jobs=n_jobs)\n\u001b[32m    139\u001b[39m     \u001b[38;5;28;01mreturn\u001b[39;00m LinkabilityIndexes(idx_0=idx_0, idx_1=idx_1)\n",
      "\u001b[36mFile \u001b[39m\u001b[32m~/Library/CloudStorage/Dropbox/5_Career 工作/20231016_NICS 資安院/3_工藝：PETsARD/petsard/.venv/lib/python3.11/site-packages/anonymeter/evaluators/linkability_evaluator.py:123\u001b[39m, in \u001b[36m_find_nn\u001b[39m\u001b[34m(syn, ori, n_jobs, n_neighbors)\u001b[39m\n\u001b[32m    119\u001b[39m     ori = ori.to_frame()\n\u001b[32m    121\u001b[39m nn.fit(syn)\n\u001b[32m--> \u001b[39m\u001b[32m123\u001b[39m \u001b[38;5;28;01mreturn\u001b[39;00m cast(np.ndarray, \u001b[43mnn\u001b[49m\u001b[43m.\u001b[49m\u001b[43mkneighbors\u001b[49m\u001b[43m(\u001b[49m\u001b[43mori\u001b[49m\u001b[43m,\u001b[49m\u001b[43m \u001b[49m\u001b[43mreturn_distance\u001b[49m\u001b[43m=\u001b[49m\u001b[38;5;28;43;01mFalse\u001b[39;49;00m\u001b[43m)\u001b[49m)\n",
      "\u001b[36mFile \u001b[39m\u001b[32m~/Library/CloudStorage/Dropbox/5_Career 工作/20231016_NICS 資安院/3_工藝：PETsARD/petsard/.venv/lib/python3.11/site-packages/anonymeter/neighbors/mixed_types_kneighbors.py:212\u001b[39m, in \u001b[36mMixedTypeKNeighbors.kneighbors\u001b[39m\u001b[34m(self, queries, n_neighbors, return_distance)\u001b[39m\n\u001b[32m    210\u001b[39m \u001b[38;5;28;01mif\u001b[39;00m \u001b[38;5;28mself\u001b[39m._ctypes \u001b[38;5;129;01mis\u001b[39;00m \u001b[38;5;28;01mNone\u001b[39;00m:\n\u001b[32m    211\u001b[39m     \u001b[38;5;28mself\u001b[39m._ctypes = detect_consistent_col_types(df1=\u001b[38;5;28mself\u001b[39m._candidates, df2=queries)\n\u001b[32m--> \u001b[39m\u001b[32m212\u001b[39m candidates, queries = \u001b[43mmixed_types_transform\u001b[49m\u001b[43m(\u001b[49m\n\u001b[32m    213\u001b[39m \u001b[43m    \u001b[49m\u001b[43mdf1\u001b[49m\u001b[43m=\u001b[49m\u001b[38;5;28;43mself\u001b[39;49m\u001b[43m.\u001b[49m\u001b[43m_candidates\u001b[49m\u001b[43m,\u001b[49m\u001b[43m \u001b[49m\u001b[43mdf2\u001b[49m\u001b[43m=\u001b[49m\u001b[43mqueries\u001b[49m\u001b[43m,\u001b[49m\u001b[43m \u001b[49m\u001b[43mnum_cols\u001b[49m\u001b[43m=\u001b[49m\u001b[38;5;28;43mself\u001b[39;49m\u001b[43m.\u001b[49m\u001b[43m_ctypes\u001b[49m\u001b[43m[\u001b[49m\u001b[33;43m\"\u001b[39;49m\u001b[33;43mnum\u001b[39;49m\u001b[33;43m\"\u001b[39;49m\u001b[43m]\u001b[49m\u001b[43m,\u001b[49m\u001b[43m \u001b[49m\u001b[43mcat_cols\u001b[49m\u001b[43m=\u001b[49m\u001b[38;5;28;43mself\u001b[39;49m\u001b[43m.\u001b[49m\u001b[43m_ctypes\u001b[49m\u001b[43m[\u001b[49m\u001b[33;43m\"\u001b[39;49m\u001b[33;43mcat\u001b[39;49m\u001b[33;43m\"\u001b[39;49m\u001b[43m]\u001b[49m\n\u001b[32m    214\u001b[39m \u001b[43m\u001b[49m\u001b[43m)\u001b[49m\n\u001b[32m    216\u001b[39m cols = \u001b[38;5;28mself\u001b[39m._ctypes[\u001b[33m\"\u001b[39m\u001b[33mnum\u001b[39m\u001b[33m\"\u001b[39m] + \u001b[38;5;28mself\u001b[39m._ctypes[\u001b[33m\"\u001b[39m\u001b[33mcat\u001b[39m\u001b[33m\"\u001b[39m]\n\u001b[32m    217\u001b[39m queries = queries[cols].values\n",
      "\u001b[36mFile \u001b[39m\u001b[32m~/Library/CloudStorage/Dropbox/5_Career 工作/20231016_NICS 資安院/3_工藝：PETsARD/petsard/.venv/lib/python3.11/site-packages/anonymeter/preprocessing/transformations.py:102\u001b[39m, in \u001b[36mmixed_types_transform\u001b[39m\u001b[34m(df1, df2, num_cols, cat_cols)\u001b[39m\n\u001b[32m    100\u001b[39m df1_cat, df2_cat = pd.DataFrame(), pd.DataFrame()\n\u001b[32m    101\u001b[39m \u001b[38;5;28;01mif\u001b[39;00m \u001b[38;5;28mlen\u001b[39m(cat_cols) > \u001b[32m0\u001b[39m:\n\u001b[32m--> \u001b[39m\u001b[32m102\u001b[39m     df1_cat, df2_cat = \u001b[43m_encode_categorical\u001b[49m\u001b[43m(\u001b[49m\u001b[43mdf1\u001b[49m\u001b[43m[\u001b[49m\u001b[43mcat_cols\u001b[49m\u001b[43m]\u001b[49m\u001b[43m,\u001b[49m\u001b[43m \u001b[49m\u001b[43mdf2\u001b[49m\u001b[43m[\u001b[49m\u001b[43mcat_cols\u001b[49m\u001b[43m]\u001b[49m\u001b[43m)\u001b[49m\n\u001b[32m    104\u001b[39m df1_out = pd.concat([df1_num, df1_cat], axis=\u001b[32m1\u001b[39m)[df1.columns]\n\u001b[32m    106\u001b[39m df2_out = pd.concat([df2_num, df2_cat], axis=\u001b[32m1\u001b[39m)[df2.columns]\n",
      "\u001b[36mFile \u001b[39m\u001b[32m~/Library/CloudStorage/Dropbox/5_Career 工作/20231016_NICS 資安院/3_工藝：PETsARD/petsard/.venv/lib/python3.11/site-packages/anonymeter/preprocessing/transformations.py:22\u001b[39m, in \u001b[36m_encode_categorical\u001b[39m\u001b[34m(df1, df2)\u001b[39m\n\u001b[32m     19\u001b[39m encoded = pd.concat((df1, df2), keys=[\u001b[33m\"\u001b[39m\u001b[33mdf1\u001b[39m\u001b[33m\"\u001b[39m, \u001b[33m\"\u001b[39m\u001b[33mdf2\u001b[39m\u001b[33m\"\u001b[39m])\n\u001b[32m     21\u001b[39m \u001b[38;5;28;01mfor\u001b[39;00m col \u001b[38;5;129;01min\u001b[39;00m encoded.columns:\n\u001b[32m---> \u001b[39m\u001b[32m22\u001b[39m     encoded[col] = \u001b[43mLabelEncoder\u001b[49m\u001b[43m(\u001b[49m\u001b[43m)\u001b[49m\u001b[43m.\u001b[49m\u001b[43mfit_transform\u001b[49m\u001b[43m(\u001b[49m\u001b[43mencoded\u001b[49m\u001b[43m[\u001b[49m\u001b[43mcol\u001b[49m\u001b[43m]\u001b[49m\u001b[43m)\u001b[49m\n\u001b[32m     24\u001b[39m \u001b[38;5;28;01mreturn\u001b[39;00m encoded.loc[\u001b[33m\"\u001b[39m\u001b[33mdf1\u001b[39m\u001b[33m\"\u001b[39m], encoded.loc[\u001b[33m\"\u001b[39m\u001b[33mdf2\u001b[39m\u001b[33m\"\u001b[39m]\n",
      "\u001b[36mFile \u001b[39m\u001b[32m~/Library/CloudStorage/Dropbox/5_Career 工作/20231016_NICS 資安院/3_工藝：PETsARD/petsard/.venv/lib/python3.11/site-packages/sklearn/preprocessing/_label.py:111\u001b[39m, in \u001b[36mLabelEncoder.fit_transform\u001b[39m\u001b[34m(self, y)\u001b[39m\n\u001b[32m     98\u001b[39m \u001b[38;5;250m\u001b[39m\u001b[33;03m\"\"\"Fit label encoder and return encoded labels.\u001b[39;00m\n\u001b[32m     99\u001b[39m \n\u001b[32m    100\u001b[39m \u001b[33;03mParameters\u001b[39;00m\n\u001b[32m   (...)\u001b[39m\u001b[32m    108\u001b[39m \u001b[33;03m    Encoded labels.\u001b[39;00m\n\u001b[32m    109\u001b[39m \u001b[33;03m\"\"\"\u001b[39;00m\n\u001b[32m    110\u001b[39m y = column_or_1d(y, warn=\u001b[38;5;28;01mTrue\u001b[39;00m)\n\u001b[32m--> \u001b[39m\u001b[32m111\u001b[39m \u001b[38;5;28mself\u001b[39m.classes_, y = \u001b[43m_unique\u001b[49m\u001b[43m(\u001b[49m\u001b[43my\u001b[49m\u001b[43m,\u001b[49m\u001b[43m \u001b[49m\u001b[43mreturn_inverse\u001b[49m\u001b[43m=\u001b[49m\u001b[38;5;28;43;01mTrue\u001b[39;49;00m\u001b[43m)\u001b[49m\n\u001b[32m    112\u001b[39m \u001b[38;5;28;01mreturn\u001b[39;00m y\n",
      "\u001b[36mFile \u001b[39m\u001b[32m~/Library/CloudStorage/Dropbox/5_Career 工作/20231016_NICS 資安院/3_工藝：PETsARD/petsard/.venv/lib/python3.11/site-packages/sklearn/utils/_encode.py:52\u001b[39m, in \u001b[36m_unique\u001b[39m\u001b[34m(values, return_inverse, return_counts)\u001b[39m\n\u001b[32m     21\u001b[39m \u001b[38;5;250m\u001b[39m\u001b[33;03m\"\"\"Helper function to find unique values with support for python objects.\u001b[39;00m\n\u001b[32m     22\u001b[39m \n\u001b[32m     23\u001b[39m \u001b[33;03mUses pure python method for object dtype, and numpy method for\u001b[39;00m\n\u001b[32m   (...)\u001b[39m\u001b[32m     49\u001b[39m \u001b[33;03m    array. Only provided if `return_counts` is True.\u001b[39;00m\n\u001b[32m     50\u001b[39m \u001b[33;03m\"\"\"\u001b[39;00m\n\u001b[32m     51\u001b[39m \u001b[38;5;28;01mif\u001b[39;00m values.dtype == \u001b[38;5;28mobject\u001b[39m:\n\u001b[32m---> \u001b[39m\u001b[32m52\u001b[39m     \u001b[38;5;28;01mreturn\u001b[39;00m \u001b[43m_unique_python\u001b[49m\u001b[43m(\u001b[49m\n\u001b[32m     53\u001b[39m \u001b[43m        \u001b[49m\u001b[43mvalues\u001b[49m\u001b[43m,\u001b[49m\u001b[43m \u001b[49m\u001b[43mreturn_inverse\u001b[49m\u001b[43m=\u001b[49m\u001b[43mreturn_inverse\u001b[49m\u001b[43m,\u001b[49m\u001b[43m \u001b[49m\u001b[43mreturn_counts\u001b[49m\u001b[43m=\u001b[49m\u001b[43mreturn_counts\u001b[49m\n\u001b[32m     54\u001b[39m \u001b[43m    \u001b[49m\u001b[43m)\u001b[49m\n\u001b[32m     55\u001b[39m \u001b[38;5;66;03m# numerical\u001b[39;00m\n\u001b[32m     56\u001b[39m \u001b[38;5;28;01mreturn\u001b[39;00m _unique_np(\n\u001b[32m     57\u001b[39m     values, return_inverse=return_inverse, return_counts=return_counts\n\u001b[32m     58\u001b[39m )\n",
      "\u001b[36mFile \u001b[39m\u001b[32m~/Library/CloudStorage/Dropbox/5_Career 工作/20231016_NICS 資安院/3_工藝：PETsARD/petsard/.venv/lib/python3.11/site-packages/sklearn/utils/_encode.py:188\u001b[39m, in \u001b[36m_unique_python\u001b[39m\u001b[34m(values, return_inverse, return_counts)\u001b[39m\n\u001b[32m    186\u001b[39m \u001b[38;5;28;01mexcept\u001b[39;00m \u001b[38;5;167;01mTypeError\u001b[39;00m:\n\u001b[32m    187\u001b[39m     types = \u001b[38;5;28msorted\u001b[39m(t.\u001b[34m__qualname__\u001b[39m \u001b[38;5;28;01mfor\u001b[39;00m t \u001b[38;5;129;01min\u001b[39;00m \u001b[38;5;28mset\u001b[39m(\u001b[38;5;28mtype\u001b[39m(v) \u001b[38;5;28;01mfor\u001b[39;00m v \u001b[38;5;129;01min\u001b[39;00m values))\n\u001b[32m--> \u001b[39m\u001b[32m188\u001b[39m     \u001b[38;5;28;01mraise\u001b[39;00m \u001b[38;5;167;01mTypeError\u001b[39;00m(\n\u001b[32m    189\u001b[39m         \u001b[33m\"\u001b[39m\u001b[33mEncoders require their input argument must be uniformly \u001b[39m\u001b[33m\"\u001b[39m\n\u001b[32m    190\u001b[39m         \u001b[33mf\u001b[39m\u001b[33m\"\u001b[39m\u001b[33mstrings or numbers. Got \u001b[39m\u001b[38;5;132;01m{\u001b[39;00mtypes\u001b[38;5;132;01m}\u001b[39;00m\u001b[33m\"\u001b[39m\n\u001b[32m    191\u001b[39m     )\n\u001b[32m    192\u001b[39m ret = (uniques,)\n\u001b[32m    194\u001b[39m \u001b[38;5;28;01mif\u001b[39;00m return_inverse:\n",
      "\u001b[31mTypeError\u001b[39m: Encoders require their input argument must be uniformly strings or numbers. Got ['float', 'str']"
     ]
    }
   ],
   "source": [
    "evaluation = Evaluator(\n",
    "    method=\"anonymeter-linkability\",\n",
    "    n_attacks=3,\n",
    "    aux_cols=[\n",
    "        [\"age\", \"marital-status\", \"relationship\", \"race\", \"gender\"],\n",
    "        [\"workclass\", \"education\", \"educational-num\", \"occupation\"],\n",
    "    ],\n",
    ")\n",
    "evaluation.create()\n",
    "\n",
    "eval_result = evaluation.eval(\n",
    "    data={\n",
    "        \"ori\": train_data,\n",
    "        \"control\": test_data,\n",
    "        \"syn\": satisfy_data,\n",
    "    }\n",
    ")\n",
    "\n",
    "print(eval_result[\"global\"].head(1))\n",
    "print(eval_result[\"details\"])"
   ]
  },
  {
   "cell_type": "markdown",
   "id": "63feff14",
   "metadata": {},
   "source": [
    "## Evaluator - Inference"
   ]
  },
  {
   "cell_type": "code",
   "execution_count": null,
   "id": "fe60cbda",
   "metadata": {},
   "outputs": [
    {
     "name": "stdout",
     "output_type": "stream",
     "text": [
      "        risk  risk_CI_btm  risk_CI_top  attack_rate  attack_rate_err  \\\n",
      "result   0.0          0.0          0.9         0.28             0.28   \n",
      "\n",
      "        baseline_rate  baseline_rate_err  control_rate  control_rate_err  \n",
      "result           0.43               0.37          0.57              0.37  \n",
      "None\n"
     ]
    },
    {
     "name": "stderr",
     "output_type": "stream",
     "text": [
      "/Users/justyn.chen/Library/CloudStorage/Dropbox/5_Career 工作/20231016_NICS 資安院/3_工藝：PETsARD/petsard/.venv/lib/python3.11/site-packages/anonymeter/stats/confidence.py:218: UserWarning: Attack is as good or worse as baseline model. Estimated rates: attack = 0.28074851587752275, baseline = 0.42691617195917425. Analysis results cannot be trusted.\n",
      "  self._sanity_check()\n"
     ]
    }
   ],
   "source": [
    "evaluation = Evaluator(\n",
    "    method=\"anonymeter-inference\",\n",
    "    n_attacks=3,\n",
    "    secret=\"income\",\n",
    ")\n",
    "evaluation.create()\n",
    "\n",
    "eval_result = evaluation.eval(\n",
    "    data={\n",
    "        \"ori\": train_data,\n",
    "        \"control\": test_data,\n",
    "        \"syn\": satisfy_data,\n",
    "    }\n",
    ")\n",
    "\n",
    "print(eval_result[\"global\"].head(1))\n",
    "print(eval_result[\"details\"])"
   ]
  },
  {
   "cell_type": "markdown",
   "id": "4ea5f7e1",
   "metadata": {},
   "source": [
    "## Evaluator - Diagnostic"
   ]
  },
  {
   "cell_type": "code",
   "execution_count": null,
   "id": "feb781d6",
   "metadata": {},
   "outputs": [
    {
     "name": "stdout",
     "output_type": "stream",
     "text": [
      "Generating report ...\n",
      "\n",
      "(1/2) Evaluating Data Validity: |██████████| 15/15 [00:00<00:00, 1134.99it/s]|\n",
      "Data Validity Score: 100.0%\n",
      "\n",
      "(2/2) Evaluating Data Structure: |██████████| 1/1 [00:00<00:00, 1388.38it/s]|\n",
      "Data Structure Score: 100.0%\n",
      "\n",
      "Overall Score (Average): 100.0%\n",
      "\n",
      "        Score  Data Validity  Data Structure\n",
      "result    1.0            NaN             NaN\n",
      "          Property             Metric  Score\n",
      "age  Data Validity  BoundaryAdherence    1.0\n",
      "          Property             Metric  Score\n",
      "age  Data Validity  BoundaryAdherence    1.0\n"
     ]
    }
   ],
   "source": [
    "evaluation = Evaluator(method=\"sdmetrics-diagnosticreport\")\n",
    "evaluation.create()\n",
    "\n",
    "eval_result = evaluation.eval(\n",
    "    data={\n",
    "        \"ori\": train_data,\n",
    "        \"control\": test_data,\n",
    "        \"syn\": satisfy_data,\n",
    "    }\n",
    ")\n",
    "\n",
    "print(eval_result[\"global\"].head(1))\n",
    "print(eval_result[\"columnwise\"].head(1))\n",
    "print(eval_result[\"pairwise\"].head(1))"
   ]
  },
  {
   "cell_type": "markdown",
   "id": "3ee78252",
   "metadata": {},
   "source": [
    "## Evaluator - Quality"
   ]
  },
  {
   "cell_type": "code",
   "execution_count": null,
   "id": "1dfd8150",
   "metadata": {},
   "outputs": [
    {
     "name": "stdout",
     "output_type": "stream",
     "text": [
      "Generating report ...\n",
      "\n",
      "(1/2) Evaluating Column Shapes: |██████████| 15/15 [00:00<00:00, 145.69it/s]|\n",
      "Column Shapes Score: 94.23%\n",
      "\n",
      "(2/2) Evaluating Column Pair Trends: |██████████| 105/105 [00:00<00:00, 409.22it/s]|\n",
      "Column Pair Trends Score: 60.21%\n",
      "\n",
      "Overall Score (Average): 77.22%\n",
      "\n",
      "        Score  Column Shapes  Column Pair Trends\n",
      "result   0.77            NaN                 NaN\n",
      "          Property        Metric     Score\n",
      "age  Column Shapes  KSComplement  0.961759\n",
      "                         Property                 Metric     Score  \\\n",
      "age workclass  Column Pair Trends  ContingencySimilarity  0.859197   \n",
      "\n",
      "               Real Correlation  Synthetic Correlation Error  \n",
      "age workclass               NaN                    NaN  None  \n"
     ]
    }
   ],
   "source": [
    "evaluation = Evaluator(method=\"sdmetrics-qualityreport\")\n",
    "evaluation.create()\n",
    "\n",
    "eval_result = evaluation.eval(\n",
    "    data={\n",
    "        \"ori\": train_data,\n",
    "        \"control\": test_data,\n",
    "        \"syn\": satisfy_data,\n",
    "    }\n",
    ")\n",
    "\n",
    "print(eval_result[\"global\"].head(1))\n",
    "print(eval_result[\"columnwise\"].head(1))\n",
    "print(eval_result[\"pairwise\"].head(1))"
   ]
  },
  {
   "cell_type": "code",
   "execution_count": null,
   "id": "e9ece145",
   "metadata": {},
   "outputs": [
    {
     "name": "stdout",
     "output_type": "stream",
     "text": [
      "   ori_mean  ori_std  syn_mean  syn_std  diff\n",
      "0      0.86     0.01      0.77      0.0 -0.09\n"
     ]
    }
   ],
   "source": [
    "evaluation = Evaluator(\n",
    "    method=\"mlutility-classification\",\n",
    "    target=\"income\",\n",
    ")\n",
    "evaluation.create()\n",
    "\n",
    "eval_result = evaluation.eval(\n",
    "    data={\n",
    "        \"ori\": train_data,\n",
    "        \"control\": test_data,\n",
    "        \"syn\": satisfy_data,\n",
    "    }\n",
    ")\n",
    "\n",
    "print(eval_result[\"global\"].head(1))"
   ]
  },
  {
   "cell_type": "markdown",
   "id": "54043aa5",
   "metadata": {},
   "source": [
    "## Evaluator - Classification"
   ]
  },
  {
   "cell_type": "markdown",
   "id": "describer",
   "metadata": {},
   "source": [
    "# Describer"
   ]
  },
  {
   "cell_type": "code",
   "execution_count": null,
   "id": "desc_test",
   "metadata": {},
   "outputs": [
    {
     "name": "stdout",
     "output_type": "stream",
     "text": [
      "   row_count  col_count  na_count\n",
      "0      22795         15         0\n",
      "     mean  median    std   min   max  kurtosis  skew     q1     q3  na_count  \\\n",
      "age  38.2   36.86  12.11  17.0  78.0     -0.44  0.47  28.52  46.49       0.0   \n",
      "\n",
      "    nunique  \n",
      "age    <NA>  \n",
      "  column1 column2  corr\n",
      "0     age     age   1.0\n"
     ]
    }
   ],
   "source": [
    "from petsard.evaluator import Describer\n",
    "\n",
    "\n",
    "desc = Describer(method=\"default\")\n",
    "desc.create()\n",
    "\n",
    "desc_result = desc.eval(\n",
    "    data={\n",
    "        \"data\": satisfy_data,\n",
    "    }\n",
    ")\n",
    "\n",
    "print(desc_result[\"global\"].head(1))\n",
    "print(desc_result[\"columnwise\"].head(1))\n",
    "print(desc_result[\"pairwise\"].head(1))"
   ]
  },
  {
   "cell_type": "markdown",
   "id": "reporter",
   "metadata": {},
   "source": [
    "# Reporter"
   ]
  },
  {
   "cell_type": "markdown",
   "id": "dd040cfc",
   "metadata": {},
   "source": [
    "## Reporter - Save Data"
   ]
  },
  {
   "cell_type": "code",
   "execution_count": null,
   "id": "714f633d",
   "metadata": {},
   "outputs": [
    {
     "name": "stdout",
     "output_type": "stream",
     "text": [
      "Now is petsard_Postprocessor[exp1] save to csv...\n"
     ]
    }
   ],
   "source": [
    "from petsard.reporter import Reporter\n",
    "\n",
    "rpt = Reporter(\n",
    "    method=\"save_data\",\n",
    "    source=\"Postprocessor\",\n",
    ")\n",
    "rpt.create({(\"Postprocessor\", \"exp1\"): satisfy_data})\n",
    "rpt.report()"
   ]
  },
  {
   "cell_type": "markdown",
   "id": "1e6dfbfb",
   "metadata": {},
   "source": [
    "## Reporter - Save Report"
   ]
  },
  {
   "cell_type": "code",
   "execution_count": null,
   "id": "reporter_savereport",
   "metadata": {},
   "outputs": [
    {
     "name": "stdout",
     "output_type": "stream",
     "text": [
      "Now is petsard[Report]_[global] save to csv...\n"
     ]
    }
   ],
   "source": [
    "rpt = Reporter(\n",
    "    method=\"save_report\",\n",
    "    granularity=\"global\",\n",
    ")\n",
    "rpt.create(\n",
    "    {\n",
    "        (\"Evaluator\", \"eval1_[global]\"): desc_result[\"global\"],\n",
    "    }\n",
    ")\n",
    "rpt.report()"
   ]
  }
 ],
 "metadata": {
  "kernelspec": {
   "display_name": "petsard",
   "language": "python",
   "name": "python3"
  },
  "language_info": {
   "codemirror_mode": {
    "name": "ipython",
    "version": 3
   },
   "file_extension": ".py",
   "mimetype": "text/x-python",
   "name": "python",
   "nbconvert_exporter": "python",
   "pygments_lexer": "ipython3",
   "version": "3.11.12"
  }
 },
 "nbformat": 4,
 "nbformat_minor": 5
}
