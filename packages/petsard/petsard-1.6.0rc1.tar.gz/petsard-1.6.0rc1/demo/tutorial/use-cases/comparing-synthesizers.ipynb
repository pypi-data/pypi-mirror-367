{
 "cells": [
  {
   "cell_type": "markdown",
   "metadata": {},
   "source": [
    "# Environment setting / 環境設定\n",
    "Comparing Synthesizers / 比較合成演算法"
   ]
  },
  {
   "cell_type": "code",
   "execution_count": 1,
   "metadata": {},
   "outputs": [
    {
     "name": "stdout",
     "output_type": "stream",
     "text": [
      "🚀 PETsARD v1.5.1\n",
      "📅 2025-07-31 13:16:31 UTC+8\n",
      "📁 Subfolder: tutorial/use-cases\n",
      "📄 YAML path: petsard/demo/tutorial/use-cases/comparing-synthesizers.yaml\n",
      "⚙️ Configuration content:\n",
      "---\n",
      "Loader:\n",
      "  data:\n",
      "    filepath: 'benchmark/adult-income.csv'\n",
      "Preprocessor:\n",
      "  demo:\n",
      "    method: 'default'\n",
      "Synthesizer:\n",
      "  gaussian-copula:\n",
      "    method: 'sdv-single_table-gaussiancopula'\n",
      "  tvae:\n",
      "    method: 'sdv-single_table-tvae'\n",
      "Postprocessor:\n",
      "  demo:\n",
      "    method: 'default'\n",
      "Evaluator:\n",
      "  demo-quality:\n",
      "    method: 'sdmetrics-qualityreport'\n",
      "Reporter:\n",
      "  output:\n",
      "    method: 'save_data'\n",
      "    source: 'Synthesizer'\n",
      "  save_report_global:\n",
      "    method: 'save_report'\n",
      "    granularity: 'global'\n",
      "...\n"
     ]
    }
   ],
   "source": [
    "import os\n",
    "import sys\n",
    "from pathlib import Path\n",
    "\n",
    "# 自動載入 utils / Auto-load utils\n",
    "if \"COLAB_GPU\" in os.environ:\n",
    "    url = \"https://raw.githubusercontent.com/nics-tw/petsard/main/demo/utils.py\"\n",
    "    exec(open(url).read())\n",
    "else:\n",
    "    # 靜默搜尋 utils.py / Silent search for utils.py\n",
    "    current = Path.cwd()\n",
    "    for _ in range(5):\n",
    "        if (current / \"utils.py\").exists():\n",
    "            sys.path.insert(0, str(current))\n",
    "            break\n",
    "        current = current.parent\n",
    "\n",
    "    # 匯入 utils 模組 / Import utils module\n",
    "    from utils import quick_setup\n",
    "\n",
    "# 快速設定 / Quick setup\n",
    "is_colab, branch, yaml_path = quick_setup(\n",
    "    yaml_file=\"comparing-synthesizers.yaml\",\n",
    "    benchmark_data=[\n",
    "        \"adult-income\",\n",
    "    ],\n",
    "    branch=\"main\",  # 可選，預設為 \"main\"\n",
    ")\n",
    "\n",
    "from petsard import Executor"
   ]
  },
  {
   "cell_type": "markdown",
   "metadata": {},
   "source": [
    "# Execution and Result / 執行與結果"
   ]
  },
  {
   "cell_type": "code",
   "execution_count": null,
   "metadata": {},
   "outputs": [
    {
     "name": "stdout",
     "output_type": "stream",
     "text": [
      "Generating report ...\n",
      "\n",
      "(1/2) Evaluating Column Shapes: |██████████| 15/15 [00:00<00:00, 126.80it/s]|\n",
      "Column Shapes Score: 94.32%\n",
      "\n",
      "(2/2) Evaluating Column Pair Trends: |██████████| 105/105 [00:00<00:00, 407.80it/s]|\n",
      "Column Pair Trends Score: 59.25%\n",
      "\n",
      "Overall Score (Average): 76.79%\n",
      "\n",
      "Now is petsard_Loader[data]_Preprocessor[demo]_Synthesizer[gaussian-copula] save to csv...\n",
      "Now is petsard[Report]_[global] save to csv...\n"
     ]
    }
   ],
   "source": [
    "exec_case = Executor(config=yaml_path)\n",
    "exec_case.run()"
   ]
  },
  {
   "cell_type": "code",
   "execution_count": null,
   "metadata": {},
   "outputs": [
    {
     "data": {
      "text/html": [
       "<div>\n",
       "<style scoped>\n",
       "    .dataframe tbody tr th:only-of-type {\n",
       "        vertical-align: middle;\n",
       "    }\n",
       "\n",
       "    .dataframe tbody tr th {\n",
       "        vertical-align: top;\n",
       "    }\n",
       "\n",
       "    .dataframe thead th {\n",
       "        text-align: right;\n",
       "    }\n",
       "</style>\n",
       "<table border=\"1\" class=\"dataframe\">\n",
       "  <thead>\n",
       "    <tr style=\"text-align: right;\">\n",
       "      <th></th>\n",
       "      <th>full_expt_name</th>\n",
       "      <th>Loader</th>\n",
       "      <th>Preprocessor</th>\n",
       "      <th>Synthesizer</th>\n",
       "      <th>Postprocessor</th>\n",
       "      <th>Evaluator</th>\n",
       "      <th>Score</th>\n",
       "      <th>Column Shapes</th>\n",
       "      <th>Column Pair Trends</th>\n",
       "    </tr>\n",
       "  </thead>\n",
       "  <tbody>\n",
       "    <tr>\n",
       "      <th>0</th>\n",
       "      <td>Loader[data]_Preprocessor[demo]_Synthesizer[ct...</td>\n",
       "      <td>data</td>\n",
       "      <td>demo</td>\n",
       "      <td>ctgan</td>\n",
       "      <td>demo</td>\n",
       "      <td>[global]</td>\n",
       "      <td>0.704766</td>\n",
       "      <td>0.903543</td>\n",
       "      <td>0.505989</td>\n",
       "    </tr>\n",
       "    <tr>\n",
       "      <th>1</th>\n",
       "      <td>Loader[data]_Preprocessor[demo]_Synthesizer[ga...</td>\n",
       "      <td>data</td>\n",
       "      <td>demo</td>\n",
       "      <td>gaussian-copula</td>\n",
       "      <td>demo</td>\n",
       "      <td>[global]</td>\n",
       "      <td>0.779163</td>\n",
       "      <td>0.953704</td>\n",
       "      <td>0.604621</td>\n",
       "    </tr>\n",
       "    <tr>\n",
       "      <th>2</th>\n",
       "      <td>Loader[data]_Preprocessor[demo]_Synthesizer[tv...</td>\n",
       "      <td>data</td>\n",
       "      <td>demo</td>\n",
       "      <td>tvae</td>\n",
       "      <td>demo</td>\n",
       "      <td>[global]</td>\n",
       "      <td>0.687809</td>\n",
       "      <td>0.859874</td>\n",
       "      <td>0.515744</td>\n",
       "    </tr>\n",
       "  </tbody>\n",
       "</table>\n",
       "</div>"
      ],
      "text/plain": [
       "                                      full_expt_name Loader Preprocessor  \\\n",
       "0  Loader[data]_Preprocessor[demo]_Synthesizer[ct...   data         demo   \n",
       "1  Loader[data]_Preprocessor[demo]_Synthesizer[ga...   data         demo   \n",
       "2  Loader[data]_Preprocessor[demo]_Synthesizer[tv...   data         demo   \n",
       "\n",
       "       Synthesizer Postprocessor Evaluator     Score  Column Shapes  \\\n",
       "0            ctgan          demo  [global]  0.704766       0.903543   \n",
       "1  gaussian-copula          demo  [global]  0.779163       0.953704   \n",
       "2             tvae          demo  [global]  0.687809       0.859874   \n",
       "\n",
       "   Column Pair Trends  \n",
       "0            0.505989  \n",
       "1            0.604621  \n",
       "2            0.515744  "
      ]
     },
     "execution_count": 6,
     "metadata": {},
     "output_type": "execute_result"
    }
   ],
   "source": [
    "exec_case.get_result()[\n",
    "    \"Loader[data]_Preprocessor[demo]_Synthesizer[tvae]_Postprocessor[demo]_Evaluator[demo-quality]_Reporter[save_report_global]\"\n",
    "][\"[global]\"]"
   ]
  }
 ],
 "metadata": {
  "kernelspec": {
   "display_name": "petsard",
   "language": "python",
   "name": "python3"
  },
  "language_info": {
   "codemirror_mode": {
    "name": "ipython",
    "version": 3
   },
   "file_extension": ".py",
   "mimetype": "text/x-python",
   "name": "python",
   "nbconvert_exporter": "python",
   "pygments_lexer": "ipython3",
   "version": "3.11.12"
  }
 },
 "nbformat": 4,
 "nbformat_minor": 2
}
