{
 "cells": [
  {
   "cell_type": "markdown",
   "metadata": {},
   "source": [
    "# Environment setting / 環境設定\n",
    "Timing / 運作計時"
   ]
  },
  {
   "cell_type": "code",
   "execution_count": 1,
   "metadata": {},
   "outputs": [
    {
     "name": "stdout",
     "output_type": "stream",
     "text": [
      "🚀 PETsARD v1.5.1\n",
      "📅 2025-07-31 13:34:27 UTC+8\n",
      "📁 Subfolder: tutorial/use-cases\n",
      "📄 YAML path: petsard/demo/tutorial/use-cases/timing.yaml\n",
      "⚙️ Configuration content:\n",
      "---\n",
      "Loader:\n",
      "  data:\n",
      "    filepath: 'benchmark/adult-income.csv'\n",
      "Synthesizer:\n",
      "  default:\n",
      "    method: 'default'\n",
      "Evaluator:\n",
      "  default:\n",
      "    method: 'default'\n",
      "Reporter:\n",
      "  save_timing:\n",
      "    method: 'save_timing'\n",
      "    time_unit: 'seconds'\n",
      "...\n"
     ]
    }
   ],
   "source": [
    "import os\n",
    "import sys\n",
    "from pathlib import Path\n",
    "\n",
    "# 自動載入 utils / Auto-load utils\n",
    "if \"COLAB_GPU\" in os.environ:\n",
    "    url = \"https://raw.githubusercontent.com/nics-tw/petsard/main/demo/utils.py\"\n",
    "    exec(open(url).read())\n",
    "else:\n",
    "    # 靜默搜尋 utils.py / Silent search for utils.py\n",
    "    current = Path.cwd()\n",
    "    for _ in range(5):\n",
    "        if (current / \"utils.py\").exists():\n",
    "            sys.path.insert(0, str(current))\n",
    "            break\n",
    "        current = current.parent\n",
    "\n",
    "    # 匯入 utils 模組 / Import utils module\n",
    "    from utils import quick_setup\n",
    "\n",
    "# 快速設定 / Quick setup\n",
    "is_colab, branch, yaml_path = quick_setup(\n",
    "    yaml_file=\"timing.yaml\",\n",
    "    benchmark_data=[\n",
    "        \"adult-income\",\n",
    "    ],\n",
    "    branch=\"main\",  # 可選，預設為 \"main\"\n",
    ")\n",
    "\n",
    "from petsard import Executor"
   ]
  },
  {
   "cell_type": "markdown",
   "metadata": {},
   "source": [
    "# Execution and Result / 執行與結果"
   ]
  },
  {
   "cell_type": "code",
   "execution_count": 2,
   "metadata": {},
   "outputs": [
    {
     "name": "stdout",
     "output_type": "stream",
     "text": [
      "Generating report ...\n",
      "\n",
      "(1/2) Evaluating Column Shapes: |██████████| 15/15 [00:00<00:00, 83.44it/s]|\n",
      "Column Shapes Score: 74.03%\n",
      "\n",
      "(2/2) Evaluating Column Pair Trends: |██████████| 105/105 [00:00<00:00, 176.03it/s]|\n",
      "Column Pair Trends Score: 62.1%\n",
      "\n",
      "Overall Score (Average): 68.06%\n",
      "\n",
      "Now is petsard_timing save to csv...\n"
     ]
    }
   ],
   "source": [
    "exec_case = Executor(config=yaml_path)\n",
    "exec_case.run()"
   ]
  },
  {
   "cell_type": "code",
   "execution_count": 3,
   "metadata": {},
   "outputs": [
    {
     "data": {
      "text/html": [
       "<div>\n",
       "<style scoped>\n",
       "    .dataframe tbody tr th:only-of-type {\n",
       "        vertical-align: middle;\n",
       "    }\n",
       "\n",
       "    .dataframe tbody tr th {\n",
       "        vertical-align: top;\n",
       "    }\n",
       "\n",
       "    .dataframe thead th {\n",
       "        text-align: right;\n",
       "    }\n",
       "</style>\n",
       "<table border=\"1\" class=\"dataframe\">\n",
       "  <thead>\n",
       "    <tr style=\"text-align: right;\">\n",
       "      <th></th>\n",
       "      <th>record_id</th>\n",
       "      <th>module_name</th>\n",
       "      <th>experiment_name</th>\n",
       "      <th>step_name</th>\n",
       "      <th>start_time</th>\n",
       "      <th>end_time</th>\n",
       "      <th>duration_seconds</th>\n",
       "      <th>source</th>\n",
       "      <th>status</th>\n",
       "    </tr>\n",
       "  </thead>\n",
       "  <tbody>\n",
       "    <tr>\n",
       "      <th>0</th>\n",
       "      <td>timing_000001_20250731_133427</td>\n",
       "      <td>LoaderOp</td>\n",
       "      <td>default</td>\n",
       "      <td>run</td>\n",
       "      <td>2025-07-31T13:34:27.510115</td>\n",
       "      <td>2025-07-31T13:34:27.783464</td>\n",
       "      <td>0.27</td>\n",
       "      <td>logging</td>\n",
       "      <td>completed</td>\n",
       "    </tr>\n",
       "    <tr>\n",
       "      <th>1</th>\n",
       "      <td>timing_000002_20250731_133427</td>\n",
       "      <td>SynthesizerOp</td>\n",
       "      <td>default</td>\n",
       "      <td>run</td>\n",
       "      <td>2025-07-31T13:34:27.783820</td>\n",
       "      <td>2025-07-31T13:34:34.995137</td>\n",
       "      <td>7.21</td>\n",
       "      <td>logging</td>\n",
       "      <td>completed</td>\n",
       "    </tr>\n",
       "    <tr>\n",
       "      <th>2</th>\n",
       "      <td>timing_000003_20250731_133434</td>\n",
       "      <td>EvaluatorOp</td>\n",
       "      <td>default</td>\n",
       "      <td>run</td>\n",
       "      <td>2025-07-31T13:34:34.996587</td>\n",
       "      <td>2025-07-31T13:34:35.925512</td>\n",
       "      <td>0.93</td>\n",
       "      <td>logging</td>\n",
       "      <td>completed</td>\n",
       "    </tr>\n",
       "    <tr>\n",
       "      <th>3</th>\n",
       "      <td>timing_000004_20250731_133435</td>\n",
       "      <td>ReporterOp</td>\n",
       "      <td>default</td>\n",
       "      <td>run</td>\n",
       "      <td>2025-07-31T13:34:35.926662</td>\n",
       "      <td>2025-07-31T13:34:35.928515</td>\n",
       "      <td>0.00</td>\n",
       "      <td>logging</td>\n",
       "      <td>completed</td>\n",
       "    </tr>\n",
       "  </tbody>\n",
       "</table>\n",
       "</div>"
      ],
      "text/plain": [
       "                       record_id    module_name experiment_name step_name  \\\n",
       "0  timing_000001_20250731_133427       LoaderOp         default       run   \n",
       "1  timing_000002_20250731_133427  SynthesizerOp         default       run   \n",
       "2  timing_000003_20250731_133434    EvaluatorOp         default       run   \n",
       "3  timing_000004_20250731_133435     ReporterOp         default       run   \n",
       "\n",
       "                   start_time                    end_time  duration_seconds  \\\n",
       "0  2025-07-31T13:34:27.510115  2025-07-31T13:34:27.783464              0.27   \n",
       "1  2025-07-31T13:34:27.783820  2025-07-31T13:34:34.995137              7.21   \n",
       "2  2025-07-31T13:34:34.996587  2025-07-31T13:34:35.925512              0.93   \n",
       "3  2025-07-31T13:34:35.926662  2025-07-31T13:34:35.928515              0.00   \n",
       "\n",
       "    source     status  \n",
       "0  logging  completed  \n",
       "1  logging  completed  \n",
       "2  logging  completed  \n",
       "3  logging  completed  "
      ]
     },
     "execution_count": 3,
     "metadata": {},
     "output_type": "execute_result"
    }
   ],
   "source": [
    "exec_case.get_timing()"
   ]
  }
 ],
 "metadata": {
  "kernelspec": {
   "display_name": "petsard",
   "language": "python",
   "name": "python3"
  },
  "language_info": {
   "codemirror_mode": {
    "name": "ipython",
    "version": 3
   },
   "file_extension": ".py",
   "mimetype": "text/x-python",
   "name": "python",
   "nbconvert_exporter": "python",
   "pygments_lexer": "ipython3",
   "version": "3.11.12"
  }
 },
 "nbformat": 4,
 "nbformat_minor": 2
}
