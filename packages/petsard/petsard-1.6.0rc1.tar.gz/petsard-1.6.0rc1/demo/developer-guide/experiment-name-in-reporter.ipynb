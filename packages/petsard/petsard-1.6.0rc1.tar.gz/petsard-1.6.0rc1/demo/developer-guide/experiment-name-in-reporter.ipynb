{
 "cells": [
  {
   "cell_type": "markdown",
   "metadata": {},
   "source": [
    "# Environment setting / 環境設定\n",
    "Experiment Naming in Reporter /  Reporter 中的實驗名稱"
   ]
  },
  {
   "cell_type": "code",
   "execution_count": 1,
   "metadata": {},
   "outputs": [
    {
     "name": "stdout",
     "output_type": "stream",
     "text": [
      "🚀 PETsARD v1.6.0rc1\n",
      "📅 2025-08-06 12:36:53 UTC+8\n",
      "📁 Subfolder: developer-guide\n",
      "📄 YAML path: petsard/demo/developer-guide/experiment-name-in-reporter.yaml\n",
      "⚙️ Configuration content:\n",
      "---\n",
      "Splitter:\n",
      "  custom:\n",
      "    method: 'custom_data'\n",
      "    filepath:\n",
      "      ori: 'benchmark/adult-income_ori.csv'\n",
      "      control: 'benchmark/adult-income_control.csv'\n",
      "Synthesizer:\n",
      "  custom:\n",
      "    method: 'custom_data'\n",
      "    filepath: 'benchmark/adult-income_syn.csv'\n",
      "Evaluator:\n",
      "  demo-diagnostic:\n",
      "    method: 'sdmetrics-diagnosticreport'\n",
      "  demo-quality:\n",
      "    method: 'sdmetrics-qualityreport'\n",
      "Reporter:\n",
      "  rpt:\n",
      "    method: 'save_report'\n",
      "    granularity: 'global'\n",
      "  rpt-new:\n",
      "    method: 'save_report'\n",
      "    granularity: 'global'\n",
      "    naming_strategy: 'compact'\n",
      "...\n"
     ]
    }
   ],
   "source": [
    "import os\n",
    "import sys\n",
    "from pathlib import Path\n",
    "\n",
    "# 自動載入 utils / Auto-load utils\n",
    "if \"COLAB_GPU\" in os.environ:\n",
    "    url = \"https://raw.githubusercontent.com/nics-tw/petsard/main/demo/utils.py\"\n",
    "    exec(open(url).read())\n",
    "else:\n",
    "    # 靜默搜尋 utils.py / Silent search for utils.py\n",
    "    current = Path.cwd()\n",
    "    for _ in range(5):\n",
    "        if (current / \"utils.py\").exists():\n",
    "            sys.path.insert(0, str(current))\n",
    "            break\n",
    "        current = current.parent\n",
    "\n",
    "    # 匯入 utils 模組 / Import utils module\n",
    "    from utils import quick_setup\n",
    "\n",
    "# 快速設定 / Quick setup\n",
    "is_colab, branch, yaml_path = quick_setup(\n",
    "    yaml_file=\"experiment-name-in-reporter.yaml\",\n",
    "    benchmark_data=[\n",
    "        \"adult-income_ori\",\n",
    "        \"adult-income_control\",\n",
    "        \"adult-income_syn\",\n",
    "    ],\n",
    "    branch=\"main\",  # 可選，預設為 \"main\"\n",
    ")\n",
    "\n",
    "from petsard import Executor"
   ]
  },
  {
   "cell_type": "markdown",
   "metadata": {},
   "source": [
    "# Execution and Result / 執行與結果"
   ]
  },
  {
   "cell_type": "code",
   "execution_count": 2,
   "metadata": {},
   "outputs": [
    {
     "name": "stdout",
     "output_type": "stream",
     "text": [
      "Generating report ...\n",
      "\n",
      "(1/2) Evaluating Data Validity: |██████████| 15/15 [00:00<00:00, 460.39it/s]|\n",
      "Data Validity Score: 100.0%\n",
      "\n",
      "(2/2) Evaluating Data Structure: |██████████| 1/1 [00:00<00:00, 750.19it/s]|\n",
      "Data Structure Score: 100.0%\n",
      "\n",
      "Overall Score (Average): 100.0%\n",
      "\n",
      "Generating report ...\n",
      "\n",
      "(1/2) Evaluating Column Shapes: |██████████| 15/15 [00:00<00:00, 105.95it/s]|\n",
      "Column Shapes Score: 95.26%\n",
      "\n",
      "(2/2) Evaluating Column Pair Trends: |██████████| 105/105 [00:00<00:00, 158.81it/s]|\n",
      "Column Pair Trends Score: 61.56%\n",
      "\n",
      "Overall Score (Average): 78.41%\n",
      "\n"
     ]
    }
   ],
   "source": [
    "exec_case = Executor(config=yaml_path)\n",
    "exec_case.run()"
   ]
  },
  {
   "cell_type": "code",
   "execution_count": 3,
   "metadata": {},
   "outputs": [
    {
     "data": {
      "text/html": [
       "<div>\n",
       "<style scoped>\n",
       "    .dataframe tbody tr th:only-of-type {\n",
       "        vertical-align: middle;\n",
       "    }\n",
       "\n",
       "    .dataframe tbody tr th {\n",
       "        vertical-align: top;\n",
       "    }\n",
       "\n",
       "    .dataframe thead th {\n",
       "        text-align: right;\n",
       "    }\n",
       "</style>\n",
       "<table border=\"1\" class=\"dataframe\">\n",
       "  <thead>\n",
       "    <tr style=\"text-align: right;\">\n",
       "      <th></th>\n",
       "      <th>full_expt_name</th>\n",
       "      <th>Splitter</th>\n",
       "      <th>Synthesizer</th>\n",
       "      <th>Evaluator</th>\n",
       "      <th>demo-diagnostic_Score</th>\n",
       "      <th>demo-diagnostic_Data Validity</th>\n",
       "      <th>demo-diagnostic_Data Structure</th>\n",
       "      <th>demo-quality_Score</th>\n",
       "      <th>demo-quality_Column Shapes</th>\n",
       "      <th>demo-quality_Column Pair Trends</th>\n",
       "    </tr>\n",
       "  </thead>\n",
       "  <tbody>\n",
       "    <tr>\n",
       "      <th>0</th>\n",
       "      <td>Splitter[custom_[1-1]]_Synthesizer[custom]_Eva...</td>\n",
       "      <td>custom_[1-1]</td>\n",
       "      <td>custom</td>\n",
       "      <td>[global]</td>\n",
       "      <td>1.0</td>\n",
       "      <td>1.0</td>\n",
       "      <td>1.0</td>\n",
       "      <td>0.78</td>\n",
       "      <td>0.95</td>\n",
       "      <td>0.62</td>\n",
       "    </tr>\n",
       "  </tbody>\n",
       "</table>\n",
       "</div>"
      ],
      "text/plain": [
       "                                      full_expt_name      Splitter  \\\n",
       "0  Splitter[custom_[1-1]]_Synthesizer[custom]_Eva...  custom_[1-1]   \n",
       "\n",
       "  Synthesizer Evaluator  demo-diagnostic_Score  demo-diagnostic_Data Validity  \\\n",
       "0      custom  [global]                    1.0                            1.0   \n",
       "\n",
       "   demo-diagnostic_Data Structure  demo-quality_Score  \\\n",
       "0                             1.0                0.78   \n",
       "\n",
       "   demo-quality_Column Shapes  demo-quality_Column Pair Trends  \n",
       "0                        0.95                             0.62  "
      ]
     },
     "execution_count": 3,
     "metadata": {},
     "output_type": "execute_result"
    }
   ],
   "source": [
    "exec_case.get_result()[\n",
    "    \"Splitter[custom_[1-1]]_Synthesizer[custom]_Evaluator[demo-quality]_Reporter[rpt]\"\n",
    "][\"[global]\"]"
   ]
  },
  {
   "cell_type": "code",
   "execution_count": 4,
   "metadata": {},
   "outputs": [
    {
     "data": {
      "text/html": [
       "<div>\n",
       "<style scoped>\n",
       "    .dataframe tbody tr th:only-of-type {\n",
       "        vertical-align: middle;\n",
       "    }\n",
       "\n",
       "    .dataframe tbody tr th {\n",
       "        vertical-align: top;\n",
       "    }\n",
       "\n",
       "    .dataframe thead th {\n",
       "        text-align: right;\n",
       "    }\n",
       "</style>\n",
       "<table border=\"1\" class=\"dataframe\">\n",
       "  <thead>\n",
       "    <tr style=\"text-align: right;\">\n",
       "      <th></th>\n",
       "      <th>full_expt_name</th>\n",
       "      <th>Splitter</th>\n",
       "      <th>Synthesizer</th>\n",
       "      <th>Evaluator</th>\n",
       "      <th>demo-diagnostic_Score</th>\n",
       "      <th>demo-diagnostic_Data Validity</th>\n",
       "      <th>demo-diagnostic_Data Structure</th>\n",
       "      <th>demo-quality_Score</th>\n",
       "      <th>demo-quality_Column Shapes</th>\n",
       "      <th>demo-quality_Column Pair Trends</th>\n",
       "    </tr>\n",
       "  </thead>\n",
       "  <tbody>\n",
       "    <tr>\n",
       "      <th>0</th>\n",
       "      <td>Splitter[custom_[1-1]]_Synthesizer[custom]_Eva...</td>\n",
       "      <td>custom_[1-1]</td>\n",
       "      <td>custom</td>\n",
       "      <td>[global]</td>\n",
       "      <td>1.0</td>\n",
       "      <td>1.0</td>\n",
       "      <td>1.0</td>\n",
       "      <td>0.78</td>\n",
       "      <td>0.95</td>\n",
       "      <td>0.62</td>\n",
       "    </tr>\n",
       "  </tbody>\n",
       "</table>\n",
       "</div>"
      ],
      "text/plain": [
       "                                      full_expt_name      Splitter  \\\n",
       "0  Splitter[custom_[1-1]]_Synthesizer[custom]_Eva...  custom_[1-1]   \n",
       "\n",
       "  Synthesizer Evaluator  demo-diagnostic_Score  demo-diagnostic_Data Validity  \\\n",
       "0      custom  [global]                    1.0                            1.0   \n",
       "\n",
       "   demo-diagnostic_Data Structure  demo-quality_Score  \\\n",
       "0                             1.0                0.78   \n",
       "\n",
       "   demo-quality_Column Shapes  demo-quality_Column Pair Trends  \n",
       "0                        0.95                             0.62  "
      ]
     },
     "execution_count": 4,
     "metadata": {},
     "output_type": "execute_result"
    }
   ],
   "source": [
    "exec_case.get_result()[\n",
    "    \"Splitter[custom_[1-1]]_Synthesizer[custom]_Evaluator[demo-quality]_Reporter[rpt-new]\"\n",
    "][\"[global]\"]"
   ]
  }
 ],
 "metadata": {
  "kernelspec": {
   "display_name": "petsard",
   "language": "python",
   "name": "python3"
  },
  "language_info": {
   "codemirror_mode": {
    "name": "ipython",
    "version": 3
   },
   "file_extension": ".py",
   "mimetype": "text/x-python",
   "name": "python",
   "nbconvert_exporter": "python",
   "pygments_lexer": "ipython3",
   "version": "3.11.12"
  }
 },
 "nbformat": 4,
 "nbformat_minor": 2
}
