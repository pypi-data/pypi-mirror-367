{
 "cells": [
  {
   "cell_type": "markdown",
   "metadata": {},
   "source": [
    "# Environment setting / 環境設定\n",
    "mpUCCs Singling-Out evaluation / 最大部分唯一欄位組合 指認性評測"
   ]
  },
  {
   "cell_type": "code",
   "execution_count": 1,
   "metadata": {},
   "outputs": [
    {
     "name": "stdout",
     "output_type": "stream",
     "text": [
      "🚀 PETsARD v1.5.1\n",
      "📅 2025-08-04 13:18:52 UTC+8\n",
      "📁 Subfolder: developer-guide\n",
      "📄 YAML path: petsard/demo/developer-guide/mpuccs.yaml\n",
      "⚙️ Configuration content:\n",
      "---\n",
      "Loader:\n",
      "  data:\n",
      "    filepath: 'benchmark/adult-income.csv'\n",
      "Splitter:\n",
      "  demo:\n",
      "    num_samples: 1\n",
      "    train_split_ratio: 0.8\n",
      "Preprocessor:\n",
      "  demo:\n",
      "    method: 'default'\n",
      "Synthesizer:\n",
      "  demo:\n",
      "    method: 'default'\n",
      "Postprocessor:\n",
      "  demo:\n",
      "    method: 'default'\n",
      "Evaluator:\n",
      "  demo-mpuccs:\n",
      "    method: 'mpuccs'\n",
      "    n_cols:\n",
      "      - 1\n",
      "      - 2\n",
      "      - 3\n",
      "      - 4\n",
      "      - 5\n",
      "Reporter:\n",
      "  output:\n",
      "    method: 'save_data'\n",
      "    source: 'Synthesizer'\n",
      "  save_report_global:\n",
      "    method: 'save_report'\n",
      "    granularity: 'global'\n",
      "...\n"
     ]
    }
   ],
   "source": [
    "import os\n",
    "import sys\n",
    "from pathlib import Path\n",
    "\n",
    "# 自動載入 utils / Auto-load utils\n",
    "if \"COLAB_GPU\" in os.environ:\n",
    "    url = \"https://raw.githubusercontent.com/nics-tw/petsard/main/demo/utils.py\"\n",
    "    exec(open(url).read())\n",
    "else:\n",
    "    # 靜默搜尋 utils.py / Silent search for utils.py\n",
    "    current = Path.cwd()\n",
    "    for _ in range(5):\n",
    "        if (current / \"utils.py\").exists():\n",
    "            sys.path.insert(0, str(current))\n",
    "            break\n",
    "        current = current.parent\n",
    "\n",
    "    # 匯入 utils 模組 / Import utils module\n",
    "    from utils import quick_setup\n",
    "\n",
    "# 快速設定 / Quick setup\n",
    "is_colab, branch, yaml_path = quick_setup(\n",
    "    yaml_file=\"mpuccs.yaml\",\n",
    "    benchmark_data=[\n",
    "        \"adult-income\",\n",
    "    ],\n",
    "    branch=\"main\",  # 可選，預設為 \"main\"\n",
    ")\n",
    "\n",
    "from petsard import Executor"
   ]
  },
  {
   "cell_type": "markdown",
   "metadata": {},
   "source": [
    "# Execution and Result / 執行與結果"
   ]
  },
  {
   "cell_type": "code",
   "execution_count": 2,
   "metadata": {},
   "outputs": [
    {
     "name": "stderr",
     "output_type": "stream",
     "text": [
      "Field 15/15 - Processing income combinations: 100%|██████████| 4943/4943 [16:21<00:00,  5.04combo/s]          \n"
     ]
    },
    {
     "name": "stdout",
     "output_type": "stream",
     "text": [
      "Now is petsard_Loader[data]_Splitter[demo_[1-1]]_Preprocessor[demo]_Synthesizer[demo] save to csv...\n",
      "Now is petsard[Report]_[global] save to csv...\n"
     ]
    }
   ],
   "source": [
    "exec_case = Executor(config=yaml_path)\n",
    "exec_case.run()"
   ]
  },
  {
   "cell_type": "code",
   "execution_count": 3,
   "metadata": {},
   "outputs": [
    {
     "data": {
      "text/html": [
       "<div>\n",
       "<style scoped>\n",
       "    .dataframe tbody tr th:only-of-type {\n",
       "        vertical-align: middle;\n",
       "    }\n",
       "\n",
       "    .dataframe tbody tr th {\n",
       "        vertical-align: top;\n",
       "    }\n",
       "\n",
       "    .dataframe thead th {\n",
       "        text-align: right;\n",
       "    }\n",
       "</style>\n",
       "<table border=\"1\" class=\"dataframe\">\n",
       "  <thead>\n",
       "    <tr style=\"text-align: right;\">\n",
       "      <th></th>\n",
       "      <th>full_expt_name</th>\n",
       "      <th>Loader</th>\n",
       "      <th>Splitter</th>\n",
       "      <th>Preprocessor</th>\n",
       "      <th>Synthesizer</th>\n",
       "      <th>Postprocessor</th>\n",
       "      <th>Evaluator</th>\n",
       "      <th>demo-mpuccs_total_syn_records</th>\n",
       "      <th>demo-mpuccs_total_ori_records</th>\n",
       "      <th>demo-mpuccs_total_identified</th>\n",
       "      <th>demo-mpuccs_identification_rate</th>\n",
       "      <th>demo-mpuccs_weighted_identification_rate</th>\n",
       "      <th>demo-mpuccs_total_combinations_checked</th>\n",
       "      <th>demo-mpuccs_total_combinations_pruned</th>\n",
       "      <th>demo-mpuccs_config_n_cols</th>\n",
       "      <th>demo-mpuccs_config_min_entropy_delta</th>\n",
       "      <th>demo-mpuccs_config_field_decay_factor</th>\n",
       "      <th>demo-mpuccs_config_renyi_alpha</th>\n",
       "      <th>demo-mpuccs_config_numeric_precision</th>\n",
       "      <th>demo-mpuccs_config_datetime_precision</th>\n",
       "    </tr>\n",
       "  </thead>\n",
       "  <tbody>\n",
       "    <tr>\n",
       "      <th>0</th>\n",
       "      <td>Loader[data]_Splitter[demo_[1-1]]_Preprocessor...</td>\n",
       "      <td>data</td>\n",
       "      <td>demo_[1-1]</td>\n",
       "      <td>demo</td>\n",
       "      <td>demo</td>\n",
       "      <td>demo</td>\n",
       "      <td>[global]</td>\n",
       "      <td>39073</td>\n",
       "      <td>39039</td>\n",
       "      <td>27692</td>\n",
       "      <td>0.708725</td>\n",
       "      <td>0.146071</td>\n",
       "      <td>4943</td>\n",
       "      <td>1445</td>\n",
       "      <td>[1, 2, 3, 4, 5]</td>\n",
       "      <td>0.0</td>\n",
       "      <td>0.5</td>\n",
       "      <td>2.0</td>\n",
       "      <td>None</td>\n",
       "      <td>None</td>\n",
       "    </tr>\n",
       "  </tbody>\n",
       "</table>\n",
       "</div>"
      ],
      "text/plain": [
       "                                      full_expt_name Loader    Splitter  \\\n",
       "0  Loader[data]_Splitter[demo_[1-1]]_Preprocessor...   data  demo_[1-1]   \n",
       "\n",
       "  Preprocessor Synthesizer Postprocessor Evaluator  \\\n",
       "0         demo        demo          demo  [global]   \n",
       "\n",
       "   demo-mpuccs_total_syn_records  demo-mpuccs_total_ori_records  \\\n",
       "0                          39073                          39039   \n",
       "\n",
       "   demo-mpuccs_total_identified  demo-mpuccs_identification_rate  \\\n",
       "0                         27692                         0.708725   \n",
       "\n",
       "   demo-mpuccs_weighted_identification_rate  \\\n",
       "0                                  0.146071   \n",
       "\n",
       "   demo-mpuccs_total_combinations_checked  \\\n",
       "0                                    4943   \n",
       "\n",
       "   demo-mpuccs_total_combinations_pruned demo-mpuccs_config_n_cols  \\\n",
       "0                                   1445           [1, 2, 3, 4, 5]   \n",
       "\n",
       "   demo-mpuccs_config_min_entropy_delta  \\\n",
       "0                                   0.0   \n",
       "\n",
       "   demo-mpuccs_config_field_decay_factor  demo-mpuccs_config_renyi_alpha  \\\n",
       "0                                    0.5                             2.0   \n",
       "\n",
       "  demo-mpuccs_config_numeric_precision demo-mpuccs_config_datetime_precision  \n",
       "0                                 None                                  None  "
      ]
     },
     "execution_count": 3,
     "metadata": {},
     "output_type": "execute_result"
    }
   ],
   "source": [
    "exec_case.get_result()[\n",
    "    \"Loader[data]_Splitter[demo_[1-1]]_Preprocessor[demo]_Synthesizer[demo]_Postprocessor[demo]_Evaluator[demo-mpuccs]_Reporter[save_report_global]\"\n",
    "][\"[global]\"]"
   ]
  }
 ],
 "metadata": {
  "kernelspec": {
   "display_name": "petsard",
   "language": "python",
   "name": "python3"
  },
  "language_info": {
   "codemirror_mode": {
    "name": "ipython",
    "version": 3
   },
   "file_extension": ".py",
   "mimetype": "text/x-python",
   "name": "python",
   "nbconvert_exporter": "python",
   "pygments_lexer": "ipython3",
   "version": "3.11.12"
  }
 },
 "nbformat": 4,
 "nbformat_minor": 2
}
