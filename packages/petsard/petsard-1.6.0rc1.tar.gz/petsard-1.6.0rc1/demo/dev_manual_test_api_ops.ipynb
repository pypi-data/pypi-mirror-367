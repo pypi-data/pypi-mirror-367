{
 "cells": [
  {
   "cell_type": "markdown",
   "metadata": {},
   "source": [
    "# PETsARD Operator 測試\n",
    "\n",
    "這個 notebook 用來測試各個 Operator 的功能，按照 test.ipynb 的設定進行調整。"
   ]
  },
  {
   "cell_type": "markdown",
   "metadata": {},
   "source": [
    "## LoaderOperator 測試"
   ]
  },
  {
   "cell_type": "code",
   "execution_count": 1,
   "metadata": {},
   "outputs": [
    {
     "name": "stdout",
     "output_type": "stream",
     "text": [
      "data: <class 'pandas.core.frame.DataFrame'>, meta: <class 'petsard.metadater.schema.schema_types.SchemaMetadata'>\n",
      "data shape: (48842, 15)\n",
      "metadata schema_id: adult-income\n"
     ]
    }
   ],
   "source": [
    "from petsard.operator import LoaderOperator\n",
    "\n",
    "# 測試 benchmark 資料載入\n",
    "loader_op = LoaderOperator(config={\"filepath\": \"benchmark://adult-income\"})\n",
    "\n",
    "# 執行載入\n",
    "loader_op.run(input={})\n",
    "\n",
    "# 取得結果\n",
    "data = loader_op.get_result()\n",
    "meta = loader_op.get_metadata()\n",
    "\n",
    "print(f\"data: {type(data)}, meta: {type(meta)}\")\n",
    "print(f\"data shape: {data.shape}\")\n",
    "print(f\"metadata schema_id: {meta.schema_id}\")"
   ]
  },
  {
   "cell_type": "code",
   "execution_count": 2,
   "metadata": {},
   "outputs": [
    {
     "name": "stdout",
     "output_type": "stream",
     "text": [
      "data: <class 'pandas.core.frame.DataFrame'>, meta: <class 'petsard.metadater.schema.schema_types.SchemaMetadata'>\n",
      "data shape: (48842, 15)\n"
     ]
    }
   ],
   "source": [
    "# 測試本地檔案載入\n",
    "loader_op_local = LoaderOperator(config={\"filepath\": \"benchmark/adult-income.csv\"})\n",
    "\n",
    "loader_op_local.run(input={})\n",
    "\n",
    "data_local = loader_op_local.get_result()\n",
    "meta_local = loader_op_local.get_metadata()\n",
    "\n",
    "print(f\"data: {type(data_local)}, meta: {type(meta_local)}\")\n",
    "print(f\"data shape: {data_local.shape}\")"
   ]
  },
  {
   "cell_type": "markdown",
   "metadata": {},
   "source": [
    "# Just simplify"
   ]
  },
  {
   "cell_type": "code",
   "execution_count": 3,
   "metadata": {},
   "outputs": [
    {
     "data": {
      "text/plain": [
       "(100, 15)"
      ]
     },
     "execution_count": 3,
     "metadata": {},
     "output_type": "execute_result"
    }
   ],
   "source": [
    "data = data.loc[0:99, :]\n",
    "data.shape"
   ]
  },
  {
   "cell_type": "markdown",
   "metadata": {},
   "source": [
    "## SplitterOperator 測試"
   ]
  },
  {
   "cell_type": "code",
   "execution_count": 4,
   "metadata": {},
   "outputs": [
    {
     "name": "stdout",
     "output_type": "stream",
     "text": [
      "train_data: <class 'pandas.core.frame.DataFrame'>, test_data: <class 'pandas.core.frame.DataFrame'>\n",
      "train_data shape: (80, 15), test_data shape: (20, 15)\n"
     ]
    }
   ],
   "source": [
    "from petsard.operator import SplitterOperator\n",
    "\n",
    "# 測試資料分割 - 使用與 test.ipynb 相同的配置\n",
    "splitter_op = SplitterOperator(config={\"num_samples\": 5, \"train_split_ratio\": 0.8})\n",
    "\n",
    "# 準備輸入資料\n",
    "splitter_input = {\"data\": data, \"metadata\": meta, \"exclude_index\": []}\n",
    "\n",
    "splitter_op.run(input=splitter_input)\n",
    "\n",
    "# 取得分割結果 - 使用第一次分割\n",
    "split_results = splitter_op.get_result()\n",
    "split_meta = splitter_op.get_metadata()\n",
    "\n",
    "# 取得第一次分割的訓練集和測試集 - 限制只能取第一個\n",
    "train_data = split_results[\"train\"]\n",
    "test_data = split_results[\"validation\"]\n",
    "\n",
    "print(f\"train_data: {type(train_data)}, test_data: {type(test_data)}\")\n",
    "print(f\"train_data shape: {train_data.shape}, test_data shape: {test_data.shape}\")"
   ]
  },
  {
   "cell_type": "code",
   "execution_count": 5,
   "metadata": {},
   "outputs": [
    {
     "name": "stdout",
     "output_type": "stream",
     "text": [
      "Custom split result keys: dict_keys(['train', 'validation'])\n"
     ]
    }
   ],
   "source": [
    "# 測試自定義資料分割\n",
    "splitter_op_custom = SplitterOperator(\n",
    "    config={\n",
    "        \"method\": \"custom_data\",\n",
    "        \"filepath\": {\n",
    "            \"ori\": \"benchmark://adult-income_ori\",\n",
    "            \"control\": \"benchmark://adult-income_control\",\n",
    "        },\n",
    "    }\n",
    ")\n",
    "\n",
    "# 自定義資料不需要輸入資料\n",
    "splitter_op_custom.run(input={\"exclude_index\": []})\n",
    "\n",
    "custom_split_result = splitter_op_custom.get_result()\n",
    "print(f\"Custom split result keys: {custom_split_result.keys()}\")"
   ]
  },
  {
   "cell_type": "markdown",
   "metadata": {},
   "source": [
    "## PreprocessorOperator 測試"
   ]
  },
  {
   "cell_type": "code",
   "execution_count": 6,
   "metadata": {},
   "outputs": [
    {
     "name": "stdout",
     "output_type": "stream",
     "text": [
      "default_preproc_data shape: (38, 15)\n"
     ]
    }
   ],
   "source": [
    "from petsard.operator import PreprocessorOperator\n",
    "\n",
    "# 測試預設預處理\n",
    "preproc_op = PreprocessorOperator(config={\"method\": \"default\"})\n",
    "\n",
    "preproc_input = {\"data\": train_data, \"metadata\": meta}\n",
    "\n",
    "preproc_op.run(input=preproc_input)\n",
    "\n",
    "default_preproc_data = preproc_op.get_result()\n",
    "preproc_meta = preproc_op.get_metadata()\n",
    "\n",
    "print(f\"default_preproc_data shape: {default_preproc_data.shape}\")"
   ]
  },
  {
   "cell_type": "code",
   "execution_count": 7,
   "metadata": {},
   "outputs": [
    {
     "name": "stdout",
     "output_type": "stream",
     "text": [
      "missing_preproc_data shape: (80, 15)\n",
      "Age column after missing value processing:\n",
      "0    25\n",
      "1    38\n",
      "2    28\n",
      "3    44\n",
      "4    18\n",
      "5    34\n",
      "6    63\n",
      "7    24\n",
      "8    55\n",
      "9    65\n",
      "Name: age, dtype: int8\n"
     ]
    }
   ],
   "source": [
    "# 測試僅處理缺失值\n",
    "preproc_op_missing = PreprocessorOperator(\n",
    "    config={\n",
    "        \"method\": \"custom\",\n",
    "        \"config\": {\n",
    "            \"missing\": {\n",
    "                \"age\": \"missing_mean\",\n",
    "            },\n",
    "        },\n",
    "        \"sequence\": [\"missing\"],\n",
    "    }\n",
    ")\n",
    "\n",
    "preproc_op_missing.run(input=preproc_input)\n",
    "\n",
    "missing_preproc_data = preproc_op_missing.get_result()\n",
    "\n",
    "print(f\"missing_preproc_data shape: {missing_preproc_data.shape}\")\n",
    "print(\"Age column after missing value processing:\")\n",
    "print(missing_preproc_data[\"age\"].head(10))"
   ]
  },
  {
   "cell_type": "code",
   "execution_count": 8,
   "metadata": {},
   "outputs": [
    {
     "name": "stdout",
     "output_type": "stream",
     "text": [
      "outlier_preproc_data shape: (38, 15)\n",
      "Age column after outlier processing:\n",
      "0    38\n",
      "1    28\n",
      "2    18\n",
      "3    24\n",
      "4    26\n",
      "5    58\n",
      "6    20\n",
      "7    43\n",
      "8    37\n",
      "9    34\n",
      "Name: age, dtype: int8\n"
     ]
    }
   ],
   "source": [
    "# 測試僅處理離群值\n",
    "preproc_op_outlier = PreprocessorOperator(\n",
    "    config={\n",
    "        \"method\": \"custom\",\n",
    "        \"config\": {\n",
    "            \"outlier\": {\n",
    "                \"age\": \"outlier_zscore\",\n",
    "            },\n",
    "        },\n",
    "        \"sequence\": [\"outlier\"],\n",
    "    }\n",
    ")\n",
    "\n",
    "preproc_op_outlier.run(input=preproc_input)\n",
    "\n",
    "outlier_preproc_data = preproc_op_outlier.get_result()\n",
    "\n",
    "print(f\"outlier_preproc_data shape: {outlier_preproc_data.shape}\")\n",
    "print(\"Age column after outlier processing:\")\n",
    "print(outlier_preproc_data[\"age\"].head(10))"
   ]
  },
  {
   "cell_type": "code",
   "execution_count": 9,
   "metadata": {},
   "outputs": [
    {
     "name": "stdout",
     "output_type": "stream",
     "text": [
      "encoder_preproc_data shape: (80, 20)\n",
      "Workclass columns after encoding:\n",
      "   workclass_Federal-gov  workclass_Local-gov  workclass_Private  \\\n",
      "0                    0.0                  0.0                1.0   \n",
      "1                    0.0                  0.0                1.0   \n",
      "2                    0.0                  1.0                0.0   \n",
      "3                    0.0                  0.0                1.0   \n",
      "4                    0.0                  0.0                0.0   \n",
      "5                    0.0                  0.0                1.0   \n",
      "6                    0.0                  0.0                0.0   \n",
      "7                    0.0                  0.0                1.0   \n",
      "8                    0.0                  0.0                1.0   \n",
      "9                    0.0                  0.0                1.0   \n",
      "\n",
      "   workclass_Self-emp-inc  workclass_Self-emp-not-inc  workclass_State-gov  \n",
      "0                     0.0                         0.0                  0.0  \n",
      "1                     0.0                         0.0                  0.0  \n",
      "2                     0.0                         0.0                  0.0  \n",
      "3                     0.0                         0.0                  0.0  \n",
      "4                     0.0                         0.0                  0.0  \n",
      "5                     0.0                         0.0                  0.0  \n",
      "6                     0.0                         1.0                  0.0  \n",
      "7                     0.0                         0.0                  0.0  \n",
      "8                     0.0                         0.0                  0.0  \n",
      "9                     0.0                         0.0                  0.0  \n"
     ]
    }
   ],
   "source": [
    "# 測試僅編碼處理\n",
    "preproc_op_encoder = PreprocessorOperator(\n",
    "    config={\n",
    "        \"method\": \"custom\",\n",
    "        \"config\": {\n",
    "            \"encoder\": {\n",
    "                \"workclass\": \"encoder_onehot\",\n",
    "            },\n",
    "        },\n",
    "        \"sequence\": [\"encoder\"],\n",
    "    }\n",
    ")\n",
    "\n",
    "preproc_op_encoder.run(input=preproc_input)\n",
    "\n",
    "encoder_preproc_data = preproc_op_encoder.get_result()\n",
    "\n",
    "print(f\"encoder_preproc_data shape: {encoder_preproc_data.shape}\")\n",
    "print(\"Workclass columns after encoding:\")\n",
    "workclass_cols = [\n",
    "    col for col in encoder_preproc_data.columns if col.startswith(\"workclass_\")\n",
    "]\n",
    "print(encoder_preproc_data[workclass_cols].head(10))"
   ]
  },
  {
   "cell_type": "code",
   "execution_count": 10,
   "metadata": {},
   "outputs": [
    {
     "name": "stdout",
     "output_type": "stream",
     "text": [
      "scaler_preproc_data shape: (80, 15)\n",
      "Age column after scaling:\n",
      "0    0.145455\n",
      "1    0.381818\n",
      "2    0.200000\n",
      "3    0.490909\n",
      "4    0.018182\n",
      "5    0.309091\n",
      "6    0.836364\n",
      "7    0.127273\n",
      "8    0.690909\n",
      "9    0.872727\n",
      "Name: age, dtype: float64\n"
     ]
    }
   ],
   "source": [
    "# 測試僅縮放處理\n",
    "preproc_op_scaler = PreprocessorOperator(\n",
    "    config={\n",
    "        \"method\": \"custom\",\n",
    "        \"config\": {\n",
    "            \"scaler\": {\n",
    "                \"age\": \"scaler_minmax\",\n",
    "            },\n",
    "        },\n",
    "        \"sequence\": [\"scaler\"],\n",
    "    }\n",
    ")\n",
    "\n",
    "preproc_op_scaler.run(input=preproc_input)\n",
    "\n",
    "scaler_preproc_data = preproc_op_scaler.get_result()\n",
    "\n",
    "print(f\"scaler_preproc_data shape: {scaler_preproc_data.shape}\")\n",
    "print(\"Age column after scaling:\")\n",
    "print(scaler_preproc_data[\"age\"].head(10))"
   ]
  },
  {
   "cell_type": "markdown",
   "metadata": {},
   "source": [
    "## SynthesizerOperator 測試"
   ]
  },
  {
   "cell_type": "code",
   "execution_count": 11,
   "metadata": {},
   "outputs": [
    {
     "name": "stdout",
     "output_type": "stream",
     "text": [
      "syn_data shape: (38, 15)\n",
      "syn_data type: <class 'pandas.core.frame.DataFrame'>\n"
     ]
    }
   ],
   "source": [
    "from petsard.operator import SynthesizerOperator\n",
    "\n",
    "# 測試合成器 - 使用預設方法\n",
    "synth_op = SynthesizerOperator(config={\"method\": \"default\"})\n",
    "\n",
    "synth_input = {\"data\": default_preproc_data, \"metadata\": preproc_meta}\n",
    "\n",
    "synth_op.run(input=synth_input)\n",
    "\n",
    "syn_data = synth_op.get_result()\n",
    "\n",
    "print(f\"syn_data shape: {syn_data.shape}\")\n",
    "print(f\"syn_data type: {type(syn_data)}\")"
   ]
  },
  {
   "cell_type": "markdown",
   "metadata": {},
   "source": [
    "## PostprocessorOperator 測試"
   ]
  },
  {
   "cell_type": "code",
   "execution_count": 12,
   "metadata": {},
   "outputs": [
    {
     "name": "stdout",
     "output_type": "stream",
     "text": [
      "postproc_data shape: (38, 15)\n",
      "postproc_data type: <class 'pandas.core.frame.DataFrame'>\n"
     ]
    }
   ],
   "source": [
    "from petsard.operator import PostprocessorOperator\n",
    "\n",
    "# 測試後處理\n",
    "postproc_op = PostprocessorOperator(config={\"method\": \"default\"})\n",
    "\n",
    "postproc_input = {\n",
    "    \"data\": syn_data,\n",
    "    \"preprocessor\": preproc_op.processor,\n",
    "}\n",
    "\n",
    "postproc_op.run(input=postproc_input)\n",
    "\n",
    "postproc_data = postproc_op.get_result()\n",
    "\n",
    "print(f\"postproc_data shape: {postproc_data.shape}\")\n",
    "print(f\"postproc_data type: {type(postproc_data)}\")"
   ]
  },
  {
   "cell_type": "markdown",
   "metadata": {},
   "source": [
    "## ConstrainerOperator 測試"
   ]
  },
  {
   "cell_type": "code",
   "execution_count": 13,
   "metadata": {},
   "outputs": [
    {
     "name": "stdout",
     "output_type": "stream",
     "text": [
      "cnst_data shape: (38, 15)\n",
      "cnst_data type: <class 'pandas.core.frame.DataFrame'>\n"
     ]
    }
   ],
   "source": [
    "from petsard.operator import ConstrainerOperator\n",
    "\n",
    "# 測試約束器 - 空配置\n",
    "constr_op = ConstrainerOperator(config={})\n",
    "\n",
    "constr_input = {\"data\": postproc_data}\n",
    "\n",
    "constr_op.run(input=constr_input)\n",
    "\n",
    "cnst_data = constr_op.get_result()\n",
    "\n",
    "print(f\"cnst_data shape: {cnst_data.shape}\")\n",
    "print(f\"cnst_data type: {type(cnst_data)}\")"
   ]
  },
  {
   "cell_type": "code",
   "execution_count": 14,
   "metadata": {},
   "outputs": [
    {
     "name": "stdout",
     "output_type": "stream",
     "text": [
      "satisfy_data shape: (38, 15)\n"
     ]
    }
   ],
   "source": [
    "# 測試約束器 - 使用 resample_until_satisfy\n",
    "satisfy_data = constr_op.constrainer.resample_until_satisfy(\n",
    "    data=postproc_data,\n",
    "    target_rows=postproc_data.shape[0],\n",
    "    synthesizer=synth_op.synthesizer,\n",
    "    max_trials=300,\n",
    "    sampling_ratio=10.0,\n",
    "    verbose_step=10,\n",
    ")\n",
    "\n",
    "print(f\"satisfy_data shape: {satisfy_data.shape}\")"
   ]
  },
  {
   "cell_type": "markdown",
   "metadata": {},
   "source": [
    "## EvaluatorOperator 測試"
   ]
  },
  {
   "cell_type": "code",
   "execution_count": 15,
   "metadata": {},
   "outputs": [
    {
     "name": "stdout",
     "output_type": "stream",
     "text": [
      "Generating report ...\n",
      "\n",
      "(1/2) Evaluating Column Shapes: |██████████| 15/15 [00:00<00:00, 874.43it/s]|\n",
      "Column Shapes Score: 13.04%\n",
      "\n",
      "(2/2) Evaluating Column Pair Trends: |██████████| 105/105 [00:00<00:00, 242.81it/s]|\n",
      "Column Pair Trends Score: 1.95%\n",
      "\n",
      "Overall Score (Average): 7.49%\n",
      "\n",
      "Evaluation result keys: dict_keys(['global', 'columnwise', 'pairwise'])\n",
      "\n",
      "Global evaluation results:\n",
      "        Score  Column Shapes  Column Pair Trends\n",
      "result   0.07            NaN                 NaN\n",
      "\n",
      "Columnwise evaluation results:\n",
      "          Property        Metric  Score\n",
      "age  Column Shapes  KSComplement    0.0\n",
      "\n",
      "Pairwise evaluation results:\n",
      "                         Property                 Metric  Score  \\\n",
      "age workclass  Column Pair Trends  ContingencySimilarity    0.0   \n",
      "\n",
      "               Real Correlation  Synthetic Correlation Error  \n",
      "age workclass               NaN                    NaN  None  \n"
     ]
    }
   ],
   "source": [
    "from petsard.operator import EvaluatorOperator\n",
    "\n",
    "# 測試評估器 - 預設方法\n",
    "eval_op = EvaluatorOperator(config={\"method\": \"default\"})\n",
    "\n",
    "eval_input = {\n",
    "    \"data\": {\n",
    "        \"ori\": train_data,\n",
    "        \"control\": test_data,\n",
    "        \"syn\": syn_data,\n",
    "    }\n",
    "}\n",
    "\n",
    "eval_op.run(input=eval_input)\n",
    "\n",
    "eval_result = eval_op.get_result()\n",
    "\n",
    "print(f\"Evaluation result keys: {eval_result.keys()}\")\n",
    "print(\"\\nGlobal evaluation results:\")\n",
    "print(eval_result[\"global\"].head(1))\n",
    "print(\"\\nColumnwise evaluation results:\")\n",
    "print(eval_result[\"columnwise\"].head(1))\n",
    "print(\"\\nPairwise evaluation results:\")\n",
    "print(eval_result[\"pairwise\"].head(1))"
   ]
  },
  {
   "cell_type": "code",
   "execution_count": 16,
   "metadata": {},
   "outputs": [
    {
     "name": "stderr",
     "output_type": "stream",
     "text": [
      "The cardinality of the column workclass is too high. Ori: Over row numbers 80, column cardinality 7. Syn: Over row numbers 38, column cardinality 6. The column workclass is removed.\n",
      "The cardinality of the column education is too high. Ori: Over row numbers 80, column cardinality 12. Syn: Over row numbers 38, column cardinality 3. The column education is removed.\n",
      "The cardinality of the column marital-status is too high. Ori: Over row numbers 80, column cardinality 6. Syn: Over row numbers 38, column cardinality 4. The column marital-status is removed.\n",
      "The cardinality of the column occupation is too high. Ori: Over row numbers 80, column cardinality 14. Syn: Over row numbers 38, column cardinality 11. The column occupation is removed.\n",
      "The cardinality of the column relationship is too high. Ori: Over row numbers 80, column cardinality 5. Syn: Over row numbers 38, column cardinality 5. The column relationship is removed.\n"
     ]
    },
    {
     "name": "stdout",
     "output_type": "stream",
     "text": [
      "   ori_mean  ori_std  syn_mean  syn_std  diff\n",
      "0      0.79     0.04      0.71     0.02 -0.08\n"
     ]
    }
   ],
   "source": [
    "# 測試評估器 - MLUtility Classification\n",
    "eval_op_mlutility = EvaluatorOperator(\n",
    "    config={\n",
    "        \"method\": \"mlutility-classification\",\n",
    "        \"target\": \"income\",\n",
    "    }\n",
    ")\n",
    "\n",
    "eval_input_anon = {\n",
    "    \"data\": {\n",
    "        \"ori\": train_data,\n",
    "        \"control\": test_data,\n",
    "        \"syn\": satisfy_data,\n",
    "    }\n",
    "}\n",
    "\n",
    "eval_op_mlutility.run(input=eval_input_anon)\n",
    "\n",
    "eval_result_mlutility = eval_op_mlutility.get_result()\n",
    "\n",
    "print(eval_result_mlutility[\"global\"].head(1))"
   ]
  },
  {
   "cell_type": "markdown",
   "metadata": {},
   "source": [
    "## DescriberOperator 測試"
   ]
  },
  {
   "cell_type": "code",
   "execution_count": 17,
   "metadata": {},
   "outputs": [
    {
     "name": "stdout",
     "output_type": "stream",
     "text": [
      "Description result type: <class 'dict'>\n",
      "Description result keys: dict_keys(['global', 'columnwise', 'pairwise'])\n",
      "   row_count  col_count  na_count\n",
      "0         38         15         0\n",
      "      mean  median    std    min   max  kurtosis  skew     q1    q3  na_count  \\\n",
      "age  33.88   33.57  12.91  18.07  69.0      0.39  0.87  22.77  40.0       0.0   \n",
      "\n",
      "    nunique  \n",
      "age    <NA>  \n",
      "  column1 column2  corr\n",
      "0     age     age   1.0\n"
     ]
    }
   ],
   "source": [
    "from petsard.operator import DescriberOperator\n",
    "\n",
    "# 測試描述器\n",
    "desc_op = DescriberOperator(config={\"method\": \"default\"})\n",
    "\n",
    "desc_input = {\"data\": {\"data\": satisfy_data}}\n",
    "\n",
    "desc_op.run(input=desc_input)\n",
    "\n",
    "desc_result = desc_op.get_result()\n",
    "\n",
    "print(f\"Description result type: {type(desc_result)}\")\n",
    "if isinstance(desc_result, dict):\n",
    "    print(f\"Description result keys: {desc_result.keys()}\")\n",
    "\n",
    "    print(desc_result[\"global\"].head(1))\n",
    "    print(desc_result[\"columnwise\"].head(1))\n",
    "    print(desc_result[\"pairwise\"].head(1))"
   ]
  },
  {
   "cell_type": "markdown",
   "metadata": {},
   "source": [
    "## ReporterOperator 測試"
   ]
  },
  {
   "cell_type": "code",
   "execution_count": 18,
   "metadata": {},
   "outputs": [
    {
     "name": "stdout",
     "output_type": "stream",
     "text": [
      "Now is petsard_Postprocessor[exp1] save to csv...\n",
      "Save data report result: {'Postprocessor[exp1]':           age         workclass         fnlwgt     education  educational-num  \\\n",
      "0   21.368340       Federal-gov  136036.234374  Some-college        12.000000   \n",
      "1   18.192728           Private  262862.772405       HS-grad        12.000000   \n",
      "2   69.000000           Private  259823.864157       HS-grad        12.000000   \n",
      "3   30.074558      Self-emp-inc   59099.210250       HS-grad         9.026702   \n",
      "4   35.140393           Private  236828.797072       HS-grad        12.000000   \n",
      "5   39.069126         State-gov  162763.149486     Assoc-voc        12.000000   \n",
      "6   37.411303           Private  220947.186829  Some-college        10.642865   \n",
      "7   35.126467           Private  141962.609039       HS-grad        12.000000   \n",
      "8   35.732487           Private   69002.496064  Some-college         9.477471   \n",
      "9   64.298642                 ?  131163.179409       HS-grad         9.065433   \n",
      "10  53.899749                 ?  160963.986824       HS-grad        12.000000   \n",
      "11  28.100439           Private  123943.671612  Some-college        12.000000   \n",
      "12  34.310822           Private  317133.742187       HS-grad        11.058270   \n",
      "13  46.695565           Private   61525.418794       HS-grad        10.324065   \n",
      "14  48.086940           Private   62587.685103  Some-college        12.000000   \n",
      "15  48.838067           Private  307133.624267  Some-college        12.000000   \n",
      "16  23.469173         State-gov  339949.155733       HS-grad        12.000000   \n",
      "17  38.074514      Self-emp-inc  117321.902257  Some-college         9.557362   \n",
      "18  48.558500           Private   48188.055332  Some-college         9.145194   \n",
      "19  19.761918           Private   82402.060781  Some-college        12.000000   \n",
      "20  25.395177           Private  284583.879831  Some-college        12.000000   \n",
      "21  21.055614         State-gov  116108.120990  Some-college        12.000000   \n",
      "22  25.313472  Self-emp-not-inc  119085.850546       HS-grad        10.765384   \n",
      "23  40.292051      Self-emp-inc   50857.176331  Some-college         9.301318   \n",
      "24  22.540951         State-gov  102419.547161       HS-grad        12.000000   \n",
      "25  19.054530           Private  137454.597056       HS-grad        12.000000   \n",
      "26  21.833587      Self-emp-inc  164879.098389  Some-college         9.498374   \n",
      "27  21.904397           Private  125571.224600       HS-grad        12.000000   \n",
      "28  49.785820                 ?   54700.382282  Some-college        11.997626   \n",
      "29  27.632995           Private   58311.442079       HS-grad        11.976434   \n",
      "30  24.950575           Private  162147.473067       HS-grad        10.518015   \n",
      "31  32.822426  Self-emp-not-inc   49885.518751  Some-college        10.392810   \n",
      "32  40.775383           Private  161453.742530       HS-grad         9.543515   \n",
      "33  18.065856                 ?  107610.834383  Some-college        12.000000   \n",
      "34  27.479438           Private  338526.689553  Some-college        12.000000   \n",
      "35  36.187189                 ?  114650.055020       HS-grad        12.000000   \n",
      "36  39.111226                 ?  363320.966234  Some-college        12.000000   \n",
      "37  18.200105           Private  241290.303625       HS-grad        12.000000   \n",
      "\n",
      "        marital-status         occupation   relationship   race  gender  \\\n",
      "0        Never-married       Armed-Forces        Husband  White    Male   \n",
      "1   Married-civ-spouse  Machine-op-inspct  Not-in-family  White  Female   \n",
      "2        Never-married              Sales      Own-child  White    Male   \n",
      "3   Married-civ-spouse              Sales        Husband  White    Male   \n",
      "4        Never-married      Other-service      Own-child  White    Male   \n",
      "5             Divorced  Handlers-cleaners           Wife  White    Male   \n",
      "6        Never-married       Craft-repair        Husband  Black  Female   \n",
      "7        Never-married      Other-service      Unmarried  White  Female   \n",
      "8   Married-civ-spouse       Adm-clerical      Own-child  White  Female   \n",
      "9   Married-civ-spouse                  ?      Unmarried  White    Male   \n",
      "10  Married-civ-spouse                  ?  Not-in-family  White    Male   \n",
      "11  Married-civ-spouse              Sales      Own-child  White    Male   \n",
      "12  Married-civ-spouse              Sales      Own-child  White    Male   \n",
      "13       Never-married       Armed-Forces  Not-in-family  White  Female   \n",
      "14  Married-civ-spouse              Sales        Husband  White    Male   \n",
      "15  Married-civ-spouse       Adm-clerical  Not-in-family  White  Female   \n",
      "16  Married-civ-spouse       Adm-clerical           Wife  White  Female   \n",
      "17  Married-civ-spouse  Machine-op-inspct        Husband  White  Female   \n",
      "18  Married-civ-spouse       Adm-clerical      Own-child  White    Male   \n",
      "19  Married-civ-spouse              Sales  Not-in-family  White  Female   \n",
      "20       Never-married       Adm-clerical      Unmarried  White  Female   \n",
      "21       Never-married              Sales      Own-child  White    Male   \n",
      "22       Never-married     Prof-specialty      Unmarried  White    Male   \n",
      "23  Married-civ-spouse       Adm-clerical  Not-in-family  White  Female   \n",
      "24       Never-married      Other-service      Own-child  White    Male   \n",
      "25  Married-civ-spouse  Machine-op-inspct        Husband  White  Female   \n",
      "26  Married-civ-spouse   Transport-moving        Husband  White    Male   \n",
      "27  Married-civ-spouse  Handlers-cleaners        Husband  White    Male   \n",
      "28       Never-married                  ?      Own-child  White    Male   \n",
      "29       Never-married                  ?  Not-in-family  White    Male   \n",
      "30           Separated  Machine-op-inspct  Not-in-family  White  Female   \n",
      "31  Married-civ-spouse  Machine-op-inspct  Not-in-family  White  Female   \n",
      "32  Married-civ-spouse      Other-service  Not-in-family  White    Male   \n",
      "33       Never-married                  ?        Husband  White    Male   \n",
      "34  Married-civ-spouse   Transport-moving        Husband  White    Male   \n",
      "35       Never-married       Adm-clerical  Not-in-family  White  Female   \n",
      "36  Married-civ-spouse    Protective-serv        Husband  White    Male   \n",
      "37       Never-married       Craft-repair        Husband  White    Male   \n",
      "\n",
      "    capital-gain  capital-loss  hours-per-week native-country income  \n",
      "0            0.0           0.0       41.580109  United-States  <=50K  \n",
      "1            0.0           0.0       39.386854  United-States  <=50K  \n",
      "2            0.0           0.0       55.045240  United-States   >50K  \n",
      "3            0.0           0.0       33.569992  United-States  <=50K  \n",
      "4            0.0           0.0       37.957991  United-States  <=50K  \n",
      "5            0.0           0.0       50.982467  United-States  <=50K  \n",
      "6            0.0           0.0       48.417642  United-States   >50K  \n",
      "7            0.0           0.0       32.115098  United-States  <=50K  \n",
      "8            0.0           0.0       46.376744  United-States  <=50K  \n",
      "9            0.0           0.0       48.869785  United-States  <=50K  \n",
      "10           0.0           0.0       39.327870  United-States  <=50K  \n",
      "11           0.0           0.0       21.422181         Mexico  <=50K  \n",
      "12           0.0           0.0       42.343602  United-States  <=50K  \n",
      "13           0.0           0.0       42.882040  United-States  <=50K  \n",
      "14           0.0           0.0       52.018252         Mexico  <=50K  \n",
      "15           0.0           0.0       44.805047  United-States  <=50K  \n",
      "16           0.0           0.0       31.169931  United-States  <=50K  \n",
      "17           0.0           0.0       47.756046  United-States  <=50K  \n",
      "18           0.0           0.0       60.000000  United-States  <=50K  \n",
      "19           0.0           0.0       33.356252  United-States   >50K  \n",
      "20           0.0           0.0       28.118424  United-States  <=50K  \n",
      "21           0.0           0.0       39.689261  United-States   >50K  \n",
      "22           0.0           0.0       36.878308  United-States  <=50K  \n",
      "23           0.0           0.0       36.164755  United-States  <=50K  \n",
      "24           0.0           0.0       49.870081  United-States  <=50K  \n",
      "25           0.0           0.0       37.757776  United-States  <=50K  \n",
      "26           0.0           0.0       40.746018  United-States  <=50K  \n",
      "27           0.0           0.0       30.896525  United-States  <=50K  \n",
      "28           0.0           0.0       53.039642  United-States  <=50K  \n",
      "29           0.0           0.0       28.626158  United-States  <=50K  \n",
      "30           0.0           0.0       33.193803  United-States  <=50K  \n",
      "31           0.0           0.0       26.716279  United-States  <=50K  \n",
      "32           0.0           0.0       31.643934  United-States  <=50K  \n",
      "33           0.0           0.0       37.721035  United-States  <=50K  \n",
      "34           0.0           0.0       37.410607  United-States  <=50K  \n",
      "35           0.0           0.0       33.471314  United-States  <=50K  \n",
      "36           0.0           0.0       37.529374  United-States  <=50K  \n",
      "37           0.0           0.0       23.481463  United-States  <=50K  }\n"
     ]
    }
   ],
   "source": [
    "from petsard.operator import ReporterOperator\n",
    "\n",
    "# 測試報告器 - Save Data\n",
    "reporter_op_data = ReporterOperator(\n",
    "    config={\n",
    "        \"method\": \"save_data\",\n",
    "        \"source\": \"Postprocessor\",\n",
    "    }\n",
    ")\n",
    "\n",
    "report_data_input = {\"data\": {(\"Postprocessor\", \"exp1\"): satisfy_data}}\n",
    "\n",
    "reporter_op_data.run(input=report_data_input)\n",
    "\n",
    "report_result_data = reporter_op_data.get_result()\n",
    "\n",
    "print(f\"Save data report result: {report_result_data}\")"
   ]
  },
  {
   "cell_type": "code",
   "execution_count": 19,
   "metadata": {},
   "outputs": [
    {
     "name": "stdout",
     "output_type": "stream",
     "text": [
      "Now is petsard[Report]_[global] save to csv...\n",
      "Save report result: {'[global]':       full_expt_name Evaluator  eval1_row_count  eval1_col_count  \\\n",
      "0  Evaluator[global]  [global]               38               15   \n",
      "\n",
      "   eval1_na_count  \n",
      "0               0  }\n"
     ]
    }
   ],
   "source": [
    "# 測試報告器 - Save Report\n",
    "reporter_op_report = ReporterOperator(\n",
    "    config={\n",
    "        \"method\": \"save_report\",\n",
    "        \"granularity\": \"global\",\n",
    "    }\n",
    ")\n",
    "\n",
    "report_report_input = {\n",
    "    \"data\": {\n",
    "        (\"Evaluator\", \"eval1_[global]\"): desc_result[\"global\"],\n",
    "    }\n",
    "}\n",
    "\n",
    "reporter_op_report.run(input=report_report_input)\n",
    "\n",
    "report_result_report = reporter_op_report.get_result()\n",
    "\n",
    "print(f\"Save report result: {report_result_report}\")"
   ]
  },
  {
   "cell_type": "markdown",
   "metadata": {},
   "source": [
    "## 總結\n",
    "\n",
    "這個 notebook 展示了如何使用各個 Operator 類別來執行 PETsARD 的功能，按照 test.ipynb 的設定進行調整：\n",
    "\n",
    "1. **LoaderOperator**: 載入資料和元資料\n",
    "2. **SplitterOperator**: 分割資料為訓練集和測試集\n",
    "3. **PreprocessorOperator**: 資料預處理（缺失值、離群值、編碼、縮放）\n",
    "4. **SynthesizerOperator**: 合成資料\n",
    "5. **PostprocessorOperator**: 後處理合成資料\n",
    "6. **ConstrainerOperator**: 應用資料約束\n",
    "7. **EvaluatorOperator**: 評估合成資料品質\n",
    "8. **DescriberOperator**: 描述資料特性\n",
    "9. **ReporterOperator**: 生成報告\n",
    "\n",
    "每個 Operator 都遵循相同的模式：\n",
    "- 使用配置初始化\n",
    "- 準備輸入資料\n",
    "- 執行 `run()` 方法\n",
    "- 使用 `get_result()` 取得結果\n",
    "- 使用 `get_metadata()` 取得元資料（如果適用）\n",
    "\n",
    "這種設計讓每個模組都可以獨立測試，不需要依賴 Status 物件。"
   ]
  }
 ],
 "metadata": {
  "kernelspec": {
   "display_name": "petsard",
   "language": "python",
   "name": "python3"
  },
  "language_info": {
   "codemirror_mode": {
    "name": "ipython",
    "version": 3
   },
   "file_extension": ".py",
   "mimetype": "text/x-python",
   "name": "python",
   "nbconvert_exporter": "python",
   "pygments_lexer": "ipython3",
   "version": "3.11.12"
  }
 },
 "nbformat": 4,
 "nbformat_minor": 4
}
