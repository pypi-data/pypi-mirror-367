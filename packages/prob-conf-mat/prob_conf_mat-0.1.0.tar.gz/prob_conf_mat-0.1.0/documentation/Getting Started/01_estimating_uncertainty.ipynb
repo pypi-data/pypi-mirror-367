{
 "cells": [
  {
   "cell_type": "markdown",
   "metadata": {},
   "source": [
    "# 01. Estimating Uncertainty\n",
    "\n",
    "**Note**: the appearance of this notebook will depend on the environment and screen size you're using. If the tables are being clipped or the figures look off, consider trying Google Colab or Github via the buttons below. This notebook was created in VSCode, and will likely look best locally.\n",
    "\n",
    "<a target=\"_blank\" href=\"https://colab.research.google.com/github/ioverho/prob_conf_mat/blob/main/documentation/Getting%20Started/01_estimating_uncertainty.ipynb\">\n",
    "  <img alt=\"Static Badge\" src=\"https://img.shields.io/badge/Run_in_Colab-_?style=for-the-badge&logo=googlecolab&labelColor=gray&color=1082c3&link=https%3A%2F%2Fgithub.com%2Fioverho%2Fprob_conf_mat%2Fblob%2Fmain%2Fdocumentation%2FGetting%2520Started%2F01_estimating_uncertainty.ipynb\">\n",
    "</a>\n",
    "<a target=\"_blank\" href=\"https://github.com/ioverho/prob_conf_mat/blob/main/documentation/Getting%20Started/01_estimating_uncertainty.ipynb\">\n",
    "  <img alt=\"Static Badge\" src=\"https://img.shields.io/badge/View_in_Github-_?style=for-the-badge&logo=github&labelColor=gray&color=1082c3&link=https%3A%2F%2Fgithub.com%2Fioverho%2Fprob_conf_mat%2Fblob%2Fmain%2Fdocumentation%2FGetting%2520Started%2F01_estimating_uncertainty.ipynb\">\n",
    "</a>\n",
    "\n",
    "## Setup\n",
    "\n",
    "Let's pretend we just finished training a model, and we evaluated it on a tiny test data. The model's performance can be determined through the produced confusion matrix."
   ]
  },
  {
   "cell_type": "code",
   "execution_count": 1,
   "metadata": {},
   "outputs": [],
   "source": [
    "confusion_matrix = [\n",
    "    [13, 0, 0],\n",
    "    [0, 10, 6],\n",
    "    [0, 0, 9],\n",
    "]\n"
   ]
  },
  {
   "cell_type": "markdown",
   "metadata": {},
   "source": [
    "Here, the true labels (the condition) appear on the rows, and the predicted labels across the columns. So for example, for class 1, 10 examples were predicted correctly, but in 6 cases the model confused it for class 2.\n",
    "\n",
    "Let's start analysing this confusion matrix.\n",
    "\n",
    "First we instantiate a `Study` object, which will handle interfacing with the library. We pass some initial parameters:\n",
    "1. **`seed`**: the seed for the RNG, makes it reproducible\n",
    "2. **`num_samples`**: this is the number of synthetic confusion matrices to sample. The higher, the less variable the study results will, but at the cost of increased memory footprint and computation time\n",
    "3. **`ci_probability`**: the desired size of the credibility interval, a bit like the confidence intervals in frequentist statistics"
   ]
  },
  {
   "cell_type": "code",
   "execution_count": 2,
   "metadata": {},
   "outputs": [
    {
     "data": {
      "text/plain": [
       "Study(experiments=[]), metrics=[])"
      ]
     },
     "execution_count": 2,
     "metadata": {},
     "output_type": "execute_result"
    }
   ],
   "source": [
    "from prob_conf_mat import Study\n",
    "\n",
    "study = Study(\n",
    "    seed=0,\n",
    "    num_samples=10000,\n",
    "    ci_probability=0.95,\n",
    ")\n",
    "\n",
    "study\n"
   ]
  },
  {
   "cell_type": "markdown",
   "metadata": {},
   "source": [
    "The `Study` object is currently empty. Let's add the confusion matrix to it now. Feel free to ignore the warning, this will only become important later."
   ]
  },
  {
   "cell_type": "code",
   "execution_count": 3,
   "metadata": {},
   "outputs": [
    {
     "name": "stderr",
     "output_type": "stream",
     "text": [
      "/home/ioverho/prob_conf_mat/src/prob_conf_mat/config.py:311: ConfigWarning: Experiment 'test/test's prevalence prior is `None`. Defaulting to the 0 (Haldane) prior.\n",
      "  warnings.warn(\n",
      "/home/ioverho/prob_conf_mat/src/prob_conf_mat/config.py:398: ConfigWarning: Experiment 'test/test's confusion prior is `None`. Defaulting to the 0 (Haldane) prior.\n",
      "  warnings.warn(\n"
     ]
    },
    {
     "data": {
      "text/plain": [
       "Study(experiments=['test/test']), metrics=[])"
      ]
     },
     "execution_count": 3,
     "metadata": {},
     "output_type": "execute_result"
    }
   ],
   "source": [
    "study.add_experiment(experiment_name=\"test\", confusion_matrix=confusion_matrix)\n",
    "\n",
    "study\n"
   ]
  },
  {
   "cell_type": "markdown",
   "metadata": {},
   "source": [
    "Besides an experiment, we also need to add some evaluation metric to the study. This will summarize the performance of the confusion matrix. For now, let's add the accuracy metric. It's not the best option available, but it't easy to understand."
   ]
  },
  {
   "cell_type": "code",
   "execution_count": 4,
   "metadata": {},
   "outputs": [
    {
     "data": {
      "text/plain": [
       "Study(experiments=['test/test']), metrics=['accuracy'])"
      ]
     },
     "execution_count": 4,
     "metadata": {},
     "output_type": "execute_result"
    }
   ],
   "source": [
    "study.add_metric(\"accuracy\")\n",
    "\n",
    "study\n"
   ]
  },
  {
   "cell_type": "markdown",
   "metadata": {},
   "source": [
    "## Reporting\n",
    "\n",
    "That's it for the setup! We've initiated a the `Study` object, added an experiment to it, and a metric by which we want to evaluate that experiment.\n",
    "\n",
    "Now we're ready to start the analysis. For now, let's just ask for some summary statistics. The `Study` object contains a variety of methods starting with `report_*`. These usually return a string or figure for use in a notebook.\n",
    "\n",
    "Let's try `report_metric_summaries`."
   ]
  },
  {
   "cell_type": "code",
   "execution_count": 5,
   "metadata": {},
   "outputs": [
    {
     "data": {
      "text/html": [
       "<table>\n",
       "<thead>\n",
       "<tr><th>Group  </th><th>Experiment  </th><th style=\"text-align: right;\">  Observed</th><th style=\"text-align: right;\">  Median</th><th style=\"text-align: right;\">  Mode</th><th style=\"text-align: right;\">       95.0% HDI</th><th style=\"text-align: right;\">    MU</th><th style=\"text-align: right;\">   Skew</th><th style=\"text-align: right;\">  Kurt</th></tr>\n",
       "</thead>\n",
       "<tbody>\n",
       "<tr><td>test   </td><td>test        </td><td style=\"text-align: right;\">    0.8421</td><td style=\"text-align: right;\">  0.8484</td><td style=\"text-align: right;\">0.8616</td><td style=\"text-align: right;\">[0.7291, 0.9484]</td><td style=\"text-align: right;\">0.2193</td><td style=\"text-align: right;\">-0.5750</td><td style=\"text-align: right;\">0.3291</td></tr>\n",
       "</tbody>\n",
       "</table>"
      ],
      "text/plain": [
       "'<table>\\n<thead>\\n<tr><th>Group  </th><th>Experiment  </th><th style=\"text-align: right;\">  Observed</th><th style=\"text-align: right;\">  Median</th><th style=\"text-align: right;\">  Mode</th><th style=\"text-align: right;\">       95.0% HDI</th><th style=\"text-align: right;\">    MU</th><th style=\"text-align: right;\">   Skew</th><th style=\"text-align: right;\">  Kurt</th></tr>\\n</thead>\\n<tbody>\\n<tr><td>test   </td><td>test        </td><td style=\"text-align: right;\">    0.8421</td><td style=\"text-align: right;\">  0.8484</td><td style=\"text-align: right;\">0.8616</td><td style=\"text-align: right;\">[0.7291, 0.9484]</td><td style=\"text-align: right;\">0.2193</td><td style=\"text-align: right;\">-0.5750</td><td style=\"text-align: right;\">0.3291</td></tr>\\n</tbody>\\n</table>'"
      ]
     },
     "execution_count": 5,
     "metadata": {},
     "output_type": "execute_result"
    }
   ],
   "source": [
    "study.report_metric_summaries(metric=\"accuracy\", table_fmt=\"html\")\n"
   ]
  },
  {
   "cell_type": "markdown",
   "metadata": {},
   "source": [
    "This produced a table with lots of information already. Going across the columns we have:\n",
    "1. **Group**: the group to which the experiment belongs, feel free to ignore for now\n",
    "2. **Experiment**: the name of our experiment\n",
    "3. **Point**: the accuracy computed on the actual confusion matrix we passed\n",
    "4. **Median**: the median accuracy across all synthetic confusion matrices\n",
    "5. **Mode**: likewise, the mode (most common) accuracy score\n",
    "6. **95.0% HDI**: the edges of the credibility interval. This means that 95% of accuracy scores fell within the range [0.7231, 0.9452]\n",
    "7. **MU**: the Metric Uncertainty (MU), or the width of the credibility interval. The smaller, the better!\n",
    "8. **Skew**: the skewness of the distribution of accuracy scores. Here the value is negative, meaning values tend to bunch up towards the right side\n",
    "9. **Kurt**: the kurtosis of the distribution. Here the value is slightly positive, meaning the distribution has a slightly fatter tail than the standard normal distribution\n",
    "\n",
    "All together, this already gives us a more informed picture of the model's performance. An accuracy score of 0.8421 is pretty good, but given the small test dataset, it could be substantially smaller or larger, so we should take it with a grain of salt.\n",
    "\n",
    "As mentioned, accuracy is not the most informative metric. Luckily, many more evaluation metrics have been implemented. One common metric is the F1 score. Unlike accuracy, it provides a score for each class individually. This is a 'binary' metric. One common method for averaging the per-class performances is via the macro-average (just the arithmetic mean). Let's add both metrics to the study now."
   ]
  },
  {
   "cell_type": "code",
   "execution_count": 6,
   "metadata": {},
   "outputs": [
    {
     "data": {
      "text/plain": [
       "Study(experiments=['test/test']), metrics=['accuracy', 'f1', 'f1@macro'])"
      ]
     },
     "execution_count": 6,
     "metadata": {},
     "output_type": "execute_result"
    }
   ],
   "source": [
    "study.add_metric(metric=\"f1\")\n",
    "study.add_metric(metric=\"f1@macro\")\n",
    "\n",
    "study\n"
   ]
  },
  {
   "cell_type": "markdown",
   "metadata": {},
   "source": [
    "Unlike before, since F1 is a binary metric, we need to specify which class we want to look at.Let's start with class 0."
   ]
  },
  {
   "cell_type": "code",
   "execution_count": 7,
   "metadata": {},
   "outputs": [
    {
     "name": "stderr",
     "output_type": "stream",
     "text": [
      "/home/ioverho/prob_conf_mat/src/prob_conf_mat/stats/summary.py:89: RuntimeWarning: Precision loss occurred in moment calculation due to catastrophic cancellation. This occurs when the data are nearly identical. Results may be unreliable.\n",
      "  skew=stats.skew(posterior_samples),\n",
      "/home/ioverho/prob_conf_mat/src/prob_conf_mat/stats/summary.py:90: RuntimeWarning: Precision loss occurred in moment calculation due to catastrophic cancellation. This occurs when the data are nearly identical. Results may be unreliable.\n",
      "  kurtosis=stats.kurtosis(posterior_samples),\n"
     ]
    },
    {
     "data": {
      "text/html": [
       "<table>\n",
       "<thead>\n",
       "<tr><th>Group  </th><th>Experiment  </th><th style=\"text-align: right;\">  Observed</th><th style=\"text-align: right;\">  Median</th><th style=\"text-align: right;\">  Mode</th><th style=\"text-align: right;\">               95.0% HDI</th><th style=\"text-align: right;\">    MU</th><th style=\"text-align: right;\">  Skew</th><th style=\"text-align: right;\">  Kurt</th></tr>\n",
       "</thead>\n",
       "<tbody>\n",
       "<tr><td>test   </td><td>test        </td><td style=\"text-align: right;\">    1.0000</td><td style=\"text-align: right;\">  1.0000</td><td style=\"text-align: right;\">1.0000</td><td style=\"text-align: right;\">[1.0000e+00, 1.0000e+00]</td><td style=\"text-align: right;\">0.0000</td><td style=\"text-align: right;\">   nan</td><td style=\"text-align: right;\">   nan</td></tr>\n",
       "</tbody>\n",
       "</table>"
      ],
      "text/plain": [
       "'<table>\\n<thead>\\n<tr><th>Group  </th><th>Experiment  </th><th style=\"text-align: right;\">  Observed</th><th style=\"text-align: right;\">  Median</th><th style=\"text-align: right;\">  Mode</th><th style=\"text-align: right;\">               95.0% HDI</th><th style=\"text-align: right;\">    MU</th><th style=\"text-align: right;\">  Skew</th><th style=\"text-align: right;\">  Kurt</th></tr>\\n</thead>\\n<tbody>\\n<tr><td>test   </td><td>test        </td><td style=\"text-align: right;\">    1.0000</td><td style=\"text-align: right;\">  1.0000</td><td style=\"text-align: right;\">1.0000</td><td style=\"text-align: right;\">[1.0000e+00, 1.0000e+00]</td><td style=\"text-align: right;\">0.0000</td><td style=\"text-align: right;\">   nan</td><td style=\"text-align: right;\">   nan</td></tr>\\n</tbody>\\n</table>'"
      ]
     },
     "execution_count": 7,
     "metadata": {},
     "output_type": "execute_result"
    }
   ],
   "source": [
    "study.report_metric_summaries(metric=\"f1\", class_label=0, table_fmt=\"html\")\n"
   ]
  },
  {
   "cell_type": "markdown",
   "metadata": {},
   "source": [
    "Looks like something went wrong... Apparently there's a 100% chance that the F1 score is perfect. Given the size of the test set, we would expect to see some ambiguity.\n",
    "\n",
    "When we look at macro F1, this doesn't happen (note how I didn't have to use the `class_label` parameter with a multi-class metric)."
   ]
  },
  {
   "cell_type": "code",
   "execution_count": 8,
   "metadata": {},
   "outputs": [
    {
     "data": {
      "text/html": [
       "<table>\n",
       "<thead>\n",
       "<tr><th>Group  </th><th>Experiment  </th><th style=\"text-align: right;\">  Observed</th><th style=\"text-align: right;\">  Median</th><th style=\"text-align: right;\">  Mode</th><th style=\"text-align: right;\">       95.0% HDI</th><th style=\"text-align: right;\">    MU</th><th style=\"text-align: right;\">   Skew</th><th style=\"text-align: right;\">  Kurt</th></tr>\n",
       "</thead>\n",
       "<tbody>\n",
       "<tr><td>test   </td><td>test        </td><td style=\"text-align: right;\">    0.8397</td><td style=\"text-align: right;\">  0.8391</td><td style=\"text-align: right;\">0.8377</td><td style=\"text-align: right;\">[0.7309, 0.9456]</td><td style=\"text-align: right;\">0.2148</td><td style=\"text-align: right;\">-0.4102</td><td style=\"text-align: right;\">0.0136</td></tr>\n",
       "</tbody>\n",
       "</table>"
      ],
      "text/plain": [
       "'<table>\\n<thead>\\n<tr><th>Group  </th><th>Experiment  </th><th style=\"text-align: right;\">  Observed</th><th style=\"text-align: right;\">  Median</th><th style=\"text-align: right;\">  Mode</th><th style=\"text-align: right;\">       95.0% HDI</th><th style=\"text-align: right;\">    MU</th><th style=\"text-align: right;\">   Skew</th><th style=\"text-align: right;\">  Kurt</th></tr>\\n</thead>\\n<tbody>\\n<tr><td>test   </td><td>test        </td><td style=\"text-align: right;\">    0.8397</td><td style=\"text-align: right;\">  0.8391</td><td style=\"text-align: right;\">0.8377</td><td style=\"text-align: right;\">[0.7309, 0.9456]</td><td style=\"text-align: right;\">0.2148</td><td style=\"text-align: right;\">-0.4102</td><td style=\"text-align: right;\">0.0136</td></tr>\\n</tbody>\\n</table>'"
      ]
     },
     "execution_count": 8,
     "metadata": {},
     "output_type": "execute_result"
    }
   ],
   "source": [
    "study.report_metric_summaries(metric=\"f1@macro\", table_fmt=\"html\")\n"
   ]
  },
  {
   "cell_type": "markdown",
   "metadata": {},
   "source": [
    "So why does this happen? Well, when we look at the confusion matrix we fed into the study, we can see that condition 0 does not have any false negatives (first row), nor any false positive (first column)."
   ]
  },
  {
   "cell_type": "code",
   "execution_count": 9,
   "metadata": {},
   "outputs": [
    {
     "data": {
      "text/plain": [
       "array([[13,  0,  0],\n",
       "       [ 0, 10,  6],\n",
       "       [ 0,  0,  9]])"
      ]
     },
     "execution_count": 9,
     "metadata": {},
     "output_type": "execute_result"
    }
   ],
   "source": [
    "study[\"test/test\"].confusion_matrix\n"
   ]
  },
  {
   "cell_type": "markdown",
   "metadata": {},
   "source": [
    "Given that we have only 38 samples, it seems improbable that our classifier has a 100% probability of having a perfect accuracy score. So how do we bake this bias into the analysis?\n",
    "\n",
    "### Prior Configuration\n",
    "\n",
    "By default, the prior used in sampling the synthetic confusion matrices is 0, which is truly uninformative. However, this also means the synthetic confusion matrices will never include unseen (condition, prediction) combinations. We can fix this easily though by setting a (still uninformative) prior. Ignore the following error, it just means we're overwriting our existing experiment configuration."
   ]
  },
  {
   "cell_type": "code",
   "execution_count": 10,
   "metadata": {},
   "outputs": [
    {
     "name": "stderr",
     "output_type": "stream",
     "text": [
      "/home/ioverho/prob_conf_mat/src/prob_conf_mat/experiment_group.py:132: UserWarning: Experiment 'test/test' already exists. Overwriting.\n",
      "  warn(\n"
     ]
    },
    {
     "data": {
      "text/html": [
       "<table>\n",
       "<thead>\n",
       "<tr><th>Group  </th><th>Experiment  </th><th style=\"text-align: right;\">  Observed</th><th style=\"text-align: right;\">  Median</th><th style=\"text-align: right;\">  Mode</th><th style=\"text-align: right;\">       95.0% HDI</th><th style=\"text-align: right;\">    MU</th><th style=\"text-align: right;\">   Skew</th><th style=\"text-align: right;\">  Kurt</th></tr>\n",
       "</thead>\n",
       "<tbody>\n",
       "<tr><td>test   </td><td>test        </td><td style=\"text-align: right;\">    1.0000</td><td style=\"text-align: right;\">  0.8820</td><td style=\"text-align: right;\">0.9106</td><td style=\"text-align: right;\">[0.7428, 0.9710]</td><td style=\"text-align: right;\">0.2283</td><td style=\"text-align: right;\">-0.9474</td><td style=\"text-align: right;\">1.2644</td></tr>\n",
       "</tbody>\n",
       "</table>"
      ],
      "text/plain": [
       "'<table>\\n<thead>\\n<tr><th>Group  </th><th>Experiment  </th><th style=\"text-align: right;\">  Observed</th><th style=\"text-align: right;\">  Median</th><th style=\"text-align: right;\">  Mode</th><th style=\"text-align: right;\">       95.0% HDI</th><th style=\"text-align: right;\">    MU</th><th style=\"text-align: right;\">   Skew</th><th style=\"text-align: right;\">  Kurt</th></tr>\\n</thead>\\n<tbody>\\n<tr><td>test   </td><td>test        </td><td style=\"text-align: right;\">    1.0000</td><td style=\"text-align: right;\">  0.8820</td><td style=\"text-align: right;\">0.9106</td><td style=\"text-align: right;\">[0.7428, 0.9710]</td><td style=\"text-align: right;\">0.2283</td><td style=\"text-align: right;\">-0.9474</td><td style=\"text-align: right;\">1.2644</td></tr>\\n</tbody>\\n</table>'"
      ]
     },
     "execution_count": 10,
     "metadata": {},
     "output_type": "execute_result"
    }
   ],
   "source": [
    "study.add_experiment(\n",
    "    \"test\",\n",
    "    confusion_matrix=confusion_matrix,\n",
    "    confusion_prior=1.0,\n",
    "    prevalence_prior=1.0,\n",
    ")\n",
    "\n",
    "study.report_metric_summaries(metric=\"f1\", class_label=0, table_fmt=\"html\")\n"
   ]
  },
  {
   "cell_type": "markdown",
   "metadata": {},
   "source": [
    "Now when we ask for metric summaries, we get far more sensible output. Indeed, the F1 score for class 0 is still (probably) decent, but a perfect 1.0 seems somewhat high. We should expect to see scores between in the range [0.7428, 0.9710], with a good point estimate being 0.8820.\n",
    "\n",
    "## Plotting\n",
    "\n",
    "Those numbers are nice and all, but it doesn't really provide use with an 'intuition' of what the distribution is like. Luckily, we've got that covered as well. Simply use the study's `plot_metric_summaries` instead we get a kernel-density estimate of the sampled metric distribution.\n",
    "\n",
    "The median is given by a dashed line, with smaller solid lines to its left and right giving the HDI range. On the extremes of the x-axis we see marks denoting the maximum and minimum sampled value. Finally, a diamond along the x-axis gives the true, observed metric value."
   ]
  },
  {
   "cell_type": "code",
   "execution_count": 11,
   "metadata": {},
   "outputs": [
    {
     "data": {
      "image/png": "[encoded data removed]",
      "text/plain": [
       "<Figure size 629.921x250 with 1 Axes>"
      ]
     },
     "metadata": {},
     "output_type": "display_data"
    }
   ],
   "source": [
    "fig = study.plot_metric_summaries(metric=\"f1\", class_label=0);\n"
   ]
  },
  {
   "cell_type": "markdown",
   "metadata": {},
   "source": [
    "Admittedly, the default figure is a bit... bland. Luckily, the plots are highly configurable, making it easy to customize the look for your own down-stream reports/papers."
   ]
  },
  {
   "cell_type": "code",
   "execution_count": 12,
   "metadata": {},
   "outputs": [
    {
     "data": {
      "image/png": "[encoded data removed]",
      "text/plain": [
       "<Figure size 690x340 with 1 Axes>"
      ]
     },
     "metadata": {},
     "output_type": "display_data"
    }
   ],
   "source": [
    "fig = study.plot_metric_summaries(\n",
    "    metric=\"f1\",\n",
    "    class_label=0,\n",
    "    method=\"histogram\",\n",
    "    bins=50,\n",
    "    edge_colour=\"tab:blue\",\n",
    "    area_colour=\"tab:blue\",\n",
    "    area_alpha=1.0,\n",
    "    hdi_lines_colour=\"white\",\n",
    "    median_line_format=\"-.\",\n",
    "    figsize=(6.9, 3.4),\n",
    "    xlim=(0.7, 1.0),\n",
    ");\n"
   ]
  },
  {
   "cell_type": "markdown",
   "metadata": {},
   "source": [
    "## Next Steps\n",
    "\n",
    "In the [next tutorial](https://ioverho.github.io/prob_conf_mat/Getting%20Started/02_comparing_experiments), we'll cover how to perform significance tests between experiments, and against baselines.\n",
    "\n",
    "For more on configuring `Study` objects, metrics and confusion matrices:\n",
    "\n",
    "* Check out the [`Study` documentation](https://ioverho.github.io/prob_conf_mat/Reference/Study) to get a sense of what a `Study` can do\n",
    "* Check out the [how-to guide on `Study` configuration](https://ioverho.github.io/prob_conf_mat/How%20To%20Guides/configuration) to discover more advanced configuration settings\n",
    "* Check out the [how-to guide on composing metrics & averaging methods](https://www.ioverho.github.io/prob_conf_mat/How%20To%20Guides/metric_syntax) to figure out which metrics you can use out of the box\n",
    "* Check out the [how-to guide on priors](https://ioverho.github.io/prob_conf_mat/How%20To%20Guides/choosing_a_prior) to find out which prior hyperparameters can be used, and which are recommended\n",
    "* See the [explainer on generating confusion matrices](https://www.ioverho.github.io/prob_conf_mat/Explanation/generating_confusion_matrices)"
   ]
  }
 ],
 "metadata": {
  "kernelspec": {
   "display_name": "notebooks",
   "language": "python",
   "name": "python3"
  },
  "language_info": {
   "codemirror_mode": {
    "name": "ipython",
    "version": 3
   },
   "file_extension": ".py",
   "mimetype": "text/x-python",
   "name": "python",
   "nbconvert_exporter": "python",
   "pygments_lexer": "ipython3",
   "version": "3.11.11"
  }
 },
 "nbformat": 4,
 "nbformat_minor": 2
}
